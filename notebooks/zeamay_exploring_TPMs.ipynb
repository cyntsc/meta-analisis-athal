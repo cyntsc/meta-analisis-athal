{
 "cells": [
  {
   "cell_type": "markdown",
   "metadata": {},
   "source": [
    "# Gráficos de ditribución normal\n",
    "## Dataset3: Plantas angioespermas en interacción con hongo ascomycete patogeno\n",
    "Conteos obtenidos con la herramienta Salmon a partir de datos crudos extraidos del SRA-NCBI\n"
   ]
  },
  {
   "cell_type": "code",
   "execution_count": 7,
   "metadata": {},
   "outputs": [],
   "source": [
    "import pandas as pd\n",
    "import numpy as np\n",
    "#from scipy.stats import norm\n",
    "import matplotlib.pyplot as plt"
   ]
  },
  {
   "cell_type": "code",
   "execution_count": 8,
   "metadata": {},
   "outputs": [
    {
     "data": {
      "text/html": [
       "<div>\n",
       "<style scoped>\n",
       "    .dataframe tbody tr th:only-of-type {\n",
       "        vertical-align: middle;\n",
       "    }\n",
       "\n",
       "    .dataframe tbody tr th {\n",
       "        vertical-align: top;\n",
       "    }\n",
       "\n",
       "    .dataframe thead th {\n",
       "        text-align: right;\n",
       "    }\n",
       "</style>\n",
       "<table border=\"1\" class=\"dataframe\">\n",
       "  <thead>\n",
       "    <tr style=\"text-align: right;\">\n",
       "      <th></th>\n",
       "      <th>Name</th>\n",
       "      <th>Length</th>\n",
       "      <th>EffectiveLength</th>\n",
       "      <th>TPM</th>\n",
       "      <th>NumReads</th>\n",
       "    </tr>\n",
       "  </thead>\n",
       "  <tbody>\n",
       "    <tr>\n",
       "      <th>0</th>\n",
       "      <td>TRINITY_DN688_c0_g1_i1</td>\n",
       "      <td>351</td>\n",
       "      <td>102.003</td>\n",
       "      <td>78.489229</td>\n",
       "      <td>28.0</td>\n",
       "    </tr>\n",
       "    <tr>\n",
       "      <th>1</th>\n",
       "      <td>TRINITY_DN600_c0_g1_i1</td>\n",
       "      <td>326</td>\n",
       "      <td>77.092</td>\n",
       "      <td>74.179055</td>\n",
       "      <td>20.0</td>\n",
       "    </tr>\n",
       "    <tr>\n",
       "      <th>2</th>\n",
       "      <td>TRINITY_DN685_c0_g1_i1</td>\n",
       "      <td>441</td>\n",
       "      <td>192.000</td>\n",
       "      <td>56.590790</td>\n",
       "      <td>38.0</td>\n",
       "    </tr>\n",
       "    <tr>\n",
       "      <th>3</th>\n",
       "      <td>TRINITY_DN655_c0_g1_i1</td>\n",
       "      <td>1116</td>\n",
       "      <td>867.000</td>\n",
       "      <td>27.702795</td>\n",
       "      <td>84.0</td>\n",
       "    </tr>\n",
       "    <tr>\n",
       "      <th>4</th>\n",
       "      <td>TRINITY_DN640_c0_g1_i1</td>\n",
       "      <td>652</td>\n",
       "      <td>403.000</td>\n",
       "      <td>50.375190</td>\n",
       "      <td>71.0</td>\n",
       "    </tr>\n",
       "  </tbody>\n",
       "</table>\n",
       "</div>"
      ],
      "text/plain": [
       "                     Name  Length  EffectiveLength        TPM  NumReads\n",
       "0  TRINITY_DN688_c0_g1_i1     351          102.003  78.489229      28.0\n",
       "1  TRINITY_DN600_c0_g1_i1     326           77.092  74.179055      20.0\n",
       "2  TRINITY_DN685_c0_g1_i1     441          192.000  56.590790      38.0\n",
       "3  TRINITY_DN655_c0_g1_i1    1116          867.000  27.702795      84.0\n",
       "4  TRINITY_DN640_c0_g1_i1     652          403.000  50.375190      71.0"
      ]
     },
     "execution_count": 8,
     "metadata": {},
     "output_type": "execute_result"
    }
   ],
   "source": [
    "# Generate some data for this demonstration.\n",
    "#data = norm.rvs(10.0, 2.5, size=500)\n",
    "# Import Data\n",
    "dataf = pd.read_csv('/home/cyntsc/Proyectos/tesis-code/meta-xtrome-analysis/Dataset3_counts/quant-ZeaMay24-raw.sf', sep='\\t')\n",
    "\n",
    "# Fit a normal distribution to the data:\n",
    "# mu, std = norm.fit(data)\n",
    "\n",
    "#list(dataf.columns)\n",
    "dataf.head(5)"
   ]
  },
  {
   "cell_type": "code",
   "execution_count": 9,
   "metadata": {},
   "outputs": [
    {
     "data": {
      "text/html": [
       "<div>\n",
       "<style scoped>\n",
       "    .dataframe tbody tr th:only-of-type {\n",
       "        vertical-align: middle;\n",
       "    }\n",
       "\n",
       "    .dataframe tbody tr th {\n",
       "        vertical-align: top;\n",
       "    }\n",
       "\n",
       "    .dataframe thead th {\n",
       "        text-align: right;\n",
       "    }\n",
       "</style>\n",
       "<table border=\"1\" class=\"dataframe\">\n",
       "  <thead>\n",
       "    <tr style=\"text-align: right;\">\n",
       "      <th></th>\n",
       "      <th>Name</th>\n",
       "      <th>NumReads</th>\n",
       "      <th>TPM</th>\n",
       "    </tr>\n",
       "  </thead>\n",
       "  <tbody>\n",
       "    <tr>\n",
       "      <th>0</th>\n",
       "      <td>TRINITY_DN688_c0_g1_i1</td>\n",
       "      <td>28.0</td>\n",
       "      <td>78.489229</td>\n",
       "    </tr>\n",
       "    <tr>\n",
       "      <th>1</th>\n",
       "      <td>TRINITY_DN600_c0_g1_i1</td>\n",
       "      <td>20.0</td>\n",
       "      <td>74.179055</td>\n",
       "    </tr>\n",
       "    <tr>\n",
       "      <th>2</th>\n",
       "      <td>TRINITY_DN685_c0_g1_i1</td>\n",
       "      <td>38.0</td>\n",
       "      <td>56.590790</td>\n",
       "    </tr>\n",
       "    <tr>\n",
       "      <th>3</th>\n",
       "      <td>TRINITY_DN655_c0_g1_i1</td>\n",
       "      <td>84.0</td>\n",
       "      <td>27.702795</td>\n",
       "    </tr>\n",
       "    <tr>\n",
       "      <th>4</th>\n",
       "      <td>TRINITY_DN640_c0_g1_i1</td>\n",
       "      <td>71.0</td>\n",
       "      <td>50.375190</td>\n",
       "    </tr>\n",
       "  </tbody>\n",
       "</table>\n",
       "</div>"
      ],
      "text/plain": [
       "                     Name  NumReads        TPM\n",
       "0  TRINITY_DN688_c0_g1_i1      28.0  78.489229\n",
       "1  TRINITY_DN600_c0_g1_i1      20.0  74.179055\n",
       "2  TRINITY_DN685_c0_g1_i1      38.0  56.590790\n",
       "3  TRINITY_DN655_c0_g1_i1      84.0  27.702795\n",
       "4  TRINITY_DN640_c0_g1_i1      71.0  50.375190"
      ]
     },
     "execution_count": 9,
     "metadata": {},
     "output_type": "execute_result"
    }
   ],
   "source": [
    "def select_columns(data_frame, column_names):\n",
    "    new_frame = data_frame.loc[:, column_names]\n",
    "    return new_frame\n",
    "\n",
    "selected_columns = ['Name','NumReads','TPM']\n",
    "dataf = select_columns(dataf, selected_columns)\n",
    "\n",
    "dataf.head(5)"
   ]
  },
  {
   "cell_type": "code",
   "execution_count": 10,
   "metadata": {},
   "outputs": [
    {
     "data": {
      "text/plain": [
       "NumReads     8725.527000\n",
       "TPM         48773.745983\n",
       "dtype: float64"
      ]
     },
     "execution_count": 10,
     "metadata": {},
     "output_type": "execute_result"
    }
   ],
   "source": [
    "#Get max value of the numeric cols\n",
    "dataf.select_dtypes(include=[np.number]).max()\n",
    "dataf.describe()"
   ]
  },
  {
   "cell_type": "code",
   "execution_count": 6,
   "metadata": {},
   "outputs": [
    {
     "name": "stderr",
     "output_type": "stream",
     "text": [
      "/home/cyntsc/Proyectos/tesis-code/jn_tesis_env/lib/python3.6/site-packages/pandas/plotting/_matplotlib/core.py:1192: UserWarning: FixedFormatter should only be used together with FixedLocator\n",
      "  ax.set_xticklabels(xticklabels)\n"
     ]
    },
    {
     "data": {
      "text/plain": [
       "<AxesSubplot:xlabel='Name'>"
      ]
     },
     "execution_count": 6,
     "metadata": {},
     "output_type": "execute_result"
    },
    {
     "data": {
      "text/plain": [
       "<Figure size 1440x720 with 0 Axes>"
      ]
     },
     "metadata": {},
     "output_type": "display_data"
    },
    {
     "data": {
      "image/png": "[encoded data removed]",
      "text/plain": [
       "<Figure size 432x288 with 1 Axes>"
      ]
     },
     "metadata": {
      "needs_background": "light"
     },
     "output_type": "display_data"
    }
   ],
   "source": [
    "plt.figure(figsize=(20,10))\n",
    "dataf.plot(kind='line',x='Name',y='NumReads')\n",
    "#dataf.plot(kind='line',x='Name',y='TPM')\n",
    "\n"
   ]
  },
  {
   "cell_type": "code",
   "execution_count": 57,
   "metadata": {},
   "outputs": [
    {
     "name": "stdout",
     "output_type": "stream",
     "text": [
      "[ 1.86819701 -0.71813246 -0.6030687  -0.22449853 -0.83235157  1.84429352\n",
      "  1.08165061  0.36736766 -0.06694636  0.21372941  0.3719056   1.13110546\n",
      "  0.71410971 -0.27589187  0.46036729 -0.23906053 -1.52570558  0.20515887\n",
      "  0.57312488 -0.30794441  0.14648835  0.83663867  0.94470063  0.81499393\n",
      " -0.492533   -1.06632626 -0.3512361   1.31298731  0.08433004  0.27785418\n",
      " -1.34856753 -1.39785103 -0.20760635 -1.72199496  0.88545217 -0.48663697\n",
      " -0.8472089  -0.96412443  1.40209298 -0.26074853 -0.40509575 -1.10538797\n",
      "  1.62527387  1.32851677  0.28981822 -1.26493366  0.75343366  1.46267329\n",
      " -1.43610353 -0.89126962  0.39441341 -0.05843752  1.31702133  1.11990878\n",
      "  0.12979367 -1.96394434  1.56760004 -1.71857024 -1.05951031  0.43157017\n",
      " -0.47892119  0.97733019 -2.02598386  0.0427346   1.22096013 -1.29245959\n",
      "  0.27285952 -0.8954121   0.50186558  0.02061112 -0.87854767  0.95745871\n",
      "  0.37456384  0.23061072  0.5413763   2.08964544 -0.91808642 -0.96922642\n",
      "  0.4157754  -0.50968924 -0.03818978  0.66569886 -0.45327699 -0.87801415\n",
      " -1.16393299  0.88096794 -2.15489771 -2.22114338 -1.22079391  0.01093973\n",
      " -0.08222145  0.37409015 -2.60434615 -1.07226779 -1.63927769  0.16177166\n",
      "  1.73538944 -0.44360607  0.10611438 -0.27111518]\n"
     ]
    },
    {
     "data": {
      "image/png": "[encoded data removed]",
      "text/plain": [
       "<Figure size 432x288 with 1 Axes>"
      ]
     },
     "metadata": {
      "needs_background": "light"
     },
     "output_type": "display_data"
    }
   ],
   "source": [
    "import seaborn as sns\n",
    "x = np.random.normal(size=100)\n",
    "print(x)\n",
    "sns.distplot(x);\n"
   ]
  },
  {
   "cell_type": "code",
   "execution_count": null,
   "metadata": {},
   "outputs": [],
   "source": []
  },
  {
   "cell_type": "code",
   "execution_count": 16,
   "metadata": {
    "collapsed": true
   },
   "outputs": [
    {
     "ename": "TypeError",
     "evalue": "ufunc 'isfinite' not supported for the input types, and the inputs could not be safely coerced to any supported types according to the casting rule ''safe''",
     "output_type": "error",
     "traceback": [
      "\u001b[0;31m---------------------------------------------------------------------------\u001b[0m",
      "\u001b[0;31mTypeError\u001b[0m                                 Traceback (most recent call last)",
      "\u001b[0;32m<ipython-input-16-660a09511242>\u001b[0m in \u001b[0;36m<module>\u001b[0;34m\u001b[0m\n\u001b[0;32m----> 1\u001b[0;31m \u001b[0mmu\u001b[0m\u001b[0;34m,\u001b[0m \u001b[0mstd\u001b[0m \u001b[0;34m=\u001b[0m \u001b[0mnorm\u001b[0m\u001b[0;34m.\u001b[0m\u001b[0mfit\u001b[0m\u001b[0;34m(\u001b[0m\u001b[0mdataf\u001b[0m\u001b[0;34m)\u001b[0m\u001b[0;34m\u001b[0m\u001b[0;34m\u001b[0m\u001b[0m\n\u001b[0m\u001b[1;32m      2\u001b[0m \u001b[0mprint\u001b[0m \u001b[0;34m(\u001b[0m\u001b[0mmu\u001b[0m\u001b[0;34m,\u001b[0m \u001b[0mstd\u001b[0m\u001b[0;34m)\u001b[0m\u001b[0;34m\u001b[0m\u001b[0;34m\u001b[0m\u001b[0m\n",
      "\u001b[0;32m~/anaconda3/lib/python3.7/site-packages/scipy/stats/_continuous_distns.py\u001b[0m in \u001b[0;36mfit\u001b[0;34m(self, data, **kwds)\u001b[0m\n\u001b[1;32m    285\u001b[0m         \u001b[0mdata\u001b[0m \u001b[0;34m=\u001b[0m \u001b[0mnp\u001b[0m\u001b[0;34m.\u001b[0m\u001b[0masarray\u001b[0m\u001b[0;34m(\u001b[0m\u001b[0mdata\u001b[0m\u001b[0;34m)\u001b[0m\u001b[0;34m\u001b[0m\u001b[0;34m\u001b[0m\u001b[0m\n\u001b[1;32m    286\u001b[0m \u001b[0;34m\u001b[0m\u001b[0m\n\u001b[0;32m--> 287\u001b[0;31m         \u001b[0;32mif\u001b[0m \u001b[0;32mnot\u001b[0m \u001b[0mnp\u001b[0m\u001b[0;34m.\u001b[0m\u001b[0misfinite\u001b[0m\u001b[0;34m(\u001b[0m\u001b[0mdata\u001b[0m\u001b[0;34m)\u001b[0m\u001b[0;34m.\u001b[0m\u001b[0mall\u001b[0m\u001b[0;34m(\u001b[0m\u001b[0;34m)\u001b[0m\u001b[0;34m:\u001b[0m\u001b[0;34m\u001b[0m\u001b[0;34m\u001b[0m\u001b[0m\n\u001b[0m\u001b[1;32m    288\u001b[0m             \u001b[0;32mraise\u001b[0m \u001b[0mRuntimeError\u001b[0m\u001b[0;34m(\u001b[0m\u001b[0;34m\"The data contains non-finite values.\"\u001b[0m\u001b[0;34m)\u001b[0m\u001b[0;34m\u001b[0m\u001b[0;34m\u001b[0m\u001b[0m\n\u001b[1;32m    289\u001b[0m \u001b[0;34m\u001b[0m\u001b[0m\n",
      "\u001b[0;31mTypeError\u001b[0m: ufunc 'isfinite' not supported for the input types, and the inputs could not be safely coerced to any supported types according to the casting rule ''safe''"
     ]
    }
   ],
   "source": []
  },
  {
   "cell_type": "code",
   "execution_count": 20,
   "metadata": {},
   "outputs": [],
   "source": []
  },
  {
   "cell_type": "code",
   "execution_count": 23,
   "metadata": {},
   "outputs": [],
   "source": []
  },
  {
   "cell_type": "code",
   "execution_count": null,
   "metadata": {},
   "outputs": [],
   "source": []
  }
 ],
 "metadata": {
  "kernelspec": {
   "display_name": "Python 3",
   "language": "python",
   "name": "python3"
  },
  "language_info": {
   "codemirror_mode": {
    "name": "ipython",
    "version": 3
   },
   "file_extension": ".py",
   "mimetype": "text/x-python",
   "name": "python",
   "nbconvert_exporter": "python",
   "pygments_lexer": "ipython3",
   "version": "3.6.9"
  }
 },
 "nbformat": 4,
 "nbformat_minor": 4
}
