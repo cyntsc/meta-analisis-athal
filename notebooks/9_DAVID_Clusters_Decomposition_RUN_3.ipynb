{
 "cells": [
  {
   "cell_type": "markdown",
   "id": "afa2791a",
   "metadata": {},
   "source": [
    "## Decompouse the output file (clusterization) produced with DAVID Tool\n",
    "\n",
    "**Goal: get individual clusters to analize with VisANT Tool.** <br>\n",
    "Decompouse the clusterization file (output) gotten with DAVID Tool into cluster files (one by cluster)<br><br>\n",
    "### RUN 3: Custom\n",
    "**Input:** David_clustering_Run1c.txt<br>\n",
    "Classification MID; kappa Similarity MID; Similarity Overlap Term 4; Multi-linkage Sim 0.75\t(HIGH) <br>\n",
    "Clusters found: 6<br>\n",
    "**Output:** 1) run*_clustx.txt; 2) run*_clust_unique_genes_*.txt; 3) run*_Annotation_clusters_ETest.csv; 4) run*_meta-data_clusters.txt <br>\n",
    "Made by: Cynthia Soto<br>\n",
    "Date: March 2th, 2022<br>\n",
    "Last md: March 9th, 2022<br>\n",
    "\n",
    "**Assumptions:**<br>\n",
    "You have a text file make it with DAVID Tool to extract the information (gene names). \n",
    "\n",
    "**Important NOTE:**<br>\n",
    "To correctly parse the DAVID clustering file generated & downloaded with DAVID Tool v. 6.8 (from January 2022), you need to add in the first line of the file a column header; g.e: (note that it is the same used to label the clusters, just copy and paste)\n",
    "**Category\tTerm\tCount\t%\tPValue\tGenes\tList Total\tPop Hits\tPop Total\tFold Enrichment\tBonferroni\tBenjamini\tFDR**"
   ]
  },
  {
   "cell_type": "code",
   "execution_count": 16,
   "id": "0b096ee9",
   "metadata": {},
   "outputs": [],
   "source": [
    "import os\n",
    "import glob\n",
    "import pandas as pd\n",
    "import matplotlib.pyplot as plt\n",
    "\n",
    "run = 'run3'"
   ]
  },
  {
   "cell_type": "code",
   "execution_count": 2,
   "id": "3ebe95c2",
   "metadata": {},
   "outputs": [
    {
     "name": "stdout",
     "output_type": "stream",
     "text": [
      "Directory changed: /home/cyntsc/Proyectos/tesis-code/meta-xtrome-analysis/results-data/MG_DarkMagenta_WGCNA_DAVID_VisANT\n"
     ]
    }
   ],
   "source": [
    "# Set the base directory\n",
    "try:\n",
    "    # Change the current working Directory      \n",
    "    os.chdir(\"/home/cyntsc/Proyectos/tesis-code/meta-xtrome-analysis/results-data/MG_DarkMagenta_WGCNA_DAVID_VisANT\")\n",
    "    print(\"Directory changed:\", os.getcwd() )\n",
    "except OSError:\n",
    "    print(\"Can't change the Current Working Directory\")        \n",
    "#print(os.listdir(os.getcwd())  "
   ]
  },
  {
   "cell_type": "code",
   "execution_count": 3,
   "id": "e425917f",
   "metadata": {},
   "outputs": [
    {
     "data": {
      "text/plain": [
       "'/home/cyntsc/Proyectos/tesis-code/meta-xtrome-analysis/results-data/MG_DarkMagenta_WGCNA_DAVID_VisANT/*.txt'"
      ]
     },
     "execution_count": 3,
     "metadata": {},
     "output_type": "execute_result"
    }
   ],
   "source": [
    "## check a bit of the files to be processed ... are they ok?\n",
    "s_path = str(os.getcwd())+'/*.txt'\n",
    "s_path"
   ]
  },
  {
   "cell_type": "code",
   "execution_count": 4,
   "id": "d0aa7b83",
   "metadata": {},
   "outputs": [
    {
     "name": "stdout",
     "output_type": "stream",
     "text": [
      "/home/cyntsc/Proyectos/tesis-code/meta-xtrome-analysis/results-data/MG_DarkMagenta_WGCNA_DAVID_VisANT/David_clustering_Run3b.txt\n",
      "/home/cyntsc/Proyectos/tesis-code/meta-xtrome-analysis/results-data/MG_DarkMagenta_WGCNA_DAVID_VisANT/David_clustering_Run1c.txt\n",
      "/home/cyntsc/Proyectos/tesis-code/meta-xtrome-analysis/results-data/MG_DarkMagenta_WGCNA_DAVID_VisANT/David_clustering_Run1b.txt\n",
      "/home/cyntsc/Proyectos/tesis-code/meta-xtrome-analysis/results-data/MG_DarkMagenta_WGCNA_DAVID_VisANT/David_clustering_Run1.txt\n",
      "/home/cyntsc/Proyectos/tesis-code/meta-xtrome-analysis/results-data/MG_DarkMagenta_WGCNA_DAVID_VisANT/David_clustering_Run2.txt\n",
      "/home/cyntsc/Proyectos/tesis-code/meta-xtrome-analysis/results-data/MG_DarkMagenta_WGCNA_DAVID_VisANT/David_clustering_Run3c.txt\n",
      "/home/cyntsc/Proyectos/tesis-code/meta-xtrome-analysis/results-data/MG_DarkMagenta_WGCNA_DAVID_VisANT/David_clustering_Run2c.txt\n",
      "/home/cyntsc/Proyectos/tesis-code/meta-xtrome-analysis/results-data/MG_DarkMagenta_WGCNA_DAVID_VisANT/DAVIDTool_Funtional_Annotation_Cluster_13Dic21.txt\n",
      "/home/cyntsc/Proyectos/tesis-code/meta-xtrome-analysis/results-data/MG_DarkMagenta_WGCNA_DAVID_VisANT/David_clustering_Run2b.txt\n",
      "/home/cyntsc/Proyectos/tesis-code/meta-xtrome-analysis/results-data/MG_DarkMagenta_WGCNA_DAVID_VisANT/David_clustering_Run3.txt\n"
     ]
    }
   ],
   "source": [
    "all_files = glob.glob(s_path)\n",
    "for file in all_files:\n",
    "    print(file)"
   ]
  },
  {
   "cell_type": "code",
   "execution_count": 7,
   "id": "5313abb5",
   "metadata": {},
   "outputs": [
    {
     "data": {
      "text/plain": [
       "'David_clustering_Run1c.txt'"
      ]
     },
     "execution_count": 7,
     "metadata": {},
     "output_type": "execute_result"
    }
   ],
   "source": [
    "# clusters_file = os.path.basename(file)\n",
    "clusters_file = 'David_clustering_Run1c.txt'\n",
    "clusters_file"
   ]
  },
  {
   "cell_type": "code",
   "execution_count": 8,
   "id": "a535abcd",
   "metadata": {},
   "outputs": [],
   "source": [
    "# Remember to add a header line by hand in the input file to capture the column names  \n",
    "df_clusters = pd.read_csv(clusters_file, header=0, index_col=0, sep='\\t')  #(clusters_file, header=1, index_col=0, sep='\\t')\n",
    "df_clusters.reset_index(inplace=True)"
   ]
  },
  {
   "cell_type": "code",
   "execution_count": 9,
   "id": "477e22fa",
   "metadata": {},
   "outputs": [
    {
     "data": {
      "text/html": [
       "<div>\n",
       "<style scoped>\n",
       "    .dataframe tbody tr th:only-of-type {\n",
       "        vertical-align: middle;\n",
       "    }\n",
       "\n",
       "    .dataframe tbody tr th {\n",
       "        vertical-align: top;\n",
       "    }\n",
       "\n",
       "    .dataframe thead th {\n",
       "        text-align: right;\n",
       "    }\n",
       "</style>\n",
       "<table border=\"1\" class=\"dataframe\">\n",
       "  <thead>\n",
       "    <tr style=\"text-align: right;\">\n",
       "      <th></th>\n",
       "      <th>Category</th>\n",
       "      <th>Term</th>\n",
       "      <th>Count</th>\n",
       "      <th>%</th>\n",
       "      <th>PValue</th>\n",
       "      <th>Genes</th>\n",
       "      <th>List Total</th>\n",
       "      <th>Pop Hits</th>\n",
       "      <th>Pop Total</th>\n",
       "      <th>Fold Enrichment</th>\n",
       "      <th>Bonferroni</th>\n",
       "      <th>Benjamini</th>\n",
       "      <th>FDR</th>\n",
       "    </tr>\n",
       "  </thead>\n",
       "  <tbody>\n",
       "    <tr>\n",
       "      <th>0</th>\n",
       "      <td>Annotation Cluster 1</td>\n",
       "      <td>Enrichment Score: 1.4202060313688265</td>\n",
       "      <td>NaN</td>\n",
       "      <td>NaN</td>\n",
       "      <td>NaN</td>\n",
       "      <td>NaN</td>\n",
       "      <td>NaN</td>\n",
       "      <td>NaN</td>\n",
       "      <td>NaN</td>\n",
       "      <td>NaN</td>\n",
       "      <td>NaN</td>\n",
       "      <td>NaN</td>\n",
       "      <td>NaN</td>\n",
       "    </tr>\n",
       "    <tr>\n",
       "      <th>1</th>\n",
       "      <td>Category</td>\n",
       "      <td>Term</td>\n",
       "      <td>Count</td>\n",
       "      <td>%</td>\n",
       "      <td>PValue</td>\n",
       "      <td>Genes</td>\n",
       "      <td>List Total</td>\n",
       "      <td>Pop Hits</td>\n",
       "      <td>Pop Total</td>\n",
       "      <td>Fold Enrichment</td>\n",
       "      <td>Bonferroni</td>\n",
       "      <td>Benjamini</td>\n",
       "      <td>FDR</td>\n",
       "    </tr>\n",
       "    <tr>\n",
       "      <th>2</th>\n",
       "      <td>GOTERM_MF_DIRECT</td>\n",
       "      <td>GO:0016757~transferase activity, transferring ...</td>\n",
       "      <td>9</td>\n",
       "      <td>6.7669172932330826</td>\n",
       "      <td>0.01137034666861072</td>\n",
       "      <td>AT5G45660, AT1G34270, AT1G27440, AT4G38040, AT...</td>\n",
       "      <td>111</td>\n",
       "      <td>531</td>\n",
       "      <td>19198</td>\n",
       "      <td>2.931439914490762</td>\n",
       "      <td>0.8358223750807536</td>\n",
       "      <td>1.0</td>\n",
       "      <td>1.0</td>\n",
       "    </tr>\n",
       "  </tbody>\n",
       "</table>\n",
       "</div>"
      ],
      "text/plain": [
       "               Category                                               Term  \\\n",
       "0  Annotation Cluster 1               Enrichment Score: 1.4202060313688265   \n",
       "1              Category                                               Term   \n",
       "2      GOTERM_MF_DIRECT  GO:0016757~transferase activity, transferring ...   \n",
       "\n",
       "   Count                   %               PValue  \\\n",
       "0    NaN                 NaN                  NaN   \n",
       "1  Count                   %               PValue   \n",
       "2      9  6.7669172932330826  0.01137034666861072   \n",
       "\n",
       "                                               Genes  List Total  Pop Hits  \\\n",
       "0                                                NaN         NaN       NaN   \n",
       "1                                              Genes  List Total  Pop Hits   \n",
       "2  AT5G45660, AT1G34270, AT1G27440, AT4G38040, AT...         111       531   \n",
       "\n",
       "   Pop Total    Fold Enrichment          Bonferroni  Benjamini  FDR  \n",
       "0        NaN                NaN                 NaN        NaN  NaN  \n",
       "1  Pop Total    Fold Enrichment          Bonferroni  Benjamini  FDR  \n",
       "2      19198  2.931439914490762  0.8358223750807536        1.0  1.0  "
      ]
     },
     "execution_count": 9,
     "metadata": {},
     "output_type": "execute_result"
    }
   ],
   "source": [
    "df_clusters.head(3)"
   ]
  },
  {
   "cell_type": "code",
   "execution_count": 10,
   "id": "4032099f",
   "metadata": {},
   "outputs": [],
   "source": [
    "df_clust_idx = df_clusters['Category'].str.contains('Annotation Cluster', regex=False)"
   ]
  },
  {
   "cell_type": "code",
   "execution_count": 11,
   "id": "4204651f",
   "metadata": {},
   "outputs": [
    {
     "data": {
      "text/plain": [
       "Int64Index([0, 6, 11, 16, 24, 33], dtype='int64')"
      ]
     },
     "execution_count": 11,
     "metadata": {},
     "output_type": "execute_result"
    }
   ],
   "source": [
    "#type(df_clust_idx)\n",
    "df_clust_idx.head(10)\n",
    "df_idx = df_clusters[df_clust_idx].index\n",
    "df_idx"
   ]
  },
  {
   "cell_type": "code",
   "execution_count": 12,
   "id": "0faca526",
   "metadata": {
    "scrolled": true
   },
   "outputs": [],
   "source": [
    "df_clusters.iloc[df_idx][['Category','Term']]\n",
    "df_clusters.iloc[df_idx][['Category','Term']].to_csv(run +\"_Annotation_clusters_ETest.csv\", index=False, header=True)"
   ]
  },
  {
   "cell_type": "code",
   "execution_count": 13,
   "id": "ce458c91",
   "metadata": {},
   "outputs": [
    {
     "data": {
      "text/html": [
       "<div>\n",
       "<style scoped>\n",
       "    .dataframe tbody tr th:only-of-type {\n",
       "        vertical-align: middle;\n",
       "    }\n",
       "\n",
       "    .dataframe tbody tr th {\n",
       "        vertical-align: top;\n",
       "    }\n",
       "\n",
       "    .dataframe thead th {\n",
       "        text-align: right;\n",
       "    }\n",
       "</style>\n",
       "<table border=\"1\" class=\"dataframe\">\n",
       "  <thead>\n",
       "    <tr style=\"text-align: right;\">\n",
       "      <th></th>\n",
       "      <th>Category</th>\n",
       "      <th>Term</th>\n",
       "    </tr>\n",
       "  </thead>\n",
       "  <tbody>\n",
       "    <tr>\n",
       "      <th>0</th>\n",
       "      <td>Annotation Cluster 1</td>\n",
       "      <td>Enrichment Score: 1.4202060313688265</td>\n",
       "    </tr>\n",
       "    <tr>\n",
       "      <th>6</th>\n",
       "      <td>Annotation Cluster 2</td>\n",
       "      <td>Enrichment Score: 1.1132414865173261</td>\n",
       "    </tr>\n",
       "    <tr>\n",
       "      <th>11</th>\n",
       "      <td>Annotation Cluster 3</td>\n",
       "      <td>Enrichment Score: 0.6207840865062924</td>\n",
       "    </tr>\n",
       "    <tr>\n",
       "      <th>16</th>\n",
       "      <td>Annotation Cluster 4</td>\n",
       "      <td>Enrichment Score: 0.49484110262213965</td>\n",
       "    </tr>\n",
       "    <tr>\n",
       "      <th>24</th>\n",
       "      <td>Annotation Cluster 5</td>\n",
       "      <td>Enrichment Score: 0.31824321995051924</td>\n",
       "    </tr>\n",
       "    <tr>\n",
       "      <th>33</th>\n",
       "      <td>Annotation Cluster 6</td>\n",
       "      <td>Enrichment Score: 0.09393414412628075</td>\n",
       "    </tr>\n",
       "  </tbody>\n",
       "</table>\n",
       "</div>"
      ],
      "text/plain": [
       "                Category                                   Term\n",
       "0   Annotation Cluster 1   Enrichment Score: 1.4202060313688265\n",
       "6   Annotation Cluster 2   Enrichment Score: 1.1132414865173261\n",
       "11  Annotation Cluster 3   Enrichment Score: 0.6207840865062924\n",
       "16  Annotation Cluster 4  Enrichment Score: 0.49484110262213965\n",
       "24  Annotation Cluster 5  Enrichment Score: 0.31824321995051924\n",
       "33  Annotation Cluster 6  Enrichment Score: 0.09393414412628075"
      ]
     },
     "execution_count": 13,
     "metadata": {},
     "output_type": "execute_result"
    }
   ],
   "source": [
    "#df_clusters.iloc[df_idx][['Category','Term']]"
   ]
  },
  {
   "cell_type": "code",
   "execution_count": 14,
   "id": "9fcacb9f",
   "metadata": {},
   "outputs": [
    {
     "data": {
      "text/plain": [
       "[0, 6, 11, 16, 24, 33]"
      ]
     },
     "execution_count": 14,
     "metadata": {},
     "output_type": "execute_result"
    }
   ],
   "source": [
    "lst_idx = df_idx.tolist()\n",
    "lst_idx\n",
    "#df_idx[1]"
   ]
  },
  {
   "cell_type": "code",
   "execution_count": 15,
   "id": "19daddde",
   "metadata": {},
   "outputs": [
    {
     "name": "stdout",
     "output_type": "stream",
     "text": [
      "37\n",
      "33\n"
     ]
    }
   ],
   "source": [
    "# declare flags to control de idx (s)\n",
    "last_element_df = df_clusters.index.values[-1]\n",
    "last_cluster = lst_idx[-1]\n",
    "print(last_element_df)\n",
    "print(last_cluster)"
   ]
  },
  {
   "cell_type": "code",
   "execution_count": 17,
   "id": "17e5ee10",
   "metadata": {},
   "outputs": [
    {
     "data": {
      "text/plain": [
       "'run3'"
      ]
     },
     "execution_count": 17,
     "metadata": {},
     "output_type": "execute_result"
    }
   ],
   "source": [
    "run"
   ]
  },
  {
   "cell_type": "code",
   "execution_count": 19,
   "id": "63738016",
   "metadata": {
    "scrolled": false
   },
   "outputs": [
    {
     "name": "stdout",
     "output_type": "stream",
     "text": [
      "<built-in method index of str object at 0x7f9eade93300>\n",
      "Clust_Name Original_Number_Of_Genes  Unique_Genes\n",
      "run3_clust_1 29 12\n",
      "run3_clust_2 17 6\n",
      "run3_clust_3 17 8\n",
      "run3_clust_4 52 15\n",
      "run3_clust_5 75 27\n",
      "run3_clust_6 22 12\n"
     ]
    }
   ],
   "source": [
    "# parse the df_clusters to separate the clusters as:\n",
    "#   @clustx: cluster data\n",
    "#   @clust_unique_genes_1: list of unique genes in the cluster\n",
    "\n",
    "idx2 = 1\n",
    "last_element = df_clusters['Category'].iloc[-1].index\n",
    "print(last_element)\n",
    "iclust_num = 1\n",
    "\n",
    "lst_meta_data = []\n",
    "print('Clust_Name','Original_Number_Of_Genes ','Unique_Genes') \n",
    "for item in lst_idx: \n",
    "    if item == last_cluster:\n",
    "        #print(item)\n",
    "        tmp_idx2 = last_element_df + 1\n",
    "        #print(tmp_idx2)\n",
    "    else:\n",
    "        #print(item)\n",
    "        tmp_idx2 = lst_idx[idx2]  # - 1\n",
    "        #print(tmp_idx2)\n",
    "        idx2 = idx2 + 1\n",
    "    df_clust =  df_clusters.iloc[item:tmp_idx2] \n",
    "    #print(df_clust)\n",
    "    #df_clust.to_csv(run + '_clust' + str(iclust_num), index=False, header=True)\n",
    "    \n",
    "    # get the unique genes of this cluster\n",
    "    lst_genes_tmp = df_clust['Genes'].to_list()\n",
    "    lst_genes = [item for item in lst_genes_tmp if not (pd.isnull(item) == True)] \n",
    "    lst_genes.pop(0)\n",
    "    #print(lst_genes)\n",
    "    #print(len(lst_genes))\n",
    "    lst_genes2 = []\n",
    "    for element in lst_genes:\n",
    "        tmp_genes2 = element.split(',')\n",
    "        for gen in tmp_genes2:\n",
    "            lst_genes2.append(gen)\n",
    "    #print(lst_genes2)\n",
    "    #print(len(lst_genes2))\n",
    "    uniqueGenes=set(lst_genes2)\n",
    "    #print(uniqueGenes)\n",
    "    name_clust = run + '_unique_genes_clust' + str(iclust_num)\n",
    "    # save the unique genes of this cluster to a txt file for further analysis\n",
    "    textfile = open(name_clust, \"w\")\n",
    "    for element in uniqueGenes:\n",
    "        textfile.write(element + \",\")\n",
    "    textfile.close()\n",
    "   \n",
    "    # summary\n",
    "    lst_meta_data.append(run + '_clust_' + str(iclust_num) + ' ' + str(len(lst_genes2)) + ' ' + str(len(uniqueGenes)))\n",
    "    #print(run + '_clust_' + str(iclust_num) + ' ' + str(len(lst_genes2)) + ' ' + str(len(uniqueGenes))) \n",
    "    # walk to the next cluster\n",
    "    iclust_num = iclust_num + 1    "
   ]
  },
  {
   "cell_type": "code",
   "execution_count": null,
   "id": "83cf615c",
   "metadata": {},
   "outputs": [],
   "source": [
    "lst_meta_data"
   ]
  },
  {
   "cell_type": "code",
   "execution_count": 24,
   "id": "ed2c26c7",
   "metadata": {},
   "outputs": [],
   "source": [
    "df_meta = pd.DataFrame(lst_meta_data)\n",
    "df_meta.to_csv(run + '_meta-data_clusters', sep = '\\t', index=None, header = None)"
   ]
  },
  {
   "cell_type": "code",
   "execution_count": null,
   "id": "21a089d4",
   "metadata": {},
   "outputs": [],
   "source": []
  }
 ],
 "metadata": {
  "kernelspec": {
   "display_name": "Python 3 (ipykernel)",
   "language": "python",
   "name": "python3"
  },
  "language_info": {
   "codemirror_mode": {
    "name": "ipython",
    "version": 3
   },
   "file_extension": ".py",
   "mimetype": "text/x-python",
   "name": "python",
   "nbconvert_exporter": "python",
   "pygments_lexer": "ipython3",
   "version": "3.8.10"
  }
 },
 "nbformat": 4,
 "nbformat_minor": 5
}
