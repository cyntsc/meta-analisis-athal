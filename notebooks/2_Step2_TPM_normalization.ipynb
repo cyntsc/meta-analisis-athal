{
 "cells": [
  {
   "cell_type": "markdown",
   "metadata": {},
   "source": [
    "# Step 2: normalization of raw-counts to TPM  \n",
    "\n",
    "Made by: Cynthia Soto <br>\n",
    "Date: March 17, 2021 <br>\n",
    "Last md: May 26, 2022 <br>\n",
    "\n",
    "**Assumptions:** <br>\n",
    "1. A TPM normalization is applied, thus a tvs file with the gene's lenghts is required. You can process it by yourself or you can use the **Gene_length_extraction_from_GTF.ipynb** script provided to get one gene's lenghts file from a GTF file (some adjustements could be required). \n",
    "2. The **bioinfokit** package is used to normalize the data, be sure to install it before running this script.  \n",
    "3. The input file to process is a tsv file with the raw-counts, the columns are the samples & the rows are the genes.\n",
    "\n",
    "**Code goal** <br>\n",
    "1. Transform raw-count into TPM values.<br>\n",
    "    1. Get some stats and distributions.  <br>\n",
    "    2. Plot.\n",
    "\n",
    "**Bioinfokit package:** <br>\n",
    "For install bioinfokit: https://github.com/reneshbedre/bioinfokit (Published in Bedre et al., 2019 ) <br>\n",
    "bioinfokit requires: \n",
    "    Python 3\n",
    "    NumPy\n",
    "    scikit-learn\n",
    "    seaborn\n",
    "    pandas\n",
    "    matplotlib\n",
    "    SciPy\n",
    "    matplotlib_venn\n",
    "<br>\n",
    "TPM latest update v0.9.1)"
   ]
  },
  {
   "cell_type": "code",
   "execution_count": 52,
   "metadata": {},
   "outputs": [
    {
     "data": {
      "text/plain": [
       "'2.0.8'"
      ]
     },
     "execution_count": 52,
     "metadata": {},
     "output_type": "execute_result"
    }
   ],
   "source": [
    "# Check the version of bioinfokit (at this time the latest version is 0.4)\n",
    "import bioinfokit\n",
    "bioinfokit.__version__"
   ]
  },
  {
   "cell_type": "code",
   "execution_count": 53,
   "metadata": {},
   "outputs": [],
   "source": [
    "import os \n",
    "import pandas as pd\n",
    "import numpy as np\n",
    "import matplotlib.pyplot as plt\n",
    "import seaborn as sns\n",
    "from bioinfokit.analys import norm, get_data    ##https://github.com/reneshbedre/bioinfokit \n",
    "\n",
    "# Set some initial configuration \n",
    "pd.set_option(\"display.precision\", 3)"
   ]
  },
  {
   "cell_type": "code",
   "execution_count": 54,
   "metadata": {},
   "outputs": [],
   "source": [
    "# Choose what dataset you are going to process.  \n",
    "# @general_titles var is also used to label the plots and save the main and temporary files.\n",
    "general_titles=\"healthy\"\n",
    "#general_titles=\"infected\""
   ]
  },
  {
   "cell_type": "code",
   "execution_count": 55,
   "metadata": {},
   "outputs": [
    {
     "name": "stdout",
     "output_type": "stream",
     "text": [
      "Directory changed: /home/cyntsc/Proyectos/tesis-code/meta-xtrome-analysis/results-data/matrices_de_expresion\n"
     ]
    }
   ],
   "source": [
    "try:\n",
    "    # Change the current working Directory      \n",
    "    os.chdir(\"/home/cyntsc/Proyectos/tesis-code/meta-xtrome-analysis/results-data/matrices_de_expresion/\")\n",
    "    print(\"Directory changed:\", os.getcwd() )\n",
    "except OSError:\n",
    "    print(\"Can't change the Current Working Directory\")    \n",
    "#print(os.listdir(os.getcwd())       "
   ]
  },
  {
   "cell_type": "markdown",
   "metadata": {},
   "source": [
    "Transcript per million (TPM) normalization considers the gene length & library deep size. <br>\n",
    "More details: https://www.reneshbedre.com/blog/expression_units.html <br>\n",
    "If you want to better understand why normalize and filter data before any advance analysis, here a post of Jason W Hoskins about **Warnings against using unnormalized, unfiltered read counts for a few reasons** https://www.researchgate.net/post/What-is-a-valid-way-to-measure-variability-of-gene-expression-from-gtex-data "
   ]
  },
  {
   "cell_type": "markdown",
   "metadata": {},
   "source": [
    "Eg. If the TPM for gene A in sample 1 is 3.33 and the TPM in sample B is 3.33, then I know that the exact same proportion of total reads mapped to gene A in both samples. This is because the sum of the TPMs in both samples always add up to the same number."
   ]
  },
  {
   "cell_type": "markdown",
   "metadata": {},
   "source": [
    "### Declare functions"
   ]
  },
  {
   "cell_type": "code",
   "execution_count": 56,
   "metadata": {},
   "outputs": [],
   "source": [
    "# Plot the distributions: values are TPM normalized\n",
    "def plot_KDE2(df, samples, y_label):\n",
    "    ## @df: the array(df) to be plotted (w/o column gene's names)\n",
    "    ## @samples: the names to be displayed in the leyend label\n",
    "    ## @title: text to be displayed as main-header in the plot\n",
    "    ## @y_label: text to be displayed in the \"y\" axis label.\n",
    "       \n",
    "    # Plot Designs for paper figure\n",
    "    plt.figure(figsize=(7,4), dpi= 300)\n",
    "    title_fs = 14\n",
    "    xlab_fs = 12\n",
    "    ylab_fs = 12\n",
    "    xtick_fs = 10\n",
    "    leyend_fs = 9\n",
    "    titulo = 'Histogram with KDE for a normalized dataset' \n",
    "    \n",
    "    sns.set_style(\"white\")\n",
    "    kwargs=dict(hist_kws={\"alpha\":0.6, \"lw\": 2})\n",
    "    plt.rc('xtick',labelsize = xtick_fs)\n",
    "    plt.rc('ytick',labelsize = xtick_fs)\n",
    "    \n",
    "    np_array = df.to_numpy()         # number of samples\n",
    "    x = len(sample_lst)\n",
    "\n",
    "    for i in range(1, x):\n",
    "        sample_data = np_array[:,i]\n",
    "        sns.distplot(sample_data, label = samples[i], **kwargs)   #color=\"dodgerblue\", \n",
    "    \n",
    "    plt.title(titulo, fontsize = title_fs);\n",
    "    plt.xlabel(y_label,fontsize = xlab_fs);\n",
    "    plt.ylabel('Probability Density',fontsize = ylab_fs);\n",
    "#    plt.legend(loc='center right', fontsize = leyend_fs);    \n",
    "    plt.legend(\"\")\n",
    "    #adding text inside the plot\n",
    "#     plt.text(9000, 0.008, 'INPUT:\\nTPM[raw-count] values', fontsize = 12,\n",
    "#             bbox = dict(facecolor = 'red', alpha = 0.5))\n",
    "    \n",
    "    ## add arbitrary lines to canvas\n",
    "    x1, y1 = [500, 29000], [0.010, 0.0005]\n",
    "    plt.plot(x1, y1, 'k-', lw=1, color='blue', marker = \"8\")  \n",
    "    #plt.savefig(\"../plots/all_infected_KDE_17zeros_drop.png\");\n",
    "    return"
   ]
  },
  {
   "cell_type": "code",
   "execution_count": 57,
   "metadata": {},
   "outputs": [],
   "source": [
    "# Set ID index as \"ID\" to a dataframe describe() function\n",
    "def df_with_label_ID(df_stat):\n",
    "    df_stat.reset_index(level=0, inplace=True)\n",
    "    df_stat.rename(columns={'index': 'ID'}, inplace=True)\n",
    "    \n",
    "    ## use this chunk if you want to give IDs to a describe() functions from a external meta-data\n",
    "    #     file='../meta-data/ID_samples.csv'\n",
    "    #     df_meta=pd.read_csv(file, sep='\\,', engine='python', usecols=[0,4]) \n",
    "    #     #print(df_meta.head(5))\n",
    "    #     ## merge by sample field\n",
    "    #     df = pd.merge(df, df_meta, on=\"sample\")    \n",
    "    df_stat = df_stat.sort_values(['ID'], ascending=[True])   \n",
    "    return df_stat "
   ]
  },
  {
   "cell_type": "code",
   "execution_count": 58,
   "metadata": {},
   "outputs": [],
   "source": [
    "# Plot a bar-chart as the result of the dataframe describe() function over an expression array (df)\n",
    "def plot_intercuartile_bar(df, title, y_label):\n",
    "    ## @df: a dataframe with the statistics generated with the describe()function \n",
    "    ## @title: text to be displayed as main-header in the plot\n",
    "    ## @y_label: text to be displayed in the y axis label.\n",
    "\n",
    "    ## call the fuction df_with_label_ID\n",
    "    df_plot = df_with_label_ID(df)\n",
    "    ax = df.plot(x=\"ID\", y=\"75%\", kind=\"bar\", figsize=(10,7))\n",
    "    df.plot(x=\"ID\", y=\"75%\", kind=\"bar\", ax=ax, color=\"C2\")\n",
    "    df.plot(x=\"ID\", y=\"50%\", kind=\"bar\", ax=ax, color=\"C3\")\n",
    "    df.plot(x=\"ID\", y=\"25%\", kind=\"bar\", ax=ax, color=\"C4\")\n",
    "    plt.title(title,fontsize=14);\n",
    "    plt.xlabel('Sample ID',fontsize=14);\n",
    "    plt.ylabel(y_label,fontsize=14);\n",
    "    plt.xticks(rotation=45,fontsize=12);\n",
    "    return\n",
    "\n",
    "# Set ID index as \"ID\" to trigger the describe() function over a dataframe\n",
    "def df_with_label_ID(df_stat):\n",
    "    try:\n",
    "        # Set ID index as \"ID\" to a describe() function in a df\n",
    "        df_stat.reset_index(level=0, inplace=True)\n",
    "        df_stat.rename(columns={'index': 'ID'}, inplace=True)\n",
    "        df_stat = df_stat.sort_values(['ID'], ascending=[True])   \n",
    "    except:\n",
    "        pass\n",
    "    return df_stat "
   ]
  },
  {
   "cell_type": "code",
   "execution_count": 59,
   "metadata": {},
   "outputs": [],
   "source": [
    "# Plot a line-chart with the mean and std.dev as the result of the dataframe describe() function over an expression array (df)\n",
    "def plot_mean_sdev_line(df, title, y_label):\n",
    "    ## @df: a dataframe with the statistics generated with the describe()function \n",
    "    ## @title: text to be displayed as main-header in the plot\n",
    "    ## @y_label: text to be displayed in the y axis label.\n",
    "  \n",
    "    ## gca stands for 'get current axis'\n",
    "    ax = plt.gca()\n",
    "    df.plot(kind='line',x='ID',y='mean',color='green', ax=ax, figsize=(10,7))\n",
    "    df.plot(kind='line',x='ID',y='std', color='red', ax=ax)\n",
    "    plt.title(title,fontsize=14);\n",
    "    plt.xlabel('Sample ID',fontsize=14);\n",
    "    plt.ylabel(y_label,fontsize=14);\n",
    "    return"
   ]
  },
  {
   "cell_type": "markdown",
   "metadata": {},
   "source": [
    "## Load your expression matrix"
   ]
  },
  {
   "cell_type": "code",
   "execution_count": 60,
   "metadata": {},
   "outputs": [
    {
     "name": "stdout",
     "output_type": "stream",
     "text": [
      "/home/cyntsc/Proyectos/tesis-code/meta-xtrome-analysis/results-data/matrices_de_expresion/matrix_A_healthy.csv\n"
     ]
    }
   ],
   "source": [
    "file_name = \"matrix_A_\"+ general_titles.strip() +\".csv\"\n",
    "print(os.getcwd()+'/'+file_name)"
   ]
  },
  {
   "cell_type": "code",
   "execution_count": 61,
   "metadata": {},
   "outputs": [
    {
     "name": "stdout",
     "output_type": "stream",
     "text": [
      "22426\n"
     ]
    }
   ],
   "source": [
    "df_expr=pd.read_csv(file_name, header=0, sep='\\t')   ## ,nrows=100  usecols=[1,3]\n",
    "print(len(df_expr))"
   ]
  },
  {
   "cell_type": "code",
   "execution_count": 62,
   "metadata": {},
   "outputs": [
    {
     "name": "stdout",
     "output_type": "stream",
     "text": [
      "(22426, 9)\n"
     ]
    },
    {
     "data": {
      "text/html": [
       "<div>\n",
       "<style scoped>\n",
       "    .dataframe tbody tr th:only-of-type {\n",
       "        vertical-align: middle;\n",
       "    }\n",
       "\n",
       "    .dataframe tbody tr th {\n",
       "        vertical-align: top;\n",
       "    }\n",
       "\n",
       "    .dataframe thead th {\n",
       "        text-align: right;\n",
       "    }\n",
       "</style>\n",
       "<table border=\"1\" class=\"dataframe\">\n",
       "  <thead>\n",
       "    <tr style=\"text-align: right;\">\n",
       "      <th></th>\n",
       "      <th>Genes</th>\n",
       "      <th>healthy30.1</th>\n",
       "      <th>healthy30</th>\n",
       "      <th>healthy12</th>\n",
       "      <th>healthy18.1</th>\n",
       "      <th>healthy18</th>\n",
       "      <th>healthy24.1</th>\n",
       "      <th>healthy12.1</th>\n",
       "      <th>healthy24</th>\n",
       "    </tr>\n",
       "  </thead>\n",
       "  <tbody>\n",
       "    <tr>\n",
       "      <th>0</th>\n",
       "      <td>AT1G01020</td>\n",
       "      <td>175</td>\n",
       "      <td>163</td>\n",
       "      <td>108</td>\n",
       "      <td>117</td>\n",
       "      <td>224</td>\n",
       "      <td>92</td>\n",
       "      <td>267</td>\n",
       "      <td>145</td>\n",
       "    </tr>\n",
       "    <tr>\n",
       "      <th>1</th>\n",
       "      <td>AT1G01030</td>\n",
       "      <td>20</td>\n",
       "      <td>25</td>\n",
       "      <td>13</td>\n",
       "      <td>13</td>\n",
       "      <td>35</td>\n",
       "      <td>16</td>\n",
       "      <td>22</td>\n",
       "      <td>9</td>\n",
       "    </tr>\n",
       "    <tr>\n",
       "      <th>2</th>\n",
       "      <td>AT1G01040</td>\n",
       "      <td>2541</td>\n",
       "      <td>2492</td>\n",
       "      <td>1027</td>\n",
       "      <td>1324</td>\n",
       "      <td>2376</td>\n",
       "      <td>638</td>\n",
       "      <td>2296</td>\n",
       "      <td>1018</td>\n",
       "    </tr>\n",
       "    <tr>\n",
       "      <th>3</th>\n",
       "      <td>AT1G01050</td>\n",
       "      <td>1531</td>\n",
       "      <td>1804</td>\n",
       "      <td>850</td>\n",
       "      <td>1217</td>\n",
       "      <td>2664</td>\n",
       "      <td>406</td>\n",
       "      <td>1851</td>\n",
       "      <td>684</td>\n",
       "    </tr>\n",
       "    <tr>\n",
       "      <th>4</th>\n",
       "      <td>AT1G01060</td>\n",
       "      <td>11</td>\n",
       "      <td>4</td>\n",
       "      <td>288</td>\n",
       "      <td>18184</td>\n",
       "      <td>32522</td>\n",
       "      <td>219</td>\n",
       "      <td>835</td>\n",
       "      <td>386</td>\n",
       "    </tr>\n",
       "  </tbody>\n",
       "</table>\n",
       "</div>"
      ],
      "text/plain": [
       "       Genes  healthy30.1  healthy30  healthy12  healthy18.1  healthy18  \\\n",
       "0  AT1G01020          175        163        108          117        224   \n",
       "1  AT1G01030           20         25         13           13         35   \n",
       "2  AT1G01040         2541       2492       1027         1324       2376   \n",
       "3  AT1G01050         1531       1804        850         1217       2664   \n",
       "4  AT1G01060           11          4        288        18184      32522   \n",
       "\n",
       "   healthy24.1  healthy12.1  healthy24  \n",
       "0           92          267        145  \n",
       "1           16           22          9  \n",
       "2          638         2296       1018  \n",
       "3          406         1851        684  \n",
       "4          219          835        386  "
      ]
     },
     "execution_count": 62,
     "metadata": {},
     "output_type": "execute_result"
    }
   ],
   "source": [
    "# delete not useful columns\n",
    "df_expr.drop(['zero-counter'], axis='columns', inplace=True)   #, 'Unnamed: 0'\n",
    "print(df_expr.shape)\n",
    "df_expr.head(5)"
   ]
  },
  {
   "cell_type": "markdown",
   "metadata": {},
   "source": [
    "## Load the gene's lenghts file"
   ]
  },
  {
   "cell_type": "code",
   "execution_count": 63,
   "metadata": {},
   "outputs": [
    {
     "data": {
      "text/html": [
       "<div>\n",
       "<style scoped>\n",
       "    .dataframe tbody tr th:only-of-type {\n",
       "        vertical-align: middle;\n",
       "    }\n",
       "\n",
       "    .dataframe tbody tr th {\n",
       "        vertical-align: top;\n",
       "    }\n",
       "\n",
       "    .dataframe thead th {\n",
       "        text-align: right;\n",
       "    }\n",
       "</style>\n",
       "<table border=\"1\" class=\"dataframe\">\n",
       "  <thead>\n",
       "    <tr style=\"text-align: right;\">\n",
       "      <th></th>\n",
       "      <th>Genes</th>\n",
       "      <th>gen_len</th>\n",
       "    </tr>\n",
       "  </thead>\n",
       "  <tbody>\n",
       "    <tr>\n",
       "      <th>0</th>\n",
       "      <td>AT1G01010</td>\n",
       "      <td>1871</td>\n",
       "    </tr>\n",
       "    <tr>\n",
       "      <th>1</th>\n",
       "      <td>AT1G01020</td>\n",
       "      <td>1752</td>\n",
       "    </tr>\n",
       "    <tr>\n",
       "      <th>2</th>\n",
       "      <td>AT1G01030</td>\n",
       "      <td>1077</td>\n",
       "    </tr>\n",
       "    <tr>\n",
       "      <th>3</th>\n",
       "      <td>AT1G01040</td>\n",
       "      <td>7561</td>\n",
       "    </tr>\n",
       "    <tr>\n",
       "      <th>4</th>\n",
       "      <td>AT1G01050</td>\n",
       "      <td>1289</td>\n",
       "    </tr>\n",
       "  </tbody>\n",
       "</table>\n",
       "</div>"
      ],
      "text/plain": [
       "       Genes  gen_len\n",
       "0  AT1G01010     1871\n",
       "1  AT1G01020     1752\n",
       "2  AT1G01030     1077\n",
       "3  AT1G01040     7561\n",
       "4  AT1G01050     1289"
      ]
     },
     "execution_count": 63,
     "metadata": {},
     "output_type": "execute_result"
    }
   ],
   "source": [
    "df_gl = pd.read_csv(\"../../meta-data/Araport11_GFF3_genes_lenghts.csv\",  usecols = ['Genes','gen_len'], header=0, sep='\\t')    \n",
    "df_gl.head(5)"
   ]
  },
  {
   "cell_type": "code",
   "execution_count": 64,
   "metadata": {},
   "outputs": [
    {
     "name": "stdout",
     "output_type": "stream",
     "text": [
      "         gen_len\n",
      "count  27655.000\n",
      "mean    1875.863\n",
      "std     1502.467\n",
      "min        3.000\n",
      "25%      909.000\n",
      "50%     1561.000\n",
      "75%     2402.500\n",
      "max    26941.000\n"
     ]
    },
    {
     "data": {
      "text/plain": [
       "array([[<matplotlib.axes._subplots.AxesSubplot object at 0x7f5e23649730>]],\n",
       "      dtype=object)"
      ]
     },
     "execution_count": 64,
     "metadata": {},
     "output_type": "execute_result"
    },
    {
     "data": {
      "image/png": "[encoded data removed]",
      "text/plain": [
       "<Figure size 432x288 with 1 Axes>"
      ]
     },
     "metadata": {},
     "output_type": "display_data"
    }
   ],
   "source": [
    "print(df_gl.describe())\n",
    "df_gl.hist()"
   ]
  },
  {
   "cell_type": "code",
   "execution_count": 65,
   "metadata": {},
   "outputs": [
    {
     "name": "stdout",
     "output_type": "stream",
     "text": [
      "1875.863496655216\n",
      "1561.0\n",
      "26941\n",
      "3\n"
     ]
    }
   ],
   "source": [
    "from numpy import mean, median\n",
    "\n",
    "lst_genelng = df_gl['gen_len'].to_list()\n",
    "lst_genelng.sort()\n",
    "print(mean(lst_genelng))\n",
    "print(median(lst_genelng))\n",
    "print(max(lst_genelng))\n",
    "print(min(lst_genelng))"
   ]
  },
  {
   "cell_type": "markdown",
   "metadata": {},
   "source": [
    "## Merge the gene length df with the expr matrix df"
   ]
  },
  {
   "cell_type": "code",
   "execution_count": 66,
   "metadata": {},
   "outputs": [
    {
     "name": "stdout",
     "output_type": "stream",
     "text": [
      "22426 27655\n"
     ]
    }
   ],
   "source": [
    "## compare number of genes \n",
    "print(len(df_expr), len(df_gl))"
   ]
  },
  {
   "cell_type": "markdown",
   "metadata": {},
   "source": [
    "With **merge** we can join data from 2 df<br>\n",
    "The **how** argument to merge specifies how to determine which keys are to be included in the resulting table. If a key combination does not appear in either the left or right tables, the values in the joined table will be NA. \n",
    "Only the keys appearing in left and right are present (the intersection), since **how='inner'** by default.<br>\n",
    "https://pandas.pydata.org/docs/user_guide/merging.html"
   ]
  },
  {
   "cell_type": "code",
   "execution_count": 67,
   "metadata": {},
   "outputs": [],
   "source": [
    "result = pd.merge(df_expr, df_gl, on=[\"Genes\", \"Genes\"])"
   ]
  },
  {
   "cell_type": "code",
   "execution_count": 68,
   "metadata": {},
   "outputs": [
    {
     "data": {
      "text/plain": [
       "22426"
      ]
     },
     "execution_count": 68,
     "metadata": {},
     "output_type": "execute_result"
    }
   ],
   "source": [
    "len(result)"
   ]
  },
  {
   "cell_type": "code",
   "execution_count": 69,
   "metadata": {},
   "outputs": [
    {
     "data": {
      "text/html": [
       "<div>\n",
       "<style scoped>\n",
       "    .dataframe tbody tr th:only-of-type {\n",
       "        vertical-align: middle;\n",
       "    }\n",
       "\n",
       "    .dataframe tbody tr th {\n",
       "        vertical-align: top;\n",
       "    }\n",
       "\n",
       "    .dataframe thead th {\n",
       "        text-align: right;\n",
       "    }\n",
       "</style>\n",
       "<table border=\"1\" class=\"dataframe\">\n",
       "  <thead>\n",
       "    <tr style=\"text-align: right;\">\n",
       "      <th></th>\n",
       "      <th>Genes</th>\n",
       "      <th>healthy30.1</th>\n",
       "      <th>healthy30</th>\n",
       "      <th>healthy12</th>\n",
       "      <th>healthy18.1</th>\n",
       "      <th>healthy18</th>\n",
       "      <th>healthy24.1</th>\n",
       "      <th>healthy12.1</th>\n",
       "      <th>healthy24</th>\n",
       "      <th>gen_len</th>\n",
       "    </tr>\n",
       "  </thead>\n",
       "  <tbody>\n",
       "    <tr>\n",
       "      <th>0</th>\n",
       "      <td>AT1G01020</td>\n",
       "      <td>175</td>\n",
       "      <td>163</td>\n",
       "      <td>108</td>\n",
       "      <td>117</td>\n",
       "      <td>224</td>\n",
       "      <td>92</td>\n",
       "      <td>267</td>\n",
       "      <td>145</td>\n",
       "      <td>1752</td>\n",
       "    </tr>\n",
       "    <tr>\n",
       "      <th>1</th>\n",
       "      <td>AT1G01030</td>\n",
       "      <td>20</td>\n",
       "      <td>25</td>\n",
       "      <td>13</td>\n",
       "      <td>13</td>\n",
       "      <td>35</td>\n",
       "      <td>16</td>\n",
       "      <td>22</td>\n",
       "      <td>9</td>\n",
       "      <td>1077</td>\n",
       "    </tr>\n",
       "    <tr>\n",
       "      <th>2</th>\n",
       "      <td>AT1G01040</td>\n",
       "      <td>2541</td>\n",
       "      <td>2492</td>\n",
       "      <td>1027</td>\n",
       "      <td>1324</td>\n",
       "      <td>2376</td>\n",
       "      <td>638</td>\n",
       "      <td>2296</td>\n",
       "      <td>1018</td>\n",
       "      <td>7561</td>\n",
       "    </tr>\n",
       "    <tr>\n",
       "      <th>3</th>\n",
       "      <td>AT1G01050</td>\n",
       "      <td>1531</td>\n",
       "      <td>1804</td>\n",
       "      <td>850</td>\n",
       "      <td>1217</td>\n",
       "      <td>2664</td>\n",
       "      <td>406</td>\n",
       "      <td>1851</td>\n",
       "      <td>684</td>\n",
       "      <td>1289</td>\n",
       "    </tr>\n",
       "    <tr>\n",
       "      <th>4</th>\n",
       "      <td>AT1G01060</td>\n",
       "      <td>11</td>\n",
       "      <td>4</td>\n",
       "      <td>288</td>\n",
       "      <td>18184</td>\n",
       "      <td>32522</td>\n",
       "      <td>219</td>\n",
       "      <td>835</td>\n",
       "      <td>386</td>\n",
       "      <td>3070</td>\n",
       "    </tr>\n",
       "  </tbody>\n",
       "</table>\n",
       "</div>"
      ],
      "text/plain": [
       "       Genes  healthy30.1  healthy30  healthy12  healthy18.1  healthy18  \\\n",
       "0  AT1G01020          175        163        108          117        224   \n",
       "1  AT1G01030           20         25         13           13         35   \n",
       "2  AT1G01040         2541       2492       1027         1324       2376   \n",
       "3  AT1G01050         1531       1804        850         1217       2664   \n",
       "4  AT1G01060           11          4        288        18184      32522   \n",
       "\n",
       "   healthy24.1  healthy12.1  healthy24  gen_len  \n",
       "0           92          267        145     1752  \n",
       "1           16           22          9     1077  \n",
       "2          638         2296       1018     7561  \n",
       "3          406         1851        684     1289  \n",
       "4          219          835        386     3070  "
      ]
     },
     "execution_count": 69,
     "metadata": {},
     "output_type": "execute_result"
    }
   ],
   "source": [
    "result.head(5)"
   ]
  },
  {
   "cell_type": "code",
   "execution_count": 70,
   "metadata": {},
   "outputs": [
    {
     "data": {
      "text/html": [
       "<div>\n",
       "<style scoped>\n",
       "    .dataframe tbody tr th:only-of-type {\n",
       "        vertical-align: middle;\n",
       "    }\n",
       "\n",
       "    .dataframe tbody tr th {\n",
       "        vertical-align: top;\n",
       "    }\n",
       "\n",
       "    .dataframe thead th {\n",
       "        text-align: right;\n",
       "    }\n",
       "</style>\n",
       "<table border=\"1\" class=\"dataframe\">\n",
       "  <thead>\n",
       "    <tr style=\"text-align: right;\">\n",
       "      <th></th>\n",
       "      <th>Genes</th>\n",
       "      <th>healthy30.1</th>\n",
       "      <th>healthy30</th>\n",
       "      <th>healthy12</th>\n",
       "      <th>gen_len</th>\n",
       "    </tr>\n",
       "  </thead>\n",
       "  <tbody>\n",
       "    <tr>\n",
       "      <th>0</th>\n",
       "      <td>AT1G01020</td>\n",
       "      <td>175</td>\n",
       "      <td>163</td>\n",
       "      <td>108</td>\n",
       "      <td>1752</td>\n",
       "    </tr>\n",
       "    <tr>\n",
       "      <th>1</th>\n",
       "      <td>AT1G01030</td>\n",
       "      <td>20</td>\n",
       "      <td>25</td>\n",
       "      <td>13</td>\n",
       "      <td>1077</td>\n",
       "    </tr>\n",
       "    <tr>\n",
       "      <th>2</th>\n",
       "      <td>AT1G01040</td>\n",
       "      <td>2541</td>\n",
       "      <td>2492</td>\n",
       "      <td>1027</td>\n",
       "      <td>7561</td>\n",
       "    </tr>\n",
       "    <tr>\n",
       "      <th>3</th>\n",
       "      <td>AT1G01050</td>\n",
       "      <td>1531</td>\n",
       "      <td>1804</td>\n",
       "      <td>850</td>\n",
       "      <td>1289</td>\n",
       "    </tr>\n",
       "    <tr>\n",
       "      <th>4</th>\n",
       "      <td>AT1G01060</td>\n",
       "      <td>11</td>\n",
       "      <td>4</td>\n",
       "      <td>288</td>\n",
       "      <td>3070</td>\n",
       "    </tr>\n",
       "    <tr>\n",
       "      <th>5</th>\n",
       "      <td>AT1G01070</td>\n",
       "      <td>39</td>\n",
       "      <td>106</td>\n",
       "      <td>42</td>\n",
       "      <td>1980</td>\n",
       "    </tr>\n",
       "    <tr>\n",
       "      <th>6</th>\n",
       "      <td>AT1G01080</td>\n",
       "      <td>1280</td>\n",
       "      <td>1131</td>\n",
       "      <td>975</td>\n",
       "      <td>1287</td>\n",
       "    </tr>\n",
       "    <tr>\n",
       "      <th>7</th>\n",
       "      <td>AT1G01090</td>\n",
       "      <td>5079</td>\n",
       "      <td>6032</td>\n",
       "      <td>1281</td>\n",
       "      <td>1462</td>\n",
       "    </tr>\n",
       "    <tr>\n",
       "      <th>8</th>\n",
       "      <td>AT1G01100</td>\n",
       "      <td>1458</td>\n",
       "      <td>1088</td>\n",
       "      <td>483</td>\n",
       "      <td>671</td>\n",
       "    </tr>\n",
       "    <tr>\n",
       "      <th>9</th>\n",
       "      <td>AT1G01110</td>\n",
       "      <td>8</td>\n",
       "      <td>31</td>\n",
       "      <td>10</td>\n",
       "      <td>2256</td>\n",
       "    </tr>\n",
       "  </tbody>\n",
       "</table>\n",
       "</div>"
      ],
      "text/plain": [
       "       Genes  healthy30.1  healthy30  healthy12  gen_len\n",
       "0  AT1G01020          175        163        108     1752\n",
       "1  AT1G01030           20         25         13     1077\n",
       "2  AT1G01040         2541       2492       1027     7561\n",
       "3  AT1G01050         1531       1804        850     1289\n",
       "4  AT1G01060           11          4        288     3070\n",
       "5  AT1G01070           39        106         42     1980\n",
       "6  AT1G01080         1280       1131        975     1287\n",
       "7  AT1G01090         5079       6032       1281     1462\n",
       "8  AT1G01100         1458       1088        483      671\n",
       "9  AT1G01110            8         31         10     2256"
      ]
     },
     "execution_count": 70,
     "metadata": {},
     "output_type": "execute_result"
    }
   ],
   "source": [
    "result.iloc[0:10, list(range(4)) + [-1]]"
   ]
  },
  {
   "cell_type": "code",
   "execution_count": 71,
   "metadata": {},
   "outputs": [
    {
     "data": {
      "text/html": [
       "<div>\n",
       "<style scoped>\n",
       "    .dataframe tbody tr th:only-of-type {\n",
       "        vertical-align: middle;\n",
       "    }\n",
       "\n",
       "    .dataframe tbody tr th {\n",
       "        vertical-align: top;\n",
       "    }\n",
       "\n",
       "    .dataframe thead th {\n",
       "        text-align: right;\n",
       "    }\n",
       "</style>\n",
       "<table border=\"1\" class=\"dataframe\">\n",
       "  <thead>\n",
       "    <tr style=\"text-align: right;\">\n",
       "      <th></th>\n",
       "      <th>healthy30.1</th>\n",
       "      <th>healthy30</th>\n",
       "      <th>healthy12</th>\n",
       "      <th>healthy18.1</th>\n",
       "      <th>healthy18</th>\n",
       "      <th>healthy24.1</th>\n",
       "      <th>healthy12.1</th>\n",
       "      <th>healthy24</th>\n",
       "      <th>gen_len</th>\n",
       "    </tr>\n",
       "    <tr>\n",
       "      <th>Genes</th>\n",
       "      <th></th>\n",
       "      <th></th>\n",
       "      <th></th>\n",
       "      <th></th>\n",
       "      <th></th>\n",
       "      <th></th>\n",
       "      <th></th>\n",
       "      <th></th>\n",
       "      <th></th>\n",
       "    </tr>\n",
       "  </thead>\n",
       "  <tbody>\n",
       "    <tr>\n",
       "      <th>AT1G01020</th>\n",
       "      <td>175</td>\n",
       "      <td>163</td>\n",
       "      <td>108</td>\n",
       "      <td>117</td>\n",
       "      <td>224</td>\n",
       "      <td>92</td>\n",
       "      <td>267</td>\n",
       "      <td>145</td>\n",
       "      <td>1752</td>\n",
       "    </tr>\n",
       "    <tr>\n",
       "      <th>AT1G01030</th>\n",
       "      <td>20</td>\n",
       "      <td>25</td>\n",
       "      <td>13</td>\n",
       "      <td>13</td>\n",
       "      <td>35</td>\n",
       "      <td>16</td>\n",
       "      <td>22</td>\n",
       "      <td>9</td>\n",
       "      <td>1077</td>\n",
       "    </tr>\n",
       "    <tr>\n",
       "      <th>AT1G01040</th>\n",
       "      <td>2541</td>\n",
       "      <td>2492</td>\n",
       "      <td>1027</td>\n",
       "      <td>1324</td>\n",
       "      <td>2376</td>\n",
       "      <td>638</td>\n",
       "      <td>2296</td>\n",
       "      <td>1018</td>\n",
       "      <td>7561</td>\n",
       "    </tr>\n",
       "    <tr>\n",
       "      <th>AT1G01050</th>\n",
       "      <td>1531</td>\n",
       "      <td>1804</td>\n",
       "      <td>850</td>\n",
       "      <td>1217</td>\n",
       "      <td>2664</td>\n",
       "      <td>406</td>\n",
       "      <td>1851</td>\n",
       "      <td>684</td>\n",
       "      <td>1289</td>\n",
       "    </tr>\n",
       "    <tr>\n",
       "      <th>AT1G01060</th>\n",
       "      <td>11</td>\n",
       "      <td>4</td>\n",
       "      <td>288</td>\n",
       "      <td>18184</td>\n",
       "      <td>32522</td>\n",
       "      <td>219</td>\n",
       "      <td>835</td>\n",
       "      <td>386</td>\n",
       "      <td>3070</td>\n",
       "    </tr>\n",
       "  </tbody>\n",
       "</table>\n",
       "</div>"
      ],
      "text/plain": [
       "           healthy30.1  healthy30  healthy12  healthy18.1  healthy18  \\\n",
       "Genes                                                                  \n",
       "AT1G01020          175        163        108          117        224   \n",
       "AT1G01030           20         25         13           13         35   \n",
       "AT1G01040         2541       2492       1027         1324       2376   \n",
       "AT1G01050         1531       1804        850         1217       2664   \n",
       "AT1G01060           11          4        288        18184      32522   \n",
       "\n",
       "           healthy24.1  healthy12.1  healthy24  gen_len  \n",
       "Genes                                                    \n",
       "AT1G01020           92          267        145     1752  \n",
       "AT1G01030           16           22          9     1077  \n",
       "AT1G01040          638         2296       1018     7561  \n",
       "AT1G01050          406         1851        684     1289  \n",
       "AT1G01060          219          835        386     3070  "
      ]
     },
     "execution_count": 71,
     "metadata": {},
     "output_type": "execute_result"
    }
   ],
   "source": [
    "# make gene column as index column\n",
    "df = result.set_index('Genes')\n",
    "df.head(5)"
   ]
  },
  {
   "cell_type": "markdown",
   "metadata": {},
   "source": [
    "## Normalize the raw-counts to TPM values\n",
    "**We are using the bioinfokit.analys pkg**"
   ]
  },
  {
   "cell_type": "code",
   "execution_count": 72,
   "metadata": {},
   "outputs": [],
   "source": [
    "# gene length must be in bp\n",
    "nm = norm()\n",
    "nm.tpm(df=df, gl='gen_len')\n",
    "# get TPM normalized dataframe\n",
    "df_tmp = nm.tpm_norm"
   ]
  },
  {
   "cell_type": "code",
   "execution_count": 73,
   "metadata": {},
   "outputs": [
    {
     "data": {
      "text/html": [
       "<div>\n",
       "<style scoped>\n",
       "    .dataframe tbody tr th:only-of-type {\n",
       "        vertical-align: middle;\n",
       "    }\n",
       "\n",
       "    .dataframe tbody tr th {\n",
       "        vertical-align: top;\n",
       "    }\n",
       "\n",
       "    .dataframe thead th {\n",
       "        text-align: right;\n",
       "    }\n",
       "</style>\n",
       "<table border=\"1\" class=\"dataframe\">\n",
       "  <thead>\n",
       "    <tr style=\"text-align: right;\">\n",
       "      <th></th>\n",
       "      <th>healthy30.1</th>\n",
       "      <th>healthy30</th>\n",
       "      <th>healthy12</th>\n",
       "      <th>healthy18.1</th>\n",
       "      <th>healthy18</th>\n",
       "      <th>healthy24.1</th>\n",
       "      <th>healthy12.1</th>\n",
       "      <th>healthy24</th>\n",
       "    </tr>\n",
       "    <tr>\n",
       "      <th>Genes</th>\n",
       "      <th></th>\n",
       "      <th></th>\n",
       "      <th></th>\n",
       "      <th></th>\n",
       "      <th></th>\n",
       "      <th></th>\n",
       "      <th></th>\n",
       "      <th></th>\n",
       "    </tr>\n",
       "  </thead>\n",
       "  <tbody>\n",
       "    <tr>\n",
       "      <th>AT1G01020</th>\n",
       "      <td>8.482</td>\n",
       "      <td>7.118</td>\n",
       "      <td>9.930</td>\n",
       "      <td>8.065</td>\n",
       "      <td>7.243</td>\n",
       "      <td>8.547</td>\n",
       "      <td>11.852</td>\n",
       "      <td>9.254</td>\n",
       "    </tr>\n",
       "    <tr>\n",
       "      <th>AT1G01030</th>\n",
       "      <td>1.577</td>\n",
       "      <td>1.776</td>\n",
       "      <td>1.944</td>\n",
       "      <td>1.458</td>\n",
       "      <td>1.841</td>\n",
       "      <td>2.418</td>\n",
       "      <td>1.589</td>\n",
       "      <td>0.934</td>\n",
       "    </tr>\n",
       "    <tr>\n",
       "      <th>AT1G01040</th>\n",
       "      <td>28.536</td>\n",
       "      <td>25.216</td>\n",
       "      <td>21.880</td>\n",
       "      <td>21.147</td>\n",
       "      <td>17.802</td>\n",
       "      <td>13.734</td>\n",
       "      <td>23.615</td>\n",
       "      <td>15.054</td>\n",
       "    </tr>\n",
       "    <tr>\n",
       "      <th>AT1G01050</th>\n",
       "      <td>100.854</td>\n",
       "      <td>107.075</td>\n",
       "      <td>106.225</td>\n",
       "      <td>114.017</td>\n",
       "      <td>117.077</td>\n",
       "      <td>51.267</td>\n",
       "      <td>111.675</td>\n",
       "      <td>59.331</td>\n",
       "    </tr>\n",
       "    <tr>\n",
       "      <th>AT1G01060</th>\n",
       "      <td>0.304</td>\n",
       "      <td>0.100</td>\n",
       "      <td>15.112</td>\n",
       "      <td>715.292</td>\n",
       "      <td>600.107</td>\n",
       "      <td>11.611</td>\n",
       "      <td>21.152</td>\n",
       "      <td>14.058</td>\n",
       "    </tr>\n",
       "  </tbody>\n",
       "</table>\n",
       "</div>"
      ],
      "text/plain": [
       "           healthy30.1  healthy30  healthy12  healthy18.1  healthy18  \\\n",
       "Genes                                                                  \n",
       "AT1G01020        8.482      7.118      9.930        8.065      7.243   \n",
       "AT1G01030        1.577      1.776      1.944        1.458      1.841   \n",
       "AT1G01040       28.536     25.216     21.880       21.147     17.802   \n",
       "AT1G01050      100.854    107.075    106.225      114.017    117.077   \n",
       "AT1G01060        0.304      0.100     15.112      715.292    600.107   \n",
       "\n",
       "           healthy24.1  healthy12.1  healthy24  \n",
       "Genes                                           \n",
       "AT1G01020        8.547       11.852      9.254  \n",
       "AT1G01030        2.418        1.589      0.934  \n",
       "AT1G01040       13.734       23.615     15.054  \n",
       "AT1G01050       51.267      111.675     59.331  \n",
       "AT1G01060       11.611       21.152     14.058  "
      ]
     },
     "execution_count": 73,
     "metadata": {},
     "output_type": "execute_result"
    }
   ],
   "source": [
    "df_tmp.head(5)"
   ]
  },
  {
   "cell_type": "code",
   "execution_count": 74,
   "metadata": {},
   "outputs": [
    {
     "data": {
      "text/plain": [
       "healthy30.1    1.000e+06\n",
       "healthy30      1.000e+06\n",
       "healthy12      1.000e+06\n",
       "healthy18.1    1.000e+06\n",
       "healthy18      1.000e+06\n",
       "healthy24.1    1.000e+06\n",
       "healthy12.1    1.000e+06\n",
       "healthy24      1.000e+06\n",
       "dtype: float64"
      ]
     },
     "execution_count": 74,
     "metadata": {},
     "output_type": "execute_result"
    }
   ],
   "source": [
    "## chk the result with the total sum by column \n",
    "df_tmp.sum(axis = 0, skipna = True) "
   ]
  },
  {
   "cell_type": "code",
   "execution_count": 75,
   "metadata": {},
   "outputs": [],
   "source": [
    "#df_tmp.to_csv(\"matrix_B_\"+ general_titles.strip() +\".csv\", index=True, header=True)"
   ]
  },
  {
   "cell_type": "code",
   "execution_count": 76,
   "metadata": {},
   "outputs": [
    {
     "data": {
      "text/plain": [
       "[44.59109961651654,\n",
       " 44.591099616516544,\n",
       " 44.591099616516544,\n",
       " 44.591099616516544,\n",
       " 44.591099616516544,\n",
       " 44.591099616516544,\n",
       " 44.591099616516544,\n",
       " 44.59109961651655]"
      ]
     },
     "execution_count": 76,
     "metadata": {},
     "output_type": "execute_result"
    }
   ],
   "source": [
    "df=df_tmp.mean()\n",
    "lst_tpm = df.to_list()\n",
    "lst_tpm.sort()\n",
    "lst_tpm"
   ]
  },
  {
   "cell_type": "markdown",
   "metadata": {},
   "source": [
    "## Get some stats over the normalized array"
   ]
  },
  {
   "cell_type": "code",
   "execution_count": 77,
   "metadata": {},
   "outputs": [
    {
     "data": {
      "text/html": [
       "<div>\n",
       "<style scoped>\n",
       "    .dataframe tbody tr th:only-of-type {\n",
       "        vertical-align: middle;\n",
       "    }\n",
       "\n",
       "    .dataframe tbody tr th {\n",
       "        vertical-align: top;\n",
       "    }\n",
       "\n",
       "    .dataframe thead th {\n",
       "        text-align: right;\n",
       "    }\n",
       "</style>\n",
       "<table border=\"1\" class=\"dataframe\">\n",
       "  <thead>\n",
       "    <tr style=\"text-align: right;\">\n",
       "      <th></th>\n",
       "      <th>count</th>\n",
       "      <th>mean</th>\n",
       "      <th>std</th>\n",
       "      <th>min</th>\n",
       "      <th>25%</th>\n",
       "      <th>50%</th>\n",
       "      <th>75%</th>\n",
       "      <th>max</th>\n",
       "    </tr>\n",
       "  </thead>\n",
       "  <tbody>\n",
       "    <tr>\n",
       "      <th>healthy30.1</th>\n",
       "      <td>22426.0</td>\n",
       "      <td>44.591</td>\n",
       "      <td>287.304</td>\n",
       "      <td>0.0</td>\n",
       "      <td>0.797</td>\n",
       "      <td>8.525</td>\n",
       "      <td>27.881</td>\n",
       "      <td>14902.684</td>\n",
       "    </tr>\n",
       "    <tr>\n",
       "      <th>healthy30</th>\n",
       "      <td>22426.0</td>\n",
       "      <td>44.591</td>\n",
       "      <td>337.074</td>\n",
       "      <td>0.0</td>\n",
       "      <td>0.654</td>\n",
       "      <td>7.104</td>\n",
       "      <td>25.009</td>\n",
       "      <td>22193.965</td>\n",
       "    </tr>\n",
       "    <tr>\n",
       "      <th>healthy12</th>\n",
       "      <td>22426.0</td>\n",
       "      <td>44.591</td>\n",
       "      <td>285.706</td>\n",
       "      <td>0.0</td>\n",
       "      <td>1.482</td>\n",
       "      <td>10.199</td>\n",
       "      <td>29.627</td>\n",
       "      <td>24767.539</td>\n",
       "    </tr>\n",
       "    <tr>\n",
       "      <th>healthy18.1</th>\n",
       "      <td>22426.0</td>\n",
       "      <td>44.591</td>\n",
       "      <td>353.710</td>\n",
       "      <td>0.0</td>\n",
       "      <td>0.942</td>\n",
       "      <td>7.839</td>\n",
       "      <td>24.494</td>\n",
       "      <td>29718.510</td>\n",
       "    </tr>\n",
       "    <tr>\n",
       "      <th>healthy18</th>\n",
       "      <td>22426.0</td>\n",
       "      <td>44.591</td>\n",
       "      <td>391.117</td>\n",
       "      <td>0.0</td>\n",
       "      <td>0.997</td>\n",
       "      <td>7.393</td>\n",
       "      <td>23.217</td>\n",
       "      <td>36543.769</td>\n",
       "    </tr>\n",
       "    <tr>\n",
       "      <th>healthy24.1</th>\n",
       "      <td>22426.0</td>\n",
       "      <td>44.591</td>\n",
       "      <td>362.055</td>\n",
       "      <td>0.0</td>\n",
       "      <td>1.064</td>\n",
       "      <td>8.185</td>\n",
       "      <td>24.213</td>\n",
       "      <td>23032.323</td>\n",
       "    </tr>\n",
       "    <tr>\n",
       "      <th>healthy12.1</th>\n",
       "      <td>22426.0</td>\n",
       "      <td>44.591</td>\n",
       "      <td>274.744</td>\n",
       "      <td>0.0</td>\n",
       "      <td>1.248</td>\n",
       "      <td>10.185</td>\n",
       "      <td>30.402</td>\n",
       "      <td>23438.856</td>\n",
       "    </tr>\n",
       "  </tbody>\n",
       "</table>\n",
       "</div>"
      ],
      "text/plain": [
       "               count    mean      std  min    25%     50%     75%        max\n",
       "healthy30.1  22426.0  44.591  287.304  0.0  0.797   8.525  27.881  14902.684\n",
       "healthy30    22426.0  44.591  337.074  0.0  0.654   7.104  25.009  22193.965\n",
       "healthy12    22426.0  44.591  285.706  0.0  1.482  10.199  29.627  24767.539\n",
       "healthy18.1  22426.0  44.591  353.710  0.0  0.942   7.839  24.494  29718.510\n",
       "healthy18    22426.0  44.591  391.117  0.0  0.997   7.393  23.217  36543.769\n",
       "healthy24.1  22426.0  44.591  362.055  0.0  1.064   8.185  24.213  23032.323\n",
       "healthy12.1  22426.0  44.591  274.744  0.0  1.248  10.185  30.402  23438.856"
      ]
     },
     "execution_count": 77,
     "metadata": {},
     "output_type": "execute_result"
    }
   ],
   "source": [
    "## Gets some stats on the new filtered array of genes with common zeros\n",
    "df_plot = df_tmp.describe().T\n",
    "df_plot.drop(df_plot.tail(1).index,inplace=True) # drop last n rows / or first n rows (.head)\n",
    "df_plot "
   ]
  },
  {
   "cell_type": "code",
   "execution_count": 78,
   "metadata": {},
   "outputs": [
    {
     "data": {
      "text/plain": [
       "healthy30.1    14902.684\n",
       "healthy30      22193.965\n",
       "healthy24.1    23032.323\n",
       "healthy12.1    23438.856\n",
       "healthy12      24767.539\n",
       "healthy18.1    29718.510\n",
       "healthy18      36543.769\n",
       "Name: max, dtype: float64"
      ]
     },
     "execution_count": 78,
     "metadata": {},
     "output_type": "execute_result"
    }
   ],
   "source": [
    "df_plot[\"max\"].sort_values()"
   ]
  },
  {
   "cell_type": "code",
   "execution_count": 79,
   "metadata": {},
   "outputs": [
    {
     "data": {
      "image/png": "[encoded data removed]",
      "text/plain": [
       "<Figure size 720x504 with 1 Axes>"
      ]
     },
     "metadata": {},
     "output_type": "display_data"
    }
   ],
   "source": [
    "# Plot and save stats for the matrix type A\n",
    "plot_intercuartile_bar(df_plot, 'Matrix B: interquartile for A.thaliana '+ general_titles,'TPM-values')\n",
    "# df_plot.to_csv(\"../statistics/matrix_B_stats_\"+ general_titles.strip()+\".csv\", index=False, header=True)"
   ]
  },
  {
   "cell_type": "code",
   "execution_count": 80,
   "metadata": {},
   "outputs": [
    {
     "data": {
      "image/png": "[encoded data removed]",
      "text/plain": [
       "<Figure size 720x504 with 1 Axes>"
      ]
     },
     "metadata": {},
     "output_type": "display_data"
    }
   ],
   "source": [
    "plot_mean_sdev_line(df_plot,'Matrix B: mean and std.dev for A.thaliana '+ general_titles,'TPM-values')"
   ]
  },
  {
   "cell_type": "markdown",
   "metadata": {},
   "source": [
    "## Check the number of zeros by sample after normalization"
   ]
  },
  {
   "cell_type": "code",
   "execution_count": 81,
   "metadata": {},
   "outputs": [],
   "source": [
    "sr_ceros = df_tmp.isin([0]).sum()\n",
    "type(sr_ceros)\n",
    "## transform the pandas serie into a pandas df\n",
    "df_ceros = sr_ceros.to_frame()"
   ]
  },
  {
   "cell_type": "code",
   "execution_count": 82,
   "metadata": {},
   "outputs": [
    {
     "data": {
      "text/plain": [
       "healthy18      1660\n",
       "healthy12.1    1811\n",
       "healthy24      2132\n",
       "healthy12      2168\n",
       "healthy18.1    2399\n",
       "healthy30.1    2460\n",
       "healthy30      2472\n",
       "healthy24.1    2474\n",
       "dtype: int64"
      ]
     },
     "execution_count": 82,
     "metadata": {},
     "output_type": "execute_result"
    }
   ],
   "source": [
    "type(sr_ceros)\n",
    "sr_ceros.sort_values()"
   ]
  },
  {
   "cell_type": "code",
   "execution_count": 83,
   "metadata": {},
   "outputs": [],
   "source": [
    "sr_ceros.sort_values().to_csv(\"../statistics/matrix_B_zeros_counter_\" + general_titles + \".csv\", sep =\",\")"
   ]
  },
  {
   "cell_type": "code",
   "execution_count": 84,
   "metadata": {},
   "outputs": [
    {
     "data": {
      "text/plain": [
       "'/home/cyntsc/Proyectos/tesis-code/meta-xtrome-analysis/results-data/matrices_de_expresion'"
      ]
     },
     "execution_count": 84,
     "metadata": {},
     "output_type": "execute_result"
    }
   ],
   "source": [
    "os.getcwd()"
   ]
  },
  {
   "cell_type": "markdown",
   "metadata": {},
   "source": [
    "## Check the number of zeros across all sample after normalization\n",
    "Zeros will be counted by gene across all samples & a new column with the zero-counter will be appended to the matrix."
   ]
  },
  {
   "cell_type": "code",
   "execution_count": 85,
   "metadata": {},
   "outputs": [
    {
     "data": {
      "text/html": [
       "<div>\n",
       "<style scoped>\n",
       "    .dataframe tbody tr th:only-of-type {\n",
       "        vertical-align: middle;\n",
       "    }\n",
       "\n",
       "    .dataframe tbody tr th {\n",
       "        vertical-align: top;\n",
       "    }\n",
       "\n",
       "    .dataframe thead th {\n",
       "        text-align: right;\n",
       "    }\n",
       "</style>\n",
       "<table border=\"1\" class=\"dataframe\">\n",
       "  <thead>\n",
       "    <tr style=\"text-align: right;\">\n",
       "      <th></th>\n",
       "      <th>healthy30.1</th>\n",
       "      <th>healthy30</th>\n",
       "      <th>healthy12</th>\n",
       "      <th>healthy18.1</th>\n",
       "      <th>healthy18</th>\n",
       "      <th>healthy24.1</th>\n",
       "      <th>healthy12.1</th>\n",
       "      <th>healthy24</th>\n",
       "      <th>zero-counter</th>\n",
       "    </tr>\n",
       "    <tr>\n",
       "      <th>Genes</th>\n",
       "      <th></th>\n",
       "      <th></th>\n",
       "      <th></th>\n",
       "      <th></th>\n",
       "      <th></th>\n",
       "      <th></th>\n",
       "      <th></th>\n",
       "      <th></th>\n",
       "      <th></th>\n",
       "    </tr>\n",
       "  </thead>\n",
       "  <tbody>\n",
       "    <tr>\n",
       "      <th>AT1G01020</th>\n",
       "      <td>8.482</td>\n",
       "      <td>7.118</td>\n",
       "      <td>9.930</td>\n",
       "      <td>8.065</td>\n",
       "      <td>7.243</td>\n",
       "      <td>8.547</td>\n",
       "      <td>11.852</td>\n",
       "      <td>9.254</td>\n",
       "      <td>0</td>\n",
       "    </tr>\n",
       "    <tr>\n",
       "      <th>AT1G01030</th>\n",
       "      <td>1.577</td>\n",
       "      <td>1.776</td>\n",
       "      <td>1.944</td>\n",
       "      <td>1.458</td>\n",
       "      <td>1.841</td>\n",
       "      <td>2.418</td>\n",
       "      <td>1.589</td>\n",
       "      <td>0.934</td>\n",
       "      <td>0</td>\n",
       "    </tr>\n",
       "    <tr>\n",
       "      <th>AT1G01040</th>\n",
       "      <td>28.536</td>\n",
       "      <td>25.216</td>\n",
       "      <td>21.880</td>\n",
       "      <td>21.147</td>\n",
       "      <td>17.802</td>\n",
       "      <td>13.734</td>\n",
       "      <td>23.615</td>\n",
       "      <td>15.054</td>\n",
       "      <td>0</td>\n",
       "    </tr>\n",
       "  </tbody>\n",
       "</table>\n",
       "</div>"
      ],
      "text/plain": [
       "           healthy30.1  healthy30  healthy12  healthy18.1  healthy18  \\\n",
       "Genes                                                                  \n",
       "AT1G01020        8.482      7.118      9.930        8.065      7.243   \n",
       "AT1G01030        1.577      1.776      1.944        1.458      1.841   \n",
       "AT1G01040       28.536     25.216     21.880       21.147     17.802   \n",
       "\n",
       "           healthy24.1  healthy12.1  healthy24  zero-counter  \n",
       "Genes                                                         \n",
       "AT1G01020        8.547       11.852      9.254             0  \n",
       "AT1G01030        2.418        1.589      0.934             0  \n",
       "AT1G01040       13.734       23.615     15.054             0  "
      ]
     },
     "execution_count": 85,
     "metadata": {},
     "output_type": "execute_result"
    }
   ],
   "source": [
    "s_zeros =(df_tmp == 0.000).astype(int).sum(axis=1)\n",
    "## Added a column to df1 with the counter of zeros\n",
    "df_tmp['zero-counter'] = s_zeros\n",
    "df_tmp.head(3)"
   ]
  },
  {
   "cell_type": "markdown",
   "metadata": {},
   "source": [
    "**If you want to check the remaining zeros**"
   ]
  },
  {
   "cell_type": "code",
   "execution_count": 86,
   "metadata": {},
   "outputs": [
    {
     "data": {
      "text/plain": [
       "8"
      ]
     },
     "execution_count": 86,
     "metadata": {},
     "output_type": "execute_result"
    }
   ],
   "source": [
    "(len(df_tmp.columns)-1)"
   ]
  },
  {
   "cell_type": "code",
   "execution_count": 87,
   "metadata": {},
   "outputs": [
    {
     "data": {
      "text/html": [
       "<div>\n",
       "<style scoped>\n",
       "    .dataframe tbody tr th:only-of-type {\n",
       "        vertical-align: middle;\n",
       "    }\n",
       "\n",
       "    .dataframe tbody tr th {\n",
       "        vertical-align: top;\n",
       "    }\n",
       "\n",
       "    .dataframe thead th {\n",
       "        text-align: right;\n",
       "    }\n",
       "</style>\n",
       "<table border=\"1\" class=\"dataframe\">\n",
       "  <thead>\n",
       "    <tr style=\"text-align: right;\">\n",
       "      <th></th>\n",
       "      <th>healthy30.1</th>\n",
       "      <th>healthy30</th>\n",
       "      <th>healthy12</th>\n",
       "      <th>healthy18.1</th>\n",
       "      <th>healthy18</th>\n",
       "      <th>healthy24.1</th>\n",
       "      <th>healthy12.1</th>\n",
       "      <th>healthy24</th>\n",
       "      <th>zero-counter</th>\n",
       "    </tr>\n",
       "    <tr>\n",
       "      <th>Genes</th>\n",
       "      <th></th>\n",
       "      <th></th>\n",
       "      <th></th>\n",
       "      <th></th>\n",
       "      <th></th>\n",
       "      <th></th>\n",
       "      <th></th>\n",
       "      <th></th>\n",
       "      <th></th>\n",
       "    </tr>\n",
       "  </thead>\n",
       "  <tbody>\n",
       "  </tbody>\n",
       "</table>\n",
       "</div>"
      ],
      "text/plain": [
       "Empty DataFrame\n",
       "Columns: [healthy30.1, healthy30, healthy12, healthy18.1, healthy18, healthy24.1, healthy12.1, healthy24, zero-counter]\n",
       "Index: []"
      ]
     },
     "execution_count": 87,
     "metadata": {},
     "output_type": "execute_result"
    }
   ],
   "source": [
    "## Filter is looking for genes with 8 zeros across all samples in the healthy df (we have 8 samples for control)\n",
    "##                   and genes with 17 zeros across all samples in the infected df (we have 17 samples infected)\n",
    "is_zero = (df_tmp['zero-counter'] >= (len(df_tmp.columns) - 1))     \n",
    "df_zero = df_tmp[is_zero]\n",
    "df_zero.head(3)"
   ]
  },
  {
   "cell_type": "code",
   "execution_count": 88,
   "metadata": {},
   "outputs": [
    {
     "data": {
      "text/plain": [
       "healthy30.1    0.0\n",
       "healthy30      0.0\n",
       "healthy12      0.0\n",
       "healthy18.1    0.0\n",
       "healthy18      0.0\n",
       "dtype: float64"
      ]
     },
     "execution_count": 88,
     "metadata": {},
     "output_type": "execute_result"
    }
   ],
   "source": [
    "## Here, we count how many genes are not expressed in all the samples\n",
    "df_zero.isin([0]).sum().head()"
   ]
  },
  {
   "cell_type": "markdown",
   "metadata": {},
   "source": [
    "## Now explore the distributions with the normalized data\n",
    "Plot all the sample in one plot (histogram and KDE)"
   ]
  },
  {
   "cell_type": "code",
   "execution_count": 89,
   "metadata": {},
   "outputs": [
    {
     "data": {
      "text/html": [
       "<div>\n",
       "<style scoped>\n",
       "    .dataframe tbody tr th:only-of-type {\n",
       "        vertical-align: middle;\n",
       "    }\n",
       "\n",
       "    .dataframe tbody tr th {\n",
       "        vertical-align: top;\n",
       "    }\n",
       "\n",
       "    .dataframe thead th {\n",
       "        text-align: right;\n",
       "    }\n",
       "</style>\n",
       "<table border=\"1\" class=\"dataframe\">\n",
       "  <thead>\n",
       "    <tr style=\"text-align: right;\">\n",
       "      <th></th>\n",
       "      <th>healthy30.1</th>\n",
       "      <th>healthy30</th>\n",
       "      <th>healthy12</th>\n",
       "      <th>healthy18.1</th>\n",
       "      <th>healthy18</th>\n",
       "      <th>healthy24.1</th>\n",
       "      <th>healthy12.1</th>\n",
       "      <th>healthy24</th>\n",
       "    </tr>\n",
       "  </thead>\n",
       "  <tbody>\n",
       "    <tr>\n",
       "      <th>0</th>\n",
       "      <td>8.482</td>\n",
       "      <td>7.118</td>\n",
       "      <td>9.930</td>\n",
       "      <td>8.065</td>\n",
       "      <td>7.243</td>\n",
       "      <td>8.547</td>\n",
       "      <td>11.852</td>\n",
       "      <td>9.254</td>\n",
       "    </tr>\n",
       "    <tr>\n",
       "      <th>1</th>\n",
       "      <td>1.577</td>\n",
       "      <td>1.776</td>\n",
       "      <td>1.944</td>\n",
       "      <td>1.458</td>\n",
       "      <td>1.841</td>\n",
       "      <td>2.418</td>\n",
       "      <td>1.589</td>\n",
       "      <td>0.934</td>\n",
       "    </tr>\n",
       "    <tr>\n",
       "      <th>2</th>\n",
       "      <td>28.536</td>\n",
       "      <td>25.216</td>\n",
       "      <td>21.880</td>\n",
       "      <td>21.147</td>\n",
       "      <td>17.802</td>\n",
       "      <td>13.734</td>\n",
       "      <td>23.615</td>\n",
       "      <td>15.054</td>\n",
       "    </tr>\n",
       "  </tbody>\n",
       "</table>\n",
       "</div>"
      ],
      "text/plain": [
       "   healthy30.1  healthy30  healthy12  healthy18.1  healthy18  healthy24.1  \\\n",
       "0        8.482      7.118      9.930        8.065      7.243        8.547   \n",
       "1        1.577      1.776      1.944        1.458      1.841        2.418   \n",
       "2       28.536     25.216     21.880       21.147     17.802       13.734   \n",
       "\n",
       "   healthy12.1  healthy24  \n",
       "0       11.852      9.254  \n",
       "1        1.589      0.934  \n",
       "2       23.615     15.054  "
      ]
     },
     "execution_count": 89,
     "metadata": {},
     "output_type": "execute_result"
    }
   ],
   "source": [
    "# Method one: \n",
    "# prepar array from the current df \n",
    "#                (Both methods are equivalent)\n",
    "\n",
    "df_tmp.reset_index(level = 0, inplace = True)\n",
    "df_plot = df_tmp.drop(['Genes','zero-counter'], axis = 1)\n",
    "df_plot.head(3)"
   ]
  },
  {
   "cell_type": "code",
   "execution_count": 90,
   "metadata": {},
   "outputs": [
    {
     "data": {
      "text/html": [
       "<div>\n",
       "<style scoped>\n",
       "    .dataframe tbody tr th:only-of-type {\n",
       "        vertical-align: middle;\n",
       "    }\n",
       "\n",
       "    .dataframe tbody tr th {\n",
       "        vertical-align: top;\n",
       "    }\n",
       "\n",
       "    .dataframe thead th {\n",
       "        text-align: right;\n",
       "    }\n",
       "</style>\n",
       "<table border=\"1\" class=\"dataframe\">\n",
       "  <thead>\n",
       "    <tr style=\"text-align: right;\">\n",
       "      <th></th>\n",
       "      <th>healthy30.1</th>\n",
       "      <th>healthy30</th>\n",
       "      <th>healthy12</th>\n",
       "      <th>healthy18.1</th>\n",
       "      <th>healthy18</th>\n",
       "      <th>healthy24.1</th>\n",
       "      <th>healthy12.1</th>\n",
       "      <th>healthy24</th>\n",
       "    </tr>\n",
       "  </thead>\n",
       "  <tbody>\n",
       "    <tr>\n",
       "      <th>0</th>\n",
       "      <td>8.482</td>\n",
       "      <td>7.118</td>\n",
       "      <td>9.930</td>\n",
       "      <td>8.065</td>\n",
       "      <td>7.243</td>\n",
       "      <td>8.547</td>\n",
       "      <td>11.852</td>\n",
       "      <td>9.254</td>\n",
       "    </tr>\n",
       "    <tr>\n",
       "      <th>1</th>\n",
       "      <td>1.577</td>\n",
       "      <td>1.776</td>\n",
       "      <td>1.944</td>\n",
       "      <td>1.458</td>\n",
       "      <td>1.841</td>\n",
       "      <td>2.418</td>\n",
       "      <td>1.589</td>\n",
       "      <td>0.934</td>\n",
       "    </tr>\n",
       "    <tr>\n",
       "      <th>2</th>\n",
       "      <td>28.536</td>\n",
       "      <td>25.216</td>\n",
       "      <td>21.880</td>\n",
       "      <td>21.147</td>\n",
       "      <td>17.802</td>\n",
       "      <td>13.734</td>\n",
       "      <td>23.615</td>\n",
       "      <td>15.054</td>\n",
       "    </tr>\n",
       "  </tbody>\n",
       "</table>\n",
       "</div>"
      ],
      "text/plain": [
       "   healthy30.1  healthy30  healthy12  healthy18.1  healthy18  healthy24.1  \\\n",
       "0        8.482      7.118      9.930        8.065      7.243        8.547   \n",
       "1        1.577      1.776      1.944        1.458      1.841        2.418   \n",
       "2       28.536     25.216     21.880       21.147     17.802       13.734   \n",
       "\n",
       "   healthy12.1  healthy24  \n",
       "0       11.852      9.254  \n",
       "1        1.589      0.934  \n",
       "2       23.615     15.054  "
      ]
     },
     "execution_count": 90,
     "metadata": {},
     "output_type": "execute_result"
    }
   ],
   "source": [
    "# Method two: \n",
    "# load the created one \n",
    "df_plot = pd.read_csv(\"matrix_B_\" + general_titles.strip() + \".csv\", sep = ',')  \n",
    "df_plot.drop(['Genes'], axis = 1, inplace = True)\n",
    "df_plot.head(3)"
   ]
  },
  {
   "cell_type": "code",
   "execution_count": 91,
   "metadata": {},
   "outputs": [
    {
     "data": {
      "text/plain": [
       "(22426, 8)"
      ]
     },
     "execution_count": 91,
     "metadata": {},
     "output_type": "execute_result"
    }
   ],
   "source": [
    "df_plot.shape"
   ]
  },
  {
   "cell_type": "code",
   "execution_count": 92,
   "metadata": {},
   "outputs": [
    {
     "name": "stdout",
     "output_type": "stream",
     "text": [
      "['healthy30.1', 'healthy30', 'healthy12', 'healthy18.1', 'healthy18', 'healthy24.1', 'healthy12.1', 'healthy24']\n"
     ]
    }
   ],
   "source": [
    "## Get sample list names\n",
    "sample_lst = df_plot.columns.to_list()\n",
    "print(sample_lst)"
   ]
  },
  {
   "cell_type": "code",
   "execution_count": 93,
   "metadata": {},
   "outputs": [
    {
     "name": "stderr",
     "output_type": "stream",
     "text": [
      "/home/cyntsc/.local/lib/python3.8/site-packages/seaborn/distributions.py:2619: FutureWarning: `distplot` is a deprecated function and will be removed in a future version. Please adapt your code to use either `displot` (a figure-level function with similar flexibility) or `histplot` (an axes-level function for histograms).\n",
      "  warnings.warn(msg, FutureWarning)\n",
      "/usr/lib/python3/dist-packages/matplotlib/cbook/__init__.py:1402: FutureWarning: Support for multi-dimensional indexing (e.g. `obj[:, None]`) is deprecated and will be removed in a future version.  Convert to a numpy array before indexing instead.\n",
      "  ndim = x[:, None].ndim\n",
      "/usr/lib/python3/dist-packages/matplotlib/axes/_base.py:276: FutureWarning: Support for multi-dimensional indexing (e.g. `obj[:, None]`) is deprecated and will be removed in a future version.  Convert to a numpy array before indexing instead.\n",
      "  x = x[:, np.newaxis]\n",
      "/usr/lib/python3/dist-packages/matplotlib/axes/_base.py:278: FutureWarning: Support for multi-dimensional indexing (e.g. `obj[:, None]`) is deprecated and will be removed in a future version.  Convert to a numpy array before indexing instead.\n",
      "  y = y[:, np.newaxis]\n",
      "/home/cyntsc/.local/lib/python3.8/site-packages/seaborn/distributions.py:2619: FutureWarning: `distplot` is a deprecated function and will be removed in a future version. Please adapt your code to use either `displot` (a figure-level function with similar flexibility) or `histplot` (an axes-level function for histograms).\n",
      "  warnings.warn(msg, FutureWarning)\n",
      "/usr/lib/python3/dist-packages/matplotlib/cbook/__init__.py:1402: FutureWarning: Support for multi-dimensional indexing (e.g. `obj[:, None]`) is deprecated and will be removed in a future version.  Convert to a numpy array before indexing instead.\n",
      "  ndim = x[:, None].ndim\n",
      "/usr/lib/python3/dist-packages/matplotlib/axes/_base.py:276: FutureWarning: Support for multi-dimensional indexing (e.g. `obj[:, None]`) is deprecated and will be removed in a future version.  Convert to a numpy array before indexing instead.\n",
      "  x = x[:, np.newaxis]\n",
      "/usr/lib/python3/dist-packages/matplotlib/axes/_base.py:278: FutureWarning: Support for multi-dimensional indexing (e.g. `obj[:, None]`) is deprecated and will be removed in a future version.  Convert to a numpy array before indexing instead.\n",
      "  y = y[:, np.newaxis]\n",
      "/home/cyntsc/.local/lib/python3.8/site-packages/seaborn/distributions.py:2619: FutureWarning: `distplot` is a deprecated function and will be removed in a future version. Please adapt your code to use either `displot` (a figure-level function with similar flexibility) or `histplot` (an axes-level function for histograms).\n",
      "  warnings.warn(msg, FutureWarning)\n",
      "/usr/lib/python3/dist-packages/matplotlib/cbook/__init__.py:1402: FutureWarning: Support for multi-dimensional indexing (e.g. `obj[:, None]`) is deprecated and will be removed in a future version.  Convert to a numpy array before indexing instead.\n",
      "  ndim = x[:, None].ndim\n",
      "/usr/lib/python3/dist-packages/matplotlib/axes/_base.py:276: FutureWarning: Support for multi-dimensional indexing (e.g. `obj[:, None]`) is deprecated and will be removed in a future version.  Convert to a numpy array before indexing instead.\n",
      "  x = x[:, np.newaxis]\n",
      "/usr/lib/python3/dist-packages/matplotlib/axes/_base.py:278: FutureWarning: Support for multi-dimensional indexing (e.g. `obj[:, None]`) is deprecated and will be removed in a future version.  Convert to a numpy array before indexing instead.\n",
      "  y = y[:, np.newaxis]\n",
      "/home/cyntsc/.local/lib/python3.8/site-packages/seaborn/distributions.py:2619: FutureWarning: `distplot` is a deprecated function and will be removed in a future version. Please adapt your code to use either `displot` (a figure-level function with similar flexibility) or `histplot` (an axes-level function for histograms).\n",
      "  warnings.warn(msg, FutureWarning)\n",
      "/usr/lib/python3/dist-packages/matplotlib/cbook/__init__.py:1402: FutureWarning: Support for multi-dimensional indexing (e.g. `obj[:, None]`) is deprecated and will be removed in a future version.  Convert to a numpy array before indexing instead.\n",
      "  ndim = x[:, None].ndim\n",
      "/usr/lib/python3/dist-packages/matplotlib/axes/_base.py:276: FutureWarning: Support for multi-dimensional indexing (e.g. `obj[:, None]`) is deprecated and will be removed in a future version.  Convert to a numpy array before indexing instead.\n",
      "  x = x[:, np.newaxis]\n",
      "/usr/lib/python3/dist-packages/matplotlib/axes/_base.py:278: FutureWarning: Support for multi-dimensional indexing (e.g. `obj[:, None]`) is deprecated and will be removed in a future version.  Convert to a numpy array before indexing instead.\n",
      "  y = y[:, np.newaxis]\n",
      "/home/cyntsc/.local/lib/python3.8/site-packages/seaborn/distributions.py:2619: FutureWarning: `distplot` is a deprecated function and will be removed in a future version. Please adapt your code to use either `displot` (a figure-level function with similar flexibility) or `histplot` (an axes-level function for histograms).\n",
      "  warnings.warn(msg, FutureWarning)\n",
      "/usr/lib/python3/dist-packages/matplotlib/cbook/__init__.py:1402: FutureWarning: Support for multi-dimensional indexing (e.g. `obj[:, None]`) is deprecated and will be removed in a future version.  Convert to a numpy array before indexing instead.\n",
      "  ndim = x[:, None].ndim\n",
      "/usr/lib/python3/dist-packages/matplotlib/axes/_base.py:276: FutureWarning: Support for multi-dimensional indexing (e.g. `obj[:, None]`) is deprecated and will be removed in a future version.  Convert to a numpy array before indexing instead.\n",
      "  x = x[:, np.newaxis]\n",
      "/usr/lib/python3/dist-packages/matplotlib/axes/_base.py:278: FutureWarning: Support for multi-dimensional indexing (e.g. `obj[:, None]`) is deprecated and will be removed in a future version.  Convert to a numpy array before indexing instead.\n",
      "  y = y[:, np.newaxis]\n",
      "/home/cyntsc/.local/lib/python3.8/site-packages/seaborn/distributions.py:2619: FutureWarning: `distplot` is a deprecated function and will be removed in a future version. Please adapt your code to use either `displot` (a figure-level function with similar flexibility) or `histplot` (an axes-level function for histograms).\n",
      "  warnings.warn(msg, FutureWarning)\n",
      "/usr/lib/python3/dist-packages/matplotlib/cbook/__init__.py:1402: FutureWarning: Support for multi-dimensional indexing (e.g. `obj[:, None]`) is deprecated and will be removed in a future version.  Convert to a numpy array before indexing instead.\n",
      "  ndim = x[:, None].ndim\n",
      "/usr/lib/python3/dist-packages/matplotlib/axes/_base.py:276: FutureWarning: Support for multi-dimensional indexing (e.g. `obj[:, None]`) is deprecated and will be removed in a future version.  Convert to a numpy array before indexing instead.\n",
      "  x = x[:, np.newaxis]\n",
      "/usr/lib/python3/dist-packages/matplotlib/axes/_base.py:278: FutureWarning: Support for multi-dimensional indexing (e.g. `obj[:, None]`) is deprecated and will be removed in a future version.  Convert to a numpy array before indexing instead.\n",
      "  y = y[:, np.newaxis]\n",
      "/home/cyntsc/.local/lib/python3.8/site-packages/seaborn/distributions.py:2619: FutureWarning: `distplot` is a deprecated function and will be removed in a future version. Please adapt your code to use either `displot` (a figure-level function with similar flexibility) or `histplot` (an axes-level function for histograms).\n",
      "  warnings.warn(msg, FutureWarning)\n",
      "/usr/lib/python3/dist-packages/matplotlib/cbook/__init__.py:1402: FutureWarning: Support for multi-dimensional indexing (e.g. `obj[:, None]`) is deprecated and will be removed in a future version.  Convert to a numpy array before indexing instead.\n",
      "  ndim = x[:, None].ndim\n",
      "/usr/lib/python3/dist-packages/matplotlib/axes/_base.py:276: FutureWarning: Support for multi-dimensional indexing (e.g. `obj[:, None]`) is deprecated and will be removed in a future version.  Convert to a numpy array before indexing instead.\n",
      "  x = x[:, np.newaxis]\n",
      "/usr/lib/python3/dist-packages/matplotlib/axes/_base.py:278: FutureWarning: Support for multi-dimensional indexing (e.g. `obj[:, None]`) is deprecated and will be removed in a future version.  Convert to a numpy array before indexing instead.\n",
      "  y = y[:, np.newaxis]\n"
     ]
    },
    {
     "data": {
      "image/png": "[encoded data removed]",
      "text/plain": [
       "<Figure size 2100x1200 with 1 Axes>"
      ]
     },
     "metadata": {},
     "output_type": "display_data"
    }
   ],
   "source": [
    "from importlib import reload\n",
    "plt = reload(plt)\n",
    "\n",
    "plot_KDE2(df_plot, sample_lst, 'TPM values')"
   ]
  },
  {
   "cell_type": "code",
   "execution_count": 94,
   "metadata": {},
   "outputs": [],
   "source": [
    "x1, y1 = [500, 29000], [0.010, 0.0005]"
   ]
  },
  {
   "cell_type": "code",
   "execution_count": 95,
   "metadata": {},
   "outputs": [
    {
     "data": {
      "text/plain": [
       "[500, 29000]"
      ]
     },
     "execution_count": 95,
     "metadata": {},
     "output_type": "execute_result"
    }
   ],
   "source": [
    "x1"
   ]
  },
  {
   "cell_type": "code",
   "execution_count": null,
   "metadata": {},
   "outputs": [],
   "source": []
  },
  {
   "cell_type": "code",
   "execution_count": null,
   "metadata": {},
   "outputs": [],
   "source": []
  }
 ],
 "metadata": {
  "kernelspec": {
   "display_name": "Python 3 (ipykernel)",
   "language": "python",
   "name": "python3"
  },
  "language_info": {
   "codemirror_mode": {
    "name": "ipython",
    "version": 3
   },
   "file_extension": ".py",
   "mimetype": "text/x-python",
   "name": "python",
   "nbconvert_exporter": "python",
   "pygments_lexer": "ipython3",
   "version": "3.8.10"
  }
 },
 "nbformat": 4,
 "nbformat_minor": 4
}
