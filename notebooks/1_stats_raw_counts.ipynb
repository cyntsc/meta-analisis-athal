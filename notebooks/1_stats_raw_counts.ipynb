{
 "cells": [
  {
   "cell_type": "markdown",
   "metadata": {},
   "source": [
    "# 1 Getting basic statistics over raw count files\n",
    "\n",
    "Cynthia Soto <br>\n",
    "Date: March 17th 2021<br>\n",
    "Last md: March 19th 2021 <br>\n",
    "\n",
    "**Assumptions:** <br>\n",
    "You want to explore your data before perform functions over the data. <br>\n",
    "Data are expression RNASeq raw counts.e.g: files generated with HTSeq tool <br>\n",
    "**This is a custom script to get the general statistics over a subset of files with raw counts (Arabidopsis (Col-0) Healthy and Infected)** <br>\n",
    "\n",
    "***Workflow:***<br>\n",
    "1) Compouse a expression matrix<br>\n",
    "2) Get some basic statics & the number of genes in zeros.<br>"
   ]
  },
  {
   "cell_type": "code",
   "execution_count": 277,
   "metadata": {},
   "outputs": [],
   "source": [
    "import pandas as pd\n",
    "import numpy as np\n",
    "import os \n",
    "import glob\n",
    "\n",
    "# Set some initial configuration \n",
    "pd.set_option(\"display.precision\", 3)"
   ]
  },
  {
   "cell_type": "code",
   "execution_count": 278,
   "metadata": {},
   "outputs": [
    {
     "name": "stdout",
     "output_type": "stream",
     "text": [
      "Directory changed\n",
      "/home/cyntsc/Proyectos/tesis-code/meta-xtrome-analysis/athal1_htseq-counts\n"
     ]
    }
   ],
   "source": [
    "try:\n",
    "    # Change the current working Directory to the quantification dir\n",
    "    #os.chdir(\"/home/cyntsc/Proyectos/athal1_htseq-counts/\")\n",
    "    os.chdir(\"/home/cyntsc/Proyectos/tesis-code/meta-xtrome-analysis/athal1_htseq-counts\")\n",
    "    print(\"Directory changed\")\n",
    "except OSError:\n",
    "    print(\"Can't change the Current Working Directory\")\n",
    "s_path=os.getcwd()\n",
    "print(s_path)\n",
    "\n",
    "#athal3_htseq-counts/   infected\n",
    "#athal1_htseq-counts/   healthy"
   ]
  },
  {
   "cell_type": "code",
   "execution_count": 279,
   "metadata": {},
   "outputs": [
    {
     "data": {
      "text/plain": [
       "['SRR6283145',\n",
       " 'Readme.md',\n",
       " 'SRR6283144',\n",
       " 'athal_gene_name.csv',\n",
       " 'SRR3383640',\n",
       " 'wgcna_dataset1_thaliana_sana',\n",
       " 'SRR3383783',\n",
       " 'trash',\n",
       " 'SRR3383782',\n",
       " 'SRR3383822',\n",
       " '.Rhistory',\n",
       " 'SRR3383641',\n",
       " 'SRR3383821']"
      ]
     },
     "execution_count": 279,
     "metadata": {},
     "output_type": "execute_result"
    }
   ],
   "source": [
    "#print(os.listdir(os.getcwd()) # list files in Dir\n",
    "os.listdir(os.getcwd())"
   ]
  },
  {
   "cell_type": "code",
   "execution_count": 280,
   "metadata": {},
   "outputs": [
    {
     "name": "stdout",
     "output_type": "stream",
     "text": [
      "SRR6283145\n",
      "SRR6283144\n",
      "SRR3383640\n",
      "SRR3383783\n",
      "SRR3383782\n",
      "SRR3383822\n",
      "SRR3383641\n",
      "SRR3383821\n"
     ]
    }
   ],
   "source": [
    "for file in glob.glob(\"SRR*\"):\n",
    "    print(file)"
   ]
  },
  {
   "cell_type": "markdown",
   "metadata": {},
   "source": [
    "### Adjust raw count files to get some stats\n",
    "<ol>\n",
    "<li>Remove lines that are not of interest</li>\n",
    "<li>Get the basic stats about each sample</li>\n",
    "<li>Get some additional stats: eg. number of zeros by sample</li>\n",
    "</ol>"
   ]
  },
  {
   "cell_type": "code",
   "execution_count": 281,
   "metadata": {},
   "outputs": [
    {
     "name": "stdout",
     "output_type": "stream",
     "text": [
      "SRR6283145\n",
      "       Genes  Counts\n",
      "0  AT1G01010      76\n",
      "1  AT1G01020     175\n",
      "Genes in zeros: 7688\n",
      "            Counts\n",
      "count     2.77e+04\n",
      "mean           633\n",
      "std       2.95e+03\n",
      "min              0\n",
      "25%              0\n",
      "50%             72\n",
      "75%            481\n",
      "max       1.41e+05\n",
      "Zeros     7.69e+03\n",
      "sample  SRR6283145\n",
      "SRR6283144\n",
      "       Genes  Counts\n",
      "0  AT1G01010     181\n",
      "1  AT1G01020     163\n",
      "Genes in zeros: 7700\n",
      "            Counts\n",
      "count     2.77e+04\n",
      "mean           707\n",
      "std       4.07e+03\n",
      "min              0\n",
      "25%              0\n",
      "50%             63\n",
      "75%            469\n",
      "max       2.75e+05\n",
      "Zeros      7.7e+03\n",
      "sample  SRR6283144\n",
      "SRR3383640\n",
      "       Genes  Counts\n",
      "0  AT1G01010      91\n",
      "1  AT1G01020     108\n",
      "Genes in zeros: 7396\n",
      "            Counts\n",
      "count     2.77e+04\n",
      "mean           348\n",
      "std       1.86e+03\n",
      "min              0\n",
      "25%              0\n",
      "50%             52\n",
      "75%            281\n",
      "max       1.53e+05\n",
      "Zeros      7.4e+03\n",
      "sample  SRR3383640\n",
      "SRR3383783\n",
      "       Genes  Counts\n",
      "0  AT1G01010      57\n",
      "1  AT1G01020     117\n",
      "Genes in zeros: 7627\n",
      "            Counts\n",
      "count     2.77e+04\n",
      "mean           453\n",
      "std       3.22e+03\n",
      "min              0\n",
      "25%              0\n",
      "50%             51\n",
      "75%            303\n",
      "max       3.16e+05\n",
      "Zeros     7.63e+03\n",
      "sample  SRR3383783\n",
      "SRR3383782\n",
      "       Genes  Counts\n",
      "0  AT1G01010     114\n",
      "1  AT1G01020     224\n",
      "Genes in zeros: 6888\n",
      "            Counts\n",
      "count     2.77e+04\n",
      "mean           954\n",
      "std       7.14e+03\n",
      "min              0\n",
      "25%              1\n",
      "50%            106\n",
      "75%            607\n",
      "max       6.61e+05\n",
      "Zeros     6.89e+03\n",
      "sample  SRR3383782\n",
      "SRR3383822\n",
      "       Genes  Counts\n",
      "0  AT1G01010      66\n",
      "1  AT1G01020      92\n",
      "Genes in zeros: 7702\n",
      "            Counts\n",
      "count     2.77e+04\n",
      "mean           319\n",
      "std       2.04e+03\n",
      "min              0\n",
      "25%              0\n",
      "50%             40\n",
      "75%            224\n",
      "max       1.14e+05\n",
      "Zeros      7.7e+03\n",
      "sample  SRR3383822\n",
      "SRR3383641\n",
      "       Genes  Counts\n",
      "0  AT1G01010     192\n",
      "1  AT1G01020     267\n",
      "Genes in zeros: 7039\n",
      "            Counts\n",
      "count     2.77e+04\n",
      "mean           716\n",
      "std       3.76e+03\n",
      "min              0\n",
      "25%              0\n",
      "50%            105\n",
      "75%            586\n",
      "max       3.15e+05\n",
      "Zeros     7.04e+03\n",
      "sample  SRR3383641\n",
      "SRR3383821\n",
      "       Genes  Counts\n",
      "0  AT1G01010     132\n",
      "1  AT1G01020     145\n",
      "Genes in zeros: 7360\n",
      "            Counts\n",
      "count     2.77e+04\n",
      "mean           482\n",
      "std       2.65e+03\n",
      "min              0\n",
      "25%              0\n",
      "50%             61\n",
      "75%            351\n",
      "max       1.48e+05\n",
      "Zeros     7.36e+03\n",
      "sample  SRR3383821\n"
     ]
    }
   ],
   "source": [
    "## Take each file and drop the last n rows (refering to the statistics of HTSeq) that are not counts.\n",
    "## 1) Take in account that rows with statistic (last ones) produced by the quantification tool in each file will be removed to avoid error\n",
    "## this need to be adjust depending the quantification tool.\n",
    "\n",
    "## 2) It is assumed that files contains just \"Genes and Counts\"\n",
    "\n",
    "for file in glob.glob(\"SRR*\"):\n",
    "    print(file)\n",
    "    df= pd.read_csv(file, sep='\\t', header=None)\n",
    "    try:\n",
    "        # Add column-names\n",
    "        df.columns = [\"Genes\",\"Counts\"]\n",
    "        print(df.head(2))      \n",
    "        df.drop(df.tail(5).index,inplace=True) # drop last n rows (refering statistics of HTSeq)\n",
    "        #print(df.tail(5))       \n",
    "        ## check genes in zeros across \n",
    "        genes_in_cero = df.isin([0]).sum()\n",
    "        print(\"Genes in zeros:\",genes_in_cero['Counts'])\n",
    "        ## CREATE NEW file with basic statistics *_stats.csv\n",
    "        df_stats=df.describe()\n",
    "        #print(df_stats.columns)\n",
    "        df_stats.loc['Zeros'] = [genes_in_cero['Counts']]      # adding a row\n",
    "        df_stats.loc['sample'] = [file]                        # adding a row\n",
    "        print(df_stats)            # print(df_stats.columns)\n",
    "        df_stats.to_csv('../results-data/statistics/tmp/'+str(file)+'_raw_healthy_stats.csv', sep='\\t')\n",
    "    except:\n",
    "        pass # doing nothing on exception, not processed because it is already pre-processed\""
   ]
  },
  {
   "cell_type": "markdown",
   "metadata": {},
   "source": [
    "### Here all statistic files (previously generated) will be integrated in one file to plot it later"
   ]
  },
  {
   "cell_type": "code",
   "execution_count": 282,
   "metadata": {},
   "outputs": [
    {
     "name": "stdout",
     "output_type": "stream",
     "text": [
      "../results-data/statistics/tmp/SRR3383821_raw_healthy_stats.csv\n",
      "../results-data/statistics/tmp/SRR3383783_raw_healthy_stats.csv\n",
      "../results-data/statistics/tmp/SRR3383822_raw_healthy_stats.csv\n",
      "../results-data/statistics/tmp/SRR3383640_raw_healthy_stats.csv\n",
      "../results-data/statistics/tmp/SRR3383641_raw_healthy_stats.csv\n",
      "../results-data/statistics/tmp/SRR6283145_raw_healthy_stats.csv\n",
      "../results-data/statistics/tmp/SRR3383782_raw_healthy_stats.csv\n",
      "../results-data/statistics/tmp/SRR6283144_raw_healthy_stats.csv\n"
     ]
    }
   ],
   "source": [
    "# if you want to check the files to be processed before to run the code\n",
    "for file in glob.glob(\"../results-data/statistics/tmp/*_raw_healthy_stats.csv\"):\n",
    "    print(file)"
   ]
  },
  {
   "cell_type": "code",
   "execution_count": 283,
   "metadata": {},
   "outputs": [
    {
     "name": "stdout",
     "output_type": "stream",
     "text": [
      "../results-data/statistics/tmp/SRR3383821_raw_healthy_stats.csv\n",
      "../results-data/statistics/tmp/SRR3383783_raw_healthy_stats.csv\n",
      "../results-data/statistics/tmp/SRR3383822_raw_healthy_stats.csv\n",
      "../results-data/statistics/tmp/SRR3383640_raw_healthy_stats.csv\n",
      "../results-data/statistics/tmp/SRR3383641_raw_healthy_stats.csv\n",
      "../results-data/statistics/tmp/SRR6283145_raw_healthy_stats.csv\n",
      "../results-data/statistics/tmp/SRR3383782_raw_healthy_stats.csv\n",
      "../results-data/statistics/tmp/SRR6283144_raw_healthy_stats.csv\n"
     ]
    }
   ],
   "source": [
    "bfirst_file=True\n",
    "for file in glob.glob(\"../results-data/statistics/tmp/*_raw_healthy_stats.csv\"):\n",
    "    print(file)\n",
    "    df_tmp=pd.read_csv(file, sep='\\t', header=None, index_col=False)\n",
    "    #print(df_tmp)\n",
    "    # transpose df\n",
    "    df = df_tmp.T\n",
    "    # drop index 0 (somelike headers) -- rows\n",
    "    df.drop(df.index[:1], inplace=True)\n",
    "    if bfirst_file==True:\n",
    "        df_all=df\n",
    "        bfirst_file=False\n",
    "        #print(df_all)\n",
    "    else:\n",
    "        df_all=df_all.append(df)\n",
    "        #print(df_all)\n",
    "        pass\n",
    "    \n",
    "#print(df_all)"
   ]
  },
  {
   "cell_type": "code",
   "execution_count": 284,
   "metadata": {},
   "outputs": [
    {
     "name": "stdout",
     "output_type": "stream",
     "text": [
      "Int64Index([1, 1, 1, 1, 1, 1, 1, 1], dtype='int64')\n"
     ]
    },
    {
     "data": {
      "text/html": [
       "<div>\n",
       "<style scoped>\n",
       "    .dataframe tbody tr th:only-of-type {\n",
       "        vertical-align: middle;\n",
       "    }\n",
       "\n",
       "    .dataframe tbody tr th {\n",
       "        vertical-align: top;\n",
       "    }\n",
       "\n",
       "    .dataframe thead th {\n",
       "        text-align: right;\n",
       "    }\n",
       "</style>\n",
       "<table border=\"1\" class=\"dataframe\">\n",
       "  <thead>\n",
       "    <tr style=\"text-align: right;\">\n",
       "      <th></th>\n",
       "      <th>Metric</th>\n",
       "      <th>count</th>\n",
       "      <th>mean</th>\n",
       "      <th>std</th>\n",
       "      <th>min</th>\n",
       "      <th>25%</th>\n",
       "      <th>50%</th>\n",
       "      <th>75%</th>\n",
       "      <th>max</th>\n",
       "      <th>Zeros</th>\n",
       "      <th>sample</th>\n",
       "    </tr>\n",
       "  </thead>\n",
       "  <tbody>\n",
       "    <tr>\n",
       "      <th>1</th>\n",
       "      <td>Counts</td>\n",
       "      <td>27655.0</td>\n",
       "      <td>481.7541493400832</td>\n",
       "      <td>2645.055346295502</td>\n",
       "      <td>0.0</td>\n",
       "      <td>0.0</td>\n",
       "      <td>61.0</td>\n",
       "      <td>351.0</td>\n",
       "      <td>148426.0</td>\n",
       "      <td>7360.0</td>\n",
       "      <td>SRR3383821</td>\n",
       "    </tr>\n",
       "    <tr>\n",
       "      <th>1</th>\n",
       "      <td>Counts</td>\n",
       "      <td>27655.0</td>\n",
       "      <td>452.5218224552522</td>\n",
       "      <td>3224.049552321334</td>\n",
       "      <td>0.0</td>\n",
       "      <td>0.0</td>\n",
       "      <td>51.0</td>\n",
       "      <td>303.0</td>\n",
       "      <td>315702.0</td>\n",
       "      <td>7627.0</td>\n",
       "      <td>SRR3383783</td>\n",
       "    </tr>\n",
       "    <tr>\n",
       "      <th>1</th>\n",
       "      <td>Counts</td>\n",
       "      <td>27655.0</td>\n",
       "      <td>319.34670041583803</td>\n",
       "      <td>2041.0240612378823</td>\n",
       "      <td>0.0</td>\n",
       "      <td>0.0</td>\n",
       "      <td>40.0</td>\n",
       "      <td>224.0</td>\n",
       "      <td>113771.0</td>\n",
       "      <td>7702.0</td>\n",
       "      <td>SRR3383822</td>\n",
       "    </tr>\n",
       "    <tr>\n",
       "      <th>1</th>\n",
       "      <td>Counts</td>\n",
       "      <td>27655.0</td>\n",
       "      <td>347.664328331224</td>\n",
       "      <td>1860.4692499293658</td>\n",
       "      <td>0.0</td>\n",
       "      <td>0.0</td>\n",
       "      <td>52.0</td>\n",
       "      <td>281.0</td>\n",
       "      <td>153437.0</td>\n",
       "      <td>7396.0</td>\n",
       "      <td>SRR3383640</td>\n",
       "    </tr>\n",
       "    <tr>\n",
       "      <th>1</th>\n",
       "      <td>Counts</td>\n",
       "      <td>27655.0</td>\n",
       "      <td>716.3532815042488</td>\n",
       "      <td>3764.29342521545</td>\n",
       "      <td>0.0</td>\n",
       "      <td>0.0</td>\n",
       "      <td>105.0</td>\n",
       "      <td>586.0</td>\n",
       "      <td>315017.0</td>\n",
       "      <td>7039.0</td>\n",
       "      <td>SRR3383641</td>\n",
       "    </tr>\n",
       "  </tbody>\n",
       "</table>\n",
       "</div>"
      ],
      "text/plain": [
       "   Metric    count                mean                 std  min  25%    50%  \\\n",
       "1  Counts  27655.0   481.7541493400832   2645.055346295502  0.0  0.0   61.0   \n",
       "1  Counts  27655.0   452.5218224552522   3224.049552321334  0.0  0.0   51.0   \n",
       "1  Counts  27655.0  319.34670041583803  2041.0240612378823  0.0  0.0   40.0   \n",
       "1  Counts  27655.0    347.664328331224  1860.4692499293658  0.0  0.0   52.0   \n",
       "1  Counts  27655.0   716.3532815042488    3764.29342521545  0.0  0.0  105.0   \n",
       "\n",
       "     75%       max   Zeros      sample  \n",
       "1  351.0  148426.0  7360.0  SRR3383821  \n",
       "1  303.0  315702.0  7627.0  SRR3383783  \n",
       "1  224.0  113771.0  7702.0  SRR3383822  \n",
       "1  281.0  153437.0  7396.0  SRR3383640  \n",
       "1  586.0  315017.0  7039.0  SRR3383641  "
      ]
     },
     "execution_count": 284,
     "metadata": {},
     "output_type": "execute_result"
    }
   ],
   "source": [
    "#df_all\n",
    "# set column's names to apply filters by name\n",
    "df_all.columns = ['Metric','count','mean','std','min','25%','50%','75%','max','Zeros','sample']\n",
    "df_all\n",
    "#df_all.set_index('sample', inplace=True)\n",
    "df_all.reset_index()\n",
    "print(df_all.index)\n",
    "df_all.head(5)"
   ]
  },
  {
   "cell_type": "code",
   "execution_count": 285,
   "metadata": {},
   "outputs": [
    {
     "name": "stdout",
     "output_type": "stream",
     "text": [
      "Int64Index([1, 1, 1, 1, 1, 1, 1, 1], dtype='int64')\n"
     ]
    }
   ],
   "source": [
    "# select and format the measures to be plotted\n",
    "df_all[['mean','std','25%','50%','75%','max','Zeros']] = df_all[['mean','std','25%','50%','75%','max','Zeros']].apply(pd.to_numeric)\n",
    "# apply decimals \n",
    "df_all = df_all.filter(['sample','mean','std','25%','50%','75%','max','Zeros']).round(decimals=3)\n",
    "#print(df_plot.dtypes)\n",
    "print(df_all.index)"
   ]
  },
  {
   "cell_type": "code",
   "execution_count": 286,
   "metadata": {},
   "outputs": [
    {
     "data": {
      "text/html": [
       "<div>\n",
       "<style scoped>\n",
       "    .dataframe tbody tr th:only-of-type {\n",
       "        vertical-align: middle;\n",
       "    }\n",
       "\n",
       "    .dataframe tbody tr th {\n",
       "        vertical-align: top;\n",
       "    }\n",
       "\n",
       "    .dataframe thead th {\n",
       "        text-align: right;\n",
       "    }\n",
       "</style>\n",
       "<table border=\"1\" class=\"dataframe\">\n",
       "  <thead>\n",
       "    <tr style=\"text-align: right;\">\n",
       "      <th></th>\n",
       "      <th>sample</th>\n",
       "      <th>mean</th>\n",
       "      <th>std</th>\n",
       "      <th>25%</th>\n",
       "      <th>50%</th>\n",
       "      <th>75%</th>\n",
       "      <th>max</th>\n",
       "      <th>Zeros</th>\n",
       "    </tr>\n",
       "  </thead>\n",
       "  <tbody>\n",
       "    <tr>\n",
       "      <th>1</th>\n",
       "      <td>SRR3383821</td>\n",
       "      <td>481.754</td>\n",
       "      <td>2645.055</td>\n",
       "      <td>0.0</td>\n",
       "      <td>61.0</td>\n",
       "      <td>351.0</td>\n",
       "      <td>148426.0</td>\n",
       "      <td>7360.0</td>\n",
       "    </tr>\n",
       "    <tr>\n",
       "      <th>1</th>\n",
       "      <td>SRR3383783</td>\n",
       "      <td>452.522</td>\n",
       "      <td>3224.050</td>\n",
       "      <td>0.0</td>\n",
       "      <td>51.0</td>\n",
       "      <td>303.0</td>\n",
       "      <td>315702.0</td>\n",
       "      <td>7627.0</td>\n",
       "    </tr>\n",
       "    <tr>\n",
       "      <th>1</th>\n",
       "      <td>SRR3383822</td>\n",
       "      <td>319.347</td>\n",
       "      <td>2041.024</td>\n",
       "      <td>0.0</td>\n",
       "      <td>40.0</td>\n",
       "      <td>224.0</td>\n",
       "      <td>113771.0</td>\n",
       "      <td>7702.0</td>\n",
       "    </tr>\n",
       "    <tr>\n",
       "      <th>1</th>\n",
       "      <td>SRR3383640</td>\n",
       "      <td>347.664</td>\n",
       "      <td>1860.469</td>\n",
       "      <td>0.0</td>\n",
       "      <td>52.0</td>\n",
       "      <td>281.0</td>\n",
       "      <td>153437.0</td>\n",
       "      <td>7396.0</td>\n",
       "    </tr>\n",
       "    <tr>\n",
       "      <th>1</th>\n",
       "      <td>SRR3383641</td>\n",
       "      <td>716.353</td>\n",
       "      <td>3764.293</td>\n",
       "      <td>0.0</td>\n",
       "      <td>105.0</td>\n",
       "      <td>586.0</td>\n",
       "      <td>315017.0</td>\n",
       "      <td>7039.0</td>\n",
       "    </tr>\n",
       "  </tbody>\n",
       "</table>\n",
       "</div>"
      ],
      "text/plain": [
       "       sample     mean       std  25%    50%    75%       max   Zeros\n",
       "1  SRR3383821  481.754  2645.055  0.0   61.0  351.0  148426.0  7360.0\n",
       "1  SRR3383783  452.522  3224.050  0.0   51.0  303.0  315702.0  7627.0\n",
       "1  SRR3383822  319.347  2041.024  0.0   40.0  224.0  113771.0  7702.0\n",
       "1  SRR3383640  347.664  1860.469  0.0   52.0  281.0  153437.0  7396.0\n",
       "1  SRR3383641  716.353  3764.293  0.0  105.0  586.0  315017.0  7039.0"
      ]
     },
     "execution_count": 286,
     "metadata": {},
     "output_type": "execute_result"
    }
   ],
   "source": [
    "df_plot = df_all\n",
    "#print(df_plot.index)\n",
    "df_plot.head(5)"
   ]
  },
  {
   "cell_type": "markdown",
   "metadata": {},
   "source": [
    "\n",
    "###  Adding labels for plotting (leyends)\n"
   ]
  },
  {
   "cell_type": "code",
   "execution_count": 287,
   "metadata": {},
   "outputs": [
    {
     "name": "stdout",
     "output_type": "stream",
     "text": [
      "RangeIndex(start=0, stop=25, step=1)\n"
     ]
    },
    {
     "data": {
      "text/html": [
       "<div>\n",
       "<style scoped>\n",
       "    .dataframe tbody tr th:only-of-type {\n",
       "        vertical-align: middle;\n",
       "    }\n",
       "\n",
       "    .dataframe tbody tr th {\n",
       "        vertical-align: top;\n",
       "    }\n",
       "\n",
       "    .dataframe thead th {\n",
       "        text-align: right;\n",
       "    }\n",
       "</style>\n",
       "<table border=\"1\" class=\"dataframe\">\n",
       "  <thead>\n",
       "    <tr style=\"text-align: right;\">\n",
       "      <th></th>\n",
       "      <th>sample</th>\n",
       "      <th>ID</th>\n",
       "    </tr>\n",
       "  </thead>\n",
       "  <tbody>\n",
       "    <tr>\n",
       "      <th>0</th>\n",
       "      <td>SRR3383696</td>\n",
       "      <td>Bc12</td>\n",
       "    </tr>\n",
       "    <tr>\n",
       "      <th>1</th>\n",
       "      <td>SRR3383697</td>\n",
       "      <td>Bc12.1</td>\n",
       "    </tr>\n",
       "    <tr>\n",
       "      <th>2</th>\n",
       "      <td>SRR3383780</td>\n",
       "      <td>Bc18</td>\n",
       "    </tr>\n",
       "    <tr>\n",
       "      <th>3</th>\n",
       "      <td>SRR3383779</td>\n",
       "      <td>Bc18.1</td>\n",
       "    </tr>\n",
       "    <tr>\n",
       "      <th>4</th>\n",
       "      <td>SRR10586397</td>\n",
       "      <td>Bc24</td>\n",
       "    </tr>\n",
       "  </tbody>\n",
       "</table>\n",
       "</div>"
      ],
      "text/plain": [
       "        sample      ID\n",
       "0   SRR3383696    Bc12\n",
       "1   SRR3383697  Bc12.1\n",
       "2   SRR3383780    Bc18\n",
       "3   SRR3383779  Bc18.1\n",
       "4  SRR10586397    Bc24"
      ]
     },
     "execution_count": 287,
     "metadata": {},
     "output_type": "execute_result"
    }
   ],
   "source": [
    "file='../meta-data/ID_samples.csv'\n",
    "df_meta=pd.read_csv(file, sep='\\,', engine='python', usecols=[0,1]) \n",
    "print(df_meta.index)\n",
    "df_meta.head(5)"
   ]
  },
  {
   "cell_type": "code",
   "execution_count": 288,
   "metadata": {},
   "outputs": [
    {
     "data": {
      "text/html": [
       "<div>\n",
       "<style scoped>\n",
       "    .dataframe tbody tr th:only-of-type {\n",
       "        vertical-align: middle;\n",
       "    }\n",
       "\n",
       "    .dataframe tbody tr th {\n",
       "        vertical-align: top;\n",
       "    }\n",
       "\n",
       "    .dataframe thead th {\n",
       "        text-align: right;\n",
       "    }\n",
       "</style>\n",
       "<table border=\"1\" class=\"dataframe\">\n",
       "  <thead>\n",
       "    <tr style=\"text-align: right;\">\n",
       "      <th></th>\n",
       "      <th>sample</th>\n",
       "      <th>ID</th>\n",
       "    </tr>\n",
       "  </thead>\n",
       "  <tbody>\n",
       "    <tr>\n",
       "      <th>0</th>\n",
       "      <td>SRR3383696</td>\n",
       "      <td>Bc12</td>\n",
       "    </tr>\n",
       "    <tr>\n",
       "      <th>1</th>\n",
       "      <td>SRR3383697</td>\n",
       "      <td>Bc12.1</td>\n",
       "    </tr>\n",
       "    <tr>\n",
       "      <th>2</th>\n",
       "      <td>SRR3383780</td>\n",
       "      <td>Bc18</td>\n",
       "    </tr>\n",
       "    <tr>\n",
       "      <th>3</th>\n",
       "      <td>SRR3383779</td>\n",
       "      <td>Bc18.1</td>\n",
       "    </tr>\n",
       "    <tr>\n",
       "      <th>4</th>\n",
       "      <td>SRR10586397</td>\n",
       "      <td>Bc24</td>\n",
       "    </tr>\n",
       "    <tr>\n",
       "      <th>5</th>\n",
       "      <td>SRR10586399</td>\n",
       "      <td>Bc24.1</td>\n",
       "    </tr>\n",
       "    <tr>\n",
       "      <th>6</th>\n",
       "      <td>SRR364390</td>\n",
       "      <td>Ch22</td>\n",
       "    </tr>\n",
       "    <tr>\n",
       "      <th>7</th>\n",
       "      <td>SRR364389</td>\n",
       "      <td>Ch22.1</td>\n",
       "    </tr>\n",
       "    <tr>\n",
       "      <th>8</th>\n",
       "      <td>SRR364391</td>\n",
       "      <td>Ch22.2</td>\n",
       "    </tr>\n",
       "    <tr>\n",
       "      <th>9</th>\n",
       "      <td>SRR364392</td>\n",
       "      <td>Ch22.3</td>\n",
       "    </tr>\n",
       "    <tr>\n",
       "      <th>10</th>\n",
       "      <td>SRR364401</td>\n",
       "      <td>Ch40</td>\n",
       "    </tr>\n",
       "    <tr>\n",
       "      <th>11</th>\n",
       "      <td>SRR364400</td>\n",
       "      <td>Ch40.1</td>\n",
       "    </tr>\n",
       "    <tr>\n",
       "      <th>12</th>\n",
       "      <td>SRR364398</td>\n",
       "      <td>Ch40.2</td>\n",
       "    </tr>\n",
       "    <tr>\n",
       "      <th>13</th>\n",
       "      <td>SRR364399</td>\n",
       "      <td>Ch40.3</td>\n",
       "    </tr>\n",
       "    <tr>\n",
       "      <th>14</th>\n",
       "      <td>SRR6283148</td>\n",
       "      <td>Ss30</td>\n",
       "    </tr>\n",
       "    <tr>\n",
       "      <th>15</th>\n",
       "      <td>SRR6283147</td>\n",
       "      <td>Ss30.1</td>\n",
       "    </tr>\n",
       "    <tr>\n",
       "      <th>16</th>\n",
       "      <td>SRR6283146</td>\n",
       "      <td>Ss30.2</td>\n",
       "    </tr>\n",
       "    <tr>\n",
       "      <th>17</th>\n",
       "      <td>SRR3383640</td>\n",
       "      <td>healthy12</td>\n",
       "    </tr>\n",
       "    <tr>\n",
       "      <th>18</th>\n",
       "      <td>SRR3383641</td>\n",
       "      <td>healthy12.1</td>\n",
       "    </tr>\n",
       "    <tr>\n",
       "      <th>19</th>\n",
       "      <td>SRR3383782</td>\n",
       "      <td>healthy18</td>\n",
       "    </tr>\n",
       "    <tr>\n",
       "      <th>20</th>\n",
       "      <td>SRR3383783</td>\n",
       "      <td>healthy18.1</td>\n",
       "    </tr>\n",
       "    <tr>\n",
       "      <th>21</th>\n",
       "      <td>SRR3383821</td>\n",
       "      <td>healthy24</td>\n",
       "    </tr>\n",
       "    <tr>\n",
       "      <th>22</th>\n",
       "      <td>SRR3383822</td>\n",
       "      <td>healthy24.1</td>\n",
       "    </tr>\n",
       "    <tr>\n",
       "      <th>23</th>\n",
       "      <td>SRR6283144</td>\n",
       "      <td>healthy30</td>\n",
       "    </tr>\n",
       "    <tr>\n",
       "      <th>24</th>\n",
       "      <td>SRR6283145</td>\n",
       "      <td>Healthy30.1</td>\n",
       "    </tr>\n",
       "  </tbody>\n",
       "</table>\n",
       "</div>"
      ],
      "text/plain": [
       "         sample           ID\n",
       "0    SRR3383696         Bc12\n",
       "1    SRR3383697       Bc12.1\n",
       "2    SRR3383780         Bc18\n",
       "3    SRR3383779       Bc18.1\n",
       "4   SRR10586397         Bc24\n",
       "5   SRR10586399       Bc24.1\n",
       "6     SRR364390         Ch22\n",
       "7     SRR364389       Ch22.1\n",
       "8     SRR364391       Ch22.2\n",
       "9     SRR364392       Ch22.3\n",
       "10    SRR364401         Ch40\n",
       "11    SRR364400       Ch40.1\n",
       "12    SRR364398       Ch40.2\n",
       "13    SRR364399       Ch40.3\n",
       "14   SRR6283148         Ss30\n",
       "15   SRR6283147       Ss30.1\n",
       "16   SRR6283146       Ss30.2\n",
       "17   SRR3383640    healthy12\n",
       "18   SRR3383641  healthy12.1\n",
       "19   SRR3383782    healthy18\n",
       "20   SRR3383783  healthy18.1\n",
       "21   SRR3383821    healthy24\n",
       "22   SRR3383822  healthy24.1\n",
       "23   SRR6283144    healthy30\n",
       "24   SRR6283145  Healthy30.1"
      ]
     },
     "execution_count": 288,
     "metadata": {},
     "output_type": "execute_result"
    }
   ],
   "source": [
    "#df_meta.reset_index()\n",
    "df_meta.set_index(\"sample\", inplace=True)\n",
    "df_meta.reset_index()"
   ]
  },
  {
   "cell_type": "markdown",
   "metadata": {},
   "source": [
    "### Merge the df(s) to plot some stats about it with the sample names acurrate labeled"
   ]
  },
  {
   "cell_type": "code",
   "execution_count": 289,
   "metadata": {},
   "outputs": [],
   "source": [
    "#merged_df = pd.merge(df_plot, df_meta, on=\"sample\")\n",
    "merged_df = pd.merge(df_plot, df_meta, left_on='sample', right_on='sample')"
   ]
  },
  {
   "cell_type": "code",
   "execution_count": 290,
   "metadata": {},
   "outputs": [],
   "source": [
    "merged_df\n",
    "merged_df.to_csv('../results-data/statistics/all_raw_healthy_stats_zeros.csv', sep='\\t', header=True, index=None)"
   ]
  },
  {
   "cell_type": "markdown",
   "metadata": {},
   "source": [
    "### Get and sort specific column of interest "
   ]
  },
  {
   "cell_type": "code",
   "execution_count": 291,
   "metadata": {},
   "outputs": [
    {
     "name": "stdout",
     "output_type": "stream",
     "text": [
      "[6888.0, 7039.0, 7360.0, 7396.0, 7627.0, 7688.0, 7700.0, 7702.0]\n"
     ]
    }
   ],
   "source": [
    "## Ex: zeros field \n",
    "df_tmp= merged_df.sort_values('ID')\n",
    "#df_tmp\n",
    "col_ceros = df_tmp['Zeros'].tolist()\n",
    "col_ceros.sort(reverse=False)\n",
    "print(col_ceros)\n",
    "#newlst"
   ]
  },
  {
   "cell_type": "markdown",
   "metadata": {},
   "source": [
    "### Plot some metrics of interest "
   ]
  },
  {
   "cell_type": "code",
   "execution_count": 292,
   "metadata": {},
   "outputs": [],
   "source": [
    "import matplotlib.pyplot as plt\n",
    "## if you wish to consult available styles\n",
    "#plt.style.available[:30]    \n",
    "# 'Solarize_Light2','_classic_test_patch', 'bmh', 'classic', 'dark_background', 'fast', 'fivethirtyeight', 'ggplot', 'grayscale',  'seaborn'"
   ]
  },
  {
   "cell_type": "code",
   "execution_count": 293,
   "metadata": {},
   "outputs": [],
   "source": [
    "plt.style.use('seaborn-white')    # classic\n",
    "# kind : str\n",
    "\n",
    "#         ‘line’ : line plot (default)\n",
    "#         ‘bar’ : vertical bar plot\n",
    "#         ‘barh’ : horizontal bar plot\n",
    "#         ‘hist’ : histogram\n",
    "#         ‘box’ : boxplot\n",
    "#         ‘kde’ : Kernel Density Estimation plot\n",
    "#         ‘density’ : same as ‘kde’\n",
    "#         ‘area’ : area plot\n",
    "#         ‘pie’ : pie plot\n",
    "#         ‘scatter’ : scatter plot\n",
    "#         ‘hexbin’ : hexbin plot"
   ]
  },
  {
   "cell_type": "code",
   "execution_count": 294,
   "metadata": {},
   "outputs": [
    {
     "data": {
      "text/plain": [
       "<AxesSubplot:>"
      ]
     },
     "execution_count": 294,
     "metadata": {},
     "output_type": "execute_result"
    },
    {
     "data": {
      "image/png": "[encoded data removed]",
      "text/plain": [
       "<Figure size 432x288 with 1 Axes>"
      ]
     },
     "metadata": {},
     "output_type": "display_data"
    },
    {
     "data": {
      "image/png": "[encoded data removed]",
      "text/plain": [
       "<Figure size 432x288 with 1 Axes>"
      ]
     },
     "metadata": {},
     "output_type": "display_data"
    },
    {
     "data": {
      "image/png": "[encoded data removed]",
      "text/plain": [
       "<Figure size 432x288 with 1 Axes>"
      ]
     },
     "metadata": {},
     "output_type": "display_data"
    }
   ],
   "source": [
    "#merged_df.plot(x='ID', y=['mean','std'], kind='box') \n",
    "merged_df.plot(x='ID', y=['mean'], kind='box') \n",
    "merged_df.plot(x='ID', y=['25%','50%','75%'], kind='box') \n",
    "merged_df.plot(x='ID', y=['max'], kind='box') "
   ]
  },
  {
   "cell_type": "code",
   "execution_count": 295,
   "metadata": {
    "scrolled": true
   },
   "outputs": [
    {
     "name": "stderr",
     "output_type": "stream",
     "text": [
      "/home/cyntsc/Proyectos/tesis-code/jn_tesis_env/lib/python3.6/site-packages/pandas/plotting/_matplotlib/core.py:1192: UserWarning: FixedFormatter should only be used together with FixedLocator\n",
      "  ax.set_xticklabels(xticklabels)\n"
     ]
    },
    {
     "data": {
      "image/png": "[encoded data removed]",
      "text/plain": [
       "<Figure size 432x288 with 1 Axes>"
      ]
     },
     "metadata": {},
     "output_type": "display_data"
    },
    {
     "data": {
      "text/plain": [
       "<Figure size 432x288 with 0 Axes>"
      ]
     },
     "metadata": {},
     "output_type": "display_data"
    }
   ],
   "source": [
    "## be careful to assure your metrics can be plotted in the same dimensions\n",
    "## Ex: zero field is out of range respecting the other measures\n",
    "merged_df.plot(x='ID', y=['mean','25%','50%','75%'], kind='line',marker='o')   #marker='o'\n",
    "plt.xlabel('#ID Sample',color='black')\n",
    "plt.xticks(rotation=45)\n",
    "plt.ylabel('raw counts',color='black')\n",
    "plt.title('Intercuartil and mean of A.thaliana healthy', fontsize=14)\n",
    "plt.legend(loc=0)\n",
    "plt.show()\n",
    "plt.savefig(\"../results-data/statistics/athal_healthy_raw_stats.png\")"
   ]
  },
  {
   "cell_type": "markdown",
   "metadata": {},
   "source": [
    "### Plot the number of genes with zero count by sample"
   ]
  },
  {
   "cell_type": "code",
   "execution_count": 296,
   "metadata": {},
   "outputs": [
    {
     "data": {
      "image/png": "[encoded data removed]",
      "text/plain": [
       "<Figure size 432x288 with 1 Axes>"
      ]
     },
     "metadata": {},
     "output_type": "display_data"
    }
   ],
   "source": [
    "# More plots\n",
    "merged_df.plot(x='ID', y='Zeros', kind='bar', color='gold',fontsize=12)\n",
    "plt.xlabel('ID Sample',color='black',fontsize=14)\n",
    "plt.xticks(rotation=45)\n",
    "plt.ylabel('Number of genes',color='black',fontsize=14)\n",
    "plt.title('Number of genes with no expression on A.thaliana infected', fontsize=14)\n",
    "#plt.legend(loc=1)\n",
    "\n",
    "## add arbitrary lines to canvas\n",
    "plt.plot([0, 7], [7702, 7702], 'k-', lw=2, color='red',marker = 'o')\n",
    "plt.plot([0, 7], [5228, 5228], 'k-', lw=2, color='blue',marker = 'o')\n",
    "plt.text(0, 7200, \"7702 top of zeros\", fontsize=14)\n",
    "plt.text(0, 4700, \"5228 across all samples\", fontsize=14)\n",
    "\n",
    "plt.show()\n",
    "#plt.savefig(\"all_infected_num_zeros.png\")"
   ]
  },
  {
   "cell_type": "code",
   "execution_count": null,
   "metadata": {},
   "outputs": [],
   "source": []
  }
 ],
 "metadata": {
  "kernelspec": {
   "display_name": "Python 3",
   "language": "python",
   "name": "python3"
  },
  "language_info": {
   "codemirror_mode": {
    "name": "ipython",
    "version": 3
   },
   "file_extension": ".py",
   "mimetype": "text/x-python",
   "name": "python",
   "nbconvert_exporter": "python",
   "pygments_lexer": "ipython3",
   "version": "3.6.9"
  }
 },
 "nbformat": 4,
 "nbformat_minor": 4
}
