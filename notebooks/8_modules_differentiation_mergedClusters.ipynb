{
 "cells": [
  {
   "cell_type": "markdown",
   "metadata": {},
   "source": [
    "import matplotlib.pyplot as plt\n",
    "import os\n",
    "# ^^^ pyforest auto-imports - don't write above this line\n",
    "# 8 Modules differentiation\n",
    "\n",
    "## Negative control: Genetic Modules in plant infected not present in plant healthy \n",
    "\n",
    "**Datatype are text files with the ID of the genes**\n",
    "\n",
    "Made by: Cynthia Soto <br>\n",
    "Date: June 18th, 2021 <br>\n",
    "Last md: August 12th 2021 <br>\n",
    "\n",
    "**Assumptions:** <br>\n",
    "Exist at least 2 folders < control & infected > containing genetic modules (files) with the genes identiers. <br>\n",
    "\n",
    "1. Parse each infected module against all the control modules <br>\n",
    "2. Get de arithmetic difference.  <br> \n",
    "3. Calculate the percentual representation of the infected module in the control one.  <br>\n",
    "4. Plot some stats to explaint the work done.  <br>"
   ]
  },
  {
   "cell_type": "code",
   "execution_count": 1,
   "metadata": {},
   "outputs": [],
   "source": [
    "import os\n",
    "# ^^^ pyforest auto-imports - don't write above this line\n",
    "#from pyforest import *  # import the 40 most popular libraries to your notebook\n",
    "# to see the available libraries \n",
    "# lazy_imports()\n",
    "\n",
    "# Set some initial configuration \n",
    "import pandas as pd\n",
    "pd.set_option(\"display.precision\", 2)"
   ]
  },
  {
   "cell_type": "code",
   "execution_count": 2,
   "metadata": {},
   "outputs": [
    {
     "data": {
      "text/plain": [
       "'/home/cyntsc/Proyectos/tesis-code/meta-xtrome-analysis/notebooks'"
      ]
     },
     "execution_count": 2,
     "metadata": {},
     "output_type": "execute_result"
    }
   ],
   "source": [
    "os.getcwd()"
   ]
  },
  {
   "cell_type": "code",
   "execution_count": 3,
   "metadata": {},
   "outputs": [
    {
     "name": "stdout",
     "output_type": "stream",
     "text": [
      "Directory changed: /home/cyntsc/Proyectos/tesis-code/meta-xtrome-analysis/results-data/wgcna\n"
     ]
    }
   ],
   "source": [
    "# Set the base directory\n",
    "try:\n",
    "    # Change the current working Directory      \n",
    "    os.chdir(\"../results-data/wgcna\")\n",
    "    print(\"Directory changed:\", os.getcwd() )\n",
    "except OSError:\n",
    "    print(\"Can't change the Current Working Directory\")        "
   ]
  },
  {
   "cell_type": "markdown",
   "metadata": {},
   "source": [
    "### Folders with modules identify in wgcna"
   ]
  },
  {
   "cell_type": "code",
   "execution_count": 4,
   "metadata": {},
   "outputs": [
    {
     "name": "stdout",
     "output_type": "stream",
     "text": [
      "/home/cyntsc/Proyectos/tesis-code/meta-xtrome-analysis/results-data/wgcna/Athal_infected_selected_clusters.csv\n",
      "/home/cyntsc/Proyectos/tesis-code/meta-xtrome-analysis/results-data/wgcna/Athal_infected_mods_merged_MatrixE\n",
      "/home/cyntsc/Proyectos/tesis-code/meta-xtrome-analysis/results-data/wgcna/Athal_healthy_mods_merged_MatrixD\n",
      "/home/cyntsc/Proyectos/tesis-code/meta-xtrome-analysis/results-data/wgcna/Athal_healthy_mods_MatrixD\n",
      "/home/cyntsc/Proyectos/tesis-code/meta-xtrome-analysis/results-data/wgcna/Athal_healthy_selected_clusters.csv\n",
      "/home/cyntsc/Proyectos/tesis-code/meta-xtrome-analysis/results-data/wgcna/Athal_infected_mods_MatrixE\n"
     ]
    }
   ],
   "source": [
    "# Check the available folders with genetic modules\n",
    "import glob\n",
    "## check a bit of the files to be processed ... are they ok?\n",
    "s_path = str(os.getcwd()+'/Athal*') \n",
    "all_files = glob.glob(s_path)\n",
    "for file in all_files:\n",
    "    print(file)"
   ]
  },
  {
   "cell_type": "markdown",
   "metadata": {},
   "source": [
    "### Function declaration"
   ]
  },
  {
   "cell_type": "code",
   "execution_count": 5,
   "metadata": {},
   "outputs": [],
   "source": [
    "def load_ctl_mod_to_compare(s_mod_name):\n",
    "    # Create a set of the module in control required\n",
    "    # IN:     @ s_mod_name: name of the file containing the gene list\n",
    "    # OUT:    @ set_gene_ctrl: a set containing the unique genes to be compared \n",
    "    mod = '../Athal_healthy_mods_merged_MatrixD/'+ s_mod_name\n",
    "    df1 = pd.read_csv(mod, header=None)    ## nrows=100, usecols=[0,1]\n",
    "    gene_inf_lst = df1[0].tolist()\n",
    "    set_gene_ctrl = set(gene_inf_lst)\n",
    "    #print(set_gene_ctrl)\n",
    "    return set_gene_ctrl"
   ]
  },
  {
   "cell_type": "code",
   "execution_count": 6,
   "metadata": {},
   "outputs": [],
   "source": [
    "def make_autopct(values):\n",
    "    def my_autopct(pct):\n",
    "        total = sum(values)\n",
    "        val = int(round(pct*total/100.0))\n",
    "        return '{p:.1f}% ({v:d})'.format(p=pct,v=val)\n",
    "    return my_autopct"
   ]
  },
  {
   "cell_type": "code",
   "execution_count": 7,
   "metadata": {},
   "outputs": [],
   "source": [
    "def make_autopct2(values):\n",
    "    def my_autopct(pct):\n",
    "        total = sum(values)\n",
    "        val = int(round(pct*total/100.0))\n",
    "        return '{v:d}'.format(p=pct,v=val)\n",
    "    return my_autopct"
   ]
  },
  {
   "cell_type": "markdown",
   "metadata": {},
   "source": [
    "### Modules comparitions"
   ]
  },
  {
   "cell_type": "markdown",
   "metadata": {},
   "source": [
    "#### Check the number of modules in the infected dataset to be compared "
   ]
  },
  {
   "cell_type": "code",
   "execution_count": 8,
   "metadata": {},
   "outputs": [
    {
     "name": "stdout",
     "output_type": "stream",
     "text": [
      "Number of modules in infected dataset:35\n",
      "/home/cyntsc/Proyectos/tesis-code/meta-xtrome-analysis/results-data/wgcna/Athal_infected_mods_merged_MatrixE\n"
     ]
    },
    {
     "data": {
      "text/plain": [
       "['mod_merged_tomato2.txt',\n",
       " 'mod_merged_chocolate.txt',\n",
       " 'mod_merged_indianred.txt',\n",
       " 'mod_merged_bisque4.txt',\n",
       " 'mod_merged_blue2.txt']"
      ]
     },
     "execution_count": 8,
     "metadata": {},
     "output_type": "execute_result"
    }
   ],
   "source": [
    "os.chdir(\"Athal_infected_mods_merged_MatrixE\")\n",
    "dirListing_inf = os.listdir(str(os.getcwd()))\n",
    "print(\"Number of modules in infected dataset:\" + str(len(dirListing_inf)))\n",
    "path_files = os.getcwd()\n",
    "print(path_files)\n",
    "dirListing_inf[0:5]"
   ]
  },
  {
   "cell_type": "markdown",
   "metadata": {},
   "source": [
    "#### Create a list with the module's names (control)  to be parsed in recursive mode \n",
    "Option 1: parse a specific directory to create the list of genetic modules (MGs) <br>\n",
    "Option 2: parse a file with preselected MG to create the list of genetic modules (MGs) <br>"
   ]
  },
  {
   "cell_type": "code",
   "execution_count": 10,
   "metadata": {},
   "outputs": [],
   "source": [
    "# Option 1: This chunck create a list of (all) healthy modules parsing a specific whole directory \n",
    "\n",
    "# os.chdir(\"../Athal_healthy_mods_merged_MatrixD\")\n",
    "# print(\"Directory changed:\", os.getcwd() )\n",
    "# # First check the number of modules to compare \n",
    "# dirListing_ctl = os.listdir(str(os.getcwd()))\n",
    "# i_mods_to_parse = len(dirListing_ctl)\n",
    "# print(\"Number of modules in ctrl:\" + str(i_mods_to_parse))\n",
    "\n",
    "# # Second check the name of the modules\n",
    "# s_path = str(os.getcwd()+'/*') \n",
    "# path_files_ctrl = glob.glob(s_path)\n",
    "# #print(\"Path file control:\", path_files_ctrl)\n",
    "\n",
    "# #Create the lst of the modules in recursive mode\n",
    "# lst_mods_ctrl=[]\n",
    "# for file in path_files_ctrl:\n",
    "#     #print(os.path.basename(file))\n",
    "#     lst_mods_ctrl.append(os.path.basename(file))\n",
    "# print(lst_mods_ctrl[0:5])\n",
    "# i_mods_to_parse = len(lst_mods_ctrl)"
   ]
  },
  {
   "cell_type": "code",
   "execution_count": 14,
   "metadata": {},
   "outputs": [
    {
     "name": "stdout",
     "output_type": "stream",
     "text": [
      "['mod_merged_coral3.txt', 'mod_merged_mistyrose3.txt', 'mod_merged_tan1.txt', 'mod_merged_orange1.txt']\n",
      "21\n"
     ]
    }
   ],
   "source": [
    "# Option 2: This chunck create a list of healthy preselected modules \n",
    "# This option takes into account that the genetic module's comparitions be made just over relevant healthy mods\n",
    "# read csv file\n",
    "df=pd.read_csv(\"../Athal_healthy_selected_clusters.csv\", sep=',', header=0, usecols=[1])\n",
    "df\n",
    "#Create the lst of the modules in recursive mod\n",
    "df[\"mergedColors\"] = 'mod_merged_' + df['mergedColors'] + '.txt'\n",
    "lst_mods_ctrl = df[\"mergedColors\"].to_list()\n",
    "print(lst_mods_ctrl[0:4])\n",
    "i_mods_to_parse = len(lst_mods_ctrl)\n",
    "print(i_mods_to_parse)\n",
    "#os.chdir(\"../Athal_healthy_mods_merged_MatrixD\")"
   ]
  },
  {
   "cell_type": "code",
   "execution_count": null,
   "metadata": {},
   "outputs": [],
   "source": []
  },
  {
   "cell_type": "markdown",
   "metadata": {},
   "source": [
    "### Parse each infected module across all the the control modules stored in the lst_mods_ctrl variable\n",
    "#### A dictionary is built to save the result's comparitions for further analysis"
   ]
  },
  {
   "cell_type": "code",
   "execution_count": 15,
   "metadata": {},
   "outputs": [
    {
     "name": "stdout",
     "output_type": "stream",
     "text": [
      "/home/cyntsc/Proyectos/tesis-code/meta-xtrome-analysis/results-data/wgcna/Athal_infected_mods_merged_MatrixE\n"
     ]
    }
   ],
   "source": [
    "print(os.getcwd())"
   ]
  },
  {
   "cell_type": "code",
   "execution_count": 17,
   "metadata": {},
   "outputs": [
    {
     "name": "stdout",
     "output_type": "stream",
     "text": [
      "Infected Mod compare 1: mod_merged_tomato2.txt have 218 unique genes\n",
      "Infected Mod compare 2: mod_merged_chocolate.txt have 818 unique genes\n",
      "Infected Mod compare 3: mod_merged_indianred.txt have 160 unique genes\n",
      "Infected Mod compare 4: mod_merged_bisque4.txt have 115 unique genes\n",
      "Infected Mod compare 5: mod_merged_blue2.txt have 416 unique genes\n",
      "Infected Mod compare 6: mod_merged_firebrick2.txt have 304 unique genes\n",
      "Infected Mod compare 7: mod_merged_deepskyblue.txt have 39 unique genes\n",
      "Infected Mod compare 8: mod_merged_dodgerblue1.txt have 72 unique genes\n",
      "Infected Mod compare 9: mod_merged_green.txt have 236 unique genes\n",
      "Infected Mod compare 10: mod_merged_tan3.txt have 189 unique genes\n",
      "Infected Mod compare 11: mod_merged_lightblue2.txt have 196 unique genes\n",
      "Infected Mod compare 12: mod_merged_lavender.txt have 99 unique genes\n",
      "Infected Mod compare 13: mod_merged_coral4.txt have 98 unique genes\n",
      "Infected Mod compare 14: mod_merged_skyblue4.txt have 309 unique genes\n",
      "Infected Mod compare 15: mod_merged_burlywood.txt have 39 unique genes\n",
      "Infected Mod compare 16: mod_merged_darkmagenta.txt have 133 unique genes\n",
      "Infected Mod compare 17: mod_merged_lemonchiffon3.txt have 1589 unique genes\n",
      "Infected Mod compare 18: mod_merged_palevioletred3.txt have 62 unique genes\n",
      "Infected Mod compare 19: mod_merged_cornsilk2.txt have 267 unique genes\n",
      "Infected Mod compare 20: mod_merged_lightsteelblue.txt have 540 unique genes\n",
      "Infected Mod compare 21: mod_merged_darkolivegreen2.txt have 256 unique genes\n",
      "Infected Mod compare 22: mod_merged_hotpink3.txt have 1098 unique genes\n",
      "Infected Mod compare 23: mod_merged_antiquewhite.txt have 135 unique genes\n",
      "Infected Mod compare 24: mod_merged_darkolivegreen4.txt have 597 unique genes\n",
      "Infected Mod compare 25: mod_merged_green1.txt have 1429 unique genes\n",
      "Infected Mod compare 26: mod_merged_mediumpurple1.txt have 189 unique genes\n",
      "Infected Mod compare 27: mod_merged_palevioletred1.txt have 368 unique genes\n",
      "Infected Mod compare 28: mod_merged_chocolate2.txt have 573 unique genes\n",
      "Infected Mod compare 29: mod_merged_thistle1.txt have 190 unique genes\n",
      "Infected Mod compare 30: mod_merged_green3.txt have 472 unique genes\n",
      "Infected Mod compare 31: mod_merged_dodgerblue4.txt have 592 unique genes\n",
      "Infected Mod compare 32: mod_merged_mistyrose3.txt have 386 unique genes\n",
      "Infected Mod compare 33: mod_merged_steelblue.txt have 222 unique genes\n",
      "Infected Mod compare 34: mod_merged_brown2.txt have 261 unique genes\n",
      "Infected Mod compare 35: mod_merged_oldlace.txt have 1087 unique genes\n",
      "done\n"
     ]
    }
   ],
   "source": [
    "#### \n",
    "my_dict={}\n",
    "x = 1\n",
    "y = 1 # for assing unique keys to the dict\n",
    "\n",
    "# os.chdir(\"../Athal_infected_mods_merged_MatrixE\")\n",
    "# print(os.getcwd())\n",
    "for file in dirListing_inf:    # files is each infected module\n",
    "    #print(file)\n",
    "    # Prepare first set to be compared\n",
    "    df1 = pd.read_csv(file, header=None)    ## nrows=100, usecols=[0,1]\n",
    "    gene_list = df1[0].tolist()\n",
    "    # Get a unique set of genes from the specific infected module\n",
    "    uniqueGenes_inf = set(gene_list)\n",
    "    #print(uniqueGenes_inf)\n",
    "    mod_inf_name = str(os.path.basename(file))\n",
    "    mod_inf_name_lng = len(uniqueGenes_inf)\n",
    "    print(\"Infected Mod compare \" + str(x) + \": \" + mod_inf_name + ' have ' + str(mod_inf_name_lng) + ' unique genes')\n",
    "   \n",
    "    ##################################\n",
    "    # Compare the specific infected mod against all the healthy preselected mods to the percentual diference\n",
    "    # Go to the folder <<control>> because is the one to be parsed \n",
    "    os.chdir(\"../Athal_healthy_mods_merged_MatrixD\")\n",
    "    for i in range (i_mods_to_parse):  #i_mods_to_parse\n",
    "        mod_name = lst_mods_ctrl[i]\n",
    "        #print(\"Ctrl mod: \", mod_name)\n",
    "        #call the function that load the healthy mod to be compared\n",
    "        uniqueGenes_ctr = load_ctl_mod_to_compare(mod_name)\n",
    "        dif_AB = len(uniqueGenes_inf - uniqueGenes_ctr) \n",
    "        # Make the module logic comparition\n",
    "        if mod_inf_name_lng == dif_AB:\n",
    "            PercDif_AB = 100\n",
    "        else :\n",
    "            PercDif_AB = (100 * dif_AB) / mod_inf_name_lng\n",
    "        # mod_inf_name, mod_inf_name_lng, \n",
    "        mod_ctl_name_lng = len(uniqueGenes_ctr)\n",
    "        #print(mod_name, '\\t', mod_ctl_name_lng,'\\t',dif_AB,'\\t', PercDif_AB)\n",
    "        # Insert the result of the comparition into a dicitonary for further analysis\n",
    "        #print(y)\n",
    "        my_dict[y] = {}\n",
    "        my_dict[y]['Mod_Inf'] = mod_inf_name.rsplit( \".\", 1 )[ 0 ] \n",
    "        my_dict[y]['Mod_Lng_Inf'] = mod_inf_name_lng\n",
    "        my_dict[y]['Mod_Ctl'] = mod_name.rsplit(\".\",1)[0]\n",
    "        my_dict[y]['Mod_Lng_Ctl'] = mod_ctl_name_lng\n",
    "        my_dict[y]['Genes_diff'] = dif_AB\n",
    "        my_dict[y]['Perc_diff']= PercDif_AB\n",
    "        y = y+1\n",
    "    ################################## \n",
    "    \n",
    "    # Now change the directory bacause of another module of infected is going to be read\n",
    "    os.chdir(\"../Athal_infected_mods_merged_MatrixE\")\n",
    "    x = x + 1    # to escape in the first infected mod\n",
    "    #if x > 3: break\n",
    "#print(my_dict)              \n",
    "print(\"done\")"
   ]
  },
  {
   "cell_type": "code",
   "execution_count": 20,
   "metadata": {},
   "outputs": [
    {
     "data": {
      "text/plain": [
       "{'Mod_Inf': 'mod_merged_tomato2',\n",
       " 'Mod_Lng_Inf': 218,\n",
       " 'Mod_Ctl': 'mod_merged_coral3',\n",
       " 'Mod_Lng_Ctl': 2024,\n",
       " 'Genes_diff': 180,\n",
       " 'Perc_diff': 82.56880733944953}"
      ]
     },
     "execution_count": 20,
     "metadata": {},
     "output_type": "execute_result"
    }
   ],
   "source": [
    "my_dict[1]\n",
    "#my_dict[1]['Perc_diff']"
   ]
  },
  {
   "cell_type": "code",
   "execution_count": 21,
   "metadata": {},
   "outputs": [
    {
     "data": {
      "text/html": [
       "<div>\n",
       "<style scoped>\n",
       "    .dataframe tbody tr th:only-of-type {\n",
       "        vertical-align: middle;\n",
       "    }\n",
       "\n",
       "    .dataframe tbody tr th {\n",
       "        vertical-align: top;\n",
       "    }\n",
       "\n",
       "    .dataframe thead th {\n",
       "        text-align: right;\n",
       "    }\n",
       "</style>\n",
       "<table border=\"1\" class=\"dataframe\">\n",
       "  <thead>\n",
       "    <tr style=\"text-align: right;\">\n",
       "      <th></th>\n",
       "      <th>1</th>\n",
       "      <th>2</th>\n",
       "      <th>3</th>\n",
       "      <th>4</th>\n",
       "      <th>5</th>\n",
       "      <th>6</th>\n",
       "      <th>7</th>\n",
       "      <th>8</th>\n",
       "      <th>9</th>\n",
       "      <th>10</th>\n",
       "      <th>...</th>\n",
       "      <th>726</th>\n",
       "      <th>727</th>\n",
       "      <th>728</th>\n",
       "      <th>729</th>\n",
       "      <th>730</th>\n",
       "      <th>731</th>\n",
       "      <th>732</th>\n",
       "      <th>733</th>\n",
       "      <th>734</th>\n",
       "      <th>735</th>\n",
       "    </tr>\n",
       "  </thead>\n",
       "  <tbody>\n",
       "    <tr>\n",
       "      <th>Mod_Inf</th>\n",
       "      <td>mod_merged_tomato2</td>\n",
       "      <td>mod_merged_tomato2</td>\n",
       "      <td>mod_merged_tomato2</td>\n",
       "      <td>mod_merged_tomato2</td>\n",
       "      <td>mod_merged_tomato2</td>\n",
       "      <td>mod_merged_tomato2</td>\n",
       "      <td>mod_merged_tomato2</td>\n",
       "      <td>mod_merged_tomato2</td>\n",
       "      <td>mod_merged_tomato2</td>\n",
       "      <td>mod_merged_tomato2</td>\n",
       "      <td>...</td>\n",
       "      <td>mod_merged_oldlace</td>\n",
       "      <td>mod_merged_oldlace</td>\n",
       "      <td>mod_merged_oldlace</td>\n",
       "      <td>mod_merged_oldlace</td>\n",
       "      <td>mod_merged_oldlace</td>\n",
       "      <td>mod_merged_oldlace</td>\n",
       "      <td>mod_merged_oldlace</td>\n",
       "      <td>mod_merged_oldlace</td>\n",
       "      <td>mod_merged_oldlace</td>\n",
       "      <td>mod_merged_oldlace</td>\n",
       "    </tr>\n",
       "    <tr>\n",
       "      <th>Mod_Lng_Inf</th>\n",
       "      <td>218</td>\n",
       "      <td>218</td>\n",
       "      <td>218</td>\n",
       "      <td>218</td>\n",
       "      <td>218</td>\n",
       "      <td>218</td>\n",
       "      <td>218</td>\n",
       "      <td>218</td>\n",
       "      <td>218</td>\n",
       "      <td>218</td>\n",
       "      <td>...</td>\n",
       "      <td>1087</td>\n",
       "      <td>1087</td>\n",
       "      <td>1087</td>\n",
       "      <td>1087</td>\n",
       "      <td>1087</td>\n",
       "      <td>1087</td>\n",
       "      <td>1087</td>\n",
       "      <td>1087</td>\n",
       "      <td>1087</td>\n",
       "      <td>1087</td>\n",
       "    </tr>\n",
       "    <tr>\n",
       "      <th>Mod_Ctl</th>\n",
       "      <td>mod_merged_coral3</td>\n",
       "      <td>mod_merged_mistyrose3</td>\n",
       "      <td>mod_merged_tan1</td>\n",
       "      <td>mod_merged_orange1</td>\n",
       "      <td>mod_merged_deepskyblue</td>\n",
       "      <td>mod_merged_darkolivegreen4</td>\n",
       "      <td>mod_merged_thistle1</td>\n",
       "      <td>mod_merged_magenta2</td>\n",
       "      <td>mod_merged_lightblue1</td>\n",
       "      <td>mod_merged_darkolivegreen2</td>\n",
       "      <td>...</td>\n",
       "      <td>mod_merged_antiquewhite</td>\n",
       "      <td>mod_merged_navajowhite3</td>\n",
       "      <td>mod_merged_mediumpurple1</td>\n",
       "      <td>mod_merged_coral1</td>\n",
       "      <td>mod_merged_mediumpurple3</td>\n",
       "      <td>mod_merged_navajowhite1</td>\n",
       "      <td>mod_merged_blue3</td>\n",
       "      <td>mod_merged_brown3</td>\n",
       "      <td>mod_merged_antiquewhite3</td>\n",
       "      <td>mod_merged_firebrick2</td>\n",
       "    </tr>\n",
       "    <tr>\n",
       "      <th>Mod_Lng_Ctl</th>\n",
       "      <td>2024</td>\n",
       "      <td>33</td>\n",
       "      <td>33</td>\n",
       "      <td>95</td>\n",
       "      <td>834</td>\n",
       "      <td>1792</td>\n",
       "      <td>273</td>\n",
       "      <td>204</td>\n",
       "      <td>195</td>\n",
       "      <td>1175</td>\n",
       "      <td>...</td>\n",
       "      <td>577</td>\n",
       "      <td>492</td>\n",
       "      <td>273</td>\n",
       "      <td>141</td>\n",
       "      <td>109</td>\n",
       "      <td>87</td>\n",
       "      <td>79</td>\n",
       "      <td>39</td>\n",
       "      <td>764</td>\n",
       "      <td>210</td>\n",
       "    </tr>\n",
       "    <tr>\n",
       "      <th>Genes_diff</th>\n",
       "      <td>180</td>\n",
       "      <td>217</td>\n",
       "      <td>218</td>\n",
       "      <td>214</td>\n",
       "      <td>214</td>\n",
       "      <td>215</td>\n",
       "      <td>218</td>\n",
       "      <td>218</td>\n",
       "      <td>215</td>\n",
       "      <td>181</td>\n",
       "      <td>...</td>\n",
       "      <td>1013</td>\n",
       "      <td>1060</td>\n",
       "      <td>1087</td>\n",
       "      <td>1084</td>\n",
       "      <td>1085</td>\n",
       "      <td>1086</td>\n",
       "      <td>1086</td>\n",
       "      <td>1085</td>\n",
       "      <td>1084</td>\n",
       "      <td>1076</td>\n",
       "    </tr>\n",
       "    <tr>\n",
       "      <th>Perc_diff</th>\n",
       "      <td>83</td>\n",
       "      <td>1e+02</td>\n",
       "      <td>100</td>\n",
       "      <td>98</td>\n",
       "      <td>98</td>\n",
       "      <td>99</td>\n",
       "      <td>100</td>\n",
       "      <td>100</td>\n",
       "      <td>99</td>\n",
       "      <td>83</td>\n",
       "      <td>...</td>\n",
       "      <td>93</td>\n",
       "      <td>98</td>\n",
       "      <td>100</td>\n",
       "      <td>1e+02</td>\n",
       "      <td>1e+02</td>\n",
       "      <td>1e+02</td>\n",
       "      <td>1e+02</td>\n",
       "      <td>1e+02</td>\n",
       "      <td>1e+02</td>\n",
       "      <td>99</td>\n",
       "    </tr>\n",
       "  </tbody>\n",
       "</table>\n",
       "<p>6 rows × 735 columns</p>\n",
       "</div>"
      ],
      "text/plain": [
       "                            1                      2                   3    \\\n",
       "Mod_Inf      mod_merged_tomato2     mod_merged_tomato2  mod_merged_tomato2   \n",
       "Mod_Lng_Inf                 218                    218                 218   \n",
       "Mod_Ctl       mod_merged_coral3  mod_merged_mistyrose3     mod_merged_tan1   \n",
       "Mod_Lng_Ctl                2024                     33                  33   \n",
       "Genes_diff                  180                    217                 218   \n",
       "Perc_diff                    83                  1e+02                 100   \n",
       "\n",
       "                            4                       5    \\\n",
       "Mod_Inf      mod_merged_tomato2      mod_merged_tomato2   \n",
       "Mod_Lng_Inf                 218                     218   \n",
       "Mod_Ctl      mod_merged_orange1  mod_merged_deepskyblue   \n",
       "Mod_Lng_Ctl                  95                     834   \n",
       "Genes_diff                  214                     214   \n",
       "Perc_diff                    98                      98   \n",
       "\n",
       "                                    6                    7    \\\n",
       "Mod_Inf              mod_merged_tomato2   mod_merged_tomato2   \n",
       "Mod_Lng_Inf                         218                  218   \n",
       "Mod_Ctl      mod_merged_darkolivegreen4  mod_merged_thistle1   \n",
       "Mod_Lng_Ctl                        1792                  273   \n",
       "Genes_diff                          215                  218   \n",
       "Perc_diff                            99                  100   \n",
       "\n",
       "                             8                      9    \\\n",
       "Mod_Inf       mod_merged_tomato2     mod_merged_tomato2   \n",
       "Mod_Lng_Inf                  218                    218   \n",
       "Mod_Ctl      mod_merged_magenta2  mod_merged_lightblue1   \n",
       "Mod_Lng_Ctl                  204                    195   \n",
       "Genes_diff                   218                    215   \n",
       "Perc_diff                    100                     99   \n",
       "\n",
       "                                    10   ...                      726  \\\n",
       "Mod_Inf              mod_merged_tomato2  ...       mod_merged_oldlace   \n",
       "Mod_Lng_Inf                         218  ...                     1087   \n",
       "Mod_Ctl      mod_merged_darkolivegreen2  ...  mod_merged_antiquewhite   \n",
       "Mod_Lng_Ctl                        1175  ...                      577   \n",
       "Genes_diff                          181  ...                     1013   \n",
       "Perc_diff                            83  ...                       93   \n",
       "\n",
       "                                 727                       728  \\\n",
       "Mod_Inf           mod_merged_oldlace        mod_merged_oldlace   \n",
       "Mod_Lng_Inf                     1087                      1087   \n",
       "Mod_Ctl      mod_merged_navajowhite3  mod_merged_mediumpurple1   \n",
       "Mod_Lng_Ctl                      492                       273   \n",
       "Genes_diff                      1060                      1087   \n",
       "Perc_diff                         98                       100   \n",
       "\n",
       "                            729                       730  \\\n",
       "Mod_Inf      mod_merged_oldlace        mod_merged_oldlace   \n",
       "Mod_Lng_Inf                1087                      1087   \n",
       "Mod_Ctl       mod_merged_coral1  mod_merged_mediumpurple3   \n",
       "Mod_Lng_Ctl                 141                       109   \n",
       "Genes_diff                 1084                      1085   \n",
       "Perc_diff                 1e+02                     1e+02   \n",
       "\n",
       "                                 731                 732                 733  \\\n",
       "Mod_Inf           mod_merged_oldlace  mod_merged_oldlace  mod_merged_oldlace   \n",
       "Mod_Lng_Inf                     1087                1087                1087   \n",
       "Mod_Ctl      mod_merged_navajowhite1    mod_merged_blue3   mod_merged_brown3   \n",
       "Mod_Lng_Ctl                       87                  79                  39   \n",
       "Genes_diff                      1086                1086                1085   \n",
       "Perc_diff                      1e+02               1e+02               1e+02   \n",
       "\n",
       "                                  734                    735  \n",
       "Mod_Inf            mod_merged_oldlace     mod_merged_oldlace  \n",
       "Mod_Lng_Inf                      1087                   1087  \n",
       "Mod_Ctl      mod_merged_antiquewhite3  mod_merged_firebrick2  \n",
       "Mod_Lng_Ctl                       764                    210  \n",
       "Genes_diff                       1084                   1076  \n",
       "Perc_diff                       1e+02                     99  \n",
       "\n",
       "[6 rows x 735 columns]"
      ]
     },
     "execution_count": 21,
     "metadata": {},
     "output_type": "execute_result"
    }
   ],
   "source": [
    "#import pandas as pd\n",
    "   \n",
    "# Creates padas DataFrame by parsing \n",
    "# Lists of dictionaries and row index.\n",
    "df = pd.DataFrame(my_dict, index =['Mod_Inf','Mod_Lng_Inf','Mod_Ctl','Mod_Lng_Ctl','Genes_diff','Perc_diff'])\n",
    "# Print the data\n",
    "df"
   ]
  },
  {
   "cell_type": "code",
   "execution_count": 25,
   "metadata": {},
   "outputs": [
    {
     "data": {
      "text/plain": [
       "735"
      ]
     },
     "execution_count": 25,
     "metadata": {},
     "output_type": "execute_result"
    }
   ],
   "source": [
    "len(df.columns)"
   ]
  },
  {
   "cell_type": "code",
   "execution_count": 26,
   "metadata": {},
   "outputs": [
    {
     "data": {
      "text/html": [
       "<div>\n",
       "<style scoped>\n",
       "    .dataframe tbody tr th:only-of-type {\n",
       "        vertical-align: middle;\n",
       "    }\n",
       "\n",
       "    .dataframe tbody tr th {\n",
       "        vertical-align: top;\n",
       "    }\n",
       "\n",
       "    .dataframe thead th {\n",
       "        text-align: right;\n",
       "    }\n",
       "</style>\n",
       "<table border=\"1\" class=\"dataframe\">\n",
       "  <thead>\n",
       "    <tr style=\"text-align: right;\">\n",
       "      <th></th>\n",
       "      <th>Mod_Inf</th>\n",
       "      <th>Mod_Lng_Inf</th>\n",
       "      <th>Mod_Ctl</th>\n",
       "      <th>Mod_Lng_Ctl</th>\n",
       "      <th>Genes_diff</th>\n",
       "      <th>Perc_diff</th>\n",
       "    </tr>\n",
       "  </thead>\n",
       "  <tbody>\n",
       "    <tr>\n",
       "      <th>1</th>\n",
       "      <td>mod_merged_tomato2</td>\n",
       "      <td>218</td>\n",
       "      <td>mod_merged_coral3</td>\n",
       "      <td>2024</td>\n",
       "      <td>180</td>\n",
       "      <td>83</td>\n",
       "    </tr>\n",
       "    <tr>\n",
       "      <th>2</th>\n",
       "      <td>mod_merged_tomato2</td>\n",
       "      <td>218</td>\n",
       "      <td>mod_merged_mistyrose3</td>\n",
       "      <td>33</td>\n",
       "      <td>217</td>\n",
       "      <td>1e+02</td>\n",
       "    </tr>\n",
       "    <tr>\n",
       "      <th>3</th>\n",
       "      <td>mod_merged_tomato2</td>\n",
       "      <td>218</td>\n",
       "      <td>mod_merged_tan1</td>\n",
       "      <td>33</td>\n",
       "      <td>218</td>\n",
       "      <td>100</td>\n",
       "    </tr>\n",
       "  </tbody>\n",
       "</table>\n",
       "</div>"
      ],
      "text/plain": [
       "              Mod_Inf Mod_Lng_Inf                Mod_Ctl Mod_Lng_Ctl  \\\n",
       "1  mod_merged_tomato2         218      mod_merged_coral3        2024   \n",
       "2  mod_merged_tomato2         218  mod_merged_mistyrose3          33   \n",
       "3  mod_merged_tomato2         218        mod_merged_tan1          33   \n",
       "\n",
       "  Genes_diff Perc_diff  \n",
       "1        180        83  \n",
       "2        217     1e+02  \n",
       "3        218       100  "
      ]
     },
     "execution_count": 26,
     "metadata": {},
     "output_type": "execute_result"
    }
   ],
   "source": [
    "df_comp = df.T\n",
    "df_comp.head(3)"
   ]
  },
  {
   "cell_type": "code",
   "execution_count": 27,
   "metadata": {},
   "outputs": [
    {
     "data": {
      "text/html": [
       "<div>\n",
       "<style scoped>\n",
       "    .dataframe tbody tr th:only-of-type {\n",
       "        vertical-align: middle;\n",
       "    }\n",
       "\n",
       "    .dataframe tbody tr th {\n",
       "        vertical-align: top;\n",
       "    }\n",
       "\n",
       "    .dataframe thead th {\n",
       "        text-align: right;\n",
       "    }\n",
       "</style>\n",
       "<table border=\"1\" class=\"dataframe\">\n",
       "  <thead>\n",
       "    <tr style=\"text-align: right;\">\n",
       "      <th></th>\n",
       "      <th>Mod_Inf</th>\n",
       "      <th>Mod_Lng_Inf</th>\n",
       "      <th>Mod_Ctl</th>\n",
       "      <th>Mod_Lng_Ctl</th>\n",
       "      <th>Genes_diff</th>\n",
       "      <th>Perc_diff</th>\n",
       "    </tr>\n",
       "  </thead>\n",
       "  <tbody>\n",
       "    <tr>\n",
       "      <th>1</th>\n",
       "      <td>mod_merged_tomato2</td>\n",
       "      <td>218</td>\n",
       "      <td>mod_merged_coral3</td>\n",
       "      <td>2024</td>\n",
       "      <td>180</td>\n",
       "      <td>83</td>\n",
       "    </tr>\n",
       "    <tr>\n",
       "      <th>2</th>\n",
       "      <td>mod_merged_tomato2</td>\n",
       "      <td>218</td>\n",
       "      <td>mod_merged_mistyrose3</td>\n",
       "      <td>33</td>\n",
       "      <td>217</td>\n",
       "      <td>1e+02</td>\n",
       "    </tr>\n",
       "  </tbody>\n",
       "</table>\n",
       "</div>"
      ],
      "text/plain": [
       "              Mod_Inf Mod_Lng_Inf                Mod_Ctl Mod_Lng_Ctl  \\\n",
       "1  mod_merged_tomato2         218      mod_merged_coral3        2024   \n",
       "2  mod_merged_tomato2         218  mod_merged_mistyrose3          33   \n",
       "\n",
       "  Genes_diff Perc_diff  \n",
       "1        180        83  \n",
       "2        217     1e+02  "
      ]
     },
     "execution_count": 27,
     "metadata": {},
     "output_type": "execute_result"
    }
   ],
   "source": [
    "df_comp.to_csv(\"../modules_merged_comparition.csv\", sep=\",\", header=True)\n",
    "df_plt = df_comp\n",
    "df_plt.head(2)"
   ]
  },
  {
   "cell_type": "code",
   "execution_count": 31,
   "metadata": {},
   "outputs": [
    {
     "name": "stdout",
     "output_type": "stream",
     "text": [
      "720\n",
      "720\n"
     ]
    },
    {
     "data": {
      "text/plain": [
       "[96, 97, 98, 99, 100]"
      ]
     },
     "execution_count": 31,
     "metadata": {},
     "output_type": "execute_result"
    }
   ],
   "source": [
    "# Filter cases where infected mods are different in >80%\n",
    "print(len(df_plt))\n",
    "df_plt = df_plt[df_plt['Perc_diff'] >= 80]\n",
    "print(len(df_plt))\n",
    "my_xticks = list(range(79,101,1))\n",
    "my_xticks[-5:]"
   ]
  },
  {
   "cell_type": "code",
   "execution_count": 32,
   "metadata": {},
   "outputs": [
    {
     "data": {
      "image/png": "[encoded data removed]",
      "text/plain": [
       "<Figure size 720x216 with 1 Axes>"
      ]
     },
     "metadata": {
      "needs_background": "light"
     },
     "output_type": "display_data"
    }
   ],
   "source": [
    "import matplotlib.pyplot as plt\n",
    "df_plt[[\"Perc_diff\"]] = df_plt[[\"Perc_diff\"]].apply(pd.to_numeric)\n",
    "#df_plt.hist(by='Mod_Inf',column='Perc_diff')\n",
    "df_plt.hist(figsize=(10,3), grid=False,  color=\"C1\", alpha=0.7)     #alpha (transparency in color); rwidth=0.9 to set space btw bars\n",
    "plt.title(\"Infected GM differentiated at +80% from Healthy GM)\",fontsize=20);\n",
    "plt.xlabel('Percentual difference',fontsize=14);\n",
    "plt.ylabel('Number of modues',fontsize=14);\n",
    "plt.xticks(my_xticks, fontsize=12);\n",
    "plt.yticks(fontsize=14);"
   ]
  },
  {
   "cell_type": "code",
   "execution_count": 33,
   "metadata": {},
   "outputs": [
    {
     "name": "stdout",
     "output_type": "stream",
     "text": [
      "237\n"
     ]
    },
    {
     "data": {
      "text/html": [
       "<div>\n",
       "<style scoped>\n",
       "    .dataframe tbody tr th:only-of-type {\n",
       "        vertical-align: middle;\n",
       "    }\n",
       "\n",
       "    .dataframe tbody tr th {\n",
       "        vertical-align: top;\n",
       "    }\n",
       "\n",
       "    .dataframe thead th {\n",
       "        text-align: right;\n",
       "    }\n",
       "</style>\n",
       "<table border=\"1\" class=\"dataframe\">\n",
       "  <thead>\n",
       "    <tr style=\"text-align: right;\">\n",
       "      <th></th>\n",
       "      <th>Mod_Inf</th>\n",
       "      <th>Mod_Lng_Inf</th>\n",
       "      <th>Mod_Ctl</th>\n",
       "      <th>Mod_Lng_Ctl</th>\n",
       "      <th>Genes_diff</th>\n",
       "      <th>Perc_diff</th>\n",
       "    </tr>\n",
       "  </thead>\n",
       "  <tbody>\n",
       "    <tr>\n",
       "      <th>3</th>\n",
       "      <td>mod_merged_tomato2</td>\n",
       "      <td>218</td>\n",
       "      <td>mod_merged_tan1</td>\n",
       "      <td>33</td>\n",
       "      <td>218</td>\n",
       "      <td>100</td>\n",
       "    </tr>\n",
       "    <tr>\n",
       "      <th>7</th>\n",
       "      <td>mod_merged_tomato2</td>\n",
       "      <td>218</td>\n",
       "      <td>mod_merged_thistle1</td>\n",
       "      <td>273</td>\n",
       "      <td>218</td>\n",
       "      <td>100</td>\n",
       "    </tr>\n",
       "    <tr>\n",
       "      <th>8</th>\n",
       "      <td>mod_merged_tomato2</td>\n",
       "      <td>218</td>\n",
       "      <td>mod_merged_magenta2</td>\n",
       "      <td>204</td>\n",
       "      <td>218</td>\n",
       "      <td>100</td>\n",
       "    </tr>\n",
       "    <tr>\n",
       "      <th>13</th>\n",
       "      <td>mod_merged_tomato2</td>\n",
       "      <td>218</td>\n",
       "      <td>mod_merged_navajowhite3</td>\n",
       "      <td>492</td>\n",
       "      <td>218</td>\n",
       "      <td>100</td>\n",
       "    </tr>\n",
       "    <tr>\n",
       "      <th>15</th>\n",
       "      <td>mod_merged_tomato2</td>\n",
       "      <td>218</td>\n",
       "      <td>mod_merged_coral1</td>\n",
       "      <td>141</td>\n",
       "      <td>218</td>\n",
       "      <td>100</td>\n",
       "    </tr>\n",
       "  </tbody>\n",
       "</table>\n",
       "</div>"
      ],
      "text/plain": [
       "               Mod_Inf Mod_Lng_Inf                  Mod_Ctl Mod_Lng_Ctl  \\\n",
       "3   mod_merged_tomato2         218          mod_merged_tan1          33   \n",
       "7   mod_merged_tomato2         218      mod_merged_thistle1         273   \n",
       "8   mod_merged_tomato2         218      mod_merged_magenta2         204   \n",
       "13  mod_merged_tomato2         218  mod_merged_navajowhite3         492   \n",
       "15  mod_merged_tomato2         218        mod_merged_coral1         141   \n",
       "\n",
       "   Genes_diff Perc_diff  \n",
       "3         218       100  \n",
       "7         218       100  \n",
       "8         218       100  \n",
       "13        218       100  \n",
       "15        218       100  "
      ]
     },
     "execution_count": 33,
     "metadata": {},
     "output_type": "execute_result"
    }
   ],
   "source": [
    "# Filter cases where infected mods are different in 100%\n",
    "df_comp = df_comp[df_comp['Perc_diff'] == 100]\n",
    "print(str(len(df_comp)))\n",
    "df_comp.head(5)\n",
    "#df_comp.to_csv(\"../modules_merged_comparition100.csv\", sep=\",\", header=True)"
   ]
  },
  {
   "cell_type": "code",
   "execution_count": 34,
   "metadata": {},
   "outputs": [
    {
     "name": "stdout",
     "output_type": "stream",
     "text": [
      "59\n"
     ]
    },
    {
     "data": {
      "text/html": [
       "<div>\n",
       "<style scoped>\n",
       "    .dataframe tbody tr th:only-of-type {\n",
       "        vertical-align: middle;\n",
       "    }\n",
       "\n",
       "    .dataframe tbody tr th {\n",
       "        vertical-align: top;\n",
       "    }\n",
       "\n",
       "    .dataframe thead th {\n",
       "        text-align: right;\n",
       "    }\n",
       "</style>\n",
       "<table border=\"1\" class=\"dataframe\">\n",
       "  <thead>\n",
       "    <tr style=\"text-align: right;\">\n",
       "      <th></th>\n",
       "      <th>Mod_Inf</th>\n",
       "      <th>Mod_Lng_Inf</th>\n",
       "      <th>Mod_Ctl</th>\n",
       "      <th>Mod_Lng_Ctl</th>\n",
       "      <th>Genes_diff</th>\n",
       "      <th>Perc_diff</th>\n",
       "    </tr>\n",
       "  </thead>\n",
       "  <tbody>\n",
       "    <tr>\n",
       "      <th>617</th>\n",
       "      <td>mod_merged_green3</td>\n",
       "      <td>472</td>\n",
       "      <td>mod_merged_magenta2</td>\n",
       "      <td>204</td>\n",
       "      <td>472</td>\n",
       "      <td>100</td>\n",
       "    </tr>\n",
       "    <tr>\n",
       "      <th>203</th>\n",
       "      <td>mod_merged_tan3</td>\n",
       "      <td>189</td>\n",
       "      <td>mod_merged_mediumpurple1</td>\n",
       "      <td>273</td>\n",
       "      <td>189</td>\n",
       "      <td>100</td>\n",
       "    </tr>\n",
       "    <tr>\n",
       "      <th>612</th>\n",
       "      <td>mod_merged_green3</td>\n",
       "      <td>472</td>\n",
       "      <td>mod_merged_tan1</td>\n",
       "      <td>33</td>\n",
       "      <td>472</td>\n",
       "      <td>100</td>\n",
       "    </tr>\n",
       "    <tr>\n",
       "      <th>382</th>\n",
       "      <td>mod_merged_cornsilk2</td>\n",
       "      <td>267</td>\n",
       "      <td>mod_merged_orange1</td>\n",
       "      <td>95</td>\n",
       "      <td>267</td>\n",
       "      <td>100</td>\n",
       "    </tr>\n",
       "    <tr>\n",
       "      <th>100</th>\n",
       "      <td>mod_merged_blue2</td>\n",
       "      <td>416</td>\n",
       "      <td>mod_merged_mediumpurple3</td>\n",
       "      <td>109</td>\n",
       "      <td>416</td>\n",
       "      <td>100</td>\n",
       "    </tr>\n",
       "  </tbody>\n",
       "</table>\n",
       "</div>"
      ],
      "text/plain": [
       "                  Mod_Inf Mod_Lng_Inf                   Mod_Ctl Mod_Lng_Ctl  \\\n",
       "617     mod_merged_green3         472       mod_merged_magenta2         204   \n",
       "203       mod_merged_tan3         189  mod_merged_mediumpurple1         273   \n",
       "612     mod_merged_green3         472           mod_merged_tan1          33   \n",
       "382  mod_merged_cornsilk2         267        mod_merged_orange1          95   \n",
       "100      mod_merged_blue2         416  mod_merged_mediumpurple3         109   \n",
       "\n",
       "    Genes_diff Perc_diff  \n",
       "617        472       100  \n",
       "203        189       100  \n",
       "612        472       100  \n",
       "382        267       100  \n",
       "100        416       100  "
      ]
     },
     "execution_count": 34,
     "metadata": {},
     "output_type": "execute_result"
    }
   ],
   "source": [
    "# ## selecting rows based on 100% difference \n",
    "# df_diff100 = df_comp   #[df_comp['Perc_diff'] == 100]\n",
    "# ## df_plt = df_diff100.head(n=30)\n",
    "# df_plt = df_diff100.sample(frac=0.25)\n",
    "\n",
    "# Get a fraction to plot\n",
    "df_plt = df_comp.sample(frac=0.25)\n",
    "print(str(len(df_plt)))\n",
    "df_plt.head(5)"
   ]
  },
  {
   "cell_type": "code",
   "execution_count": 36,
   "metadata": {},
   "outputs": [],
   "source": [
    "num_mods = (len(df_plt))"
   ]
  },
  {
   "cell_type": "code",
   "execution_count": 38,
   "metadata": {},
   "outputs": [
    {
     "data": {
      "image/png": "[encoded data removed]",
      "text/plain": [
       "<Figure size 720x504 with 1 Axes>"
      ]
     },
     "metadata": {
      "needs_background": "light"
     },
     "output_type": "display_data"
    }
   ],
   "source": [
    "ax = df_plt.plot(x=\"Mod_Inf\", y=\"Mod_Lng_Ctl\", kind=\"bar\", figsize=(10,7), color=\"C2\")\n",
    "#df_plt.plot(x=\"Mod_Inf\", y=\"Mod_Lng_Inf\", kind=\"bar\", ax=ax, color=\"C2\")\n",
    "df_plt.plot(x=\"Mod_Inf\", y=\"Genes_diff\", kind=\"bar\", ax=ax, color=\"C1\")\n",
    "#df.plot(x=\"Mod_Inf\", y=\"25%\", kind=\"bar\", ax=ax, color=\"C4\")\n",
    "plt.title(\"MG exclusive at Arabidopsis infected\\nRandom selection at 0.25\",fontsize=18);\n",
    "plt.xlabel('Modules infected ('+ str(num_mods) +')',fontsize=16);\n",
    "#plt.xticks(rotation=55,fontsize=14);\n",
    "plt.xticks(visible=False)\n",
    "plt.ylabel('Number of genes by cluster',fontsize=16);\n",
    "plt.yticks(fontsize=16);\n",
    "plt.legend(fontsize=14);"
   ]
  },
  {
   "cell_type": "markdown",
   "metadata": {},
   "source": [
    "#### Parse to keep unique modules "
   ]
  },
  {
   "cell_type": "code",
   "execution_count": 39,
   "metadata": {},
   "outputs": [
    {
     "name": "stdout",
     "output_type": "stream",
     "text": [
      "34\n",
      "                   Mod_Inf Mod_Lng_Inf                Mod_Ctl Mod_Lng_Ctl  \\\n",
      "3       mod_merged_tomato2         218        mod_merged_tan1          33   \n",
      "44    mod_merged_indianred         160  mod_merged_mistyrose3          33   \n",
      "65      mod_merged_bisque4         115  mod_merged_mistyrose3          33   \n",
      "92        mod_merged_blue2         416    mod_merged_magenta2         204   \n",
      "108  mod_merged_firebrick2         304        mod_merged_tan1          33   \n",
      "\n",
      "    Genes_diff Perc_diff  \n",
      "3          218       100  \n",
      "44         160       100  \n",
      "65         115       100  \n",
      "92         416       100  \n",
      "108        304       100  \n"
     ]
    },
    {
     "data": {
      "text/html": [
       "<div>\n",
       "<style scoped>\n",
       "    .dataframe tbody tr th:only-of-type {\n",
       "        vertical-align: middle;\n",
       "    }\n",
       "\n",
       "    .dataframe tbody tr th {\n",
       "        vertical-align: top;\n",
       "    }\n",
       "\n",
       "    .dataframe thead th {\n",
       "        text-align: right;\n",
       "    }\n",
       "</style>\n",
       "<table border=\"1\" class=\"dataframe\">\n",
       "  <thead>\n",
       "    <tr style=\"text-align: right;\">\n",
       "      <th></th>\n",
       "      <th>Mod_Inf</th>\n",
       "      <th>Mod_Lng_Inf</th>\n",
       "      <th>Mod_Ctl</th>\n",
       "      <th>Mod_Lng_Ctl</th>\n",
       "      <th>Genes_diff</th>\n",
       "      <th>Perc_diff</th>\n",
       "    </tr>\n",
       "  </thead>\n",
       "  <tbody>\n",
       "    <tr>\n",
       "      <th>3</th>\n",
       "      <td>mod_merged_tomato2</td>\n",
       "      <td>218</td>\n",
       "      <td>mod_merged_tan1</td>\n",
       "      <td>33</td>\n",
       "      <td>218</td>\n",
       "      <td>100</td>\n",
       "    </tr>\n",
       "    <tr>\n",
       "      <th>44</th>\n",
       "      <td>mod_merged_indianred</td>\n",
       "      <td>160</td>\n",
       "      <td>mod_merged_mistyrose3</td>\n",
       "      <td>33</td>\n",
       "      <td>160</td>\n",
       "      <td>100</td>\n",
       "    </tr>\n",
       "    <tr>\n",
       "      <th>65</th>\n",
       "      <td>mod_merged_bisque4</td>\n",
       "      <td>115</td>\n",
       "      <td>mod_merged_mistyrose3</td>\n",
       "      <td>33</td>\n",
       "      <td>115</td>\n",
       "      <td>100</td>\n",
       "    </tr>\n",
       "    <tr>\n",
       "      <th>92</th>\n",
       "      <td>mod_merged_blue2</td>\n",
       "      <td>416</td>\n",
       "      <td>mod_merged_magenta2</td>\n",
       "      <td>204</td>\n",
       "      <td>416</td>\n",
       "      <td>100</td>\n",
       "    </tr>\n",
       "    <tr>\n",
       "      <th>108</th>\n",
       "      <td>mod_merged_firebrick2</td>\n",
       "      <td>304</td>\n",
       "      <td>mod_merged_tan1</td>\n",
       "      <td>33</td>\n",
       "      <td>304</td>\n",
       "      <td>100</td>\n",
       "    </tr>\n",
       "  </tbody>\n",
       "</table>\n",
       "</div>"
      ],
      "text/plain": [
       "                   Mod_Inf Mod_Lng_Inf                Mod_Ctl Mod_Lng_Ctl  \\\n",
       "3       mod_merged_tomato2         218        mod_merged_tan1          33   \n",
       "44    mod_merged_indianred         160  mod_merged_mistyrose3          33   \n",
       "65      mod_merged_bisque4         115  mod_merged_mistyrose3          33   \n",
       "92        mod_merged_blue2         416    mod_merged_magenta2         204   \n",
       "108  mod_merged_firebrick2         304        mod_merged_tan1          33   \n",
       "\n",
       "    Genes_diff Perc_diff  \n",
       "3          218       100  \n",
       "44         160       100  \n",
       "65         115       100  \n",
       "92         416       100  \n",
       "108        304       100  "
      ]
     },
     "execution_count": 39,
     "metadata": {},
     "output_type": "execute_result"
    }
   ],
   "source": [
    "df_unique_inf = df_comp.drop_duplicates(subset=[\"Mod_Inf\"])\n",
    "print(len(df_unique_inf))\n",
    "print(df_unique_inf.head(5))\n",
    "df_plot = df_unique_inf\n",
    "df_plot.head(5)"
   ]
  },
  {
   "cell_type": "code",
   "execution_count": null,
   "metadata": {},
   "outputs": [],
   "source": []
  },
  {
   "cell_type": "code",
   "execution_count": null,
   "metadata": {},
   "outputs": [],
   "source": []
  },
  {
   "cell_type": "code",
   "execution_count": null,
   "metadata": {},
   "outputs": [],
   "source": []
  },
  {
   "cell_type": "code",
   "execution_count": null,
   "metadata": {},
   "outputs": [],
   "source": []
  },
  {
   "cell_type": "code",
   "execution_count": 132,
   "metadata": {},
   "outputs": [
    {
     "name": "stderr",
     "output_type": "stream",
     "text": [
      "/home/cyntsc/anaconda3/lib/python3.7/site-packages/ipykernel_launcher.py:1: SettingWithCopyWarning: \n",
      "A value is trying to be set on a copy of a slice from a DataFrame.\n",
      "Try using .loc[row_indexer,col_indexer] = value instead\n",
      "\n",
      "See the caveats in the documentation: https://pandas.pydata.org/pandas-docs/stable/user_guide/indexing.html#returning-a-view-versus-a-copy\n",
      "  \"\"\"Entry point for launching an IPython kernel.\n"
     ]
    },
    {
     "data": {
      "text/html": [
       "<div>\n",
       "<style scoped>\n",
       "    .dataframe tbody tr th:only-of-type {\n",
       "        vertical-align: middle;\n",
       "    }\n",
       "\n",
       "    .dataframe tbody tr th {\n",
       "        vertical-align: top;\n",
       "    }\n",
       "\n",
       "    .dataframe thead th {\n",
       "        text-align: right;\n",
       "    }\n",
       "</style>\n",
       "<table border=\"1\" class=\"dataframe\">\n",
       "  <thead>\n",
       "    <tr style=\"text-align: right;\">\n",
       "      <th></th>\n",
       "      <th>Mod_Inf</th>\n",
       "      <th>Mod_Lng_Inf</th>\n",
       "      <th>Mod_Ctl</th>\n",
       "      <th>Mod_Lng_Ctl</th>\n",
       "      <th>Genes_diff</th>\n",
       "      <th>Perc_diff</th>\n",
       "    </tr>\n",
       "  </thead>\n",
       "  <tbody>\n",
       "    <tr>\n",
       "      <th>6</th>\n",
       "      <td>tomato2</td>\n",
       "      <td>218</td>\n",
       "      <td>mod_merged_navajowhite3</td>\n",
       "      <td>492</td>\n",
       "      <td>218</td>\n",
       "      <td>100</td>\n",
       "    </tr>\n",
       "    <tr>\n",
       "      <th>53</th>\n",
       "      <td>indianred</td>\n",
       "      <td>160</td>\n",
       "      <td>mod_merged_mediumpurple1</td>\n",
       "      <td>273</td>\n",
       "      <td>160</td>\n",
       "      <td>100</td>\n",
       "    </tr>\n",
       "    <tr>\n",
       "      <th>76</th>\n",
       "      <td>bisque4</td>\n",
       "      <td>115</td>\n",
       "      <td>mod_merged_mediumpurple1</td>\n",
       "      <td>273</td>\n",
       "      <td>115</td>\n",
       "      <td>100</td>\n",
       "    </tr>\n",
       "    <tr>\n",
       "      <th>99</th>\n",
       "      <td>blue2</td>\n",
       "      <td>416</td>\n",
       "      <td>mod_merged_mediumpurple1</td>\n",
       "      <td>273</td>\n",
       "      <td>416</td>\n",
       "      <td>100</td>\n",
       "    </tr>\n",
       "    <tr>\n",
       "      <th>122</th>\n",
       "      <td>firebrick2</td>\n",
       "      <td>304</td>\n",
       "      <td>mod_merged_mediumpurple1</td>\n",
       "      <td>273</td>\n",
       "      <td>304</td>\n",
       "      <td>100</td>\n",
       "    </tr>\n",
       "  </tbody>\n",
       "</table>\n",
       "</div>"
      ],
      "text/plain": [
       "        Mod_Inf Mod_Lng_Inf                   Mod_Ctl Mod_Lng_Ctl Genes_diff  \\\n",
       "6       tomato2         218   mod_merged_navajowhite3         492        218   \n",
       "53    indianred         160  mod_merged_mediumpurple1         273        160   \n",
       "76      bisque4         115  mod_merged_mediumpurple1         273        115   \n",
       "99        blue2         416  mod_merged_mediumpurple1         273        416   \n",
       "122  firebrick2         304  mod_merged_mediumpurple1         273        304   \n",
       "\n",
       "    Perc_diff  \n",
       "6         100  \n",
       "53        100  \n",
       "76        100  \n",
       "99        100  \n",
       "122       100  "
      ]
     },
     "execution_count": 132,
     "metadata": {},
     "output_type": "execute_result"
    }
   ],
   "source": [
    "df_plot['Mod_Inf'] = df_plot['Mod_Inf'].str.lstrip('mod_merged_')\n",
    "df_plot.head(5)\n",
    "#df_unique_inf.plot(x=\"Mod_Inf\", y=\"Mod_Lng_Ctl\", kind=\"bar\", figsize=(10,7), color=\"C2\")"
   ]
  },
  {
   "cell_type": "code",
   "execution_count": 133,
   "metadata": {},
   "outputs": [
    {
     "data": {
      "image/png": "[encoded data removed]",
      "text/plain": [
       "<Figure size 720x504 with 1 Axes>"
      ]
     },
     "metadata": {
      "needs_background": "light"
     },
     "output_type": "display_data"
    }
   ],
   "source": [
    "ax = df_plt.plot(x=\"Mod_Inf\", y=\"Mod_Lng_Ctl\", kind=\"bar\", figsize=(10,7), color=\"C2\")\n",
    "#df_plt.plot(x=\"Mod_Inf\", y=\"Mod_Lng_Inf\", kind=\"bar\", ax=ax, color=\"C1\")\n",
    "df_plt.plot(x=\"Mod_Inf\", y=\"Genes_diff\", kind=\"bar\", ax=ax, color=\"C3\")\n",
    "#df.plot(x=\"Mod_Inf\", y=\"25%\", kind=\"bar\", ax=ax, color=\"C4\")\n",
    "plt.title(\"Unique infected modules differentiate at 100% from the controls\",fontsize=18);\n",
    "plt.xlabel('Modules infected',fontsize=16);\n",
    "plt.xticks(fontsize=10);\n",
    "plt.xticks() #visible=False\n",
    "plt.ylabel('Number of genes',fontsize=16);\n",
    "plt.yticks(fontsize=16);\n",
    "plt.legend(fontsize=14);"
   ]
  },
  {
   "cell_type": "code",
   "execution_count": 20,
   "metadata": {},
   "outputs": [],
   "source": [
    "#df_unique_inf"
   ]
  },
  {
   "cell_type": "code",
   "execution_count": 62,
   "metadata": {},
   "outputs": [
    {
     "name": "stdout",
     "output_type": "stream",
     "text": [
      "22\n",
      "13\n"
     ]
    },
    {
     "data": {
      "text/html": [
       "<div>\n",
       "<style scoped>\n",
       "    .dataframe tbody tr th:only-of-type {\n",
       "        vertical-align: middle;\n",
       "    }\n",
       "\n",
       "    .dataframe tbody tr th {\n",
       "        vertical-align: top;\n",
       "    }\n",
       "\n",
       "    .dataframe thead th {\n",
       "        text-align: right;\n",
       "    }\n",
       "</style>\n",
       "<table border=\"1\" class=\"dataframe\">\n",
       "  <thead>\n",
       "    <tr style=\"text-align: right;\">\n",
       "      <th></th>\n",
       "      <th>color</th>\n",
       "      <th>Genes</th>\n",
       "      <th>mergedColors</th>\n",
       "    </tr>\n",
       "  </thead>\n",
       "  <tbody>\n",
       "    <tr>\n",
       "      <th>3</th>\n",
       "      <td>Pos</td>\n",
       "      <td>99</td>\n",
       "      <td>lavender</td>\n",
       "    </tr>\n",
       "    <tr>\n",
       "      <th>4</th>\n",
       "      <td>Pos</td>\n",
       "      <td>72</td>\n",
       "      <td>dodgerblue1</td>\n",
       "    </tr>\n",
       "    <tr>\n",
       "      <th>5</th>\n",
       "      <td>Pos</td>\n",
       "      <td>189</td>\n",
       "      <td>mediumpurple1</td>\n",
       "    </tr>\n",
       "    <tr>\n",
       "      <th>7</th>\n",
       "      <td>PC</td>\n",
       "      <td>133</td>\n",
       "      <td>darkmagenta</td>\n",
       "    </tr>\n",
       "    <tr>\n",
       "      <th>10</th>\n",
       "      <td>Neg</td>\n",
       "      <td>218</td>\n",
       "      <td>tomato2</td>\n",
       "    </tr>\n",
       "    <tr>\n",
       "      <th>11</th>\n",
       "      <td>Neg</td>\n",
       "      <td>115</td>\n",
       "      <td>bisque4</td>\n",
       "    </tr>\n",
       "    <tr>\n",
       "      <th>12</th>\n",
       "      <td>Neg</td>\n",
       "      <td>39</td>\n",
       "      <td>deepskyblue</td>\n",
       "    </tr>\n",
       "    <tr>\n",
       "      <th>14</th>\n",
       "      <td>Neg</td>\n",
       "      <td>261</td>\n",
       "      <td>brown2</td>\n",
       "    </tr>\n",
       "    <tr>\n",
       "      <th>16</th>\n",
       "      <td>Antag</td>\n",
       "      <td>236</td>\n",
       "      <td>green</td>\n",
       "    </tr>\n",
       "    <tr>\n",
       "      <th>17</th>\n",
       "      <td>Antag</td>\n",
       "      <td>189</td>\n",
       "      <td>tan3</td>\n",
       "    </tr>\n",
       "    <tr>\n",
       "      <th>18</th>\n",
       "      <td>Antag</td>\n",
       "      <td>160</td>\n",
       "      <td>indianred</td>\n",
       "    </tr>\n",
       "    <tr>\n",
       "      <th>20</th>\n",
       "      <td>Antag</td>\n",
       "      <td>196</td>\n",
       "      <td>lightblue2</td>\n",
       "    </tr>\n",
       "    <tr>\n",
       "      <th>21</th>\n",
       "      <td>Antag</td>\n",
       "      <td>135</td>\n",
       "      <td>antiquewhite</td>\n",
       "    </tr>\n",
       "  </tbody>\n",
       "</table>\n",
       "</div>"
      ],
      "text/plain": [
       "    color  Genes   mergedColors\n",
       "3     Pos     99       lavender\n",
       "4     Pos     72    dodgerblue1\n",
       "5     Pos    189  mediumpurple1\n",
       "7      PC    133    darkmagenta\n",
       "10    Neg    218        tomato2\n",
       "11    Neg    115        bisque4\n",
       "12    Neg     39    deepskyblue\n",
       "14    Neg    261         brown2\n",
       "16  Antag    236          green\n",
       "17  Antag    189           tan3\n",
       "18  Antag    160      indianred\n",
       "20  Antag    196     lightblue2\n",
       "21  Antag    135   antiquewhite"
      ]
     },
     "execution_count": 62,
     "metadata": {},
     "output_type": "execute_result"
    }
   ],
   "source": [
    "## Load the preselected modules with corr.values +/- 0.75\n",
    "file = \"../Athal_infected_selected_clusters.csv\"\n",
    "df_selected_mods = pd.read_csv(file, header=0, sep=\",\", usecols=[0,1,2])    ## nrows=100, usecols=[0,1]\n",
    "print(len(df_selected_mods))\n",
    "\n",
    "# # NON pre-selection of module \n",
    "# print(df_selected_mods.head(5))\n",
    "\n",
    "# pre-selection of module < 300 genes \n",
    "df_selected_mods = df_selected_mods[df_selected_mods['Genes'] < 300]\n",
    "print(len(df_selected_mods))\n",
    "df_selected_mods"
   ]
  },
  {
   "cell_type": "code",
   "execution_count": 63,
   "metadata": {},
   "outputs": [
    {
     "name": "stdout",
     "output_type": "stream",
     "text": [
      "['mod_merged_lavender', 'mod_merged_dodgerblue1', 'mod_merged_mediumpurple1', 'mod_merged_darkmagenta', 'mod_merged_tomato2', 'mod_merged_bisque4', 'mod_merged_deepskyblue', 'mod_merged_brown2', 'mod_merged_green', 'mod_merged_tan3', 'mod_merged_indianred', 'mod_merged_lightblue2', 'mod_merged_antiquewhite']\n",
      "13\n"
     ]
    }
   ],
   "source": [
    "df_selected_mods['mergedColors'] ='mod_merged_' + df_selected_mods['mergedColors'].astype(str)\n",
    "lst_inf_corr = df_selected_mods['mergedColors'].tolist()  \n",
    "print(lst_inf_corr)\n",
    "print(len(lst_inf_corr))\n",
    "# lst_inf_corr = ['mod_merged_chocolate',\n",
    "#  'mod_merged_chocolate2',\n",
    "#  'mod_merged_green3',\n",
    "#  'mod_merged_lavender',\n",
    "#  'mod_merged_dodgerblue1',\n",
    "#  'mod_merged_mediumpurple1',\n",
    "#  'mod_merged_dodgerblue4',\n",
    "#  'mod_merged_darkmagenta',\n",
    "#  'mod_merged_palevioletred1',\n",
    "#  'mod_merged_tomato2',\n",
    "#  'mod_merged_bisque4',\n",
    "#  'mod_merged_deepskyblue',\n",
    "#  'mod_merged_blue2',\n",
    "#  'mod_merged_brown2',\n",
    "#  'mod_merged_darkolivegreen4',\n",
    "#  'mod_merged_green',\n",
    "#  'mod_merged_tan3',\n",
    "#  'mod_merged_indianred',\n",
    "#  'mod_merged_lightsteelblue',\n",
    "#  'mod_merged_lightblue2',\n",
    "#  'mod_merged_antiquewhite']"
   ]
  },
  {
   "cell_type": "code",
   "execution_count": 64,
   "metadata": {},
   "outputs": [
    {
     "name": "stdout",
     "output_type": "stream",
     "text": [
      "13\n"
     ]
    },
    {
     "data": {
      "text/html": [
       "<div>\n",
       "<style scoped>\n",
       "    .dataframe tbody tr th:only-of-type {\n",
       "        vertical-align: middle;\n",
       "    }\n",
       "\n",
       "    .dataframe tbody tr th {\n",
       "        vertical-align: top;\n",
       "    }\n",
       "\n",
       "    .dataframe thead th {\n",
       "        text-align: right;\n",
       "    }\n",
       "</style>\n",
       "<table border=\"1\" class=\"dataframe\">\n",
       "  <thead>\n",
       "    <tr style=\"text-align: right;\">\n",
       "      <th></th>\n",
       "      <th>Mod_Inf</th>\n",
       "      <th>Mod_Lng_Inf</th>\n",
       "      <th>Mod_Ctl</th>\n",
       "      <th>Mod_Lng_Ctl</th>\n",
       "      <th>Genes_diff</th>\n",
       "      <th>Perc_diff</th>\n",
       "    </tr>\n",
       "  </thead>\n",
       "  <tbody>\n",
       "    <tr>\n",
       "      <th>6</th>\n",
       "      <td>mod_merged_tomato2</td>\n",
       "      <td>218</td>\n",
       "      <td>mod_merged_navajowhite3</td>\n",
       "      <td>492</td>\n",
       "      <td>218</td>\n",
       "      <td>100</td>\n",
       "    </tr>\n",
       "    <tr>\n",
       "      <th>53</th>\n",
       "      <td>mod_merged_indianred</td>\n",
       "      <td>160</td>\n",
       "      <td>mod_merged_mediumpurple1</td>\n",
       "      <td>273</td>\n",
       "      <td>160</td>\n",
       "      <td>100</td>\n",
       "    </tr>\n",
       "    <tr>\n",
       "      <th>76</th>\n",
       "      <td>mod_merged_bisque4</td>\n",
       "      <td>115</td>\n",
       "      <td>mod_merged_mediumpurple1</td>\n",
       "      <td>273</td>\n",
       "      <td>115</td>\n",
       "      <td>100</td>\n",
       "    </tr>\n",
       "    <tr>\n",
       "      <th>145</th>\n",
       "      <td>mod_merged_deepskyblue</td>\n",
       "      <td>39</td>\n",
       "      <td>mod_merged_mediumpurple1</td>\n",
       "      <td>273</td>\n",
       "      <td>39</td>\n",
       "      <td>100</td>\n",
       "    </tr>\n",
       "    <tr>\n",
       "      <th>162</th>\n",
       "      <td>mod_merged_dodgerblue1</td>\n",
       "      <td>72</td>\n",
       "      <td>mod_merged_firebrick3</td>\n",
       "      <td>1215</td>\n",
       "      <td>72</td>\n",
       "      <td>100</td>\n",
       "    </tr>\n",
       "    <tr>\n",
       "      <th>193</th>\n",
       "      <td>mod_merged_green</td>\n",
       "      <td>236</td>\n",
       "      <td>mod_merged_mediumpurple3</td>\n",
       "      <td>109</td>\n",
       "      <td>236</td>\n",
       "      <td>100</td>\n",
       "    </tr>\n",
       "    <tr>\n",
       "      <th>214</th>\n",
       "      <td>mod_merged_tan3</td>\n",
       "      <td>189</td>\n",
       "      <td>mod_merged_mediumpurple1</td>\n",
       "      <td>273</td>\n",
       "      <td>189</td>\n",
       "      <td>100</td>\n",
       "    </tr>\n",
       "    <tr>\n",
       "      <th>232</th>\n",
       "      <td>mod_merged_lightblue2</td>\n",
       "      <td>196</td>\n",
       "      <td>mod_merged_darkolivegreen2</td>\n",
       "      <td>1175</td>\n",
       "      <td>196</td>\n",
       "      <td>100</td>\n",
       "    </tr>\n",
       "    <tr>\n",
       "      <th>260</th>\n",
       "      <td>mod_merged_lavender</td>\n",
       "      <td>99</td>\n",
       "      <td>mod_merged_mediumpurple1</td>\n",
       "      <td>273</td>\n",
       "      <td>99</td>\n",
       "      <td>100</td>\n",
       "    </tr>\n",
       "    <tr>\n",
       "      <th>353</th>\n",
       "      <td>mod_merged_darkmagenta</td>\n",
       "      <td>133</td>\n",
       "      <td>mod_merged_coral1</td>\n",
       "      <td>141</td>\n",
       "      <td>133</td>\n",
       "      <td>100</td>\n",
       "    </tr>\n",
       "    <tr>\n",
       "      <th>512</th>\n",
       "      <td>mod_merged_antiquewhite</td>\n",
       "      <td>135</td>\n",
       "      <td>mod_merged_navajowhite3</td>\n",
       "      <td>492</td>\n",
       "      <td>135</td>\n",
       "      <td>100</td>\n",
       "    </tr>\n",
       "    <tr>\n",
       "      <th>583</th>\n",
       "      <td>mod_merged_mediumpurple1</td>\n",
       "      <td>189</td>\n",
       "      <td>mod_merged_coral1</td>\n",
       "      <td>141</td>\n",
       "      <td>189</td>\n",
       "      <td>100</td>\n",
       "    </tr>\n",
       "    <tr>\n",
       "      <th>766</th>\n",
       "      <td>mod_merged_brown2</td>\n",
       "      <td>261</td>\n",
       "      <td>mod_merged_mediumpurple1</td>\n",
       "      <td>273</td>\n",
       "      <td>261</td>\n",
       "      <td>100</td>\n",
       "    </tr>\n",
       "  </tbody>\n",
       "</table>\n",
       "</div>"
      ],
      "text/plain": [
       "                      Mod_Inf Mod_Lng_Inf                     Mod_Ctl  \\\n",
       "6          mod_merged_tomato2         218     mod_merged_navajowhite3   \n",
       "53       mod_merged_indianred         160    mod_merged_mediumpurple1   \n",
       "76         mod_merged_bisque4         115    mod_merged_mediumpurple1   \n",
       "145    mod_merged_deepskyblue          39    mod_merged_mediumpurple1   \n",
       "162    mod_merged_dodgerblue1          72       mod_merged_firebrick3   \n",
       "193          mod_merged_green         236    mod_merged_mediumpurple3   \n",
       "214           mod_merged_tan3         189    mod_merged_mediumpurple1   \n",
       "232     mod_merged_lightblue2         196  mod_merged_darkolivegreen2   \n",
       "260       mod_merged_lavender          99    mod_merged_mediumpurple1   \n",
       "353    mod_merged_darkmagenta         133           mod_merged_coral1   \n",
       "512   mod_merged_antiquewhite         135     mod_merged_navajowhite3   \n",
       "583  mod_merged_mediumpurple1         189           mod_merged_coral1   \n",
       "766         mod_merged_brown2         261    mod_merged_mediumpurple1   \n",
       "\n",
       "    Mod_Lng_Ctl Genes_diff Perc_diff  \n",
       "6           492        218       100  \n",
       "53          273        160       100  \n",
       "76          273        115       100  \n",
       "145         273         39       100  \n",
       "162        1215         72       100  \n",
       "193         109        236       100  \n",
       "214         273        189       100  \n",
       "232        1175        196       100  \n",
       "260         273         99       100  \n",
       "353         141        133       100  \n",
       "512         492        135       100  \n",
       "583         141        189       100  \n",
       "766         273        261       100  "
      ]
     },
     "execution_count": 64,
     "metadata": {},
     "output_type": "execute_result"
    }
   ],
   "source": [
    "## filter from unique df to get just the pre-selected modules < 300 genes\n",
    "df_unique_inf2 = df_unique_inf[df_unique_inf['Mod_Inf'].isin(lst_inf_corr)]     \n",
    "print(len(df_unique_inf2))\n",
    "df_plot = df_unique_inf2\n",
    "df_plot"
   ]
  },
  {
   "cell_type": "code",
   "execution_count": 65,
   "metadata": {},
   "outputs": [
    {
     "data": {
      "text/plain": [
       "[<matplotlib.lines.Line2D at 0x7f33225b6090>]"
      ]
     },
     "execution_count": 65,
     "metadata": {},
     "output_type": "execute_result"
    },
    {
     "data": {
      "image/png": "[encoded data removed]",
      "text/plain": [
       "<Figure size 720x504 with 1 Axes>"
      ]
     },
     "metadata": {
      "needs_background": "light"
     },
     "output_type": "display_data"
    }
   ],
   "source": [
    "#ax = df_plt.plot(x=\"Mod_Inf\", y=\"Mod_Lng_Ctl\", kind=\"bar\", figsize=(10,7), color=\"C2\")\n",
    "#df_plt.plot(x=\"Mod_Inf\", y=\"Mod_Lng_Inf\", kind=\"bar\", ax=ax, color=\"C1\")\n",
    "ax = df_plot.plot(x=\"Mod_Inf\", y=\"Mod_Lng_Inf\", kind=\"bar\", figsize=(10,7), color=\"C2\")\n",
    "df_plot.plot(x=\"Mod_Inf\", y=\"Genes_diff\", kind=\"bar\", ax=ax, color=\"C3\")\n",
    "\n",
    "plt.title(\"Unique infected modules with corr. +/- 0.75\\nModules-size < 300 genes\",fontsize=18);\n",
    "plt.xlabel('Modules infected',fontsize=16);\n",
    "plt.xticks(fontsize=12);\n",
    "plt.xticks() #visible=False\n",
    "plt.ylabel('Number of genes',fontsize=16);\n",
    "plt.yticks(fontsize=16);\n",
    "plt.legend(fontsize=14);\n",
    "point1 = [0, 200]\n",
    "point2 = [13, 200]\n",
    "x_values = [point1[0], point2[0]]\n",
    "y_values = [point1[1], point2[1]]\n",
    "plt.plot(x_values, y_values)\n"
   ]
  },
  {
   "cell_type": "code",
   "execution_count": 66,
   "metadata": {},
   "outputs": [
    {
     "data": {
      "text/plain": [
       "[218, 160, 115, 39]"
      ]
     },
     "execution_count": 66,
     "metadata": {},
     "output_type": "execute_result"
    }
   ],
   "source": [
    "labels = df_plot[\"Mod_Inf\"].to_list()\n",
    "labels = ([s.replace('mod_merged_', '') for s in labels])\n",
    "labels\n",
    "quantity = df_plot[\"Genes_diff\"].to_list()\n",
    "quantity[0:4]"
   ]
  },
  {
   "cell_type": "code",
   "execution_count": 67,
   "metadata": {},
   "outputs": [
    {
     "name": "stderr",
     "output_type": "stream",
     "text": [
      "No handles with labels found to put in legend.\n"
     ]
    },
    {
     "data": {
      "image/png": "[encoded data removed]",
      "text/plain": [
       "<Figure size 720x720 with 1 Axes>"
      ]
     },
     "metadata": {},
     "output_type": "display_data"
    }
   ],
   "source": [
    "#colors = ['yellowgreen', 'gold', 'lightskyblue', 'lightcoral']\n",
    "plt.figure(figsize=(10,10))\n",
    "plt.pie(quantity, autopct='%1.1f%%', shadow=False, startangle=100)   # labels=quantity\n",
    "        # colors=colors, autopct='%1.1f%%'\n",
    "#plt.legend(fontsize=12);\n",
    "plt.title(\"MGI differentiate from MGC with preselected corr.\",fontsize=20);\n",
    "plt.legend(fontsize=14)\n",
    "plt.show()\n"
   ]
  },
  {
   "cell_type": "code",
   "execution_count": 72,
   "metadata": {},
   "outputs": [
    {
     "data": {
      "image/png": "[encoded data removed]",
      "text/plain": [
       "<Figure size 720x576 with 1 Axes>"
      ]
     },
     "metadata": {},
     "output_type": "display_data"
    }
   ],
   "source": [
    "fig1, ax1 = plt.subplots(figsize=(10,8))\n",
    "\n",
    "# Labels with percentual and float values\n",
    "ax1.pie(quantity, labels=labels,autopct=make_autopct(quantity), \n",
    "         textprops={'fontsize': 15}, startangle=130)          \n",
    "\n",
    "# Labels with only float values\n",
    "# ax1.pie(quantity, labels=labels,autopct=make_autopct2(quantity), \n",
    "#          textprops={'fontsize': 18}, startangle=130)          \n",
    "\n",
    "# Labels with only percentual values\n",
    "# ax1.pie(quantity, labels=labels,autopct='%.1f%%', \n",
    "#        textprops={'fontsize': 17}, startangle=130)        \n",
    "\n",
    "centre_circle = plt.Circle((0,0),0.70,fc='white')\n",
    "fig = plt.gcf()\n",
    "fig.gca().add_artist(centre_circle)# Equal aspect ratio ensures that pie is drawn as a circle\n",
    "ax1.axis('equal')  \n",
    "plt.tight_layout()\n",
    "plt.title(\"13 MG preselected in Arabidopsis infected\\nMod-size<300 genes)\", fontsize=24)\n",
    "#plt.title(\"MG preselected in Arabidopsis infected(21)\\nMod-size range [39-1098]\", fontsize=24)\n",
    "plt.show()"
   ]
  },
  {
   "cell_type": "code",
   "execution_count": 49,
   "metadata": {},
   "outputs": [
    {
     "name": "stdout",
     "output_type": "stream",
     "text": [
      "8\n"
     ]
    },
    {
     "data": {
      "text/html": [
       "<div>\n",
       "<style scoped>\n",
       "    .dataframe tbody tr th:only-of-type {\n",
       "        vertical-align: middle;\n",
       "    }\n",
       "\n",
       "    .dataframe tbody tr th {\n",
       "        vertical-align: top;\n",
       "    }\n",
       "\n",
       "    .dataframe thead th {\n",
       "        text-align: right;\n",
       "    }\n",
       "</style>\n",
       "<table border=\"1\" class=\"dataframe\">\n",
       "  <thead>\n",
       "    <tr style=\"text-align: right;\">\n",
       "      <th></th>\n",
       "      <th>Mod_Inf</th>\n",
       "      <th>Mod_Lng_Inf</th>\n",
       "      <th>Mod_Ctl</th>\n",
       "      <th>Mod_Lng_Ctl</th>\n",
       "      <th>Genes_diff</th>\n",
       "      <th>Perc_diff</th>\n",
       "    </tr>\n",
       "  </thead>\n",
       "  <tbody>\n",
       "    <tr>\n",
       "      <th>6</th>\n",
       "      <td>mod_merged_tomato2</td>\n",
       "      <td>218</td>\n",
       "      <td>mod_merged_navajowhite3</td>\n",
       "      <td>492</td>\n",
       "      <td>218</td>\n",
       "      <td>100</td>\n",
       "    </tr>\n",
       "    <tr>\n",
       "      <th>53</th>\n",
       "      <td>mod_merged_indianred</td>\n",
       "      <td>160</td>\n",
       "      <td>mod_merged_mediumpurple1</td>\n",
       "      <td>273</td>\n",
       "      <td>160</td>\n",
       "      <td>100</td>\n",
       "    </tr>\n",
       "    <tr>\n",
       "      <th>162</th>\n",
       "      <td>mod_merged_dodgerblue1</td>\n",
       "      <td>72</td>\n",
       "      <td>mod_merged_firebrick3</td>\n",
       "      <td>1215</td>\n",
       "      <td>72</td>\n",
       "      <td>100</td>\n",
       "    </tr>\n",
       "    <tr>\n",
       "      <th>193</th>\n",
       "      <td>mod_merged_green</td>\n",
       "      <td>236</td>\n",
       "      <td>mod_merged_mediumpurple3</td>\n",
       "      <td>109</td>\n",
       "      <td>236</td>\n",
       "      <td>100</td>\n",
       "    </tr>\n",
       "    <tr>\n",
       "      <th>232</th>\n",
       "      <td>mod_merged_lightblue2</td>\n",
       "      <td>196</td>\n",
       "      <td>mod_merged_darkolivegreen2</td>\n",
       "      <td>1175</td>\n",
       "      <td>196</td>\n",
       "      <td>100</td>\n",
       "    </tr>\n",
       "    <tr>\n",
       "      <th>353</th>\n",
       "      <td>mod_merged_darkmagenta</td>\n",
       "      <td>133</td>\n",
       "      <td>mod_merged_coral1</td>\n",
       "      <td>141</td>\n",
       "      <td>133</td>\n",
       "      <td>100</td>\n",
       "    </tr>\n",
       "    <tr>\n",
       "      <th>534</th>\n",
       "      <td>mod_merged_darkolivegreen4</td>\n",
       "      <td>597</td>\n",
       "      <td>mod_merged_antiquewhite</td>\n",
       "      <td>577</td>\n",
       "      <td>597</td>\n",
       "      <td>100</td>\n",
       "    </tr>\n",
       "    <tr>\n",
       "      <th>609</th>\n",
       "      <td>mod_merged_palevioletred1</td>\n",
       "      <td>368</td>\n",
       "      <td>mod_merged_blue3</td>\n",
       "      <td>79</td>\n",
       "      <td>368</td>\n",
       "      <td>100</td>\n",
       "    </tr>\n",
       "  </tbody>\n",
       "</table>\n",
       "</div>"
      ],
      "text/plain": [
       "                        Mod_Inf Mod_Lng_Inf                     Mod_Ctl  \\\n",
       "6            mod_merged_tomato2         218     mod_merged_navajowhite3   \n",
       "53         mod_merged_indianred         160    mod_merged_mediumpurple1   \n",
       "162      mod_merged_dodgerblue1          72       mod_merged_firebrick3   \n",
       "193            mod_merged_green         236    mod_merged_mediumpurple3   \n",
       "232       mod_merged_lightblue2         196  mod_merged_darkolivegreen2   \n",
       "353      mod_merged_darkmagenta         133           mod_merged_coral1   \n",
       "534  mod_merged_darkolivegreen4         597     mod_merged_antiquewhite   \n",
       "609   mod_merged_palevioletred1         368            mod_merged_blue3   \n",
       "\n",
       "    Mod_Lng_Ctl Genes_diff Perc_diff  \n",
       "6           492        218       100  \n",
       "53          273        160       100  \n",
       "162        1215         72       100  \n",
       "193         109        236       100  \n",
       "232        1175        196       100  \n",
       "353         141        133       100  \n",
       "534         577        597       100  \n",
       "609          79        368       100  "
      ]
     },
     "execution_count": 49,
     "metadata": {},
     "output_type": "execute_result"
    }
   ],
   "source": [
    "df_unique_ctl = df_unique_inf2.drop_duplicates(subset=[\"Mod_Ctl\"])\n",
    "print(len(df_unique_ctl))\n",
    "df_plot2 = df_unique_ctl\n",
    "df_plot2"
   ]
  },
  {
   "cell_type": "code",
   "execution_count": 57,
   "metadata": {},
   "outputs": [
    {
     "data": {
      "image/png": "[encoded data removed]",
      "text/plain": [
       "<Figure size 720x504 with 1 Axes>"
      ]
     },
     "metadata": {
      "needs_background": "light"
     },
     "output_type": "display_data"
    }
   ],
   "source": [
    "ax = df_plot2.plot(x=\"Mod_Ctl\", y=\"Mod_Lng_Ctl\", kind=\"bar\", figsize=(10,7), color=\"C3\")\n",
    "#df_plt.plot(x=\"Mod_Ctl\", y=\"Mod_Lng_Inf\", kind=\"bar\", ax=ax, color=\"C2\")\n",
    "#df_plt.plot(x=\"Mod_Ctl\", y=\"Genes_diff\", kind=\"bar\", ax=ax, color=\"C1\")\n",
    "#df.plot(x=\"Mod_Inf\", y=\"25%\", kind=\"bar\", ax=ax, color=\"C4\")\n",
    "plt.title(\"Unique MGC differentiate in the preselected MGI\",fontsize=18);\n",
    "plt.xlabel('Modules control',fontsize=16);\n",
    "plt.xticks(rotation=30,fontsize=16);\n",
    "plt.xticks()\n",
    "plt.ylabel('Number of genes',fontsize=16);\n",
    "plt.yticks(fontsize=16);\n",
    "plt.legend(fontsize=16);"
   ]
  },
  {
   "cell_type": "code",
   "execution_count": null,
   "metadata": {},
   "outputs": [],
   "source": []
  }
 ],
 "metadata": {
  "kernelspec": {
   "display_name": "Python 3",
   "language": "python",
   "name": "python3"
  },
  "language_info": {
   "codemirror_mode": {
    "name": "ipython",
    "version": 3
   },
   "file_extension": ".py",
   "mimetype": "text/x-python",
   "name": "python",
   "nbconvert_exporter": "python",
   "pygments_lexer": "ipython3",
   "version": "3.7.6"
  }
 },
 "nbformat": 4,
 "nbformat_minor": 4
}
