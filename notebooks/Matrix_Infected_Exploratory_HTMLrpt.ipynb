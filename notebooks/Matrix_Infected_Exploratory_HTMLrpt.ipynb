{
 "cells": [
  {
   "cell_type": "markdown",
   "metadata": {},
   "source": [
    "import pandas as pd\n",
    "import os\n",
    "# ^^^ pyforest auto-imports - don't write above this line\n",
    "### Use sweetviz for getting a fast examination of the df(s)\n",
    "https://pypi.org/project/sweetviz/"
   ]
  },
  {
   "cell_type": "code",
   "execution_count": 16,
   "metadata": {},
   "outputs": [
    {
     "ename": "ModuleNotFoundError",
     "evalue": "No module named 'pyforest'",
     "output_type": "error",
     "traceback": [
      "\u001b[0;31m---------------------------------------------------------------------------\u001b[0m",
      "\u001b[0;31mModuleNotFoundError\u001b[0m                       Traceback (most recent call last)",
      "\u001b[0;32m<ipython-input-16-e9c469c7a89a>\u001b[0m in \u001b[0;36m<module>\u001b[0;34m\u001b[0m\n\u001b[1;32m      3\u001b[0m \u001b[0;31m# ^^^ pyforest auto-imports - don't write above this line\u001b[0m\u001b[0;34m\u001b[0m\u001b[0;34m\u001b[0m\u001b[0;34m\u001b[0m\u001b[0m\n\u001b[1;32m      4\u001b[0m \u001b[0;31m### import the library\u001b[0m\u001b[0;34m\u001b[0m\u001b[0;34m\u001b[0m\u001b[0;34m\u001b[0m\u001b[0m\n\u001b[0;32m----> 5\u001b[0;31m \u001b[0;32mfrom\u001b[0m \u001b[0mpyforest\u001b[0m \u001b[0;32mimport\u001b[0m \u001b[0;34m*\u001b[0m  \u001b[0;31m# import the 40 most popular libraries to your notebook\u001b[0m\u001b[0;34m\u001b[0m\u001b[0;34m\u001b[0m\u001b[0m\n\u001b[0m\u001b[1;32m      6\u001b[0m \u001b[0;31m# to see the available libraries\u001b[0m\u001b[0;34m\u001b[0m\u001b[0;34m\u001b[0m\u001b[0;34m\u001b[0m\u001b[0m\n\u001b[1;32m      7\u001b[0m \u001b[0;31m# lazy_imports()\u001b[0m\u001b[0;34m\u001b[0m\u001b[0;34m\u001b[0m\u001b[0;34m\u001b[0m\u001b[0m\n",
      "\u001b[0;31mModuleNotFoundError\u001b[0m: No module named 'pyforest'"
     ]
    }
   ],
   "source": [
    "import os\n",
    "import pandas as pd\n",
    "# ^^^ pyforest auto-imports - don't write above this line\n",
    "### import the library\n",
    "from pyforest import *  # import the 40 most popular libraries to your notebook\n",
    "# to see the available libraries \n",
    "# lazy_imports()"
   ]
  },
  {
   "cell_type": "code",
   "execution_count": 17,
   "metadata": {},
   "outputs": [
    {
     "name": "stdout",
     "output_type": "stream",
     "text": [
      "Directory changed: /home/cyntsc/Proyectos/tesis-code/meta-xtrome-analysis/results-data/matrices_de_expresion\n"
     ]
    }
   ],
   "source": [
    "# Set the base directory\n",
    "try:\n",
    "    # Change the current working Directory      \n",
    "    os.chdir(\"/home/cyntsc/Proyectos/tesis-code/meta-xtrome-analysis//results-data/matrices_de_expresion\")\n",
    "    print(\"Directory changed:\", os.getcwd() )\n",
    "except OSError:\n",
    "    print(\"Can't change the Current Working Directory\")        \n",
    "#print(os.listdir(os.getcwd())  "
   ]
  },
  {
   "cell_type": "code",
   "execution_count": 18,
   "metadata": {},
   "outputs": [
    {
     "data": {
      "text/html": [
       "<div>\n",
       "<style scoped>\n",
       "    .dataframe tbody tr th:only-of-type {\n",
       "        vertical-align: middle;\n",
       "    }\n",
       "\n",
       "    .dataframe tbody tr th {\n",
       "        vertical-align: top;\n",
       "    }\n",
       "\n",
       "    .dataframe thead th {\n",
       "        text-align: right;\n",
       "    }\n",
       "</style>\n",
       "<table border=\"1\" class=\"dataframe\">\n",
       "  <thead>\n",
       "    <tr style=\"text-align: right;\">\n",
       "      <th></th>\n",
       "      <th>Genes</th>\n",
       "      <th>Ss30.1</th>\n",
       "      <th>Bc12</th>\n",
       "      <th>Ch40.2</th>\n",
       "      <th>Ch22.2</th>\n",
       "      <th>Ch22.1</th>\n",
       "      <th>Ch22</th>\n",
       "      <th>Ss30.2</th>\n",
       "      <th>Ch22.3</th>\n",
       "      <th>Bc12.1</th>\n",
       "      <th>Bc24.1</th>\n",
       "      <th>Bc18.1</th>\n",
       "      <th>Ch40.3</th>\n",
       "      <th>Ch40.1</th>\n",
       "      <th>Bc18</th>\n",
       "      <th>Bc24</th>\n",
       "      <th>Ss30</th>\n",
       "      <th>Ch40</th>\n",
       "    </tr>\n",
       "  </thead>\n",
       "  <tbody>\n",
       "    <tr>\n",
       "      <th>0</th>\n",
       "      <td>AT1G01020</td>\n",
       "      <td>5.225056</td>\n",
       "      <td>10.934613</td>\n",
       "      <td>12.202099</td>\n",
       "      <td>18.314226</td>\n",
       "      <td>15.701037</td>\n",
       "      <td>17.516673</td>\n",
       "      <td>4.346500</td>\n",
       "      <td>20.073370</td>\n",
       "      <td>10.349525</td>\n",
       "      <td>7.137051</td>\n",
       "      <td>11.980360</td>\n",
       "      <td>10.401876</td>\n",
       "      <td>13.091237</td>\n",
       "      <td>12.591544</td>\n",
       "      <td>7.534804</td>\n",
       "      <td>4.970378</td>\n",
       "      <td>13.502690</td>\n",
       "    </tr>\n",
       "    <tr>\n",
       "      <th>1</th>\n",
       "      <td>AT1G01030</td>\n",
       "      <td>7.012345</td>\n",
       "      <td>0.756927</td>\n",
       "      <td>1.613793</td>\n",
       "      <td>1.619158</td>\n",
       "      <td>1.277076</td>\n",
       "      <td>1.295231</td>\n",
       "      <td>7.628837</td>\n",
       "      <td>1.148639</td>\n",
       "      <td>2.040727</td>\n",
       "      <td>4.892842</td>\n",
       "      <td>3.085749</td>\n",
       "      <td>1.772693</td>\n",
       "      <td>1.211970</td>\n",
       "      <td>2.682321</td>\n",
       "      <td>4.277671</td>\n",
       "      <td>4.993996</td>\n",
       "      <td>2.248425</td>\n",
       "    </tr>\n",
       "    <tr>\n",
       "      <th>2</th>\n",
       "      <td>AT1G01040</td>\n",
       "      <td>1.725284</td>\n",
       "      <td>18.993901</td>\n",
       "      <td>14.504864</td>\n",
       "      <td>24.516523</td>\n",
       "      <td>20.851272</td>\n",
       "      <td>19.740929</td>\n",
       "      <td>2.809421</td>\n",
       "      <td>25.290030</td>\n",
       "      <td>19.388632</td>\n",
       "      <td>13.891621</td>\n",
       "      <td>20.773985</td>\n",
       "      <td>14.071413</td>\n",
       "      <td>15.117880</td>\n",
       "      <td>21.152995</td>\n",
       "      <td>13.463580</td>\n",
       "      <td>2.506669</td>\n",
       "      <td>15.939538</td>\n",
       "    </tr>\n",
       "  </tbody>\n",
       "</table>\n",
       "</div>"
      ],
      "text/plain": [
       "       Genes    Ss30.1       Bc12     Ch40.2     Ch22.2     Ch22.1       Ch22  \\\n",
       "0  AT1G01020  5.225056  10.934613  12.202099  18.314226  15.701037  17.516673   \n",
       "1  AT1G01030  7.012345   0.756927   1.613793   1.619158   1.277076   1.295231   \n",
       "2  AT1G01040  1.725284  18.993901  14.504864  24.516523  20.851272  19.740929   \n",
       "\n",
       "     Ss30.2     Ch22.3     Bc12.1     Bc24.1     Bc18.1     Ch40.3     Ch40.1  \\\n",
       "0  4.346500  20.073370  10.349525   7.137051  11.980360  10.401876  13.091237   \n",
       "1  7.628837   1.148639   2.040727   4.892842   3.085749   1.772693   1.211970   \n",
       "2  2.809421  25.290030  19.388632  13.891621  20.773985  14.071413  15.117880   \n",
       "\n",
       "        Bc18       Bc24      Ss30       Ch40  \n",
       "0  12.591544   7.534804  4.970378  13.502690  \n",
       "1   2.682321   4.277671  4.993996   2.248425  \n",
       "2  21.152995  13.463580  2.506669  15.939538  "
      ]
     },
     "execution_count": 18,
     "metadata": {},
     "output_type": "execute_result"
    }
   ],
   "source": [
    "dfB = pd.read_csv(\"matrix_B_infected.csv\", sep=',')\n",
    "dfB.head(3)"
   ]
  },
  {
   "cell_type": "code",
   "execution_count": 19,
   "metadata": {},
   "outputs": [
    {
     "data": {
      "text/html": [
       "<div>\n",
       "<style scoped>\n",
       "    .dataframe tbody tr th:only-of-type {\n",
       "        vertical-align: middle;\n",
       "    }\n",
       "\n",
       "    .dataframe tbody tr th {\n",
       "        vertical-align: top;\n",
       "    }\n",
       "\n",
       "    .dataframe thead th {\n",
       "        text-align: right;\n",
       "    }\n",
       "</style>\n",
       "<table border=\"1\" class=\"dataframe\">\n",
       "  <thead>\n",
       "    <tr style=\"text-align: right;\">\n",
       "      <th></th>\n",
       "      <th>Genes</th>\n",
       "      <th>Ss30.1</th>\n",
       "      <th>Bc12</th>\n",
       "      <th>Ch40.2</th>\n",
       "      <th>Ch22.2</th>\n",
       "      <th>Ch22.1</th>\n",
       "      <th>Ch22</th>\n",
       "      <th>Ss30.2</th>\n",
       "      <th>Ch22.3</th>\n",
       "      <th>Bc12.1</th>\n",
       "      <th>Bc24.1</th>\n",
       "      <th>Bc18.1</th>\n",
       "      <th>Ch40.3</th>\n",
       "      <th>Ch40.1</th>\n",
       "      <th>Bc18</th>\n",
       "      <th>Bc24</th>\n",
       "      <th>Ss30</th>\n",
       "      <th>Ch40</th>\n",
       "    </tr>\n",
       "  </thead>\n",
       "  <tbody>\n",
       "    <tr>\n",
       "      <th>0</th>\n",
       "      <td>AT1G01020</td>\n",
       "      <td>5.225056</td>\n",
       "      <td>10.934613</td>\n",
       "      <td>12.202099</td>\n",
       "      <td>18.314226</td>\n",
       "      <td>15.701037</td>\n",
       "      <td>17.516673</td>\n",
       "      <td>4.346500</td>\n",
       "      <td>20.073370</td>\n",
       "      <td>10.349525</td>\n",
       "      <td>7.137051</td>\n",
       "      <td>11.980360</td>\n",
       "      <td>10.401876</td>\n",
       "      <td>13.091237</td>\n",
       "      <td>12.591544</td>\n",
       "      <td>7.534804</td>\n",
       "      <td>4.970378</td>\n",
       "      <td>13.502690</td>\n",
       "    </tr>\n",
       "    <tr>\n",
       "      <th>1</th>\n",
       "      <td>AT1G01030</td>\n",
       "      <td>7.012345</td>\n",
       "      <td>0.756927</td>\n",
       "      <td>1.613793</td>\n",
       "      <td>1.619158</td>\n",
       "      <td>1.277076</td>\n",
       "      <td>1.295231</td>\n",
       "      <td>7.628837</td>\n",
       "      <td>1.148639</td>\n",
       "      <td>2.040727</td>\n",
       "      <td>4.892842</td>\n",
       "      <td>3.085749</td>\n",
       "      <td>1.772693</td>\n",
       "      <td>1.211970</td>\n",
       "      <td>2.682321</td>\n",
       "      <td>4.277671</td>\n",
       "      <td>4.993996</td>\n",
       "      <td>2.248425</td>\n",
       "    </tr>\n",
       "    <tr>\n",
       "      <th>2</th>\n",
       "      <td>AT1G01040</td>\n",
       "      <td>1.725284</td>\n",
       "      <td>18.993901</td>\n",
       "      <td>14.504864</td>\n",
       "      <td>24.516523</td>\n",
       "      <td>20.851272</td>\n",
       "      <td>19.740929</td>\n",
       "      <td>2.809421</td>\n",
       "      <td>25.290030</td>\n",
       "      <td>19.388632</td>\n",
       "      <td>13.891621</td>\n",
       "      <td>20.773985</td>\n",
       "      <td>14.071413</td>\n",
       "      <td>15.117880</td>\n",
       "      <td>21.152995</td>\n",
       "      <td>13.463580</td>\n",
       "      <td>2.506669</td>\n",
       "      <td>15.939538</td>\n",
       "    </tr>\n",
       "  </tbody>\n",
       "</table>\n",
       "</div>"
      ],
      "text/plain": [
       "       Genes    Ss30.1       Bc12     Ch40.2     Ch22.2     Ch22.1       Ch22  \\\n",
       "0  AT1G01020  5.225056  10.934613  12.202099  18.314226  15.701037  17.516673   \n",
       "1  AT1G01030  7.012345   0.756927   1.613793   1.619158   1.277076   1.295231   \n",
       "2  AT1G01040  1.725284  18.993901  14.504864  24.516523  20.851272  19.740929   \n",
       "\n",
       "     Ss30.2     Ch22.3     Bc12.1     Bc24.1     Bc18.1     Ch40.3     Ch40.1  \\\n",
       "0  4.346500  20.073370  10.349525   7.137051  11.980360  10.401876  13.091237   \n",
       "1  7.628837   1.148639   2.040727   4.892842   3.085749   1.772693   1.211970   \n",
       "2  2.809421  25.290030  19.388632  13.891621  20.773985  14.071413  15.117880   \n",
       "\n",
       "        Bc18       Bc24      Ss30       Ch40  \n",
       "0  12.591544   7.534804  4.970378  13.502690  \n",
       "1   2.682321   4.277671  4.993996   2.248425  \n",
       "2  21.152995  13.463580  2.506669  15.939538  "
      ]
     },
     "execution_count": 19,
     "metadata": {},
     "output_type": "execute_result"
    }
   ],
   "source": [
    "dfC = pd.read_csv(\"matrix_C_infected.csv\", sep='\\t')\n",
    "dfC.head(3)"
   ]
  },
  {
   "cell_type": "markdown",
   "metadata": {},
   "source": [
    "####  pyforest have 3 main functions for creating reports: <br>\n",
    "    analyze(...)<br>\n",
    "    compare(...)<br>\n",
    "    compare_intra(...)<br>"
   ]
  },
  {
   "cell_type": "code",
   "execution_count": 20,
   "metadata": {},
   "outputs": [],
   "source": [
    "import sweetviz as sv"
   ]
  },
  {
   "cell_type": "code",
   "execution_count": 21,
   "metadata": {},
   "outputs": [],
   "source": [
    "# feature_config = sv.FeatureConfig()\n",
    "# feature_config"
   ]
  },
  {
   "cell_type": "markdown",
   "metadata": {},
   "source": [
    "#### comparition TPM-normalized vs TPM-normalized-filtered df(s)"
   ]
  },
  {
   "cell_type": "code",
   "execution_count": 22,
   "metadata": {},
   "outputs": [
    {
     "data": {
      "application/vnd.jupyter.widget-view+json": {
       "model_id": "f5592c74630f4a2984b07baf1391aae8",
       "version_major": 2,
       "version_minor": 0
      },
      "text/plain": [
       "HBox(children=(FloatProgress(value=0.0, layout=Layout(flex='2'), max=19.0), HTML(value='')), layout=Layout(dis…"
      ]
     },
     "metadata": {},
     "output_type": "display_data"
    },
    {
     "name": "stdout",
     "output_type": "stream",
     "text": [
      "\n"
     ]
    }
   ],
   "source": [
    "my_report2 = sv.compare([dfB, \"B_Infected\"], [dfC, \"C_Infected\"])"
   ]
  },
  {
   "cell_type": "code",
   "execution_count": 23,
   "metadata": {},
   "outputs": [
    {
     "name": "stdout",
     "output_type": "stream",
     "text": [
      "Report SWEETVIZ_RPT_ARABIDOPSIS_INFECTED_B_C.html was generated! NOTEBOOK/COLAB USERS: the web browser MAY not pop up, regardless, the report IS saved in your notebook/colab files.\n"
     ]
    }
   ],
   "source": [
    "my_report2.show_html(\"SWEETVIZ_RPT_ARABIDOPSIS_INFECTED_B_C.html\") # Default arguments will generate to \"SWEETVIZ_REPORT.html\""
   ]
  },
  {
   "cell_type": "markdown",
   "metadata": {},
   "source": [
    "#### comparition Log2(TPM-normalized-filtered) vs   Log2(TPM-normalized-filtered) with no atypicals distr "
   ]
  },
  {
   "cell_type": "code",
   "execution_count": 24,
   "metadata": {},
   "outputs": [
    {
     "data": {
      "text/html": [
       "<div>\n",
       "<style scoped>\n",
       "    .dataframe tbody tr th:only-of-type {\n",
       "        vertical-align: middle;\n",
       "    }\n",
       "\n",
       "    .dataframe tbody tr th {\n",
       "        vertical-align: top;\n",
       "    }\n",
       "\n",
       "    .dataframe thead th {\n",
       "        text-align: right;\n",
       "    }\n",
       "</style>\n",
       "<table border=\"1\" class=\"dataframe\">\n",
       "  <thead>\n",
       "    <tr style=\"text-align: right;\">\n",
       "      <th></th>\n",
       "      <th>Genes</th>\n",
       "      <th>Ss30.1</th>\n",
       "      <th>Bc12</th>\n",
       "      <th>Ch40.2</th>\n",
       "      <th>Ch22.2</th>\n",
       "      <th>Ch22.1</th>\n",
       "      <th>Ch22</th>\n",
       "      <th>Ss30.2</th>\n",
       "      <th>Ch22.3</th>\n",
       "      <th>Bc12.1</th>\n",
       "      <th>Bc24.1</th>\n",
       "      <th>Bc18.1</th>\n",
       "      <th>Ch40.3</th>\n",
       "      <th>Ch40.1</th>\n",
       "      <th>Bc18</th>\n",
       "      <th>Bc24</th>\n",
       "      <th>Ss30</th>\n",
       "      <th>Ch40</th>\n",
       "    </tr>\n",
       "  </thead>\n",
       "  <tbody>\n",
       "    <tr>\n",
       "      <th>0</th>\n",
       "      <td>AT1G01020</td>\n",
       "      <td>2.638087</td>\n",
       "      <td>3.577080</td>\n",
       "      <td>3.722695</td>\n",
       "      <td>4.271592</td>\n",
       "      <td>4.061866</td>\n",
       "      <td>4.210753</td>\n",
       "      <td>2.418595</td>\n",
       "      <td>4.397349</td>\n",
       "      <td>3.504560</td>\n",
       "      <td>3.024506</td>\n",
       "      <td>3.698258</td>\n",
       "      <td>3.511199</td>\n",
       "      <td>3.816726</td>\n",
       "      <td>3.764637</td>\n",
       "      <td>3.093358</td>\n",
       "      <td>2.577822</td>\n",
       "      <td>3.858249</td>\n",
       "    </tr>\n",
       "    <tr>\n",
       "      <th>1</th>\n",
       "      <td>AT1G01030</td>\n",
       "      <td>3.002225</td>\n",
       "      <td>0.813054</td>\n",
       "      <td>1.386145</td>\n",
       "      <td>1.389103</td>\n",
       "      <td>1.187182</td>\n",
       "      <td>1.198640</td>\n",
       "      <td>3.109166</td>\n",
       "      <td>1.103423</td>\n",
       "      <td>1.604416</td>\n",
       "      <td>2.558963</td>\n",
       "      <td>2.030601</td>\n",
       "      <td>1.471288</td>\n",
       "      <td>1.145332</td>\n",
       "      <td>1.880615</td>\n",
       "      <td>2.399901</td>\n",
       "      <td>2.583518</td>\n",
       "      <td>1.699740</td>\n",
       "    </tr>\n",
       "    <tr>\n",
       "      <th>2</th>\n",
       "      <td>AT1G01040</td>\n",
       "      <td>1.446407</td>\n",
       "      <td>4.321488</td>\n",
       "      <td>3.954649</td>\n",
       "      <td>4.673360</td>\n",
       "      <td>4.449645</td>\n",
       "      <td>4.374409</td>\n",
       "      <td>1.929572</td>\n",
       "      <td>4.716444</td>\n",
       "      <td>4.349693</td>\n",
       "      <td>3.896429</td>\n",
       "      <td>4.444534</td>\n",
       "      <td>3.913743</td>\n",
       "      <td>4.010590</td>\n",
       "      <td>4.469430</td>\n",
       "      <td>3.854353</td>\n",
       "      <td>1.810101</td>\n",
       "      <td>4.082323</td>\n",
       "    </tr>\n",
       "  </tbody>\n",
       "</table>\n",
       "</div>"
      ],
      "text/plain": [
       "       Genes    Ss30.1      Bc12    Ch40.2    Ch22.2    Ch22.1      Ch22  \\\n",
       "0  AT1G01020  2.638087  3.577080  3.722695  4.271592  4.061866  4.210753   \n",
       "1  AT1G01030  3.002225  0.813054  1.386145  1.389103  1.187182  1.198640   \n",
       "2  AT1G01040  1.446407  4.321488  3.954649  4.673360  4.449645  4.374409   \n",
       "\n",
       "     Ss30.2    Ch22.3    Bc12.1    Bc24.1    Bc18.1    Ch40.3    Ch40.1  \\\n",
       "0  2.418595  4.397349  3.504560  3.024506  3.698258  3.511199  3.816726   \n",
       "1  3.109166  1.103423  1.604416  2.558963  2.030601  1.471288  1.145332   \n",
       "2  1.929572  4.716444  4.349693  3.896429  4.444534  3.913743  4.010590   \n",
       "\n",
       "       Bc18      Bc24      Ss30      Ch40  \n",
       "0  3.764637  3.093358  2.577822  3.858249  \n",
       "1  1.880615  2.399901  2.583518  1.699740  \n",
       "2  4.469430  3.854353  1.810101  4.082323  "
      ]
     },
     "execution_count": 24,
     "metadata": {},
     "output_type": "execute_result"
    }
   ],
   "source": [
    "dfD = pd.read_csv(\"matrix_D_infected.csv\", sep='\\t')\n",
    "dfD.head(3)"
   ]
  },
  {
   "cell_type": "code",
   "execution_count": 25,
   "metadata": {},
   "outputs": [
    {
     "data": {
      "text/html": [
       "<div>\n",
       "<style scoped>\n",
       "    .dataframe tbody tr th:only-of-type {\n",
       "        vertical-align: middle;\n",
       "    }\n",
       "\n",
       "    .dataframe tbody tr th {\n",
       "        vertical-align: top;\n",
       "    }\n",
       "\n",
       "    .dataframe thead th {\n",
       "        text-align: right;\n",
       "    }\n",
       "</style>\n",
       "<table border=\"1\" class=\"dataframe\">\n",
       "  <thead>\n",
       "    <tr style=\"text-align: right;\">\n",
       "      <th></th>\n",
       "      <th>Genes</th>\n",
       "      <th>Bc12</th>\n",
       "      <th>Ch40.2</th>\n",
       "      <th>Ch22.2</th>\n",
       "      <th>Ch22.1</th>\n",
       "      <th>Ch22</th>\n",
       "      <th>Ch22.3</th>\n",
       "      <th>Bc12.1</th>\n",
       "      <th>Bc24.1</th>\n",
       "      <th>Bc18.1</th>\n",
       "      <th>Ch40.3</th>\n",
       "      <th>Ch40.1</th>\n",
       "      <th>Bc18</th>\n",
       "      <th>Bc24</th>\n",
       "      <th>Ch40</th>\n",
       "    </tr>\n",
       "  </thead>\n",
       "  <tbody>\n",
       "    <tr>\n",
       "      <th>0</th>\n",
       "      <td>AT1G01020</td>\n",
       "      <td>3.577080</td>\n",
       "      <td>3.722695</td>\n",
       "      <td>4.271592</td>\n",
       "      <td>4.061866</td>\n",
       "      <td>4.210753</td>\n",
       "      <td>4.397349</td>\n",
       "      <td>3.504560</td>\n",
       "      <td>3.024506</td>\n",
       "      <td>3.698258</td>\n",
       "      <td>3.511199</td>\n",
       "      <td>3.816726</td>\n",
       "      <td>3.764637</td>\n",
       "      <td>3.093358</td>\n",
       "      <td>3.858249</td>\n",
       "    </tr>\n",
       "    <tr>\n",
       "      <th>1</th>\n",
       "      <td>AT1G01030</td>\n",
       "      <td>0.813054</td>\n",
       "      <td>1.386145</td>\n",
       "      <td>1.389103</td>\n",
       "      <td>1.187182</td>\n",
       "      <td>1.198640</td>\n",
       "      <td>1.103423</td>\n",
       "      <td>1.604416</td>\n",
       "      <td>2.558963</td>\n",
       "      <td>2.030601</td>\n",
       "      <td>1.471288</td>\n",
       "      <td>1.145332</td>\n",
       "      <td>1.880615</td>\n",
       "      <td>2.399901</td>\n",
       "      <td>1.699740</td>\n",
       "    </tr>\n",
       "    <tr>\n",
       "      <th>2</th>\n",
       "      <td>AT1G01040</td>\n",
       "      <td>4.321488</td>\n",
       "      <td>3.954649</td>\n",
       "      <td>4.673360</td>\n",
       "      <td>4.449645</td>\n",
       "      <td>4.374409</td>\n",
       "      <td>4.716444</td>\n",
       "      <td>4.349693</td>\n",
       "      <td>3.896429</td>\n",
       "      <td>4.444534</td>\n",
       "      <td>3.913743</td>\n",
       "      <td>4.010590</td>\n",
       "      <td>4.469430</td>\n",
       "      <td>3.854353</td>\n",
       "      <td>4.082323</td>\n",
       "    </tr>\n",
       "  </tbody>\n",
       "</table>\n",
       "</div>"
      ],
      "text/plain": [
       "       Genes      Bc12    Ch40.2    Ch22.2    Ch22.1      Ch22    Ch22.3  \\\n",
       "0  AT1G01020  3.577080  3.722695  4.271592  4.061866  4.210753  4.397349   \n",
       "1  AT1G01030  0.813054  1.386145  1.389103  1.187182  1.198640  1.103423   \n",
       "2  AT1G01040  4.321488  3.954649  4.673360  4.449645  4.374409  4.716444   \n",
       "\n",
       "     Bc12.1    Bc24.1    Bc18.1    Ch40.3    Ch40.1      Bc18      Bc24  \\\n",
       "0  3.504560  3.024506  3.698258  3.511199  3.816726  3.764637  3.093358   \n",
       "1  1.604416  2.558963  2.030601  1.471288  1.145332  1.880615  2.399901   \n",
       "2  4.349693  3.896429  4.444534  3.913743  4.010590  4.469430  3.854353   \n",
       "\n",
       "       Ch40  \n",
       "0  3.858249  \n",
       "1  1.699740  \n",
       "2  4.082323  "
      ]
     },
     "execution_count": 25,
     "metadata": {},
     "output_type": "execute_result"
    }
   ],
   "source": [
    "dfE = pd.read_csv(\"matrix_E_infected.csv\", sep='\\t')\n",
    "dfE.head(3)"
   ]
  },
  {
   "cell_type": "code",
   "execution_count": 26,
   "metadata": {},
   "outputs": [
    {
     "data": {
      "application/vnd.jupyter.widget-view+json": {
       "model_id": "cb13aec585e04d83bd148b3405fbeeef",
       "version_major": 2,
       "version_minor": 0
      },
      "text/plain": [
       "HBox(children=(FloatProgress(value=0.0, layout=Layout(flex='2'), max=19.0), HTML(value='')), layout=Layout(dis…"
      ]
     },
     "metadata": {},
     "output_type": "display_data"
    },
    {
     "name": "stdout",
     "output_type": "stream",
     "text": [
      "\n"
     ]
    }
   ],
   "source": [
    "my_report3 = sv.compare([dfD, \"D_Infected\"], [dfE, \"E_Infected\"])"
   ]
  },
  {
   "cell_type": "code",
   "execution_count": 27,
   "metadata": {},
   "outputs": [
    {
     "name": "stdout",
     "output_type": "stream",
     "text": [
      "Report SWEETVIZ_RPT_ARABIDOPSIS_INFECTED_D_E.html was generated! NOTEBOOK/COLAB USERS: the web browser MAY not pop up, regardless, the report IS saved in your notebook/colab files.\n"
     ]
    }
   ],
   "source": [
    "my_report3.show_html(\"SWEETVIZ_RPT_ARABIDOPSIS_INFECTED_D_E.html\")"
   ]
  },
  {
   "cell_type": "markdown",
   "metadata": {},
   "source": [
    "#### analysis"
   ]
  },
  {
   "cell_type": "code",
   "execution_count": 13,
   "metadata": {},
   "outputs": [
    {
     "data": {
      "application/vnd.jupyter.widget-view+json": {
       "model_id": "a24042378b804b029cba138587a02f08",
       "version_major": 2,
       "version_minor": 0
      },
      "text/plain": [
       "                                             |          | [  0%]   00:00 -> (? left)"
      ]
     },
     "metadata": {},
     "output_type": "display_data"
    }
   ],
   "source": [
    "my_report = sv.analyze(dfE, pairwise_analysis=\"on\")"
   ]
  },
  {
   "cell_type": "code",
   "execution_count": 14,
   "metadata": {},
   "outputs": [
    {
     "name": "stdout",
     "output_type": "stream",
     "text": [
      "Report SWEETVIZ_RPT_ARABIDOPSIS_INFECTED_E.html was generated! NOTEBOOK/COLAB USERS: the web browser MAY not pop up, regardless, the report IS saved in your notebook/colab files.\n"
     ]
    }
   ],
   "source": [
    "my_report.show_html(\"SWEETVIZ_RPT_ARABIDOPSIS_INFECTED_E.html\") # Default arguments will generate to \"SWEETVIZ_REPORT.html\""
   ]
  },
  {
   "cell_type": "code",
   "execution_count": null,
   "metadata": {},
   "outputs": [],
   "source": []
  }
 ],
 "metadata": {
  "kernelspec": {
   "display_name": "Python 3",
   "language": "python",
   "name": "python3"
  },
  "language_info": {
   "codemirror_mode": {
    "name": "ipython",
    "version": 3
   },
   "file_extension": ".py",
   "mimetype": "text/x-python",
   "name": "python",
   "nbconvert_exporter": "python",
   "pygments_lexer": "ipython3",
   "version": "3.7.6"
  }
 },
 "nbformat": 4,
 "nbformat_minor": 4
}
