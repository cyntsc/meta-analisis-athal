{
 "cells": [
  {
   "cell_type": "markdown",
   "metadata": {},
   "source": [
    "# 4 Prepare a traits file to match expression data in the wgcna analysis\n",
    "\n",
    "**Several files are check up to define a meta-data file useful to use to label the coexpression genes gotten with WGCNA**\n",
    "<br><br>\n",
    "athal_GO_terms.txt<br>\n",
    "Araport11_GFF3_genes_transposons.201606.gff<br>\n",
    "Araport11_functional_descriptions_20181231.txt<br>\n",
    "all_infected_Log2_17ceros_Q3_drop.csv<br>\n",
    "\n",
    "Made by: Cynthia Soto <br>\n",
    "Date: Feb 24, 2021 <br>\n",
    "Last md:  <br>"
   ]
  },
  {
   "cell_type": "code",
   "execution_count": 101,
   "metadata": {},
   "outputs": [],
   "source": [
    "# Libraries required\n",
    "import os \n",
    "import glob\n",
    "import pandas as pd"
   ]
  },
  {
   "cell_type": "code",
   "execution_count": 102,
   "metadata": {},
   "outputs": [
    {
     "name": "stdout",
     "output_type": "stream",
     "text": [
      "Directory changed: /home/cyntsc/Proyectos/tesis-code/meta-xtrome-analysis/meta-data\n"
     ]
    }
   ],
   "source": [
    "try:\n",
    "    # Change the current working Directory      \n",
    "    os.chdir(\"/home/cyntsc/Proyectos/tesis-code/meta-xtrome-analysis/meta-data/\")\n",
    "    print(\"Directory changed:\", os.getcwd() )\n",
    "except OSError:\n",
    "    print(\"Can't change the Current Working Directory\")    \n"
   ]
  },
  {
   "cell_type": "markdown",
   "metadata": {},
   "source": [
    "- [From **all_infected_Log2_17ceros_Q3_drop.csv** we can retrieve the gene names for the specific matrix](#heading)\n",
    "  * 1. Genes:AT1G01010 "
   ]
  },
  {
   "cell_type": "code",
   "execution_count": 109,
   "metadata": {},
   "outputs": [],
   "source": [
    "file=\"../results-data/all_infected_Log2_17ceros_Q3_drop.csv\"\n",
    "df_gene_names = pd.read_csv(file, sep='\\t', usecols=[0]) "
   ]
  },
  {
   "cell_type": "code",
   "execution_count": 111,
   "metadata": {},
   "outputs": [
    {
     "name": "stdout",
     "output_type": "stream",
     "text": [
      "(1824, 1)\n"
     ]
    },
    {
     "data": {
      "text/html": [
       "<div>\n",
       "<style scoped>\n",
       "    .dataframe tbody tr th:only-of-type {\n",
       "        vertical-align: middle;\n",
       "    }\n",
       "\n",
       "    .dataframe tbody tr th {\n",
       "        vertical-align: top;\n",
       "    }\n",
       "\n",
       "    .dataframe thead th {\n",
       "        text-align: right;\n",
       "    }\n",
       "</style>\n",
       "<table border=\"1\" class=\"dataframe\">\n",
       "  <thead>\n",
       "    <tr style=\"text-align: right;\">\n",
       "      <th></th>\n",
       "      <th>Genes</th>\n",
       "    </tr>\n",
       "  </thead>\n",
       "  <tbody>\n",
       "    <tr>\n",
       "      <th>0</th>\n",
       "      <td>AT1G01090</td>\n",
       "    </tr>\n",
       "    <tr>\n",
       "      <th>1</th>\n",
       "      <td>AT1G01120</td>\n",
       "    </tr>\n",
       "    <tr>\n",
       "      <th>2</th>\n",
       "      <td>AT1G01140</td>\n",
       "    </tr>\n",
       "    <tr>\n",
       "      <th>3</th>\n",
       "      <td>AT1G01180</td>\n",
       "    </tr>\n",
       "    <tr>\n",
       "      <th>4</th>\n",
       "      <td>AT1G01440</td>\n",
       "    </tr>\n",
       "  </tbody>\n",
       "</table>\n",
       "</div>"
      ],
      "text/plain": [
       "       Genes\n",
       "0  AT1G01090\n",
       "1  AT1G01120\n",
       "2  AT1G01140\n",
       "3  AT1G01180\n",
       "4  AT1G01440"
      ]
     },
     "execution_count": 111,
     "metadata": {},
     "output_type": "execute_result"
    }
   ],
   "source": [
    "print(df_gene_names.shape)\n",
    "df_gene_names.head()"
   ]
  },
  {
   "cell_type": "code",
   "execution_count": 114,
   "metadata": {},
   "outputs": [],
   "source": [
    "df_gene_names.to_csv(\"gene_names_athal_infected_Q3.csv\", index=0)"
   ]
  },
  {
   "cell_type": "code",
   "execution_count": null,
   "metadata": {},
   "outputs": [],
   "source": []
  },
  {
   "cell_type": "code",
   "execution_count": null,
   "metadata": {},
   "outputs": [],
   "source": []
  },
  {
   "cell_type": "markdown",
   "metadata": {},
   "source": [
    "- [From **athal_GO_terms.txt** we can use the Locus and GO term](#heading)\n",
    "  * 1. Locus:AT1G01010 \n",
    "  * 2. GO Term:regulation of transcription, DNA\n",
    "  * 3. Category can also provide valueable data such as:comp, proc and func classification"
   ]
  },
  {
   "cell_type": "code",
   "execution_count": 91,
   "metadata": {},
   "outputs": [],
   "source": [
    "file = \"athal_GO_terms.txt\"\n",
    "df = pd.read_csv(file, sep='\\t')    ## , usecols=[1,3], nrows=100, "
   ]
  },
  {
   "cell_type": "code",
   "execution_count": 93,
   "metadata": {},
   "outputs": [
    {
     "name": "stdout",
     "output_type": "stream",
     "text": [
      "(201479, 12)\n"
     ]
    },
    {
     "data": {
      "text/html": [
       "<div>\n",
       "<style scoped>\n",
       "    .dataframe tbody tr th:only-of-type {\n",
       "        vertical-align: middle;\n",
       "    }\n",
       "\n",
       "    .dataframe tbody tr th {\n",
       "        vertical-align: top;\n",
       "    }\n",
       "\n",
       "    .dataframe thead th {\n",
       "        text-align: right;\n",
       "    }\n",
       "</style>\n",
       "<table border=\"1\" class=\"dataframe\">\n",
       "  <thead>\n",
       "    <tr style=\"text-align: right;\">\n",
       "      <th></th>\n",
       "      <th>Locus</th>\n",
       "      <th>TAIR internal locus id</th>\n",
       "      <th>Gene Model(s)</th>\n",
       "      <th>GO term</th>\n",
       "      <th>GO ID</th>\n",
       "      <th>TAIR internal GO id</th>\n",
       "      <th>category</th>\n",
       "      <th>GO Slim(s)</th>\n",
       "      <th>Evidence code</th>\n",
       "      <th>Reference</th>\n",
       "      <th>Made by</th>\n",
       "      <th>date last modified</th>\n",
       "    </tr>\n",
       "  </thead>\n",
       "  <tbody>\n",
       "    <tr>\n",
       "      <th>0</th>\n",
       "      <td>AT1G01010</td>\n",
       "      <td>2200934.0</td>\n",
       "      <td>AT1G01010.1</td>\n",
       "      <td>nucleus</td>\n",
       "      <td>GO:0005634</td>\n",
       "      <td>537.0</td>\n",
       "      <td>comp</td>\n",
       "      <td>nucleus</td>\n",
       "      <td>ISM</td>\n",
       "      <td>AnalysisReference:501780126</td>\n",
       "      <td>NaN</td>\n",
       "      <td>08/31/2018 00:00:00</td>\n",
       "    </tr>\n",
       "    <tr>\n",
       "      <th>1</th>\n",
       "      <td>AT1G01010</td>\n",
       "      <td>2200935.0</td>\n",
       "      <td>AT1G01010</td>\n",
       "      <td>regulation of transcription, DNA-templated</td>\n",
       "      <td>GO:0006355</td>\n",
       "      <td>7461.0</td>\n",
       "      <td>proc</td>\n",
       "      <td>other cellular processes | nucleobase-containi...</td>\n",
       "      <td>ISS</td>\n",
       "      <td>Publication:1345963|PMID:11118137</td>\n",
       "      <td>NaN</td>\n",
       "      <td>04/02/2018 00:00:00</td>\n",
       "    </tr>\n",
       "    <tr>\n",
       "      <th>2</th>\n",
       "      <td>AT1G01010</td>\n",
       "      <td>2200935.0</td>\n",
       "      <td>AT1G01010</td>\n",
       "      <td>DNA-binding transcription factor activity</td>\n",
       "      <td>GO:0003700</td>\n",
       "      <td>4449.0</td>\n",
       "      <td>func</td>\n",
       "      <td>DNA-binding transcription factor activity</td>\n",
       "      <td>ISS</td>\n",
       "      <td>Publication:1345963|PMID:11118137</td>\n",
       "      <td>TAIR</td>\n",
       "      <td>06/06/2003 00:00:00</td>\n",
       "    </tr>\n",
       "  </tbody>\n",
       "</table>\n",
       "</div>"
      ],
      "text/plain": [
       "       Locus  TAIR internal locus id Gene Model(s)  \\\n",
       "0  AT1G01010               2200934.0   AT1G01010.1   \n",
       "1  AT1G01010               2200935.0     AT1G01010   \n",
       "2  AT1G01010               2200935.0     AT1G01010   \n",
       "\n",
       "                                      GO term       GO ID  \\\n",
       "0                                     nucleus  GO:0005634   \n",
       "1  regulation of transcription, DNA-templated  GO:0006355   \n",
       "2   DNA-binding transcription factor activity  GO:0003700   \n",
       "\n",
       "   TAIR internal GO id category  \\\n",
       "0                537.0     comp   \n",
       "1               7461.0     proc   \n",
       "2               4449.0     func   \n",
       "\n",
       "                                          GO Slim(s) Evidence code  \\\n",
       "0                                            nucleus           ISM   \n",
       "1  other cellular processes | nucleobase-containi...           ISS   \n",
       "2          DNA-binding transcription factor activity           ISS   \n",
       "\n",
       "                             Reference Made by   date last modified  \n",
       "0          AnalysisReference:501780126     NaN  08/31/2018 00:00:00  \n",
       "1  Publication:1345963|PMID:11118137       NaN  04/02/2018 00:00:00  \n",
       "2  Publication:1345963|PMID:11118137      TAIR  06/06/2003 00:00:00  "
      ]
     },
     "execution_count": 93,
     "metadata": {},
     "output_type": "execute_result"
    }
   ],
   "source": [
    "print(df.shape)\n",
    "df.head(3)"
   ]
  },
  {
   "cell_type": "code",
   "execution_count": 94,
   "metadata": {},
   "outputs": [],
   "source": [
    "df = df[[\"Locus\",\"GO term\",\"category\",\"Evidence code\"]]"
   ]
  },
  {
   "cell_type": "code",
   "execution_count": 95,
   "metadata": {},
   "outputs": [
    {
     "data": {
      "text/html": [
       "<div>\n",
       "<style scoped>\n",
       "    .dataframe tbody tr th:only-of-type {\n",
       "        vertical-align: middle;\n",
       "    }\n",
       "\n",
       "    .dataframe tbody tr th {\n",
       "        vertical-align: top;\n",
       "    }\n",
       "\n",
       "    .dataframe thead th {\n",
       "        text-align: right;\n",
       "    }\n",
       "</style>\n",
       "<table border=\"1\" class=\"dataframe\">\n",
       "  <thead>\n",
       "    <tr style=\"text-align: right;\">\n",
       "      <th></th>\n",
       "      <th>Locus</th>\n",
       "      <th>GO term</th>\n",
       "      <th>category</th>\n",
       "      <th>Evidence code</th>\n",
       "    </tr>\n",
       "  </thead>\n",
       "  <tbody>\n",
       "    <tr>\n",
       "      <th>2</th>\n",
       "      <td>AT1G01010</td>\n",
       "      <td>DNA-binding transcription factor activity</td>\n",
       "      <td>func</td>\n",
       "      <td>ISS</td>\n",
       "    </tr>\n",
       "    <tr>\n",
       "      <th>6</th>\n",
       "      <td>AT1G01020</td>\n",
       "      <td>molecular_function_unknown</td>\n",
       "      <td>func</td>\n",
       "      <td>ND</td>\n",
       "    </tr>\n",
       "    <tr>\n",
       "      <th>22</th>\n",
       "      <td>AT1G01030</td>\n",
       "      <td>protein binding</td>\n",
       "      <td>func</td>\n",
       "      <td>IPI</td>\n",
       "    </tr>\n",
       "    <tr>\n",
       "      <th>27</th>\n",
       "      <td>AT1G01030</td>\n",
       "      <td>DNA-binding transcription factor activity</td>\n",
       "      <td>func</td>\n",
       "      <td>ISS</td>\n",
       "    </tr>\n",
       "    <tr>\n",
       "      <th>32</th>\n",
       "      <td>AT1G01040</td>\n",
       "      <td>protein binding</td>\n",
       "      <td>func</td>\n",
       "      <td>IPI</td>\n",
       "    </tr>\n",
       "  </tbody>\n",
       "</table>\n",
       "</div>"
      ],
      "text/plain": [
       "        Locus                                    GO term category  \\\n",
       "2   AT1G01010  DNA-binding transcription factor activity     func   \n",
       "6   AT1G01020                 molecular_function_unknown     func   \n",
       "22  AT1G01030                            protein binding     func   \n",
       "27  AT1G01030  DNA-binding transcription factor activity     func   \n",
       "32  AT1G01040                            protein binding     func   \n",
       "\n",
       "   Evidence code  \n",
       "2            ISS  \n",
       "6             ND  \n",
       "22           IPI  \n",
       "27           ISS  \n",
       "32           IPI  "
      ]
     },
     "execution_count": 95,
     "metadata": {},
     "output_type": "execute_result"
    }
   ],
   "source": [
    "df = df[df['category'] == \"func\"]\n",
    "df.head()"
   ]
  },
  {
   "cell_type": "code",
   "execution_count": 100,
   "metadata": {},
   "outputs": [
    {
     "name": "stdout",
     "output_type": "stream",
     "text": [
      "(53878, 4)\n"
     ]
    },
    {
     "data": {
      "text/plain": [
       "Locus\n",
       "AT1G01010     1\n",
       "AT1G01020     1\n",
       "AT1G01030     2\n",
       "AT1G01040    11\n",
       "AT1G01050     6\n",
       "             ..\n",
       "ATMG01350     1\n",
       "ATMG01360     3\n",
       "ATMG01370     1\n",
       "ATMG01400     1\n",
       "ATMG01410     1\n",
       "Length: 22340, dtype: int64"
      ]
     },
     "execution_count": 100,
     "metadata": {},
     "output_type": "execute_result"
    }
   ],
   "source": [
    "print(df.shape)\n",
    "## count duplicates under a specific column\n",
    "df.pivot_table(index=['Locus'], aggfunc='size')"
   ]
  },
  {
   "cell_type": "code",
   "execution_count": null,
   "metadata": {},
   "outputs": [],
   "source": []
  },
  {
   "cell_type": "code",
   "execution_count": null,
   "metadata": {},
   "outputs": [],
   "source": []
  },
  {
   "cell_type": "markdown",
   "metadata": {},
   "source": [
    "- [From **#Araport11_GFF3_genes_transposons.201606.gff** we can use:](#heading)\n",
    "  * 1. name, gene_model_type, short_description, Curator_summary and Computational_description"
   ]
  },
  {
   "cell_type": "code",
   "execution_count": 76,
   "metadata": {},
   "outputs": [],
   "source": [
    "file = \"Araport11_GFF3_genes_transposons.201606.gff\"\n",
    "\n",
    "### reading an \"incorrect\" CSV to dataframe having a variable number of columns/tokens \n",
    "header_list = [\"Chr\", \"Ann\", \"Feature\",\"st\",\"end\",\"aa\",\"ord\",\"bb\",\"ID\"]\n",
    "pd_gff = pd.read_csv(file, header=0, sep='\\t', names=header_list)   #, nrows=500\n"
   ]
  },
  {
   "cell_type": "code",
   "execution_count": 77,
   "metadata": {},
   "outputs": [
    {
     "data": {
      "text/html": [
       "<div>\n",
       "<style scoped>\n",
       "    .dataframe tbody tr th:only-of-type {\n",
       "        vertical-align: middle;\n",
       "    }\n",
       "\n",
       "    .dataframe tbody tr th {\n",
       "        vertical-align: top;\n",
       "    }\n",
       "\n",
       "    .dataframe thead th {\n",
       "        text-align: right;\n",
       "    }\n",
       "</style>\n",
       "<table border=\"1\" class=\"dataframe\">\n",
       "  <thead>\n",
       "    <tr style=\"text-align: right;\">\n",
       "      <th></th>\n",
       "      <th>Chr</th>\n",
       "      <th>Ann</th>\n",
       "      <th>Feature</th>\n",
       "      <th>st</th>\n",
       "      <th>end</th>\n",
       "      <th>aa</th>\n",
       "      <th>ord</th>\n",
       "      <th>bb</th>\n",
       "      <th>ID</th>\n",
       "    </tr>\n",
       "  </thead>\n",
       "  <tbody>\n",
       "    <tr>\n",
       "      <th>0</th>\n",
       "      <td>Chr1</td>\n",
       "      <td>Araport11</td>\n",
       "      <td>five_prime_UTR</td>\n",
       "      <td>3631.0</td>\n",
       "      <td>3759.0</td>\n",
       "      <td>.</td>\n",
       "      <td>+</td>\n",
       "      <td>.</td>\n",
       "      <td>ID=AT1G01010:five_prime_UTR:1;Parent=AT1G01010...</td>\n",
       "    </tr>\n",
       "    <tr>\n",
       "      <th>1</th>\n",
       "      <td>Chr1</td>\n",
       "      <td>Araport11</td>\n",
       "      <td>exon</td>\n",
       "      <td>3631.0</td>\n",
       "      <td>3913.0</td>\n",
       "      <td>.</td>\n",
       "      <td>+</td>\n",
       "      <td>.</td>\n",
       "      <td>ID=AT1G01010:exon:1;Parent=AT1G01010.1;Name=NA...</td>\n",
       "    </tr>\n",
       "    <tr>\n",
       "      <th>2</th>\n",
       "      <td>Chr1</td>\n",
       "      <td>Araport11</td>\n",
       "      <td>CDS</td>\n",
       "      <td>3760.0</td>\n",
       "      <td>3913.0</td>\n",
       "      <td>.</td>\n",
       "      <td>+</td>\n",
       "      <td>0</td>\n",
       "      <td>ID=AT1G01010:CDS:1;Parent=AT1G01010.1;Name=NAC...</td>\n",
       "    </tr>\n",
       "    <tr>\n",
       "      <th>3</th>\n",
       "      <td>Chr1</td>\n",
       "      <td>Araport11</td>\n",
       "      <td>exon</td>\n",
       "      <td>3996.0</td>\n",
       "      <td>4276.0</td>\n",
       "      <td>.</td>\n",
       "      <td>+</td>\n",
       "      <td>.</td>\n",
       "      <td>ID=AT1G01010:exon:2;Parent=AT1G01010.1;Name=NA...</td>\n",
       "    </tr>\n",
       "    <tr>\n",
       "      <th>4</th>\n",
       "      <td>Chr1</td>\n",
       "      <td>Araport11</td>\n",
       "      <td>CDS</td>\n",
       "      <td>3996.0</td>\n",
       "      <td>4276.0</td>\n",
       "      <td>.</td>\n",
       "      <td>+</td>\n",
       "      <td>2</td>\n",
       "      <td>ID=AT1G01010:CDS:2;Parent=AT1G01010.1;Name=NAC...</td>\n",
       "    </tr>\n",
       "  </tbody>\n",
       "</table>\n",
       "</div>"
      ],
      "text/plain": [
       "    Chr        Ann         Feature      st     end aa ord bb  \\\n",
       "0  Chr1  Araport11  five_prime_UTR  3631.0  3759.0  .   +  .   \n",
       "1  Chr1  Araport11            exon  3631.0  3913.0  .   +  .   \n",
       "2  Chr1  Araport11             CDS  3760.0  3913.0  .   +  0   \n",
       "3  Chr1  Araport11            exon  3996.0  4276.0  .   +  .   \n",
       "4  Chr1  Araport11             CDS  3996.0  4276.0  .   +  2   \n",
       "\n",
       "                                                  ID  \n",
       "0  ID=AT1G01010:five_prime_UTR:1;Parent=AT1G01010...  \n",
       "1  ID=AT1G01010:exon:1;Parent=AT1G01010.1;Name=NA...  \n",
       "2  ID=AT1G01010:CDS:1;Parent=AT1G01010.1;Name=NAC...  \n",
       "3  ID=AT1G01010:exon:2;Parent=AT1G01010.1;Name=NA...  \n",
       "4  ID=AT1G01010:CDS:2;Parent=AT1G01010.1;Name=NAC...  "
      ]
     },
     "execution_count": 77,
     "metadata": {},
     "output_type": "execute_result"
    }
   ],
   "source": [
    "pd_gff.head()"
   ]
  },
  {
   "cell_type": "code",
   "execution_count": 78,
   "metadata": {},
   "outputs": [
    {
     "name": "stdout",
     "output_type": "stream",
     "text": [
      "(908168, 9)\n"
     ]
    }
   ],
   "source": [
    "print(pd_gff.shape)"
   ]
  },
  {
   "cell_type": "code",
   "execution_count": 79,
   "metadata": {},
   "outputs": [
    {
     "data": {
      "text/plain": [
       "Index(['Chr', 'Ann', 'Feature', 'st', 'end', 'aa', 'ord', 'bb', 'ID'], dtype='object')"
      ]
     },
     "execution_count": 79,
     "metadata": {},
     "output_type": "execute_result"
    }
   ],
   "source": [
    "pd_gff.columns"
   ]
  },
  {
   "cell_type": "code",
   "execution_count": 81,
   "metadata": {},
   "outputs": [
    {
     "data": {
      "text/plain": [
       "array(['five_prime_UTR', 'exon', 'CDS', 'three_prime_UTR', nan, 'protein',\n",
       "       'gene', 'mRNA', 'lnc_RNA', 'transposable_element',\n",
       "       'transposon_fragment', 'antisense_lncRNA',\n",
       "       'miRNA_primary_transcript', 'miRNA', 'transcript_region', 'tRNA',\n",
       "       'antisense_RNA', 'pseudogene', 'pseudogenic_transcript',\n",
       "       'pseudogenic_exon', 'transposable_element_gene', 'snoRNA', 'ncRNA',\n",
       "       'snRNA', 'uORF', 'pseudogenic_tRNA', 'rRNA'], dtype=object)"
      ]
     },
     "execution_count": 81,
     "metadata": {},
     "output_type": "execute_result"
    }
   ],
   "source": [
    "pd_gff.Feature.unique()"
   ]
  },
  {
   "cell_type": "code",
   "execution_count": 82,
   "metadata": {},
   "outputs": [],
   "source": [
    "pd_gff = pd_gff[pd_gff['Feature'] == \"CDS\"]"
   ]
  },
  {
   "cell_type": "code",
   "execution_count": 83,
   "metadata": {},
   "outputs": [
    {
     "data": {
      "text/plain": [
       "(286355, 9)"
      ]
     },
     "execution_count": 83,
     "metadata": {},
     "output_type": "execute_result"
    }
   ],
   "source": [
    "pd_gff.shape"
   ]
  },
  {
   "cell_type": "code",
   "execution_count": 84,
   "metadata": {},
   "outputs": [
    {
     "data": {
      "text/html": [
       "<div>\n",
       "<style scoped>\n",
       "    .dataframe tbody tr th:only-of-type {\n",
       "        vertical-align: middle;\n",
       "    }\n",
       "\n",
       "    .dataframe tbody tr th {\n",
       "        vertical-align: top;\n",
       "    }\n",
       "\n",
       "    .dataframe thead th {\n",
       "        text-align: right;\n",
       "    }\n",
       "</style>\n",
       "<table border=\"1\" class=\"dataframe\">\n",
       "  <thead>\n",
       "    <tr style=\"text-align: right;\">\n",
       "      <th></th>\n",
       "      <th>Chr</th>\n",
       "      <th>Ann</th>\n",
       "      <th>Feature</th>\n",
       "      <th>st</th>\n",
       "      <th>end</th>\n",
       "      <th>aa</th>\n",
       "      <th>ord</th>\n",
       "      <th>bb</th>\n",
       "      <th>ID</th>\n",
       "    </tr>\n",
       "  </thead>\n",
       "  <tbody>\n",
       "    <tr>\n",
       "      <th>2</th>\n",
       "      <td>Chr1</td>\n",
       "      <td>Araport11</td>\n",
       "      <td>CDS</td>\n",
       "      <td>3760.0</td>\n",
       "      <td>3913.0</td>\n",
       "      <td>.</td>\n",
       "      <td>+</td>\n",
       "      <td>0</td>\n",
       "      <td>ID=AT1G01010:CDS:1;Parent=AT1G01010.1;Name=NAC...</td>\n",
       "    </tr>\n",
       "    <tr>\n",
       "      <th>4</th>\n",
       "      <td>Chr1</td>\n",
       "      <td>Araport11</td>\n",
       "      <td>CDS</td>\n",
       "      <td>3996.0</td>\n",
       "      <td>4276.0</td>\n",
       "      <td>.</td>\n",
       "      <td>+</td>\n",
       "      <td>2</td>\n",
       "      <td>ID=AT1G01010:CDS:2;Parent=AT1G01010.1;Name=NAC...</td>\n",
       "    </tr>\n",
       "    <tr>\n",
       "      <th>6</th>\n",
       "      <td>Chr1</td>\n",
       "      <td>Araport11</td>\n",
       "      <td>CDS</td>\n",
       "      <td>4486.0</td>\n",
       "      <td>4605.0</td>\n",
       "      <td>.</td>\n",
       "      <td>+</td>\n",
       "      <td>0</td>\n",
       "      <td>ID=AT1G01010:CDS:3;Parent=AT1G01010.1;Name=NAC...</td>\n",
       "    </tr>\n",
       "    <tr>\n",
       "      <th>8</th>\n",
       "      <td>Chr1</td>\n",
       "      <td>Araport11</td>\n",
       "      <td>CDS</td>\n",
       "      <td>4706.0</td>\n",
       "      <td>5095.0</td>\n",
       "      <td>.</td>\n",
       "      <td>+</td>\n",
       "      <td>0</td>\n",
       "      <td>ID=AT1G01010:CDS:4;Parent=AT1G01010.1;Name=NAC...</td>\n",
       "    </tr>\n",
       "    <tr>\n",
       "      <th>10</th>\n",
       "      <td>Chr1</td>\n",
       "      <td>Araport11</td>\n",
       "      <td>CDS</td>\n",
       "      <td>5174.0</td>\n",
       "      <td>5326.0</td>\n",
       "      <td>.</td>\n",
       "      <td>+</td>\n",
       "      <td>0</td>\n",
       "      <td>ID=AT1G01010:CDS:5;Parent=AT1G01010.1;Name=NAC...</td>\n",
       "    </tr>\n",
       "  </tbody>\n",
       "</table>\n",
       "</div>"
      ],
      "text/plain": [
       "     Chr        Ann Feature      st     end aa ord bb  \\\n",
       "2   Chr1  Araport11     CDS  3760.0  3913.0  .   +  0   \n",
       "4   Chr1  Araport11     CDS  3996.0  4276.0  .   +  2   \n",
       "6   Chr1  Araport11     CDS  4486.0  4605.0  .   +  0   \n",
       "8   Chr1  Araport11     CDS  4706.0  5095.0  .   +  0   \n",
       "10  Chr1  Araport11     CDS  5174.0  5326.0  .   +  0   \n",
       "\n",
       "                                                   ID  \n",
       "2   ID=AT1G01010:CDS:1;Parent=AT1G01010.1;Name=NAC...  \n",
       "4   ID=AT1G01010:CDS:2;Parent=AT1G01010.1;Name=NAC...  \n",
       "6   ID=AT1G01010:CDS:3;Parent=AT1G01010.1;Name=NAC...  \n",
       "8   ID=AT1G01010:CDS:4;Parent=AT1G01010.1;Name=NAC...  \n",
       "10  ID=AT1G01010:CDS:5;Parent=AT1G01010.1;Name=NAC...  "
      ]
     },
     "execution_count": 84,
     "metadata": {},
     "output_type": "execute_result"
    }
   ],
   "source": [
    "pd_gff.head()"
   ]
  },
  {
   "cell_type": "code",
   "execution_count": null,
   "metadata": {},
   "outputs": [],
   "source": []
  },
  {
   "cell_type": "code",
   "execution_count": null,
   "metadata": {},
   "outputs": [],
   "source": []
  },
  {
   "cell_type": "markdown",
   "metadata": {},
   "source": [
    "- [From **Araport11_functional_descriptions_20181231.txt** we can use:](#heading)\n",
    "  * 1. name, gene_model_type, short_description, Curator_summary and Computational_description"
   ]
  },
  {
   "cell_type": "code",
   "execution_count": 66,
   "metadata": {},
   "outputs": [],
   "source": [
    "file = \"Araport11_functional_descriptions_20181231.txt\"\n",
    "df1 = pd.read_csv(file, sep='\\t')    ## , usecols=[1,3], nrows=100, "
   ]
  },
  {
   "cell_type": "code",
   "execution_count": 67,
   "metadata": {},
   "outputs": [
    {
     "name": "stdout",
     "output_type": "stream",
     "text": [
      "(63275, 5)\n"
     ]
    },
    {
     "data": {
      "text/html": [
       "<div>\n",
       "<style scoped>\n",
       "    .dataframe tbody tr th:only-of-type {\n",
       "        vertical-align: middle;\n",
       "    }\n",
       "\n",
       "    .dataframe tbody tr th {\n",
       "        vertical-align: top;\n",
       "    }\n",
       "\n",
       "    .dataframe thead th {\n",
       "        text-align: right;\n",
       "    }\n",
       "</style>\n",
       "<table border=\"1\" class=\"dataframe\">\n",
       "  <thead>\n",
       "    <tr style=\"text-align: right;\">\n",
       "      <th></th>\n",
       "      <th>name</th>\n",
       "      <th>gene_model_type</th>\n",
       "      <th>short_description</th>\n",
       "      <th>Curator_summary</th>\n",
       "      <th>Computational_description</th>\n",
       "    </tr>\n",
       "  </thead>\n",
       "  <tbody>\n",
       "    <tr>\n",
       "      <th>0</th>\n",
       "      <td>AAN</td>\n",
       "      <td>unknown</td>\n",
       "      <td>NaN</td>\n",
       "      <td>Putative QTL with a period-lengthening effect ...</td>\n",
       "      <td>NaN</td>\n",
       "    </tr>\n",
       "    <tr>\n",
       "      <th>1</th>\n",
       "      <td>ACL1</td>\n",
       "      <td>unknown</td>\n",
       "      <td>NaN</td>\n",
       "      <td>Mutants are defective in leaf and inflorescenc...</td>\n",
       "      <td>NaN</td>\n",
       "    </tr>\n",
       "    <tr>\n",
       "      <th>2</th>\n",
       "      <td>ACL2</td>\n",
       "      <td>unknown</td>\n",
       "      <td>NaN</td>\n",
       "      <td>Loss of function mutants have reduced internod...</td>\n",
       "      <td>NaN</td>\n",
       "    </tr>\n",
       "    <tr>\n",
       "      <th>3</th>\n",
       "      <td>ACL3</td>\n",
       "      <td>unknown</td>\n",
       "      <td>NaN</td>\n",
       "      <td>Loss of function mutants have reduced internod...</td>\n",
       "      <td>NaN</td>\n",
       "    </tr>\n",
       "    <tr>\n",
       "      <th>4</th>\n",
       "      <td>ADD1</td>\n",
       "      <td>unknown</td>\n",
       "      <td>NaN</td>\n",
       "      <td>Temperature-sensitive gene required for normal...</td>\n",
       "      <td>NaN</td>\n",
       "    </tr>\n",
       "  </tbody>\n",
       "</table>\n",
       "</div>"
      ],
      "text/plain": [
       "   name gene_model_type short_description  \\\n",
       "0   AAN         unknown               NaN   \n",
       "1  ACL1         unknown               NaN   \n",
       "2  ACL2         unknown               NaN   \n",
       "3  ACL3         unknown               NaN   \n",
       "4  ADD1         unknown               NaN   \n",
       "\n",
       "                                     Curator_summary Computational_description  \n",
       "0  Putative QTL with a period-lengthening effect ...                       NaN  \n",
       "1  Mutants are defective in leaf and inflorescenc...                       NaN  \n",
       "2  Loss of function mutants have reduced internod...                       NaN  \n",
       "3  Loss of function mutants have reduced internod...                       NaN  \n",
       "4  Temperature-sensitive gene required for normal...                       NaN  "
      ]
     },
     "execution_count": 67,
     "metadata": {},
     "output_type": "execute_result"
    }
   ],
   "source": [
    "print(df1.shape)\n",
    "df1.head(5)"
   ]
  },
  {
   "cell_type": "code",
   "execution_count": null,
   "metadata": {},
   "outputs": [],
   "source": []
  }
 ],
 "metadata": {
  "kernelspec": {
   "display_name": "Python 3",
   "language": "python",
   "name": "python3"
  },
  "language_info": {
   "codemirror_mode": {
    "name": "ipython",
    "version": 3
   },
   "file_extension": ".py",
   "mimetype": "text/x-python",
   "name": "python",
   "nbconvert_exporter": "python",
   "pygments_lexer": "ipython3",
   "version": "3.6.9"
  }
 },
 "nbformat": 4,
 "nbformat_minor": 4
}
