{
 "cells": [
  {
   "cell_type": "markdown",
   "metadata": {},
   "source": [
    "# Extract gene annotation data from a metadata file\n",
    "\n",
    "Made by: Cynthia Soto <br>\n",
    "Date: Feb 24, 2021 <br>\n",
    "Last md:  <br>\n",
    "\n",
    "**Assumptions:**<br>\n",
    "1. The annotation file(s) must to exist.\n",
    "2. Takes a custom & given file (g.e. a cluster with gene IDs), parse it and match the gene' IDs with a metadata (annotation) file provided to retrieve annotation data. It is used to track gene(s) of interest.\n",
    "**Input:** \n",
    "1. Any file with gene IDs as keys and annotation data. g.e: \n",
    "    1. *athal_GO_terms.txt\n",
    "    2. Araport11_GFF3_genes_transposons.201606.gff\n",
    "    3. Araport11_functional_descriptions_20181231.txt*\n",
    "2. The file to be parsed: g.e:\n",
    "    1. *<name_gene_cluster>.csv*\n",
    "\n",
    "**Code goal:** <br>\n",
    "1. A file with gene's IDs is parsed and match with a metadata file to retrieve names, functions, isoforms, etc."
   ]
  },
  {
   "cell_type": "code",
   "execution_count": 14,
   "metadata": {},
   "outputs": [],
   "source": [
    "# Libraries required\n",
    "import os \n",
    "import glob\n",
    "import pandas as pd"
   ]
  },
  {
   "cell_type": "code",
   "execution_count": 15,
   "metadata": {},
   "outputs": [
    {
     "name": "stdout",
     "output_type": "stream",
     "text": [
      "Directory changed: /home/cyntsc/Proyectos/tesis-code/meta-xtrome-analysis/meta-data\n"
     ]
    }
   ],
   "source": [
    "try:\n",
    "    # Change the current working Directory      \n",
    "    os.chdir(\"/home/cyntsc/Proyectos/tesis-code/meta-xtrome-analysis/meta-data/\")\n",
    "    print(\"Directory changed:\", os.getcwd() )\n",
    "except OSError:\n",
    "    print(\"Can't change the Current Working Directory\")    \n"
   ]
  },
  {
   "cell_type": "code",
   "execution_count": 16,
   "metadata": {},
   "outputs": [],
   "source": [
    "file=\"../results-data/infected_exclusive_repressed_genes.csv\"   #all_infected_Log2_17ceros_Q3_drop.csv\n",
    "df_gene_names = pd.read_csv(file, sep='\\t', usecols=[0]) "
   ]
  },
  {
   "cell_type": "code",
   "execution_count": 17,
   "metadata": {},
   "outputs": [
    {
     "name": "stdout",
     "output_type": "stream",
     "text": [
      "(242, 1)\n"
     ]
    },
    {
     "data": {
      "text/html": [
       "<div>\n",
       "<style scoped>\n",
       "    .dataframe tbody tr th:only-of-type {\n",
       "        vertical-align: middle;\n",
       "    }\n",
       "\n",
       "    .dataframe tbody tr th {\n",
       "        vertical-align: top;\n",
       "    }\n",
       "\n",
       "    .dataframe thead th {\n",
       "        text-align: right;\n",
       "    }\n",
       "</style>\n",
       "<table border=\"1\" class=\"dataframe\">\n",
       "  <thead>\n",
       "    <tr style=\"text-align: right;\">\n",
       "      <th></th>\n",
       "      <th>AT1G74675</th>\n",
       "    </tr>\n",
       "  </thead>\n",
       "  <tbody>\n",
       "    <tr>\n",
       "      <th>0</th>\n",
       "      <td>AT2G11778</td>\n",
       "    </tr>\n",
       "    <tr>\n",
       "      <th>1</th>\n",
       "      <td>AT5G41660</td>\n",
       "    </tr>\n",
       "    <tr>\n",
       "      <th>2</th>\n",
       "      <td>AT2G34320</td>\n",
       "    </tr>\n",
       "    <tr>\n",
       "      <th>3</th>\n",
       "      <td>AT3G23470</td>\n",
       "    </tr>\n",
       "    <tr>\n",
       "      <th>4</th>\n",
       "      <td>AT2G04037</td>\n",
       "    </tr>\n",
       "  </tbody>\n",
       "</table>\n",
       "</div>"
      ],
      "text/plain": [
       "   AT1G74675\n",
       "0  AT2G11778\n",
       "1  AT5G41660\n",
       "2  AT2G34320\n",
       "3  AT3G23470\n",
       "4  AT2G04037"
      ]
     },
     "execution_count": 17,
     "metadata": {},
     "output_type": "execute_result"
    }
   ],
   "source": [
    "print(df_gene_names.shape)\n",
    "df_gene_names.head()"
   ]
  },
  {
   "cell_type": "markdown",
   "metadata": {},
   "source": [
    "### GO TERMS file"
   ]
  },
  {
   "cell_type": "code",
   "execution_count": 18,
   "metadata": {},
   "outputs": [],
   "source": [
    "file = \"athal_GO_terms.txt\"\n",
    "df = pd.read_csv(file, sep='\\t')    ## , usecols=[1,3], nrows=100, "
   ]
  },
  {
   "cell_type": "code",
   "execution_count": 19,
   "metadata": {},
   "outputs": [
    {
     "name": "stdout",
     "output_type": "stream",
     "text": [
      "(201479, 12)\n"
     ]
    },
    {
     "data": {
      "text/html": [
       "<div>\n",
       "<style scoped>\n",
       "    .dataframe tbody tr th:only-of-type {\n",
       "        vertical-align: middle;\n",
       "    }\n",
       "\n",
       "    .dataframe tbody tr th {\n",
       "        vertical-align: top;\n",
       "    }\n",
       "\n",
       "    .dataframe thead th {\n",
       "        text-align: right;\n",
       "    }\n",
       "</style>\n",
       "<table border=\"1\" class=\"dataframe\">\n",
       "  <thead>\n",
       "    <tr style=\"text-align: right;\">\n",
       "      <th></th>\n",
       "      <th>Locus</th>\n",
       "      <th>TAIR internal locus id</th>\n",
       "      <th>Gene Model(s)</th>\n",
       "      <th>GO term</th>\n",
       "      <th>GO ID</th>\n",
       "      <th>TAIR internal GO id</th>\n",
       "      <th>category</th>\n",
       "      <th>GO Slim(s)</th>\n",
       "      <th>Evidence code</th>\n",
       "      <th>Reference</th>\n",
       "      <th>Made by</th>\n",
       "      <th>date last modified</th>\n",
       "    </tr>\n",
       "  </thead>\n",
       "  <tbody>\n",
       "    <tr>\n",
       "      <th>0</th>\n",
       "      <td>AT1G01010</td>\n",
       "      <td>2200934.0</td>\n",
       "      <td>AT1G01010.1</td>\n",
       "      <td>nucleus</td>\n",
       "      <td>GO:0005634</td>\n",
       "      <td>537.0</td>\n",
       "      <td>comp</td>\n",
       "      <td>nucleus</td>\n",
       "      <td>ISM</td>\n",
       "      <td>AnalysisReference:501780126</td>\n",
       "      <td>NaN</td>\n",
       "      <td>08/31/2018 00:00:00</td>\n",
       "    </tr>\n",
       "    <tr>\n",
       "      <th>1</th>\n",
       "      <td>AT1G01010</td>\n",
       "      <td>2200935.0</td>\n",
       "      <td>AT1G01010</td>\n",
       "      <td>regulation of transcription, DNA-templated</td>\n",
       "      <td>GO:0006355</td>\n",
       "      <td>7461.0</td>\n",
       "      <td>proc</td>\n",
       "      <td>other cellular processes | nucleobase-containi...</td>\n",
       "      <td>ISS</td>\n",
       "      <td>Publication:1345963|PMID:11118137</td>\n",
       "      <td>NaN</td>\n",
       "      <td>04/02/2018 00:00:00</td>\n",
       "    </tr>\n",
       "    <tr>\n",
       "      <th>2</th>\n",
       "      <td>AT1G01010</td>\n",
       "      <td>2200935.0</td>\n",
       "      <td>AT1G01010</td>\n",
       "      <td>DNA-binding transcription factor activity</td>\n",
       "      <td>GO:0003700</td>\n",
       "      <td>4449.0</td>\n",
       "      <td>func</td>\n",
       "      <td>DNA-binding transcription factor activity</td>\n",
       "      <td>ISS</td>\n",
       "      <td>Publication:1345963|PMID:11118137</td>\n",
       "      <td>TAIR</td>\n",
       "      <td>06/06/2003 00:00:00</td>\n",
       "    </tr>\n",
       "  </tbody>\n",
       "</table>\n",
       "</div>"
      ],
      "text/plain": [
       "       Locus  TAIR internal locus id Gene Model(s)  \\\n",
       "0  AT1G01010               2200934.0   AT1G01010.1   \n",
       "1  AT1G01010               2200935.0     AT1G01010   \n",
       "2  AT1G01010               2200935.0     AT1G01010   \n",
       "\n",
       "                                      GO term       GO ID  \\\n",
       "0                                     nucleus  GO:0005634   \n",
       "1  regulation of transcription, DNA-templated  GO:0006355   \n",
       "2   DNA-binding transcription factor activity  GO:0003700   \n",
       "\n",
       "   TAIR internal GO id category  \\\n",
       "0                537.0     comp   \n",
       "1               7461.0     proc   \n",
       "2               4449.0     func   \n",
       "\n",
       "                                          GO Slim(s) Evidence code  \\\n",
       "0                                            nucleus           ISM   \n",
       "1  other cellular processes | nucleobase-containi...           ISS   \n",
       "2          DNA-binding transcription factor activity           ISS   \n",
       "\n",
       "                             Reference Made by   date last modified  \n",
       "0          AnalysisReference:501780126     NaN  08/31/2018 00:00:00  \n",
       "1  Publication:1345963|PMID:11118137       NaN  04/02/2018 00:00:00  \n",
       "2  Publication:1345963|PMID:11118137      TAIR  06/06/2003 00:00:00  "
      ]
     },
     "execution_count": 19,
     "metadata": {},
     "output_type": "execute_result"
    }
   ],
   "source": [
    "print(df.shape)\n",
    "df.head(3)"
   ]
  },
  {
   "cell_type": "code",
   "execution_count": 20,
   "metadata": {},
   "outputs": [],
   "source": [
    "df = df[[\"Locus\",\"GO term\",\"category\",\"Evidence code\"]]"
   ]
  },
  {
   "cell_type": "code",
   "execution_count": 21,
   "metadata": {},
   "outputs": [
    {
     "data": {
      "text/html": [
       "<div>\n",
       "<style scoped>\n",
       "    .dataframe tbody tr th:only-of-type {\n",
       "        vertical-align: middle;\n",
       "    }\n",
       "\n",
       "    .dataframe tbody tr th {\n",
       "        vertical-align: top;\n",
       "    }\n",
       "\n",
       "    .dataframe thead th {\n",
       "        text-align: right;\n",
       "    }\n",
       "</style>\n",
       "<table border=\"1\" class=\"dataframe\">\n",
       "  <thead>\n",
       "    <tr style=\"text-align: right;\">\n",
       "      <th></th>\n",
       "      <th>Locus</th>\n",
       "      <th>GO term</th>\n",
       "      <th>category</th>\n",
       "      <th>Evidence code</th>\n",
       "    </tr>\n",
       "  </thead>\n",
       "  <tbody>\n",
       "    <tr>\n",
       "      <th>2</th>\n",
       "      <td>AT1G01010</td>\n",
       "      <td>DNA-binding transcription factor activity</td>\n",
       "      <td>func</td>\n",
       "      <td>ISS</td>\n",
       "    </tr>\n",
       "    <tr>\n",
       "      <th>6</th>\n",
       "      <td>AT1G01020</td>\n",
       "      <td>molecular_function_unknown</td>\n",
       "      <td>func</td>\n",
       "      <td>ND</td>\n",
       "    </tr>\n",
       "    <tr>\n",
       "      <th>22</th>\n",
       "      <td>AT1G01030</td>\n",
       "      <td>protein binding</td>\n",
       "      <td>func</td>\n",
       "      <td>IPI</td>\n",
       "    </tr>\n",
       "    <tr>\n",
       "      <th>27</th>\n",
       "      <td>AT1G01030</td>\n",
       "      <td>DNA-binding transcription factor activity</td>\n",
       "      <td>func</td>\n",
       "      <td>ISS</td>\n",
       "    </tr>\n",
       "    <tr>\n",
       "      <th>32</th>\n",
       "      <td>AT1G01040</td>\n",
       "      <td>protein binding</td>\n",
       "      <td>func</td>\n",
       "      <td>IPI</td>\n",
       "    </tr>\n",
       "  </tbody>\n",
       "</table>\n",
       "</div>"
      ],
      "text/plain": [
       "        Locus                                    GO term category  \\\n",
       "2   AT1G01010  DNA-binding transcription factor activity     func   \n",
       "6   AT1G01020                 molecular_function_unknown     func   \n",
       "22  AT1G01030                            protein binding     func   \n",
       "27  AT1G01030  DNA-binding transcription factor activity     func   \n",
       "32  AT1G01040                            protein binding     func   \n",
       "\n",
       "   Evidence code  \n",
       "2            ISS  \n",
       "6             ND  \n",
       "22           IPI  \n",
       "27           ISS  \n",
       "32           IPI  "
      ]
     },
     "execution_count": 21,
     "metadata": {},
     "output_type": "execute_result"
    }
   ],
   "source": [
    "df = df[df['category'] == \"func\"]\n",
    "df.head()"
   ]
  },
  {
   "cell_type": "code",
   "execution_count": 22,
   "metadata": {},
   "outputs": [
    {
     "name": "stdout",
     "output_type": "stream",
     "text": [
      "(53878, 4)\n"
     ]
    },
    {
     "data": {
      "text/plain": [
       "Locus\n",
       "AT1G01010     1\n",
       "AT1G01020     1\n",
       "AT1G01030     2\n",
       "AT1G01040    11\n",
       "AT1G01050     6\n",
       "             ..\n",
       "ATMG01350     1\n",
       "ATMG01360     3\n",
       "ATMG01370     1\n",
       "ATMG01400     1\n",
       "ATMG01410     1\n",
       "Length: 22340, dtype: int64"
      ]
     },
     "execution_count": 22,
     "metadata": {},
     "output_type": "execute_result"
    }
   ],
   "source": [
    "print(df.shape)\n",
    "## count duplicates under a specific column\n",
    "df.pivot_table(index=['Locus'], aggfunc='size').hist()"
   ]
  },
  {
   "cell_type": "code",
   "execution_count": 32,
   "metadata": {},
   "outputs": [
    {
     "data": {
      "text/plain": [
       "<matplotlib.axes._subplots.AxesSubplot at 0x7f01b7104c10>"
      ]
     },
     "execution_count": 32,
     "metadata": {},
     "output_type": "execute_result"
    },
    {
     "data": {
      "image/png": "[encoded data removed]",
      "text/plain": [
       "<Figure size 432x288 with 1 Axes>"
      ]
     },
     "metadata": {
      "needs_background": "light"
     },
     "output_type": "display_data"
    }
   ],
   "source": [
    "df.pivot_table(index=['Locus'], aggfunc='size').hist()"
   ]
  },
  {
   "cell_type": "code",
   "execution_count": 33,
   "metadata": {},
   "outputs": [
    {
     "data": {
      "text/plain": [
       "41"
      ]
     },
     "execution_count": 33,
     "metadata": {},
     "output_type": "execute_result"
    }
   ],
   "source": [
    "df.pivot_table(index=['Locus'], aggfunc='size').max()"
   ]
  },
  {
   "cell_type": "code",
   "execution_count": 35,
   "metadata": {},
   "outputs": [
    {
     "data": {
      "text/plain": [
       "Locus\n",
       "AT4G39400    28\n",
       "AT1G09570    28\n",
       "AT3G48750    29\n",
       "AT4G26080    30\n",
       "AT2G01570    31\n",
       "AT2G18790    33\n",
       "AT1G75950    36\n",
       "AT3G01090    38\n",
       "AT4G33430    39\n",
       "AT2G32950    41\n",
       "dtype: int64"
      ]
     },
     "execution_count": 35,
     "metadata": {},
     "output_type": "execute_result"
    }
   ],
   "source": [
    "df.pivot_table(index=['Locus'], aggfunc='size').sort_values().tail(10)"
   ]
  },
  {
   "cell_type": "code",
   "execution_count": 37,
   "metadata": {},
   "outputs": [],
   "source": [
    "df_grater1 = df.pivot_table(index=['Locus'], aggfunc='size')"
   ]
  },
  {
   "cell_type": "code",
   "execution_count": 43,
   "metadata": {},
   "outputs": [],
   "source": [
    "df_grater1 = df_grater1[df_grater1 > 1]"
   ]
  },
  {
   "cell_type": "code",
   "execution_count": 44,
   "metadata": {},
   "outputs": [
    {
     "data": {
      "text/plain": [
       "Locus\n",
       "AT1G01030     2\n",
       "AT1G01040    11\n",
       "AT1G01050     6\n",
       "AT1G01060     5\n",
       "AT1G01080     3\n",
       "             ..\n",
       "ATMG01190     7\n",
       "ATMG01270     2\n",
       "ATMG01280     2\n",
       "ATMG01320     2\n",
       "ATMG01360     3\n",
       "Length: 11128, dtype: int64"
      ]
     },
     "execution_count": 44,
     "metadata": {},
     "output_type": "execute_result"
    }
   ],
   "source": [
    "df_grater1"
   ]
  },
  {
   "cell_type": "code",
   "execution_count": 48,
   "metadata": {},
   "outputs": [
    {
     "data": {
      "text/plain": [
       "<matplotlib.axes._subplots.AxesSubplot at 0x7f01b6f4d070>"
      ]
     },
     "execution_count": 48,
     "metadata": {},
     "output_type": "execute_result"
    },
    {
     "data": {
      "image/png": "[encoded data removed]",
      "text/plain": [
       "<Figure size 432x288 with 1 Axes>"
      ]
     },
     "metadata": {
      "needs_background": "light"
     },
     "output_type": "display_data"
    }
   ],
   "source": [
    "df_grater1.sort_values().plot()"
   ]
  },
  {
   "cell_type": "markdown",
   "metadata": {},
   "source": [
    "### GFF (General Feature Format) \n",
    "Format consists of one line per feature, each containing 9 columns of data, plus optional track definition lines. \n",
    "- [From **#Araport11_GFF3_genes_transposons.201606.gff** we can use:](#heading)\n",
    "  * 1. name, gene_model_type, short_description, Curator_summary and Computational_description"
   ]
  },
  {
   "cell_type": "code",
   "execution_count": 23,
   "metadata": {},
   "outputs": [],
   "source": [
    "file = \"Araport11_GFF3.gff\"\n",
    "### reading an \"incorrect\" CSV to dataframe having a variable number of columns/tokens \n",
    "header_list = [\"Chr\", \"Ann\", \"Feature\",\"st\",\"end\",\"aa\",\"ord\",\"bb\",\"ID\"]\n",
    "pd_gff = pd.read_csv(file, header=0, sep='\\t', names=header_list)   #, nrows=500"
   ]
  },
  {
   "cell_type": "code",
   "execution_count": 24,
   "metadata": {},
   "outputs": [
    {
     "data": {
      "text/html": [
       "<div>\n",
       "<style scoped>\n",
       "    .dataframe tbody tr th:only-of-type {\n",
       "        vertical-align: middle;\n",
       "    }\n",
       "\n",
       "    .dataframe tbody tr th {\n",
       "        vertical-align: top;\n",
       "    }\n",
       "\n",
       "    .dataframe thead th {\n",
       "        text-align: right;\n",
       "    }\n",
       "</style>\n",
       "<table border=\"1\" class=\"dataframe\">\n",
       "  <thead>\n",
       "    <tr style=\"text-align: right;\">\n",
       "      <th></th>\n",
       "      <th>Chr</th>\n",
       "      <th>Ann</th>\n",
       "      <th>Feature</th>\n",
       "      <th>st</th>\n",
       "      <th>end</th>\n",
       "      <th>aa</th>\n",
       "      <th>ord</th>\n",
       "      <th>bb</th>\n",
       "      <th>ID</th>\n",
       "    </tr>\n",
       "  </thead>\n",
       "  <tbody>\n",
       "    <tr>\n",
       "      <th>0</th>\n",
       "      <td>Chr1</td>\n",
       "      <td>Araport11</td>\n",
       "      <td>five_prime_UTR</td>\n",
       "      <td>3631.0</td>\n",
       "      <td>3759.0</td>\n",
       "      <td>.</td>\n",
       "      <td>+</td>\n",
       "      <td>.</td>\n",
       "      <td>ID=AT1G01010:five_prime_UTR:1;Parent=AT1G01010...</td>\n",
       "    </tr>\n",
       "    <tr>\n",
       "      <th>1</th>\n",
       "      <td>Chr1</td>\n",
       "      <td>Araport11</td>\n",
       "      <td>exon</td>\n",
       "      <td>3631.0</td>\n",
       "      <td>3913.0</td>\n",
       "      <td>.</td>\n",
       "      <td>+</td>\n",
       "      <td>.</td>\n",
       "      <td>ID=AT1G01010:exon:1;Parent=AT1G01010.1;Name=NA...</td>\n",
       "    </tr>\n",
       "    <tr>\n",
       "      <th>2</th>\n",
       "      <td>Chr1</td>\n",
       "      <td>Araport11</td>\n",
       "      <td>CDS</td>\n",
       "      <td>3760.0</td>\n",
       "      <td>3913.0</td>\n",
       "      <td>.</td>\n",
       "      <td>+</td>\n",
       "      <td>0</td>\n",
       "      <td>ID=AT1G01010:CDS:1;Parent=AT1G01010.1;Name=NAC...</td>\n",
       "    </tr>\n",
       "    <tr>\n",
       "      <th>3</th>\n",
       "      <td>Chr1</td>\n",
       "      <td>Araport11</td>\n",
       "      <td>exon</td>\n",
       "      <td>3996.0</td>\n",
       "      <td>4276.0</td>\n",
       "      <td>.</td>\n",
       "      <td>+</td>\n",
       "      <td>.</td>\n",
       "      <td>ID=AT1G01010:exon:2;Parent=AT1G01010.1;Name=NA...</td>\n",
       "    </tr>\n",
       "    <tr>\n",
       "      <th>4</th>\n",
       "      <td>Chr1</td>\n",
       "      <td>Araport11</td>\n",
       "      <td>CDS</td>\n",
       "      <td>3996.0</td>\n",
       "      <td>4276.0</td>\n",
       "      <td>.</td>\n",
       "      <td>+</td>\n",
       "      <td>2</td>\n",
       "      <td>ID=AT1G01010:CDS:2;Parent=AT1G01010.1;Name=NAC...</td>\n",
       "    </tr>\n",
       "  </tbody>\n",
       "</table>\n",
       "</div>"
      ],
      "text/plain": [
       "    Chr        Ann         Feature      st     end aa ord bb  \\\n",
       "0  Chr1  Araport11  five_prime_UTR  3631.0  3759.0  .   +  .   \n",
       "1  Chr1  Araport11            exon  3631.0  3913.0  .   +  .   \n",
       "2  Chr1  Araport11             CDS  3760.0  3913.0  .   +  0   \n",
       "3  Chr1  Araport11            exon  3996.0  4276.0  .   +  .   \n",
       "4  Chr1  Araport11             CDS  3996.0  4276.0  .   +  2   \n",
       "\n",
       "                                                  ID  \n",
       "0  ID=AT1G01010:five_prime_UTR:1;Parent=AT1G01010...  \n",
       "1  ID=AT1G01010:exon:1;Parent=AT1G01010.1;Name=NA...  \n",
       "2  ID=AT1G01010:CDS:1;Parent=AT1G01010.1;Name=NAC...  \n",
       "3  ID=AT1G01010:exon:2;Parent=AT1G01010.1;Name=NA...  \n",
       "4  ID=AT1G01010:CDS:2;Parent=AT1G01010.1;Name=NAC...  "
      ]
     },
     "execution_count": 24,
     "metadata": {},
     "output_type": "execute_result"
    }
   ],
   "source": [
    "pd_gff.head()"
   ]
  },
  {
   "cell_type": "code",
   "execution_count": 25,
   "metadata": {},
   "outputs": [
    {
     "name": "stdout",
     "output_type": "stream",
     "text": [
      "(908168, 9)\n"
     ]
    }
   ],
   "source": [
    "print(pd_gff.shape)"
   ]
  },
  {
   "cell_type": "code",
   "execution_count": 26,
   "metadata": {},
   "outputs": [
    {
     "data": {
      "text/plain": [
       "Index(['Chr', 'Ann', 'Feature', 'st', 'end', 'aa', 'ord', 'bb', 'ID'], dtype='object')"
      ]
     },
     "execution_count": 26,
     "metadata": {},
     "output_type": "execute_result"
    }
   ],
   "source": [
    "pd_gff.columns"
   ]
  },
  {
   "cell_type": "code",
   "execution_count": 27,
   "metadata": {},
   "outputs": [
    {
     "data": {
      "text/plain": [
       "array(['five_prime_UTR', 'exon', 'CDS', 'three_prime_UTR', nan, 'protein',\n",
       "       'gene', 'mRNA', 'lnc_RNA', 'transposable_element',\n",
       "       'transposon_fragment', 'antisense_lncRNA',\n",
       "       'miRNA_primary_transcript', 'miRNA', 'transcript_region', 'tRNA',\n",
       "       'antisense_RNA', 'pseudogene', 'pseudogenic_transcript',\n",
       "       'pseudogenic_exon', 'transposable_element_gene', 'snoRNA', 'ncRNA',\n",
       "       'snRNA', 'uORF', 'pseudogenic_tRNA', 'rRNA'], dtype=object)"
      ]
     },
     "execution_count": 27,
     "metadata": {},
     "output_type": "execute_result"
    }
   ],
   "source": [
    "pd_gff.Feature.unique()"
   ]
  },
  {
   "cell_type": "code",
   "execution_count": 28,
   "metadata": {},
   "outputs": [],
   "source": [
    "pd_gff = pd_gff[pd_gff['Feature'] == \"CDS\"]"
   ]
  },
  {
   "cell_type": "code",
   "execution_count": 29,
   "metadata": {},
   "outputs": [
    {
     "data": {
      "text/plain": [
       "(286355, 9)"
      ]
     },
     "execution_count": 29,
     "metadata": {},
     "output_type": "execute_result"
    }
   ],
   "source": [
    "pd_gff.shape"
   ]
  },
  {
   "cell_type": "code",
   "execution_count": 30,
   "metadata": {},
   "outputs": [
    {
     "data": {
      "text/html": [
       "<div>\n",
       "<style scoped>\n",
       "    .dataframe tbody tr th:only-of-type {\n",
       "        vertical-align: middle;\n",
       "    }\n",
       "\n",
       "    .dataframe tbody tr th {\n",
       "        vertical-align: top;\n",
       "    }\n",
       "\n",
       "    .dataframe thead th {\n",
       "        text-align: right;\n",
       "    }\n",
       "</style>\n",
       "<table border=\"1\" class=\"dataframe\">\n",
       "  <thead>\n",
       "    <tr style=\"text-align: right;\">\n",
       "      <th></th>\n",
       "      <th>Chr</th>\n",
       "      <th>Ann</th>\n",
       "      <th>Feature</th>\n",
       "      <th>st</th>\n",
       "      <th>end</th>\n",
       "      <th>aa</th>\n",
       "      <th>ord</th>\n",
       "      <th>bb</th>\n",
       "      <th>ID</th>\n",
       "    </tr>\n",
       "  </thead>\n",
       "  <tbody>\n",
       "    <tr>\n",
       "      <th>2</th>\n",
       "      <td>Chr1</td>\n",
       "      <td>Araport11</td>\n",
       "      <td>CDS</td>\n",
       "      <td>3760.0</td>\n",
       "      <td>3913.0</td>\n",
       "      <td>.</td>\n",
       "      <td>+</td>\n",
       "      <td>0</td>\n",
       "      <td>ID=AT1G01010:CDS:1;Parent=AT1G01010.1;Name=NAC...</td>\n",
       "    </tr>\n",
       "    <tr>\n",
       "      <th>4</th>\n",
       "      <td>Chr1</td>\n",
       "      <td>Araport11</td>\n",
       "      <td>CDS</td>\n",
       "      <td>3996.0</td>\n",
       "      <td>4276.0</td>\n",
       "      <td>.</td>\n",
       "      <td>+</td>\n",
       "      <td>2</td>\n",
       "      <td>ID=AT1G01010:CDS:2;Parent=AT1G01010.1;Name=NAC...</td>\n",
       "    </tr>\n",
       "    <tr>\n",
       "      <th>6</th>\n",
       "      <td>Chr1</td>\n",
       "      <td>Araport11</td>\n",
       "      <td>CDS</td>\n",
       "      <td>4486.0</td>\n",
       "      <td>4605.0</td>\n",
       "      <td>.</td>\n",
       "      <td>+</td>\n",
       "      <td>0</td>\n",
       "      <td>ID=AT1G01010:CDS:3;Parent=AT1G01010.1;Name=NAC...</td>\n",
       "    </tr>\n",
       "    <tr>\n",
       "      <th>8</th>\n",
       "      <td>Chr1</td>\n",
       "      <td>Araport11</td>\n",
       "      <td>CDS</td>\n",
       "      <td>4706.0</td>\n",
       "      <td>5095.0</td>\n",
       "      <td>.</td>\n",
       "      <td>+</td>\n",
       "      <td>0</td>\n",
       "      <td>ID=AT1G01010:CDS:4;Parent=AT1G01010.1;Name=NAC...</td>\n",
       "    </tr>\n",
       "    <tr>\n",
       "      <th>10</th>\n",
       "      <td>Chr1</td>\n",
       "      <td>Araport11</td>\n",
       "      <td>CDS</td>\n",
       "      <td>5174.0</td>\n",
       "      <td>5326.0</td>\n",
       "      <td>.</td>\n",
       "      <td>+</td>\n",
       "      <td>0</td>\n",
       "      <td>ID=AT1G01010:CDS:5;Parent=AT1G01010.1;Name=NAC...</td>\n",
       "    </tr>\n",
       "  </tbody>\n",
       "</table>\n",
       "</div>"
      ],
      "text/plain": [
       "     Chr        Ann Feature      st     end aa ord bb  \\\n",
       "2   Chr1  Araport11     CDS  3760.0  3913.0  .   +  0   \n",
       "4   Chr1  Araport11     CDS  3996.0  4276.0  .   +  2   \n",
       "6   Chr1  Araport11     CDS  4486.0  4605.0  .   +  0   \n",
       "8   Chr1  Araport11     CDS  4706.0  5095.0  .   +  0   \n",
       "10  Chr1  Araport11     CDS  5174.0  5326.0  .   +  0   \n",
       "\n",
       "                                                   ID  \n",
       "2   ID=AT1G01010:CDS:1;Parent=AT1G01010.1;Name=NAC...  \n",
       "4   ID=AT1G01010:CDS:2;Parent=AT1G01010.1;Name=NAC...  \n",
       "6   ID=AT1G01010:CDS:3;Parent=AT1G01010.1;Name=NAC...  \n",
       "8   ID=AT1G01010:CDS:4;Parent=AT1G01010.1;Name=NAC...  \n",
       "10  ID=AT1G01010:CDS:5;Parent=AT1G01010.1;Name=NAC...  "
      ]
     },
     "execution_count": 30,
     "metadata": {},
     "output_type": "execute_result"
    }
   ],
   "source": [
    "pd_gff.head()"
   ]
  },
  {
   "cell_type": "markdown",
   "metadata": {},
   "source": [
    "- [From **Araport11_functional_descriptions_20181231.txt** we can use:](#heading)\n",
    "  * 1. name, gene_model_type, short_description, Curator_summary and Computational_description"
   ]
  },
  {
   "cell_type": "markdown",
   "metadata": {},
   "source": [
    "merge the dataframes and extract annotation information "
   ]
  },
  {
   "cell_type": "code",
   "execution_count": null,
   "metadata": {},
   "outputs": [],
   "source": []
  }
 ],
 "metadata": {
  "kernelspec": {
   "display_name": "Python 3 (ipykernel)",
   "language": "python",
   "name": "python3"
  },
  "language_info": {
   "codemirror_mode": {
    "name": "ipython",
    "version": 3
   },
   "file_extension": ".py",
   "mimetype": "text/x-python",
   "name": "python",
   "nbconvert_exporter": "python",
   "pygments_lexer": "ipython3",
   "version": "3.8.10"
  }
 },
 "nbformat": 4,
 "nbformat_minor": 4
}
