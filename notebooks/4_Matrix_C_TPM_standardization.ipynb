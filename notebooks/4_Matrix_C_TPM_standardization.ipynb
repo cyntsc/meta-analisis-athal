{
 "cells": [
  {
   "cell_type": "markdown",
   "metadata": {},
   "source": [
    "# 4 Matrix type C: standardization of the TPM-normalized matrix\n",
    "**Datatypes are an array with TPM-values defined in matrix B**\n",
    "\n",
    "Made by: Cynthia Soto <br>\n",
    "Date: March 19th 2021 <br>\n",
    "Last md: May 18th 2021 <br>\n",
    "\n",
    "**Assumptions:** <br>\n",
    "**Build Matrix type \"C\"** (Filter TPM values out of the range of interest)  <br>"
   ]
  },
  {
   "cell_type": "code",
   "execution_count": 141,
   "metadata": {},
   "outputs": [],
   "source": [
    "# Libraries required\n",
    "import os \n",
    "import pandas as pd\n",
    "import numpy as np\n",
    "import matplotlib.pyplot as plt\n",
    "import seaborn as sns\n",
    "\n",
    "# Set some initial configuration \n",
    "pd.set_option(\"display.precision\", 3)"
   ]
  },
  {
   "cell_type": "code",
   "execution_count": 142,
   "metadata": {},
   "outputs": [],
   "source": [
    "# Set the directory to parse and the base_name of the dataset \n",
    "# notice all plots and files will use this base_name to label objects)\n",
    "\n",
    "#  @dir_to_parse        Set the folder to be parse (the raw count must to be there)\n",
    "#  @general_titles      This var is used to label the plots and save the main and temporary files. \n",
    "\n",
    "###   Choose what dataset you are going to process\n",
    "general_titles=\"healthy\"\n",
    "#general_titles=\"infected\""
   ]
  },
  {
   "cell_type": "code",
   "execution_count": 143,
   "metadata": {},
   "outputs": [
    {
     "name": "stdout",
     "output_type": "stream",
     "text": [
      "Directory changed: /home/cyntsc/Proyectos/tesis-code/meta-xtrome-analysis/results-data/matrices_de_expresion\n"
     ]
    }
   ],
   "source": [
    "try:\n",
    "    # Change the current working Directory      \n",
    "    os.chdir(\"/home/cyntsc/Proyectos/tesis-code/meta-xtrome-analysis/results-data/matrices_de_expresion/\")\n",
    "    print(\"Directory changed:\", os.getcwd() )\n",
    "except OSError:\n",
    "    print(\"Can't change the Current Working Directory\")        "
   ]
  },
  {
   "cell_type": "markdown",
   "metadata": {},
   "source": [
    "### Declare functions"
   ]
  },
  {
   "cell_type": "code",
   "execution_count": 144,
   "metadata": {},
   "outputs": [],
   "source": [
    "###################################################\n",
    "#             MATRIX B\n",
    "# Plot the distributions: values are TPM normalized\n",
    "###################################################\n",
    "\n",
    "#def df_KDE(df_p, samples, main_t, x_label):\n",
    "def plot_KDE(df, s_type, samples, title, y_label):  \n",
    "    ## @df: the array(df) to be plotted (w/o column gene's names)\n",
    "    ## @s_type: type of matrix A, B, C, D or E\n",
    "    ## @samples: the names to be displayed in the leyend label\n",
    "    ## @title: text to be displayed as main-header in the plot\n",
    "    ## @y_label: text to be displayed in the \"y\" axis label.\n",
    "\n",
    "    plt.figure(figsize=(10,7), dpi= 80)\n",
    "    #plt.style.use('seaborn-whitegrid')\n",
    "    sns.set_style(\"whitegrid\")\n",
    "    \n",
    "    kwargs=dict(hist_kws={\"alpha\":0.6, \"lw\": 2})\n",
    "    plt.rc('xtick',labelsize=16)\n",
    "    plt.rc('ytick',labelsize=16)\n",
    "\n",
    "    for file in samples:\n",
    "        sample_data = df[file].tolist()\n",
    "        #print(sample_data[1:10])\n",
    "        #sns.distplot(sample_data, label=ID_sample+' hpi', **kwargs)   #color=\"dodgerblue\", \n",
    "        sns.distplot(sample_data, label=file, **kwargs)   #color=\"dodgerblue\", \n",
    "        \n",
    "    plt.title(s_type + ': Histogram with KDE for A.thaliana '+ general_titles,fontsize=18);\n",
    "    plt.xlabel(y_label,fontsize=16);\n",
    "    plt.ylabel('Probability Density',fontsize=16);\n",
    "    ## add arbitrary lines to canvas\n",
    "    #plt.plot([0, 15], [.15, .15], 'k-', lw=2, color='blue',marker = 'o')\n",
    "    #plt.plot([0, 15], [.74, .74], 'k-', lw=2, color='red',marker = '*')\n",
    "    plt.legend(loc='center right',fontsize=15);    \n",
    "    #plt.savefig(\"../plots/all_infected_KDE_17zeros_drop.png\");\n",
    "    return"
   ]
  },
  {
   "cell_type": "code",
   "execution_count": 145,
   "metadata": {},
   "outputs": [],
   "source": [
    "## Function to remove genes from a df based on a list of indexes provided of the df\n",
    "def df_drop_idx_list(df_idx, df_d):  #, df1_d\n",
    "\n",
    "    ## get a list of gene idx to be remove provided in the df_idx \n",
    "    ## drop this idx list from the df provided (df_d)\n",
    "    ## return the df with the idx provided removed\n",
    "    \n",
    "    ## Get the indexes of the gene rows to delete from the df provided\n",
    "    lst_genes_to_drop=(df_idx.index)\n",
    "    ## drop the idx marked    \n",
    "    for i in lst_genes_to_drop: \n",
    "        try:\n",
    "            df_d = df_d.drop([i])\n",
    "        except:\n",
    "            pass # doing nothing on exception, not processed because it is already dropped\"\n",
    "    \n",
    "    return df_d "
   ]
  },
  {
   "cell_type": "code",
   "execution_count": 146,
   "metadata": {},
   "outputs": [],
   "source": [
    "# Filter a dataframe by column value (I use a cutoff threshold)\n",
    "def filter_low_vals_df(df, *args):\n",
    "    # Input: \n",
    "    #      @df is the dataframe to filter and \n",
    "    #      @*args are the criteria to apply\n",
    "    # output: \n",
    "    #      @df_cut is a new dataframe filtered \n",
    "    \n",
    "    for k, v in args:\n",
    "        df_cut = df[df[k] >= v]\n",
    "    return df_cut\n",
    "\n",
    "def filter_high_vals_df(df, *args):\n",
    "    # Input: \n",
    "    #      @df is the dataframe to filter and \n",
    "    #      @*args are the criteria to apply\n",
    "    # output: \n",
    "    #      @df_cut is a new dataframe filtered \n",
    "    \n",
    "    for k, v in args:\n",
    "        df_cut = df[df[k] <= v]\n",
    "    return df_cut"
   ]
  },
  {
   "cell_type": "code",
   "execution_count": 147,
   "metadata": {},
   "outputs": [],
   "source": [
    "# Plot a bar-chart as the result of the dataframe describe() function over an expression array (df)\n",
    "def plot_intercuartile_bar(df, title, y_label):\n",
    "    ## @df: a dataframe with the statistics generated with the describe()function \n",
    "    ## @title: text to be displayed as main-header in the plot\n",
    "    ## @y_label: text to be displayed in the y axis label.\n",
    "\n",
    "    ## call the fuction df_with_label_ID\n",
    "    df_plot = df_with_label_ID(df)\n",
    "    ax = df.plot(x=\"ID\", y=\"max\", kind=\"bar\", figsize=(10,7))\n",
    "    df.plot(x=\"ID\", y=\"75%\", kind=\"bar\", ax=ax, color=\"C2\")\n",
    "    df.plot(x=\"ID\", y=\"50%\", kind=\"bar\", ax=ax, color=\"C3\")\n",
    "    df.plot(x=\"ID\", y=\"25%\", kind=\"bar\", ax=ax, color=\"C4\")\n",
    "    plt.title(title,fontsize=14);\n",
    "    plt.xlabel('Sample ID',fontsize=14);\n",
    "    plt.ylabel(y_label,fontsize=14);\n",
    "    plt.xticks(rotation=45,fontsize=12);\n",
    "    return\n",
    "\n",
    "# Set ID index as \"ID\" to trigger the describe() function over a dataframe    \n",
    "def df_with_label_ID(df_stat):\n",
    "    try:\n",
    "        df_stat.reset_index(level=0, inplace=True)\n",
    "        df_stat.rename(columns={'index': 'ID'}, inplace=True)\n",
    "        df_stat = df_stat.sort_values(['ID'], ascending=[True])   \n",
    "    except:\n",
    "        pass\n",
    "    return df_stat "
   ]
  },
  {
   "cell_type": "code",
   "execution_count": 148,
   "metadata": {},
   "outputs": [],
   "source": [
    "# Plot a line-chart with the mean and std.dev as the result of the dataframe describe() function over an expression array (df)\n",
    "def plot_mean_sdev_line(df, title, y_label):\n",
    "    ## @df: a dataframe with the statistics generated with the describe()function \n",
    "    ## @title: text to be displayed as main-header in the plot\n",
    "    ## @y_label: text to be displayed in the y axis label.\n",
    "  \n",
    "    ## gca stands for 'get current axis'\n",
    "    ax = plt.gca()\n",
    "    df.plot(kind='line',x='ID',y='mean',color='green', ax=ax, figsize=(10,7))\n",
    "    df.plot(kind='line',x='ID',y='std', color='red', ax=ax)\n",
    "    plt.title(title,fontsize=14);\n",
    "    plt.xlabel('Sample ID',fontsize=14);\n",
    "    plt.ylabel(y_label,fontsize=14);\n",
    "    return"
   ]
  },
  {
   "cell_type": "code",
   "execution_count": 149,
   "metadata": {},
   "outputs": [],
   "source": [
    "# plot the maximum values of a given df\n",
    "def plot_maximum_values(df, title, perc):\n",
    "    maxValues = df.max(axis = 1)\n",
    "    #maxValues.sort_values(axis=0, ascending=True)\n",
    "    #print(maxValues)\n",
    "    maxValues.plot()\n",
    "    plt.title(\"Matrix C: maximum TPM values for Athal \" + title, fontsize = 14)\n",
    "    plt.ylabel(\"Maximum TPM\", fontsize = 14)\n",
    "    plt.xlabel(\"Genes\", fontsize = 14)\n",
    "    if perc > 0: \n",
    "        plt.axhline(y=perc, color='b', linestyle='-')\n",
    "    \n",
    "    return"
   ]
  },
  {
   "cell_type": "code",
   "execution_count": 150,
   "metadata": {},
   "outputs": [],
   "source": [
    " #Build a violin subplot chat with the option to include a swarmplot distribution\n",
    "def violin_plot_inf(dfx, s_type, atypical, b_swarm, ylab):\n",
    "    # @dfx: array (expr.matrix)\n",
    "    # @b_swarm: boolean / True=include swarmplot\n",
    "    # @atypical: number\n",
    "    #         0 = all samples\n",
    "    #         1 = all with out atypical samples\n",
    "    #         2 = only atypical\n",
    "    \n",
    "    # plot style\n",
    "    sns.set_palette(\"RdBu\")\n",
    "    sns.set_style(\"darkgrid\")\n",
    "    plt.rc('xtick',labelsize=1)\n",
    "    plt.rc('ytick',labelsize=13)\n",
    "    \n",
    "    if atypical==2:\n",
    "        fig = plt.figure(figsize=(4, 4))\n",
    "        gs = fig.add_gridspec(1, 3)        # grid spaces for 3 samples\n",
    "    elif atypical==1:\n",
    "        fig = plt.figure(figsize=(12, 4))\n",
    "        gs = fig.add_gridspec(1, 14)       # grid spaces for 14 samples\n",
    "    elif atypical==0:\n",
    "        fig = plt.figure(figsize=(15, 4))\n",
    "        gs = fig.add_gridspec(1, 17)       # grid spaces for 17 samples\n",
    "\n",
    "    if atypical==0 or atypical==1:   #(1 is not plot atypical samples)\n",
    "        ## Assign the column to a pandas serie for botrytis\n",
    "        Bc12 = dfx['Bc12']\n",
    "        Bc12r = dfx['Bc12.1']\n",
    "        Bc18 = dfx['Bc18']\n",
    "        Bc18r = dfx['Bc18.1']\n",
    "        Bc24 = dfx['Bc24']\n",
    "        Bc24r = dfx['Bc24.1']\n",
    "        ## Assign the column to a pandas serie for Colletotrichum\n",
    "        Ch22 = dfx['Ch22']\n",
    "        Ch22r1 = dfx['Ch22.1']\n",
    "        Ch22r2 = dfx['Ch22.2']\n",
    "        Ch22r3 = dfx['Ch22.3']\n",
    "        Ch40 = dfx['Ch40']\n",
    "        Ch40r1 = dfx['Ch40.1']\n",
    "        Ch40r2 = dfx['Ch40.2']\n",
    "        Ch40r3 = dfx['Ch40.3']\n",
    "    if atypical==0 or atypical==2:\n",
    "        print(\"Preparing series for all atypical\")\n",
    "        ## Assign the column to a pandas serie for Ss\n",
    "        Ss = dfx['Ss30']\n",
    "        Ssr1 = dfx['Ss30.1']\n",
    "        Ssr2 = dfx['Ss30.2'];\n",
    "\n",
    "    # build violin plot #########################################################################################\n",
    "    ax1 = fig.add_subplot(gs[0, 0])\n",
    "    ax1 = fig.add_subplot(gs[0, 0], sharey=ax1)\n",
    "\n",
    "    if atypical==2:           # atypicals\n",
    "        ## Sclerotinia\n",
    "        #ax1 = fig.add_subplot(gs[0, 0], sharey=ax1)\n",
    "        sns.violinplot(data=Ss, palette='pink')\n",
    "        if b_swarm: sns.swarmplot(data=Ss, color=\"k\", alpha=0.8)\n",
    "        ax1.set_xlabel(\"Ss30\", fontsize=14)\n",
    "        ax1.set_ylabel(ylab,fontsize=16)\n",
    "\n",
    "        ax2 = fig.add_subplot(gs[0, 1], sharey=ax1)\n",
    "        sns.violinplot(data=Ssr1, palette='pink')\n",
    "        if b_swarm: sns.swarmplot(data=Ssr1, color=\"k\", alpha=0.8)\n",
    "        ax2.set_xlabel(\"Ss30.1\", fontsize=14)\n",
    "\n",
    "        ax3 = fig.add_subplot(gs[0, 2], sharey=ax1)\n",
    "        sns.violinplot(data=Ssr2, palette='pink')\n",
    "        if b_swarm: sns.swarmplot(data=Ssr2, color=\"k\", alpha=0.8)\n",
    "        ax3.set_xlabel(\"Ss30.2\", fontsize=14)\n",
    "    elif atypical==1 or atypical==0:     \n",
    "        # 1 = all with out atypical samples\n",
    "        # 0 = all samples       \n",
    "        #ax1 = fig.add_subplot(gs[0, 0])\n",
    "        sns.violinplot(data=Bc12, palette='Accent')\n",
    "        ax1.set_xlabel(\"Bc12\", fontsize=14)\n",
    "        ax1.set_ylabel(ylab,fontsize=16)\n",
    "\n",
    "        ax2 = fig.add_subplot(gs[0, 1], sharey=ax1)\n",
    "        sns.violinplot(data=Bc12r, palette='Accent')\n",
    "        ax2.set_xlabel(\"Bc12.1\", fontsize=14)\n",
    "\n",
    "        ax3 = fig.add_subplot(gs[0, 2], sharey=ax1)\n",
    "        sns.violinplot(data=Bc18, palette='Reds')\n",
    "        ax3.set_xlabel(\"Bc18\", fontsize=14)\n",
    "        #ax3.set_title('**Zeros in common removed and Q3 threshold',fontsize=13)\n",
    "\n",
    "        ax4 = fig.add_subplot(gs[0, 3], sharey=ax1)\n",
    "        sns.violinplot(data=Bc18r, palette='Reds')\n",
    "        ax4.set_xlabel(\"Bc18.1\", fontsize=14)\n",
    "\n",
    "        ax5 = fig.add_subplot(gs[0, 4], sharey=ax1)\n",
    "        sns.violinplot(data=Bc24, palette='Greens')\n",
    "        ax5.set_xlabel(\"Bc24\", fontsize=14)\n",
    "\n",
    "        ax6 = fig.add_subplot(gs[0, 5], sharey=ax1)\n",
    "        sns.violinplot(data=Bc24r, palette='Greens')\n",
    "        ax6.set_xlabel(\"Bc24.1\", fontsize=14)\n",
    "\n",
    "        ## Colletrotrichum\n",
    "        ax7 = fig.add_subplot(gs[0, 6], sharey=ax1)\n",
    "        sns.violinplot(data=Ch22, palette='Purples')\n",
    "        ax7.set_xlabel(\"Ch22\", fontsize=14)\n",
    "\n",
    "        ax8 = fig.add_subplot(gs[0, 7], sharey=ax1)\n",
    "        sns.violinplot(data=Ch22r1, palette='Purples')\n",
    "        ax8.set_xlabel(\"Ch22.1\", fontsize=14)\n",
    "\n",
    "        ax9 = fig.add_subplot(gs[0, 8])\n",
    "        sns.violinplot(data=Ch22r2, palette='Purples')\n",
    "        ax9.set_xlabel(\"Ch22.2\", fontsize=14)\n",
    "\n",
    "        ax10 = fig.add_subplot(gs[0, 9], sharey=ax1)\n",
    "        sns.violinplot(data=Ch22r3, palette='Purples')\n",
    "        ax10.set_xlabel(\"Ch22.3\", fontsize=14)\n",
    "\n",
    "        ax11 = fig.add_subplot(gs[0, 10], sharey=ax1)\n",
    "        sns.violinplot(data=Ch40, palette='Blues')\n",
    "        ax11.set_xlabel(\"Ch40\", fontsize=14)\n",
    "\n",
    "        ax12 = fig.add_subplot(gs[0, 11], sharey=ax1)\n",
    "        sns.violinplot(data=Ch40r1, palette='Blues')\n",
    "        ax12.set_xlabel(\"Ch40.1\", fontsize=14)\n",
    "\n",
    "        ax13 = fig.add_subplot(gs[0, 12], sharey=ax1)\n",
    "        sns.violinplot(data=Ch40r2, palette='Blues')\n",
    "        ax13.set_xlabel(\"Ch40.2\", fontsize=14)\n",
    "\n",
    "        ax14 = fig.add_subplot(gs[0, 13], sharey=ax1)\n",
    "        sns.violinplot(data=Ch40r3, palette='Blues')\n",
    "        ax14.set_xlabel(\"Ch40.3\", fontsize=14)      \n",
    "        if atypical==0:\n",
    "            ## Sclerotinia\n",
    "            #ax15 = fig.add_subplot(gs[0, 0], sharey=ax15)\n",
    "            ax15 = fig.add_subplot(gs[0, 14], sharey=ax1)\n",
    "            sns.violinplot(data=Ss, palette='pink')\n",
    "            ax15.set_xlabel(\"Ss30\", fontsize=14)\n",
    "\n",
    "            ax16 = fig.add_subplot(gs[0, 15], sharey=ax1)\n",
    "            sns.violinplot(data=Ssr1, palette='pink')\n",
    "            ax16.set_xlabel(\"Ss30.1\", fontsize=14)\n",
    "\n",
    "            ax17 = fig.add_subplot(gs[0, 16], sharey=ax1)\n",
    "            sns.violinplot(data=Ssr2, palette='pink')\n",
    "            ax17.set_xlabel(\"Ss30.2\", fontsize=14)   \n",
    "\n",
    "        if atypical==2:  # atypicals \n",
    "            plt.setp(ax2.get_yticklabels(), visible=False)\n",
    "            plt.setp(ax3.get_yticklabels(), visible=False)\n",
    "            fig.suptitle(s_type + \". Violin plots with KDE for Ss30 samples \"+general_titles, fontsize=18)\n",
    "        else:            # all or w/o atypicals\n",
    "            plt.setp(ax2.get_yticklabels(), visible=False)\n",
    "            plt.setp(ax3.get_yticklabels(), visible=False)\n",
    "            plt.setp(ax4.get_yticklabels(), visible=False)\n",
    "            plt.setp(ax5.get_yticklabels(), visible=False)\n",
    "            plt.setp(ax6.get_yticklabels(), visible=False)\n",
    "            plt.setp(ax7.get_yticklabels(), visible=False)\n",
    "            plt.setp(ax8.get_yticklabels(), visible=False)\n",
    "            plt.setp(ax9.get_yticklabels(), visible=False)\n",
    "            plt.setp(ax10.get_yticklabels(), visible=False)\n",
    "            plt.setp(ax11.get_yticklabels(), visible=False)\n",
    "            plt.setp(ax12.get_yticklabels(), visible=False)\n",
    "            plt.setp(ax13.get_yticklabels(), visible=False)\n",
    "            plt.setp(ax14.get_yticklabels(), visible=False)   \n",
    "            if atypical==0:\n",
    "                plt.setp(ax15.get_yticklabels(), visible=False)\n",
    "                plt.setp(ax16.get_yticklabels(), visible=False)\n",
    "                plt.setp(ax17.get_yticklabels(), visible=False)                     \n",
    "                fig.suptitle(s_type + \". Violin plots with KDE for A.thaliana \"+ general_titles, fontsize=18)\n",
    "            else: \n",
    "                fig.suptitle(s_type + \". Violin plots with KDE for A.thaliana infected / No Ss30 samples\", fontsize=18) \n",
    "    gs.tight_layout(fig, rect=[0, 0, 1, 0.97])\n",
    "    \n",
    "    return"
   ]
  },
  {
   "cell_type": "code",
   "execution_count": 151,
   "metadata": {},
   "outputs": [],
   "source": [
    "# Build a violin subplot chat with the option to include a swarmplot distribution\n",
    "def violin_plot_healthy(dfx, s_type, atypical, b_swarm, ylab):\n",
    "    # @dfx: array (expr.matrix)\n",
    "    # @s_type: type of matrix A, B, C, D or E\n",
    "    # @b_swarm: boolean / True=include swarmplot\n",
    "    # @atypical: number\n",
    "    #         0 = all samples\n",
    "    #         1 = all with out atypical samples\n",
    "    #         2 = only atypical\n",
    "    \n",
    "    # plot style\n",
    "    sns.set_palette(\"RdBu\")\n",
    "    sns.set_style(\"darkgrid\")\n",
    "    fig = plt.figure(figsize=(8, 4))\n",
    "    gs = fig.add_gridspec(1, 8)            # grid spaces for 8 samples    \n",
    "    plt.rc('xtick',labelsize=1)\n",
    "    plt.rc('ytick',labelsize=13)\n",
    "\n",
    "    # prepare series ############################################################################################      \n",
    "    H12=dfx['healthy12']\n",
    "    H12r=dfx['healthy12.1']\n",
    "    H18=dfx['healthy18']\n",
    "    H18r=dfx['healthy18.1']\n",
    "    H24=dfx['healthy24']\n",
    "    H24r=dfx['healthy24.1']\n",
    "    H30=dfx['healthy30']\n",
    "    H30r=dfx['healthy30.1']\n",
    "\n",
    "    # build violin plot #########################################################################################\n",
    "    ax1 = fig.add_subplot(gs[0, 0])\n",
    "    ax1 = fig.add_subplot(gs[0, 0], sharey=ax1)\n",
    "\n",
    "    sns.violinplot(data=H12, palette='Reds')\n",
    "    ax1.set_xlabel(\"H12\",fontsize=14)\n",
    "    ax1.set_ylabel(ylab,fontsize=16)\n",
    "\n",
    "    ax2 = fig.add_subplot(gs[0, 1], sharey=ax1)\n",
    "    sns.violinplot(data=H12r, palette='Greens')\n",
    "    ax2.set_xlabel(\"H12.1\",fontsize=14)\n",
    "\n",
    "    ax3 = fig.add_subplot(gs[0, 2], sharey=ax1)\n",
    "    sns.violinplot(data=H18, palette='pink')\n",
    "    ax3.set_xlabel(\"H18\",fontsize=14)\n",
    "\n",
    "    ax4 = fig.add_subplot(gs[0, 3], sharey=ax1)\n",
    "    sns.violinplot(data=H18r, palette='Accent')\n",
    "    ax4.set_xlabel(\"H18.1\",fontsize=14)\n",
    "\n",
    "    ax5 = fig.add_subplot(gs[0, 4], sharey=ax1)\n",
    "    sns.violinplot(data=H24, palette='Reds')\n",
    "    ax5.set_xlabel(\"H24\",fontsize=14)\n",
    "\n",
    "    ax6 = fig.add_subplot(gs[0, 5], sharey=ax1)\n",
    "    sns.violinplot(data=H24r, palette='Greens')\n",
    "    ax6.set_xlabel(\"H24.1\",fontsize=14)\n",
    "\n",
    "    ax7 = fig.add_subplot(gs[0, 6], sharey=ax1)\n",
    "    sns.violinplot(data=H30, palette='pink')\n",
    "    ax7.set_xlabel(\"H30\",fontsize=14)\n",
    "\n",
    "    ax8 = fig.add_subplot(gs[0, 7], sharey=ax1)\n",
    "    sns.violinplot(data=H30r, palette='Accent')\n",
    "    ax8.set_xlabel(\"H30.1\",fontsize=14)\n",
    "\n",
    "    # prepare labels #####################################################################################\n",
    "    plt.setp(ax2.get_yticklabels(), visible=False)\n",
    "    plt.setp(ax3.get_yticklabels(), visible=False)\n",
    "    plt.setp(ax4.get_yticklabels(), visible=False)\n",
    "    plt.setp(ax5.get_yticklabels(), visible=False)\n",
    "    plt.setp(ax6.get_yticklabels(), visible=False)\n",
    "    plt.setp(ax7.get_yticklabels(), visible=False)\n",
    "    plt.setp(ax8.get_yticklabels(), visible=False)\n",
    "    fig.suptitle(s_type + \". Violin plot with KDE for A.thaliana \"+ general_titles, fontsize=18)\n",
    "    gs.tight_layout(fig, rect=[0, 0, 1, 0.97])\n",
    "    \n",
    "    return"
   ]
  },
  {
   "cell_type": "markdown",
   "metadata": {},
   "source": [
    "## Load your TPM matrix"
   ]
  },
  {
   "cell_type": "code",
   "execution_count": 152,
   "metadata": {},
   "outputs": [
    {
     "data": {
      "text/plain": [
       "'matrix_B_healthy.csv'"
      ]
     },
     "execution_count": 152,
     "metadata": {},
     "output_type": "execute_result"
    }
   ],
   "source": [
    "file_name = \"matrix_B_\" + general_titles.strip() +\".csv\"\n",
    "file_name"
   ]
  },
  {
   "cell_type": "code",
   "execution_count": 153,
   "metadata": {},
   "outputs": [
    {
     "name": "stdout",
     "output_type": "stream",
     "text": [
      "22426\n"
     ]
    },
    {
     "data": {
      "text/html": [
       "<div>\n",
       "<style scoped>\n",
       "    .dataframe tbody tr th:only-of-type {\n",
       "        vertical-align: middle;\n",
       "    }\n",
       "\n",
       "    .dataframe tbody tr th {\n",
       "        vertical-align: top;\n",
       "    }\n",
       "\n",
       "    .dataframe thead th {\n",
       "        text-align: right;\n",
       "    }\n",
       "</style>\n",
       "<table border=\"1\" class=\"dataframe\">\n",
       "  <thead>\n",
       "    <tr style=\"text-align: right;\">\n",
       "      <th></th>\n",
       "      <th>Genes</th>\n",
       "      <th>healthy30.1</th>\n",
       "      <th>healthy30</th>\n",
       "      <th>healthy12</th>\n",
       "      <th>healthy18.1</th>\n",
       "      <th>healthy18</th>\n",
       "      <th>healthy24.1</th>\n",
       "      <th>healthy12.1</th>\n",
       "      <th>healthy24</th>\n",
       "    </tr>\n",
       "  </thead>\n",
       "  <tbody>\n",
       "    <tr>\n",
       "      <th>0</th>\n",
       "      <td>AT1G01020</td>\n",
       "      <td>8.482</td>\n",
       "      <td>7.118</td>\n",
       "      <td>9.930</td>\n",
       "      <td>8.065</td>\n",
       "      <td>7.243</td>\n",
       "      <td>8.547</td>\n",
       "      <td>11.852</td>\n",
       "      <td>9.254</td>\n",
       "    </tr>\n",
       "    <tr>\n",
       "      <th>1</th>\n",
       "      <td>AT1G01030</td>\n",
       "      <td>1.577</td>\n",
       "      <td>1.776</td>\n",
       "      <td>1.944</td>\n",
       "      <td>1.458</td>\n",
       "      <td>1.841</td>\n",
       "      <td>2.418</td>\n",
       "      <td>1.589</td>\n",
       "      <td>0.934</td>\n",
       "    </tr>\n",
       "    <tr>\n",
       "      <th>2</th>\n",
       "      <td>AT1G01040</td>\n",
       "      <td>28.536</td>\n",
       "      <td>25.216</td>\n",
       "      <td>21.880</td>\n",
       "      <td>21.147</td>\n",
       "      <td>17.802</td>\n",
       "      <td>13.734</td>\n",
       "      <td>23.615</td>\n",
       "      <td>15.054</td>\n",
       "    </tr>\n",
       "    <tr>\n",
       "      <th>3</th>\n",
       "      <td>AT1G01050</td>\n",
       "      <td>100.854</td>\n",
       "      <td>107.075</td>\n",
       "      <td>106.225</td>\n",
       "      <td>114.017</td>\n",
       "      <td>117.077</td>\n",
       "      <td>51.267</td>\n",
       "      <td>111.675</td>\n",
       "      <td>59.331</td>\n",
       "    </tr>\n",
       "    <tr>\n",
       "      <th>4</th>\n",
       "      <td>AT1G01060</td>\n",
       "      <td>0.304</td>\n",
       "      <td>0.100</td>\n",
       "      <td>15.112</td>\n",
       "      <td>715.292</td>\n",
       "      <td>600.107</td>\n",
       "      <td>11.611</td>\n",
       "      <td>21.152</td>\n",
       "      <td>14.058</td>\n",
       "    </tr>\n",
       "  </tbody>\n",
       "</table>\n",
       "</div>"
      ],
      "text/plain": [
       "       Genes  healthy30.1  healthy30  healthy12  healthy18.1  healthy18  \\\n",
       "0  AT1G01020        8.482      7.118      9.930        8.065      7.243   \n",
       "1  AT1G01030        1.577      1.776      1.944        1.458      1.841   \n",
       "2  AT1G01040       28.536     25.216     21.880       21.147     17.802   \n",
       "3  AT1G01050      100.854    107.075    106.225      114.017    117.077   \n",
       "4  AT1G01060        0.304      0.100     15.112      715.292    600.107   \n",
       "\n",
       "   healthy24.1  healthy12.1  healthy24  \n",
       "0        8.547       11.852      9.254  \n",
       "1        2.418        1.589      0.934  \n",
       "2       13.734       23.615     15.054  \n",
       "3       51.267      111.675     59.331  \n",
       "4       11.611       21.152     14.058  "
      ]
     },
     "execution_count": 153,
     "metadata": {},
     "output_type": "execute_result"
    }
   ],
   "source": [
    "df_expr=pd.read_csv(file_name, header=0, sep=',')\n",
    "print(len(df_expr))\n",
    "df_expr.head(5)"
   ]
  },
  {
   "cell_type": "markdown",
   "metadata": {},
   "source": [
    "## Calculate the sample's distribution of the matrix B (TPM normalized)"
   ]
  },
  {
   "cell_type": "code",
   "execution_count": 154,
   "metadata": {},
   "outputs": [
    {
     "name": "stdout",
     "output_type": "stream",
     "text": [
      "['healthy30.1', 'healthy30', 'healthy12', 'healthy18.1', 'healthy18', 'healthy24.1', 'healthy12.1', 'healthy24']\n"
     ]
    }
   ],
   "source": [
    "# chk the distribution\n",
    "df_plot = df_expr.drop(['Genes'], axis=1)   #, inplace = True\n",
    "## Get sample list names\n",
    "sample_lst=df_plot.columns\n",
    "sample_lst=sample_lst.to_list()\n",
    "print(sample_lst)"
   ]
  },
  {
   "cell_type": "code",
   "execution_count": 155,
   "metadata": {},
   "outputs": [
    {
     "data": {
      "text/plain": [
       "<function __main__.violin_plot_inf(dfx, s_type, atypical, b_swarm, ylab)>"
      ]
     },
     "execution_count": 155,
     "metadata": {},
     "output_type": "execute_result"
    }
   ],
   "source": [
    "violin_plot_inf"
   ]
  },
  {
   "cell_type": "code",
   "execution_count": 156,
   "metadata": {},
   "outputs": [
    {
     "data": {
      "image/png": "[encoded data removed]",
      "text/plain": [
       "<Figure size 576x288 with 9 Axes>"
      ]
     },
     "metadata": {},
     "output_type": "display_data"
    }
   ],
   "source": [
    "if general_titles == 'infected':\n",
    "    violin_plot_inf(df_plot, \"Matrix B\", 0, False, 'TPM values')\n",
    "    # @atypical: \n",
    "    #       0 = all samples\n",
    "    #       1 = all with out atypical samples \n",
    "    #       2 = only atypical \n",
    "else:\n",
    "    violin_plot_healthy(df_plot, \"Matrix B\", general_titles.strip(), 0, 'TPM values')    "
   ]
  },
  {
   "cell_type": "markdown",
   "metadata": {},
   "source": [
    "## TPM standarization: \n",
    "### The process consists on calculate the number of ocurrences where genes have low and hight extreme TPM values and decide under wich threshold cut off values"
   ]
  },
  {
   "cell_type": "markdown",
   "metadata": {},
   "source": [
    "CV obviously depends very strongly on mean expression such that lowly expressed genes are going to tend to have much higher CV. Therefore, we cannot trust the CV of very lowly expressed genes, and so these should be filtered out of your analysis. If you want a well tested expression filtering scheme, you could use GTEx's scheme (Genes were selected based on expression thresholds of >0.1 TPM in at least 20% of samples and ≥6 reads in at least 20% of samples)."
   ]
  },
  {
   "cell_type": "markdown",
   "metadata": {},
   "source": [
    "For my own analysis, deleting genes with no counts in at least 70% of the dataset seems convenient, because these genes are underrepresented. And, high quantities of expression levels underrepresented need to be removed to reduce noise in the coexpression analysis in most of the cases. Of course, the biology issue will weigh more than the technical issues. <br>\n",
    "***Let's start with the counting of genes in zeros***"
   ]
  },
  {
   "cell_type": "code",
   "execution_count": 157,
   "metadata": {},
   "outputs": [],
   "source": [
    "## Check number of zeros by sample\n",
    "sr_ceros = df_expr.isin([0]).sum()\n",
    "type(sr_ceros)\n",
    "## transform the pandas serie into a pandas df\n",
    "df_ceros = sr_ceros.to_frame()"
   ]
  },
  {
   "cell_type": "code",
   "execution_count": 158,
   "metadata": {},
   "outputs": [
    {
     "data": {
      "text/html": [
       "<div>\n",
       "<style scoped>\n",
       "    .dataframe tbody tr th:only-of-type {\n",
       "        vertical-align: middle;\n",
       "    }\n",
       "\n",
       "    .dataframe tbody tr th {\n",
       "        vertical-align: top;\n",
       "    }\n",
       "\n",
       "    .dataframe thead th {\n",
       "        text-align: right;\n",
       "    }\n",
       "</style>\n",
       "<table border=\"1\" class=\"dataframe\">\n",
       "  <thead>\n",
       "    <tr style=\"text-align: right;\">\n",
       "      <th></th>\n",
       "      <th>0</th>\n",
       "    </tr>\n",
       "  </thead>\n",
       "  <tbody>\n",
       "    <tr>\n",
       "      <th>Genes</th>\n",
       "      <td>0</td>\n",
       "    </tr>\n",
       "    <tr>\n",
       "      <th>healthy30.1</th>\n",
       "      <td>2460</td>\n",
       "    </tr>\n",
       "    <tr>\n",
       "      <th>healthy30</th>\n",
       "      <td>2472</td>\n",
       "    </tr>\n",
       "    <tr>\n",
       "      <th>healthy12</th>\n",
       "      <td>2168</td>\n",
       "    </tr>\n",
       "    <tr>\n",
       "      <th>healthy18.1</th>\n",
       "      <td>2399</td>\n",
       "    </tr>\n",
       "    <tr>\n",
       "      <th>healthy18</th>\n",
       "      <td>1660</td>\n",
       "    </tr>\n",
       "    <tr>\n",
       "      <th>healthy24.1</th>\n",
       "      <td>2474</td>\n",
       "    </tr>\n",
       "    <tr>\n",
       "      <th>healthy12.1</th>\n",
       "      <td>1811</td>\n",
       "    </tr>\n",
       "  </tbody>\n",
       "</table>\n",
       "</div>"
      ],
      "text/plain": [
       "                0\n",
       "Genes           0\n",
       "healthy30.1  2460\n",
       "healthy30    2472\n",
       "healthy12    2168\n",
       "healthy18.1  2399\n",
       "healthy18    1660\n",
       "healthy24.1  2474\n",
       "healthy12.1  1811"
      ]
     },
     "execution_count": 158,
     "metadata": {},
     "output_type": "execute_result"
    }
   ],
   "source": [
    "df_ceros[0:8]"
   ]
  },
  {
   "cell_type": "markdown",
   "metadata": {},
   "source": [
    "***Validate that none gene has TPM equal to zero across all samples***"
   ]
  },
  {
   "cell_type": "code",
   "execution_count": 159,
   "metadata": {},
   "outputs": [
    {
     "data": {
      "text/html": [
       "<div>\n",
       "<style scoped>\n",
       "    .dataframe tbody tr th:only-of-type {\n",
       "        vertical-align: middle;\n",
       "    }\n",
       "\n",
       "    .dataframe tbody tr th {\n",
       "        vertical-align: top;\n",
       "    }\n",
       "\n",
       "    .dataframe thead th {\n",
       "        text-align: right;\n",
       "    }\n",
       "</style>\n",
       "<table border=\"1\" class=\"dataframe\">\n",
       "  <thead>\n",
       "    <tr style=\"text-align: right;\">\n",
       "      <th></th>\n",
       "      <th>Genes</th>\n",
       "      <th>healthy30.1</th>\n",
       "      <th>healthy30</th>\n",
       "      <th>healthy12</th>\n",
       "      <th>healthy18.1</th>\n",
       "      <th>healthy18</th>\n",
       "      <th>healthy24.1</th>\n",
       "      <th>healthy12.1</th>\n",
       "      <th>healthy24</th>\n",
       "      <th>zero-counter</th>\n",
       "    </tr>\n",
       "  </thead>\n",
       "  <tbody>\n",
       "    <tr>\n",
       "      <th>0</th>\n",
       "      <td>AT1G01020</td>\n",
       "      <td>8.482</td>\n",
       "      <td>7.118</td>\n",
       "      <td>9.930</td>\n",
       "      <td>8.065</td>\n",
       "      <td>7.243</td>\n",
       "      <td>8.547</td>\n",
       "      <td>11.852</td>\n",
       "      <td>9.254</td>\n",
       "      <td>0</td>\n",
       "    </tr>\n",
       "    <tr>\n",
       "      <th>1</th>\n",
       "      <td>AT1G01030</td>\n",
       "      <td>1.577</td>\n",
       "      <td>1.776</td>\n",
       "      <td>1.944</td>\n",
       "      <td>1.458</td>\n",
       "      <td>1.841</td>\n",
       "      <td>2.418</td>\n",
       "      <td>1.589</td>\n",
       "      <td>0.934</td>\n",
       "      <td>0</td>\n",
       "    </tr>\n",
       "    <tr>\n",
       "      <th>2</th>\n",
       "      <td>AT1G01040</td>\n",
       "      <td>28.536</td>\n",
       "      <td>25.216</td>\n",
       "      <td>21.880</td>\n",
       "      <td>21.147</td>\n",
       "      <td>17.802</td>\n",
       "      <td>13.734</td>\n",
       "      <td>23.615</td>\n",
       "      <td>15.054</td>\n",
       "      <td>0</td>\n",
       "    </tr>\n",
       "    <tr>\n",
       "      <th>3</th>\n",
       "      <td>AT1G01050</td>\n",
       "      <td>100.854</td>\n",
       "      <td>107.075</td>\n",
       "      <td>106.225</td>\n",
       "      <td>114.017</td>\n",
       "      <td>117.077</td>\n",
       "      <td>51.267</td>\n",
       "      <td>111.675</td>\n",
       "      <td>59.331</td>\n",
       "      <td>0</td>\n",
       "    </tr>\n",
       "    <tr>\n",
       "      <th>4</th>\n",
       "      <td>AT1G01060</td>\n",
       "      <td>0.304</td>\n",
       "      <td>0.100</td>\n",
       "      <td>15.112</td>\n",
       "      <td>715.292</td>\n",
       "      <td>600.107</td>\n",
       "      <td>11.611</td>\n",
       "      <td>21.152</td>\n",
       "      <td>14.058</td>\n",
       "      <td>0</td>\n",
       "    </tr>\n",
       "  </tbody>\n",
       "</table>\n",
       "</div>"
      ],
      "text/plain": [
       "       Genes  healthy30.1  healthy30  healthy12  healthy18.1  healthy18  \\\n",
       "0  AT1G01020        8.482      7.118      9.930        8.065      7.243   \n",
       "1  AT1G01030        1.577      1.776      1.944        1.458      1.841   \n",
       "2  AT1G01040       28.536     25.216     21.880       21.147     17.802   \n",
       "3  AT1G01050      100.854    107.075    106.225      114.017    117.077   \n",
       "4  AT1G01060        0.304      0.100     15.112      715.292    600.107   \n",
       "\n",
       "   healthy24.1  healthy12.1  healthy24  zero-counter  \n",
       "0        8.547       11.852      9.254             0  \n",
       "1        2.418        1.589      0.934             0  \n",
       "2       13.734       23.615     15.054             0  \n",
       "3       51.267      111.675     59.331             0  \n",
       "4       11.611       21.152     14.058             0  "
      ]
     },
     "execution_count": 159,
     "metadata": {},
     "output_type": "execute_result"
    }
   ],
   "source": [
    "s_zeros = (df_expr == 0).astype(int).sum(axis=1)\n",
    "## Added a column to df1 with the counter of zeros\n",
    "df_expr['zero-counter'] = s_zeros\n",
    "df_expr.head(5)     # see ID=13 for exampling"
   ]
  },
  {
   "cell_type": "code",
   "execution_count": 160,
   "metadata": {},
   "outputs": [
    {
     "data": {
      "text/plain": [
       "8"
      ]
     },
     "execution_count": 160,
     "metadata": {},
     "output_type": "execute_result"
    }
   ],
   "source": [
    "i_samples = len(df_expr.columns)-2              # need to substract \"Gene & zero-counter\" from the operation\n",
    "i_samples"
   ]
  },
  {
   "cell_type": "code",
   "execution_count": 161,
   "metadata": {},
   "outputs": [
    {
     "data": {
      "text/html": [
       "<div>\n",
       "<style scoped>\n",
       "    .dataframe tbody tr th:only-of-type {\n",
       "        vertical-align: middle;\n",
       "    }\n",
       "\n",
       "    .dataframe tbody tr th {\n",
       "        vertical-align: top;\n",
       "    }\n",
       "\n",
       "    .dataframe thead th {\n",
       "        text-align: right;\n",
       "    }\n",
       "</style>\n",
       "<table border=\"1\" class=\"dataframe\">\n",
       "  <thead>\n",
       "    <tr style=\"text-align: right;\">\n",
       "      <th></th>\n",
       "      <th>Genes</th>\n",
       "      <th>healthy30.1</th>\n",
       "      <th>healthy30</th>\n",
       "      <th>healthy12</th>\n",
       "      <th>healthy18.1</th>\n",
       "      <th>healthy18</th>\n",
       "      <th>healthy24.1</th>\n",
       "      <th>healthy12.1</th>\n",
       "      <th>healthy24</th>\n",
       "      <th>zero-counter</th>\n",
       "    </tr>\n",
       "  </thead>\n",
       "  <tbody>\n",
       "  </tbody>\n",
       "</table>\n",
       "</div>"
      ],
      "text/plain": [
       "Empty DataFrame\n",
       "Columns: [Genes, healthy30.1, healthy30, healthy12, healthy18.1, healthy18, healthy24.1, healthy12.1, healthy24, zero-counter]\n",
       "Index: []"
      ]
     },
     "execution_count": 161,
     "metadata": {},
     "output_type": "execute_result"
    }
   ],
   "source": [
    "df_expr[(df_expr['zero-counter'] == i_samples)]"
   ]
  },
  {
   "cell_type": "markdown",
   "metadata": {},
   "source": [
    "## Now, calculate the number of ocurrences by gene(row) where TPM <= 0.1"
   ]
  },
  {
   "cell_type": "code",
   "execution_count": 162,
   "metadata": {},
   "outputs": [
    {
     "data": {
      "text/html": [
       "<div>\n",
       "<style scoped>\n",
       "    .dataframe tbody tr th:only-of-type {\n",
       "        vertical-align: middle;\n",
       "    }\n",
       "\n",
       "    .dataframe tbody tr th {\n",
       "        vertical-align: top;\n",
       "    }\n",
       "\n",
       "    .dataframe thead th {\n",
       "        text-align: right;\n",
       "    }\n",
       "</style>\n",
       "<table border=\"1\" class=\"dataframe\">\n",
       "  <thead>\n",
       "    <tr style=\"text-align: right;\">\n",
       "      <th></th>\n",
       "      <th>Genes</th>\n",
       "      <th>healthy30.1</th>\n",
       "      <th>healthy30</th>\n",
       "      <th>healthy12</th>\n",
       "      <th>healthy18.1</th>\n",
       "      <th>healthy18</th>\n",
       "      <th>healthy24.1</th>\n",
       "      <th>healthy12.1</th>\n",
       "      <th>healthy24</th>\n",
       "    </tr>\n",
       "  </thead>\n",
       "  <tbody>\n",
       "    <tr>\n",
       "      <th>22421</th>\n",
       "      <td>ATMG01350</td>\n",
       "      <td>1.357</td>\n",
       "      <td>1.397</td>\n",
       "      <td>0.368</td>\n",
       "      <td>0.276</td>\n",
       "      <td>0.000</td>\n",
       "      <td>0.000</td>\n",
       "      <td>0.355</td>\n",
       "      <td>0.511</td>\n",
       "    </tr>\n",
       "    <tr>\n",
       "      <th>22422</th>\n",
       "      <td>ATMG01360</td>\n",
       "      <td>4.985</td>\n",
       "      <td>4.009</td>\n",
       "      <td>2.034</td>\n",
       "      <td>2.058</td>\n",
       "      <td>1.824</td>\n",
       "      <td>2.261</td>\n",
       "      <td>3.682</td>\n",
       "      <td>1.906</td>\n",
       "    </tr>\n",
       "    <tr>\n",
       "      <th>22423</th>\n",
       "      <td>ATMG01370</td>\n",
       "      <td>14.152</td>\n",
       "      <td>4.326</td>\n",
       "      <td>11.506</td>\n",
       "      <td>6.110</td>\n",
       "      <td>6.575</td>\n",
       "      <td>9.204</td>\n",
       "      <td>17.128</td>\n",
       "      <td>11.314</td>\n",
       "    </tr>\n",
       "    <tr>\n",
       "      <th>22424</th>\n",
       "      <td>ATMG01400</td>\n",
       "      <td>0.000</td>\n",
       "      <td>0.000</td>\n",
       "      <td>0.000</td>\n",
       "      <td>0.000</td>\n",
       "      <td>0.000</td>\n",
       "      <td>0.000</td>\n",
       "      <td>0.245</td>\n",
       "      <td>0.352</td>\n",
       "    </tr>\n",
       "    <tr>\n",
       "      <th>22425</th>\n",
       "      <td>ATMG01410</td>\n",
       "      <td>0.138</td>\n",
       "      <td>0.373</td>\n",
       "      <td>0.524</td>\n",
       "      <td>0.589</td>\n",
       "      <td>0.276</td>\n",
       "      <td>0.265</td>\n",
       "      <td>0.759</td>\n",
       "      <td>0.909</td>\n",
       "    </tr>\n",
       "  </tbody>\n",
       "</table>\n",
       "</div>"
      ],
      "text/plain": [
       "           Genes  healthy30.1  healthy30  healthy12  healthy18.1  healthy18  \\\n",
       "22421  ATMG01350        1.357      1.397      0.368        0.276      0.000   \n",
       "22422  ATMG01360        4.985      4.009      2.034        2.058      1.824   \n",
       "22423  ATMG01370       14.152      4.326     11.506        6.110      6.575   \n",
       "22424  ATMG01400        0.000      0.000      0.000        0.000      0.000   \n",
       "22425  ATMG01410        0.138      0.373      0.524        0.589      0.276   \n",
       "\n",
       "       healthy24.1  healthy12.1  healthy24  \n",
       "22421        0.000        0.355      0.511  \n",
       "22422        2.261        3.682      1.906  \n",
       "22423        9.204       17.128     11.314  \n",
       "22424        0.000        0.245      0.352  \n",
       "22425        0.265        0.759      0.909  "
      ]
     },
     "execution_count": 162,
     "metadata": {},
     "output_type": "execute_result"
    }
   ],
   "source": [
    "# drop this column, no need more\n",
    "df_expr.drop(['zero-counter'], inplace=True, axis=1)\n",
    "df_expr.head(5)\n",
    "df_expr.tail(5)"
   ]
  },
  {
   "cell_type": "code",
   "execution_count": 163,
   "metadata": {},
   "outputs": [
    {
     "data": {
      "text/plain": [
       "9"
      ]
     },
     "execution_count": 163,
     "metadata": {},
     "output_type": "execute_result"
    }
   ],
   "source": [
    "ilast_sample = len(df_expr.columns) \n",
    "ilast_sample\n",
    "# 9 for athal healthy\n",
    "# 18 for athal infected"
   ]
  },
  {
   "cell_type": "code",
   "execution_count": 164,
   "metadata": {},
   "outputs": [],
   "source": [
    "#df_expr[\"Low_TPM\"] = df_expr.apply(lambda row: sum(row[1:18]<=0.1) ,axis=1)\n",
    "df_expr[\"Low_TPM\"] = df_expr.apply(lambda row: sum(row[1:ilast_sample] <= 0.1), axis=1)"
   ]
  },
  {
   "cell_type": "code",
   "execution_count": 165,
   "metadata": {},
   "outputs": [
    {
     "data": {
      "text/html": [
       "<div>\n",
       "<style scoped>\n",
       "    .dataframe tbody tr th:only-of-type {\n",
       "        vertical-align: middle;\n",
       "    }\n",
       "\n",
       "    .dataframe tbody tr th {\n",
       "        vertical-align: top;\n",
       "    }\n",
       "\n",
       "    .dataframe thead th {\n",
       "        text-align: right;\n",
       "    }\n",
       "</style>\n",
       "<table border=\"1\" class=\"dataframe\">\n",
       "  <thead>\n",
       "    <tr style=\"text-align: right;\">\n",
       "      <th></th>\n",
       "      <th>Genes</th>\n",
       "      <th>healthy30.1</th>\n",
       "      <th>healthy30</th>\n",
       "      <th>healthy12</th>\n",
       "      <th>healthy18.1</th>\n",
       "      <th>healthy18</th>\n",
       "      <th>healthy24.1</th>\n",
       "      <th>healthy12.1</th>\n",
       "      <th>healthy24</th>\n",
       "      <th>Low_TPM</th>\n",
       "    </tr>\n",
       "  </thead>\n",
       "  <tbody>\n",
       "    <tr>\n",
       "      <th>0</th>\n",
       "      <td>AT1G01020</td>\n",
       "      <td>8.482</td>\n",
       "      <td>7.118</td>\n",
       "      <td>9.930</td>\n",
       "      <td>8.065</td>\n",
       "      <td>7.243</td>\n",
       "      <td>8.547</td>\n",
       "      <td>11.852</td>\n",
       "      <td>9.254</td>\n",
       "      <td>0</td>\n",
       "    </tr>\n",
       "    <tr>\n",
       "      <th>1</th>\n",
       "      <td>AT1G01030</td>\n",
       "      <td>1.577</td>\n",
       "      <td>1.776</td>\n",
       "      <td>1.944</td>\n",
       "      <td>1.458</td>\n",
       "      <td>1.841</td>\n",
       "      <td>2.418</td>\n",
       "      <td>1.589</td>\n",
       "      <td>0.934</td>\n",
       "      <td>0</td>\n",
       "    </tr>\n",
       "    <tr>\n",
       "      <th>2</th>\n",
       "      <td>AT1G01040</td>\n",
       "      <td>28.536</td>\n",
       "      <td>25.216</td>\n",
       "      <td>21.880</td>\n",
       "      <td>21.147</td>\n",
       "      <td>17.802</td>\n",
       "      <td>13.734</td>\n",
       "      <td>23.615</td>\n",
       "      <td>15.054</td>\n",
       "      <td>0</td>\n",
       "    </tr>\n",
       "    <tr>\n",
       "      <th>3</th>\n",
       "      <td>AT1G01050</td>\n",
       "      <td>100.854</td>\n",
       "      <td>107.075</td>\n",
       "      <td>106.225</td>\n",
       "      <td>114.017</td>\n",
       "      <td>117.077</td>\n",
       "      <td>51.267</td>\n",
       "      <td>111.675</td>\n",
       "      <td>59.331</td>\n",
       "      <td>0</td>\n",
       "    </tr>\n",
       "    <tr>\n",
       "      <th>4</th>\n",
       "      <td>AT1G01060</td>\n",
       "      <td>0.304</td>\n",
       "      <td>0.100</td>\n",
       "      <td>15.112</td>\n",
       "      <td>715.292</td>\n",
       "      <td>600.107</td>\n",
       "      <td>11.611</td>\n",
       "      <td>21.152</td>\n",
       "      <td>14.058</td>\n",
       "      <td>1</td>\n",
       "    </tr>\n",
       "  </tbody>\n",
       "</table>\n",
       "</div>"
      ],
      "text/plain": [
       "       Genes  healthy30.1  healthy30  healthy12  healthy18.1  healthy18  \\\n",
       "0  AT1G01020        8.482      7.118      9.930        8.065      7.243   \n",
       "1  AT1G01030        1.577      1.776      1.944        1.458      1.841   \n",
       "2  AT1G01040       28.536     25.216     21.880       21.147     17.802   \n",
       "3  AT1G01050      100.854    107.075    106.225      114.017    117.077   \n",
       "4  AT1G01060        0.304      0.100     15.112      715.292    600.107   \n",
       "\n",
       "   healthy24.1  healthy12.1  healthy24  Low_TPM  \n",
       "0        8.547       11.852      9.254        0  \n",
       "1        2.418        1.589      0.934        0  \n",
       "2       13.734       23.615     15.054        0  \n",
       "3       51.267      111.675     59.331        0  \n",
       "4       11.611       21.152     14.058        1  "
      ]
     },
     "execution_count": 165,
     "metadata": {},
     "output_type": "execute_result"
    }
   ],
   "source": [
    "df_expr.head(5)   "
   ]
  },
  {
   "cell_type": "markdown",
   "metadata": {},
   "source": [
    "## TPM standarization: criteria 1\n",
    "**Drop genes with high number of occurrences in Low_TPM field** <br>\n",
    "**For my own analysis:** TPM<0.1 in at least 70% of the samples <br>\n",
    "e.g: Athal.Infected has 17 samples, thus: <br>\n",
    "17 x 0.70 = 11.9; rounded the result the criteria sets: Low_TMP >= 12"
   ]
  },
  {
   "cell_type": "code",
   "execution_count": 166,
   "metadata": {},
   "outputs": [
    {
     "data": {
      "text/plain": [
       "6"
      ]
     },
     "execution_count": 166,
     "metadata": {},
     "output_type": "execute_result"
    }
   ],
   "source": [
    "lowTPM = int((((len(df_expr.columns)-2)*0.7)+1))\n",
    "lowTPM\n",
    "# Athal healthy       5.6 + 1(zero-counter) = 6 (truncado)\n",
    "# Athal infected      11.9 +1(zero-counter) = 12 (truncado)"
   ]
  },
  {
   "cell_type": "code",
   "execution_count": 167,
   "metadata": {},
   "outputs": [],
   "source": [
    "is_zero = (df_expr['Low_TPM'] >= lowTPM)  "
   ]
  },
  {
   "cell_type": "code",
   "execution_count": 168,
   "metadata": {},
   "outputs": [
    {
     "name": "stdout",
     "output_type": "stream",
     "text": [
      "genes with 70% of zeros thru the samples: 2262\n"
     ]
    },
    {
     "data": {
      "text/html": [
       "<div>\n",
       "<style scoped>\n",
       "    .dataframe tbody tr th:only-of-type {\n",
       "        vertical-align: middle;\n",
       "    }\n",
       "\n",
       "    .dataframe tbody tr th {\n",
       "        vertical-align: top;\n",
       "    }\n",
       "\n",
       "    .dataframe thead th {\n",
       "        text-align: right;\n",
       "    }\n",
       "</style>\n",
       "<table border=\"1\" class=\"dataframe\">\n",
       "  <thead>\n",
       "    <tr style=\"text-align: right;\">\n",
       "      <th></th>\n",
       "      <th>Genes</th>\n",
       "      <th>healthy30.1</th>\n",
       "      <th>healthy30</th>\n",
       "      <th>healthy12</th>\n",
       "      <th>healthy18.1</th>\n",
       "      <th>healthy18</th>\n",
       "      <th>healthy24.1</th>\n",
       "      <th>healthy12.1</th>\n",
       "      <th>healthy24</th>\n",
       "      <th>Low_TPM</th>\n",
       "    </tr>\n",
       "  </thead>\n",
       "  <tbody>\n",
       "    <tr>\n",
       "      <th>13</th>\n",
       "      <td>AT1G01150</td>\n",
       "      <td>0.000</td>\n",
       "      <td>0.000</td>\n",
       "      <td>0.000</td>\n",
       "      <td>0.000</td>\n",
       "      <td>0.030</td>\n",
       "      <td>0.0</td>\n",
       "      <td>0.000</td>\n",
       "      <td>0.000</td>\n",
       "      <td>8</td>\n",
       "    </tr>\n",
       "    <tr>\n",
       "      <th>28</th>\n",
       "      <td>AT1G01310</td>\n",
       "      <td>3.158</td>\n",
       "      <td>0.105</td>\n",
       "      <td>0.000</td>\n",
       "      <td>0.000</td>\n",
       "      <td>0.000</td>\n",
       "      <td>0.0</td>\n",
       "      <td>0.000</td>\n",
       "      <td>0.000</td>\n",
       "      <td>6</td>\n",
       "    </tr>\n",
       "    <tr>\n",
       "      <th>43</th>\n",
       "      <td>AT1G01480</td>\n",
       "      <td>0.039</td>\n",
       "      <td>0.070</td>\n",
       "      <td>0.074</td>\n",
       "      <td>0.055</td>\n",
       "      <td>0.052</td>\n",
       "      <td>0.0</td>\n",
       "      <td>0.107</td>\n",
       "      <td>0.255</td>\n",
       "      <td>6</td>\n",
       "    </tr>\n",
       "    <tr>\n",
       "      <th>98</th>\n",
       "      <td>AT1G02040</td>\n",
       "      <td>0.000</td>\n",
       "      <td>0.078</td>\n",
       "      <td>0.000</td>\n",
       "      <td>0.124</td>\n",
       "      <td>0.000</td>\n",
       "      <td>0.0</td>\n",
       "      <td>0.080</td>\n",
       "      <td>0.115</td>\n",
       "      <td>6</td>\n",
       "    </tr>\n",
       "    <tr>\n",
       "      <th>101</th>\n",
       "      <td>AT1G02065</td>\n",
       "      <td>0.167</td>\n",
       "      <td>0.000</td>\n",
       "      <td>0.000</td>\n",
       "      <td>0.000</td>\n",
       "      <td>0.000</td>\n",
       "      <td>0.0</td>\n",
       "      <td>0.000</td>\n",
       "      <td>0.000</td>\n",
       "      <td>7</td>\n",
       "    </tr>\n",
       "    <tr>\n",
       "      <th>115</th>\n",
       "      <td>AT1G02190</td>\n",
       "      <td>0.000</td>\n",
       "      <td>0.000</td>\n",
       "      <td>0.183</td>\n",
       "      <td>0.000</td>\n",
       "      <td>0.279</td>\n",
       "      <td>0.0</td>\n",
       "      <td>0.000</td>\n",
       "      <td>0.042</td>\n",
       "      <td>6</td>\n",
       "    </tr>\n",
       "    <tr>\n",
       "      <th>119</th>\n",
       "      <td>AT1G02250</td>\n",
       "      <td>0.000</td>\n",
       "      <td>0.000</td>\n",
       "      <td>0.601</td>\n",
       "      <td>0.000</td>\n",
       "      <td>0.000</td>\n",
       "      <td>0.0</td>\n",
       "      <td>0.000</td>\n",
       "      <td>0.000</td>\n",
       "      <td>7</td>\n",
       "    </tr>\n",
       "  </tbody>\n",
       "</table>\n",
       "</div>"
      ],
      "text/plain": [
       "         Genes  healthy30.1  healthy30  healthy12  healthy18.1  healthy18  \\\n",
       "13   AT1G01150        0.000      0.000      0.000        0.000      0.030   \n",
       "28   AT1G01310        3.158      0.105      0.000        0.000      0.000   \n",
       "43   AT1G01480        0.039      0.070      0.074        0.055      0.052   \n",
       "98   AT1G02040        0.000      0.078      0.000        0.124      0.000   \n",
       "101  AT1G02065        0.167      0.000      0.000        0.000      0.000   \n",
       "115  AT1G02190        0.000      0.000      0.183        0.000      0.279   \n",
       "119  AT1G02250        0.000      0.000      0.601        0.000      0.000   \n",
       "\n",
       "     healthy24.1  healthy12.1  healthy24  Low_TPM  \n",
       "13           0.0        0.000      0.000        8  \n",
       "28           0.0        0.000      0.000        6  \n",
       "43           0.0        0.107      0.255        6  \n",
       "98           0.0        0.080      0.115        6  \n",
       "101          0.0        0.000      0.000        7  \n",
       "115          0.0        0.000      0.042        6  \n",
       "119          0.0        0.000      0.000        7  "
      ]
     },
     "execution_count": 168,
     "metadata": {},
     "output_type": "execute_result"
    }
   ],
   "source": [
    "df_zero = df_expr[is_zero]\n",
    "print('genes with 70% of zeros thru the samples:',len(df_zero))\n",
    "df_zero.head(7)"
   ]
  },
  {
   "cell_type": "markdown",
   "metadata": {},
   "source": [
    "**call the df_drop_idx_list function to delete the indexes marked**"
   ]
  },
  {
   "cell_type": "code",
   "execution_count": 169,
   "metadata": {},
   "outputs": [
    {
     "name": "stdout",
     "output_type": "stream",
     "text": [
      "22426\n",
      "20164\n"
     ]
    },
    {
     "data": {
      "text/html": [
       "<div>\n",
       "<style scoped>\n",
       "    .dataframe tbody tr th:only-of-type {\n",
       "        vertical-align: middle;\n",
       "    }\n",
       "\n",
       "    .dataframe tbody tr th {\n",
       "        vertical-align: top;\n",
       "    }\n",
       "\n",
       "    .dataframe thead th {\n",
       "        text-align: right;\n",
       "    }\n",
       "</style>\n",
       "<table border=\"1\" class=\"dataframe\">\n",
       "  <thead>\n",
       "    <tr style=\"text-align: right;\">\n",
       "      <th></th>\n",
       "      <th>Genes</th>\n",
       "      <th>healthy30.1</th>\n",
       "      <th>healthy30</th>\n",
       "      <th>healthy12</th>\n",
       "      <th>healthy18.1</th>\n",
       "      <th>healthy18</th>\n",
       "      <th>healthy24.1</th>\n",
       "      <th>healthy12.1</th>\n",
       "      <th>healthy24</th>\n",
       "      <th>Low_TPM</th>\n",
       "    </tr>\n",
       "  </thead>\n",
       "  <tbody>\n",
       "    <tr>\n",
       "      <th>0</th>\n",
       "      <td>AT1G01020</td>\n",
       "      <td>8.482</td>\n",
       "      <td>7.118</td>\n",
       "      <td>9.930</td>\n",
       "      <td>8.065</td>\n",
       "      <td>7.243</td>\n",
       "      <td>8.547</td>\n",
       "      <td>11.852</td>\n",
       "      <td>9.254</td>\n",
       "      <td>0</td>\n",
       "    </tr>\n",
       "    <tr>\n",
       "      <th>1</th>\n",
       "      <td>AT1G01030</td>\n",
       "      <td>1.577</td>\n",
       "      <td>1.776</td>\n",
       "      <td>1.944</td>\n",
       "      <td>1.458</td>\n",
       "      <td>1.841</td>\n",
       "      <td>2.418</td>\n",
       "      <td>1.589</td>\n",
       "      <td>0.934</td>\n",
       "      <td>0</td>\n",
       "    </tr>\n",
       "    <tr>\n",
       "      <th>2</th>\n",
       "      <td>AT1G01040</td>\n",
       "      <td>28.536</td>\n",
       "      <td>25.216</td>\n",
       "      <td>21.880</td>\n",
       "      <td>21.147</td>\n",
       "      <td>17.802</td>\n",
       "      <td>13.734</td>\n",
       "      <td>23.615</td>\n",
       "      <td>15.054</td>\n",
       "      <td>0</td>\n",
       "    </tr>\n",
       "    <tr>\n",
       "      <th>3</th>\n",
       "      <td>AT1G01050</td>\n",
       "      <td>100.854</td>\n",
       "      <td>107.075</td>\n",
       "      <td>106.225</td>\n",
       "      <td>114.017</td>\n",
       "      <td>117.077</td>\n",
       "      <td>51.267</td>\n",
       "      <td>111.675</td>\n",
       "      <td>59.331</td>\n",
       "      <td>0</td>\n",
       "    </tr>\n",
       "    <tr>\n",
       "      <th>4</th>\n",
       "      <td>AT1G01060</td>\n",
       "      <td>0.304</td>\n",
       "      <td>0.100</td>\n",
       "      <td>15.112</td>\n",
       "      <td>715.292</td>\n",
       "      <td>600.107</td>\n",
       "      <td>11.611</td>\n",
       "      <td>21.152</td>\n",
       "      <td>14.058</td>\n",
       "      <td>1</td>\n",
       "    </tr>\n",
       "  </tbody>\n",
       "</table>\n",
       "</div>"
      ],
      "text/plain": [
       "       Genes  healthy30.1  healthy30  healthy12  healthy18.1  healthy18  \\\n",
       "0  AT1G01020        8.482      7.118      9.930        8.065      7.243   \n",
       "1  AT1G01030        1.577      1.776      1.944        1.458      1.841   \n",
       "2  AT1G01040       28.536     25.216     21.880       21.147     17.802   \n",
       "3  AT1G01050      100.854    107.075    106.225      114.017    117.077   \n",
       "4  AT1G01060        0.304      0.100     15.112      715.292    600.107   \n",
       "\n",
       "   healthy24.1  healthy12.1  healthy24  Low_TPM  \n",
       "0        8.547       11.852      9.254        0  \n",
       "1        2.418        1.589      0.934        0  \n",
       "2       13.734       23.615     15.054        0  \n",
       "3       51.267      111.675     59.331        0  \n",
       "4       11.611       21.152     14.058        1  "
      ]
     },
     "execution_count": 169,
     "metadata": {},
     "output_type": "execute_result"
    }
   ],
   "source": [
    "print(len(df_expr))\n",
    "df1 = df_drop_idx_list(df_zero,df_expr)\n",
    "print(len(df1))\n",
    "df1.head(5)"
   ]
  },
  {
   "cell_type": "code",
   "execution_count": 170,
   "metadata": {},
   "outputs": [],
   "source": [
    "# xleyend = df1.columns.to_list()\n",
    "# xleyend.pop(0)\n",
    "# xleyend.pop()\n",
    "# xleyend"
   ]
  },
  {
   "cell_type": "code",
   "execution_count": 171,
   "metadata": {},
   "outputs": [
    {
     "data": {
      "text/plain": [
       "17467"
      ]
     },
     "execution_count": 171,
     "metadata": {},
     "output_type": "execute_result"
    }
   ],
   "source": [
    "lst_zeros_by_sample = df1.isin([0]).sum().to_list()\n",
    "lst_zeros_by_sample.pop(0)\n",
    "lst_zeros_by_sample.pop()\n",
    "#lst_zeros_by_sample"
   ]
  },
  {
   "cell_type": "code",
   "execution_count": 172,
   "metadata": {},
   "outputs": [
    {
     "data": {
      "text/plain": [
       "881"
      ]
     },
     "execution_count": 172,
     "metadata": {},
     "output_type": "execute_result"
    }
   ],
   "source": [
    "lst_zeros_by_sample = df1.isin([0]).sum().to_list()\n",
    "lst_zeros_by_sample.pop(0)\n",
    "lst_zeros_by_sample.pop()\n",
    "lst_zeros_by_sample = (sorted(lst_zeros_by_sample))\n",
    "# min(lst_zeros_by_sample)\n",
    "# max(lst_zeros_by_sample)"
   ]
  },
  {
   "cell_type": "code",
   "execution_count": 174,
   "metadata": {},
   "outputs": [
    {
     "data": {
      "text/plain": [
       "Text(0, 831, '881')"
      ]
     },
     "execution_count": 174,
     "metadata": {},
     "output_type": "execute_result"
    },
    {
     "data": {
      "image/png": "[encoded data removed]",
      "text/plain": [
       "<Figure size 432x288 with 1 Axes>"
      ]
     },
     "metadata": {},
     "output_type": "display_data"
    }
   ],
   "source": [
    "plt.plot(lst_zeros_by_sample)\n",
    "plt.title(\"Matrix C: zeros remaining by sample for Athal \" + general_titles, fontsize=14)\n",
    "plt.ylabel(\"Zeros by sample\",fontsize=14)\n",
    "plt.xlabel(\"Samples\", fontsize=14)\n",
    "plt.axhline(y= min(lst_zeros_by_sample), color='b', linestyle='-')\n",
    "plt.text(0, (min(lst_zeros_by_sample) + 50), str(min(lst_zeros_by_sample)), fontsize=14)\n",
    "plt.axhline(y= max(lst_zeros_by_sample), color='b', linestyle='-')\n",
    "plt.text(0, (max(lst_zeros_by_sample) - 50), str(max(lst_zeros_by_sample)), fontsize=14)   # 250 en infected"
   ]
  },
  {
   "cell_type": "code",
   "execution_count": 175,
   "metadata": {},
   "outputs": [
    {
     "data": {
      "image/png": "[encoded data removed]",
      "text/plain": [
       "<Figure size 800x560 with 1 Axes>"
      ]
     },
     "metadata": {},
     "output_type": "display_data"
    }
   ],
   "source": [
    "# chk the distribution\n",
    "df_plot=df1.drop(['Genes','Low_TPM'], axis=1)  \n",
    "## Get sample list names\n",
    "#plt.style.use('seaborn-whitegrid')\n",
    "plot_KDE(df_plot, \"Matrix C\", sample_lst, general_titles , 'TPM values')"
   ]
  },
  {
   "cell_type": "code",
   "execution_count": 176,
   "metadata": {},
   "outputs": [
    {
     "data": {
      "image/png": "[encoded data removed]",
      "text/plain": [
       "<Figure size 576x288 with 9 Axes>"
      ]
     },
     "metadata": {},
     "output_type": "display_data"
    }
   ],
   "source": [
    "# athal infectes only: atypical allowed values;  0 = all samples / 1 = all with out atypical samples / 2 = only atypical    \n",
    "\n",
    "if general_titles == 'infected':\n",
    "    violin_plot_inf(df_plot, \"Matrix C\", 0, False, 'TPM values')\n",
    "    # @atypical: \n",
    "    #       0 = all samples\n",
    "    #       1 = all with out atypical samples \n",
    "    #       2 = only atypical \n",
    "else:\n",
    "    violin_plot_healthy(df_plot, \"Matrix C\", general_titles, False, 'TPM values')   "
   ]
  },
  {
   "cell_type": "code",
   "execution_count": 177,
   "metadata": {},
   "outputs": [
    {
     "data": {
      "text/plain": [
       "[412.1722717280921,\n",
       " 381.49921603917414,\n",
       " 372.69100357979926,\n",
       " 355.1312144004376,\n",
       " 329.69841382621865,\n",
       " 302.58349135259516,\n",
       " 300.89547508594,\n",
       " 289.3180524452327,\n",
       " 1.0288669925139349]"
      ]
     },
     "execution_count": 177,
     "metadata": {},
     "output_type": "execute_result"
    }
   ],
   "source": [
    "df_stat = df1.describe().T\n",
    "#df_stat\n",
    "lst_sd = df_stat['std'].to_list()\n",
    "#lst_sd = lst_sd.sort()\n",
    "lst_sd.sort(reverse=True)\n",
    "lst_sd"
   ]
  },
  {
   "cell_type": "markdown",
   "metadata": {},
   "source": [
    "## TPM standarization: criteria 2\n",
    "**Drop genes with high number of occurrences in High_TPM field** <br>\n",
    "**For my own analysis:** TPM > max(99th percentil among all the samples)"
   ]
  },
  {
   "cell_type": "code",
   "execution_count": 178,
   "metadata": {},
   "outputs": [
    {
     "data": {
      "text/html": [
       "<div>\n",
       "<style scoped>\n",
       "    .dataframe tbody tr th:only-of-type {\n",
       "        vertical-align: middle;\n",
       "    }\n",
       "\n",
       "    .dataframe tbody tr th {\n",
       "        vertical-align: top;\n",
       "    }\n",
       "\n",
       "    .dataframe thead th {\n",
       "        text-align: right;\n",
       "    }\n",
       "</style>\n",
       "<table border=\"1\" class=\"dataframe\">\n",
       "  <thead>\n",
       "    <tr style=\"text-align: right;\">\n",
       "      <th></th>\n",
       "      <th>Genes</th>\n",
       "      <th>healthy30.1</th>\n",
       "      <th>healthy30</th>\n",
       "      <th>healthy12</th>\n",
       "      <th>healthy18.1</th>\n",
       "      <th>healthy18</th>\n",
       "      <th>healthy24.1</th>\n",
       "      <th>healthy12.1</th>\n",
       "      <th>healthy24</th>\n",
       "      <th>Low_TPM</th>\n",
       "    </tr>\n",
       "  </thead>\n",
       "  <tbody>\n",
       "    <tr>\n",
       "      <th>0</th>\n",
       "      <td>AT1G01020</td>\n",
       "      <td>8.482</td>\n",
       "      <td>7.118</td>\n",
       "      <td>9.930</td>\n",
       "      <td>8.065</td>\n",
       "      <td>7.243</td>\n",
       "      <td>8.547</td>\n",
       "      <td>11.852</td>\n",
       "      <td>9.254</td>\n",
       "      <td>0</td>\n",
       "    </tr>\n",
       "    <tr>\n",
       "      <th>1</th>\n",
       "      <td>AT1G01030</td>\n",
       "      <td>1.577</td>\n",
       "      <td>1.776</td>\n",
       "      <td>1.944</td>\n",
       "      <td>1.458</td>\n",
       "      <td>1.841</td>\n",
       "      <td>2.418</td>\n",
       "      <td>1.589</td>\n",
       "      <td>0.934</td>\n",
       "      <td>0</td>\n",
       "    </tr>\n",
       "    <tr>\n",
       "      <th>2</th>\n",
       "      <td>AT1G01040</td>\n",
       "      <td>28.536</td>\n",
       "      <td>25.216</td>\n",
       "      <td>21.880</td>\n",
       "      <td>21.147</td>\n",
       "      <td>17.802</td>\n",
       "      <td>13.734</td>\n",
       "      <td>23.615</td>\n",
       "      <td>15.054</td>\n",
       "      <td>0</td>\n",
       "    </tr>\n",
       "  </tbody>\n",
       "</table>\n",
       "</div>"
      ],
      "text/plain": [
       "       Genes  healthy30.1  healthy30  healthy12  healthy18.1  healthy18  \\\n",
       "0  AT1G01020        8.482      7.118      9.930        8.065      7.243   \n",
       "1  AT1G01030        1.577      1.776      1.944        1.458      1.841   \n",
       "2  AT1G01040       28.536     25.216     21.880       21.147     17.802   \n",
       "\n",
       "   healthy24.1  healthy12.1  healthy24  Low_TPM  \n",
       "0        8.547       11.852      9.254        0  \n",
       "1        2.418        1.589      0.934        0  \n",
       "2       13.734       23.615     15.054        0  "
      ]
     },
     "execution_count": 178,
     "metadata": {},
     "output_type": "execute_result"
    }
   ],
   "source": [
    "df1.head(3)"
   ]
  },
  {
   "cell_type": "code",
   "execution_count": 179,
   "metadata": {},
   "outputs": [
    {
     "data": {
      "text/html": [
       "<div>\n",
       "<style scoped>\n",
       "    .dataframe tbody tr th:only-of-type {\n",
       "        vertical-align: middle;\n",
       "    }\n",
       "\n",
       "    .dataframe tbody tr th {\n",
       "        vertical-align: top;\n",
       "    }\n",
       "\n",
       "    .dataframe thead th {\n",
       "        text-align: right;\n",
       "    }\n",
       "</style>\n",
       "<table border=\"1\" class=\"dataframe\">\n",
       "  <thead>\n",
       "    <tr style=\"text-align: right;\">\n",
       "      <th></th>\n",
       "      <th>Genes</th>\n",
       "      <th>healthy30.1</th>\n",
       "      <th>healthy30</th>\n",
       "      <th>healthy12</th>\n",
       "      <th>healthy18.1</th>\n",
       "      <th>healthy18</th>\n",
       "      <th>healthy24.1</th>\n",
       "      <th>healthy12.1</th>\n",
       "      <th>healthy24</th>\n",
       "    </tr>\n",
       "  </thead>\n",
       "  <tbody>\n",
       "    <tr>\n",
       "      <th>0</th>\n",
       "      <td>AT1G01020</td>\n",
       "      <td>8.482</td>\n",
       "      <td>7.118</td>\n",
       "      <td>9.930</td>\n",
       "      <td>8.065</td>\n",
       "      <td>7.243</td>\n",
       "      <td>8.547</td>\n",
       "      <td>11.852</td>\n",
       "      <td>9.254</td>\n",
       "    </tr>\n",
       "    <tr>\n",
       "      <th>1</th>\n",
       "      <td>AT1G01030</td>\n",
       "      <td>1.577</td>\n",
       "      <td>1.776</td>\n",
       "      <td>1.944</td>\n",
       "      <td>1.458</td>\n",
       "      <td>1.841</td>\n",
       "      <td>2.418</td>\n",
       "      <td>1.589</td>\n",
       "      <td>0.934</td>\n",
       "    </tr>\n",
       "    <tr>\n",
       "      <th>2</th>\n",
       "      <td>AT1G01040</td>\n",
       "      <td>28.536</td>\n",
       "      <td>25.216</td>\n",
       "      <td>21.880</td>\n",
       "      <td>21.147</td>\n",
       "      <td>17.802</td>\n",
       "      <td>13.734</td>\n",
       "      <td>23.615</td>\n",
       "      <td>15.054</td>\n",
       "    </tr>\n",
       "    <tr>\n",
       "      <th>3</th>\n",
       "      <td>AT1G01050</td>\n",
       "      <td>100.854</td>\n",
       "      <td>107.075</td>\n",
       "      <td>106.225</td>\n",
       "      <td>114.017</td>\n",
       "      <td>117.077</td>\n",
       "      <td>51.267</td>\n",
       "      <td>111.675</td>\n",
       "      <td>59.331</td>\n",
       "    </tr>\n",
       "    <tr>\n",
       "      <th>4</th>\n",
       "      <td>AT1G01060</td>\n",
       "      <td>0.304</td>\n",
       "      <td>0.100</td>\n",
       "      <td>15.112</td>\n",
       "      <td>715.292</td>\n",
       "      <td>600.107</td>\n",
       "      <td>11.611</td>\n",
       "      <td>21.152</td>\n",
       "      <td>14.058</td>\n",
       "    </tr>\n",
       "  </tbody>\n",
       "</table>\n",
       "</div>"
      ],
      "text/plain": [
       "       Genes  healthy30.1  healthy30  healthy12  healthy18.1  healthy18  \\\n",
       "0  AT1G01020        8.482      7.118      9.930        8.065      7.243   \n",
       "1  AT1G01030        1.577      1.776      1.944        1.458      1.841   \n",
       "2  AT1G01040       28.536     25.216     21.880       21.147     17.802   \n",
       "3  AT1G01050      100.854    107.075    106.225      114.017    117.077   \n",
       "4  AT1G01060        0.304      0.100     15.112      715.292    600.107   \n",
       "\n",
       "   healthy24.1  healthy12.1  healthy24  \n",
       "0        8.547       11.852      9.254  \n",
       "1        2.418        1.589      0.934  \n",
       "2       13.734       23.615     15.054  \n",
       "3       51.267      111.675     59.331  \n",
       "4       11.611       21.152     14.058  "
      ]
     },
     "execution_count": 179,
     "metadata": {},
     "output_type": "execute_result"
    }
   ],
   "source": [
    "df1.drop(['Low_TPM'], inplace=True, axis=1)\n",
    "df1.head(5)"
   ]
  },
  {
   "cell_type": "code",
   "execution_count": 180,
   "metadata": {},
   "outputs": [
    {
     "data": {
      "text/plain": [
       "621"
      ]
     },
     "execution_count": 180,
     "metadata": {},
     "output_type": "execute_result"
    }
   ],
   "source": [
    "# first calculate the 99th percentil and get the maximun value\n",
    "lst_99_quantile = df1.quantile(.99).to_list()\n",
    "lst_99_quantile\n",
    "perc99 = int(max(lst_99_quantile)+1)\n",
    "perc99\n",
    "# athal healthy is 621\n",
    "# athal infected is 830 -- 845"
   ]
  },
  {
   "cell_type": "code",
   "execution_count": 181,
   "metadata": {},
   "outputs": [
    {
     "data": {
      "text/plain": [
       "9"
      ]
     },
     "execution_count": 181,
     "metadata": {},
     "output_type": "execute_result"
    }
   ],
   "source": [
    "ilast_sample = len(df1.columns)          \n",
    "ilast_sample\n",
    "# 18 for athal infected\n",
    "#  9 fir athal healthy"
   ]
  },
  {
   "cell_type": "code",
   "execution_count": 182,
   "metadata": {},
   "outputs": [],
   "source": [
    "df1[\"High_TPM\"] = df1.apply(lambda row: sum(row[1:ilast_sample] >= perc99) ,axis=1)"
   ]
  },
  {
   "cell_type": "code",
   "execution_count": 183,
   "metadata": {},
   "outputs": [
    {
     "data": {
      "text/html": [
       "<div>\n",
       "<style scoped>\n",
       "    .dataframe tbody tr th:only-of-type {\n",
       "        vertical-align: middle;\n",
       "    }\n",
       "\n",
       "    .dataframe tbody tr th {\n",
       "        vertical-align: top;\n",
       "    }\n",
       "\n",
       "    .dataframe thead th {\n",
       "        text-align: right;\n",
       "    }\n",
       "</style>\n",
       "<table border=\"1\" class=\"dataframe\">\n",
       "  <thead>\n",
       "    <tr style=\"text-align: right;\">\n",
       "      <th></th>\n",
       "      <th>Genes</th>\n",
       "      <th>healthy30.1</th>\n",
       "      <th>healthy30</th>\n",
       "      <th>healthy12</th>\n",
       "      <th>healthy18.1</th>\n",
       "      <th>healthy18</th>\n",
       "      <th>healthy24.1</th>\n",
       "      <th>healthy12.1</th>\n",
       "      <th>healthy24</th>\n",
       "      <th>High_TPM</th>\n",
       "    </tr>\n",
       "  </thead>\n",
       "  <tbody>\n",
       "    <tr>\n",
       "      <th>0</th>\n",
       "      <td>AT1G01020</td>\n",
       "      <td>8.482</td>\n",
       "      <td>7.118</td>\n",
       "      <td>9.930</td>\n",
       "      <td>8.065</td>\n",
       "      <td>7.243</td>\n",
       "      <td>8.547</td>\n",
       "      <td>11.852</td>\n",
       "      <td>9.254</td>\n",
       "      <td>0</td>\n",
       "    </tr>\n",
       "    <tr>\n",
       "      <th>1</th>\n",
       "      <td>AT1G01030</td>\n",
       "      <td>1.577</td>\n",
       "      <td>1.776</td>\n",
       "      <td>1.944</td>\n",
       "      <td>1.458</td>\n",
       "      <td>1.841</td>\n",
       "      <td>2.418</td>\n",
       "      <td>1.589</td>\n",
       "      <td>0.934</td>\n",
       "      <td>0</td>\n",
       "    </tr>\n",
       "    <tr>\n",
       "      <th>2</th>\n",
       "      <td>AT1G01040</td>\n",
       "      <td>28.536</td>\n",
       "      <td>25.216</td>\n",
       "      <td>21.880</td>\n",
       "      <td>21.147</td>\n",
       "      <td>17.802</td>\n",
       "      <td>13.734</td>\n",
       "      <td>23.615</td>\n",
       "      <td>15.054</td>\n",
       "      <td>0</td>\n",
       "    </tr>\n",
       "    <tr>\n",
       "      <th>3</th>\n",
       "      <td>AT1G01050</td>\n",
       "      <td>100.854</td>\n",
       "      <td>107.075</td>\n",
       "      <td>106.225</td>\n",
       "      <td>114.017</td>\n",
       "      <td>117.077</td>\n",
       "      <td>51.267</td>\n",
       "      <td>111.675</td>\n",
       "      <td>59.331</td>\n",
       "      <td>0</td>\n",
       "    </tr>\n",
       "    <tr>\n",
       "      <th>4</th>\n",
       "      <td>AT1G01060</td>\n",
       "      <td>0.304</td>\n",
       "      <td>0.100</td>\n",
       "      <td>15.112</td>\n",
       "      <td>715.292</td>\n",
       "      <td>600.107</td>\n",
       "      <td>11.611</td>\n",
       "      <td>21.152</td>\n",
       "      <td>14.058</td>\n",
       "      <td>1</td>\n",
       "    </tr>\n",
       "  </tbody>\n",
       "</table>\n",
       "</div>"
      ],
      "text/plain": [
       "       Genes  healthy30.1  healthy30  healthy12  healthy18.1  healthy18  \\\n",
       "0  AT1G01020        8.482      7.118      9.930        8.065      7.243   \n",
       "1  AT1G01030        1.577      1.776      1.944        1.458      1.841   \n",
       "2  AT1G01040       28.536     25.216     21.880       21.147     17.802   \n",
       "3  AT1G01050      100.854    107.075    106.225      114.017    117.077   \n",
       "4  AT1G01060        0.304      0.100     15.112      715.292    600.107   \n",
       "\n",
       "   healthy24.1  healthy12.1  healthy24  High_TPM  \n",
       "0        8.547       11.852      9.254         0  \n",
       "1        2.418        1.589      0.934         0  \n",
       "2       13.734       23.615     15.054         0  \n",
       "3       51.267      111.675     59.331         0  \n",
       "4       11.611       21.152     14.058         1  "
      ]
     },
     "execution_count": 183,
     "metadata": {},
     "output_type": "execute_result"
    }
   ],
   "source": [
    "df1.head(5)\n",
    "#df1.tail(5)"
   ]
  },
  {
   "cell_type": "code",
   "execution_count": 184,
   "metadata": {},
   "outputs": [
    {
     "name": "stdout",
     "output_type": "stream",
     "text": [
      "Genes above 99th percentile (621):  372\n"
     ]
    }
   ],
   "source": [
    "# count the number of genes to be dropped \n",
    "b_High_TPM = df1['High_TPM'] >= 1\n",
    "df_HTPM = df1[b_High_TPM]\n",
    "print(\"Genes above 99th percentile (\"+ str(perc99) +\"): \",len(df_HTPM))"
   ]
  },
  {
   "cell_type": "code",
   "execution_count": 185,
   "metadata": {},
   "outputs": [
    {
     "data": {
      "image/png": "[encoded data removed]",
      "text/plain": [
       "<Figure size 432x288 with 1 Axes>"
      ]
     },
     "metadata": {},
     "output_type": "display_data"
    }
   ],
   "source": [
    "plot_maximum_values(df1, general_titles, perc99)"
   ]
  },
  {
   "cell_type": "code",
   "execution_count": 186,
   "metadata": {},
   "outputs": [
    {
     "name": "stdout",
     "output_type": "stream",
     "text": [
      "20164\n",
      "19792\n"
     ]
    },
    {
     "data": {
      "text/html": [
       "<div>\n",
       "<style scoped>\n",
       "    .dataframe tbody tr th:only-of-type {\n",
       "        vertical-align: middle;\n",
       "    }\n",
       "\n",
       "    .dataframe tbody tr th {\n",
       "        vertical-align: top;\n",
       "    }\n",
       "\n",
       "    .dataframe thead th {\n",
       "        text-align: right;\n",
       "    }\n",
       "</style>\n",
       "<table border=\"1\" class=\"dataframe\">\n",
       "  <thead>\n",
       "    <tr style=\"text-align: right;\">\n",
       "      <th></th>\n",
       "      <th>Genes</th>\n",
       "      <th>healthy30.1</th>\n",
       "      <th>healthy30</th>\n",
       "      <th>healthy12</th>\n",
       "      <th>healthy18.1</th>\n",
       "      <th>healthy18</th>\n",
       "      <th>healthy24.1</th>\n",
       "      <th>healthy12.1</th>\n",
       "      <th>healthy24</th>\n",
       "      <th>High_TPM</th>\n",
       "    </tr>\n",
       "  </thead>\n",
       "  <tbody>\n",
       "    <tr>\n",
       "      <th>0</th>\n",
       "      <td>AT1G01020</td>\n",
       "      <td>8.482</td>\n",
       "      <td>7.118</td>\n",
       "      <td>9.930</td>\n",
       "      <td>8.065</td>\n",
       "      <td>7.243</td>\n",
       "      <td>8.547</td>\n",
       "      <td>11.852</td>\n",
       "      <td>9.254</td>\n",
       "      <td>0</td>\n",
       "    </tr>\n",
       "    <tr>\n",
       "      <th>1</th>\n",
       "      <td>AT1G01030</td>\n",
       "      <td>1.577</td>\n",
       "      <td>1.776</td>\n",
       "      <td>1.944</td>\n",
       "      <td>1.458</td>\n",
       "      <td>1.841</td>\n",
       "      <td>2.418</td>\n",
       "      <td>1.589</td>\n",
       "      <td>0.934</td>\n",
       "      <td>0</td>\n",
       "    </tr>\n",
       "    <tr>\n",
       "      <th>2</th>\n",
       "      <td>AT1G01040</td>\n",
       "      <td>28.536</td>\n",
       "      <td>25.216</td>\n",
       "      <td>21.880</td>\n",
       "      <td>21.147</td>\n",
       "      <td>17.802</td>\n",
       "      <td>13.734</td>\n",
       "      <td>23.615</td>\n",
       "      <td>15.054</td>\n",
       "      <td>0</td>\n",
       "    </tr>\n",
       "  </tbody>\n",
       "</table>\n",
       "</div>"
      ],
      "text/plain": [
       "       Genes  healthy30.1  healthy30  healthy12  healthy18.1  healthy18  \\\n",
       "0  AT1G01020        8.482      7.118      9.930        8.065      7.243   \n",
       "1  AT1G01030        1.577      1.776      1.944        1.458      1.841   \n",
       "2  AT1G01040       28.536     25.216     21.880       21.147     17.802   \n",
       "\n",
       "   healthy24.1  healthy12.1  healthy24  High_TPM  \n",
       "0        8.547       11.852      9.254         0  \n",
       "1        2.418        1.589      0.934         0  \n",
       "2       13.734       23.615     15.054         0  "
      ]
     },
     "execution_count": 186,
     "metadata": {},
     "output_type": "execute_result"
    }
   ],
   "source": [
    "print(len(df1))\n",
    "df1 = df_drop_idx_list(df_HTPM,df1)\n",
    "print(len(df1))\n",
    "df1.head(3)"
   ]
  },
  {
   "cell_type": "code",
   "execution_count": 187,
   "metadata": {},
   "outputs": [
    {
     "data": {
      "image/png": "[encoded data removed]",
      "text/plain": [
       "<Figure size 432x288 with 1 Axes>"
      ]
     },
     "metadata": {},
     "output_type": "display_data"
    }
   ],
   "source": [
    "plot_maximum_values(df1, general_titles, perc99)"
   ]
  },
  {
   "cell_type": "code",
   "execution_count": 188,
   "metadata": {},
   "outputs": [
    {
     "data": {
      "image/png": "[encoded data removed]",
      "text/plain": [
       "<Figure size 800x560 with 1 Axes>"
      ]
     },
     "metadata": {},
     "output_type": "display_data"
    }
   ],
   "source": [
    "# chk the distribution\n",
    "df_plot = df1.drop(['Genes','High_TPM'], axis=1)   #, inplace = True\n",
    "## Get sample list names\n",
    "plt.style.use('seaborn-whitegrid')\n",
    "plot_KDE(df_plot, \"Matrix C'\", sample_lst, general_titles , 'TPM values')"
   ]
  },
  {
   "cell_type": "code",
   "execution_count": 189,
   "metadata": {},
   "outputs": [
    {
     "data": {
      "image/png": "[encoded data removed]",
      "text/plain": [
       "<Figure size 576x288 with 9 Axes>"
      ]
     },
     "metadata": {},
     "output_type": "display_data"
    }
   ],
   "source": [
    "# atypical; #         0 = all samples / 1 = all with out atypical samples / 2 = only atypical    \n",
    "\n",
    "if general_titles == 'infected':\n",
    "    violin_plot_inf(df_plot, \"Matrix C'\", 0, False, 'TPM values')\n",
    "    # @atypical: \n",
    "    #       0 = all samples\n",
    "    #       1 = all with out atypical samples \n",
    "    #       2 = only atypical \n",
    "else:\n",
    "    violin_plot_healthy(df_plot, \"Matrix C'\", general_titles, False, 'TPM values')   "
   ]
  },
  {
   "cell_type": "code",
   "execution_count": 190,
   "metadata": {},
   "outputs": [],
   "source": [
    "# ## save the new matrix filtered of low and hight extreme values\n",
    "# df1.drop(['zero-counter','Low_TPM','High_TPM'], axis=1, inplace = True)\n",
    "# df1.to_csv('all_'+general_titles+'_TPM_filtered_new.csv', sep='\\t', index=False)"
   ]
  },
  {
   "cell_type": "code",
   "execution_count": 191,
   "metadata": {},
   "outputs": [],
   "source": [
    "## save the new matrix filtered of low and hight extreme values\n",
    "df1.drop(['High_TPM'], axis=1, inplace = True)\n",
    "df1.to_csv('matrix_C_'+ general_titles +'.csv', sep='\\t', index=False)"
   ]
  },
  {
   "cell_type": "markdown",
   "metadata": {},
   "source": [
    "## Let's get some statistics for Matrix C"
   ]
  },
  {
   "cell_type": "code",
   "execution_count": 192,
   "metadata": {},
   "outputs": [
    {
     "data": {
      "text/html": [
       "<div>\n",
       "<style scoped>\n",
       "    .dataframe tbody tr th:only-of-type {\n",
       "        vertical-align: middle;\n",
       "    }\n",
       "\n",
       "    .dataframe tbody tr th {\n",
       "        vertical-align: top;\n",
       "    }\n",
       "\n",
       "    .dataframe thead th {\n",
       "        text-align: right;\n",
       "    }\n",
       "</style>\n",
       "<table border=\"1\" class=\"dataframe\">\n",
       "  <thead>\n",
       "    <tr style=\"text-align: right;\">\n",
       "      <th></th>\n",
       "      <th>count</th>\n",
       "      <th>mean</th>\n",
       "      <th>std</th>\n",
       "      <th>min</th>\n",
       "      <th>25%</th>\n",
       "      <th>50%</th>\n",
       "      <th>75%</th>\n",
       "      <th>max</th>\n",
       "    </tr>\n",
       "  </thead>\n",
       "  <tbody>\n",
       "    <tr>\n",
       "      <th>healthy30.1</th>\n",
       "      <td>19792.0</td>\n",
       "      <td>28.963</td>\n",
       "      <td>55.006</td>\n",
       "      <td>0.0</td>\n",
       "      <td>2.119</td>\n",
       "      <td>10.579</td>\n",
       "      <td>29.931</td>\n",
       "      <td>616.500</td>\n",
       "    </tr>\n",
       "    <tr>\n",
       "      <th>healthy30</th>\n",
       "      <td>19792.0</td>\n",
       "      <td>27.067</td>\n",
       "      <td>54.240</td>\n",
       "      <td>0.0</td>\n",
       "      <td>1.671</td>\n",
       "      <td>9.006</td>\n",
       "      <td>26.932</td>\n",
       "      <td>619.177</td>\n",
       "    </tr>\n",
       "    <tr>\n",
       "      <th>healthy12</th>\n",
       "      <td>19792.0</td>\n",
       "      <td>29.326</td>\n",
       "      <td>51.645</td>\n",
       "      <td>0.0</td>\n",
       "      <td>3.221</td>\n",
       "      <td>12.348</td>\n",
       "      <td>31.562</td>\n",
       "      <td>601.348</td>\n",
       "    </tr>\n",
       "    <tr>\n",
       "      <th>healthy18.1</th>\n",
       "      <td>19792.0</td>\n",
       "      <td>26.024</td>\n",
       "      <td>51.214</td>\n",
       "      <td>0.0</td>\n",
       "      <td>2.267</td>\n",
       "      <td>9.619</td>\n",
       "      <td>26.236</td>\n",
       "      <td>602.676</td>\n",
       "    </tr>\n",
       "    <tr>\n",
       "      <th>healthy18</th>\n",
       "      <td>19792.0</td>\n",
       "      <td>25.259</td>\n",
       "      <td>51.217</td>\n",
       "      <td>0.0</td>\n",
       "      <td>2.264</td>\n",
       "      <td>9.058</td>\n",
       "      <td>24.850</td>\n",
       "      <td>615.365</td>\n",
       "    </tr>\n",
       "    <tr>\n",
       "      <th>healthy24.1</th>\n",
       "      <td>19792.0</td>\n",
       "      <td>24.501</td>\n",
       "      <td>44.926</td>\n",
       "      <td>0.0</td>\n",
       "      <td>2.521</td>\n",
       "      <td>9.959</td>\n",
       "      <td>25.796</td>\n",
       "      <td>583.882</td>\n",
       "    </tr>\n",
       "    <tr>\n",
       "      <th>healthy12.1</th>\n",
       "      <td>19792.0</td>\n",
       "      <td>29.966</td>\n",
       "      <td>53.220</td>\n",
       "      <td>0.0</td>\n",
       "      <td>3.068</td>\n",
       "      <td>12.481</td>\n",
       "      <td>32.506</td>\n",
       "      <td>595.567</td>\n",
       "    </tr>\n",
       "    <tr>\n",
       "      <th>healthy24</th>\n",
       "      <td>19792.0</td>\n",
       "      <td>26.459</td>\n",
       "      <td>48.512</td>\n",
       "      <td>0.0</td>\n",
       "      <td>2.600</td>\n",
       "      <td>10.560</td>\n",
       "      <td>28.129</td>\n",
       "      <td>614.248</td>\n",
       "    </tr>\n",
       "  </tbody>\n",
       "</table>\n",
       "</div>"
      ],
      "text/plain": [
       "               count    mean     std  min    25%     50%     75%      max\n",
       "healthy30.1  19792.0  28.963  55.006  0.0  2.119  10.579  29.931  616.500\n",
       "healthy30    19792.0  27.067  54.240  0.0  1.671   9.006  26.932  619.177\n",
       "healthy12    19792.0  29.326  51.645  0.0  3.221  12.348  31.562  601.348\n",
       "healthy18.1  19792.0  26.024  51.214  0.0  2.267   9.619  26.236  602.676\n",
       "healthy18    19792.0  25.259  51.217  0.0  2.264   9.058  24.850  615.365\n",
       "healthy24.1  19792.0  24.501  44.926  0.0  2.521   9.959  25.796  583.882\n",
       "healthy12.1  19792.0  29.966  53.220  0.0  3.068  12.481  32.506  595.567\n",
       "healthy24    19792.0  26.459  48.512  0.0  2.600  10.560  28.129  614.248"
      ]
     },
     "execution_count": 192,
     "metadata": {},
     "output_type": "execute_result"
    }
   ],
   "source": [
    "df1.describe().T"
   ]
  },
  {
   "cell_type": "code",
   "execution_count": 193,
   "metadata": {},
   "outputs": [],
   "source": [
    "## save the stats of new matrix filtered\n",
    "df_stat = df1.describe().T\n",
    "df_stat.to_csv(\"../statistics/matrix_C_stats_\"+general_titles+\".csv\", index=True, header=True)"
   ]
  },
  {
   "cell_type": "code",
   "execution_count": 194,
   "metadata": {},
   "outputs": [
    {
     "data": {
      "text/plain": [
       "[44.926457571016044,\n",
       " 48.511827029622204,\n",
       " 51.214269133633266,\n",
       " 51.2165483813064,\n",
       " 51.64480902451408,\n",
       " 53.220150621230445,\n",
       " 54.24016131296518,\n",
       " 55.00620132390122]"
      ]
     },
     "execution_count": 194,
     "metadata": {},
     "output_type": "execute_result"
    }
   ],
   "source": [
    "lst_stat = df_stat['std'].to_list()\n",
    "lst_stat.sort()\n",
    "lst_stat"
   ]
  },
  {
   "cell_type": "code",
   "execution_count": 195,
   "metadata": {},
   "outputs": [
    {
     "data": {
      "text/html": [
       "<div>\n",
       "<style scoped>\n",
       "    .dataframe tbody tr th:only-of-type {\n",
       "        vertical-align: middle;\n",
       "    }\n",
       "\n",
       "    .dataframe tbody tr th {\n",
       "        vertical-align: top;\n",
       "    }\n",
       "\n",
       "    .dataframe thead th {\n",
       "        text-align: right;\n",
       "    }\n",
       "</style>\n",
       "<table border=\"1\" class=\"dataframe\">\n",
       "  <thead>\n",
       "    <tr style=\"text-align: right;\">\n",
       "      <th></th>\n",
       "      <th>Genes</th>\n",
       "      <th>healthy30.1</th>\n",
       "      <th>healthy30</th>\n",
       "      <th>healthy12</th>\n",
       "      <th>healthy18.1</th>\n",
       "      <th>healthy18</th>\n",
       "      <th>healthy24.1</th>\n",
       "      <th>healthy12.1</th>\n",
       "      <th>healthy24</th>\n",
       "    </tr>\n",
       "  </thead>\n",
       "  <tbody>\n",
       "    <tr>\n",
       "      <th>0</th>\n",
       "      <td>AT1G01020</td>\n",
       "      <td>8.482</td>\n",
       "      <td>7.118</td>\n",
       "      <td>9.930</td>\n",
       "      <td>8.065</td>\n",
       "      <td>7.243</td>\n",
       "      <td>8.547</td>\n",
       "      <td>11.852</td>\n",
       "      <td>9.254</td>\n",
       "    </tr>\n",
       "    <tr>\n",
       "      <th>1</th>\n",
       "      <td>AT1G01030</td>\n",
       "      <td>1.577</td>\n",
       "      <td>1.776</td>\n",
       "      <td>1.944</td>\n",
       "      <td>1.458</td>\n",
       "      <td>1.841</td>\n",
       "      <td>2.418</td>\n",
       "      <td>1.589</td>\n",
       "      <td>0.934</td>\n",
       "    </tr>\n",
       "    <tr>\n",
       "      <th>2</th>\n",
       "      <td>AT1G01040</td>\n",
       "      <td>28.536</td>\n",
       "      <td>25.216</td>\n",
       "      <td>21.880</td>\n",
       "      <td>21.147</td>\n",
       "      <td>17.802</td>\n",
       "      <td>13.734</td>\n",
       "      <td>23.615</td>\n",
       "      <td>15.054</td>\n",
       "    </tr>\n",
       "  </tbody>\n",
       "</table>\n",
       "</div>"
      ],
      "text/plain": [
       "       Genes  healthy30.1  healthy30  healthy12  healthy18.1  healthy18  \\\n",
       "0  AT1G01020        8.482      7.118      9.930        8.065      7.243   \n",
       "1  AT1G01030        1.577      1.776      1.944        1.458      1.841   \n",
       "2  AT1G01040       28.536     25.216     21.880       21.147     17.802   \n",
       "\n",
       "   healthy24.1  healthy12.1  healthy24  \n",
       "0        8.547       11.852      9.254  \n",
       "1        2.418        1.589      0.934  \n",
       "2       13.734       23.615     15.054  "
      ]
     },
     "execution_count": 195,
     "metadata": {},
     "output_type": "execute_result"
    }
   ],
   "source": [
    "df1.head(3)"
   ]
  },
  {
   "cell_type": "code",
   "execution_count": 196,
   "metadata": {},
   "outputs": [
    {
     "data": {
      "image/png": "[encoded data removed]",
      "text/plain": [
       "<Figure size 720x504 with 1 Axes>"
      ]
     },
     "metadata": {},
     "output_type": "display_data"
    }
   ],
   "source": [
    "plot_intercuartile_bar(df_stat,  'Matrix C: interquartile for A.thaliana '+ general_titles, 'TMP values' )"
   ]
  },
  {
   "cell_type": "code",
   "execution_count": 197,
   "metadata": {},
   "outputs": [
    {
     "name": "stderr",
     "output_type": "stream",
     "text": [
      "/home/cyntsc/Proyectos/tesis-code/jn_tesis_env/lib/python3.6/site-packages/pandas/plotting/_matplotlib/core.py:1192: UserWarning: FixedFormatter should only be used together with FixedLocator\n",
      "  ax.set_xticklabels(xticklabels)\n"
     ]
    },
    {
     "data": {
      "image/png": "[encoded data removed]",
      "text/plain": [
       "<Figure size 720x504 with 1 Axes>"
      ]
     },
     "metadata": {},
     "output_type": "display_data"
    }
   ],
   "source": [
    "plot_mean_sdev_line(df_stat, 'Matrix C: mean and std.dev for A.thaliana '+ general_titles,'TPM values')"
   ]
  },
  {
   "cell_type": "code",
   "execution_count": null,
   "metadata": {},
   "outputs": [],
   "source": []
  }
 ],
 "metadata": {
  "kernelspec": {
   "display_name": "Python 3",
   "language": "python",
   "name": "python3"
  },
  "language_info": {
   "codemirror_mode": {
    "name": "ipython",
    "version": 3
   },
   "file_extension": ".py",
   "mimetype": "text/x-python",
   "name": "python",
   "nbconvert_exporter": "python",
   "pygments_lexer": "ipython3",
   "version": "3.6.9"
  }
 },
 "nbformat": 4,
 "nbformat_minor": 4
}
