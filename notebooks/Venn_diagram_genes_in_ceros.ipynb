{
 "cells": [
  {
   "cell_type": "code",
   "execution_count": 1,
   "metadata": {},
   "outputs": [],
   "source": [
    "import numpy as np\n",
    "import pandas as pd\n",
    "import os\n",
    "from matplotlib import pyplot as plt\n",
    "\n",
    "from matplotlib_venn import venn2, venn2_circles\n",
    "from matplotlib_venn import venn3\n",
    "\n",
    "# graficos embebidos\n",
    "%matplotlib inline"
   ]
  },
  {
   "cell_type": "code",
   "execution_count": 2,
   "metadata": {},
   "outputs": [
    {
     "name": "stdout",
     "output_type": "stream",
     "text": [
      "Directory changed\n",
      "/home/cyntsc/Proyectos/tesis-code/meta-xtrome-analysis/results-data\n"
     ]
    }
   ],
   "source": [
    "try:\n",
    "    # Change the current working Directory to the quantification dir\n",
    "    os.chdir(\"/home/cyntsc/Proyectos/tesis-code/meta-xtrome-analysis/results-data/\")\n",
    "    print(\"Directory changed\")\n",
    "except OSError:\n",
    "    print(\"Can't change the Current Working Directory\")\n",
    "s_path=os.getcwd()\n",
    "print(s_path)"
   ]
  },
  {
   "cell_type": "markdown",
   "metadata": {},
   "source": [
    "#### require mathplot_venn library\n",
    "pip3 install matplotlib_venn <br>\n",
    "matplotlib-venn-0.11.5\n",
    "<br>\n",
    "**Los conjuntos eliminan los elementos duplicados**"
   ]
  },
  {
   "cell_type": "markdown",
   "metadata": {},
   "source": [
    "### Subset 1: Control\n",
    "**Crea la lista de genes en ceros del conjunto de datos de control \"Dataset1\"**"
   ]
  },
  {
   "cell_type": "code",
   "execution_count": 3,
   "metadata": {},
   "outputs": [],
   "source": [
    "file=\"healthy_geneIDs_with_zeros.csv\"   #all_infected_geneIDs_with_zeros.csv\n",
    "df= pd.read_csv(file, sep='\\t', header=None)"
   ]
  },
  {
   "cell_type": "code",
   "execution_count": 4,
   "metadata": {},
   "outputs": [
    {
     "data": {
      "text/html": [
       "<div>\n",
       "<style scoped>\n",
       "    .dataframe tbody tr th:only-of-type {\n",
       "        vertical-align: middle;\n",
       "    }\n",
       "\n",
       "    .dataframe tbody tr th {\n",
       "        vertical-align: top;\n",
       "    }\n",
       "\n",
       "    .dataframe thead th {\n",
       "        text-align: right;\n",
       "    }\n",
       "</style>\n",
       "<table border=\"1\" class=\"dataframe\">\n",
       "  <thead>\n",
       "    <tr style=\"text-align: right;\">\n",
       "      <th></th>\n",
       "      <th>0</th>\n",
       "    </tr>\n",
       "  </thead>\n",
       "  <tbody>\n",
       "    <tr>\n",
       "      <th>0</th>\n",
       "      <td>AT1G01280</td>\n",
       "    </tr>\n",
       "    <tr>\n",
       "      <th>1</th>\n",
       "      <td>AT1G01305</td>\n",
       "    </tr>\n",
       "    <tr>\n",
       "      <th>2</th>\n",
       "      <td>AT1G01335</td>\n",
       "    </tr>\n",
       "    <tr>\n",
       "      <th>3</th>\n",
       "      <td>AT1G01400</td>\n",
       "    </tr>\n",
       "    <tr>\n",
       "      <th>4</th>\n",
       "      <td>AT1G01410</td>\n",
       "    </tr>\n",
       "  </tbody>\n",
       "</table>\n",
       "</div>"
      ],
      "text/plain": [
       "           0\n",
       "0  AT1G01280\n",
       "1  AT1G01305\n",
       "2  AT1G01335\n",
       "3  AT1G01400\n",
       "4  AT1G01410"
      ]
     },
     "execution_count": 4,
     "metadata": {},
     "output_type": "execute_result"
    }
   ],
   "source": [
    "df.head(5)"
   ]
  },
  {
   "cell_type": "code",
   "execution_count": 5,
   "metadata": {},
   "outputs": [
    {
     "name": "stdout",
     "output_type": "stream",
     "text": [
      "(5228, 1)\n",
      "Int64Index([0], dtype='int64')\n"
     ]
    },
    {
     "data": {
      "text/plain": [
       "5228"
      ]
     },
     "execution_count": 5,
     "metadata": {},
     "output_type": "execute_result"
    }
   ],
   "source": [
    "print(df.shape)\n",
    "print(df.columns)\n",
    "set1_ctrl=df[0].drop_duplicates().to_list()\n",
    "len(set1_ctrl)"
   ]
  },
  {
   "cell_type": "markdown",
   "metadata": {},
   "source": [
    "### Subset 2: Tratamientos\n",
    "**Crea la lista de genes en ceros del conjunto de datos de tratamientos \"Dataset2\"**"
   ]
  },
  {
   "cell_type": "code",
   "execution_count": 6,
   "metadata": {},
   "outputs": [],
   "source": [
    "file=\"infected_geneIDs_with_zeros.csv\"\n",
    "df= pd.read_csv(file, sep='\\t', header=None)"
   ]
  },
  {
   "cell_type": "code",
   "execution_count": 7,
   "metadata": {},
   "outputs": [
    {
     "name": "stdout",
     "output_type": "stream",
     "text": [
      "(3415, 1)\n",
      "Int64Index([0], dtype='int64')\n"
     ]
    },
    {
     "data": {
      "text/plain": [
       "3415"
      ]
     },
     "execution_count": 7,
     "metadata": {},
     "output_type": "execute_result"
    }
   ],
   "source": [
    "print(df.shape)\n",
    "print(df.columns)\n",
    "set2_infect=df[0].drop_duplicates().to_list()\n",
    "len(set2_infect)"
   ]
  },
  {
   "cell_type": "markdown",
   "metadata": {},
   "source": [
    "### Universal Set: based on CDS of the Araport11 annotation\n",
    "**Ahora. Crea el conjunto universal. <br>\n",
    "Lista de genes codificantes a proteinas en la anotación Araport11.**"
   ]
  },
  {
   "cell_type": "code",
   "execution_count": 8,
   "metadata": {},
   "outputs": [
    {
     "name": "stdout",
     "output_type": "stream",
     "text": [
      "(26, 1)\n",
      "Int64Index([0], dtype='int64')\n"
     ]
    },
    {
     "data": {
      "text/plain": [
       "26"
      ]
     },
     "execution_count": 8,
     "metadata": {},
     "output_type": "execute_result"
    }
   ],
   "source": [
    "file='../meta-data/ID_samples.csv'\n",
    "df= pd.read_csv(file, sep='\\t', header=None)\n",
    "print(df.shape)\n",
    "print(df.columns)\n",
    "set_universal=df[0].drop_duplicates().to_list()\n",
    "len(set_universal)"
   ]
  },
  {
   "cell_type": "markdown",
   "metadata": {},
   "source": [
    "### Genes with zero counts in both datasets"
   ]
  },
  {
   "cell_type": "code",
   "execution_count": 26,
   "metadata": {},
   "outputs": [
    {
     "data": {
      "image/png": "[encoded data removed]",
      "text/plain": [
       "<Figure size 432x432 with 1 Axes>"
      ]
     },
     "metadata": {},
     "output_type": "display_data"
    }
   ],
   "source": [
    "axis_font = {'fontname':'Arial', 'size':'18'}\n",
    "\n",
    "plt.figure(figsize=(6,6))\n",
    "diagram=venn2([set(set1_ctrl), set(set2_infect)], \n",
    "              set_labels = ('CL:Healthy plants', 'TT:Infected plants'),\n",
    "              set_colors=('orange', 'darkgrey'), alpha = 0.8)\n",
    "\n",
    "plt.title(\"Genes with zeros in the the CL and TT datasets\", **axis_font)\n",
    "\n",
    "for t in diagram.set_labels: t.set_fontsize(16)\n",
    "for t in diagram.subset_labels: t.set_fontsize(18)\n",
    "\n",
    "plt.show()"
   ]
  },
  {
   "cell_type": "markdown",
   "metadata": {},
   "source": [
    "## Hasta aqui para la tesis"
   ]
  },
  {
   "cell_type": "markdown",
   "metadata": {},
   "source": [
    "### Compración de los genes apagados en los dos subconjuntos principales con respecto al conjunto universal"
   ]
  },
  {
   "cell_type": "code",
   "execution_count": 10,
   "metadata": {},
   "outputs": [
    {
     "data": {
      "image/png": "[encoded data removed]",
      "text/plain": [
       "<Figure size 432x288 with 1 Axes>"
      ]
     },
     "metadata": {},
     "output_type": "display_data"
    }
   ],
   "source": [
    "axis_font = {'fontname':'Arial', 'size':'16'}\n",
    "\n",
    "diagram=venn3([set(set1_ctrl), set(set2_infect), set(set_universal)], \n",
    "             set_labels = ('Healthy', 'Infected', 'Araport11_CDS'),\n",
    "             set_colors=('orange', 'darkgrey','lightgray'), alpha = 0.8)\n",
    "\n",
    "for t in diagram.set_labels: t.set_fontsize(15)\n",
    "#for t in diagram.subset_labels: t.set_fontsize(16)\n",
    "\n",
    "plt.title(\"Genes with no expression in A. thaliana \\n respecting Araport11 (CDS)\", **axis_font)\n",
    "plt.show()"
   ]
  },
  {
   "cell_type": "markdown",
   "metadata": {},
   "source": [
    "El argumento indica el tamaño relativo de los tres subconjuntos en este orden: Ab (izquierda), aB (derecha), AB (intersección). Así, la tupla (1, 2, 1) dibujaría el conjunto B del doble de tamaño respecto de A.<br>\n",
    "Para identificar a cada uno de los subconjuntos (tres en diagramas de dos conjuntos) el módulo utiliza una nomenclatura que consiste en colocar un 1 para indicar que la sección está incluida en el conjunto y un 0 para indicar que está excluida. De esta manera. Siguiendo el orden «ABC», el subconjunto 10 es el de la izquierda (el que pertenece a A pero no a B); el 01, el de la derecha (el que pertenece a B pero no a A); y el 11, el del medio (la intersección)."
   ]
  },
  {
   "cell_type": "markdown",
   "metadata": {},
   "source": [
    "### Operaciones lógicas "
   ]
  },
  {
   "cell_type": "code",
   "execution_count": 11,
   "metadata": {},
   "outputs": [
    {
     "name": "stdout",
     "output_type": "stream",
     "text": [
      "La cardinalidad del conjunto A.thaliana sana es 5228\n",
      "La cardinalidad del conjunto A.thaliana infectada es 3415\n"
     ]
    }
   ],
   "source": [
    "# Cardinalidad de un conjunto con len().\n",
    "### print(\"La cardinalidad del conjunto A.thaliana sana = {0} es {1}\".format(set1_ctrl,len(set1_ctrl)))  \n",
    "print(\"La cardinalidad del conjunto A.thaliana sana es {0}\".format(len(set1_ctrl)))  \n",
    "print(\"La cardinalidad del conjunto A.thaliana infectada es {0}\".format(len(set2_infect)))  "
   ]
  },
  {
   "cell_type": "code",
   "execution_count": 12,
   "metadata": {},
   "outputs": [],
   "source": [
    "# To logical operations data need to be as set dtype\n",
    "set1_ctrl = set(set1_ctrl)\n",
    "# set1_ctrl\n",
    "set2_infect = set(set2_infect)"
   ]
  },
  {
   "cell_type": "code",
   "execution_count": 13,
   "metadata": {},
   "outputs": [
    {
     "data": {
      "text/plain": [
       "False"
      ]
     },
     "execution_count": 13,
     "metadata": {},
     "output_type": "execute_result"
    }
   ],
   "source": [
    "# Igualdad\n",
    "set1_ctrl == set2_infect"
   ]
  },
  {
   "cell_type": "code",
   "execution_count": 14,
   "metadata": {},
   "outputs": [
    {
     "data": {
      "text/plain": [
       "False"
      ]
     },
     "execution_count": 14,
     "metadata": {},
     "output_type": "execute_result"
    }
   ],
   "source": [
    "# Subconjunto\n",
    "# ¿estan los genes del conjunto de infectadas en el conjunto de control?\n",
    "set2_infect.issubset(set1_ctrl)"
   ]
  },
  {
   "cell_type": "code",
   "execution_count": 15,
   "metadata": {},
   "outputs": [
    {
     "data": {
      "text/plain": [
       "False"
      ]
     },
     "execution_count": 15,
     "metadata": {},
     "output_type": "execute_result"
    }
   ],
   "source": [
    "## Subconjunto propio\n",
    "# set2_infect != set1_ctrl\n",
    "set2_infect.issubset(set1_ctrl) and set2_infect != set1_ctrl\n",
    "#               FALSE AND TRUE"
   ]
  },
  {
   "cell_type": "code",
   "execution_count": 16,
   "metadata": {},
   "outputs": [
    {
     "data": {
      "text/plain": [
       "5471"
      ]
     },
     "execution_count": 16,
     "metadata": {},
     "output_type": "execute_result"
    }
   ],
   "source": [
    "union=set2_infect.union(set1_ctrl)\n",
    "len(union)"
   ]
  },
  {
   "cell_type": "code",
   "execution_count": 17,
   "metadata": {},
   "outputs": [
    {
     "name": "stdout",
     "output_type": "stream",
     "text": [
      "['AT1G32020', 'AT5G53960', 'AT5G60520', 'AT4G16983', 'AT3G61177', 'AT2G16835', 'AT2G31082', 'AT1G34290', 'AT2G07692', 'AT3G23970', 'AT4G17850', 'ATMG00430', 'AT4G32230', 'AT2G01045', 'AT1G58450', 'AT3G44180', 'AT4G29103', 'AT5G39690', 'AT3G52000', 'AT5G56390', 'AT2G06425', 'AT4G04650', 'AT2G03180', 'AT5G35604', 'AT3G09990', 'AT5G53600', 'AT4G23090', 'AT5G43518', 'AT4G22100', 'AT2G04480', 'AT1G13760', 'AT1G51260', 'AT4G35660', 'AT5G54460', 'AT3G47920', 'AT5G09490', 'AT1G27260', 'AT3G61826', 'AT2G18070', 'AT2G11005', 'AT1G31090', 'AT1G52490', 'AT4G10700', 'AT5G43525', 'AT1G53945', 'AT2G32300', 'AT5G61700', 'AT2G03567', 'AT3G22050', 'AT4G20590', 'AT5G45860', 'AT4G03566', 'AT1G35170', 'AT1G74385', 'AT5G01080', 'AT1G09245', 'AT1G57760', 'AT5G34908', 'AT1G33870', 'AT2G35090', 'AT1G33910', 'AT5G26717', 'AT2G05250', 'AT3G58280', 'AT5G55132', 'AT1G65113', 'AT3G20880', 'AT2G01050', 'AT3G32280', 'AT3G48231', 'AT5G65100', 'AT2G07701', 'AT4G10595', 'AT5G51500', 'AT3G30730', 'AT2G27145', 'AT3G29830', 'AT2G17905', 'AT1G80220', 'AT5G36380', 'AT5G36480', 'AT4G08270', 'AT4G21690', 'AT1G33945', 'AT5G04120', 'AT3G43420', 'AT1G50870', 'AT2G17590', 'AT5G23180', 'AT3G29763', 'AT5G54350', 'AT1G62160', 'AT4G11393', 'AT3G59455', 'AT3G02975', 'AT2G06095', 'AT5G36738', 'AT5G36540', 'AT1G58983', 'AT2G23570', 'AT5G45200', 'AT3G01323', 'AT3G19940', 'AT5G35715', 'AT5G28720', 'AT5G28820', 'AT1G21870', 'AT2G12940', 'AT4G38775', 'AT2G21680', 'AT2G27670', 'AT2G10557', 'AT5G28780', 'AT2G04020', 'AT4G05350', 'AT2G41375', 'AT3G47740', 'AT4G10490', 'AT1G36745', 'AT3G09510', 'AT3G43682', 'AT2G06500', 'AT2G07505', 'AT3G32904', 'AT4G15050', 'AT5G36710', 'AT5G58412', 'AT5G27944', 'AT3G01325', 'AT4G08730', 'AT3G63230', 'AT4G15310', 'AT2G01035', 'AT5G36140', 'AT5G61650', 'AT5G50500', 'AT5G03810', 'AT2G31700', 'AT1G04890', 'AT1G05085', 'AT4G02160', 'AT1G31390', 'AT5G56470', 'AT3G01324', 'AT1G61095', 'AT5G53790', 'AT1G56385', 'AT2G47885', 'AT3G45450', 'AT5G22410', 'AT3G09055', 'ATCG00840', 'AT5G36450', 'AT4G13261', 'AT1G67130', 'AT1G47470', 'AT4G40011', 'AT3G32190', 'AT4G04775', 'AT1G23915', 'AT2G23900', 'AT2G24205', 'AT1G53325', 'AT2G07820', 'AT1G33320', 'AT4G12495', 'AT5G54370', 'ATCG01230', 'AT3G25280', 'AT3G31350', 'AT5G05030', 'AT5G38800', 'AT1G70475', 'AT3G15251', 'ATMG00500', 'AT1G77910', 'AT3G43572', 'AT2G07772', 'AT1G66235', 'AT2G23834', 'AT5G51860', 'AT4G23580', 'AT3G42060', 'AT4G39490', 'AT4G19330', 'AT5G38650', 'AT3G50610', 'AT3G11385', 'AT2G13720', 'AT3G63040', 'AT4G12825', 'AT2G47120', 'AT1G51210', 'AT1G66630', 'AT3G31925', 'AT2G16586', 'AT1G57580', 'AT1G34810', 'AT1G12660', 'AT1G03325', 'AT3G45990', 'AT1G65170', 'AT2G43600', 'AT3G04903', 'AT3G25420', 'AT3G47760', 'AT5G26955', 'AT2G36180', 'AT2G35250', 'AT2G44550', 'AT5G22590', 'AT2G27520', 'AT3G27140', 'AT1G63600', 'AT1G29620', 'AT1G32480', 'ATCG00890', 'AT2G22155', 'AT3G24330', 'AT3G43910', 'AT5G36370', 'AT3G47710', 'AT4G09775', 'AT5G27530', 'AT1G26710', 'AT3G42940', 'AT5G57750', 'AT1G53265', 'AT1G77650', 'AT5G45910', 'AT3G54570', 'AT3G04430', 'AT1G79485', 'AT3G24060', 'AT1G27870', 'AT5G02700', 'AT3G50320', 'AT3G31560', 'AT1G34830', 'AT1G62895', 'AT3G43260', 'AT1G74110', 'AT2G26865', 'AT2G29860', 'AT1G04895', 'AT1G21475', 'AT1G47540', 'AT5G50510', 'AT2G18530', 'AT2G31930', 'AT5G37520', 'AT1G02540', 'AT4G20095', 'AT3G22490', 'AT1G04455', 'AT2G19510', 'AT2G19360', 'AT4G19035', 'AT5G05085', 'AT1G33880', 'ATMG00770', 'AT1G28450', 'AT2G05900', 'AT1G23645', 'AT5G60560', 'AT5G05113', 'AT1G56100', 'AT4G02870', 'AT2G07631', 'AT5G40153', 'AT3G04540', 'AT5G54210', 'AT1G78980', 'AT2G04062', 'AT1G78470', 'AT4G12950', 'AT1G59722', 'AT5G49750', 'AT4G22475', 'AT5G06043', 'AT1G51490', 'AT3G32150', 'AT4G22115', 'AT5G35050', 'AT5G32619', 'AT2G17310', 'AT1G63200', 'ATMG00210', 'ATMG00910', 'AT3G21570', 'AT1G74620', 'AT5G26650', 'AT5G25195', 'AT4G35710', 'AT5G49645', 'AT2G36724', 'AT5G05735', 'AT5G15000', 'AT5G37165', 'AT2G04622', 'AT1G24388', 'AT3G17080', 'AT3G27415', 'AT1G31095', 'AT5G27310', 'AT2G17600', 'AT2G40210', 'AT4G23365', 'AT2G46460', 'AT1G13143', 'AT4G05095', 'AT4G02733', 'AT5G48595', 'AT4G10230', 'AT3G05860', 'AT5G46300', 'AT5G52480', 'AT1G20940', 'AT2G37780', 'AT2G16230', 'AT1G32000', 'AT4G21050', 'AT2G25305', 'AT4G00234', 'AT3G32896', 'AT3G33393', 'AT5G28615', 'AT3G23165', 'AT5G25410', 'AT5G35230', 'AT2G22805', 'AT2G01554', 'AT1G05930', 'AT4G03645', 'AT5G38390', 'AT1G44990', 'AT5G46025', 'AT2G29870', 'AT5G49140', 'AT5G26050', 'AT1G61563', 'AT1G35400', 'AT5G65770', 'AT4G19910', 'AT5G34882', 'AT1G51880', 'AT1G66640', 'AT1G77100', 'AT2G06105', 'AT1G61940', 'AT3G29780', 'AT4G15060', 'AT1G29080', 'AT3G44930', 'AT5G60110', 'AT3G27999', 'AT4G00295', 'AT5G28462', 'AT5G55131', 'AT5G40320', 'AT5G56560', 'AT3G55252', 'AT1G25310', 'AT1G10745', 'AT3G22053', 'AT1G05920', 'AT2G15420', 'AT3G54925', 'AT2G03190', 'AT4G09462', 'AT1G30050', 'AT5G44345', 'AT1G31630', 'AT5G53610', 'AT2G32620', 'AT1G20360', 'AT2G29045', 'AT5G53410', 'AT2G36030', 'AT4G12617', 'AT4G03570', 'AT4G22495', 'AT5G50365', 'AT2G06906', 'AT3G29385', 'AT5G38195', 'AT2G06020', 'AT4G39760', 'AT5G56070', 'AT1G34860', 'AT4G10210', 'AT1G14450', 'AT1G48953', 'AT4G29283', 'AT2G07800', 'AT4G07666', 'AT4G20670', 'AT2G16020', 'AT2G12945', 'AT3G17530', 'AT1G30060', 'AT4G13965', 'AT3G06230', 'AT3G25830', 'AT3G06000', 'AT2G06265', 'AT2G31720', 'AT3G25170', 'AT1G48180', 'AT2G05350', 'AT2G07830', 'AT5G65005', 'AT3G42786', 'AT1G75785', 'AT1G26320', 'AT3G45920', 'AT4G16530', 'AT5G36720', 'AT5G42895', 'AT5G28160', 'AT4G36560', 'AT5G35300', 'AT3G10195', 'AT4G11430', 'AT3G61500', 'ATMG00310', 'AT5G42905', 'AT3G22730', 'AT1G69825', 'AT1G34070', 'AT5G38920', 'AT1G12180', 'AT2G02493', 'AT4G09250', 'AT3G33187', 'AT4G24644', 'AT2G40990', 'AT1G39070', 'AT3G20750', 'AT4G23355', 'AT5G46990', 'AT2G03000', 'AT3G45150', 'AT1G28005', 'AT1G32140', 'AT3G46860', 'AT5G35830', 'AT2G40995', 'AT2G25409', 'AT2G05050', 'AT3G15111', 'AT5G37910', 'AT2G41997', 'AT5G47300', 'ATMG01210', 'AT3G24850', 'AT2G06570', 'AT2G31005', 'AT3G04250', 'AT4G16555', 'AT4G22212', 'AT5G06645', 'AT5G36810', 'AT5G50660', 'AT2G24720', 'AT1G43080', 'AT2G05360', 'AT5G49860', 'AT1G24062', 'AT1G59030', 'AT4G29290', 'AT1G30790', 'AT3G59960', 'AT2G24670', 'AT2G13895', 'AT1G60400', 'AT3G27835', 'AT4G33735', 'AT5G18037', 'AT5G50345', 'AT1G57775', 'AT2G16490', 'AT3G31950', 'AT2G03933', 'AT3G43290', 'AT5G56330', 'AT2G29485', 'AT5G44760', 'AT1G63535', 'AT1G28160', 'AT4G05250', 'AT5G17730', 'AT5G28550', 'AT1G48285', 'AT4G07868', 'AT5G28690', 'AT5G53040', 'AT2G04621', 'AT3G45248', 'AT2G05294', 'AT4G15370', 'AT1G34850', 'AT1G80315', 'AT2G21040', 'AT3G23715', 'AT5G01140', 'AT1G27550', 'AT2G28170', 'AT4G08868', 'AT4G20735', 'AT2G21740', 'AT5G08505', 'AT3G32260', 'AT5G22170', 'AT2G21920', 'AT3G58190', 'AT3G29152', 'AT4G09440', 'AT4G07526', 'ATMG01010', 'AT1G34390', 'AT5G50700', 'AT5G43000', 'AT4G04930', 'AT5G56325', 'AT4G11390', 'AT1G66855', 'AT2G17960', 'AT4G08267', 'AT5G36661', 'AT2G44560', 'AT5G11370', 'AT2G25312', 'AT1G34827', 'AT1G59171', 'AT5G36520', 'AT3G25265', 'AT4G05240', 'AT3G50150', 'AT2G23580', 'AT1G50880', 'AT4G01671', 'AT3G22940', 'AT1G25180', 'AT2G17043', 'AT5G27093', 'AT5G25420', 'AT4G06655', 'AT1G65352', 'AT3G01322', 'AT2G33030', 'AT5G61495', 'AT4G19485', 'AT5G03360', 'AT5G35190', 'AT2G01667', 'AT3G58400', 'AT4G14272', 'AT1G31530', 'AT2G04425', 'AT2G33870', 'AT3G28490', 'AT3G17155', 'AT3G44485', 'AT3G22565', 'AT3G43160', 'AT2G19030', 'AT4G16030', 'AT1G32975', 'AT5G39440', 'ATMG00880', 'AT1G59723', 'AT5G63230', 'AT3G24516', 'AT5G36780', 'AT5G48200', 'AT3G44935', 'AT1G66045', 'AT5G28660', 'AT4G34520', 'AT5G50580', 'AT3G24710', 'AT5G41025', 'AT3G53200', 'AT1G43415', 'AT2G22050', 'AT1G31270', 'AT3G05975', 'AT5G39200', 'AT3G26870', 'AT1G40086', 'AT1G43815', 'AT3G52980', 'AT4G11402', 'AT1G43020', 'AT2G32788', 'AT1G36230', 'AT1G77682', 'AT3G45275', 'AT1G17010', 'AT2G15010', 'AT1G65165', 'AT2G31480', 'AT2G25185', 'AT1G45215', 'AT1G34822', 'AT3G21825', 'AT1G60983', 'AT3G29796', 'AT5G35603', 'AT5G58830', 'AT4G10350', 'AT2G35612', 'AT2G10560', 'AT4G07740', 'AT5G36360', 'AT3G25460', 'AT1G42080', 'AT2G07672', 'AT1G53705', 'AT5G50610', 'AT1G57565', 'AT3G58330', 'AT3G05741', 'AT1G20735', 'AT3G25716', 'AT3G28520', 'AT1G64830', 'AT3G45200', 'AT3G17480', 'AT5G37650', 'AT1G76840', 'AT4G08640', 'AT1G41920', 'AT3G03730', 'AT5G11220', 'AT3G30280', 'AT1G53815', 'AT3G42153', 'AT5G54740', 'AT5G38580', 'AT5G25290', 'AT5G22970', 'AT1G27570', 'AT1G30925', 'AT1G47680', 'AT1G55030', 'AT1G65210', 'AT1G36005', 'AT1G73560', 'AT5G51915', 'AT1G64340', 'AT2G26880', 'AT3G25270', 'AT4G24980', 'AT1G24230', 'AT2G10025', 'AT2G03931', 'AT5G25870', 'AT5G44970', 'AT5G44495', 'AT4G15290', 'AT5G60810', 'AT3G42140', 'AT5G30341', 'AT1G34510', 'AT2G39590', 'AT2G17170', 'AT4G08260', 'AT4G09740', 'AT2G07705', 'AT2G23220', 'AT4G04078', 'AT1G05291', 'AT3G05425', 'AT5G25400', 'AT2G04300', 'AT4G09589', 'AT1G50680', 'AT1G25112', 'AT2G39782', 'AT1G31510', 'AT3G30260', 'AT5G17960', 'AT3G21120', 'AT2G04041', 'ATCG01270', 'AT1G35181', 'AT2G16300', 'AT1G65300', 'AT4G04555', 'AT1G26515', 'AT1G40129', 'AT3G49115', 'AT4G16095', 'AT4G15755', 'AT4G04980', 'AT1G46336', 'AT2G43865', 'AT5G59330', 'AT5G51930', 'AT1G64590', 'AT2G20613', 'AT2G25905', 'AT3G44703', 'AT5G39270', 'AT1G58055', 'AT2G27390', 'AT1G34820', 'AT1G34042', 'AT2G07290', 'AT2G15350', 'AT2G14760', 'AT1G73160', 'AT2G07713', 'AT3G44080', 'AT5G54220', 'AT5G36310', 'AT2G43220', 'AT3G14250', 'AT5G47290', 'AT2G16220', 'AT1G49100', 'AT5G40560', 'AT3G06090', 'AT1G47600', 'AT3G14260', 'AT5G50050', 'AT2G02023', 'AT5G35405', 'AT1G52415', 'AT1G18790', 'AT3G46420', 'AT2G11015', 'AT4G08530', 'AT3G09130', 'AT5G15670', 'AT3G11060', 'AT5G40220', 'AT1G47300', 'AT4G39130', 'AT5G24480', 'AT1G63205', 'AT1G20135', 'AT1G46912', 'AT3G42130', 'AT3G46470', 'AT5G02065', 'AT2G31981', 'AT2G20070', 'AT4G35670', 'AT2G18800', 'AT3G19530', 'AT1G06923', 'AT5G54340', 'AT1G30550', 'AT5G02730', 'AT4G03160', 'AT2G35460', 'AT3G49150', 'AT5G62060', 'AT3G04180', 'AT1G61575', 'AT3G58240', 'AT2G15450', 'AT3G03826', 'AT1G59885', 'AT2G07776', 'AT1G34500', 'AT5G23220', 'AT5G38317', 'AT1G32420', 'AT4G05340', 'AT2G15185', 'AT5G36350', 'AT5G39700', 'AT5G37900', 'AT5G50670', 'AT2G20170', 'AT4G09153', 'AT5G07930', 'AT1G28640', 'AT2G28671', 'AT5G40750', 'AT2G03937', 'AT2G19300', 'AT1G33860', 'AT4G05080', 'AT1G21960', 'ATMG00610', 'AT5G19633', 'AT5G52610', 'AT4G28670', 'AT3G56530', 'AT5G38160', 'AT5G14010', 'AT5G01895', 'AT3G25960', 'AT1G05660', 'AT2G26490', 'AT1G54775', 'AT2G02280', 'AT3G19560', 'AT3G21920', 'AT2G17160', 'AT2G40500', 'AT3G23172', 'AT3G58740', 'AT1G55720', 'AT5G27065', 'AT1G66800', 'AT2G16620', 'AT3G43950', 'AT4G13760', 'AT3G55670', 'AT4G16550', 'AT1G52070', 'AT5G55880', 'AT2G11200', 'AT3G19035', 'AT4G32370', 'AT3G03410', 'AT5G17120', 'AT1G35030', 'AT1G66770', 'AT2G01770', 'AT5G62110', 'AT4G09210', 'AT4G05523', 'AT2G37010', 'AT3G43500', 'AT1G62980', 'AT1G11593', 'AT2G29840', 'AT1G53708', 'AT1G70335', 'AT1G70870', 'AT2G22807', 'AT3G48475', 'AT4G09310', 'AT1G49110', 'AT5G62330', 'AT3G60570', 'AT4G27170', 'AT3G18518', 'AT1G61566', 'AT2G15740', 'AT5G57567', 'AT1G13485', 'AT5G26100', 'AT4G33830', 'AT2G06420', 'AT5G32590', 'AT2G04031', 'AT5G54360', 'AT4G29035', 'AT5G36200', 'AT3G20997', 'AT1G50980', 'AT3G43170', 'AT5G56690', 'AT3G44428', 'ATMG00870', 'AT4G08360', 'AT2G07641', 'AT2G13125', 'AT4G29033', 'AT2G15640', 'AT3G26390', 'AT3G49305', 'AT2G14765', 'AT2G13500', 'AT3G12835', 'AT3G45525', 'AT4G20535', 'ATMG01150', 'AT5G29050', 'AT3G58880', 'AT2G27535', 'AT3G04545', 'AT5G44770', 'AT1G35540', 'AT2G22121', 'AT1G32980', 'AT1G33820', 'AT2G02690', 'AT5G27238', 'AT3G32180', 'AT3G19565', 'AT2G22750', 'AT4G09870', 'AT1G24060', 'AT2G14378', 'AT1G72141', 'AT1G55330', 'AT3G46350', 'AT4G29090', 'AT4G19760', 'AT5G41500', 'AT3G63093', 'AT2G35580', 'AT3G01415', 'AT1G57613', 'AT3G50180', 'AT5G40070', 'AT1G61920', 'AT1G34815', 'ATMG00740', 'AT2G19040', 'AT2G33233', 'AT3G48270', 'AT1G30670', 'AT3G58410', 'AT5G09360', 'AT1G26797', 'AT1G34855', 'AT1G42710', 'AT3G18340', 'AT2G02695', 'AT3G24610', 'AT4G13263', 'AT5G21130', 'AT4G00467', 'AT5G47950', 'AT2G13985', 'AT4G23970', 'AT3G19160', 'AT3G44070', 'AT3G30805', 'AT4G04601', 'AT5G51250', 'ATMG00285', 'AT3G22720', 'AT4G03350', 'AT4G20947', 'AT2G13295', 'AT3G29790', 'AT1G47317', 'AT1G36085', 'AT2G23440', 'AT1G76728', 'AT2G09388', 'AT3G52690', 'AT2G14270', 'AT2G44198', 'AT5G36820', 'AT2G40955', 'AT4G29654', 'AT5G34881', 'AT2G36550', 'AT2G07617', 'AT5G22180', 'AT1G25210', 'AT5G52490', 'AT1G31670', 'AT3G21930', 'AT2G10020', 'ATMG01060', 'AT5G42910', 'AT2G04870', 'AT5G24940', 'AT5G27080', 'AT3G26010', 'AT5G40315', 'AT2G16676', 'AT4G04985', 'AT2G07440', 'AT2G31760', 'AT3G07710', 'AT3G07840', 'AT1G26225', 'AT2G21810', 'AT5G24050', 'AT1G43100', 'AT4G00953', 'AT1G65349', 'AT3G27331', 'AT1G42680', 'AT4G12820', 'AT1G50340', 'AT3G44780', 'AT5G39910', 'AT1G12170', 'AT5G61630', 'AT2G07673', 'AT4G23780', 'AT5G25750', 'AT2G33705', 'AT3G23360', 'AT1G77655', 'AT4G05632', 'AT5G55890', 'AT2G07702', 'AT1G59800', 'AT4G09930', 'AT3G58415', 'AT5G34870', 'AT5G51520', 'AT2G24615', 'AT3G46710', 'AT3G16930', 'AT5G54320', 'AT2G16200', 'AT3G29033', 'AT3G44710', 'AT1G26700', 'AT1G29010', 'AT1G44080', 'AT2G05430', 'AT4G13075', 'AT2G24617', 'AT5G28680', 'AT2G05786', 'AT1G21866', 'AT1G40390', 'AT1G35890', 'AT5G54067', 'AT5G57535', 'AT1G62225', 'AT5G15110', 'AT2G36560', 'AT2G07613', 'AT5G01860', 'AT1G44895', 'AT3G26250', 'AT5G46000', 'AT1G43010', 'AT5G36080', 'AT5G06030', 'AT5G03400', 'AT5G37170', 'AT5G48890', 'AT5G02000', 'AT4G33600', 'AT2G15025', 'AT4G07524', 'AT1G18130', 'AT5G62860', 'AT3G46410', 'AT1G01335', 'AT5G59895', 'AT4G00155', 'AT5G53260', 'AT5G35695', 'AT3G20993', 'AT1G63540', 'AT5G28590', 'AT5G29613', 'AT5G32670', 'AT1G47495', 'AT4G18650', 'AT1G20683', 'AT3G25750', 'AT3G23140', 'AT5G53910', 'AT5G36410', 'AT4G12543', 'AT1G64870', 'AT2G02525', 'AT5G25030', 'AT5G63170', 'AT3G14970', 'AT1G60980', 'AT3G04330', 'AT2G14282', 'AT2G05752', 'AT3G21450', 'AT2G29679', 'AT1G24851', 'AT1G76750', 'AT2G16225', 'AT3G28223', 'AT3G45243', 'AT2G42455', 'AT2G07000', 'AT3G52941', 'AT2G22160', 'AT1G39060', 'AT1G27535', 'AT4G37409', 'AT4G06643', 'AT4G38820', 'AT3G30165', 'AT5G54062', 'AT3G28250', 'AT3G24650', 'AT3G50090', 'AT3G50990', 'AT5G39170', 'AT3G56610', 'AT3G11300', 'AT5G50490', 'AT3G15250', 'AT3G58370', 'AT1G49290', 'AT1G54620', 'AT1G65570', 'AT2G07654', 'AT5G51000', 'AT4G34345', 'AT3G43550', 'AT1G10715', 'AT4G18790', 'AT5G37460', 'AT5G33898', 'AT1G31620', 'AT1G72580', 'AT2G16520', 'AT5G66970', 'AT2G29850', 'AT3G20840', 'AT3G43180', 'AT1G34400', 'AT1G35242', 'AT3G14480', 'AT1G55945', 'AT3G23650', 'AT3G44235', 'AT5G58820', 'AT3G44460', 'AT4G35210', 'AT3G44763', 'AT5G41490', 'AT2G15180', 'AT5G42785', 'AT2G21105', 'AT3G32380', 'AT3G25012', 'AT2G18490', 'AT4G22210', 'AT1G45403', 'AT3G30845', 'ATMG00290', 'AT1G30930', 'AT3G31900', 'AT5G37220', 'AT5G26617', 'AT1G51970', 'AT1G59835', 'AT5G50590', 'AT3G43574', 'AT1G43610', 'AT1G66490', 'AT5G48350', 'AT4G20703', 'AT4G26040', 'AT5G55856', 'AT2G30385', 'AT4G13968', 'AT3G05300', 'AT3G59295', 'AT4G16451', 'AT5G19675', 'AT1G43760', 'AT3G28410', 'AT2G34120', 'AT4G26485', 'AT3G58390', 'AT2G06090', 'AT5G03980', 'AT4G20650', 'AT1G60090', 'AT2G07684', 'AT4G08395', 'AT4G13080', 'AT4G20250', 'AT2G34110', 'AT5G39540', 'AT1G65735', 'AT3G42880', 'AT1G68723', 'AT5G22910', 'AT3G23680', 'AT2G38646', 'AT5G37415', 'AT2G26720', 'AT5G63730', 'AT1G46408', 'AT4G08039', 'AT5G16100', 'AT2G01240', 'AT2G31620', 'AT5G11970', 'AT2G17080', 'AT1G11520', 'AT4G05630', 'AT2G04137', 'AT1G20132', 'AT1G52050', 'AT1G66290', 'AT4G02270', 'AT5G66816', 'AT1G55546', 'ATMG00490', 'AT1G66440', 'AT2G22345', 'AT2G17680', 'AT1G63190', 'AT5G05910', 'AT3G22022', 'AT1G22100', 'AT1G08790', 'AT1G55755', 'AT4G05270', 'AT1G47265', 'AT3G28680', 'AT3G61723', 'AT5G04395', 'AT4G16165', 'AT1G65770', 'AT4G10240', 'AT1G48910', 'AT5G25200', 'AT1G75717', 'AT3G60870', 'AT5G56452', 'AT3G45800', 'AT3G30160', 'AT4G33880', 'AT3G53330', 'AT2G14289', 'AT1G24822', 'AT2G33230', 'AT3G27416', 'AT5G08005', 'AT2G28020', 'AT1G02710', 'AT1G54550', 'AT5G26890', 'AT2G35890', 'AT5G26692', 'AT5G29624', 'AT5G26060', 'AT2G32785', 'AT4G14105', 'AT1G28306', 'AT3G17230', 'AT2G30925', 'AT3G20155', 'AT1G58260', 'AT4G08895', 'AT3G44665', 'AT3G55680', 'AT3G47410', 'AT5G50710', 'AT3G53300', 'AT2G10970', 'AT4G05140', 'AT4G19730', 'ATMG00620', 'AT3G29765', 'AT5G07190', 'AT1G44980', 'AT2G05970', 'AT1G68825', 'AT3G44910', 'AT5G38620', 'AT1G59077', 'AT2G36255', 'AT1G34410', 'AT2G40745', 'AT2G07636', 'AT2G16505', 'AT4G22105', 'AT3G42160', 'AT5G27090', 'AT5G04380', 'AT1G49260', 'AT1G10250', 'AT2G15345', 'AT2G20463', 'AT2G07671', 'AT4G11180', 'AT4G07515', 'AT5G37270', 'AT3G49700', 'AT3G32960', 'AT3G45470', 'AT2G07632', 'AT1G60880', 'AT4G09860', 'AT2G07760', 'AT3G29040', 'AT1G58525', 'AT1G80525', 'AT4G16560', 'AT4G05620', 'AT2G21750', 'AT2G01021', 'AT3G50373', 'AT4G12485', 'AT5G36730', 'AT5G43360', 'AT1G53875', 'AT1G52180', 'AT3G58300', 'AT4G20555', 'AT5G36470', 'AT4G22505', 'AT4G19260', 'AT5G39640', 'AT1G17000', 'AT3G05725', 'AT5G06170', 'AT5G35475', 'AT2G47530', 'AT5G60553', 'AT5G48280', 'AT3G45790', 'AT3G60790', 'AT2G07200', 'AT1G68270', 'AT1G34910', 'AT5G36659', 'AT5G18880', 'AT2G04675', 'AT5G38090', 'AT4G27415', 'AT1G30972', 'AT2G29800', 'AT5G11565', 'AT1G62421', 'AT3G55254', 'AT5G48700', 'AT5G38170', 'AT1G22080', 'AT5G36805', 'AT3G18470', 'AT3G55810', 'AT3G10455', 'AT1G24807', 'AT5G24070', 'AT2G12200', 'AT1G20590', 'AT5G35067', 'AT2G10965', 'AT4G32380', 'AT4G12555', 'AT2G14870', 'ATMG00750', 'AT5G50565', 'AT1G65990', 'AT2G03932', 'AT3G16432', 'AT1G34050', 'AT1G36030', 'AT1G60320', 'AT4G09090', 'AT3G29630', 'AT2G16810', 'AT5G26130', 'AT3G22085', 'AT1G48130', 'AT1G30974', 'AT1G66120', 'AT2G06667', 'AT5G24950', 'AT2G07724', 'AT1G78220', 'AT4G32100', 'AT1G06310', 'AT4G09660', 'AT1G02575', 'AT5G60080', 'AT5G11830', 'AT5G05285', 'AT4G21260', 'AT2G15535', 'ATMG00990', 'AT1G42700', 'AT3G58910', 'AT4G08263', 'AT4G25845', 'AT3G48675', 'AT3G43870', 'AT1G51020', 'AT1G52603', 'AT5G27945', 'AT3G58320', 'AT1G37020', 'AT4G31320', 'AT5G45980', 'AT1G60380', 'AT2G15327', 'AT4G04265', 'AT1G49205', 'AT1G43780', 'AT3G01331', 'AT1G23145', 'AT2G37810', 'AT4G10540', 'AT5G38440', 'AT2G05105', 'AT1G28020', 'AT1G14940', 'AT1G12411', 'AT1G21323', 'AT3G28674', 'AT5G38950', 'AT4G21130', 'AT2G12935', 'AT4G08406', 'AT5G52690', 'ATMG01290', 'AT5G44960', 'AT2G16290', 'AT3G46760', 'AT3G22010', 'AT1G05240', 'AT5G49240', 'AT3G10990', 'AT4G05260', 'AT1G36078', 'AT1G24800', 'AT1G09625', 'AT4G20810', 'AT2G16018', 'AT5G39140', 'AT1G69090', 'AT1G56030', 'AT3G61030', 'AT3G24280', 'AT5G46297', 'AT5G38435', 'AT2G37125', 'AT3G46810', 'AT1G50160', 'AT2G07741', 'AT1G48095', 'AT3G46380', 'AT5G29054', 'AT4G09530', 'AT3G43291', 'AT3G45252', 'AT3G28918', 'AT2G07734', 'AT1G17770', 'AT3G49440', 'AT4G21240', 'AT1G34812', 'AT3G58360', 'AT5G27790', 'AT4G00140', 'AT4G12545', 'AT1G48725', 'AT2G28405', 'AT1G27250', 'AT5G53520', 'AT2G25630', 'AT3G13228', 'AT3G06280', 'AT3G01185', 'AT3G21380', 'AT1G14048', 'ATMG00440', 'AT3G24605', 'AT1G65680', 'AT1G32280', 'AT3G19274', 'AT5G60010', 'AT3G53342', 'AT5G50560', 'AT2G04220', 'AT4G18690', 'AT4G29630', 'ATMG00850', 'AT2G03955', 'AT4G13955', 'AT5G37160', 'AT5G28810', 'AT3G43470', 'AT1G59312', 'AT5G23030', 'AT1G36970', 'AT1G65640', 'AT1G51320', 'AT3G61040', 'AT2G14846', 'AT2G31432', 'AT4G22410', 'AT2G29000', 'AT5G37920', 'AT1G35467', 'AT4G22440', 'AT1G70120', 'AT3G44261', 'AT1G20280', 'AT3G26880', 'AT4G16090', 'AT1G47700', 'AT5G62800', 'AT4G11373', 'AT1G02067', 'AT2G06675', 'AT5G34905', 'AT2G15325', 'AT5G46320', 'AT1G16380', 'AT5G42955', 'AT2G14935', 'AT5G45573', 'AT3G14463', 'AT5G20460', 'AT4G01516', 'AT1G33280', 'AT1G43667', 'AT4G33710', 'AT2G10955', 'AT5G22990', 'AT5G43175', 'AT5G54050', 'AT3G43837', 'AT5G36228', 'AT3G28530', 'AT4G04030', 'AT1G53366', 'AT4G02190', 'AT5G50550', 'AT2G19045', 'AT1G65340', 'AT5G22900', 'AT3G21340', 'AT3G18700', 'AT5G36550', 'AT2G04045', 'AT2G24080', 'AT2G11626', 'AT5G39365', 'AT5G53270', 'AT3G61829', 'AT1G51290', 'AT1G34795', 'AT5G27170', 'AT1G08985', 'AT3G45480', 'AT4G35150', 'AT1G48990', 'AT2G11010', 'AT5G40620', 'AT5G35195', 'AT5G36340', 'AT1G12960', 'AT2G34330', 'AT5G55360', 'AT5G55508', 'AT5G17140', 'AT3G04990', 'AT4G00260', 'AT5G26070', 'AT3G47140', 'AT3G59240', 'AT4G06490', 'AT2G25120', 'AT5G11660', 'AT3G22870', 'AT3G47341', 'AT4G02735', 'AT2G06565', 'AT3G11310', 'AT1G36510', 'AT3G28820', 'AT4G04110', 'AT1G35850', 'AT2G17785', 'AT4G04632', 'AT5G61690', 'AT1G14960', 'AT1G64105', 'AT4G06583', 'AT5G42567', 'AT4G20835', 'AT1G56680', 'AT1G40083', 'AT2G18025', 'AT2G12290', 'AT3G29794', 'AT5G46930', 'AT4G31630', 'AT3G47720', 'AT5G61470', 'AT5G07572', 'AT5G49490', 'AT1G61097', 'AT2G02635', 'AT2G26320', 'AT1G35375', 'AT2G09838', 'AT4G27400', 'AT5G28960', 'AT4G03590', 'AT3G50123', 'AT3G55190', 'AT1G76830', 'AT5G28560', 'AT3G54940', 'AT1G36925', 'AT5G50080', 'AT3G51700', 'AT2G22030', 'AT4G07350', 'AT1G53880', 'AT2G07020', 'AT1G12615', 'AT1G34840', 'AT2G02103', 'AT4G08380', 'AT1G48912', 'AT4G11030', 'AT5G38790', 'AT5G40290', 'AT1G28335', 'AT3G14820', 'AT4G09467', 'AT4G11540', 'AT2G27540', 'AT3G52330', 'AT3G11870', 'AT1G06320', 'AT4G27150', 'AT3G21165', 'AT2G25344', 'AT4G20707', 'AT2G02490', 'AT4G26880', 'AT1G47786', 'AT5G62623', 'AT3G45555', 'AT5G24410', 'AT5G37150', 'AT3G45810', 'AT2G12475', 'AT1G32030', 'AT2G19320', 'AT5G53780', 'AT2G30090', 'AT1G08150', 'AT2G07773', 'AT4G05310', 'AT2G21465', 'AT4G18692', 'AT3G51200', 'AT5G28950', 'AT1G52495', 'AT2G42465', 'AT5G28190', 'AT5G27493', 'AT2G16030', 'AT1G60050', 'AT4G36370', 'AT1G08100', 'AT1G25410', 'AT5G06040', 'AT5G20390', 'AT2G16340', 'AT2G13950', 'AT1G26773', 'AT4G11940', 'AT5G42232', 'AT1G59550', 'AT4G22217', 'AT3G42990', 'AT4G10767', 'AT4G35200', 'AT2G28625', 'AT5G38570', 'AT3G16970', 'AT5G25430', 'AT5G36658', 'AT5G38190', 'AT5G34883', 'AT1G63615', 'AT4G29273', 'AT3G18120', 'AT1G68420', 'AT3G51210', 'AT5G56369', 'AT5G20995', 'AT4G21902', 'AT4G21340', 'AT2G06960', 'AT5G07160', 'AT5G22160', 'AT5G56770', 'AT5G33340', 'AT3G44210', 'AT2G41390', 'AT2G20080', 'AT4G08691', 'AT2G20520', 'AT5G24130', 'AT5G41450', 'AT2G47540', 'AT5G50910', 'AT3G28243', 'AT3G45460', 'AT3G31430', 'AT4G20630', 'AT3G30210', 'AT1G56415', 'AT4G09466', 'AT3G16820', 'AT5G36662', 'AT2G13905', 'AT5G48750', 'AT3G52020', 'AT3G07005', 'AT3G23685', 'AT5G28288', 'AT1G53935', 'AT1G61090', 'AT3G22337', 'AT2G36700', 'AT4G04404', 'AT5G28180', 'AT4G12170', 'ATMG00890', 'AT5G05120', 'AT5G24440', 'AT5G37030', 'AT3G46120', 'AT4G01170', 'AT3G53080', 'AT5G02995', 'AT1G31380', 'AT4G05612', 'AT2G28355', 'AT3G10900', 'AT5G27960', 'AT3G10460', 'AT4G13490', 'AT3G57840', 'AT3G22345', 'AT4G12510', 'AT1G32250', 'AT5G06020', 'AT3G44635', 'AT1G29570', 'AT3G27840', 'AT4G10115', 'AT1G60280', 'AT2G16970', 'AT2G24625', 'AT5G36490', 'AT3G02960', 'AT5G22145', 'AT2G22520', 'AT5G17480', 'AT2G13350', 'ATMG00050', 'AT1G61562', 'AT4G03165', 'AT3G62695', 'AT1G51240', 'AT1G47810', 'AT4G19270', 'AT5G27607', 'AT3G44060', 'AT5G52155', 'AT2G12880', 'AT5G41720', 'AT1G05615', 'AT4G23380', 'AT5G06500', 'AT5G27495', 'AT3G29797', 'AT1G42525', 'AT2G10625', 'AT3G62350', 'AT5G37320', 'ATMG00940', 'AT4G20560', 'AT5G40120', 'AT1G32225', 'AT3G21830', 'AT2G07652', 'AT1G43950', 'AT2G45110', 'AT3G10240', 'AT1G62210', 'AT3G21940', 'AT2G29925', 'AT2G13542', 'AT5G20340', 'AT3G28216', 'AT5G17100', 'AT3G30235', 'AT4G09545', 'AT3G44115', 'AT2G41417', 'AT1G03395', 'AT5G26262', 'AT2G47570', 'AT3G24700', 'AT4G39745', 'AT3G53290', 'ATMG00600', 'AT1G63522', 'AT3G51020', 'AT3G44230', 'AT5G07225', 'AT1G58766', 'AT1G62978', 'AT1G61688', 'AT2G07691', 'AT3G30320', 'AT5G26580', 'AT3G29260', 'AT1G36627', 'AT1G44085', 'AT5G44830', 'AT1G29180', 'AT3G44130', 'AT5G27606', 'AT2G07628', 'AT1G16025', 'AT1G42190', 'AT5G25960', 'AT5G50665', 'AT1G47280', 'AT1G18975', 'AT4G01770', 'AT5G17522', 'AT2G17305', 'AT4G21040', 'AT1G48070', 'AT2G10615', 'AT3G16960', 'AT4G11485', 'AT5G08055', 'AT3G59590', 'AT3G20557', 'AT1G59680', 'AT2G01780', 'AT5G18560', 'AT5G02920', 'AT3G43660', 'AT3G06019', 'AT2G07565', 'AT1G35035', 'AT1G01410', 'AT4G19250', 'AT5G52620', 'AT1G44030', 'AT2G15470', 'AT5G10220', 'AT5G19270', 'AT4G19480', 'AT4G20550', 'AT3G19055', 'AT2G38365', 'AT3G28853', 'AT3G18905', 'AT1G52470', 'AT5G17110', 'AT3G56390', 'AT3G17560', 'AT1G30473', 'AT1G34047', 'AT5G08460', 'AT2G07810', 'AT1G67150', 'AT4G37435', 'AT2G07627', 'AT3G29750', 'AT4G11930', 'AT3G62670', 'AT1G80090', 'AT4G08140', 'AT4G18450', 'AT3G20700', 'AT1G34930', 'AT3G42390', 'AT4G19400', 'AT5G38960', 'AT2G07110', 'AT1G58248', 'AT2G02650', 'AT4G26145', 'AT2G14500', 'AT3G21730', 'AT1G54230', 'AT1G34520', 'AT1G29179', 'AT2G13126', 'AT5G62340', 'AT3G22333', 'AT5G35069', 'AT5G42590', 'AT5G37473', 'AT5G52150', 'AT1G21990', 'AT5G12043', 'AT1G27555', 'AT4G15360', 'AT2G17845', 'AT3G25090', 'AT1G14950', 'AT2G25370', 'AT5G56430', 'AT3G28415', 'AT3G58585', 'AT2G12905', 'AT4G20570', 'ATMG00840', 'AT4G22400', 'AT5G16430', 'AT3G58890', 'AT1G51010', 'AT5G01130', 'AT3G30385', 'AT3G46735', 'AT1G59630', 'AT4G26483', 'AT3G20950', 'AT1G68877', 'AT5G48130', 'AT2G11045', 'AT3G18150', 'AT1G52970', 'AT5G23908', 'AT3G17261', 'AT2G40310', 'AT3G30383', 'AT1G56553', 'AT1G58090', 'AT3G24250', 'AT2G16019', 'AT5G03820', 'AT3G25720', 'AT4G29285', 'AT2G38195', 'AT3G57250', 'AT4G08190', 'AT1G18760', 'AT3G44140', 'AT4G07932', 'AT1G19090', 'AT1G27220', 'AT3G44810', 'AT4G08025', 'AT2G22241', 'AT5G32613', 'AT3G59170', 'AT3G32040', 'AT3G55665', 'AT5G43110', 'AT5G52115', 'AT3G53910', 'AT1G31163', 'AT3G28590', 'AT3G45910', 'AT5G22960', 'AT3G42723', 'AT5G36130', 'AT4G01760', 'AT2G31850', 'AT3G45670', 'ATMG00410', 'AT1G53010', 'AT4G20575', 'AT2G06166', 'AT4G22060', 'AT5G26810', 'AT1G34490', 'AT1G47620', 'AT5G62750', 'AT1G10190', 'AT3G29340', 'AT4G38401', 'AT5G56410', 'AT5G60964', 'AT4G37950', 'AT2G45403', 'AT1G20600', 'AT4G00232', 'AT1G49270', 'AT4G00872', 'AT1G66310', 'AT2G11462', 'AT4G16955', 'AT2G25160', 'AT5G66220', 'AT1G10880', 'AT4G03728', 'AT4G35519', 'AT5G15040', 'AT3G55180', 'AT1G78635', 'AT2G01360', 'AT2G20465', 'AT3G29791', 'AT3G43940', 'AT5G02340', 'AT3G25080', 'AT4G28870', 'AT3G43410', 'AT3G44785', 'AT3G46390', 'AT4G08800', 'AT3G27680', 'AT3G48344', 'AT4G30050', 'AT1G58242', 'AT2G05642', 'AT2G02640', 'AT3G13898', 'AT3G01010', 'AT4G14276', 'AT5G53720', 'AT1G35353', 'AT2G11623', 'AT5G48420', 'AT4G33590', 'AT1G48660', 'AT2G02770', 'AT4G18620', 'AT2G18080', 'AT1G43722', 'AT2G31430', 'AT3G29450', 'AT5G40420', 'AT4G23080', 'AT2G03030', 'AT4G00165', 'AT2G04920', 'AT3G42770', 'AT4G26340', 'AT5G03944', 'AT4G10680', 'AT5G26840', 'AT3G09120', 'ATMG00730', 'AT4G29658', 'AT1G21928', 'AT1G26799', 'AT2G33685', 'AT3G28870', 'AT4G19980', 'ATMG01270', 'AT2G36450', 'AT1G07175', 'AT4G03298', 'AT2G33655', 'AT1G40104', 'AT1G35365', 'AT2G32350', 'AT3G49045', 'AT4G15056', 'AT1G64920', 'AT5G09340', 'AT2G16535', 'AT3G62850', 'AT2G32275', 'AT3G05775', 'AT4G32110', 'AT2G31081', 'AT2G32360', 'AT4G24640', 'AT2G06555', 'AT2G11570', 'AT3G29785', 'AT4G10220', 'AT2G20618', 'AT2G07310', 'AT4G21000', 'AT2G23630', 'AT5G17180', 'AT1G36942', 'AT5G66815', 'AT1G19930', 'AT2G14920', 'AT5G34869', 'AT1G69190', 'AT1G36960', 'AT1G15590', 'AT2G29790', 'AT1G43320', 'AT5G26140', 'AT1G31080', 'AT1G32763', 'AT1G35040', 'AT3G30247', 'AT1G74820', 'AT5G07420', 'AT2G23250', 'AT5G12090', 'AT5G46820', 'AT3G60560', 'AT4G00889', 'AT1G49435', 'AT3G32200', 'AT4G00920', 'AT3G23145', 'AT3G28280', 'AT3G53305', 'AT4G02910', 'AT1G35895', 'AT3G16895', 'AT5G35610', 'AT2G05600', 'AT2G05850', 'AT3G33494', 'AT3G43083', 'AT5G41401', 'AT5G19315', 'AT1G40090', 'AT2G03930', 'AT5G58782', 'AT5G34581', 'AT2G39375', 'ATMG01000', 'AT1G64910', 'AT1G62220', 'AT3G23727', 'AT3G25200', 'AT3G61175', 'AT5G10500', 'AT4G20600', 'AT3G15604', 'AT3G15909', 'AT5G60615', 'AT4G10370', 'AT1G25141', 'AT2G14820', 'AT1G47690', 'AT2G31780', 'AT1G43730', 'AT1G21864', 'AT5G06080', 'AT1G49190', 'AT3G06870', 'AT2G04830', 'AT2G12405', 'AT5G48605', 'AT1G17910', 'AT4G08740', 'AT5G27200', 'AT5G36190', 'AT3G43990', 'AT5G36690', 'AT1G77093', 'AT1G53285', 'AT2G06983', 'AT2G04750', 'AT3G61720', 'AT4G04402', 'AT4G22180', 'AT1G23610', 'AT5G26080', 'AT3G11825', 'ATMG01230', 'AT1G53282', 'AT3G01020', 'AT4G12190', 'AT5G17130', 'AT5G48515', 'AT4G09190', 'AT1G12064', 'AT3G16550', 'AT3G20555', 'AT1G26795', 'AT1G50220', 'AT5G43401', 'AT2G15500', 'AT1G47389', 'AT4G16040', 'AT1G41820', 'AT5G26150', 'AT1G11980', 'AT1G55600', 'AT5G19175', 'AT5G47340', 'AT1G24793', 'AT1G62170', 'AT3G32090', 'AT3G45580', 'AT1G59675', 'AT1G58643', 'AT1G67235', 'AT1G50960', 'AT1G11145', 'AT5G48205', 'AT2G02620', 'AT5G52130', 'AT1G02210', 'AT1G33670', 'AT5G50600', 'AT5G18705', 'AT5G61710', 'AT5G46873', 'AT1G32337', 'AT1G47350', 'AT1G40087', 'AT3G53820', 'AT5G33393', 'AT2G28270', 'AT3G43505', 'AT3G33293', 'AT3G58230', 'AT5G48953', 'AT1G32720', 'AT1G05290', 'AT4G16930', 'AT1G06120', 'AT2G15110', 'AT4G11870', 'AT2G26950', 'AT3G30220', 'AT3G49040', 'AT1G34140', 'AT2G10556', 'AT2G41910', 'AT3G30230', 'AT4G11750', 'AT5G38378', 'AT4G06526', 'AT1G69818', 'AT1G34790', 'AT1G59406', 'AT4G20540', 'AT5G01690', 'AT1G03890', 'AT5G54215', 'AT1G38065', 'AT1G26350', 'AT2G13150', 'AT5G50040', 'AT3G43280', 'AT5G51360', 'AT5G09940', 'AT5G56368', 'AT4G03630', 'AT5G54225', 'AT3G42075', 'AT5G37870', 'AT1G33220', 'AT1G14110', 'AT2G14700', 'AT5G38397', 'AT1G07680', 'AT3G48298', 'AT3G30520', 'AT1G57777', 'AT2G41473', 'AT4G17585', 'AT1G66245', 'AT5G52605', 'AT2G04680', 'AT1G29005', 'AT5G50690', 'AT3G29720', 'AT5G20045', 'AT4G33820', 'AT1G25270', 'AT5G59110', 'AT1G60913', 'AT3G11350', 'AT5G36500', 'AT2G03300', 'AT3G30540', 'AT5G50115', 'AT1G45015', 'AT1G33010', 'AT1G75530', 'AT1G35435', 'AT1G48800', 'AT4G06479', 'AT4G19275', 'AT5G23903', 'AT1G26798', 'AT3G42628', 'AT5G41440', 'AT3G22125', 'AT4G04080', 'AT5G22660', 'AT1G16945', 'AT1G11510', 'ATCG00870', 'AT1G08645', 'AT1G67775', 'AT3G46400', 'AT2G34317', 'AT4G38405', 'AT2G10545', 'AT5G27260', 'AT3G09110', 'AT3G45577', 'AT3G22710', 'AT3G49744', 'AT1G38790', 'AT5G46810', 'AT2G16015', 'AT1G31520', 'AT5G36770', 'AT2G25230', 'AT2G07648', 'AT4G10880', 'AT5G35810', 'AT5G45120', 'AT4G32717', 'AT4G09940', 'AT2G31215', 'AT5G36420', 'ATMG00760', 'AT5G34829', 'AT3G29430', 'AT4G29970', 'AT1G05650', 'AT1G58725', 'AT4G07675', 'AT5G26673', 'AT5G28730', 'AT3G50730', 'AT5G54745', 'AT4G08869', 'AT4G13960', 'AT5G45870', 'AT4G20645', 'AT5G35870', 'AT5G42580', 'AT4G23360', 'AT4G10613', 'AT5G55770', 'AT1G43171', 'AT2G19893', 'AT1G27610', 'AT2G43890', 'AT3G49450', 'AT2G13620', 'AT4G24650', 'AT2G29605', 'AT1G23037', 'AT4G06639', 'AT3G17190', 'AT5G45230', 'AT1G62270', 'AT5G62627', 'AT2G14000', 'ATMG00320', 'AT5G17340', 'AT3G30370', 'AT4G09780', 'AT3G21130', 'AT5G01280', 'AT4G39756', 'AT1G10717', 'AT1G15680', 'AT4G34170', 'AT5G49250', 'AT1G65670', 'AT5G22190', 'AT5G23650', 'AT3G46086', 'AT1G35820', 'AT3G19410', 'AT1G61950', 'AT4G20520', 'AT5G54820', 'AT4G02235', 'AT1G53940', 'AT5G38490', 'AT2G05117', 'AT2G42725', 'AT3G58260', 'AT5G15030', 'AT1G53885', 'AT3G29570', 'AT3G42780', 'AT1G12190', 'AT1G63070', 'AT1G34800', 'AT1G43970', 'AT1G47780', 'AT2G04063', 'AT5G34887', 'AT5G50650', 'ATMG00820', 'AT1G61565', 'AT4G21030', 'AT3G46565', 'AT2G14390', 'AT3G24690', 'AT2G06541', 'AT3G50720', 'AT5G12910', 'AT3G29636', 'AT2G20208', 'AT2G14395', 'AT4G10190', 'AT5G27070', 'AT3G48209', 'AT4G30730', 'AT1G56620', 'AT4G06688', 'AT5G35540', 'AT1G60625', 'AT1G76910', 'AT2G46190', 'AT4G03740', 'AT2G31770', 'AT2G38900', 'AT5G43695', 'AT2G07719', 'AT2G16016', 'AT5G18450', 'AT5G41530', 'AT3G22030', 'AT3G48220', 'AT5G15560', 'AT4G22513', 'AT5G27880', 'AT1G19086', 'AT4G19340', 'AT2G13980', 'AT3G44718', 'AT5G38330', 'AT1G63206', 'AT2G11025', 'AT3G27809', 'AT3G43432', 'AT4G09465', 'AT3G03405', 'AT4G29300', 'AT1G26921', 'AT2G02290', 'AT5G25850', 'AT5G54043', 'AT2G20430', 'AT1G49015', 'AT3G47190', 'AT4G23373', 'AT1G03720', 'AT2G20595', 'AT1G70949', 'AT3G11380', 'AT2G21455', 'AT3G18460', 'AT4G22165', 'AT5G38197', 'AT5G22420', 'AT4G09610', 'AT5G36440', 'AT2G22940', 'AT2G15710', 'AT2G39865', 'AT3G44090', 'AT3G31550', 'AT2G02520', 'AT5G39775', 'AT2G17090', 'AT2G18830', 'AT1G58050', 'AT2G39060', 'AT1G20730', 'AT5G05650', 'AT5G36430', 'AT1G09360', 'AT4G12550', 'AT5G51610', 'AT2G40165', 'AT3G50925', 'AT5G37060', 'AT4G32375', 'AT2G22465', 'AT4G10660', 'AT2G24510', 'AT4G31260', 'AT5G63063', 'AT1G35150', 'AT5G14995', 'AT5G52260', 'AT1G14755', 'AT1G78740', 'AT5G48860', 'AT5G39920', 'AT4G20220', 'AT1G24256', 'AT3G14510', 'AT1G11684', 'AT2G14670', 'AT5G39870', 'AT1G34807', 'AT2G45405', 'AT3G44704', 'AT5G62120', 'AT1G64585', 'AT1G36240', 'AT1G43005', 'AT1G59453', 'AT3G43503', 'AT1G45223', 'AT1G29020', 'AT3G23060', 'ATMG01180', 'AT4G11385', 'AT3G18220', 'AT5G46610', 'AT1G27490', 'AT4G20565', 'AT1G64255', 'AT4G28920', 'AT1G35617', 'AT3G62615', 'AT5G38180', 'AT3G45110', 'AT3G43645', 'AT3G63255', 'AT1G24909', 'AT4G10820', 'AT5G27340', 'AT3G01327', 'AT3G43480', 'AT1G49930', 'AT1G61060', 'AT1G05250', 'AT1G48010', 'AT2G23067', 'AT3G32410', 'AT5G61997', 'AT4G15735', 'AT5G39430', 'AT2G03570', 'AT1G23147', 'AT2G18970', 'AT3G60760', 'AT1G15600', 'AT1G32010', 'AT1G29870', 'AT1G08670', 'AT2G31310', 'AT1G33710', 'AT4G10870', 'AT4G22600', 'AT3G12660', 'AT2G21725', 'AT5G25300', 'AT3G16555', 'AT4G08370', 'AT5G36320', 'AT2G07634', 'ATMG01040', 'AT2G23142', 'AT1G69240', 'AT4G15715', 'AT4G15733', 'AT3G10974', 'AT2G05335', 'AT1G18520', 'AT2G07637', 'AT3G53060', 'AT3G43630', 'AT5G67040', 'AT2G19000', 'AT5G35737', 'AT3G56520', 'AT3G10439', 'AT5G31412', 'AT2G16594', 'AT2G40220', 'AT5G28885', 'AT2G25990', 'AT3G24260', 'AT1G06330', 'AT4G07445', 'AT3G31402', 'AT2G13900', 'AT4G09647', 'AT5G03570', 'AT5G55565', 'AT1G29580', 'AT5G16285', 'AT4G15245', 'AT1G25025', 'AT3G42560', 'AT1G51410', 'AT1G60985', 'ATMG00470', 'AT4G16295', 'AT5G36225', 'AT3G61962', 'AT1G32585', 'AT2G28860', 'AT3G43490', 'AT1G43666', 'AT3G46800', 'AT4G20200', 'AT1G53930', 'AT1G24010', 'AT3G53070', 'AT3G24465', 'AT4G17700', 'AT3G30840', 'AT4G07835', 'AT1G67025', 'AT4G35280', 'AT4G29450', 'AT2G39540', 'AT1G43720', 'AT1G51250', 'AT5G37200', 'AT1G60300', 'AT2G25890', 'AT5G26640', 'AT5G05657', 'AT1G51230', 'AT2G13630', 'AT5G55870', 'AT1G35537', 'AT4G13610', 'AT2G29654', 'AT1G62070', 'AT1G79580', 'AT5G35698', 'AT4G05553', 'AT1G34805', 'AT3G44660', 'AT2G34100', 'AT2G34290', 'AT1G64235', 'AT3G32050', 'AT3G42473', 'AT2G09840', 'AT2G31083', 'ATMG00900', 'AT5G39310', 'AT4G09784', 'AT5G24880', 'AT3G30430', 'AT5G43550', 'AT3G58877', 'AT2G34123', 'AT1G45221', 'AT1G52060', 'AT4G29640', 'AT4G08430', 'AT5G24100', 'AT4G28365', 'AT1G34049', 'AT1G31260', 'AT2G27750', 'AT3G50250', 'AT3G03400', 'AT3G17765', 'AT5G10590', 'AT5G17720', 'AT4G08840', 'AT4G23120', 'AT4G00315', 'AT2G13105', 'AT3G42830', 'AT4G11770', 'AT1G29480', 'AT2G10608', 'AT3G48205', 'AT5G42260', 'AT4G14315', 'AT1G34817', 'AT3G14030', 'AT1G31255', 'AT1G47695', 'AT3G21405', 'AT2G23230', 'AT3G42995', 'AT5G41640', 'AT1G21313', 'AT5G65330', 'AT4G00610', 'AT1G16940', 'AT5G48905', 'AT1G33070', 'AT2G15660', 'AT4G08410', 'AT2G07771', 'AT4G03625', 'AT2G14695', 'AT1G55928', 'AT2G03936', 'AT4G07325', 'AT5G37040', 'AT3G32130', 'AT1G54640', 'ATMG01140', 'AT2G11773', 'AT1G47657', 'AT1G36756', 'AT4G19750', 'AT5G37730', 'AT2G19050', 'AT1G33830', 'AT1G59460', 'AT4G10305', 'AT2G16040', 'AT2G15590', 'AT2G29735', 'AT1G77525', 'AT3G22040', 'AT3G27910', 'AT3G42565', 'AT1G34792', 'AT3G21410', 'AT4G15393', 'AT1G23270', 'AT1G26815', 'AT1G65425', 'AT5G39645', 'AT3G04170', 'AT3G49460', 'AT3G01326', 'AT1G52440', 'AT2G19060', 'AT3G58920', 'AT2G02440', 'AT5G59105', 'AT4G35733', 'AT4G20545', 'AT2G15460', 'AT4G03495', 'AT5G05653', 'AT5G28620', 'AT5G51195', 'AT4G15870', 'AT5G36800', 'AT1G43145', 'AT3G44170', 'AT5G53670', 'AT2G13510', 'AT3G21371', 'AT1G48190', 'AT5G51900', 'AT1G43825', 'AT1G31960', 'AT2G02497', 'AT1G26870', 'AT1G61330', 'AT3G02430', 'AT4G12334', 'AT2G44581', 'AT4G09035', 'AT5G47075', 'AT2G27700', 'AT2G35280', 'AT3G30222', 'AT3G32330', 'AT5G44220', 'AT3G53050', 'AT4G22510', 'AT5G52140', 'AT5G12070', 'AT3G16525', 'AT2G03720', 'AT3G32420', 'AT2G33790', 'AT5G38810', 'AT2G22060', 'AT3G24620', 'AT1G36272', 'AT5G52080', 'AT2G24470', 'AT1G43630', 'AT5G14300', 'AT5G35945', 'AT3G43148', 'AT2G06908', 'AT3G19595', 'AT4G09070', 'AT1G02550', 'AT1G43090', 'AT1G55710', 'AT2G02140', 'AT3G11405', 'AT1G58310', 'AT3G22935', 'AT2G37800', 'AT4G13266', 'AT5G17345', 'AT1G09030', 'AT3G28390', 'AT2G14810', 'AT5G30360', 'AT2G33200', 'AT2G16592', 'AT2G07825', 'AT5G39290', 'AT2G16120', 'AT2G27250', 'AT5G48945', 'AT4G33230', 'AT3G02673', 'AT4G11580', 'AT5G58890', 'AT2G02026', 'AT5G25330', 'AT3G42870', 'AT4G26740', 'AT5G54035', 'AT5G50770', 'AT1G21835', 'AT2G01790', 'AT2G46308', 'AT4G16195', 'AT2G14540', 'AT3G25727', 'AT1G18000', 'AT2G28490', 'AT3G21980', 'ATMG01310', 'AT2G07626', 'AT5G07545', 'AT1G54445', 'AT1G50060', 'AT4G39917', 'AT5G42957', 'AT1G52460', 'AT2G05645', 'AT2G18200', 'AT3G46840', 'AT2G22040', 'AT4G39500', 'AT1G04450', 'AT1G66210', 'AT3G24517', 'AT2G37730', 'AT2G04810', 'AT5G50620', 'AT3G15548', 'AT3G43150', 'AT5G56920', 'AT2G08986', 'AT1G59833', 'AT2G07708', 'AT4G22430', 'AT5G15690', 'AT5G45277', 'AT3G28922', 'AT5G29210', 'AT1G30140', 'AT1G59470', 'AT1G59790', 'AT2G20619', 'AT4G31196', 'AT5G36680', 'AT3G61117', 'AT1G56380', 'AT1G35410', 'AT1G42615', 'AT1G64455', 'AT4G09260', 'AT1G48690', 'AT3G21910', 'AT5G05050', 'AT4G20580', 'AT2G07749', 'AT5G38670', 'AT5G52460', 'AT4G38990', 'AT3G54310', 'AT1G70960', 'AT1G25300', 'AT1G65346', 'AT2G10550', 'AT2G12465', 'AT4G16160', 'AT3G43880', 'AT3G57850', 'AT5G54410', 'AT3G30525', 'AT4G08485', 'AT4G29280', 'AT5G50270', 'AT5G04347', 'AT4G17200', 'AT2G07785', 'AT1G50720', 'AT1G49810', 'AT4G22460', 'AT3G43153', 'AT3G04390', 'AT1G60815', 'AT3G29110', 'AT4G17713', 'AT5G42504', 'AT5G42635', 'AT4G10603', 'AT4G10457', 'AT4G01640', 'AT3G26860', 'AT1G43330', 'AT3G43833', 'AT4G08097', 'AT5G22505', 'AT3G26270', 'AT1G02965', 'AT3G24750', 'AT2G04034', 'AT2G35215', 'AT1G52695', 'AT2G34890', 'AT4G22110', 'AT2G22941', 'AT5G25860', 'AT1G11470', 'AT5G34885', 'AT5G07050', 'AT1G35520', 'AT5G36400', 'AT1G51172', 'AT3G42155', 'AT4G20640', 'AT3G24513', 'AT4G30770', 'AT5G15685', 'AT5G36722', 'AT2G12900', 'AT3G20030', 'AT3G24270', 'AT1G65342', 'AT5G61680', 'AT3G04943', 'AT3G30705', 'AT1G35860', 'AT3G20980', 'AT4G22090', 'AT1G32430', 'AT1G66220', 'AT5G12060', 'AT5G25415', 'AT1G18770', 'AT4G30074', 'AT1G74500', 'AT3G29560', 'AT1G47660', 'AT1G37000', 'AT5G33406', 'AT3G63360', 'AT4G08620', 'AT1G02590', 'AT3G19880', 'AT3G53294', 'AT3G29740', 'AT1G26255', 'AT1G16905', 'AT5G04047', 'AT5G39300', 'AT5G46900', 'AT1G47790', 'AT3G63350', 'AT3G17490', 'AT4G20610', 'AT5G33806', 'AT1G56400', 'AT4G17590', 'AT4G05555', 'AT4G12150', 'AT1G47765', 'AT5G25425', 'AT2G30220', 'AT5G45875', 'AT1G58936', 'AT1G45190', 'AT4G10895', 'AT3G30823', 'AT5G08090', 'AT1G73290', 'ATMG00370', 'AT3G28120', 'AT3G26355', 'AT5G36300', 'AT1G69100', 'AT2G20597', 'AT3G22080', 'ATMG00170', 'AT2G32835', 'AT1G59724', 'AT3G44240', 'AT1G63057', 'AT5G39620', 'AT4G09984', 'AT1G60250', 'AT5G13130', 'AT5G51650', 'AT1G03103', 'AT5G66980', 'AT5G34780', 'AT5G04853', 'AT5G57625', 'AT1G15757', 'AT4G20620', 'AT2G07815', 'AT1G36000', 'AT1G69820', 'AT4G35610', 'AT3G27503', 'AT3G30387', 'AT5G25550', 'AT5G36330', 'AT5G65370', 'AT5G30520', 'AT3G44555', 'AT3G43710', 'AT4G36070', 'AT2G19820', 'AT1G47450', 'AT2G07120', 'AT4G07380', 'AT4G22650', 'AT5G63720', 'AT1G21925', 'AT2G16575', 'AT1G57830', 'AT4G20790', 'AT4G10670', 'AT5G29070', 'AT5G36390', 'AT4G07670', 'AT1G56418', 'AT3G22723', 'AT5G15360', 'AT3G17620', 'AT2G07981', 'AT3G28291', 'AT3G45510', 'AT4G08028', 'AT5G36657', 'AT5G45640', 'AT2G10260', 'AT1G28500', 'AT3G59180', 'AT5G24879', 'AT4G11745', 'AT2G20616', 'AT1G47800', 'AT3G45245', 'AT5G26594', 'AT5G51490', 'AT4G27160', 'AT5G28463', 'AT5G66990', 'AT5G07850', 'ATMG00920', 'AT1G51480', 'AT3G43415', 'AT4G01260', 'AT2G05420', 'AT3G21945', 'AT4G39750', 'AT4G19770', 'AT1G66852', 'AT5G46970', 'AT4G09795', 'AT2G18810', 'AT3G04270', 'AT5G13825', 'AT5G34828', 'AT5G46980', 'AT1G36100', 'AT1G47730', 'AT4G15096', 'AT5G48190', 'AT3G21900', 'AT4G02310', 'AT4G35375', 'AT4G09464', 'AT2G36260', 'AT4G39290', 'AT4G00416', 'AT2G19230', 'AT4G22463', 'AT5G08315', 'AT1G36095', 'AT1G51990', 'AT2G44540', 'AT1G36325', 'AT2G23660', 'AT1G13620', 'AT5G53637', 'AT3G24508', 'AT4G21010', 'AT5G27810', 'AT1G19040', 'AT1G50080', 'AT5G35913', 'AT4G03830', 'AT5G36460', 'AT2G06904', 'AT4G14250', 'AT4G20530', 'AT3G29455', 'AT1G60986', 'AT1G43665', 'AT2G07661', 'AT3G09140', 'AT3G32160', 'AT1G34825', 'AT4G09585', 'AT3G30820', 'AT3G14362', 'AT5G60805', 'AT2G03160', 'AT3G17550', 'AT5G21125', 'AT5G39280', 'AT2G39790', 'AT4G21895', 'AT3G25820', 'AT1G11765', 'AT5G61900', 'AT4G38005', 'AT1G58245', 'AT5G33390', 'AT1G55640', 'AT4G19680', 'AT1G28170', 'AT4G21366', 'AT1G24881', 'AT2G19220', 'AT3G42550', 'AT3G61172', 'AT1G34015', 'AT2G21727', 'AT4G15562', 'AT1G03810', 'AT5G67000', 'AT3G49030', 'ATMG00300', 'AT3G52080', 'AT5G50562', 'AT3G24290', 'AT3G43570', 'AT2G28010', 'AT3G21170', 'AT2G41415', 'AT1G31740', 'AT5G14290', 'AT1G34403', 'AT4G00925', 'AT2G02550', 'AT2G20660', 'AT3G13227', 'AT1G65050', 'AT4G21330', 'AT1G37010', 'AT4G08560', 'AT2G34825', 'AT1G20710', 'AT3G04280', 'AT4G24715', 'AT1G11970', 'AT1G45100', 'AT1G70040', 'AT1G51220', 'AT2G10602', 'AT2G30670', 'AT4G00005', 'AT2G07280', 'AT2G18685', 'AT1G66470', 'ATMG00530', 'AT3G56670', 'AT1G34095', 'AT3G22580', 'AT3G14880', 'AT5G36739', 'AT5G37280', 'AT4G33145', 'ATMG00270', 'AT1G11620', 'AT1G15770', 'AT3G25719', 'AT3G11990', 'AT2G04930', 'AT4G25010', 'AT4G11653']\n"
     ]
    },
    {
     "data": {
      "text/plain": [
       "3172"
      ]
     },
     "execution_count": 17,
     "metadata": {},
     "output_type": "execute_result"
    }
   ],
   "source": [
    "# Intersección de conjuntos\n",
    "intersec=set2_infect.intersection(set1_ctrl)\n",
    "lst_intersec=list(intersec)\n",
    "print(lst_intersec)\n",
    "len(lst_intersec)"
   ]
  },
  {
   "cell_type": "code",
   "execution_count": 18,
   "metadata": {},
   "outputs": [
    {
     "data": {
      "text/plain": [
       "2056"
      ]
     },
     "execution_count": 18,
     "metadata": {},
     "output_type": "execute_result"
    }
   ],
   "source": [
    "# Diferencia entre conjuntos\n",
    "dif_ctrl=set1_ctrl - set2_infect\n",
    "len(dif_ctrl)\n"
   ]
  },
  {
   "cell_type": "code",
   "execution_count": 19,
   "metadata": {},
   "outputs": [
    {
     "name": "stdout",
     "output_type": "stream",
     "text": [
      "['AT4G03380', 'ATMG00400', 'AT1G64000', 'AT4G15980', 'AT1G58265', 'AT1G20687', 'AT1G50325', 'AT3G24220', 'AT4G23070', 'AT1G57780', 'AT3G46616', 'AT1G47940', 'AT4G03157', 'AT1G14160', 'AT1G48730', 'AT1G43810', 'AT4G00342', 'AT2G03823', 'AT5G14990', 'AT1G11690', 'AT2G04910', 'AT2G18920', 'AT2G15670', 'AT4G09360', 'AT5G05770', 'AT3G45220', 'AT2G07640', 'AT1G08005', 'AT2G22145', 'AT4G25790', 'AT1G69860', 'AT5G14340', 'AT1G72110', 'AT3G22090', 'AT2G35200', 'AT3G18957', 'AT4G04580', 'AT5G35950', 'AT1G70860', 'AT1G24390', 'AT2G43261', 'AT5G52655', 'AT5G05635', 'AT1G58223', 'AT2G28700', 'AT1G54760', 'AT1G55947', 'AT5G20447', 'AT2G04037', 'AT1G31400', 'AT5G44950', 'AT3G19890', 'ATMG01240', 'AT2G34325', 'AT5G05150', 'AT4G28068', 'AT4G21745', 'AT1G07645', 'AT5G55507', 'AT1G60987', 'AT4G16024', 'AT3G22020', 'AT4G01240', 'AT1G79100', 'AT5G41660', 'AT4G21213', 'AT5G67120', 'AT1G60340', 'AT3G66656', 'AT5G05280', 'AT5G19710', 'AT1G02490', 'AT4G00080', 'AT3G60990', 'AT2G18640', 'AT5G17167', 'AT1G54475', 'AT2G47810', 'AT3G16680', 'AT3G15359', 'AT4G18860', 'AT4G12360', 'AT4G32090', 'AT2G26620', 'AT1G49420', 'AT5G53380', 'AT1G08120', 'AT3G43583', 'AT2G31550', 'AT5G35120', 'AT5G10430', 'AT2G30940', 'AT5G50630', 'AT1G28327', 'AT1G52940', 'AT5G27800', 'AT5G04960', 'AT2G11522', 'AT3G18291', 'AT5G40430', 'AT4G03156', 'AT1G53610', 'AT1G35500', 'AT3G02440', 'AT1G49250', 'AT2G23118', 'AT3G23470', 'AT3G25930', 'AT3G24310', 'AT1G12340', 'AT4G15320', 'AT3G02493', 'AT3G15860', 'AT4G27110', 'AT1G07490', 'AT5G47260', 'AT1G22290', 'AT1G33900', 'AT3G20400', 'AT5G41570', 'AT1G59725', 'AT5G40360', 'AT1G35614', 'AT5G59270', 'AT1G61540', 'AT3G23637', 'AT3G19613', 'AT1G31555', 'AT5G04045', 'AT4G08875', 'AT1G11655', 'AT5G18870', 'AT2G07644', 'AT1G47770', 'AT1G74675', 'AT3G47440', 'AT2G05410', 'AT5G17950', 'AT5G35890', 'AT1G79130', 'AT5G35770', 'AT3G48346', 'AT4G13440', 'AT5G20440', 'ATCG00860', 'AT3G62680', 'AT4G28850', 'AT3G30739', 'AT2G07625', 'AT1G31772', 'AT2G04925', 'AT2G21980', 'AT2G06845', 'AT1G34575', 'AT3G10113', 'AT2G24980', 'AT3G32047', 'AT2G46850', 'AT3G10585', 'AT2G14265', 'AT1G25988', 'AT3G31910', 'AT1G43600', 'AT2G39975', 'AT1G26976', 'AT2G05580', 'AT5G65158', 'AT1G72590', 'AT3G54070', 'AT1G71290', 'AT4G20450', 'AT1G13605', 'AT5G06010', 'AT1G78360', 'AT1G72980', 'AT4G04605', 'AT2G14830', 'AT1G18050', 'AT4G17505', 'AT5G28823', 'AT4G08876', 'AT2G34320', 'AT5G35090', 'AT2G25410', 'AT1G49770', 'AT1G09720', 'AT5G35380', 'AT3G52700', 'AT1G76994', 'AT2G31862', 'AT2G24620', 'AT2G10440', 'AT2G01800', 'AT1G10455', 'AT2G10553', 'AT5G17523', 'AT4G01703', 'AT1G55650', 'AT5G36280', 'AT1G73165', 'AT3G27040', 'AT3G22421', 'AT2G28225', 'AT2G23210', 'AT2G22440', 'AT2G24950', 'AT5G06630', 'AT3G47170', 'AT3G17540', 'AT3G12240', 'AT5G38400', 'AT1G06930', 'AT3G04735', 'AT1G13200', 'AT1G26355', 'AT2G30310', 'AT2G36985', 'AT5G39930', 'AT5G43640', 'AT5G67265', 'AT3G24514', 'AT5G01017', 'AT3G46240', 'AT3G62440', 'AT5G10120', 'AT2G05720', 'AT3G61290', 'AT2G11851', 'AT4G25560', 'AT2G07190', 'AT5G32460', 'AT2G11778', 'AT2G05060', 'AT3G49230', 'AT1G44478', 'AT5G39715', 'AT3G04150', 'AT1G13825', 'AT5G39650', 'AT1G77790', 'AT3G06436', 'AT5G51580', 'AT5G51090']\n"
     ]
    },
    {
     "data": {
      "text/plain": [
       "243"
      ]
     },
     "execution_count": 19,
     "metadata": {},
     "output_type": "execute_result"
    }
   ],
   "source": [
    "dif_inf= set2_infect-set1_ctrl\n",
    "lst_only_infect=list(dif_inf)\n",
    "print(lst_only_infect)\n",
    "len(dif_inf)"
   ]
  },
  {
   "cell_type": "code",
   "execution_count": 20,
   "metadata": {},
   "outputs": [],
   "source": [
    "## Save the gene IDs with ceros in a file \n",
    "with open(\"infected_exclusive_geneIDs_in_zero.csv\", \"w\") as outfile:\n",
    "    outfile.write(\"\\n\".join(str(item) for item in lst_only_infect))"
   ]
  },
  {
   "cell_type": "markdown",
   "metadata": {},
   "source": [
    "Resources: <br>\n",
    "https://pypi.org/project/matplotlib-venn/  <br>\n",
    "https://recursospython.com/guias-y-manuales/diagramas-de-venn-con-matplotlib/  <br>\n",
    "https://relopezbriega.github.io/blog/2015/10/11/conjuntos-con-python/ <br>   "
   ]
  }
 ],
 "metadata": {
  "kernelspec": {
   "display_name": "Python 3 (ipykernel)",
   "language": "python",
   "name": "python3"
  },
  "language_info": {
   "codemirror_mode": {
    "name": "ipython",
    "version": 3
   },
   "file_extension": ".py",
   "mimetype": "text/x-python",
   "name": "python",
   "nbconvert_exporter": "python",
   "pygments_lexer": "ipython3",
   "version": "3.8.10"
  }
 },
 "nbformat": 4,
 "nbformat_minor": 4
}
