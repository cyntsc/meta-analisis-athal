{
 "cells": [
  {
   "cell_type": "markdown",
   "metadata": {},
   "source": [
    "import os\n",
    "import pandas as pd\n",
    "# ^^^ pyforest auto-imports - don't write above this line\n",
    "### Use sweetviz for getting a fast examination of the df(s)\n",
    "https://pypi.org/project/sweetviz/"
   ]
  },
  {
   "cell_type": "code",
   "execution_count": 1,
   "metadata": {},
   "outputs": [],
   "source": [
    "import os\n",
    "import pandas as pd\n",
    "# ^^^ pyforest auto-imports - don't write above this line\n",
    "### import the library\n",
    "from pyforest import *  # import the 40 most popular libraries to your notebook\n",
    "# to see the available libraries \n",
    "# lazy_imports()"
   ]
  },
  {
   "cell_type": "code",
   "execution_count": 2,
   "metadata": {},
   "outputs": [
    {
     "data": {
      "application/javascript": [
       "\n",
       "        if (window._pyforest_update_imports_cell) { window._pyforest_update_imports_cell('import os'); }\n",
       "    "
      ],
      "text/plain": [
       "<IPython.core.display.Javascript object>"
      ]
     },
     "metadata": {},
     "output_type": "display_data"
    },
    {
     "data": {
      "application/javascript": [
       "\n",
       "        if (window._pyforest_update_imports_cell) { window._pyforest_update_imports_cell('import os'); }\n",
       "    "
      ],
      "text/plain": [
       "<IPython.core.display.Javascript object>"
      ]
     },
     "metadata": {},
     "output_type": "display_data"
    },
    {
     "name": "stdout",
     "output_type": "stream",
     "text": [
      "Directory changed: /home/cyntsc/Proyectos/tesis-code/meta-xtrome-analysis/results-data/matrices_de_expresion\n"
     ]
    }
   ],
   "source": [
    "# Set the base directory\n",
    "try:\n",
    "    # Change the current working Directory      \n",
    "    os.chdir(\"/home/cyntsc/Proyectos/tesis-code/meta-xtrome-analysis//results-data/matrices_de_expresion\")\n",
    "    print(\"Directory changed:\", os.getcwd() )\n",
    "except OSError:\n",
    "    print(\"Can't change the Current Working Directory\")        \n",
    "#print(os.listdir(os.getcwd())  "
   ]
  },
  {
   "cell_type": "code",
   "execution_count": 3,
   "metadata": {},
   "outputs": [
    {
     "data": {
      "application/javascript": [
       "\n",
       "        if (window._pyforest_update_imports_cell) { window._pyforest_update_imports_cell('import os\\nimport pandas as pd'); }\n",
       "    "
      ],
      "text/plain": [
       "<IPython.core.display.Javascript object>"
      ]
     },
     "metadata": {},
     "output_type": "display_data"
    },
    {
     "data": {
      "text/html": [
       "<div>\n",
       "<style scoped>\n",
       "    .dataframe tbody tr th:only-of-type {\n",
       "        vertical-align: middle;\n",
       "    }\n",
       "\n",
       "    .dataframe tbody tr th {\n",
       "        vertical-align: top;\n",
       "    }\n",
       "\n",
       "    .dataframe thead th {\n",
       "        text-align: right;\n",
       "    }\n",
       "</style>\n",
       "<table border=\"1\" class=\"dataframe\">\n",
       "  <thead>\n",
       "    <tr style=\"text-align: right;\">\n",
       "      <th></th>\n",
       "      <th>Genes</th>\n",
       "      <th>healthy30.1</th>\n",
       "      <th>healthy30</th>\n",
       "      <th>healthy12</th>\n",
       "      <th>healthy18.1</th>\n",
       "      <th>healthy18</th>\n",
       "      <th>healthy24.1</th>\n",
       "      <th>healthy12.1</th>\n",
       "      <th>healthy24</th>\n",
       "    </tr>\n",
       "  </thead>\n",
       "  <tbody>\n",
       "    <tr>\n",
       "      <th>0</th>\n",
       "      <td>AT1G01020</td>\n",
       "      <td>8.481504</td>\n",
       "      <td>7.117987</td>\n",
       "      <td>9.930001</td>\n",
       "      <td>8.064622</td>\n",
       "      <td>7.242760</td>\n",
       "      <td>8.547044</td>\n",
       "      <td>11.851669</td>\n",
       "      <td>9.253677</td>\n",
       "    </tr>\n",
       "    <tr>\n",
       "      <th>1</th>\n",
       "      <td>AT1G01030</td>\n",
       "      <td>1.576824</td>\n",
       "      <td>1.775939</td>\n",
       "      <td>1.944407</td>\n",
       "      <td>1.457672</td>\n",
       "      <td>1.840952</td>\n",
       "      <td>2.418057</td>\n",
       "      <td>1.588581</td>\n",
       "      <td>0.934345</td>\n",
       "    </tr>\n",
       "    <tr>\n",
       "      <th>2</th>\n",
       "      <td>AT1G01040</td>\n",
       "      <td>28.536082</td>\n",
       "      <td>25.215784</td>\n",
       "      <td>21.880177</td>\n",
       "      <td>21.146623</td>\n",
       "      <td>17.801531</td>\n",
       "      <td>13.734209</td>\n",
       "      <td>23.615383</td>\n",
       "      <td>15.053898</td>\n",
       "    </tr>\n",
       "  </tbody>\n",
       "</table>\n",
       "</div>"
      ],
      "text/plain": [
       "       Genes  healthy30.1  healthy30  healthy12  healthy18.1  healthy18  \\\n",
       "0  AT1G01020     8.481504   7.117987   9.930001     8.064622   7.242760   \n",
       "1  AT1G01030     1.576824   1.775939   1.944407     1.457672   1.840952   \n",
       "2  AT1G01040    28.536082  25.215784  21.880177    21.146623  17.801531   \n",
       "\n",
       "   healthy24.1  healthy12.1  healthy24  \n",
       "0     8.547044    11.851669   9.253677  \n",
       "1     2.418057     1.588581   0.934345  \n",
       "2    13.734209    23.615383  15.053898  "
      ]
     },
     "execution_count": 3,
     "metadata": {},
     "output_type": "execute_result"
    }
   ],
   "source": [
    "dfB = pd.read_csv(\"matrix_B_healthy.csv\", sep=',')\n",
    "dfB.head(3)"
   ]
  },
  {
   "cell_type": "code",
   "execution_count": 4,
   "metadata": {},
   "outputs": [
    {
     "data": {
      "application/javascript": [
       "\n",
       "        if (window._pyforest_update_imports_cell) { window._pyforest_update_imports_cell('import os\\nimport pandas as pd'); }\n",
       "    "
      ],
      "text/plain": [
       "<IPython.core.display.Javascript object>"
      ]
     },
     "metadata": {},
     "output_type": "display_data"
    },
    {
     "data": {
      "text/html": [
       "<div>\n",
       "<style scoped>\n",
       "    .dataframe tbody tr th:only-of-type {\n",
       "        vertical-align: middle;\n",
       "    }\n",
       "\n",
       "    .dataframe tbody tr th {\n",
       "        vertical-align: top;\n",
       "    }\n",
       "\n",
       "    .dataframe thead th {\n",
       "        text-align: right;\n",
       "    }\n",
       "</style>\n",
       "<table border=\"1\" class=\"dataframe\">\n",
       "  <thead>\n",
       "    <tr style=\"text-align: right;\">\n",
       "      <th></th>\n",
       "      <th>Genes</th>\n",
       "      <th>healthy30.1</th>\n",
       "      <th>healthy30</th>\n",
       "      <th>healthy12</th>\n",
       "      <th>healthy18.1</th>\n",
       "      <th>healthy18</th>\n",
       "      <th>healthy24.1</th>\n",
       "      <th>healthy12.1</th>\n",
       "      <th>healthy24</th>\n",
       "    </tr>\n",
       "  </thead>\n",
       "  <tbody>\n",
       "    <tr>\n",
       "      <th>0</th>\n",
       "      <td>AT1G01020</td>\n",
       "      <td>8.481504</td>\n",
       "      <td>7.117987</td>\n",
       "      <td>9.930001</td>\n",
       "      <td>8.064622</td>\n",
       "      <td>7.242760</td>\n",
       "      <td>8.547044</td>\n",
       "      <td>11.851669</td>\n",
       "      <td>9.253677</td>\n",
       "    </tr>\n",
       "    <tr>\n",
       "      <th>1</th>\n",
       "      <td>AT1G01030</td>\n",
       "      <td>1.576824</td>\n",
       "      <td>1.775939</td>\n",
       "      <td>1.944407</td>\n",
       "      <td>1.457672</td>\n",
       "      <td>1.840952</td>\n",
       "      <td>2.418057</td>\n",
       "      <td>1.588581</td>\n",
       "      <td>0.934345</td>\n",
       "    </tr>\n",
       "    <tr>\n",
       "      <th>2</th>\n",
       "      <td>AT1G01040</td>\n",
       "      <td>28.536082</td>\n",
       "      <td>25.215784</td>\n",
       "      <td>21.880177</td>\n",
       "      <td>21.146623</td>\n",
       "      <td>17.801531</td>\n",
       "      <td>13.734209</td>\n",
       "      <td>23.615383</td>\n",
       "      <td>15.053898</td>\n",
       "    </tr>\n",
       "  </tbody>\n",
       "</table>\n",
       "</div>"
      ],
      "text/plain": [
       "       Genes  healthy30.1  healthy30  healthy12  healthy18.1  healthy18  \\\n",
       "0  AT1G01020     8.481504   7.117987   9.930001     8.064622   7.242760   \n",
       "1  AT1G01030     1.576824   1.775939   1.944407     1.457672   1.840952   \n",
       "2  AT1G01040    28.536082  25.215784  21.880177    21.146623  17.801531   \n",
       "\n",
       "   healthy24.1  healthy12.1  healthy24  \n",
       "0     8.547044    11.851669   9.253677  \n",
       "1     2.418057     1.588581   0.934345  \n",
       "2    13.734209    23.615383  15.053898  "
      ]
     },
     "execution_count": 4,
     "metadata": {},
     "output_type": "execute_result"
    }
   ],
   "source": [
    "dfC = pd.read_csv(\"matrix_C_healthy.csv\", sep='\\t')\n",
    "dfC.head(3)"
   ]
  },
  {
   "cell_type": "markdown",
   "metadata": {},
   "source": [
    "####  pyforest have 3 main functions for creating reports: <br>\n",
    "    analyze(...)<br>\n",
    "    compare(...)<br>\n",
    "    compare_intra(...)<br>"
   ]
  },
  {
   "cell_type": "code",
   "execution_count": 5,
   "metadata": {},
   "outputs": [],
   "source": [
    "import sweetviz as sv"
   ]
  },
  {
   "cell_type": "code",
   "execution_count": 11,
   "metadata": {},
   "outputs": [
    {
     "data": {
      "text/plain": [
       "[]"
      ]
     },
     "execution_count": 11,
     "metadata": {},
     "output_type": "execute_result"
    }
   ],
   "source": [
    "#sv.config_parser.read(\"Override.ini\")"
   ]
  },
  {
   "cell_type": "markdown",
   "metadata": {},
   "source": [
    "#### comparition "
   ]
  },
  {
   "cell_type": "code",
   "execution_count": 6,
   "metadata": {},
   "outputs": [
    {
     "data": {
      "application/vnd.jupyter.widget-view+json": {
       "model_id": "accd8b739ae84ff3ad6bb60cc5071e60",
       "version_major": 2,
       "version_minor": 0
      },
      "text/plain": [
       "                                             |          | [  0%]   00:00 -> (? left)"
      ]
     },
     "metadata": {},
     "output_type": "display_data"
    }
   ],
   "source": [
    "#feature_config = sv.FeatureConfig(\"\")\n",
    "my_report2 = sv.compare([dfB, \"B_Healthy\"], [dfC, \"C_Healthy\"])"
   ]
  },
  {
   "cell_type": "code",
   "execution_count": 7,
   "metadata": {},
   "outputs": [
    {
     "name": "stdout",
     "output_type": "stream",
     "text": [
      "Report SWEETVIZ_RPT_ARABIDOPSIS_HEALTHY_B_C.html was generated! NOTEBOOK/COLAB USERS: the web browser MAY not pop up, regardless, the report IS saved in your notebook/colab files.\n"
     ]
    }
   ],
   "source": [
    "my_report2.show_html(\"SWEETVIZ_RPT_ARABIDOPSIS_HEALTHY_B_C.html\") # Default arguments will generate to \"SWEETVIZ_REPORT.html\""
   ]
  },
  {
   "cell_type": "markdown",
   "metadata": {},
   "source": [
    "#### analysis"
   ]
  },
  {
   "cell_type": "code",
   "execution_count": 8,
   "metadata": {},
   "outputs": [
    {
     "data": {
      "application/javascript": [
       "\n",
       "        if (window._pyforest_update_imports_cell) { window._pyforest_update_imports_cell('import os\\nimport pandas as pd'); }\n",
       "    "
      ],
      "text/plain": [
       "<IPython.core.display.Javascript object>"
      ]
     },
     "metadata": {},
     "output_type": "display_data"
    },
    {
     "data": {
      "text/html": [
       "<div>\n",
       "<style scoped>\n",
       "    .dataframe tbody tr th:only-of-type {\n",
       "        vertical-align: middle;\n",
       "    }\n",
       "\n",
       "    .dataframe tbody tr th {\n",
       "        vertical-align: top;\n",
       "    }\n",
       "\n",
       "    .dataframe thead th {\n",
       "        text-align: right;\n",
       "    }\n",
       "</style>\n",
       "<table border=\"1\" class=\"dataframe\">\n",
       "  <thead>\n",
       "    <tr style=\"text-align: right;\">\n",
       "      <th></th>\n",
       "      <th>Genes</th>\n",
       "      <th>healthy30.1</th>\n",
       "      <th>healthy30</th>\n",
       "      <th>healthy12</th>\n",
       "      <th>healthy18.1</th>\n",
       "      <th>healthy18</th>\n",
       "      <th>healthy24.1</th>\n",
       "      <th>healthy12.1</th>\n",
       "      <th>healthy24</th>\n",
       "    </tr>\n",
       "  </thead>\n",
       "  <tbody>\n",
       "    <tr>\n",
       "      <th>0</th>\n",
       "      <td>AT1G01020</td>\n",
       "      <td>3.245116</td>\n",
       "      <td>3.021122</td>\n",
       "      <td>3.450222</td>\n",
       "      <td>3.180247</td>\n",
       "      <td>3.043127</td>\n",
       "      <td>3.255054</td>\n",
       "      <td>3.683884</td>\n",
       "      <td>3.358069</td>\n",
       "    </tr>\n",
       "    <tr>\n",
       "      <th>1</th>\n",
       "      <td>AT1G01030</td>\n",
       "      <td>1.365594</td>\n",
       "      <td>1.472976</td>\n",
       "      <td>1.557977</td>\n",
       "      <td>1.297293</td>\n",
       "      <td>1.506375</td>\n",
       "      <td>1.773176</td>\n",
       "      <td>1.372161</td>\n",
       "      <td>0.951845</td>\n",
       "    </tr>\n",
       "    <tr>\n",
       "      <th>2</th>\n",
       "      <td>AT1G01040</td>\n",
       "      <td>4.884407</td>\n",
       "      <td>4.712364</td>\n",
       "      <td>4.516026</td>\n",
       "      <td>4.469015</td>\n",
       "      <td>4.232778</td>\n",
       "      <td>3.881098</td>\n",
       "      <td>4.621488</td>\n",
       "      <td>4.004852</td>\n",
       "    </tr>\n",
       "  </tbody>\n",
       "</table>\n",
       "</div>"
      ],
      "text/plain": [
       "       Genes  healthy30.1  healthy30  healthy12  healthy18.1  healthy18  \\\n",
       "0  AT1G01020     3.245116   3.021122   3.450222     3.180247   3.043127   \n",
       "1  AT1G01030     1.365594   1.472976   1.557977     1.297293   1.506375   \n",
       "2  AT1G01040     4.884407   4.712364   4.516026     4.469015   4.232778   \n",
       "\n",
       "   healthy24.1  healthy12.1  healthy24  \n",
       "0     3.255054     3.683884   3.358069  \n",
       "1     1.773176     1.372161   0.951845  \n",
       "2     3.881098     4.621488   4.004852  "
      ]
     },
     "execution_count": 8,
     "metadata": {},
     "output_type": "execute_result"
    }
   ],
   "source": [
    "dfD = pd.read_csv(\"matrix_D_healthy.csv\", sep='\\t')\n",
    "dfD.head(3)"
   ]
  },
  {
   "cell_type": "code",
   "execution_count": 13,
   "metadata": {},
   "outputs": [
    {
     "data": {
      "application/vnd.jupyter.widget-view+json": {
       "model_id": "9156db0d5740418da2f12e8923dd1569",
       "version_major": 2,
       "version_minor": 0
      },
      "text/plain": [
       "                                             |          | [  0%]   00:00 -> (? left)"
      ]
     },
     "metadata": {},
     "output_type": "display_data"
    },
    {
     "name": "stdout",
     "output_type": "stream",
     "text": [
      "Report SWEETVIZ_RPT_ARABIDOPSIS_HEALTHY_D.html was generated! NOTEBOOK/COLAB USERS: the web browser MAY not pop up, regardless, the report IS saved in your notebook/colab files.\n"
     ]
    }
   ],
   "source": [
    "my_report = sv.analyze(dfD)\n",
    "my_report.show_html(\"SWEETVIZ_RPT_ARABIDOPSIS_HEALTHY_D.html\") # Default arguments will generate to \"SWEETVIZ_REPORT.html\""
   ]
  },
  {
   "cell_type": "code",
   "execution_count": null,
   "metadata": {},
   "outputs": [],
   "source": []
  }
 ],
 "metadata": {
  "kernelspec": {
   "display_name": "Python 3",
   "language": "python",
   "name": "python3"
  },
  "language_info": {
   "codemirror_mode": {
    "name": "ipython",
    "version": 3
   },
   "file_extension": ".py",
   "mimetype": "text/x-python",
   "name": "python",
   "nbconvert_exporter": "python",
   "pygments_lexer": "ipython3",
   "version": "3.6.9"
  }
 },
 "nbformat": 4,
 "nbformat_minor": 4
}
