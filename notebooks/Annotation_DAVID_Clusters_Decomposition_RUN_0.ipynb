{
 "cells": [
  {
   "cell_type": "markdown",
   "id": "afa2791a",
   "metadata": {},
   "source": [
    "## Decompouse an annotation file obtained with the DAVID Tool\n",
    "\n",
    "Made by: Cynthia Soto<br>\n",
    "Date: March 2th, 2022<br>\n",
    "Last md: March 16th, 2022<br>\n",
    "\n",
    "**Assumptions:**<br>\n",
    "Takes a (cluster annotation) tvs file get with the **DAVID Tool**, which is parsed to separate the clusters into individual files & eliminate redundant genes. \n",
    "\n",
    "**Code goal:** <br>\n",
    "1. Input a clustering annotation file. g.e: David_clustering_Run0.txt with 9 clusters <br>\n",
    "2. Output 4 different files:\n",
    "    1. An individual file for each cluster in the run. g.e: run*_clustx.txt\n",
    "    2. A file with the unique genes by each cluster in the run. g.e: run*_clust_unique_genes_x.txt\n",
    "    3. A file with the Enrichment Score by each cluster in the run. g.e: run*_Annotation_clusters_ETest.csv\n",
    "    4. A summary for the run: g.e: run*_meta-data_clusters.txt <br>\n",
    "\n",
    "**Important NOTE:**<br>\n",
    "1. The annotation files were obtained with the with *DAVID Tool v. 6.8 (from January 2022)*. Be sure to use the same format. \n",
    "2. A header need to be added in the first line of the file. Just copy & paste the label of the clusters as header. g.e: <br>\n",
    "*Category\tTerm\tCount\t%\tPValue\tGenes\tList Total\tPop Hits\tPop Total\tFold Enrichment\tBonferroni\tBenjamini\tFDR*"
   ]
  },
  {
   "cell_type": "code",
   "execution_count": 2,
   "id": "0b096ee9",
   "metadata": {},
   "outputs": [],
   "source": [
    "import os\n",
    "import glob\n",
    "import pandas as pd\n",
    "import matplotlib.pyplot as plt\n",
    "\n",
    "run = 'run0'"
   ]
  },
  {
   "cell_type": "code",
   "execution_count": 3,
   "id": "3ebe95c2",
   "metadata": {},
   "outputs": [
    {
     "name": "stdout",
     "output_type": "stream",
     "text": [
      "Directory changed: /home/cyntsc/Proyectos/tesis-code/meta-xtrome-analysis/results-data/MG_DarkMagenta_WGCNA_DAVID_VisANT\n"
     ]
    }
   ],
   "source": [
    "# Set the base directory\n",
    "try:\n",
    "    # Change the current working Directory      \n",
    "    os.chdir(\"/home/cyntsc/Proyectos/tesis-code/meta-xtrome-analysis/results-data/MG_DarkMagenta_WGCNA_DAVID_VisANT\")\n",
    "    print(\"Directory changed:\", os.getcwd() )\n",
    "except OSError:\n",
    "    print(\"Can't change the Current Working Directory\")        \n",
    "#print(os.listdir(os.getcwd())  "
   ]
  },
  {
   "cell_type": "code",
   "execution_count": 23,
   "id": "e425917f",
   "metadata": {},
   "outputs": [
    {
     "data": {
      "text/plain": [
       "'/home/cyntsc/Proyectos/tesis-code/meta-xtrome-analysis/results-data/MG_DarkMagenta_WGCNA_DAVID_VisANT/*.txt'"
      ]
     },
     "execution_count": 23,
     "metadata": {},
     "output_type": "execute_result"
    }
   ],
   "source": [
    "## check a bit of the files to be processed ... are they ok?\n",
    "# s_path = str(os.getcwd())+'/*.txt'\n",
    "# s_path\n",
    "# all_files = glob.glob(s_path)\n",
    "# for file in all_files:\n",
    "#     print(file)"
   ]
  },
  {
   "cell_type": "code",
   "execution_count": 4,
   "id": "5313abb5",
   "metadata": {},
   "outputs": [
    {
     "data": {
      "text/plain": [
       "'David_clustering_Run0.txt'"
      ]
     },
     "execution_count": 4,
     "metadata": {},
     "output_type": "execute_result"
    }
   ],
   "source": [
    "# clusters_file = os.path.basename(file)\n",
    "clusters_file = 'David_clustering_Run0.txt'\n",
    "clusters_file"
   ]
  },
  {
   "cell_type": "code",
   "execution_count": 5,
   "id": "a535abcd",
   "metadata": {},
   "outputs": [],
   "source": [
    "# Remember to add a header line by hand in the input file to capture the column names  \n",
    "df_clusters = pd.read_csv(clusters_file, header=0, index_col=0, sep='\\t')  #(clusters_file, header=1, index_col=0, sep='\\t')\n",
    "df_clusters.reset_index(inplace=True)"
   ]
  },
  {
   "cell_type": "code",
   "execution_count": 6,
   "id": "477e22fa",
   "metadata": {},
   "outputs": [
    {
     "data": {
      "text/html": [
       "<div>\n",
       "<style scoped>\n",
       "    .dataframe tbody tr th:only-of-type {\n",
       "        vertical-align: middle;\n",
       "    }\n",
       "\n",
       "    .dataframe tbody tr th {\n",
       "        vertical-align: top;\n",
       "    }\n",
       "\n",
       "    .dataframe thead th {\n",
       "        text-align: right;\n",
       "    }\n",
       "</style>\n",
       "<table border=\"1\" class=\"dataframe\">\n",
       "  <thead>\n",
       "    <tr style=\"text-align: right;\">\n",
       "      <th></th>\n",
       "      <th>Category</th>\n",
       "      <th>Term</th>\n",
       "      <th>Count</th>\n",
       "      <th>%</th>\n",
       "      <th>PValue</th>\n",
       "      <th>Genes</th>\n",
       "      <th>List Total</th>\n",
       "      <th>Pop Hits</th>\n",
       "      <th>Pop Total</th>\n",
       "      <th>Fold Enrichment</th>\n",
       "      <th>Bonferroni</th>\n",
       "      <th>Benjamini</th>\n",
       "      <th>FDR</th>\n",
       "    </tr>\n",
       "  </thead>\n",
       "  <tbody>\n",
       "    <tr>\n",
       "      <th>0</th>\n",
       "      <td>Annotation Cluster 1</td>\n",
       "      <td>Enrichment Score: 1.5527098383390239</td>\n",
       "      <td>NaN</td>\n",
       "      <td>NaN</td>\n",
       "      <td>NaN</td>\n",
       "      <td>NaN</td>\n",
       "      <td>NaN</td>\n",
       "      <td>NaN</td>\n",
       "      <td>NaN</td>\n",
       "      <td>NaN</td>\n",
       "      <td>NaN</td>\n",
       "      <td>NaN</td>\n",
       "      <td>NaN</td>\n",
       "    </tr>\n",
       "    <tr>\n",
       "      <th>1</th>\n",
       "      <td>Category</td>\n",
       "      <td>Term</td>\n",
       "      <td>Count</td>\n",
       "      <td>%</td>\n",
       "      <td>PValue</td>\n",
       "      <td>Genes</td>\n",
       "      <td>List Total</td>\n",
       "      <td>Pop Hits</td>\n",
       "      <td>Pop Total</td>\n",
       "      <td>Fold Enrichment</td>\n",
       "      <td>Bonferroni</td>\n",
       "      <td>Benjamini</td>\n",
       "      <td>FDR</td>\n",
       "    </tr>\n",
       "    <tr>\n",
       "      <th>2</th>\n",
       "      <td>INTERPRO</td>\n",
       "      <td>IPR015943:WD40/YVTN repeat-like-containing domain</td>\n",
       "      <td>7</td>\n",
       "      <td>5.263157894736842</td>\n",
       "      <td>0.0029394806898688287</td>\n",
       "      <td>AT2G05170, AT3G13340, AT5G23430, AT5G51980, AT...</td>\n",
       "      <td>124</td>\n",
       "      <td>262</td>\n",
       "      <td>22920</td>\n",
       "      <td>4.938438808175326</td>\n",
       "      <td>0.5307215741640121</td>\n",
       "      <td>0.7237339433165627</td>\n",
       "      <td>0.7237339433165627</td>\n",
       "    </tr>\n",
       "  </tbody>\n",
       "</table>\n",
       "</div>"
      ],
      "text/plain": [
       "               Category                                               Term  \\\n",
       "0  Annotation Cluster 1               Enrichment Score: 1.5527098383390239   \n",
       "1              Category                                               Term   \n",
       "2              INTERPRO  IPR015943:WD40/YVTN repeat-like-containing domain   \n",
       "\n",
       "   Count                  %                 PValue  \\\n",
       "0    NaN                NaN                    NaN   \n",
       "1  Count                  %                 PValue   \n",
       "2      7  5.263157894736842  0.0029394806898688287   \n",
       "\n",
       "                                               Genes  List Total  Pop Hits  \\\n",
       "0                                                NaN         NaN       NaN   \n",
       "1                                              Genes  List Total  Pop Hits   \n",
       "2  AT2G05170, AT3G13340, AT5G23430, AT5G51980, AT...         124       262   \n",
       "\n",
       "   Pop Total    Fold Enrichment          Bonferroni           Benjamini  \\\n",
       "0        NaN                NaN                 NaN                 NaN   \n",
       "1  Pop Total    Fold Enrichment          Bonferroni           Benjamini   \n",
       "2      22920  4.938438808175326  0.5307215741640121  0.7237339433165627   \n",
       "\n",
       "                  FDR  \n",
       "0                 NaN  \n",
       "1                 FDR  \n",
       "2  0.7237339433165627  "
      ]
     },
     "execution_count": 6,
     "metadata": {},
     "output_type": "execute_result"
    }
   ],
   "source": [
    "df_clusters.head(3)"
   ]
  },
  {
   "cell_type": "code",
   "execution_count": 7,
   "id": "4032099f",
   "metadata": {},
   "outputs": [],
   "source": [
    "df_clust_idx = df_clusters['Category'].str.contains('Annotation Cluster', regex=False)"
   ]
  },
  {
   "cell_type": "code",
   "execution_count": 8,
   "id": "4204651f",
   "metadata": {},
   "outputs": [
    {
     "data": {
      "text/plain": [
       "Int64Index([0, 8, 17, 24, 31, 38, 43, 48, 53, 60, 66, 80, 86], dtype='int64')"
      ]
     },
     "execution_count": 8,
     "metadata": {},
     "output_type": "execute_result"
    }
   ],
   "source": [
    "#type(df_clust_idx)\n",
    "df_clust_idx.head(10)\n",
    "df_idx = df_clusters[df_clust_idx].index\n",
    "df_idx"
   ]
  },
  {
   "cell_type": "code",
   "execution_count": 9,
   "id": "95dbc9e9",
   "metadata": {},
   "outputs": [
    {
     "data": {
      "text/plain": [
       "'run0'"
      ]
     },
     "execution_count": 9,
     "metadata": {},
     "output_type": "execute_result"
    }
   ],
   "source": [
    "run"
   ]
  },
  {
   "cell_type": "code",
   "execution_count": 10,
   "id": "0faca526",
   "metadata": {
    "scrolled": true
   },
   "outputs": [],
   "source": [
    "df_clusters.iloc[df_idx][['Category','Term']]\n",
    "df_clusters.iloc[df_idx][['Category','Term']].to_csv(run +\"_Annotation_clusters_ETest.csv\", index=False, header=True)"
   ]
  },
  {
   "cell_type": "code",
   "execution_count": 11,
   "id": "ce458c91",
   "metadata": {},
   "outputs": [
    {
     "data": {
      "text/html": [
       "<div>\n",
       "<style scoped>\n",
       "    .dataframe tbody tr th:only-of-type {\n",
       "        vertical-align: middle;\n",
       "    }\n",
       "\n",
       "    .dataframe tbody tr th {\n",
       "        vertical-align: top;\n",
       "    }\n",
       "\n",
       "    .dataframe thead th {\n",
       "        text-align: right;\n",
       "    }\n",
       "</style>\n",
       "<table border=\"1\" class=\"dataframe\">\n",
       "  <thead>\n",
       "    <tr style=\"text-align: right;\">\n",
       "      <th></th>\n",
       "      <th>Category</th>\n",
       "      <th>Term</th>\n",
       "    </tr>\n",
       "  </thead>\n",
       "  <tbody>\n",
       "    <tr>\n",
       "      <th>0</th>\n",
       "      <td>Annotation Cluster 1</td>\n",
       "      <td>Enrichment Score: 1.5527098383390239</td>\n",
       "    </tr>\n",
       "    <tr>\n",
       "      <th>8</th>\n",
       "      <td>Annotation Cluster 2</td>\n",
       "      <td>Enrichment Score: 1.3511256564676855</td>\n",
       "    </tr>\n",
       "    <tr>\n",
       "      <th>17</th>\n",
       "      <td>Annotation Cluster 3</td>\n",
       "      <td>Enrichment Score: 1.3489668435343156</td>\n",
       "    </tr>\n",
       "    <tr>\n",
       "      <th>24</th>\n",
       "      <td>Annotation Cluster 4</td>\n",
       "      <td>Enrichment Score: 1.111257745805441</td>\n",
       "    </tr>\n",
       "    <tr>\n",
       "      <th>31</th>\n",
       "      <td>Annotation Cluster 5</td>\n",
       "      <td>Enrichment Score: 1.017328213339477</td>\n",
       "    </tr>\n",
       "    <tr>\n",
       "      <th>38</th>\n",
       "      <td>Annotation Cluster 6</td>\n",
       "      <td>Enrichment Score: 0.8795378259776299</td>\n",
       "    </tr>\n",
       "    <tr>\n",
       "      <th>43</th>\n",
       "      <td>Annotation Cluster 7</td>\n",
       "      <td>Enrichment Score: 0.7764482129298738</td>\n",
       "    </tr>\n",
       "    <tr>\n",
       "      <th>48</th>\n",
       "      <td>Annotation Cluster 8</td>\n",
       "      <td>Enrichment Score: 0.6208365559775062</td>\n",
       "    </tr>\n",
       "    <tr>\n",
       "      <th>53</th>\n",
       "      <td>Annotation Cluster 9</td>\n",
       "      <td>Enrichment Score: 0.5971627919281557</td>\n",
       "    </tr>\n",
       "    <tr>\n",
       "      <th>60</th>\n",
       "      <td>Annotation Cluster 10</td>\n",
       "      <td>Enrichment Score: 0.5284468488168873</td>\n",
       "    </tr>\n",
       "    <tr>\n",
       "      <th>66</th>\n",
       "      <td>Annotation Cluster 11</td>\n",
       "      <td>Enrichment Score: 0.4492762051137505</td>\n",
       "    </tr>\n",
       "    <tr>\n",
       "      <th>80</th>\n",
       "      <td>Annotation Cluster 12</td>\n",
       "      <td>Enrichment Score: 0.4283515697797112</td>\n",
       "    </tr>\n",
       "    <tr>\n",
       "      <th>86</th>\n",
       "      <td>Annotation Cluster 13</td>\n",
       "      <td>Enrichment Score: 0.31824321995051924</td>\n",
       "    </tr>\n",
       "  </tbody>\n",
       "</table>\n",
       "</div>"
      ],
      "text/plain": [
       "                 Category                                   Term\n",
       "0    Annotation Cluster 1   Enrichment Score: 1.5527098383390239\n",
       "8    Annotation Cluster 2   Enrichment Score: 1.3511256564676855\n",
       "17   Annotation Cluster 3   Enrichment Score: 1.3489668435343156\n",
       "24   Annotation Cluster 4    Enrichment Score: 1.111257745805441\n",
       "31   Annotation Cluster 5    Enrichment Score: 1.017328213339477\n",
       "38   Annotation Cluster 6   Enrichment Score: 0.8795378259776299\n",
       "43   Annotation Cluster 7   Enrichment Score: 0.7764482129298738\n",
       "48   Annotation Cluster 8   Enrichment Score: 0.6208365559775062\n",
       "53   Annotation Cluster 9   Enrichment Score: 0.5971627919281557\n",
       "60  Annotation Cluster 10   Enrichment Score: 0.5284468488168873\n",
       "66  Annotation Cluster 11   Enrichment Score: 0.4492762051137505\n",
       "80  Annotation Cluster 12   Enrichment Score: 0.4283515697797112\n",
       "86  Annotation Cluster 13  Enrichment Score: 0.31824321995051924"
      ]
     },
     "execution_count": 11,
     "metadata": {},
     "output_type": "execute_result"
    }
   ],
   "source": [
    "df_clusters.iloc[df_idx][['Category','Term']]"
   ]
  },
  {
   "cell_type": "code",
   "execution_count": 12,
   "id": "9fcacb9f",
   "metadata": {},
   "outputs": [
    {
     "data": {
      "text/plain": [
       "[0, 8, 17, 24, 31, 38, 43, 48, 53, 60, 66, 80, 86]"
      ]
     },
     "execution_count": 12,
     "metadata": {},
     "output_type": "execute_result"
    }
   ],
   "source": [
    "lst_idx = df_idx.tolist()\n",
    "lst_idx\n",
    "#df_idx[1]"
   ]
  },
  {
   "cell_type": "code",
   "execution_count": 13,
   "id": "19daddde",
   "metadata": {},
   "outputs": [
    {
     "name": "stdout",
     "output_type": "stream",
     "text": [
      "94\n",
      "86\n"
     ]
    }
   ],
   "source": [
    "# declare flags to control de idx (s)\n",
    "last_element_df = df_clusters.index.values[-1]\n",
    "last_cluster = lst_idx[-1]\n",
    "print(last_element_df)\n",
    "print(last_cluster)"
   ]
  },
  {
   "cell_type": "code",
   "execution_count": 14,
   "id": "63738016",
   "metadata": {
    "scrolled": false
   },
   "outputs": [
    {
     "name": "stdout",
     "output_type": "stream",
     "text": [
      "<built-in method index of str object at 0x7fc6112fdcb0>\n",
      "Clust_Name Original_Number_Of_Genes  Unique_Genes\n",
      "run0_clust_1 28 9\n",
      "run0_clust_2 22 4\n",
      "run0_clust_3 34 12\n",
      "run0_clust_4 23 11\n",
      "run0_clust_5 17 5\n",
      "run0_clust_6 13 7\n",
      "run0_clust_7 11 6\n",
      "run0_clust_8 14 6\n",
      "run0_clust_9 23 8\n",
      "run0_clust_10 15 5\n",
      "run0_clust_11 85 17\n",
      "run0_clust_12 28 14\n",
      "run0_clust_13 75 27\n"
     ]
    }
   ],
   "source": [
    "# parse the df_clusters to separate the clusters as:\n",
    "#   @clustx: cluster data\n",
    "#   @clust_unique_genes_0: list of unique genes in the cluster\n",
    "\n",
    "idx2 = 1\n",
    "last_element = df_clusters['Category'].iloc[-1].index\n",
    "print(last_element)\n",
    "iclust_num = 1\n",
    "\n",
    "lst_meta_data = []\n",
    "print('Clust_Name','Original_Number_Of_Genes ','Unique_Genes') \n",
    "for item in lst_idx: \n",
    "    if item == last_cluster:\n",
    "        #print(item)\n",
    "        tmp_idx2 = last_element_df + 1\n",
    "        #print(tmp_idx2)\n",
    "    else:\n",
    "        #print(item)\n",
    "        tmp_idx2 = lst_idx[idx2]  # - 1\n",
    "        #print(tmp_idx2)\n",
    "        idx2 = idx2 + 1\n",
    "    df_clust =  df_clusters.iloc[item:tmp_idx2] \n",
    "    #print(df_clust)\n",
    "    df_clust.to_csv(run + '_clust' + str(iclust_num), index=False, header=True)\n",
    "    \n",
    "    # get the unique genes of this cluster\n",
    "    lst_genes_tmp = df_clust['Genes'].to_list()\n",
    "    lst_genes = [item for item in lst_genes_tmp if not (pd.isnull(item) == True)] \n",
    "    lst_genes.pop(0)\n",
    "    #print(lst_genes)\n",
    "    #print(len(lst_genes))\n",
    "    lst_genes2 = []\n",
    "    for element in lst_genes:\n",
    "        tmp_genes2 = element.split(',')\n",
    "        for gen in tmp_genes2:\n",
    "            lst_genes2.append(gen)\n",
    "    #print(lst_genes2)\n",
    "    #print(len(lst_genes2))\n",
    "    uniqueGenes=set(lst_genes2)\n",
    "    #print(uniqueGenes)\n",
    "    name_clust = run + '_unique_genes_clust' + str(iclust_num)\n",
    "    # save the unique genes of this cluster to a txt file for further analysis\n",
    "    textfile = open(name_clust, \"w\")\n",
    "    for element in uniqueGenes:\n",
    "        textfile.write(element + \",\")\n",
    "    textfile.close()\n",
    "   \n",
    "    # summary\n",
    "    lst_meta_data.append(run + '_clust_' + str(iclust_num) + ' ' + str(len(lst_genes2)) + ' ' + str(len(uniqueGenes)))\n",
    "    print(run + '_clust_' + str(iclust_num) + ' ' + str(len(lst_genes2)) + ' ' + str(len(uniqueGenes))) \n",
    "    # walk to the next cluster\n",
    "    iclust_num = iclust_num + 1    "
   ]
  },
  {
   "cell_type": "code",
   "execution_count": 15,
   "id": "83cf615c",
   "metadata": {},
   "outputs": [
    {
     "data": {
      "text/plain": [
       "['run0_clust_1 28 9',\n",
       " 'run0_clust_2 22 4',\n",
       " 'run0_clust_3 34 12',\n",
       " 'run0_clust_4 23 11',\n",
       " 'run0_clust_5 17 5',\n",
       " 'run0_clust_6 13 7',\n",
       " 'run0_clust_7 11 6',\n",
       " 'run0_clust_8 14 6',\n",
       " 'run0_clust_9 23 8',\n",
       " 'run0_clust_10 15 5',\n",
       " 'run0_clust_11 85 17',\n",
       " 'run0_clust_12 28 14',\n",
       " 'run0_clust_13 75 27']"
      ]
     },
     "execution_count": 15,
     "metadata": {},
     "output_type": "execute_result"
    }
   ],
   "source": [
    "lst_meta_data"
   ]
  },
  {
   "cell_type": "code",
   "execution_count": 16,
   "id": "ed2c26c7",
   "metadata": {},
   "outputs": [],
   "source": [
    "df_meta = pd.DataFrame(lst_meta_data)\n",
    "df_meta.to_csv(run + '_meta-data_clusters', sep = '\\t', index=None, header = None)"
   ]
  },
  {
   "cell_type": "code",
   "execution_count": null,
   "id": "21a089d4",
   "metadata": {},
   "outputs": [],
   "source": []
  }
 ],
 "metadata": {
  "kernelspec": {
   "display_name": "Python 3 (ipykernel)",
   "language": "python",
   "name": "python3"
  },
  "language_info": {
   "codemirror_mode": {
    "name": "ipython",
    "version": 3
   },
   "file_extension": ".py",
   "mimetype": "text/x-python",
   "name": "python",
   "nbconvert_exporter": "python",
   "pygments_lexer": "ipython3",
   "version": "3.8.10"
  }
 },
 "nbformat": 4,
 "nbformat_minor": 5
}
