{
 "cells": [
  {
   "cell_type": "markdown",
   "metadata": {},
   "source": [
    "# Getting gene lenghts from GTF/GFF file.\n",
    "\n",
    "Made by: Cynthia Soto <br>\n",
    "Date: March 12nd 2021 <br>\n",
    "Last md: March 17th <br>\n",
    "\n",
    "**Assumptions:**<br>\n",
    "You have a GTF file to extract the get lengths (GTF or GFF file)  <br>"
   ]
  },
  {
   "cell_type": "code",
   "execution_count": 27,
   "metadata": {},
   "outputs": [],
   "source": [
    "# Libraries required\n",
    "import os \n",
    "#import glob\n",
    "import pandas as pd"
   ]
  },
  {
   "cell_type": "code",
   "execution_count": 28,
   "metadata": {},
   "outputs": [
    {
     "name": "stdout",
     "output_type": "stream",
     "text": [
      "Directory changed: /home/cyntsc/Proyectos/tesis-code/meta-xtrome-analysis/meta-data\n"
     ]
    }
   ],
   "source": [
    "try:\n",
    "    # Change the current working Directory      \n",
    "    os.chdir(\"/home/cyntsc/Proyectos/tesis-code/meta-xtrome-analysis/meta-data/\")\n",
    "    print(\"Directory changed:\", os.getcwd() )\n",
    "except OSError:\n",
    "    print(\"Can't change the Current Working Directory\")    \n",
    "s_path = str(os.getcwd())+'/*_Log2.csv'       \n",
    "#print(os.listdir(os.getcwd())       "
   ]
  },
  {
   "cell_type": "markdown",
   "metadata": {},
   "source": [
    "**Araport11_GFF3_genes_transposons.201606.gtf** es la ultima anotación liberada para el genoma **TAIR10** en Julio del 2016. En esta anotación se añadio información para 253 genes codificantes, informacion de mRNAs y lncRNAs, entre otras caracteristicas genómicas <br>\n",
    "La estimación de los valores de expresión fue realizada con **HTSeq** por lo que se utilizó una versión simplificada del archivo **gtf** llamada **gff** para cumplir con los requisitos de la herramienta de cuantificación (descargada de phytozone)<br> \n",
    "Para normalizar los datos y hacerlos comparables entre sí aplicaré la **normalización TPM**. La cual se calcula como sigue:\n",
    "![TPM](figuras_notebook/TPM.gif)"
   ]
  },
  {
   "cell_type": "markdown",
   "metadata": {},
   "source": [
    "Para aplicar esta normalización se requiere la **longitud del gen**, por lo que voy a filtrar las columnas 3,4,5 y 8 para extraer esta información, donde la longitud estará definida por la diferencia entre las columnas 4 y 5. <br>\n",
    "Nota que esto dará lugar a una generalización sobre las longitudes de los genes que no es necesariamente precisa, pero que sirve para hacer un primer análisis exploratorio de los datos. Existen otras formas de alcanzar este meta y todos los métodos existentes hoy en día presentan pros y contras:\n",
    "https://www.biostars.org/p/91218/#91233; https://www.biostars.org/p/112735/; https://www.biostars.org/p/294545/#294591 <br>\n",
    "![gene_annot_example](figuras_notebook/gene_annot_file.png)"
   ]
  },
  {
   "cell_type": "code",
   "execution_count": 47,
   "metadata": {},
   "outputs": [
    {
     "data": {
      "text/html": [
       "<div>\n",
       "<style scoped>\n",
       "    .dataframe tbody tr th:only-of-type {\n",
       "        vertical-align: middle;\n",
       "    }\n",
       "\n",
       "    .dataframe tbody tr th {\n",
       "        vertical-align: top;\n",
       "    }\n",
       "\n",
       "    .dataframe thead th {\n",
       "        text-align: right;\n",
       "    }\n",
       "</style>\n",
       "<table border=\"1\" class=\"dataframe\">\n",
       "  <thead>\n",
       "    <tr style=\"text-align: right;\">\n",
       "      <th></th>\n",
       "      <th>2</th>\n",
       "      <th>3</th>\n",
       "      <th>4</th>\n",
       "      <th>8</th>\n",
       "    </tr>\n",
       "  </thead>\n",
       "  <tbody>\n",
       "    <tr>\n",
       "      <th>0</th>\n",
       "      <td>transcript</td>\n",
       "      <td>3631</td>\n",
       "      <td>5899</td>\n",
       "      <td>transcript_id \"AT1G01010.1\"; gene_id \"AT1G01010\";</td>\n",
       "    </tr>\n",
       "    <tr>\n",
       "      <th>1</th>\n",
       "      <td>exon</td>\n",
       "      <td>3631</td>\n",
       "      <td>3913</td>\n",
       "      <td>transcript_id \"AT1G01010.1\"; gene_id \"AT1G01010\";</td>\n",
       "    </tr>\n",
       "    <tr>\n",
       "      <th>2</th>\n",
       "      <td>exon</td>\n",
       "      <td>3996</td>\n",
       "      <td>4276</td>\n",
       "      <td>transcript_id \"AT1G01010.1\"; gene_id \"AT1G01010\";</td>\n",
       "    </tr>\n",
       "    <tr>\n",
       "      <th>3</th>\n",
       "      <td>exon</td>\n",
       "      <td>4486</td>\n",
       "      <td>4605</td>\n",
       "      <td>transcript_id \"AT1G01010.1\"; gene_id \"AT1G01010\";</td>\n",
       "    </tr>\n",
       "    <tr>\n",
       "      <th>4</th>\n",
       "      <td>exon</td>\n",
       "      <td>4706</td>\n",
       "      <td>5095</td>\n",
       "      <td>transcript_id \"AT1G01010.1\"; gene_id \"AT1G01010\";</td>\n",
       "    </tr>\n",
       "    <tr>\n",
       "      <th>...</th>\n",
       "      <td>...</td>\n",
       "      <td>...</td>\n",
       "      <td>...</td>\n",
       "      <td>...</td>\n",
       "    </tr>\n",
       "    <tr>\n",
       "      <th>668992</th>\n",
       "      <td>exon</td>\n",
       "      <td>363725</td>\n",
       "      <td>364042</td>\n",
       "      <td>transcript_id \"ATMG01400.1\"; gene_id \"ATMG01400\";</td>\n",
       "    </tr>\n",
       "    <tr>\n",
       "      <th>668993</th>\n",
       "      <td>CDS</td>\n",
       "      <td>363725</td>\n",
       "      <td>364042</td>\n",
       "      <td>transcript_id \"ATMG01400.1\"; gene_id \"ATMG01400\";</td>\n",
       "    </tr>\n",
       "    <tr>\n",
       "      <th>668994</th>\n",
       "      <td>transcript</td>\n",
       "      <td>366086</td>\n",
       "      <td>366700</td>\n",
       "      <td>transcript_id \"ATMG01410.1\"; gene_id \"ATMG01410\";</td>\n",
       "    </tr>\n",
       "    <tr>\n",
       "      <th>668995</th>\n",
       "      <td>exon</td>\n",
       "      <td>366086</td>\n",
       "      <td>366700</td>\n",
       "      <td>transcript_id \"ATMG01410.1\"; gene_id \"ATMG01410\";</td>\n",
       "    </tr>\n",
       "    <tr>\n",
       "      <th>668996</th>\n",
       "      <td>CDS</td>\n",
       "      <td>366086</td>\n",
       "      <td>366700</td>\n",
       "      <td>transcript_id \"ATMG01410.1\"; gene_id \"ATMG01410\";</td>\n",
       "    </tr>\n",
       "  </tbody>\n",
       "</table>\n",
       "<p>668997 rows × 4 columns</p>\n",
       "</div>"
      ],
      "text/plain": [
       "                 2       3       4  \\\n",
       "0       transcript    3631    5899   \n",
       "1             exon    3631    3913   \n",
       "2             exon    3996    4276   \n",
       "3             exon    4486    4605   \n",
       "4             exon    4706    5095   \n",
       "...            ...     ...     ...   \n",
       "668992        exon  363725  364042   \n",
       "668993         CDS  363725  364042   \n",
       "668994  transcript  366086  366700   \n",
       "668995        exon  366086  366700   \n",
       "668996         CDS  366086  366700   \n",
       "\n",
       "                                                        8  \n",
       "0       transcript_id \"AT1G01010.1\"; gene_id \"AT1G01010\";  \n",
       "1       transcript_id \"AT1G01010.1\"; gene_id \"AT1G01010\";  \n",
       "2       transcript_id \"AT1G01010.1\"; gene_id \"AT1G01010\";  \n",
       "3       transcript_id \"AT1G01010.1\"; gene_id \"AT1G01010\";  \n",
       "4       transcript_id \"AT1G01010.1\"; gene_id \"AT1G01010\";  \n",
       "...                                                   ...  \n",
       "668992  transcript_id \"ATMG01400.1\"; gene_id \"ATMG01400\";  \n",
       "668993  transcript_id \"ATMG01400.1\"; gene_id \"ATMG01400\";  \n",
       "668994  transcript_id \"ATMG01410.1\"; gene_id \"ATMG01410\";  \n",
       "668995  transcript_id \"ATMG01410.1\"; gene_id \"ATMG01410\";  \n",
       "668996  transcript_id \"ATMG01410.1\"; gene_id \"ATMG01410\";  \n",
       "\n",
       "[668997 rows x 4 columns]"
      ]
     },
     "execution_count": 47,
     "metadata": {},
     "output_type": "execute_result"
    }
   ],
   "source": [
    "df=pd.read_csv(\"Araport11_GFF3_genes_transposons.201606.gtf\", header=None, usecols=[2,3,4,8], sep='\\t')    ## ,nrows=100  usecols=[1,3] / Araport11_GFF3.gff\n",
    "df\n",
    "## el valor de la columna 2 contiene las caracteristicas (feature) genómicas. \n",
    "## el valor \"CDS\" contiene la longitud máxima del gen, que deberá ser calculada con: columna 4 - columna 3"
   ]
  },
  {
   "cell_type": "code",
   "execution_count": 48,
   "metadata": {},
   "outputs": [],
   "source": [
    "## filtering by column 2 which contains the available features\n",
    "f_genes = df[2]=='CDS' # \n",
    "df1 = df[f_genes]"
   ]
  },
  {
   "cell_type": "code",
   "execution_count": 49,
   "metadata": {},
   "outputs": [
    {
     "name": "stdout",
     "output_type": "stream",
     "text": [
      "(286355, 4)\n"
     ]
    },
    {
     "data": {
      "text/html": [
       "<div>\n",
       "<style scoped>\n",
       "    .dataframe tbody tr th:only-of-type {\n",
       "        vertical-align: middle;\n",
       "    }\n",
       "\n",
       "    .dataframe tbody tr th {\n",
       "        vertical-align: top;\n",
       "    }\n",
       "\n",
       "    .dataframe thead th {\n",
       "        text-align: right;\n",
       "    }\n",
       "</style>\n",
       "<table border=\"1\" class=\"dataframe\">\n",
       "  <thead>\n",
       "    <tr style=\"text-align: right;\">\n",
       "      <th></th>\n",
       "      <th>2</th>\n",
       "      <th>3</th>\n",
       "      <th>4</th>\n",
       "      <th>8</th>\n",
       "    </tr>\n",
       "  </thead>\n",
       "  <tbody>\n",
       "    <tr>\n",
       "      <th>7</th>\n",
       "      <td>CDS</td>\n",
       "      <td>3760</td>\n",
       "      <td>3913</td>\n",
       "      <td>transcript_id \"AT1G01010.1\"; gene_id \"AT1G01010\";</td>\n",
       "    </tr>\n",
       "    <tr>\n",
       "      <th>8</th>\n",
       "      <td>CDS</td>\n",
       "      <td>3996</td>\n",
       "      <td>4276</td>\n",
       "      <td>transcript_id \"AT1G01010.1\"; gene_id \"AT1G01010\";</td>\n",
       "    </tr>\n",
       "    <tr>\n",
       "      <th>9</th>\n",
       "      <td>CDS</td>\n",
       "      <td>4486</td>\n",
       "      <td>4605</td>\n",
       "      <td>transcript_id \"AT1G01010.1\"; gene_id \"AT1G01010\";</td>\n",
       "    </tr>\n",
       "    <tr>\n",
       "      <th>10</th>\n",
       "      <td>CDS</td>\n",
       "      <td>4706</td>\n",
       "      <td>5095</td>\n",
       "      <td>transcript_id \"AT1G01010.1\"; gene_id \"AT1G01010\";</td>\n",
       "    </tr>\n",
       "    <tr>\n",
       "      <th>11</th>\n",
       "      <td>CDS</td>\n",
       "      <td>5174</td>\n",
       "      <td>5326</td>\n",
       "      <td>transcript_id \"AT1G01010.1\"; gene_id \"AT1G01010\";</td>\n",
       "    </tr>\n",
       "    <tr>\n",
       "      <th>12</th>\n",
       "      <td>CDS</td>\n",
       "      <td>5439</td>\n",
       "      <td>5630</td>\n",
       "      <td>transcript_id \"AT1G01010.1\"; gene_id \"AT1G01010\";</td>\n",
       "    </tr>\n",
       "    <tr>\n",
       "      <th>22</th>\n",
       "      <td>CDS</td>\n",
       "      <td>7315</td>\n",
       "      <td>7450</td>\n",
       "      <td>transcript_id \"AT1G01020.2\"; gene_id \"AT1G01020\";</td>\n",
       "    </tr>\n",
       "  </tbody>\n",
       "</table>\n",
       "</div>"
      ],
      "text/plain": [
       "      2     3     4                                                  8\n",
       "7   CDS  3760  3913  transcript_id \"AT1G01010.1\"; gene_id \"AT1G01010\";\n",
       "8   CDS  3996  4276  transcript_id \"AT1G01010.1\"; gene_id \"AT1G01010\";\n",
       "9   CDS  4486  4605  transcript_id \"AT1G01010.1\"; gene_id \"AT1G01010\";\n",
       "10  CDS  4706  5095  transcript_id \"AT1G01010.1\"; gene_id \"AT1G01010\";\n",
       "11  CDS  5174  5326  transcript_id \"AT1G01010.1\"; gene_id \"AT1G01010\";\n",
       "12  CDS  5439  5630  transcript_id \"AT1G01010.1\"; gene_id \"AT1G01010\";\n",
       "22  CDS  7315  7450  transcript_id \"AT1G01020.2\"; gene_id \"AT1G01020\";"
      ]
     },
     "execution_count": 49,
     "metadata": {},
     "output_type": "execute_result"
    }
   ],
   "source": [
    "print(df1.shape)\n",
    "df1.head(7)"
   ]
  },
  {
   "cell_type": "code",
   "execution_count": 50,
   "metadata": {},
   "outputs": [
    {
     "data": {
      "text/html": [
       "<div>\n",
       "<style scoped>\n",
       "    .dataframe tbody tr th:only-of-type {\n",
       "        vertical-align: middle;\n",
       "    }\n",
       "\n",
       "    .dataframe tbody tr th {\n",
       "        vertical-align: top;\n",
       "    }\n",
       "\n",
       "    .dataframe thead th {\n",
       "        text-align: right;\n",
       "    }\n",
       "</style>\n",
       "<table border=\"1\" class=\"dataframe\">\n",
       "  <thead>\n",
       "    <tr style=\"text-align: right;\">\n",
       "      <th></th>\n",
       "      <th>Feature</th>\n",
       "      <th>Start</th>\n",
       "      <th>End</th>\n",
       "      <th>Description</th>\n",
       "    </tr>\n",
       "  </thead>\n",
       "  <tbody>\n",
       "    <tr>\n",
       "      <th>7</th>\n",
       "      <td>CDS</td>\n",
       "      <td>3760</td>\n",
       "      <td>3913</td>\n",
       "      <td>transcript_id \"AT1G01010.1\"; gene_id \"AT1G01010\";</td>\n",
       "    </tr>\n",
       "    <tr>\n",
       "      <th>8</th>\n",
       "      <td>CDS</td>\n",
       "      <td>3996</td>\n",
       "      <td>4276</td>\n",
       "      <td>transcript_id \"AT1G01010.1\"; gene_id \"AT1G01010\";</td>\n",
       "    </tr>\n",
       "    <tr>\n",
       "      <th>9</th>\n",
       "      <td>CDS</td>\n",
       "      <td>4486</td>\n",
       "      <td>4605</td>\n",
       "      <td>transcript_id \"AT1G01010.1\"; gene_id \"AT1G01010\";</td>\n",
       "    </tr>\n",
       "    <tr>\n",
       "      <th>10</th>\n",
       "      <td>CDS</td>\n",
       "      <td>4706</td>\n",
       "      <td>5095</td>\n",
       "      <td>transcript_id \"AT1G01010.1\"; gene_id \"AT1G01010\";</td>\n",
       "    </tr>\n",
       "    <tr>\n",
       "      <th>11</th>\n",
       "      <td>CDS</td>\n",
       "      <td>5174</td>\n",
       "      <td>5326</td>\n",
       "      <td>transcript_id \"AT1G01010.1\"; gene_id \"AT1G01010\";</td>\n",
       "    </tr>\n",
       "  </tbody>\n",
       "</table>\n",
       "</div>"
      ],
      "text/plain": [
       "   Feature  Start   End                                        Description\n",
       "7      CDS   3760  3913  transcript_id \"AT1G01010.1\"; gene_id \"AT1G01010\";\n",
       "8      CDS   3996  4276  transcript_id \"AT1G01010.1\"; gene_id \"AT1G01010\";\n",
       "9      CDS   4486  4605  transcript_id \"AT1G01010.1\"; gene_id \"AT1G01010\";\n",
       "10     CDS   4706  5095  transcript_id \"AT1G01010.1\"; gene_id \"AT1G01010\";\n",
       "11     CDS   5174  5326  transcript_id \"AT1G01010.1\"; gene_id \"AT1G01010\";"
      ]
     },
     "execution_count": 50,
     "metadata": {},
     "output_type": "execute_result"
    }
   ],
   "source": [
    "df1.columns = ['Feature','Start','End','Description']\n",
    "df1.head(5)"
   ]
  },
  {
   "cell_type": "code",
   "execution_count": 51,
   "metadata": {},
   "outputs": [
    {
     "data": {
      "text/html": [
       "<div>\n",
       "<style scoped>\n",
       "    .dataframe tbody tr th:only-of-type {\n",
       "        vertical-align: middle;\n",
       "    }\n",
       "\n",
       "    .dataframe tbody tr th {\n",
       "        vertical-align: top;\n",
       "    }\n",
       "\n",
       "    .dataframe thead th {\n",
       "        text-align: right;\n",
       "    }\n",
       "</style>\n",
       "<table border=\"1\" class=\"dataframe\">\n",
       "  <thead>\n",
       "    <tr style=\"text-align: right;\">\n",
       "      <th></th>\n",
       "      <th>0</th>\n",
       "      <th>1</th>\n",
       "    </tr>\n",
       "  </thead>\n",
       "  <tbody>\n",
       "    <tr>\n",
       "      <th>7</th>\n",
       "      <td>transcript_id \"AT1G01010.1\";</td>\n",
       "      <td>AT1G01010\";</td>\n",
       "    </tr>\n",
       "    <tr>\n",
       "      <th>8</th>\n",
       "      <td>transcript_id \"AT1G01010.1\";</td>\n",
       "      <td>AT1G01010\";</td>\n",
       "    </tr>\n",
       "    <tr>\n",
       "      <th>9</th>\n",
       "      <td>transcript_id \"AT1G01010.1\";</td>\n",
       "      <td>AT1G01010\";</td>\n",
       "    </tr>\n",
       "  </tbody>\n",
       "</table>\n",
       "</div>"
      ],
      "text/plain": [
       "                              0            1\n",
       "7  transcript_id \"AT1G01010.1\";  AT1G01010\";\n",
       "8  transcript_id \"AT1G01010.1\";  AT1G01010\";\n",
       "9  transcript_id \"AT1G01010.1\";  AT1G01010\";"
      ]
     },
     "execution_count": 51,
     "metadata": {},
     "output_type": "execute_result"
    }
   ],
   "source": [
    "## split the 'Description' field to get the gene_id alone\n",
    "df_gene = df1[\"Description\"].str.split(' gene_id \"', n = 1, expand = True) #,  expand = True\n",
    "df_gene.head(3)"
   ]
  },
  {
   "cell_type": "code",
   "execution_count": 52,
   "metadata": {},
   "outputs": [
    {
     "name": "stderr",
     "output_type": "stream",
     "text": [
      "/home/cyntsc/Proyectos/tesis-code/jn_tesis_env/lib/python3.6/site-packages/ipykernel_launcher.py:2: SettingWithCopyWarning: \n",
      "A value is trying to be set on a copy of a slice from a DataFrame.\n",
      "Try using .loc[row_indexer,col_indexer] = value instead\n",
      "\n",
      "See the caveats in the documentation: https://pandas.pydata.org/pandas-docs/stable/user_guide/indexing.html#returning-a-view-versus-a-copy\n",
      "  \n",
      "/home/cyntsc/Proyectos/tesis-code/jn_tesis_env/lib/python3.6/site-packages/pandas/core/frame.py:3997: SettingWithCopyWarning: \n",
      "A value is trying to be set on a copy of a slice from a DataFrame\n",
      "\n",
      "See the caveats in the documentation: https://pandas.pydata.org/pandas-docs/stable/user_guide/indexing.html#returning-a-view-versus-a-copy\n",
      "  errors=errors,\n"
     ]
    },
    {
     "data": {
      "text/html": [
       "<div>\n",
       "<style scoped>\n",
       "    .dataframe tbody tr th:only-of-type {\n",
       "        vertical-align: middle;\n",
       "    }\n",
       "\n",
       "    .dataframe tbody tr th {\n",
       "        vertical-align: top;\n",
       "    }\n",
       "\n",
       "    .dataframe thead th {\n",
       "        text-align: right;\n",
       "    }\n",
       "</style>\n",
       "<table border=\"1\" class=\"dataframe\">\n",
       "  <thead>\n",
       "    <tr style=\"text-align: right;\">\n",
       "      <th></th>\n",
       "      <th>Feature</th>\n",
       "      <th>Start</th>\n",
       "      <th>End</th>\n",
       "      <th>Name_gene</th>\n",
       "    </tr>\n",
       "  </thead>\n",
       "  <tbody>\n",
       "    <tr>\n",
       "      <th>7</th>\n",
       "      <td>CDS</td>\n",
       "      <td>3760</td>\n",
       "      <td>3913</td>\n",
       "      <td>AT1G01010\";</td>\n",
       "    </tr>\n",
       "    <tr>\n",
       "      <th>8</th>\n",
       "      <td>CDS</td>\n",
       "      <td>3996</td>\n",
       "      <td>4276</td>\n",
       "      <td>AT1G01010\";</td>\n",
       "    </tr>\n",
       "    <tr>\n",
       "      <th>9</th>\n",
       "      <td>CDS</td>\n",
       "      <td>4486</td>\n",
       "      <td>4605</td>\n",
       "      <td>AT1G01010\";</td>\n",
       "    </tr>\n",
       "  </tbody>\n",
       "</table>\n",
       "</div>"
      ],
      "text/plain": [
       "  Feature  Start   End    Name_gene\n",
       "7     CDS   3760  3913  AT1G01010\";\n",
       "8     CDS   3996  4276  AT1G01010\";\n",
       "9     CDS   4486  4605  AT1G01010\";"
      ]
     },
     "execution_count": 52,
     "metadata": {},
     "output_type": "execute_result"
    }
   ],
   "source": [
    "# making separate first name column from new data frame \n",
    "df1[\"Name_gene\"] = df_gene[1]\n",
    "df1.drop(columns = ['Description'], inplace = True) \n",
    "df1.head(3)"
   ]
  },
  {
   "cell_type": "code",
   "execution_count": 53,
   "metadata": {},
   "outputs": [
    {
     "data": {
      "text/html": [
       "<div>\n",
       "<style scoped>\n",
       "    .dataframe tbody tr th:only-of-type {\n",
       "        vertical-align: middle;\n",
       "    }\n",
       "\n",
       "    .dataframe tbody tr th {\n",
       "        vertical-align: top;\n",
       "    }\n",
       "\n",
       "    .dataframe thead th {\n",
       "        text-align: right;\n",
       "    }\n",
       "</style>\n",
       "<table border=\"1\" class=\"dataframe\">\n",
       "  <thead>\n",
       "    <tr style=\"text-align: right;\">\n",
       "      <th></th>\n",
       "      <th>0</th>\n",
       "      <th>1</th>\n",
       "    </tr>\n",
       "  </thead>\n",
       "  <tbody>\n",
       "    <tr>\n",
       "      <th>7</th>\n",
       "      <td>AT1G01010</td>\n",
       "      <td>;</td>\n",
       "    </tr>\n",
       "    <tr>\n",
       "      <th>8</th>\n",
       "      <td>AT1G01010</td>\n",
       "      <td>;</td>\n",
       "    </tr>\n",
       "    <tr>\n",
       "      <th>9</th>\n",
       "      <td>AT1G01010</td>\n",
       "      <td>;</td>\n",
       "    </tr>\n",
       "    <tr>\n",
       "      <th>10</th>\n",
       "      <td>AT1G01010</td>\n",
       "      <td>;</td>\n",
       "    </tr>\n",
       "    <tr>\n",
       "      <th>11</th>\n",
       "      <td>AT1G01010</td>\n",
       "      <td>;</td>\n",
       "    </tr>\n",
       "  </tbody>\n",
       "</table>\n",
       "</div>"
      ],
      "text/plain": [
       "            0  1\n",
       "7   AT1G01010  ;\n",
       "8   AT1G01010  ;\n",
       "9   AT1G01010  ;\n",
       "10  AT1G01010  ;\n",
       "11  AT1G01010  ;"
      ]
     },
     "execution_count": 53,
     "metadata": {},
     "output_type": "execute_result"
    }
   ],
   "source": [
    "df_gene = df1[\"Name_gene\"].str.split('\"', n = 1, expand = True) \n",
    "df_gene.head(5)"
   ]
  },
  {
   "cell_type": "code",
   "execution_count": 54,
   "metadata": {},
   "outputs": [
    {
     "name": "stderr",
     "output_type": "stream",
     "text": [
      "/home/cyntsc/Proyectos/tesis-code/jn_tesis_env/lib/python3.6/site-packages/ipykernel_launcher.py:1: SettingWithCopyWarning: \n",
      "A value is trying to be set on a copy of a slice from a DataFrame.\n",
      "Try using .loc[row_indexer,col_indexer] = value instead\n",
      "\n",
      "See the caveats in the documentation: https://pandas.pydata.org/pandas-docs/stable/user_guide/indexing.html#returning-a-view-versus-a-copy\n",
      "  \"\"\"Entry point for launching an IPython kernel.\n",
      "/home/cyntsc/Proyectos/tesis-code/jn_tesis_env/lib/python3.6/site-packages/pandas/core/frame.py:3997: SettingWithCopyWarning: \n",
      "A value is trying to be set on a copy of a slice from a DataFrame\n",
      "\n",
      "See the caveats in the documentation: https://pandas.pydata.org/pandas-docs/stable/user_guide/indexing.html#returning-a-view-versus-a-copy\n",
      "  errors=errors,\n"
     ]
    },
    {
     "data": {
      "text/html": [
       "<div>\n",
       "<style scoped>\n",
       "    .dataframe tbody tr th:only-of-type {\n",
       "        vertical-align: middle;\n",
       "    }\n",
       "\n",
       "    .dataframe tbody tr th {\n",
       "        vertical-align: top;\n",
       "    }\n",
       "\n",
       "    .dataframe thead th {\n",
       "        text-align: right;\n",
       "    }\n",
       "</style>\n",
       "<table border=\"1\" class=\"dataframe\">\n",
       "  <thead>\n",
       "    <tr style=\"text-align: right;\">\n",
       "      <th></th>\n",
       "      <th>Feature</th>\n",
       "      <th>Start</th>\n",
       "      <th>End</th>\n",
       "      <th>Genes</th>\n",
       "    </tr>\n",
       "  </thead>\n",
       "  <tbody>\n",
       "    <tr>\n",
       "      <th>7</th>\n",
       "      <td>CDS</td>\n",
       "      <td>3760</td>\n",
       "      <td>3913</td>\n",
       "      <td>AT1G01010</td>\n",
       "    </tr>\n",
       "    <tr>\n",
       "      <th>8</th>\n",
       "      <td>CDS</td>\n",
       "      <td>3996</td>\n",
       "      <td>4276</td>\n",
       "      <td>AT1G01010</td>\n",
       "    </tr>\n",
       "    <tr>\n",
       "      <th>9</th>\n",
       "      <td>CDS</td>\n",
       "      <td>4486</td>\n",
       "      <td>4605</td>\n",
       "      <td>AT1G01010</td>\n",
       "    </tr>\n",
       "    <tr>\n",
       "      <th>10</th>\n",
       "      <td>CDS</td>\n",
       "      <td>4706</td>\n",
       "      <td>5095</td>\n",
       "      <td>AT1G01010</td>\n",
       "    </tr>\n",
       "    <tr>\n",
       "      <th>11</th>\n",
       "      <td>CDS</td>\n",
       "      <td>5174</td>\n",
       "      <td>5326</td>\n",
       "      <td>AT1G01010</td>\n",
       "    </tr>\n",
       "  </tbody>\n",
       "</table>\n",
       "</div>"
      ],
      "text/plain": [
       "   Feature  Start   End      Genes\n",
       "7      CDS   3760  3913  AT1G01010\n",
       "8      CDS   3996  4276  AT1G01010\n",
       "9      CDS   4486  4605  AT1G01010\n",
       "10     CDS   4706  5095  AT1G01010\n",
       "11     CDS   5174  5326  AT1G01010"
      ]
     },
     "execution_count": 54,
     "metadata": {},
     "output_type": "execute_result"
    }
   ],
   "source": [
    "df1['Genes']=df_gene[0]\n",
    "df1.drop(columns = ['Name_gene'], inplace = True) \n",
    "df1.head(5)"
   ]
  },
  {
   "cell_type": "markdown",
   "metadata": {},
   "source": [
    "### Jump to the aggregation functions to do it faster\n",
    "Or do it by step by step"
   ]
  },
  {
   "cell_type": "code",
   "execution_count": 55,
   "metadata": {},
   "outputs": [],
   "source": [
    "#df_gene_len = df1.groupby(['Genes','Feature','Start','End'])[\"ID\"].count()\n",
    "#df_gene_len.head(20)"
   ]
  },
  {
   "cell_type": "code",
   "execution_count": 56,
   "metadata": {},
   "outputs": [
    {
     "data": {
      "text/plain": [
       "Genes\n",
       "AT1G01010     6\n",
       "AT1G01020    42\n",
       "AT1G01030     3\n",
       "AT1G01040    40\n",
       "AT1G01050    16\n",
       "AT1G01060    56\n",
       "AT1G01070    11\n",
       "AT1G01080    11\n",
       "AT1G01090     3\n",
       "AT1G01100    13\n",
       "Name: Genes, dtype: int64"
      ]
     },
     "execution_count": 56,
     "metadata": {},
     "output_type": "execute_result"
    }
   ],
   "source": [
    "## grouping by ID to know the distributions based on the length\n",
    "s_by_gene = df1.groupby(\"Genes\")[\"Genes\"].count()\n",
    "s_by_gene.head(10)"
   ]
  },
  {
   "cell_type": "code",
   "execution_count": 57,
   "metadata": {},
   "outputs": [
    {
     "data": {
      "text/plain": [
       "27655"
      ]
     },
     "execution_count": 57,
     "metadata": {},
     "output_type": "execute_result"
    }
   ],
   "source": [
    "## checking if number of features is correct\n",
    "#print(s_by_gene.dtypes)\n",
    "len(s_by_gene)"
   ]
  },
  {
   "cell_type": "code",
   "execution_count": 58,
   "metadata": {},
   "outputs": [
    {
     "name": "stdout",
     "output_type": "stream",
     "text": [
      "Genes\n",
      "ATMG01410    1\n",
      "AT2G16570    1\n",
      "AT5G07545    1\n",
      "AT2G16500    1\n",
      "AT2G16450    1\n",
      "AT5G07572    1\n",
      "AT5G07580    1\n",
      "AT5G07610    1\n",
      "AT2G16280    1\n",
      "AT2G16220    1\n",
      "Name: Genes, dtype: int64\n",
      "Genes\n",
      "AT5G27970    222\n",
      "AT3G57410    224\n",
      "AT3G08840    234\n",
      "AT1G20060    235\n",
      "AT5G24740    271\n",
      "AT4G15215    273\n",
      "AT5G06120    283\n",
      "AT1G24706    288\n",
      "AT2G33240    324\n",
      "AT1G48090    381\n",
      "Name: Genes, dtype: int64\n"
     ]
    }
   ],
   "source": [
    "## a taste of information about data\n",
    "s_by_gene.sort_values(inplace=True)\n",
    "print(s_by_gene.head(10))\n",
    "print(s_by_gene.tail(10))"
   ]
  },
  {
   "cell_type": "code",
   "execution_count": 59,
   "metadata": {},
   "outputs": [
    {
     "name": "stdout",
     "output_type": "stream",
     "text": [
      "381\n",
      "1\n"
     ]
    }
   ],
   "source": [
    "print(s_by_gene.max())\n",
    "print(s_by_gene.min())"
   ]
  },
  {
   "cell_type": "code",
   "execution_count": 60,
   "metadata": {},
   "outputs": [
    {
     "data": {
      "image/png": "[encoded data removed]",
      "text/plain": [
       "<Figure size 432x288 with 1 Axes>"
      ]
     },
     "metadata": {
      "needs_background": "light"
     },
     "output_type": "display_data"
    }
   ],
   "source": [
    "#ax = s_by_gene.plot.kde(bw_method=1)   #bw_method=0.5\n",
    "#ax = s_by_gene.plot.box()\n",
    "ax = s_by_gene.plot.hist(bins=100, alpha=0.5)"
   ]
  },
  {
   "cell_type": "code",
   "execution_count": 61,
   "metadata": {},
   "outputs": [
    {
     "data": {
      "text/plain": [
       "<AxesSubplot:ylabel='Frequency'>"
      ]
     },
     "execution_count": 61,
     "metadata": {},
     "output_type": "execute_result"
    },
    {
     "data": {
      "image/png": "[encoded data removed]",
      "text/plain": [
       "<Figure size 432x288 with 1 Axes>"
      ]
     },
     "metadata": {
      "needs_background": "light"
     },
     "output_type": "display_data"
    }
   ],
   "source": [
    "s_by_gene.plot.hist()"
   ]
  },
  {
   "cell_type": "markdown",
   "metadata": {},
   "source": [
    "### aggregation functions\n",
    "Calculating the gene length"
   ]
  },
  {
   "cell_type": "code",
   "execution_count": 62,
   "metadata": {},
   "outputs": [
    {
     "data": {
      "text/html": [
       "<div>\n",
       "<style scoped>\n",
       "    .dataframe tbody tr th:only-of-type {\n",
       "        vertical-align: middle;\n",
       "    }\n",
       "\n",
       "    .dataframe tbody tr th {\n",
       "        vertical-align: top;\n",
       "    }\n",
       "\n",
       "    .dataframe thead tr th {\n",
       "        text-align: left;\n",
       "    }\n",
       "\n",
       "    .dataframe thead tr:last-of-type th {\n",
       "        text-align: right;\n",
       "    }\n",
       "</style>\n",
       "<table border=\"1\" class=\"dataframe\">\n",
       "  <thead>\n",
       "    <tr>\n",
       "      <th></th>\n",
       "      <th>End</th>\n",
       "    </tr>\n",
       "    <tr>\n",
       "      <th></th>\n",
       "      <th>max</th>\n",
       "    </tr>\n",
       "    <tr>\n",
       "      <th>Genes</th>\n",
       "      <th></th>\n",
       "    </tr>\n",
       "  </thead>\n",
       "  <tbody>\n",
       "    <tr>\n",
       "      <th>AT1G01010</th>\n",
       "      <td>5630</td>\n",
       "    </tr>\n",
       "    <tr>\n",
       "      <th>AT1G01020</th>\n",
       "      <td>8666</td>\n",
       "    </tr>\n",
       "    <tr>\n",
       "      <th>AT1G01030</th>\n",
       "      <td>12940</td>\n",
       "    </tr>\n",
       "    <tr>\n",
       "      <th>AT1G01040</th>\n",
       "      <td>31079</td>\n",
       "    </tr>\n",
       "    <tr>\n",
       "      <th>AT1G01050</th>\n",
       "      <td>32670</td>\n",
       "    </tr>\n",
       "  </tbody>\n",
       "</table>\n",
       "</div>"
      ],
      "text/plain": [
       "             End\n",
       "             max\n",
       "Genes           \n",
       "AT1G01010   5630\n",
       "AT1G01020   8666\n",
       "AT1G01030  12940\n",
       "AT1G01040  31079\n",
       "AT1G01050  32670"
      ]
     },
     "execution_count": 62,
     "metadata": {},
     "output_type": "execute_result"
    }
   ],
   "source": [
    "s_by_gene_min = df1.groupby(\"Genes\").agg({'Start': ['min']})\n",
    "s_by_gene_max = df1.groupby(\"Genes\").agg({'End': ['max']})\n",
    "s_by_gene_max.head(5)"
   ]
  },
  {
   "cell_type": "markdown",
   "metadata": {},
   "source": [
    "### The custom functions to calculate the gen length"
   ]
  },
  {
   "cell_type": "code",
   "execution_count": 64,
   "metadata": {},
   "outputs": [],
   "source": [
    "##  This function calculated the gene length from a file previously filtered by genomic feature. \n",
    "##  custom function that returns a Series of all the aggregations. \n",
    "##  Use the Series index as labels for the new columns\n",
    "##        @x parameter is a dataframe containing the feature's lengths\n",
    "##  Return:\n",
    "##        @pd.series is a df with the calculated values into new columns\n",
    "\n",
    "def f(x):\n",
    "    d = {}\n",
    "    d['min'] = x['Start'].min()            #get the minimun value from each subgrouped set \n",
    "    d['max'] = x['End'].max()              #get the maximun value from each subgrouped set \n",
    "    d['gen_len'] = (d['max'] - d['min']) + 1      # difference btw data series \n",
    "    return pd.Series(d, index=['min', 'max', 'gen_len'])   #index as new column in the df"
   ]
  },
  {
   "cell_type": "code",
   "execution_count": 65,
   "metadata": {},
   "outputs": [],
   "source": [
    "## call the agg function\n",
    "df_gene_len = df1.groupby(\"Genes\").apply(f)"
   ]
  },
  {
   "cell_type": "code",
   "execution_count": 66,
   "metadata": {},
   "outputs": [
    {
     "data": {
      "text/html": [
       "<div>\n",
       "<style scoped>\n",
       "    .dataframe tbody tr th:only-of-type {\n",
       "        vertical-align: middle;\n",
       "    }\n",
       "\n",
       "    .dataframe tbody tr th {\n",
       "        vertical-align: top;\n",
       "    }\n",
       "\n",
       "    .dataframe thead th {\n",
       "        text-align: right;\n",
       "    }\n",
       "</style>\n",
       "<table border=\"1\" class=\"dataframe\">\n",
       "  <thead>\n",
       "    <tr style=\"text-align: right;\">\n",
       "      <th></th>\n",
       "      <th>min</th>\n",
       "      <th>max</th>\n",
       "      <th>gen_len</th>\n",
       "    </tr>\n",
       "    <tr>\n",
       "      <th>Genes</th>\n",
       "      <th></th>\n",
       "      <th></th>\n",
       "      <th></th>\n",
       "    </tr>\n",
       "  </thead>\n",
       "  <tbody>\n",
       "    <tr>\n",
       "      <th>AT1G01010</th>\n",
       "      <td>3760</td>\n",
       "      <td>5630</td>\n",
       "      <td>1871</td>\n",
       "    </tr>\n",
       "    <tr>\n",
       "      <th>AT1G01020</th>\n",
       "      <td>6915</td>\n",
       "      <td>8666</td>\n",
       "      <td>1752</td>\n",
       "    </tr>\n",
       "    <tr>\n",
       "      <th>AT1G01030</th>\n",
       "      <td>11864</td>\n",
       "      <td>12940</td>\n",
       "      <td>1077</td>\n",
       "    </tr>\n",
       "    <tr>\n",
       "      <th>AT1G01040</th>\n",
       "      <td>23519</td>\n",
       "      <td>31079</td>\n",
       "      <td>7561</td>\n",
       "    </tr>\n",
       "    <tr>\n",
       "      <th>AT1G01050</th>\n",
       "      <td>31382</td>\n",
       "      <td>32670</td>\n",
       "      <td>1289</td>\n",
       "    </tr>\n",
       "  </tbody>\n",
       "</table>\n",
       "</div>"
      ],
      "text/plain": [
       "             min    max  gen_len\n",
       "Genes                           \n",
       "AT1G01010   3760   5630     1871\n",
       "AT1G01020   6915   8666     1752\n",
       "AT1G01030  11864  12940     1077\n",
       "AT1G01040  23519  31079     7561\n",
       "AT1G01050  31382  32670     1289"
      ]
     },
     "execution_count": 66,
     "metadata": {},
     "output_type": "execute_result"
    }
   ],
   "source": [
    "df_gene_len.head(5)"
   ]
  },
  {
   "cell_type": "code",
   "execution_count": 67,
   "metadata": {},
   "outputs": [
    {
     "data": {
      "text/html": [
       "<div>\n",
       "<style scoped>\n",
       "    .dataframe tbody tr th:only-of-type {\n",
       "        vertical-align: middle;\n",
       "    }\n",
       "\n",
       "    .dataframe tbody tr th {\n",
       "        vertical-align: top;\n",
       "    }\n",
       "\n",
       "    .dataframe thead th {\n",
       "        text-align: right;\n",
       "    }\n",
       "</style>\n",
       "<table border=\"1\" class=\"dataframe\">\n",
       "  <thead>\n",
       "    <tr style=\"text-align: right;\">\n",
       "      <th></th>\n",
       "      <th>Genes</th>\n",
       "      <th>min</th>\n",
       "      <th>max</th>\n",
       "      <th>gen_len</th>\n",
       "    </tr>\n",
       "  </thead>\n",
       "  <tbody>\n",
       "    <tr>\n",
       "      <th>0</th>\n",
       "      <td>AT1G01010</td>\n",
       "      <td>3760</td>\n",
       "      <td>5630</td>\n",
       "      <td>1871</td>\n",
       "    </tr>\n",
       "    <tr>\n",
       "      <th>1</th>\n",
       "      <td>AT1G01020</td>\n",
       "      <td>6915</td>\n",
       "      <td>8666</td>\n",
       "      <td>1752</td>\n",
       "    </tr>\n",
       "    <tr>\n",
       "      <th>2</th>\n",
       "      <td>AT1G01030</td>\n",
       "      <td>11864</td>\n",
       "      <td>12940</td>\n",
       "      <td>1077</td>\n",
       "    </tr>\n",
       "    <tr>\n",
       "      <th>3</th>\n",
       "      <td>AT1G01040</td>\n",
       "      <td>23519</td>\n",
       "      <td>31079</td>\n",
       "      <td>7561</td>\n",
       "    </tr>\n",
       "    <tr>\n",
       "      <th>4</th>\n",
       "      <td>AT1G01050</td>\n",
       "      <td>31382</td>\n",
       "      <td>32670</td>\n",
       "      <td>1289</td>\n",
       "    </tr>\n",
       "    <tr>\n",
       "      <th>...</th>\n",
       "      <td>...</td>\n",
       "      <td>...</td>\n",
       "      <td>...</td>\n",
       "      <td>...</td>\n",
       "    </tr>\n",
       "    <tr>\n",
       "      <th>27650</th>\n",
       "      <td>ATMG01350</td>\n",
       "      <td>346757</td>\n",
       "      <td>347194</td>\n",
       "      <td>438</td>\n",
       "    </tr>\n",
       "    <tr>\n",
       "      <th>27651</th>\n",
       "      <td>ATMG01360</td>\n",
       "      <td>349830</td>\n",
       "      <td>351413</td>\n",
       "      <td>1584</td>\n",
       "    </tr>\n",
       "    <tr>\n",
       "      <th>27652</th>\n",
       "      <td>ATMG01370</td>\n",
       "      <td>360717</td>\n",
       "      <td>361052</td>\n",
       "      <td>336</td>\n",
       "    </tr>\n",
       "    <tr>\n",
       "      <th>27653</th>\n",
       "      <td>ATMG01400</td>\n",
       "      <td>363725</td>\n",
       "      <td>364042</td>\n",
       "      <td>318</td>\n",
       "    </tr>\n",
       "    <tr>\n",
       "      <th>27654</th>\n",
       "      <td>ATMG01410</td>\n",
       "      <td>366086</td>\n",
       "      <td>366700</td>\n",
       "      <td>615</td>\n",
       "    </tr>\n",
       "  </tbody>\n",
       "</table>\n",
       "<p>27655 rows × 4 columns</p>\n",
       "</div>"
      ],
      "text/plain": [
       "           Genes     min     max  gen_len\n",
       "0      AT1G01010    3760    5630     1871\n",
       "1      AT1G01020    6915    8666     1752\n",
       "2      AT1G01030   11864   12940     1077\n",
       "3      AT1G01040   23519   31079     7561\n",
       "4      AT1G01050   31382   32670     1289\n",
       "...          ...     ...     ...      ...\n",
       "27650  ATMG01350  346757  347194      438\n",
       "27651  ATMG01360  349830  351413     1584\n",
       "27652  ATMG01370  360717  361052      336\n",
       "27653  ATMG01400  363725  364042      318\n",
       "27654  ATMG01410  366086  366700      615\n",
       "\n",
       "[27655 rows x 4 columns]"
      ]
     },
     "execution_count": 67,
     "metadata": {},
     "output_type": "execute_result"
    }
   ],
   "source": [
    "df_gene_len.reset_index()"
   ]
  },
  {
   "cell_type": "code",
   "execution_count": 68,
   "metadata": {},
   "outputs": [
    {
     "data": {
      "text/plain": [
       "27655"
      ]
     },
     "execution_count": 68,
     "metadata": {},
     "output_type": "execute_result"
    }
   ],
   "source": [
    "len(df_gene_len)"
   ]
  },
  {
   "cell_type": "code",
   "execution_count": 69,
   "metadata": {},
   "outputs": [],
   "source": [
    "df_gene_len.to_csv('Araport11_GFF3_genes_lenghts.csv', sep='\\t', index=True)"
   ]
  },
  {
   "cell_type": "code",
   "execution_count": null,
   "metadata": {},
   "outputs": [],
   "source": [
    "## Second and third options with agg functions\n",
    "## Aggregatin multiple functions to grouping by df\n",
    "\n",
    "grouped_genes = df1.groupby('ID').agg({'Start':'min', \n",
    "                                       'End':'max',\n",
    "                                       'len': lambda x: x.max() - x.min()})   \n",
    "## declaring with a function\n",
    "def max_min(x):\n",
    "    return x.max() - x.min()\n",
    "max_min.__name__ = 'Max minus Min'\n",
    "\n",
    "grouped_genes = df1.groupby('ID').agg({'Start':'min', \n",
    "                                       'End':'max',\n",
    "                                       'len': max_min})                   \n",
    "## Need to be fixed "
   ]
  }
 ],
 "metadata": {
  "kernelspec": {
   "display_name": "Python 3",
   "language": "python",
   "name": "python3"
  },
  "language_info": {
   "codemirror_mode": {
    "name": "ipython",
    "version": 3
   },
   "file_extension": ".py",
   "mimetype": "text/x-python",
   "name": "python",
   "nbconvert_exporter": "python",
   "pygments_lexer": "ipython3",
   "version": "3.6.9"
  }
 },
 "nbformat": 4,
 "nbformat_minor": 4
}
