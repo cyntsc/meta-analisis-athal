{
 "cells": [
  {
   "cell_type": "markdown",
   "metadata": {},
   "source": [
    "# 2 Compouse an expression matrix with the raw counts\n",
    "\n",
    "Cynthia Soto <br>\n",
    "Date: 5 de Octubre 2020 <br>\n",
    "Last md: March 19th 2021 <br>\n",
    "\n",
    "**Assumptions:** <br>\n",
    "Data are expression RNASeq raw counts. e.g: files generated with HTSeq tool <br>\n",
    "**This is a custom script to integrate several raw-count files from Arabidopsis (Col-0) Healthy and Infected.** <br>\n",
    "\n",
    "**Workflow:** <br>\n",
    "1) Compouse the expr matrix from a dataset of raw count files <br>\n",
    "2) Get some stats and distributions.  <br> \n",
    "3) Remove genes with ceros across all samples.  <br>\n",
    "4) And plot again.  <br>"
   ]
  },
  {
   "cell_type": "code",
   "execution_count": 183,
   "metadata": {},
   "outputs": [],
   "source": [
    "# Libraries required\n",
    "import os \n",
    "import glob\n",
    "import pandas as pd\n",
    "import matplotlib.pyplot as plt\n",
    "import numpy as np\n",
    "import seaborn as sns\n",
    "\n",
    "# Set some initial configuration \n",
    "pd.set_option(\"display.precision\", 3)"
   ]
  },
  {
   "cell_type": "code",
   "execution_count": 148,
   "metadata": {},
   "outputs": [
    {
     "name": "stdout",
     "output_type": "stream",
     "text": [
      "Directory changed: /home/cyntsc/Proyectos/tesis-code/meta-xtrome-analysis/athal1_htseq-counts\n"
     ]
    }
   ],
   "source": [
    "try:\n",
    "    # Change the current working Directory      \n",
    "    os.chdir(\"/home/cyntsc/Proyectos/tesis-code/meta-xtrome-analysis/athal1_htseq-counts/\")\n",
    "    print(\"Directory changed:\", os.getcwd() )\n",
    "except OSError:\n",
    "    print(\"Can't change the Current Working Directory\")        \n",
    "#print(os.listdir(os.getcwd())       "
   ]
  },
  {
   "cell_type": "markdown",
   "metadata": {},
   "source": [
    "### Declare functions "
   ]
  },
  {
   "cell_type": "code",
   "execution_count": 149,
   "metadata": {},
   "outputs": [],
   "source": [
    "# Rename columns on  a df according to your story\n",
    "def set_ID_samples_infected(df):\n",
    "    df = df.rename(columns={'SRR10586397': 'Bc24', 'SRR364399':'Ch40.3','SRR364401':'Ch40',\n",
    "                                         'SRR6283148':'Ss30','SRR6283147':'Ss30.1','SRR3383696':'Bc12',\n",
    "                                         'SRR3383780':'Bc18','SRR6283146':'Ss30.2','SRR3383779':'Bc18.1',\n",
    "                                         'SRR3383697':'Bc12.1','SRR364390':'Ch22','SRR364389':'Ch22.1',\n",
    "                                         'SRR364400':'Ch40.1','SRR364391':'Ch22.2','SRR10586399':'Bc24.1',\n",
    "                                         'SRR364392':'Ch22.3','SRR364398':'Ch40.2'})\n",
    "    return df \n",
    "def set_ID_samples_healthy(df):\n",
    "    df = df.rename(columns={'SRR3383821': 'healthy24', 'SRR3383783':'healthy18.1','SRR3383822':'healthy24.1',\n",
    "                            'SRR3383640':'healthy12','SRR3383641':'healthy12.1','SRR6283145':'healthy30.1',\n",
    "                            'SRR3383782':'healthy18','SRR6283144':'healthy30'})\n",
    "    return df"
   ]
  },
  {
   "cell_type": "code",
   "execution_count": 150,
   "metadata": {},
   "outputs": [],
   "source": [
    "# Set ID index as \"ID\" to a describe() function in a df\n",
    "def df_with_label_ID(df_stat):\n",
    "    df_stat.reset_index(level=0, inplace=True)\n",
    "    df_stat.rename(columns={'index': 'ID'}, inplace=True)\n",
    "    \n",
    "    ## use this chunk if you want to give IDs to a describe() functions from a external meta-data\n",
    "    #     file='../meta-data/ID_samples.csv'\n",
    "    #     df_meta=pd.read_csv(file, sep='\\,', engine='python', usecols=[0,4]) \n",
    "    #     #print(df_meta.head(5))\n",
    "    #     ## merge by sample field\n",
    "    #     df = pd.merge(df, df_meta, on=\"sample\")    \n",
    "    df_stat = df_stat.sort_values(['ID'], ascending=[True])   \n",
    "    return df_stat "
   ]
  },
  {
   "cell_type": "code",
   "execution_count": 151,
   "metadata": {},
   "outputs": [],
   "source": [
    "## Function to remove genes from a df based on a list of indexes provided of the df\n",
    "def df_drop_idx_list(df_idx, df_d):  #, df1_d\n",
    "\n",
    "    ## get a list of gene idx to be remove provided in the df_idx \n",
    "    ## drop this idx list from the df provided (df_d)\n",
    "    ## return the df with the idx provided removed\n",
    "    \n",
    "    ## Get the indexes of the gene rows to delete from the df provided\n",
    "    lst_genes_to_drop=(df_idx.index)\n",
    "    ## drop the idx marked    \n",
    "    for i in lst_genes_to_drop: \n",
    "        try:\n",
    "            df_d = df_d.drop([i])\n",
    "        except:\n",
    "            pass # doing nothing on exception, not processed because it is already dropped\"\n",
    "    \n",
    "    return df_d "
   ]
  },
  {
   "cell_type": "code",
   "execution_count": 152,
   "metadata": {},
   "outputs": [],
   "source": [
    "# Filter a dataframe by the value of a column (I used to set a cutoff threshold)\n",
    "def filter_df(df, *args):\n",
    "\n",
    "    # Input: df is the dataframe to filter and *args are the criteria to apply\n",
    "    # output: a new dataframe filtered \n",
    "    \n",
    "    for k, v in args:\n",
    "        df_cut = df[df[k] >= v]\n",
    "    return df_cut"
   ]
  },
  {
   "cell_type": "markdown",
   "metadata": {},
   "source": [
    "### Integration to all data files (samples) in one matrix "
   ]
  },
  {
   "cell_type": "code",
   "execution_count": 184,
   "metadata": {},
   "outputs": [
    {
     "name": "stdout",
     "output_type": "stream",
     "text": [
      "/home/cyntsc/Proyectos/tesis-code/meta-xtrome-analysis/athal1_htseq-counts/SRR6283145\n",
      "/home/cyntsc/Proyectos/tesis-code/meta-xtrome-analysis/athal1_htseq-counts/SRR6283144\n",
      "/home/cyntsc/Proyectos/tesis-code/meta-xtrome-analysis/athal1_htseq-counts/SRR3383640\n",
      "/home/cyntsc/Proyectos/tesis-code/meta-xtrome-analysis/athal1_htseq-counts/SRR3383783\n",
      "/home/cyntsc/Proyectos/tesis-code/meta-xtrome-analysis/athal1_htseq-counts/SRR3383782\n",
      "/home/cyntsc/Proyectos/tesis-code/meta-xtrome-analysis/athal1_htseq-counts/SRR3383822\n",
      "/home/cyntsc/Proyectos/tesis-code/meta-xtrome-analysis/athal1_htseq-counts/SRR3383641\n",
      "/home/cyntsc/Proyectos/tesis-code/meta-xtrome-analysis/athal1_htseq-counts/SRR3383821\n"
     ]
    }
   ],
   "source": [
    "## check a bit of the files to be processed ... are they ok?\n",
    "s_path = str(os.getcwd())+'/SRR*'  \n",
    "all_files = glob.glob(s_path)\n",
    "for file in all_files:\n",
    "    print(file)"
   ]
  },
  {
   "cell_type": "markdown",
   "metadata": {},
   "source": [
    "### Integrate raw count files into a single dataframe (matrix)"
   ]
  },
  {
   "cell_type": "code",
   "execution_count": 155,
   "metadata": {},
   "outputs": [
    {
     "name": "stdout",
     "output_type": "stream",
     "text": [
      "       Genes  Counts\n",
      "0  AT1G01020     175\n",
      "1  AT1G01030      20\n",
      "2  AT1G01040    2541\n"
     ]
    }
   ],
   "source": [
    "all_files = glob.glob(s_path)\n",
    "## To load the main df\n",
    "flag_b=True\n",
    "\n",
    "for file in all_files:\n",
    "    #print(file)\n",
    "    # get the base name from a 'linux path' \n",
    "    sample = os.path.basename(file)\n",
    "\n",
    "    if flag_b:    ## load main df once\n",
    "        ## Main df is df1\n",
    "        df1=pd.read_csv(file, sep='\\t')    ## nrows=100, usecols=[0,1]\n",
    "        df1.columns = [\"Genes\",\"Counts\"]\n",
    "        print(df1.head(3))\n",
    "        ## remove lastest n rows refering to HTSeq stats (these are not counts)\n",
    "        df1.drop(df1.tail(5).index,inplace=True) \n",
    "        ## remove unnamed cols\n",
    "        df1.drop(df1.columns[df1.columns.str.contains('Unnamed',case=False)],axis=1,inplace=True)\n",
    "        df1.rename(columns={'Counts':sample},inplace=True)\n",
    "        #print(df1.head(3)) \n",
    "        flag_b=False\n",
    "    else:\n",
    "        #print(file)\n",
    "        df2= pd.read_csv(file, sep='\\t')    \n",
    "        df2.columns = [\"Genes\",\"Counts\"]\n",
    "        ## remove lastest n rows refering to HTSeq stats (these are not counts)\n",
    "        df2.drop(df2.tail(5).index,inplace=True) \n",
    "        ## remove unnamed cols\n",
    "        df2.drop(df2.columns[df2.columns.str.contains('Unnamed',case=False)],axis=1,inplace=True)      \n",
    "        ## compare matrix gene_names before concatenated\n",
    "        comparison_column = np.where(df1[\"Genes\"] == df2[\"Genes\"], True, False)\n",
    "        if (False in comparison_column):\n",
    "            print(\"Gene_names are not the same. Matrix \"+file+\" will not be concatenated.\")\n",
    "        else:\n",
    "            ## merge matrix based in column name \"Genes\"\n",
    "            df2.rename(columns={'Counts':sample},inplace=True)\n",
    "            df1=df1.merge(df2,on=['Genes'],how='left')\n",
    "            "
   ]
  },
  {
   "cell_type": "code",
   "execution_count": 156,
   "metadata": {},
   "outputs": [
    {
     "data": {
      "text/html": [
       "<div>\n",
       "<style scoped>\n",
       "    .dataframe tbody tr th:only-of-type {\n",
       "        vertical-align: middle;\n",
       "    }\n",
       "\n",
       "    .dataframe tbody tr th {\n",
       "        vertical-align: top;\n",
       "    }\n",
       "\n",
       "    .dataframe thead th {\n",
       "        text-align: right;\n",
       "    }\n",
       "</style>\n",
       "<table border=\"1\" class=\"dataframe\">\n",
       "  <thead>\n",
       "    <tr style=\"text-align: right;\">\n",
       "      <th></th>\n",
       "      <th>Genes</th>\n",
       "      <th>SRR6283145</th>\n",
       "      <th>SRR6283144</th>\n",
       "      <th>SRR3383640</th>\n",
       "      <th>SRR3383783</th>\n",
       "      <th>SRR3383782</th>\n",
       "      <th>SRR3383822</th>\n",
       "      <th>SRR3383641</th>\n",
       "      <th>SRR3383821</th>\n",
       "    </tr>\n",
       "  </thead>\n",
       "  <tbody>\n",
       "    <tr>\n",
       "      <th>0</th>\n",
       "      <td>AT1G01020</td>\n",
       "      <td>175</td>\n",
       "      <td>163</td>\n",
       "      <td>108</td>\n",
       "      <td>117</td>\n",
       "      <td>224</td>\n",
       "      <td>92</td>\n",
       "      <td>267</td>\n",
       "      <td>145</td>\n",
       "    </tr>\n",
       "    <tr>\n",
       "      <th>1</th>\n",
       "      <td>AT1G01030</td>\n",
       "      <td>20</td>\n",
       "      <td>25</td>\n",
       "      <td>13</td>\n",
       "      <td>13</td>\n",
       "      <td>35</td>\n",
       "      <td>16</td>\n",
       "      <td>22</td>\n",
       "      <td>9</td>\n",
       "    </tr>\n",
       "    <tr>\n",
       "      <th>2</th>\n",
       "      <td>AT1G01040</td>\n",
       "      <td>2541</td>\n",
       "      <td>2492</td>\n",
       "      <td>1027</td>\n",
       "      <td>1324</td>\n",
       "      <td>2376</td>\n",
       "      <td>638</td>\n",
       "      <td>2296</td>\n",
       "      <td>1018</td>\n",
       "    </tr>\n",
       "    <tr>\n",
       "      <th>3</th>\n",
       "      <td>AT1G01050</td>\n",
       "      <td>1531</td>\n",
       "      <td>1804</td>\n",
       "      <td>850</td>\n",
       "      <td>1217</td>\n",
       "      <td>2664</td>\n",
       "      <td>406</td>\n",
       "      <td>1851</td>\n",
       "      <td>684</td>\n",
       "    </tr>\n",
       "    <tr>\n",
       "      <th>4</th>\n",
       "      <td>AT1G01060</td>\n",
       "      <td>11</td>\n",
       "      <td>4</td>\n",
       "      <td>288</td>\n",
       "      <td>18184</td>\n",
       "      <td>32522</td>\n",
       "      <td>219</td>\n",
       "      <td>835</td>\n",
       "      <td>386</td>\n",
       "    </tr>\n",
       "  </tbody>\n",
       "</table>\n",
       "</div>"
      ],
      "text/plain": [
       "       Genes  SRR6283145  SRR6283144  SRR3383640  SRR3383783  SRR3383782  \\\n",
       "0  AT1G01020         175         163         108         117         224   \n",
       "1  AT1G01030          20          25          13          13          35   \n",
       "2  AT1G01040        2541        2492        1027        1324        2376   \n",
       "3  AT1G01050        1531        1804         850        1217        2664   \n",
       "4  AT1G01060          11           4         288       18184       32522   \n",
       "\n",
       "   SRR3383822  SRR3383641  SRR3383821  \n",
       "0          92         267         145  \n",
       "1          16          22           9  \n",
       "2         638        2296        1018  \n",
       "3         406        1851         684  \n",
       "4         219         835         386  "
      ]
     },
     "execution_count": 156,
     "metadata": {},
     "output_type": "execute_result"
    }
   ],
   "source": [
    "df1.head(5)"
   ]
  },
  {
   "cell_type": "code",
   "execution_count": 157,
   "metadata": {},
   "outputs": [],
   "source": [
    "# call a function to set label sample's as IDs\n",
    "df1 = set_ID_samples_healthy(df1)"
   ]
  },
  {
   "cell_type": "markdown",
   "metadata": {},
   "source": [
    "## Some stats of the new df\n",
    "\n",
    "1) Descriptive stats are calculate on the new df<br>\n",
    "2) IDs of genes with cero counts across all the samples are identified and summarized.<br>\n",
    "3) IDs identified are dropped from the the df to compose a new df filtered. <br>"
   ]
  },
  {
   "cell_type": "code",
   "execution_count": 159,
   "metadata": {},
   "outputs": [
    {
     "data": {
      "text/html": [
       "<div>\n",
       "<style scoped>\n",
       "    .dataframe tbody tr th:only-of-type {\n",
       "        vertical-align: middle;\n",
       "    }\n",
       "\n",
       "    .dataframe tbody tr th {\n",
       "        vertical-align: top;\n",
       "    }\n",
       "\n",
       "    .dataframe thead th {\n",
       "        text-align: right;\n",
       "    }\n",
       "</style>\n",
       "<table border=\"1\" class=\"dataframe\">\n",
       "  <thead>\n",
       "    <tr style=\"text-align: right;\">\n",
       "      <th></th>\n",
       "      <th>count</th>\n",
       "      <th>mean</th>\n",
       "      <th>std</th>\n",
       "      <th>min</th>\n",
       "      <th>25%</th>\n",
       "      <th>50%</th>\n",
       "      <th>75%</th>\n",
       "      <th>max</th>\n",
       "    </tr>\n",
       "  </thead>\n",
       "  <tbody>\n",
       "    <tr>\n",
       "      <th>healthy30.1</th>\n",
       "      <td>27654.0</td>\n",
       "      <td>632.671</td>\n",
       "      <td>2953.803</td>\n",
       "      <td>0.0</td>\n",
       "      <td>0.0</td>\n",
       "      <td>72.0</td>\n",
       "      <td>481.0</td>\n",
       "      <td>141108.0</td>\n",
       "    </tr>\n",
       "    <tr>\n",
       "      <th>healthy30</th>\n",
       "      <td>27654.0</td>\n",
       "      <td>706.560</td>\n",
       "      <td>4073.516</td>\n",
       "      <td>0.0</td>\n",
       "      <td>0.0</td>\n",
       "      <td>63.0</td>\n",
       "      <td>469.0</td>\n",
       "      <td>274644.0</td>\n",
       "    </tr>\n",
       "    <tr>\n",
       "      <th>healthy12</th>\n",
       "      <td>27654.0</td>\n",
       "      <td>347.674</td>\n",
       "      <td>1860.502</td>\n",
       "      <td>0.0</td>\n",
       "      <td>0.0</td>\n",
       "      <td>52.0</td>\n",
       "      <td>281.0</td>\n",
       "      <td>153437.0</td>\n",
       "    </tr>\n",
       "    <tr>\n",
       "      <th>healthy18.1</th>\n",
       "      <td>27654.0</td>\n",
       "      <td>452.536</td>\n",
       "      <td>3224.107</td>\n",
       "      <td>0.0</td>\n",
       "      <td>0.0</td>\n",
       "      <td>51.0</td>\n",
       "      <td>303.0</td>\n",
       "      <td>315702.0</td>\n",
       "    </tr>\n",
       "    <tr>\n",
       "      <th>healthy18</th>\n",
       "      <td>27654.0</td>\n",
       "      <td>954.305</td>\n",
       "      <td>7136.602</td>\n",
       "      <td>0.0</td>\n",
       "      <td>1.0</td>\n",
       "      <td>106.0</td>\n",
       "      <td>607.0</td>\n",
       "      <td>660692.0</td>\n",
       "    </tr>\n",
       "  </tbody>\n",
       "</table>\n",
       "</div>"
      ],
      "text/plain": [
       "               count     mean       std  min  25%    50%    75%       max\n",
       "healthy30.1  27654.0  632.671  2953.803  0.0  0.0   72.0  481.0  141108.0\n",
       "healthy30    27654.0  706.560  4073.516  0.0  0.0   63.0  469.0  274644.0\n",
       "healthy12    27654.0  347.674  1860.502  0.0  0.0   52.0  281.0  153437.0\n",
       "healthy18.1  27654.0  452.536  3224.107  0.0  0.0   51.0  303.0  315702.0\n",
       "healthy18    27654.0  954.305  7136.602  0.0  1.0  106.0  607.0  660692.0"
      ]
     },
     "execution_count": 159,
     "metadata": {},
     "output_type": "execute_result"
    }
   ],
   "source": [
    "df_plot=df1.describe().T\n",
    "df_plot.head(5)"
   ]
  },
  {
   "cell_type": "code",
   "execution_count": 160,
   "metadata": {},
   "outputs": [
    {
     "data": {
      "text/html": [
       "<div>\n",
       "<style scoped>\n",
       "    .dataframe tbody tr th:only-of-type {\n",
       "        vertical-align: middle;\n",
       "    }\n",
       "\n",
       "    .dataframe tbody tr th {\n",
       "        vertical-align: top;\n",
       "    }\n",
       "\n",
       "    .dataframe thead th {\n",
       "        text-align: right;\n",
       "    }\n",
       "</style>\n",
       "<table border=\"1\" class=\"dataframe\">\n",
       "  <thead>\n",
       "    <tr style=\"text-align: right;\">\n",
       "      <th></th>\n",
       "      <th>ID</th>\n",
       "      <th>count</th>\n",
       "      <th>mean</th>\n",
       "      <th>std</th>\n",
       "      <th>min</th>\n",
       "      <th>25%</th>\n",
       "      <th>50%</th>\n",
       "      <th>75%</th>\n",
       "      <th>max</th>\n",
       "    </tr>\n",
       "  </thead>\n",
       "  <tbody>\n",
       "    <tr>\n",
       "      <th>2</th>\n",
       "      <td>healthy12</td>\n",
       "      <td>27654.0</td>\n",
       "      <td>347.674</td>\n",
       "      <td>1860.502</td>\n",
       "      <td>0.0</td>\n",
       "      <td>0.0</td>\n",
       "      <td>52.0</td>\n",
       "      <td>281.0</td>\n",
       "      <td>153437.0</td>\n",
       "    </tr>\n",
       "    <tr>\n",
       "      <th>6</th>\n",
       "      <td>healthy12.1</td>\n",
       "      <td>27654.0</td>\n",
       "      <td>716.372</td>\n",
       "      <td>3764.360</td>\n",
       "      <td>0.0</td>\n",
       "      <td>0.0</td>\n",
       "      <td>105.0</td>\n",
       "      <td>586.0</td>\n",
       "      <td>315017.0</td>\n",
       "    </tr>\n",
       "    <tr>\n",
       "      <th>4</th>\n",
       "      <td>healthy18</td>\n",
       "      <td>27654.0</td>\n",
       "      <td>954.305</td>\n",
       "      <td>7136.602</td>\n",
       "      <td>0.0</td>\n",
       "      <td>1.0</td>\n",
       "      <td>106.0</td>\n",
       "      <td>607.0</td>\n",
       "      <td>660692.0</td>\n",
       "    </tr>\n",
       "    <tr>\n",
       "      <th>3</th>\n",
       "      <td>healthy18.1</td>\n",
       "      <td>27654.0</td>\n",
       "      <td>452.536</td>\n",
       "      <td>3224.107</td>\n",
       "      <td>0.0</td>\n",
       "      <td>0.0</td>\n",
       "      <td>51.0</td>\n",
       "      <td>303.0</td>\n",
       "      <td>315702.0</td>\n",
       "    </tr>\n",
       "    <tr>\n",
       "      <th>7</th>\n",
       "      <td>healthy24</td>\n",
       "      <td>27654.0</td>\n",
       "      <td>481.767</td>\n",
       "      <td>2645.102</td>\n",
       "      <td>0.0</td>\n",
       "      <td>0.0</td>\n",
       "      <td>61.0</td>\n",
       "      <td>351.0</td>\n",
       "      <td>148426.0</td>\n",
       "    </tr>\n",
       "  </tbody>\n",
       "</table>\n",
       "</div>"
      ],
      "text/plain": [
       "            ID    count     mean       std  min  25%    50%    75%       max\n",
       "2    healthy12  27654.0  347.674  1860.502  0.0  0.0   52.0  281.0  153437.0\n",
       "6  healthy12.1  27654.0  716.372  3764.360  0.0  0.0  105.0  586.0  315017.0\n",
       "4    healthy18  27654.0  954.305  7136.602  0.0  1.0  106.0  607.0  660692.0\n",
       "3  healthy18.1  27654.0  452.536  3224.107  0.0  0.0   51.0  303.0  315702.0\n",
       "7    healthy24  27654.0  481.767  2645.102  0.0  0.0   61.0  351.0  148426.0"
      ]
     },
     "execution_count": 160,
     "metadata": {},
     "output_type": "execute_result"
    }
   ],
   "source": [
    "## call the fuction df_with_label_ID\n",
    "df_plot = df_with_label_ID(df_plot)\n",
    "df_plot.head(5)"
   ]
  },
  {
   "cell_type": "code",
   "execution_count": 162,
   "metadata": {},
   "outputs": [
    {
     "data": {
      "text/plain": [
       "(array([0, 1, 2, 3, 4, 5, 6, 7]),\n",
       " [Text(0, 0, 'healthy12'),\n",
       "  Text(1, 0, 'healthy12.1'),\n",
       "  Text(2, 0, 'healthy18'),\n",
       "  Text(3, 0, 'healthy18.1'),\n",
       "  Text(4, 0, 'healthy24'),\n",
       "  Text(5, 0, 'healthy24.1'),\n",
       "  Text(6, 0, 'healthy30'),\n",
       "  Text(7, 0, 'healthy30.1')])"
      ]
     },
     "execution_count": 162,
     "metadata": {},
     "output_type": "execute_result"
    },
    {
     "data": {
      "image/png": "[encoded data removed]",
      "text/plain": [
       "<Figure size 720x504 with 1 Axes>"
      ]
     },
     "metadata": {},
     "output_type": "display_data"
    }
   ],
   "source": [
    "ax = df_plot.plot(x=\"ID\", y=\"75%\", kind=\"bar\", figsize=(10,7))\n",
    "df_plot.plot(x=\"ID\", y=\"75%\", kind=\"bar\", ax=ax, color=\"C2\")\n",
    "df_plot.plot(x=\"ID\", y=\"50%\", kind=\"bar\", ax=ax, color=\"C3\")\n",
    "df_plot.plot(x=\"ID\", y=\"25%\", kind=\"bar\", ax=ax, color=\"C4\")\n",
    "plt.title('A.thaliana healthy: interquartile values',fontsize=14);\n",
    "plt.xlabel('Raw counts',fontsize=14);\n",
    "plt.ylabel('Sample ID',fontsize=14);\n",
    "plt.xticks(rotation=45,fontsize=12)\n",
    "#plt.show()"
   ]
  },
  {
   "cell_type": "code",
   "execution_count": 163,
   "metadata": {},
   "outputs": [
    {
     "name": "stderr",
     "output_type": "stream",
     "text": [
      "/home/cyntsc/Proyectos/tesis-code/jn_tesis_env/lib/python3.6/site-packages/pandas/plotting/_matplotlib/core.py:1192: UserWarning: FixedFormatter should only be used together with FixedLocator\n",
      "  ax.set_xticklabels(xticklabels)\n"
     ]
    },
    {
     "data": {
      "image/png": "[encoded data removed]",
      "text/plain": [
       "<Figure size 720x504 with 1 Axes>"
      ]
     },
     "metadata": {},
     "output_type": "display_data"
    }
   ],
   "source": [
    "## gca stands for 'get current axis'\n",
    "ax = plt.gca()\n",
    "df_plot.plot(kind='line',x='ID',y='mean',color='green', ax=ax, figsize=(10,7))\n",
    "df_plot.plot(kind='line',x='ID',y='std', color='red', ax=ax)\n",
    "plt.title('A.thaliana healthy: Mean and Std.dev',fontsize=14);\n",
    "plt.xlabel('Sample ID',fontsize=14);\n",
    "plt.ylabel('Raw counts',fontsize=14);"
   ]
  },
  {
   "cell_type": "markdown",
   "metadata": {},
   "source": [
    "### Check for genes with zeros across all samples"
   ]
  },
  {
   "cell_type": "code",
   "execution_count": 164,
   "metadata": {},
   "outputs": [
    {
     "data": {
      "text/html": [
       "<div>\n",
       "<style scoped>\n",
       "    .dataframe tbody tr th:only-of-type {\n",
       "        vertical-align: middle;\n",
       "    }\n",
       "\n",
       "    .dataframe tbody tr th {\n",
       "        vertical-align: top;\n",
       "    }\n",
       "\n",
       "    .dataframe thead th {\n",
       "        text-align: right;\n",
       "    }\n",
       "</style>\n",
       "<table border=\"1\" class=\"dataframe\">\n",
       "  <thead>\n",
       "    <tr style=\"text-align: right;\">\n",
       "      <th></th>\n",
       "      <th>Genes</th>\n",
       "      <th>healthy30.1</th>\n",
       "      <th>healthy30</th>\n",
       "      <th>healthy12</th>\n",
       "      <th>healthy18.1</th>\n",
       "      <th>healthy18</th>\n",
       "      <th>healthy24.1</th>\n",
       "      <th>healthy12.1</th>\n",
       "      <th>healthy24</th>\n",
       "    </tr>\n",
       "  </thead>\n",
       "  <tbody>\n",
       "    <tr>\n",
       "      <th>0</th>\n",
       "      <td>AT1G01020</td>\n",
       "      <td>175</td>\n",
       "      <td>163</td>\n",
       "      <td>108</td>\n",
       "      <td>117</td>\n",
       "      <td>224</td>\n",
       "      <td>92</td>\n",
       "      <td>267</td>\n",
       "      <td>145</td>\n",
       "    </tr>\n",
       "    <tr>\n",
       "      <th>1</th>\n",
       "      <td>AT1G01030</td>\n",
       "      <td>20</td>\n",
       "      <td>25</td>\n",
       "      <td>13</td>\n",
       "      <td>13</td>\n",
       "      <td>35</td>\n",
       "      <td>16</td>\n",
       "      <td>22</td>\n",
       "      <td>9</td>\n",
       "    </tr>\n",
       "    <tr>\n",
       "      <th>2</th>\n",
       "      <td>AT1G01040</td>\n",
       "      <td>2541</td>\n",
       "      <td>2492</td>\n",
       "      <td>1027</td>\n",
       "      <td>1324</td>\n",
       "      <td>2376</td>\n",
       "      <td>638</td>\n",
       "      <td>2296</td>\n",
       "      <td>1018</td>\n",
       "    </tr>\n",
       "    <tr>\n",
       "      <th>3</th>\n",
       "      <td>AT1G01050</td>\n",
       "      <td>1531</td>\n",
       "      <td>1804</td>\n",
       "      <td>850</td>\n",
       "      <td>1217</td>\n",
       "      <td>2664</td>\n",
       "      <td>406</td>\n",
       "      <td>1851</td>\n",
       "      <td>684</td>\n",
       "    </tr>\n",
       "    <tr>\n",
       "      <th>4</th>\n",
       "      <td>AT1G01060</td>\n",
       "      <td>11</td>\n",
       "      <td>4</td>\n",
       "      <td>288</td>\n",
       "      <td>18184</td>\n",
       "      <td>32522</td>\n",
       "      <td>219</td>\n",
       "      <td>835</td>\n",
       "      <td>386</td>\n",
       "    </tr>\n",
       "  </tbody>\n",
       "</table>\n",
       "</div>"
      ],
      "text/plain": [
       "       Genes  healthy30.1  healthy30  healthy12  healthy18.1  healthy18  \\\n",
       "0  AT1G01020          175        163        108          117        224   \n",
       "1  AT1G01030           20         25         13           13         35   \n",
       "2  AT1G01040         2541       2492       1027         1324       2376   \n",
       "3  AT1G01050         1531       1804        850         1217       2664   \n",
       "4  AT1G01060           11          4        288        18184      32522   \n",
       "\n",
       "   healthy24.1  healthy12.1  healthy24  \n",
       "0           92          267        145  \n",
       "1           16           22          9  \n",
       "2          638         2296       1018  \n",
       "3          406         1851        684  \n",
       "4          219          835        386  "
      ]
     },
     "execution_count": 164,
     "metadata": {},
     "output_type": "execute_result"
    }
   ],
   "source": [
    "df1.head(5)"
   ]
  },
  {
   "cell_type": "code",
   "execution_count": 165,
   "metadata": {},
   "outputs": [],
   "source": [
    "## Check number of zeros by sample\n",
    "sr_ceros = df1.isin([0]).sum()\n",
    "type(sr_ceros)\n",
    "## transform the pandas serie into a pandas df\n",
    "df_ceros = sr_ceros.to_frame()\n",
    "\n",
    "## format the df (idx)\n",
    "df_ceros.columns = df_ceros.iloc[0]\n",
    "df_ceros = df_ceros.drop(df_ceros.index[0])\n",
    "#df_ceros.head()\n",
    "\n",
    "## call a function to set ID labels \n",
    "df_ceros = df_with_label_ID(df_ceros)\n",
    "df_ceros.head(5)\n",
    "#df_ceros.to_csv(\"../results-data/healthy_zeros_bysample.csv\", index=False, header=True)"
   ]
  },
  {
   "cell_type": "markdown",
   "metadata": {},
   "source": [
    "***Here, zeros are counted by genes across all samples & a new column with the zero-counter values is appended to the matrix*** <br>\n",
    "We're going to create the file called: **all_healthy_counterOFzeros.csv** contains the counter of zeros by gene <br>\n"
   ]
  },
  {
   "cell_type": "code",
   "execution_count": 166,
   "metadata": {},
   "outputs": [],
   "source": [
    "s_zeros=(df1 == 0).astype(int).sum(axis=1)\n",
    "#print(s_zeros)\n",
    "#type(s_zeros)    ### build a serie-pandas\n",
    "## Desglozando la formula\n",
    "#(df1 == 0)\n",
    "#(df1 == 0).astype(int)\n",
    "#(df1 == 0).sum(axis=1)\n",
    "\n",
    "## Added a column to df1 with the counter of zeros\n",
    "df1['zero-counter'] = s_zeros\n",
    "df1\n",
    "## Send the new matrix to all_log2_counter_cero.csv \n",
    "df1 = set_ID_samples(df1)\n",
    "#df1.to_csv('../results-data/all_healthy_counterOFzeros.csv', sep='\\t', index=False)"
   ]
  },
  {
   "cell_type": "markdown",
   "metadata": {},
   "source": [
    "Here, we look for genes with n number of ceros <br>\n",
    "We create the file called: **all_infected_genes_w n zeros.csv** contains the detail of these genes with cero counts across all samples <br>"
   ]
  },
  {
   "cell_type": "code",
   "execution_count": 167,
   "metadata": {},
   "outputs": [
    {
     "name": "stdout",
     "output_type": "stream",
     "text": [
      "(5228, 10)\n"
     ]
    },
    {
     "data": {
      "text/html": [
       "<div>\n",
       "<style scoped>\n",
       "    .dataframe tbody tr th:only-of-type {\n",
       "        vertical-align: middle;\n",
       "    }\n",
       "\n",
       "    .dataframe tbody tr th {\n",
       "        vertical-align: top;\n",
       "    }\n",
       "\n",
       "    .dataframe thead th {\n",
       "        text-align: right;\n",
       "    }\n",
       "</style>\n",
       "<table border=\"1\" class=\"dataframe\">\n",
       "  <thead>\n",
       "    <tr style=\"text-align: right;\">\n",
       "      <th></th>\n",
       "      <th>Genes</th>\n",
       "      <th>healthy30.1</th>\n",
       "      <th>healthy30</th>\n",
       "      <th>healthy12</th>\n",
       "      <th>healthy18.1</th>\n",
       "      <th>healthy18</th>\n",
       "      <th>healthy24.1</th>\n",
       "      <th>healthy12.1</th>\n",
       "      <th>healthy24</th>\n",
       "      <th>zero-counter</th>\n",
       "    </tr>\n",
       "  </thead>\n",
       "  <tbody>\n",
       "    <tr>\n",
       "      <th>26</th>\n",
       "      <td>AT1G01280</td>\n",
       "      <td>0</td>\n",
       "      <td>0</td>\n",
       "      <td>0</td>\n",
       "      <td>0</td>\n",
       "      <td>0</td>\n",
       "      <td>0</td>\n",
       "      <td>0</td>\n",
       "      <td>0</td>\n",
       "      <td>8</td>\n",
       "    </tr>\n",
       "    <tr>\n",
       "      <th>29</th>\n",
       "      <td>AT1G01305</td>\n",
       "      <td>0</td>\n",
       "      <td>0</td>\n",
       "      <td>0</td>\n",
       "      <td>0</td>\n",
       "      <td>0</td>\n",
       "      <td>0</td>\n",
       "      <td>0</td>\n",
       "      <td>0</td>\n",
       "      <td>8</td>\n",
       "    </tr>\n",
       "    <tr>\n",
       "      <th>32</th>\n",
       "      <td>AT1G01335</td>\n",
       "      <td>0</td>\n",
       "      <td>0</td>\n",
       "      <td>0</td>\n",
       "      <td>0</td>\n",
       "      <td>0</td>\n",
       "      <td>0</td>\n",
       "      <td>0</td>\n",
       "      <td>0</td>\n",
       "      <td>8</td>\n",
       "    </tr>\n",
       "    <tr>\n",
       "      <th>40</th>\n",
       "      <td>AT1G01400</td>\n",
       "      <td>0</td>\n",
       "      <td>0</td>\n",
       "      <td>0</td>\n",
       "      <td>0</td>\n",
       "      <td>0</td>\n",
       "      <td>0</td>\n",
       "      <td>0</td>\n",
       "      <td>0</td>\n",
       "      <td>8</td>\n",
       "    </tr>\n",
       "    <tr>\n",
       "      <th>41</th>\n",
       "      <td>AT1G01410</td>\n",
       "      <td>0</td>\n",
       "      <td>0</td>\n",
       "      <td>0</td>\n",
       "      <td>0</td>\n",
       "      <td>0</td>\n",
       "      <td>0</td>\n",
       "      <td>0</td>\n",
       "      <td>0</td>\n",
       "      <td>8</td>\n",
       "    </tr>\n",
       "    <tr>\n",
       "      <th>47</th>\n",
       "      <td>AT1G01460</td>\n",
       "      <td>0</td>\n",
       "      <td>0</td>\n",
       "      <td>0</td>\n",
       "      <td>0</td>\n",
       "      <td>0</td>\n",
       "      <td>0</td>\n",
       "      <td>0</td>\n",
       "      <td>0</td>\n",
       "      <td>8</td>\n",
       "    </tr>\n",
       "    <tr>\n",
       "      <th>99</th>\n",
       "      <td>AT1G01980</td>\n",
       "      <td>0</td>\n",
       "      <td>0</td>\n",
       "      <td>0</td>\n",
       "      <td>0</td>\n",
       "      <td>0</td>\n",
       "      <td>0</td>\n",
       "      <td>0</td>\n",
       "      <td>0</td>\n",
       "      <td>8</td>\n",
       "    </tr>\n",
       "  </tbody>\n",
       "</table>\n",
       "</div>"
      ],
      "text/plain": [
       "        Genes  healthy30.1  healthy30  healthy12  healthy18.1  healthy18  \\\n",
       "26  AT1G01280            0          0          0            0          0   \n",
       "29  AT1G01305            0          0          0            0          0   \n",
       "32  AT1G01335            0          0          0            0          0   \n",
       "40  AT1G01400            0          0          0            0          0   \n",
       "41  AT1G01410            0          0          0            0          0   \n",
       "47  AT1G01460            0          0          0            0          0   \n",
       "99  AT1G01980            0          0          0            0          0   \n",
       "\n",
       "    healthy24.1  healthy12.1  healthy24  zero-counter  \n",
       "26            0            0          0             8  \n",
       "29            0            0          0             8  \n",
       "32            0            0          0             8  \n",
       "40            0            0          0             8  \n",
       "41            0            0          0             8  \n",
       "47            0            0          0             8  \n",
       "99            0            0          0             8  "
      ]
     },
     "execution_count": 167,
     "metadata": {},
     "output_type": "execute_result"
    }
   ],
   "source": [
    "## Filter is looking for genes with 8 ceros across all samples (we have 8 samples for control)\n",
    "is_zero = (df1['zero-counter']>=8)     \n",
    "df1_17 = df1[is_zero]\n",
    "print(df1_17.shape)\n",
    "df1_17.head(7)\n",
    "## save the result as tmp result\n",
    "#df1_17.to_csv('../results-data/tmp/all_healthy_genes_w8zeros.csv', sep='\\t', index=False)"
   ]
  },
  {
   "cell_type": "markdown",
   "metadata": {},
   "source": [
    "### Trimming genes with zeros across all samples\n",
    "Remove gene-IDs marked with no counts across all samples<br>\n",
    "<br>\n",
    "e.g: if the size of the set is 8 samples, then 8 is the maximum number of zeros that a gene can have, it is established that this gene had no expression in any of the samples. <br>"
   ]
  },
  {
   "cell_type": "code",
   "execution_count": 168,
   "metadata": {},
   "outputs": [],
   "source": [
    "## Save the gene IDs with ceros in a file \n",
    "genes_cero_ToList = list(df1_17['Genes'])\n",
    "with open(\"../results-data/all_healthy_geneIDs_with_zeros.csv\", \"w\") as outfile:\n",
    "    outfile.write(\"\\n\".join(str(item) for item in genes_cero_ToList))"
   ]
  },
  {
   "cell_type": "code",
   "execution_count": 169,
   "metadata": {},
   "outputs": [
    {
     "data": {
      "text/plain": [
       "Genes             0\n",
       "healthy30.1    5228\n",
       "healthy30      5228\n",
       "healthy12      5228\n",
       "healthy18.1    5228\n",
       "dtype: int64"
      ]
     },
     "execution_count": 169,
     "metadata": {},
     "output_type": "execute_result"
    }
   ],
   "source": [
    "## Here, we count how many genes are not expressed in all the samples\n",
    "df1_17.isin([0]).sum().head()"
   ]
  },
  {
   "cell_type": "code",
   "execution_count": 170,
   "metadata": {},
   "outputs": [],
   "source": [
    "# call the function  ==== df_drop_idx_list ==== to get the index of the genes to remove (df1_17) from the df1\n",
    "df1 = df_drop_idx_list(df1_17, df1)"
   ]
  },
  {
   "cell_type": "code",
   "execution_count": 171,
   "metadata": {},
   "outputs": [
    {
     "name": "stdout",
     "output_type": "stream",
     "text": [
      "(22426, 10)\n"
     ]
    },
    {
     "data": {
      "text/html": [
       "<div>\n",
       "<style scoped>\n",
       "    .dataframe tbody tr th:only-of-type {\n",
       "        vertical-align: middle;\n",
       "    }\n",
       "\n",
       "    .dataframe tbody tr th {\n",
       "        vertical-align: top;\n",
       "    }\n",
       "\n",
       "    .dataframe thead th {\n",
       "        text-align: right;\n",
       "    }\n",
       "</style>\n",
       "<table border=\"1\" class=\"dataframe\">\n",
       "  <thead>\n",
       "    <tr style=\"text-align: right;\">\n",
       "      <th></th>\n",
       "      <th>Genes</th>\n",
       "      <th>healthy30.1</th>\n",
       "      <th>healthy30</th>\n",
       "      <th>healthy12</th>\n",
       "      <th>healthy18.1</th>\n",
       "      <th>healthy18</th>\n",
       "      <th>healthy24.1</th>\n",
       "      <th>healthy12.1</th>\n",
       "      <th>healthy24</th>\n",
       "      <th>zero-counter</th>\n",
       "    </tr>\n",
       "  </thead>\n",
       "  <tbody>\n",
       "    <tr>\n",
       "      <th>0</th>\n",
       "      <td>AT1G01020</td>\n",
       "      <td>175</td>\n",
       "      <td>163</td>\n",
       "      <td>108</td>\n",
       "      <td>117</td>\n",
       "      <td>224</td>\n",
       "      <td>92</td>\n",
       "      <td>267</td>\n",
       "      <td>145</td>\n",
       "      <td>0</td>\n",
       "    </tr>\n",
       "    <tr>\n",
       "      <th>1</th>\n",
       "      <td>AT1G01030</td>\n",
       "      <td>20</td>\n",
       "      <td>25</td>\n",
       "      <td>13</td>\n",
       "      <td>13</td>\n",
       "      <td>35</td>\n",
       "      <td>16</td>\n",
       "      <td>22</td>\n",
       "      <td>9</td>\n",
       "      <td>0</td>\n",
       "    </tr>\n",
       "    <tr>\n",
       "      <th>2</th>\n",
       "      <td>AT1G01040</td>\n",
       "      <td>2541</td>\n",
       "      <td>2492</td>\n",
       "      <td>1027</td>\n",
       "      <td>1324</td>\n",
       "      <td>2376</td>\n",
       "      <td>638</td>\n",
       "      <td>2296</td>\n",
       "      <td>1018</td>\n",
       "      <td>0</td>\n",
       "    </tr>\n",
       "    <tr>\n",
       "      <th>3</th>\n",
       "      <td>AT1G01050</td>\n",
       "      <td>1531</td>\n",
       "      <td>1804</td>\n",
       "      <td>850</td>\n",
       "      <td>1217</td>\n",
       "      <td>2664</td>\n",
       "      <td>406</td>\n",
       "      <td>1851</td>\n",
       "      <td>684</td>\n",
       "      <td>0</td>\n",
       "    </tr>\n",
       "    <tr>\n",
       "      <th>4</th>\n",
       "      <td>AT1G01060</td>\n",
       "      <td>11</td>\n",
       "      <td>4</td>\n",
       "      <td>288</td>\n",
       "      <td>18184</td>\n",
       "      <td>32522</td>\n",
       "      <td>219</td>\n",
       "      <td>835</td>\n",
       "      <td>386</td>\n",
       "      <td>0</td>\n",
       "    </tr>\n",
       "  </tbody>\n",
       "</table>\n",
       "</div>"
      ],
      "text/plain": [
       "       Genes  healthy30.1  healthy30  healthy12  healthy18.1  healthy18  \\\n",
       "0  AT1G01020          175        163        108          117        224   \n",
       "1  AT1G01030           20         25         13           13         35   \n",
       "2  AT1G01040         2541       2492       1027         1324       2376   \n",
       "3  AT1G01050         1531       1804        850         1217       2664   \n",
       "4  AT1G01060           11          4        288        18184      32522   \n",
       "\n",
       "   healthy24.1  healthy12.1  healthy24  zero-counter  \n",
       "0           92          267        145             0  \n",
       "1           16           22          9             0  \n",
       "2          638         2296       1018             0  \n",
       "3          406         1851        684             0  \n",
       "4          219          835        386             0  "
      ]
     },
     "execution_count": 171,
     "metadata": {},
     "output_type": "execute_result"
    }
   ],
   "source": [
    "print(df1.shape)\n",
    "df1.head(5)"
   ]
  },
  {
   "cell_type": "markdown",
   "metadata": {},
   "source": [
    "### New stats of the filtered data"
   ]
  },
  {
   "cell_type": "code",
   "execution_count": 172,
   "metadata": {},
   "outputs": [],
   "source": [
    "## Save the new df with the ID genes with 17 ceros across all samples removed.\n",
    "#df1.to_csv('../results-data/all_healthy_raw_8ceros_drop.csv', sep='\\t', index=False)"
   ]
  },
  {
   "cell_type": "code",
   "execution_count": 173,
   "metadata": {
    "scrolled": true
   },
   "outputs": [
    {
     "data": {
      "text/html": [
       "<div>\n",
       "<style scoped>\n",
       "    .dataframe tbody tr th:only-of-type {\n",
       "        vertical-align: middle;\n",
       "    }\n",
       "\n",
       "    .dataframe tbody tr th {\n",
       "        vertical-align: top;\n",
       "    }\n",
       "\n",
       "    .dataframe thead th {\n",
       "        text-align: right;\n",
       "    }\n",
       "</style>\n",
       "<table border=\"1\" class=\"dataframe\">\n",
       "  <thead>\n",
       "    <tr style=\"text-align: right;\">\n",
       "      <th></th>\n",
       "      <th>count</th>\n",
       "      <th>mean</th>\n",
       "      <th>std</th>\n",
       "      <th>min</th>\n",
       "      <th>25%</th>\n",
       "      <th>50%</th>\n",
       "      <th>75%</th>\n",
       "      <th>max</th>\n",
       "    </tr>\n",
       "  </thead>\n",
       "  <tbody>\n",
       "    <tr>\n",
       "      <th>healthy30.1</th>\n",
       "      <td>22426.0</td>\n",
       "      <td>780.161</td>\n",
       "      <td>3262.507</td>\n",
       "      <td>0.0</td>\n",
       "      <td>12.0</td>\n",
       "      <td>174.0</td>\n",
       "      <td>644.00</td>\n",
       "      <td>141108.0</td>\n",
       "    </tr>\n",
       "    <tr>\n",
       "      <th>healthy30</th>\n",
       "      <td>22426.0</td>\n",
       "      <td>871.275</td>\n",
       "      <td>4507.605</td>\n",
       "      <td>0.0</td>\n",
       "      <td>11.0</td>\n",
       "      <td>159.0</td>\n",
       "      <td>638.00</td>\n",
       "      <td>274644.0</td>\n",
       "    </tr>\n",
       "    <tr>\n",
       "      <th>healthy12</th>\n",
       "      <td>22426.0</td>\n",
       "      <td>428.724</td>\n",
       "      <td>2057.596</td>\n",
       "      <td>0.0</td>\n",
       "      <td>12.0</td>\n",
       "      <td>109.0</td>\n",
       "      <td>366.00</td>\n",
       "      <td>153437.0</td>\n",
       "    </tr>\n",
       "    <tr>\n",
       "      <th>healthy18.1</th>\n",
       "      <td>22426.0</td>\n",
       "      <td>558.032</td>\n",
       "      <td>3572.027</td>\n",
       "      <td>0.0</td>\n",
       "      <td>11.0</td>\n",
       "      <td>113.0</td>\n",
       "      <td>398.00</td>\n",
       "      <td>315702.0</td>\n",
       "    </tr>\n",
       "    <tr>\n",
       "      <th>healthy18</th>\n",
       "      <td>22426.0</td>\n",
       "      <td>1176.774</td>\n",
       "      <td>7908.412</td>\n",
       "      <td>0.0</td>\n",
       "      <td>24.0</td>\n",
       "      <td>227.0</td>\n",
       "      <td>805.75</td>\n",
       "      <td>660692.0</td>\n",
       "    </tr>\n",
       "    <tr>\n",
       "      <th>healthy24.1</th>\n",
       "      <td>22426.0</td>\n",
       "      <td>393.805</td>\n",
       "      <td>2260.049</td>\n",
       "      <td>0.0</td>\n",
       "      <td>9.0</td>\n",
       "      <td>88.0</td>\n",
       "      <td>292.00</td>\n",
       "      <td>113771.0</td>\n",
       "    </tr>\n",
       "    <tr>\n",
       "      <th>healthy12.1</th>\n",
       "      <td>22426.0</td>\n",
       "      <td>883.375</td>\n",
       "      <td>4162.506</td>\n",
       "      <td>0.0</td>\n",
       "      <td>21.0</td>\n",
       "      <td>230.0</td>\n",
       "      <td>774.00</td>\n",
       "      <td>315017.0</td>\n",
       "    </tr>\n",
       "    <tr>\n",
       "      <th>healthy24</th>\n",
       "      <td>22426.0</td>\n",
       "      <td>594.077</td>\n",
       "      <td>2925.914</td>\n",
       "      <td>0.0</td>\n",
       "      <td>13.0</td>\n",
       "      <td>137.0</td>\n",
       "      <td>463.75</td>\n",
       "      <td>148426.0</td>\n",
       "    </tr>\n",
       "  </tbody>\n",
       "</table>\n",
       "</div>"
      ],
      "text/plain": [
       "               count      mean       std  min   25%    50%     75%       max\n",
       "healthy30.1  22426.0   780.161  3262.507  0.0  12.0  174.0  644.00  141108.0\n",
       "healthy30    22426.0   871.275  4507.605  0.0  11.0  159.0  638.00  274644.0\n",
       "healthy12    22426.0   428.724  2057.596  0.0  12.0  109.0  366.00  153437.0\n",
       "healthy18.1  22426.0   558.032  3572.027  0.0  11.0  113.0  398.00  315702.0\n",
       "healthy18    22426.0  1176.774  7908.412  0.0  24.0  227.0  805.75  660692.0\n",
       "healthy24.1  22426.0   393.805  2260.049  0.0   9.0   88.0  292.00  113771.0\n",
       "healthy12.1  22426.0   883.375  4162.506  0.0  21.0  230.0  774.00  315017.0\n",
       "healthy24    22426.0   594.077  2925.914  0.0  13.0  137.0  463.75  148426.0"
      ]
     },
     "execution_count": 173,
     "metadata": {},
     "output_type": "execute_result"
    }
   ],
   "source": [
    "## Get some stats of the new matrix filtered of zeros in common\n",
    "df_tmp = df1.describe().T\n",
    "df_tmp.drop(df_tmp.tail(1).index,inplace=True) # drop last n rows / or first n rows (.head)\n",
    "df_tmp "
   ]
  },
  {
   "cell_type": "code",
   "execution_count": 174,
   "metadata": {},
   "outputs": [
    {
     "data": {
      "text/html": [
       "<div>\n",
       "<style scoped>\n",
       "    .dataframe tbody tr th:only-of-type {\n",
       "        vertical-align: middle;\n",
       "    }\n",
       "\n",
       "    .dataframe tbody tr th {\n",
       "        vertical-align: top;\n",
       "    }\n",
       "\n",
       "    .dataframe thead th {\n",
       "        text-align: right;\n",
       "    }\n",
       "</style>\n",
       "<table border=\"1\" class=\"dataframe\">\n",
       "  <thead>\n",
       "    <tr style=\"text-align: right;\">\n",
       "      <th></th>\n",
       "      <th>ID</th>\n",
       "      <th>count</th>\n",
       "      <th>mean</th>\n",
       "      <th>std</th>\n",
       "      <th>min</th>\n",
       "      <th>25%</th>\n",
       "      <th>50%</th>\n",
       "      <th>75%</th>\n",
       "      <th>max</th>\n",
       "    </tr>\n",
       "  </thead>\n",
       "  <tbody>\n",
       "    <tr>\n",
       "      <th>2</th>\n",
       "      <td>healthy12</td>\n",
       "      <td>22426.0</td>\n",
       "      <td>428.724</td>\n",
       "      <td>2057.596</td>\n",
       "      <td>0.0</td>\n",
       "      <td>12.0</td>\n",
       "      <td>109.0</td>\n",
       "      <td>366.00</td>\n",
       "      <td>153437.0</td>\n",
       "    </tr>\n",
       "    <tr>\n",
       "      <th>6</th>\n",
       "      <td>healthy12.1</td>\n",
       "      <td>22426.0</td>\n",
       "      <td>883.375</td>\n",
       "      <td>4162.506</td>\n",
       "      <td>0.0</td>\n",
       "      <td>21.0</td>\n",
       "      <td>230.0</td>\n",
       "      <td>774.00</td>\n",
       "      <td>315017.0</td>\n",
       "    </tr>\n",
       "    <tr>\n",
       "      <th>4</th>\n",
       "      <td>healthy18</td>\n",
       "      <td>22426.0</td>\n",
       "      <td>1176.774</td>\n",
       "      <td>7908.412</td>\n",
       "      <td>0.0</td>\n",
       "      <td>24.0</td>\n",
       "      <td>227.0</td>\n",
       "      <td>805.75</td>\n",
       "      <td>660692.0</td>\n",
       "    </tr>\n",
       "    <tr>\n",
       "      <th>3</th>\n",
       "      <td>healthy18.1</td>\n",
       "      <td>22426.0</td>\n",
       "      <td>558.032</td>\n",
       "      <td>3572.027</td>\n",
       "      <td>0.0</td>\n",
       "      <td>11.0</td>\n",
       "      <td>113.0</td>\n",
       "      <td>398.00</td>\n",
       "      <td>315702.0</td>\n",
       "    </tr>\n",
       "    <tr>\n",
       "      <th>7</th>\n",
       "      <td>healthy24</td>\n",
       "      <td>22426.0</td>\n",
       "      <td>594.077</td>\n",
       "      <td>2925.914</td>\n",
       "      <td>0.0</td>\n",
       "      <td>13.0</td>\n",
       "      <td>137.0</td>\n",
       "      <td>463.75</td>\n",
       "      <td>148426.0</td>\n",
       "    </tr>\n",
       "  </tbody>\n",
       "</table>\n",
       "</div>"
      ],
      "text/plain": [
       "            ID    count      mean       std  min   25%    50%     75%  \\\n",
       "2    healthy12  22426.0   428.724  2057.596  0.0  12.0  109.0  366.00   \n",
       "6  healthy12.1  22426.0   883.375  4162.506  0.0  21.0  230.0  774.00   \n",
       "4    healthy18  22426.0  1176.774  7908.412  0.0  24.0  227.0  805.75   \n",
       "3  healthy18.1  22426.0   558.032  3572.027  0.0  11.0  113.0  398.00   \n",
       "7    healthy24  22426.0   594.077  2925.914  0.0  13.0  137.0  463.75   \n",
       "\n",
       "        max  \n",
       "2  153437.0  \n",
       "6  315017.0  \n",
       "4  660692.0  \n",
       "3  315702.0  \n",
       "7  148426.0  "
      ]
     },
     "execution_count": 174,
     "metadata": {},
     "output_type": "execute_result"
    }
   ],
   "source": [
    "## call a function to set ID to the accesions\n",
    "df_tmp = df_with_label_ID(df_tmp)\n",
    "df_tmp.head(5)"
   ]
  },
  {
   "cell_type": "code",
   "execution_count": 175,
   "metadata": {},
   "outputs": [
    {
     "data": {
      "text/html": [
       "<div>\n",
       "<style scoped>\n",
       "    .dataframe tbody tr th:only-of-type {\n",
       "        vertical-align: middle;\n",
       "    }\n",
       "\n",
       "    .dataframe tbody tr th {\n",
       "        vertical-align: top;\n",
       "    }\n",
       "\n",
       "    .dataframe thead th {\n",
       "        text-align: right;\n",
       "    }\n",
       "</style>\n",
       "<table border=\"1\" class=\"dataframe\">\n",
       "  <thead>\n",
       "    <tr style=\"text-align: right;\">\n",
       "      <th></th>\n",
       "      <th>ID</th>\n",
       "      <th>count</th>\n",
       "      <th>mean</th>\n",
       "      <th>std</th>\n",
       "      <th>min</th>\n",
       "      <th>25%</th>\n",
       "      <th>50%</th>\n",
       "      <th>75%</th>\n",
       "      <th>max</th>\n",
       "    </tr>\n",
       "  </thead>\n",
       "  <tbody>\n",
       "    <tr>\n",
       "      <th>2</th>\n",
       "      <td>healthy12</td>\n",
       "      <td>22426.0</td>\n",
       "      <td>428.724</td>\n",
       "      <td>2057.596</td>\n",
       "      <td>0.0</td>\n",
       "      <td>12.0</td>\n",
       "      <td>109.0</td>\n",
       "      <td>366.00</td>\n",
       "      <td>153437.0</td>\n",
       "    </tr>\n",
       "    <tr>\n",
       "      <th>6</th>\n",
       "      <td>healthy12.1</td>\n",
       "      <td>22426.0</td>\n",
       "      <td>883.375</td>\n",
       "      <td>4162.506</td>\n",
       "      <td>0.0</td>\n",
       "      <td>21.0</td>\n",
       "      <td>230.0</td>\n",
       "      <td>774.00</td>\n",
       "      <td>315017.0</td>\n",
       "    </tr>\n",
       "    <tr>\n",
       "      <th>4</th>\n",
       "      <td>healthy18</td>\n",
       "      <td>22426.0</td>\n",
       "      <td>1176.774</td>\n",
       "      <td>7908.412</td>\n",
       "      <td>0.0</td>\n",
       "      <td>24.0</td>\n",
       "      <td>227.0</td>\n",
       "      <td>805.75</td>\n",
       "      <td>660692.0</td>\n",
       "    </tr>\n",
       "    <tr>\n",
       "      <th>3</th>\n",
       "      <td>healthy18.1</td>\n",
       "      <td>22426.0</td>\n",
       "      <td>558.032</td>\n",
       "      <td>3572.027</td>\n",
       "      <td>0.0</td>\n",
       "      <td>11.0</td>\n",
       "      <td>113.0</td>\n",
       "      <td>398.00</td>\n",
       "      <td>315702.0</td>\n",
       "    </tr>\n",
       "    <tr>\n",
       "      <th>7</th>\n",
       "      <td>healthy24</td>\n",
       "      <td>22426.0</td>\n",
       "      <td>594.077</td>\n",
       "      <td>2925.914</td>\n",
       "      <td>0.0</td>\n",
       "      <td>13.0</td>\n",
       "      <td>137.0</td>\n",
       "      <td>463.75</td>\n",
       "      <td>148426.0</td>\n",
       "    </tr>\n",
       "  </tbody>\n",
       "</table>\n",
       "</div>"
      ],
      "text/plain": [
       "            ID    count      mean       std  min   25%    50%     75%  \\\n",
       "2    healthy12  22426.0   428.724  2057.596  0.0  12.0  109.0  366.00   \n",
       "6  healthy12.1  22426.0   883.375  4162.506  0.0  21.0  230.0  774.00   \n",
       "4    healthy18  22426.0  1176.774  7908.412  0.0  24.0  227.0  805.75   \n",
       "3  healthy18.1  22426.0   558.032  3572.027  0.0  11.0  113.0  398.00   \n",
       "7    healthy24  22426.0   594.077  2925.914  0.0  13.0  137.0  463.75   \n",
       "\n",
       "        max  \n",
       "2  153437.0  \n",
       "6  315017.0  \n",
       "4  660692.0  \n",
       "3  315702.0  \n",
       "7  148426.0  "
      ]
     },
     "execution_count": 175,
     "metadata": {},
     "output_type": "execute_result"
    }
   ],
   "source": [
    "df_tmp.sort_values(by=['ID'], inplace=True)\n",
    "df_tmp.head(5)"
   ]
  },
  {
   "cell_type": "code",
   "execution_count": 176,
   "metadata": {},
   "outputs": [],
   "source": [
    "#df_tmp.to_csv(\"../results-data/statistics/all_raw_healthy_stats_noZeros.csv\", index=False, header=True)"
   ]
  },
  {
   "cell_type": "code",
   "execution_count": 177,
   "metadata": {},
   "outputs": [
    {
     "data": {
      "text/plain": [
       "(array([0, 1, 2, 3, 4, 5, 6, 7]),\n",
       " [Text(0, 0, 'healthy12'),\n",
       "  Text(1, 0, 'healthy12.1'),\n",
       "  Text(2, 0, 'healthy18'),\n",
       "  Text(3, 0, 'healthy18.1'),\n",
       "  Text(4, 0, 'healthy24'),\n",
       "  Text(5, 0, 'healthy24.1'),\n",
       "  Text(6, 0, 'healthy30'),\n",
       "  Text(7, 0, 'healthy30.1')])"
      ]
     },
     "execution_count": 177,
     "metadata": {},
     "output_type": "execute_result"
    },
    {
     "data": {
      "image/png": "[encoded data removed]",
      "text/plain": [
       "<Figure size 720x504 with 1 Axes>"
      ]
     },
     "metadata": {},
     "output_type": "display_data"
    }
   ],
   "source": [
    "#plt.figure(figsize=(10,7))\n",
    "\n",
    "ax = df_tmp.plot(x=\"ID\", y=\"75%\", kind=\"bar\",figsize=(10,7))\n",
    "df_tmp.plot(x=\"ID\", y=\"75%\", kind=\"bar\", ax=ax, color=\"C2\")\n",
    "df_tmp.plot(x=\"ID\", y=\"50%\", kind=\"bar\", ax=ax, color=\"C3\")\n",
    "df_tmp.plot(x=\"ID\", y=\"25%\", kind=\"bar\", ax=ax, color=\"C4\")\n",
    "plt.title('A.thaliana healthy: interquartile values (no zeros)',fontsize=14);\n",
    "plt.xlabel('Raw counts',fontsize=14);\n",
    "plt.ylabel('Sample ID',fontsize=14);\n",
    "plt.xticks(rotation=45,fontsize=12)"
   ]
  },
  {
   "cell_type": "code",
   "execution_count": 178,
   "metadata": {},
   "outputs": [
    {
     "name": "stderr",
     "output_type": "stream",
     "text": [
      "/home/cyntsc/Proyectos/tesis-code/jn_tesis_env/lib/python3.6/site-packages/pandas/plotting/_matplotlib/core.py:1192: UserWarning: FixedFormatter should only be used together with FixedLocator\n",
      "  ax.set_xticklabels(xticklabels)\n"
     ]
    },
    {
     "data": {
      "image/png": "[encoded data removed]",
      "text/plain": [
       "<Figure size 720x504 with 1 Axes>"
      ]
     },
     "metadata": {},
     "output_type": "display_data"
    }
   ],
   "source": [
    "## gca stands for 'get current axis'\n",
    "#plt.figure(figsize=(10,7))\n",
    "ax = plt.gca()\n",
    "df_tmp.plot(kind='line',x='ID',y='mean',color='green', ax=ax, figsize=(10,7))\n",
    "df_tmp.plot(kind='line',x='ID',y='std', color='red', ax=ax)\n",
    "plt.title('A.thaliana healthy: Mean and Std.dev (no zeros)',fontsize=14);\n",
    "plt.xlabel('Sample ID',fontsize=14);\n",
    "plt.ylabel('Raw counts',fontsize=14);"
   ]
  },
  {
   "cell_type": "code",
   "execution_count": 140,
   "metadata": {},
   "outputs": [
    {
     "data": {
      "text/plain": [
       "(array([0, 1, 2, 3, 4, 5, 6, 7]),\n",
       " [Text(0, 0, 'healthy12'),\n",
       "  Text(1, 0, 'healthy12.1'),\n",
       "  Text(2, 0, 'healthy18'),\n",
       "  Text(3, 0, 'healthy18.1'),\n",
       "  Text(4, 0, 'healthy24'),\n",
       "  Text(5, 0, 'healthy24.1'),\n",
       "  Text(6, 0, 'healthy30'),\n",
       "  Text(7, 0, 'healthy30.1')])"
      ]
     },
     "execution_count": 140,
     "metadata": {},
     "output_type": "execute_result"
    },
    {
     "data": {
      "image/png": "[encoded data removed]",
      "text/plain": [
       "<Figure size 720x504 with 1 Axes>"
      ]
     },
     "metadata": {},
     "output_type": "display_data"
    }
   ],
   "source": [
    "#df_tmp.head(5)\n",
    "plt.figure(figsize=(10,7))\n",
    "ax = plt.gca()\n",
    "#Draw a vertical boxplot grouped by a categorical variable: \n",
    "#sns.set_style(\"whitegrid\") \n",
    "ax = sns.boxplot(x = 'ID',y = '25%',data = df_tmp, color = 'green') \n",
    "ax = sns.boxplot(x = 'ID',y = '50%',data = df_tmp, color = 'yellow') \n",
    "ax = sns.boxplot(x = 'ID',y = '75%',data = df_tmp, color = 'red') \n",
    "plt.xlabel('Sample ID',fontsize=14);\n",
    "plt.ylabel('Intercuartil',fontsize=14);\n",
    "plt.title('A.thaliana healthy: interquartile values (no zeros)',fontsize=14)\n",
    "plt.xticks(rotation=45)\n"
   ]
  },
  {
   "cell_type": "code",
   "execution_count": 179,
   "metadata": {},
   "outputs": [
    {
     "name": "stdout",
     "output_type": "stream",
     "text": [
      "[292.0, 366.0, 398.0, 463.75, 638.0, 644.0, 774.0, 805.75]\n"
     ]
    }
   ],
   "source": [
    "## check Q1 , Q2 or Q3\n",
    "col_ceros = df_tmp['75%'].tolist()\n",
    "col_ceros.sort(reverse=False)\n",
    "print(col_ceros)"
   ]
  },
  {
   "cell_type": "markdown",
   "metadata": {},
   "source": [
    "### Now explore the new distributions with no zeros across all samples\n",
    "Plot all the sample in one plot (histogram and KDE)"
   ]
  },
  {
   "cell_type": "code",
   "execution_count": 180,
   "metadata": {},
   "outputs": [
    {
     "name": "stdout",
     "output_type": "stream",
     "text": [
      "/home/cyntsc/Proyectos/tesis-code/meta-xtrome-analysis/athal1_htseq-counts\n",
      "   healthy30.1  healthy30  healthy12  healthy18.1  healthy18  healthy24.1  \\\n",
      "0          175        163        108          117        224           92   \n",
      "1           20         25         13           13         35           16   \n",
      "2         2541       2492       1027         1324       2376          638   \n",
      "\n",
      "   healthy12.1  healthy24  \n",
      "0          267        145  \n",
      "1           22          9  \n",
      "2         2296       1018  \n"
     ]
    }
   ],
   "source": [
    "# load file to be plotted\n",
    "print(os.getcwd())\n",
    "df_nozeros = pd.read_csv(\"../results-data/all_healthy_raw_8ceros_drop.csv\", sep='\\t')  \n",
    "# dropping not-useful columns \n",
    "df_nozeros.drop([\"Genes\", \"zero-counter\"], axis = 1, inplace = True) \n",
    "print(df_nozeros.head(3))"
   ]
  },
  {
   "cell_type": "markdown",
   "metadata": {},
   "source": [
    "Plot both the histogram and densities in the same plot with the seaborn package (imported as sns) which allows you to do that via the distplot(). \n",
    "Since seaborn is built on top of matplotlib, you can use the sns and plt one after the other."
   ]
  },
  {
   "cell_type": "code",
   "execution_count": 181,
   "metadata": {},
   "outputs": [
    {
     "name": "stdout",
     "output_type": "stream",
     "text": [
      "Index(['healthy30.1', 'healthy30', 'healthy12', 'healthy18.1', 'healthy18',\n",
      "       'healthy24.1', 'healthy12.1', 'healthy24'],\n",
      "      dtype='object')\n"
     ]
    },
    {
     "data": {
      "text/html": [
       "<div>\n",
       "<style scoped>\n",
       "    .dataframe tbody tr th:only-of-type {\n",
       "        vertical-align: middle;\n",
       "    }\n",
       "\n",
       "    .dataframe tbody tr th {\n",
       "        vertical-align: top;\n",
       "    }\n",
       "\n",
       "    .dataframe thead th {\n",
       "        text-align: right;\n",
       "    }\n",
       "</style>\n",
       "<table border=\"1\" class=\"dataframe\">\n",
       "  <thead>\n",
       "    <tr style=\"text-align: right;\">\n",
       "      <th></th>\n",
       "      <th>healthy30.1</th>\n",
       "      <th>healthy30</th>\n",
       "      <th>healthy12</th>\n",
       "      <th>healthy18.1</th>\n",
       "      <th>healthy18</th>\n",
       "      <th>healthy24.1</th>\n",
       "      <th>healthy12.1</th>\n",
       "      <th>healthy24</th>\n",
       "    </tr>\n",
       "  </thead>\n",
       "  <tbody>\n",
       "    <tr>\n",
       "      <th>0</th>\n",
       "      <td>175</td>\n",
       "      <td>163</td>\n",
       "      <td>108</td>\n",
       "      <td>117</td>\n",
       "      <td>224</td>\n",
       "      <td>92</td>\n",
       "      <td>267</td>\n",
       "      <td>145</td>\n",
       "    </tr>\n",
       "    <tr>\n",
       "      <th>1</th>\n",
       "      <td>20</td>\n",
       "      <td>25</td>\n",
       "      <td>13</td>\n",
       "      <td>13</td>\n",
       "      <td>35</td>\n",
       "      <td>16</td>\n",
       "      <td>22</td>\n",
       "      <td>9</td>\n",
       "    </tr>\n",
       "    <tr>\n",
       "      <th>2</th>\n",
       "      <td>2541</td>\n",
       "      <td>2492</td>\n",
       "      <td>1027</td>\n",
       "      <td>1324</td>\n",
       "      <td>2376</td>\n",
       "      <td>638</td>\n",
       "      <td>2296</td>\n",
       "      <td>1018</td>\n",
       "    </tr>\n",
       "    <tr>\n",
       "      <th>3</th>\n",
       "      <td>1531</td>\n",
       "      <td>1804</td>\n",
       "      <td>850</td>\n",
       "      <td>1217</td>\n",
       "      <td>2664</td>\n",
       "      <td>406</td>\n",
       "      <td>1851</td>\n",
       "      <td>684</td>\n",
       "    </tr>\n",
       "    <tr>\n",
       "      <th>4</th>\n",
       "      <td>11</td>\n",
       "      <td>4</td>\n",
       "      <td>288</td>\n",
       "      <td>18184</td>\n",
       "      <td>32522</td>\n",
       "      <td>219</td>\n",
       "      <td>835</td>\n",
       "      <td>386</td>\n",
       "    </tr>\n",
       "  </tbody>\n",
       "</table>\n",
       "</div>"
      ],
      "text/plain": [
       "   healthy30.1  healthy30  healthy12  healthy18.1  healthy18  healthy24.1  \\\n",
       "0          175        163        108          117        224           92   \n",
       "1           20         25         13           13         35           16   \n",
       "2         2541       2492       1027         1324       2376          638   \n",
       "3         1531       1804        850         1217       2664          406   \n",
       "4           11          4        288        18184      32522          219   \n",
       "\n",
       "   healthy12.1  healthy24  \n",
       "0          267        145  \n",
       "1           22          9  \n",
       "2         2296       1018  \n",
       "3         1851        684  \n",
       "4          835        386  "
      ]
     },
     "execution_count": 181,
     "metadata": {},
     "output_type": "execute_result"
    }
   ],
   "source": [
    "## Get sample list names\n",
    "sample_lst=df_nozeros.columns\n",
    "print(sample_lst)\n",
    "df_nozeros.head(5)"
   ]
  },
  {
   "cell_type": "code",
   "execution_count": 182,
   "metadata": {},
   "outputs": [
    {
     "name": "stdout",
     "output_type": "stream",
     "text": [
      "[20, 2541, 1531, 11, 39, 1280, 5079, 1458, 8]\n",
      "[25, 2492, 1804, 4, 106, 1131, 6032, 1088, 31]\n",
      "[13, 1027, 850, 288, 42, 975, 1281, 483, 10]\n",
      "[13, 1324, 1217, 18184, 172, 981, 1799, 503, 10]\n",
      "[35, 2376, 2664, 32522, 311, 2124, 3912, 1319, 22]\n",
      "[16, 638, 406, 219, 61, 429, 962, 399, 14]\n",
      "[22, 2296, 1851, 835, 80, 1927, 2801, 1060, 10]\n",
      "[9, 1018, 684, 386, 216, 494, 1371, 581, 22]\n"
     ]
    },
    {
     "data": {
      "image/png": "[encoded data removed]",
      "text/plain": [
       "<Figure size 800x560 with 1 Axes>"
      ]
     },
     "metadata": {},
     "output_type": "display_data"
    }
   ],
   "source": [
    "# Plot the distributions: values are raw data - not normalized \n",
    "\n",
    "plt.style.use('seaborn-whitegrid')\n",
    "kwargs=dict(hist_kws={\"alpha\":0.6, \"lw\": 2})\n",
    "\n",
    "plt.figure(figsize=(10,7), dpi= 80)\n",
    "for file in sample_lst:\n",
    "    sample_data = df_nozeros[file].tolist()\n",
    "    print(sample_data[1:10])\n",
    "    #sns.distplot(sample_data, label=ID_sample+' hpi', **kwargs)   #color=\"dodgerblue\", \n",
    "    sns.distplot(sample_data, label=file, **kwargs)   #color=\"dodgerblue\", \n",
    "\n",
    "plt.title('A.thaliana healthy: Histogram with KDE (no zeros across samples)',fontsize=14);\n",
    "plt.xlabel('raw counts',fontsize=14);\n",
    "plt.ylabel('Probability Density',fontsize=14);\n",
    "## add arbitrary lines to canvas\n",
    "#plt.plot([0, 15], [.15, .15], 'k-', lw=2, color='blue',marker = 'o')\n",
    "#plt.plot([0, 15], [.74, .74], 'k-', lw=2, color='red',marker = '*')\n",
    "plt.legend(loc='center right',fontsize=12);    \n",
    "#plt.savefig(\"../plots/all_infected_KDE_17zeros_drop.png\");"
   ]
  },
  {
   "cell_type": "code",
   "execution_count": null,
   "metadata": {},
   "outputs": [],
   "source": []
  }
 ],
 "metadata": {
  "kernelspec": {
   "display_name": "Python 3",
   "language": "python",
   "name": "python3"
  },
  "language_info": {
   "codemirror_mode": {
    "name": "ipython",
    "version": 3
   },
   "file_extension": ".py",
   "mimetype": "text/x-python",
   "name": "python",
   "nbconvert_exporter": "python",
   "pygments_lexer": "ipython3",
   "version": "3.6.9"
  }
 },
 "nbformat": 4,
 "nbformat_minor": 4
}
