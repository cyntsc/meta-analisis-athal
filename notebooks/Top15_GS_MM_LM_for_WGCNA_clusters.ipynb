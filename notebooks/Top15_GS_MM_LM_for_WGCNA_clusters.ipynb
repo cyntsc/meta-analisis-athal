{
 "cells": [
  {
   "cell_type": "markdown",
   "metadata": {},
   "source": [
    "## TOP 30 GS, MM, LM"
   ]
  },
  {
   "cell_type": "markdown",
   "metadata": {},
   "source": [
    "## Linear regression for the TOP 30 genes based on the Gene-Significance (GS) & Module-Membership (MM)\n",
    "\n",
    "Made by: Cynthia Soto<br>\n",
    "Date: xxx xxx, 2022<br>\n",
    "Last md: June 6, 2022 <br>\n",
    "\n",
    "**Assumptions:**<br>\n",
    "A tvs files are provided with the top GS 15 genes & top 15 MM genes. <br>\n",
    "This files were downloaded with the GS & MM functions from WGCNA. <br>\n",
    "**Input:** <br>\n",
    "file_nameKc = \"Ch22_Module_<color_name>_kWithin_Top30\" <br>\n",
    "file_nameGS = \"Ch22_Module_<color_name>_MM_GS_Top30\" <br>\n",
    "Ref: Suplementary file *5_Darkmagenta_DAVID_Clustering_Decomposition.xls* <br>\n",
    "\n",
    "**Code goal:** <br>\n",
    "1. Make a linear regression based on the GS & MM data provided.\n",
    "2. Get some stats.\n",
    "3. Plot."
   ]
  },
  {
   "cell_type": "code",
   "execution_count": 4,
   "metadata": {},
   "outputs": [],
   "source": [
    "#import numpy as np\n",
    "import pandas as pd\n",
    "import os\n",
    "from matplotlib import pyplot as plt\n",
    "\n",
    "# graficos embebidos\n",
    "%matplotlib inline"
   ]
  },
  {
   "cell_type": "code",
   "execution_count": 12,
   "metadata": {},
   "outputs": [
    {
     "name": "stdout",
     "output_type": "stream",
     "text": [
      "Directory changed\n",
      "/home/cyntsc/Proyectos/tesis-code/meta-xtrome-analysis/results-data/MG_top30_WGCNA\n"
     ]
    }
   ],
   "source": [
    "try:\n",
    "    # Change the current working Directory to the quantification dir\n",
    "    os.chdir(\"/home/cyntsc/Proyectos/tesis-code/meta-xtrome-analysis/results-data/MG_top30_WGCNA/\")\n",
    "    print(\"Directory changed\")\n",
    "except OSError:\n",
    "    print(\"Can't change the Current Working Directory\")\n",
    "s_path=os.getcwd()\n",
    "print(s_path)"
   ]
  },
  {
   "cell_type": "markdown",
   "metadata": {},
   "source": [
    "#### Require mathplot_venn library\n",
    "To install: <br>\n",
    "pip3 install matplotlib_venn <br>\n",
    "matplotlib-venn-0.11.5 <br>"
   ]
  },
  {
   "cell_type": "code",
   "execution_count": 13,
   "metadata": {},
   "outputs": [],
   "source": [
    "# Modules to analize\n",
    "#file_nameGS = \"Bc24_Module_firebrick2_MM_GS_Top15\"\n",
    "file_nameKc = \"Ch22_Module_darkmagenta_kWithin_Top30\" \n",
    "file_nameGS = \"Ch22_Module_darkmagenta_MM_GS_Top30\""
   ]
  },
  {
   "cell_type": "markdown",
   "metadata": {},
   "source": [
    "### Subset GS_MM"
   ]
  },
  {
   "cell_type": "code",
   "execution_count": 14,
   "metadata": {},
   "outputs": [
    {
     "data": {
      "text/plain": [
       "'darkmagenta'"
      ]
     },
     "execution_count": 14,
     "metadata": {},
     "output_type": "execute_result"
    }
   ],
   "source": [
    "file = file_nameGS  \n",
    "df = pd.read_csv(file_nameGS, delimiter='\\s+', header=0)\n",
    "module_name = file.split(sep=\"_\")[2]\n",
    "module_name"
   ]
  },
  {
   "cell_type": "code",
   "execution_count": 15,
   "metadata": {},
   "outputs": [
    {
     "name": "stdout",
     "output_type": "stream",
     "text": [
      "(30, 3)\n",
      "Index(['Genes', 'abs.geneModuleMembership', 'abs.geneTraitSignificance'], dtype='object')\n"
     ]
    },
    {
     "data": {
      "text/html": [
       "<div>\n",
       "<style scoped>\n",
       "    .dataframe tbody tr th:only-of-type {\n",
       "        vertical-align: middle;\n",
       "    }\n",
       "\n",
       "    .dataframe tbody tr th {\n",
       "        vertical-align: top;\n",
       "    }\n",
       "\n",
       "    .dataframe thead th {\n",
       "        text-align: right;\n",
       "    }\n",
       "</style>\n",
       "<table border=\"1\" class=\"dataframe\">\n",
       "  <thead>\n",
       "    <tr style=\"text-align: right;\">\n",
       "      <th></th>\n",
       "      <th>Genes</th>\n",
       "      <th>abs.geneModuleMembership</th>\n",
       "      <th>abs.geneTraitSignificance</th>\n",
       "    </tr>\n",
       "  </thead>\n",
       "  <tbody>\n",
       "    <tr>\n",
       "      <th>0</th>\n",
       "      <td>AT1G03830</td>\n",
       "      <td>0.941110</td>\n",
       "      <td>0.696268</td>\n",
       "    </tr>\n",
       "    <tr>\n",
       "      <th>1</th>\n",
       "      <td>AT1G05570</td>\n",
       "      <td>0.957637</td>\n",
       "      <td>0.500524</td>\n",
       "    </tr>\n",
       "    <tr>\n",
       "      <th>2</th>\n",
       "      <td>AT1G05830</td>\n",
       "      <td>0.950994</td>\n",
       "      <td>0.613616</td>\n",
       "    </tr>\n",
       "    <tr>\n",
       "      <th>3</th>\n",
       "      <td>AT1G07820</td>\n",
       "      <td>0.949708</td>\n",
       "      <td>0.520727</td>\n",
       "    </tr>\n",
       "    <tr>\n",
       "      <th>4</th>\n",
       "      <td>AT1G08590</td>\n",
       "      <td>0.899483</td>\n",
       "      <td>0.605091</td>\n",
       "    </tr>\n",
       "    <tr>\n",
       "      <th>5</th>\n",
       "      <td>AT1G08680</td>\n",
       "      <td>0.944603</td>\n",
       "      <td>0.535685</td>\n",
       "    </tr>\n",
       "    <tr>\n",
       "      <th>6</th>\n",
       "      <td>AT1G09000</td>\n",
       "      <td>0.901088</td>\n",
       "      <td>0.456120</td>\n",
       "    </tr>\n",
       "    <tr>\n",
       "      <th>7</th>\n",
       "      <td>AT1G14910</td>\n",
       "      <td>0.956047</td>\n",
       "      <td>0.514937</td>\n",
       "    </tr>\n",
       "    <tr>\n",
       "      <th>8</th>\n",
       "      <td>AT1G17210</td>\n",
       "      <td>0.935913</td>\n",
       "      <td>0.606131</td>\n",
       "    </tr>\n",
       "    <tr>\n",
       "      <th>9</th>\n",
       "      <td>AT1G18950</td>\n",
       "      <td>0.982216</td>\n",
       "      <td>0.537744</td>\n",
       "    </tr>\n",
       "    <tr>\n",
       "      <th>10</th>\n",
       "      <td>AT1G19300</td>\n",
       "      <td>0.924926</td>\n",
       "      <td>0.346911</td>\n",
       "    </tr>\n",
       "    <tr>\n",
       "      <th>11</th>\n",
       "      <td>AT1G20760</td>\n",
       "      <td>0.969910</td>\n",
       "      <td>0.522073</td>\n",
       "    </tr>\n",
       "    <tr>\n",
       "      <th>12</th>\n",
       "      <td>AT1G22910</td>\n",
       "      <td>0.931127</td>\n",
       "      <td>0.367299</td>\n",
       "    </tr>\n",
       "    <tr>\n",
       "      <th>13</th>\n",
       "      <td>AT1G23190</td>\n",
       "      <td>0.918882</td>\n",
       "      <td>0.443505</td>\n",
       "    </tr>\n",
       "    <tr>\n",
       "      <th>14</th>\n",
       "      <td>AT1G27440</td>\n",
       "      <td>0.956923</td>\n",
       "      <td>0.669813</td>\n",
       "    </tr>\n",
       "  </tbody>\n",
       "</table>\n",
       "</div>"
      ],
      "text/plain": [
       "        Genes  abs.geneModuleMembership  abs.geneTraitSignificance\n",
       "0   AT1G03830                  0.941110                   0.696268\n",
       "1   AT1G05570                  0.957637                   0.500524\n",
       "2   AT1G05830                  0.950994                   0.613616\n",
       "3   AT1G07820                  0.949708                   0.520727\n",
       "4   AT1G08590                  0.899483                   0.605091\n",
       "5   AT1G08680                  0.944603                   0.535685\n",
       "6   AT1G09000                  0.901088                   0.456120\n",
       "7   AT1G14910                  0.956047                   0.514937\n",
       "8   AT1G17210                  0.935913                   0.606131\n",
       "9   AT1G18950                  0.982216                   0.537744\n",
       "10  AT1G19300                  0.924926                   0.346911\n",
       "11  AT1G20760                  0.969910                   0.522073\n",
       "12  AT1G22910                  0.931127                   0.367299\n",
       "13  AT1G23190                  0.918882                   0.443505\n",
       "14  AT1G27440                  0.956923                   0.669813"
      ]
     },
     "execution_count": 15,
     "metadata": {},
     "output_type": "execute_result"
    }
   ],
   "source": [
    "print(df.shape)\n",
    "print(df.columns)\n",
    "#set_GSMM = set(df['Genes'].drop_duplicates().to_list())\n",
    "df.head(15)"
   ]
  },
  {
   "cell_type": "code",
   "execution_count": 16,
   "metadata": {},
   "outputs": [
    {
     "name": "stdout",
     "output_type": "stream",
     "text": [
      "Ch22_Module_darkmagenta_MM_GS_Top30\n",
      "AT1G03830,\n",
      "AT1G05570,\n",
      "AT1G05830,\n",
      "AT1G07820,\n",
      "AT1G08590,\n",
      "AT1G08680,\n",
      "AT1G09000,\n",
      "AT1G14910,\n",
      "AT1G17210,\n",
      "AT1G18950,\n",
      "AT1G19300,\n",
      "AT1G20760,\n",
      "AT1G22910,\n",
      "AT1G23190,\n",
      "AT1G27440,\n",
      "AT1G28110,\n",
      "AT1G28350,\n",
      "AT1G32760,\n",
      "AT1G34270,\n",
      "AT1G47290,\n",
      "AT1G50620,\n",
      "AT1G53730,\n",
      "AT1G54200,\n",
      "AT1G58025,\n",
      "AT1G58220,\n",
      "AT1G58350,\n",
      "AT1G60070,\n",
      "AT1G62970,\n",
      "AT1G63110,\n",
      "AT1G63690,\n"
     ]
    }
   ],
   "source": [
    "lst = df['Genes'].to_list()\n",
    "set_GSMM = set()\n",
    "print(file)\n",
    "for s in lst:\n",
    "    print(s+',')\n",
    "    set_GSMM.add(s)\n",
    "#set_kconn"
   ]
  },
  {
   "cell_type": "code",
   "execution_count": 17,
   "metadata": {},
   "outputs": [
    {
     "data": {
      "text/plain": [
       "<function matplotlib.style.core.use(style)>"
      ]
     },
     "execution_count": 17,
     "metadata": {},
     "output_type": "execute_result"
    }
   ],
   "source": [
    "plt.style.use"
   ]
  },
  {
   "cell_type": "code",
   "execution_count": 18,
   "metadata": {},
   "outputs": [
    {
     "data": {
      "text/plain": [
       "<Figure size 1800x1800 with 0 Axes>"
      ]
     },
     "metadata": {},
     "output_type": "display_data"
    },
    {
     "data": {
      "image/png": "[encoded data removed]",
      "text/plain": [
       "<Figure size 432x288 with 1 Axes>"
      ]
     },
     "metadata": {
      "needs_background": "light"
     },
     "output_type": "display_data"
    }
   ],
   "source": [
    "# make data\n",
    "from matplotlib.pyplot import figure\n",
    "import numpy\n",
    "\n",
    "x = df['abs.geneModuleMembership'].to_numpy()\n",
    "y = df['abs.geneTraitSignificance'].to_numpy()\n",
    "\n",
    "# plot\n",
    "labelx = \"geneModuleMembership\"\n",
    "labely = \"geneTraitSignificance\"\n",
    "figure(figsize=(6, 6), dpi=300)\n",
    "fig, ax = plt.subplots()\n",
    "\n",
    "ax.scatter(x, y, vmin=0, vmax=1)\n",
    "\n",
    "ax.set(xlim=(0.5, 1),xlabel=labelx,\n",
    "       ylim=(0.5, 1),ylabel=labely, \n",
    "       title=file_nameGS)\n",
    "\n",
    "# calc the trendline\n",
    "z = numpy.polynomial.polynomial.polyfit(x, y, 1)\n",
    "p = numpy.poly1d(z)\n",
    "ax.plot(x,p(x),\"r--\")\n",
    "# the line equation:\n",
    "eq = \"y=%.6fx+(%.6f)\"%(z[0],z[1])\n",
    "ax.text(0.55, 0.95, eq, {'color': 'C0', 'fontsize': 13})\n",
    "#print (eq)\n",
    "\n",
    "plt.show()"
   ]
  },
  {
   "cell_type": "markdown",
   "metadata": {},
   "source": [
    "### Subset k-connectivity"
   ]
  },
  {
   "cell_type": "code",
   "execution_count": 19,
   "metadata": {},
   "outputs": [
    {
     "data": {
      "text/html": [
       "<div>\n",
       "<style scoped>\n",
       "    .dataframe tbody tr th:only-of-type {\n",
       "        vertical-align: middle;\n",
       "    }\n",
       "\n",
       "    .dataframe tbody tr th {\n",
       "        vertical-align: top;\n",
       "    }\n",
       "\n",
       "    .dataframe thead th {\n",
       "        text-align: right;\n",
       "    }\n",
       "</style>\n",
       "<table border=\"1\" class=\"dataframe\">\n",
       "  <thead>\n",
       "    <tr style=\"text-align: right;\">\n",
       "      <th></th>\n",
       "      <th>Genes</th>\n",
       "      <th>kTotal</th>\n",
       "      <th>kWithin</th>\n",
       "      <th>kOut</th>\n",
       "      <th>kDiff</th>\n",
       "    </tr>\n",
       "  </thead>\n",
       "  <tbody>\n",
       "    <tr>\n",
       "      <th>0</th>\n",
       "      <td>AT1G79990</td>\n",
       "      <td>308.7332</td>\n",
       "      <td>59.78650</td>\n",
       "      <td>248.9467</td>\n",
       "      <td>-189.1602</td>\n",
       "    </tr>\n",
       "    <tr>\n",
       "      <th>1</th>\n",
       "      <td>AT5G12350</td>\n",
       "      <td>306.7064</td>\n",
       "      <td>57.71861</td>\n",
       "      <td>248.9878</td>\n",
       "      <td>-191.2692</td>\n",
       "    </tr>\n",
       "    <tr>\n",
       "      <th>2</th>\n",
       "      <td>AT3G01590</td>\n",
       "      <td>285.1934</td>\n",
       "      <td>56.46979</td>\n",
       "      <td>228.7236</td>\n",
       "      <td>-172.2538</td>\n",
       "    </tr>\n",
       "    <tr>\n",
       "      <th>3</th>\n",
       "      <td>AT4G27060</td>\n",
       "      <td>290.2882</td>\n",
       "      <td>55.03298</td>\n",
       "      <td>235.2552</td>\n",
       "      <td>-180.2222</td>\n",
       "    </tr>\n",
       "    <tr>\n",
       "      <th>4</th>\n",
       "      <td>AT1G58220</td>\n",
       "      <td>330.0118</td>\n",
       "      <td>53.55086</td>\n",
       "      <td>276.4609</td>\n",
       "      <td>-222.9101</td>\n",
       "    </tr>\n",
       "    <tr>\n",
       "      <th>5</th>\n",
       "      <td>AT1G18950</td>\n",
       "      <td>318.4421</td>\n",
       "      <td>52.98170</td>\n",
       "      <td>265.4604</td>\n",
       "      <td>-212.4787</td>\n",
       "    </tr>\n",
       "    <tr>\n",
       "      <th>6</th>\n",
       "      <td>AT3G26720</td>\n",
       "      <td>314.4827</td>\n",
       "      <td>51.19667</td>\n",
       "      <td>263.2861</td>\n",
       "      <td>-212.0894</td>\n",
       "    </tr>\n",
       "    <tr>\n",
       "      <th>7</th>\n",
       "      <td>AT5G13710</td>\n",
       "      <td>280.7755</td>\n",
       "      <td>50.71963</td>\n",
       "      <td>230.0559</td>\n",
       "      <td>-179.3362</td>\n",
       "    </tr>\n",
       "    <tr>\n",
       "      <th>8</th>\n",
       "      <td>AT2G26300</td>\n",
       "      <td>261.2472</td>\n",
       "      <td>50.71308</td>\n",
       "      <td>210.5341</td>\n",
       "      <td>-159.8210</td>\n",
       "    </tr>\n",
       "    <tr>\n",
       "      <th>9</th>\n",
       "      <td>AT2G01720</td>\n",
       "      <td>272.5750</td>\n",
       "      <td>49.98906</td>\n",
       "      <td>222.5859</td>\n",
       "      <td>-172.5969</td>\n",
       "    </tr>\n",
       "    <tr>\n",
       "      <th>10</th>\n",
       "      <td>AT5G46340</td>\n",
       "      <td>288.2219</td>\n",
       "      <td>49.87029</td>\n",
       "      <td>238.3516</td>\n",
       "      <td>-188.4813</td>\n",
       "    </tr>\n",
       "    <tr>\n",
       "      <th>11</th>\n",
       "      <td>AT2G30260</td>\n",
       "      <td>323.6090</td>\n",
       "      <td>49.52970</td>\n",
       "      <td>274.0793</td>\n",
       "      <td>-224.5496</td>\n",
       "    </tr>\n",
       "    <tr>\n",
       "      <th>12</th>\n",
       "      <td>AT3G28860</td>\n",
       "      <td>249.5123</td>\n",
       "      <td>49.49629</td>\n",
       "      <td>200.0160</td>\n",
       "      <td>-150.5198</td>\n",
       "    </tr>\n",
       "    <tr>\n",
       "      <th>13</th>\n",
       "      <td>AT1G76460</td>\n",
       "      <td>294.5091</td>\n",
       "      <td>48.62210</td>\n",
       "      <td>245.8870</td>\n",
       "      <td>-197.2649</td>\n",
       "    </tr>\n",
       "    <tr>\n",
       "      <th>14</th>\n",
       "      <td>AT4G20400</td>\n",
       "      <td>328.3027</td>\n",
       "      <td>48.59260</td>\n",
       "      <td>279.7101</td>\n",
       "      <td>-231.1175</td>\n",
       "    </tr>\n",
       "  </tbody>\n",
       "</table>\n",
       "</div>"
      ],
      "text/plain": [
       "        Genes    kTotal   kWithin      kOut     kDiff\n",
       "0   AT1G79990  308.7332  59.78650  248.9467 -189.1602\n",
       "1   AT5G12350  306.7064  57.71861  248.9878 -191.2692\n",
       "2   AT3G01590  285.1934  56.46979  228.7236 -172.2538\n",
       "3   AT4G27060  290.2882  55.03298  235.2552 -180.2222\n",
       "4   AT1G58220  330.0118  53.55086  276.4609 -222.9101\n",
       "5   AT1G18950  318.4421  52.98170  265.4604 -212.4787\n",
       "6   AT3G26720  314.4827  51.19667  263.2861 -212.0894\n",
       "7   AT5G13710  280.7755  50.71963  230.0559 -179.3362\n",
       "8   AT2G26300  261.2472  50.71308  210.5341 -159.8210\n",
       "9   AT2G01720  272.5750  49.98906  222.5859 -172.5969\n",
       "10  AT5G46340  288.2219  49.87029  238.3516 -188.4813\n",
       "11  AT2G30260  323.6090  49.52970  274.0793 -224.5496\n",
       "12  AT3G28860  249.5123  49.49629  200.0160 -150.5198\n",
       "13  AT1G76460  294.5091  48.62210  245.8870 -197.2649\n",
       "14  AT4G20400  328.3027  48.59260  279.7101 -231.1175"
      ]
     },
     "execution_count": 19,
     "metadata": {},
     "output_type": "execute_result"
    }
   ],
   "source": [
    "file = file_nameKc\n",
    "df = pd.read_csv(file_nameKc, delimiter='\\s+', header=0)  #sep='\\t', \n",
    "#set_knn = set(df['Genes'].drop_duplicates().to_list())\n",
    "df.head(15)"
   ]
  },
  {
   "cell_type": "code",
   "execution_count": 20,
   "metadata": {},
   "outputs": [
    {
     "name": "stdout",
     "output_type": "stream",
     "text": [
      "Ch22_Module_darkmagenta_kWithin_Top30\n",
      "AT1G79990,\n",
      "AT5G12350,\n",
      "AT3G01590,\n",
      "AT4G27060,\n",
      "AT1G58220,\n",
      "AT1G18950,\n",
      "AT3G26720,\n",
      "AT5G13710,\n",
      "AT2G26300,\n",
      "AT2G01720,\n",
      "AT5G46340,\n",
      "AT2G30260,\n",
      "AT3G28860,\n",
      "AT1G76460,\n",
      "AT4G20400,\n",
      "AT2G35110,\n",
      "AT1G28350,\n",
      "AT2G27230,\n",
      "AT2G01820,\n",
      "AT1G60070,\n",
      "AT2G27900,\n",
      "AT3G20390,\n",
      "AT1G20760,\n",
      "AT1G63110,\n",
      "AT2G05170,\n",
      "AT5G08450,\n",
      "AT3G45100,\n",
      "AT3G44330,\n",
      "AT3G01450,\n",
      "AT2G47760,\n"
     ]
    }
   ],
   "source": [
    "lst = df['Genes'].to_list()\n",
    "set_knn = set()\n",
    "print(file)\n",
    "for s in lst:\n",
    "    print(s+',')\n",
    "    set_knn.add(s)\n",
    "#set_kconn"
   ]
  },
  {
   "cell_type": "code",
   "execution_count": 21,
   "metadata": {},
   "outputs": [
    {
     "data": {
      "text/plain": [
       "<Figure size 1800x1800 with 0 Axes>"
      ]
     },
     "metadata": {},
     "output_type": "display_data"
    },
    {
     "data": {
      "image/png": "[encoded data removed]",
      "text/plain": [
       "<Figure size 432x288 with 1 Axes>"
      ]
     },
     "metadata": {
      "needs_background": "light"
     },
     "output_type": "display_data"
    }
   ],
   "source": [
    "x = df['kTotal'].to_numpy()\n",
    "y = df['kWithin'].to_numpy()\n",
    "\n",
    "# plot\n",
    "labelx = \"kTotal\"\n",
    "labely = \"kWithin\"\n",
    "figure(figsize=(6, 6), dpi=300)\n",
    "fig, ax = plt.subplots()\n",
    "\n",
    "ax.scatter(x, y, vmin=0, vmax=max(x))\n",
    "\n",
    "ax.set(xlim=(0, max(x)+(max(x)/5)),xlabel=labelx,\n",
    "       ylim=(0, max(y)+(max(y)/5)),ylabel=labely, \n",
    "       title=file_nameKc)\n",
    "\n",
    "# calc the trendline\n",
    "z = numpy.polynomial.polynomial.polyfit(x, y, 1)\n",
    "p = numpy.poly1d(z)\n",
    "ax.plot(x,p(x),\"r--\")\n",
    "# the line equation:\n",
    "eq = \"y=%.6fx+(%.6f)\"%(z[0],z[1])\n",
    "ax.text(10, max(y), eq, {'color': 'C0', 'fontsize': 13})\n",
    "#print (eq)\n",
    "\n",
    "plt.show()"
   ]
  },
  {
   "cell_type": "markdown",
   "metadata": {},
   "source": [
    "### Operaciones lógicas "
   ]
  },
  {
   "cell_type": "code",
   "execution_count": 22,
   "metadata": {},
   "outputs": [
    {
     "name": "stdout",
     "output_type": "stream",
     "text": [
      "La cardinalidad del conjunto kconn es 30\n",
      "La cardinalidad del conjunto MM y GS es 30\n"
     ]
    }
   ],
   "source": [
    "# Cardinalidad de un conjunto con len().\n",
    "### print(\"La cardinalidad del conjunto A.thaliana sana = {0} es {1}\".format(set1_ctrl,len(set1_ctrl)))  \n",
    "print(\"La cardinalidad del conjunto kconn es {0}\".format(len(set_knn)))  \n",
    "print(\"La cardinalidad del conjunto MM y GS es {0}\".format(len(set_GSMM)))  "
   ]
  },
  {
   "cell_type": "code",
   "execution_count": 23,
   "metadata": {},
   "outputs": [
    {
     "data": {
      "text/plain": [
       "False"
      ]
     },
     "execution_count": 23,
     "metadata": {},
     "output_type": "execute_result"
    }
   ],
   "source": [
    "# Igualdad\n",
    "set_GSMM == set_knn"
   ]
  },
  {
   "cell_type": "code",
   "execution_count": 24,
   "metadata": {},
   "outputs": [],
   "source": [
    "# Subconjunto: ¿estan los genes del conjunto de infectadas en el conjunto de control?\n",
    "# set_MM_GS.issubset(set_kconn)"
   ]
  },
  {
   "cell_type": "code",
   "execution_count": 47,
   "metadata": {},
   "outputs": [
    {
     "data": {
      "text/plain": [
       "{'AT1G18950', 'AT1G20760', 'AT1G28350', 'AT1G58220', 'AT1G60070', 'AT1G63110'}"
      ]
     },
     "execution_count": 47,
     "metadata": {},
     "output_type": "execute_result"
    }
   ],
   "source": [
    "# Intersección de conjuntos\n",
    "intersec = set_GSMM.intersection(set_knn)\n",
    "lng_inter = len(intersec)\n",
    "intersec"
   ]
  },
  {
   "cell_type": "code",
   "execution_count": 57,
   "metadata": {},
   "outputs": [
    {
     "name": "stdout",
     "output_type": "stream",
     "text": [
      "Module darkmagenta has 6 genes intersecting in the Top MM_GS and Top kconn sets\n",
      "AT1G18950 AT1G58220 AT1G28350 AT1G60070 AT1G20760 AT1G63110\n"
     ]
    }
   ],
   "source": [
    "if not lng_inter:\n",
    "    print(\"Module \"+ module_name +\" has none genes intersecting in the Top MM_GS and Top kconn sets\")\n",
    "else:\n",
    "    print(\"Module \"+ module_name +\" has \"+ str(lng_inter) +\" genes intersecting in the Top MM_GS and Top kconn sets\")\n",
    "    lst_intersec=list(intersec)\n",
    "    #print(lst_intersec)\n",
    " \n",
    "lst_no_quotes = ' '.join(map(str,lst_intersec))\n",
    "print(lst_no_quotes)"
   ]
  },
  {
   "cell_type": "code",
   "execution_count": 60,
   "metadata": {},
   "outputs": [
    {
     "data": {
      "text/plain": [
       "54"
      ]
     },
     "execution_count": 60,
     "metadata": {},
     "output_type": "execute_result"
    }
   ],
   "source": [
    "union = set_GSMM.union(set_knn)\n",
    "len(union)"
   ]
  },
  {
   "cell_type": "code",
   "execution_count": 28,
   "metadata": {},
   "outputs": [
    {
     "data": {
      "text/plain": [
       "{'AT1G03830',\n",
       " 'AT1G05570',\n",
       " 'AT1G05830',\n",
       " 'AT1G07820',\n",
       " 'AT1G08590',\n",
       " 'AT1G08680',\n",
       " 'AT1G09000',\n",
       " 'AT1G14910',\n",
       " 'AT1G17210',\n",
       " 'AT1G18950',\n",
       " 'AT1G19300',\n",
       " 'AT1G20760',\n",
       " 'AT1G22910',\n",
       " 'AT1G23190',\n",
       " 'AT1G27440',\n",
       " 'AT1G28110',\n",
       " 'AT1G28350',\n",
       " 'AT1G32760',\n",
       " 'AT1G34270',\n",
       " 'AT1G47290',\n",
       " 'AT1G50620',\n",
       " 'AT1G53730',\n",
       " 'AT1G54200',\n",
       " 'AT1G58025',\n",
       " 'AT1G58220',\n",
       " 'AT1G58350',\n",
       " 'AT1G60070',\n",
       " 'AT1G62970',\n",
       " 'AT1G63110',\n",
       " 'AT1G63690',\n",
       " 'AT1G76460',\n",
       " 'AT1G79990',\n",
       " 'AT2G01720',\n",
       " 'AT2G01820',\n",
       " 'AT2G05170',\n",
       " 'AT2G26300',\n",
       " 'AT2G27230',\n",
       " 'AT2G27900',\n",
       " 'AT2G30260',\n",
       " 'AT2G35110',\n",
       " 'AT2G47760',\n",
       " 'AT3G01450',\n",
       " 'AT3G01590',\n",
       " 'AT3G20390',\n",
       " 'AT3G26720',\n",
       " 'AT3G28860',\n",
       " 'AT3G44330',\n",
       " 'AT3G45100',\n",
       " 'AT4G20400',\n",
       " 'AT4G27060',\n",
       " 'AT5G08450',\n",
       " 'AT5G12350',\n",
       " 'AT5G13710',\n",
       " 'AT5G46340'}"
      ]
     },
     "execution_count": 28,
     "metadata": {},
     "output_type": "execute_result"
    }
   ],
   "source": [
    "union"
   ]
  },
  {
   "cell_type": "code",
   "execution_count": null,
   "metadata": {},
   "outputs": [],
   "source": []
  }
 ],
 "metadata": {
  "kernelspec": {
   "display_name": "Python 3 (ipykernel)",
   "language": "python",
   "name": "python3"
  },
  "language_info": {
   "codemirror_mode": {
    "name": "ipython",
    "version": 3
   },
   "file_extension": ".py",
   "mimetype": "text/x-python",
   "name": "python",
   "nbconvert_exporter": "python",
   "pygments_lexer": "ipython3",
   "version": "3.8.10"
  }
 },
 "nbformat": 4,
 "nbformat_minor": 4
}
