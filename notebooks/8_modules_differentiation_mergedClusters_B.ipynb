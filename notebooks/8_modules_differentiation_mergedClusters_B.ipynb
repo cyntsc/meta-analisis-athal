{
 "cells": [
  {
   "cell_type": "markdown",
   "metadata": {},
   "source": [
    "# ^^^ pyforest auto-imports - don't write above this line\n",
    "# 8 Modules differentiation\n",
    "\n",
    "## Negative control: Genetic Modules in plant infected not present in plant healthy \n",
    "\n",
    "**Datatype are text files with the ID of the genes**\n",
    "\n",
    "Made by: Cynthia Soto <br>\n",
    "Date: June 18th, 2021 <br>\n",
    "Last md: August 17th 2021 <br>\n",
    "\n",
    "**Assumptions:** <br>\n",
    "Exist at least 2 folders < control & infected > containing genetic modules (files) with the genes identifiers. \n",
    "The idea is to discover & present visualizations (pie-charts) with putative modules (clusters) across several logical & arithmetical comparitions. \n",
    "<br>\n",
    "The methodology consist on: <br>\n",
    "1. Get de arithmetic difference for each infected mod against all the control mods at x% of gene-identity (logical comparition based on the gene-ID)<br>\n",
    "2. Translate the logical difference in a percentual representation (arithmetic: mod-inf-gen-dif*100 / mod-inf-gen-size) <br>\n",
    "3. Keep the unique(infected mods) with <=300 genes % plot <br>\n",
    "4. Get a df with the #of ocurrences where comparitions match the criterias <br>\n",
    "5. Merge the count-mods df with the gene%-diff df & plot"
   ]
  },
  {
   "cell_type": "code",
   "execution_count": 1,
   "metadata": {},
   "outputs": [],
   "source": [
    "import os\n",
    "import matplotlib.pyplot as plt\n",
    "# Set some initial configuration \n",
    "import pandas as pd\n",
    "pd.set_option(\"display.precision\", 2)\n",
    "# ^^^ pyforest auto-imports - don't write above this line\n",
    "#from pyforest import *  # import the 40 most popular libraries to your notebook\n",
    "# to see the available libraries \n",
    "# lazy_imports()"
   ]
  },
  {
   "cell_type": "code",
   "execution_count": 2,
   "metadata": {},
   "outputs": [
    {
     "data": {
      "text/plain": [
       "'/home/cyntsc/Proyectos/tesis-code/meta-xtrome-analysis/notebooks'"
      ]
     },
     "execution_count": 2,
     "metadata": {},
     "output_type": "execute_result"
    }
   ],
   "source": [
    "os.getcwd()"
   ]
  },
  {
   "cell_type": "code",
   "execution_count": 3,
   "metadata": {},
   "outputs": [
    {
     "name": "stdout",
     "output_type": "stream",
     "text": [
      "Directory changed: /home/cyntsc/Proyectos/tesis-code/meta-xtrome-analysis/results-data/wgcna\n"
     ]
    }
   ],
   "source": [
    "# Set the base directory\n",
    "try:\n",
    "    # Change the current working Directory      \n",
    "    os.chdir(\"../results-data/wgcna\")\n",
    "    print(\"Directory changed:\", os.getcwd() )\n",
    "except OSError:\n",
    "    print(\"Can't change the Current Working Directory\")        "
   ]
  },
  {
   "cell_type": "markdown",
   "metadata": {},
   "source": [
    "### Folders with modules identify in wgcna"
   ]
  },
  {
   "cell_type": "code",
   "execution_count": 4,
   "metadata": {},
   "outputs": [
    {
     "name": "stdout",
     "output_type": "stream",
     "text": [
      "/home/cyntsc/Proyectos/tesis-code/meta-xtrome-analysis/results-data/wgcna/Athal_infected_mods_comparition_profile90.csv\n",
      "/home/cyntsc/Proyectos/tesis-code/meta-xtrome-analysis/results-data/wgcna/Athal_infected_selected_clusters.csv\n",
      "/home/cyntsc/Proyectos/tesis-code/meta-xtrome-analysis/results-data/wgcna/Athal_infected_mods_comparition_profile100.csv\n",
      "/home/cyntsc/Proyectos/tesis-code/meta-xtrome-analysis/results-data/wgcna/Athal_infected_mods_comparition_profile.csv\n",
      "/home/cyntsc/Proyectos/tesis-code/meta-xtrome-analysis/results-data/wgcna/Athal_infected_mods_merged_MatrixE\n",
      "/home/cyntsc/Proyectos/tesis-code/meta-xtrome-analysis/results-data/wgcna/Athal_infected_mods_comparition_profile95.csv\n",
      "/home/cyntsc/Proyectos/tesis-code/meta-xtrome-analysis/results-data/wgcna/Athal_infected_mods_comparition_profile80.csv\n",
      "/home/cyntsc/Proyectos/tesis-code/meta-xtrome-analysis/results-data/wgcna/Athal_healthy_mods_merged_MatrixD\n",
      "/home/cyntsc/Proyectos/tesis-code/meta-xtrome-analysis/results-data/wgcna/Athal_healthy_mods_MatrixD\n",
      "/home/cyntsc/Proyectos/tesis-code/meta-xtrome-analysis/results-data/wgcna/Athal_healthy_selected_clusters.csv\n",
      "/home/cyntsc/Proyectos/tesis-code/meta-xtrome-analysis/results-data/wgcna/Athal_infected_mods_MatrixE\n"
     ]
    }
   ],
   "source": [
    "# Check the available folders with genetic modules\n",
    "import glob\n",
    "## check a bit of the files to be processed ... are they ok?\n",
    "s_path = str(os.getcwd()+'/Athal*') \n",
    "all_files = glob.glob(s_path)\n",
    "for file in all_files:\n",
    "    print(file)"
   ]
  },
  {
   "cell_type": "markdown",
   "metadata": {},
   "source": [
    "### Function declaration"
   ]
  },
  {
   "cell_type": "code",
   "execution_count": 5,
   "metadata": {},
   "outputs": [],
   "source": [
    "def load_ctl_mod_to_compare(s_mod_name):\n",
    "    # Create a set of the module in control required\n",
    "    # IN:     @ s_mod_name: name of the file containing the gene list\n",
    "    # OUT:    @ set_gene_ctrl: a set containing the unique genes to be compared \n",
    "    mod = '../Athal_healthy_mods_merged_MatrixD/'+ s_mod_name\n",
    "    df1 = pd.read_csv(mod, header=None)    ## nrows=100, usecols=[0,1]\n",
    "    gene_inf_lst = df1[0].tolist()\n",
    "    set_gene_ctrl = set(gene_inf_lst)\n",
    "    #print(set_gene_ctrl)\n",
    "    return set_gene_ctrl"
   ]
  },
  {
   "cell_type": "code",
   "execution_count": 6,
   "metadata": {},
   "outputs": [],
   "source": [
    "def make_autopct(values):\n",
    "    def my_autopct(pct):\n",
    "        total = sum(values)\n",
    "        val = int(round(pct*total/100.0))\n",
    "        return '{p:.1f}% ({v:d})'.format(p=pct,v=val)\n",
    "    return my_autopct"
   ]
  },
  {
   "cell_type": "code",
   "execution_count": 7,
   "metadata": {},
   "outputs": [],
   "source": [
    "def make_autopct2(values):\n",
    "    def my_autopct(pct):\n",
    "        total = sum(values)\n",
    "        val = int(round(pct*total/100.0))\n",
    "        return '{v:d}'.format(p=pct,v=val)\n",
    "    return my_autopct"
   ]
  },
  {
   "cell_type": "code",
   "execution_count": 1,
   "metadata": {},
   "outputs": [],
   "source": [
    "def make_pie_donut_chart(q, lbs, title):\n",
    "    fig1, ax1 = plt.subplots(figsize=(10,8))\n",
    "    # Labels with percentual and float values\n",
    "    ax1.pie(q, labels=lbs,autopct=make_autopct2(q), \n",
    "             textprops={'fontsize': 16}, startangle=50)              \n",
    "    centre_circle = plt.Circle((0,0),0.70,fc='white')\n",
    "    ax1.text(0, -.2, title, ha='center', fontsize=17)\n",
    "\n",
    "    fig = plt.gcf()\n",
    "    fig.gca().add_artist(centre_circle)# Equal aspect ratio ensures that pie is drawn as a circle\n",
    "    ax1.axis('equal')  \n",
    "    plt.tight_layout()\n",
    "    plt.show()\n",
    "    return"
   ]
  },
  {
   "cell_type": "code",
   "execution_count": 51,
   "metadata": {},
   "outputs": [],
   "source": [
    "def make_pie_donut_chart2(q, lbs, title):\n",
    "    fig1, ax1 = plt.subplots(figsize=(10,8))\n",
    "    # Labels with percentual and float values\n",
    "    ax1.pie(q, labels=lbs,autopct=make_autopct2(q), \n",
    "             textprops={'fontsize': 16}, startangle=50)              \n",
    "    centre_circle = plt.Circle((0,0),0.70,fc='white')\n",
    "    ax1.text(0, -.1, title, ha='center', fontsize=24)\n",
    "\n",
    "    fig = plt.gcf()\n",
    "    fig.gca().add_artist(centre_circle)# Equal aspect ratio ensures that pie is drawn as a circle\n",
    "    ax1.axis('equal')  \n",
    "    plt.tight_layout()\n",
    "    plt.show()\n",
    "    return"
   ]
  },
  {
   "cell_type": "markdown",
   "metadata": {},
   "source": [
    "### Modules comparitions\n",
    "#### Create the list of modules in the infected dataset to be compared \n",
    "Option 1: we can pick up to make logic comparition using all the clusters (MGI agains MGC preselected) <br>\n",
    "Option 2: we can pick up to make logic comparition using pre-clusters (preselected MGI agains MGC preselected) <br>"
   ]
  },
  {
   "cell_type": "code",
   "execution_count": 9,
   "metadata": {},
   "outputs": [],
   "source": [
    "os.chdir(\"Athal_infected_mods_merged_MatrixE\")"
   ]
  },
  {
   "cell_type": "code",
   "execution_count": 10,
   "metadata": {},
   "outputs": [],
   "source": [
    "##########################################\n",
    "#   This chunk is for option 1 \n",
    "##########################################\n",
    "\n",
    "# dirListing_inf = os.listdir(str(os.getcwd()))\n",
    "# print(\"Number of modules in infected dataset:\" + str(len(dirListing_inf)))\n",
    "# path_files = os.getcwd()\n",
    "# print(path_files)\n",
    "# dirListing_inf[0:5]"
   ]
  },
  {
   "cell_type": "code",
   "execution_count": 11,
   "metadata": {},
   "outputs": [
    {
     "data": {
      "text/html": [
       "<div>\n",
       "<style scoped>\n",
       "    .dataframe tbody tr th:only-of-type {\n",
       "        vertical-align: middle;\n",
       "    }\n",
       "\n",
       "    .dataframe tbody tr th {\n",
       "        vertical-align: top;\n",
       "    }\n",
       "\n",
       "    .dataframe thead th {\n",
       "        text-align: right;\n",
       "    }\n",
       "</style>\n",
       "<table border=\"1\" class=\"dataframe\">\n",
       "  <thead>\n",
       "    <tr style=\"text-align: right;\">\n",
       "      <th></th>\n",
       "      <th>mergedColors</th>\n",
       "    </tr>\n",
       "  </thead>\n",
       "  <tbody>\n",
       "    <tr>\n",
       "      <th>0</th>\n",
       "      <td>chocolate</td>\n",
       "    </tr>\n",
       "    <tr>\n",
       "      <th>1</th>\n",
       "      <td>chocolate2</td>\n",
       "    </tr>\n",
       "    <tr>\n",
       "      <th>2</th>\n",
       "      <td>green3</td>\n",
       "    </tr>\n",
       "    <tr>\n",
       "      <th>3</th>\n",
       "      <td>lavender</td>\n",
       "    </tr>\n",
       "    <tr>\n",
       "      <th>4</th>\n",
       "      <td>dodgerblue1</td>\n",
       "    </tr>\n",
       "  </tbody>\n",
       "</table>\n",
       "</div>"
      ],
      "text/plain": [
       "  mergedColors\n",
       "0    chocolate\n",
       "1   chocolate2\n",
       "2       green3\n",
       "3     lavender\n",
       "4  dodgerblue1"
      ]
     },
     "execution_count": 11,
     "metadata": {},
     "output_type": "execute_result"
    }
   ],
   "source": [
    "##########################################\n",
    "#   This chunk is for option 2 \n",
    "##########################################\n",
    "\n",
    "df_MGI = pd.read_csv(\"../Athal_infected_selected_clusters.csv\", header=0, usecols=[2])\n",
    "df_MGI.head(5)"
   ]
  },
  {
   "cell_type": "code",
   "execution_count": 12,
   "metadata": {},
   "outputs": [
    {
     "data": {
      "text/plain": [
       "['mod_merged_chocolate.txt',\n",
       " 'mod_merged_chocolate2.txt',\n",
       " 'mod_merged_green3.txt',\n",
       " 'mod_merged_lavender.txt',\n",
       " 'mod_merged_dodgerblue1.txt']"
      ]
     },
     "execution_count": 12,
     "metadata": {},
     "output_type": "execute_result"
    }
   ],
   "source": [
    "#Create the lst of the modules in recursive mod\n",
    "df_MGI[\"mergedColors\"] = 'mod_merged_' + df_MGI['mergedColors'] + '.txt'\n",
    "df_MGI.head(5)\n",
    "dirListing_inf = df_MGI['mergedColors'].to_list()\n",
    "dirListing_inf[0:5]"
   ]
  },
  {
   "cell_type": "code",
   "execution_count": 14,
   "metadata": {},
   "outputs": [
    {
     "data": {
      "text/plain": [
       "22"
      ]
     },
     "execution_count": 14,
     "metadata": {},
     "output_type": "execute_result"
    }
   ],
   "source": [
    "# preselected mods\n",
    "len(dirListing_inf)"
   ]
  },
  {
   "cell_type": "markdown",
   "metadata": {},
   "source": [
    "## Make logic commparitions between treatment & control modules (wgcna modules)"
   ]
  },
  {
   "cell_type": "markdown",
   "metadata": {},
   "source": [
    "1. Create a list with the module's names (control) to be parsed in recursive mode <br>\n",
    "**Option 1**: parse a directory to create the list of genetic control modules (MGC) <br>\n",
    "**Option 2**: parse a file with preselected MGC to create the list of genetic control modules (MGC) <br>\n",
    "\n",
    "2. Build a dictionary to save the result's comparitions for further analysis <br>\n",
    "Parse infected modules across control modules (w/high correlation) saved in the variable 'lst_mods_ctrl' (step 1)"
   ]
  },
  {
   "cell_type": "code",
   "execution_count": 16,
   "metadata": {},
   "outputs": [],
   "source": [
    "# STEP 1\n",
    "# Option 1: This chunk create a list of (all) healthy modules parsing a specific whole directory \n",
    "\n",
    "# os.chdir(\"../Athal_healthy_mods_merged_MatrixD\")\n",
    "# print(\"Directory changed:\", os.getcwd() )\n",
    "# # First check the number of modules to compare \n",
    "# dirListing_ctl = os.listdir(str(os.getcwd()))\n",
    "# i_mods_to_parse = len(dirListing_ctl)\n",
    "# print(\"Number of modules in ctrl:\" + str(i_mods_to_parse))\n",
    "\n",
    "# # Second check the name of the modules\n",
    "# s_path = str(os.getcwd()+'/*') \n",
    "# path_files_ctrl = glob.glob(s_path)\n",
    "# #print(\"Path file control:\", path_files_ctrl)\n",
    "\n",
    "# #Create the lst of the modules in recursive mode\n",
    "# lst_mods_ctrl=[]\n",
    "# for file in path_files_ctrl:\n",
    "#     #print(os.path.basename(file))\n",
    "#     lst_mods_ctrl.append(os.path.basename(file))\n",
    "# print(lst_mods_ctrl[0:5])\n",
    "# i_mods_to_parse = len(lst_mods_ctrl)"
   ]
  },
  {
   "cell_type": "code",
   "execution_count": 17,
   "metadata": {},
   "outputs": [
    {
     "name": "stdout",
     "output_type": "stream",
     "text": [
      "['mod_merged_coral3.txt', 'mod_merged_mistyrose3.txt', 'mod_merged_tan1.txt', 'mod_merged_orange1.txt']\n",
      "21\n"
     ]
    }
   ],
   "source": [
    "# STEP 1\n",
    "# Option 2: This chunk create a list of healthy preselected modules \n",
    "# This option takes into account that the genetic module's comparitions be made just over relevant healthy mods\n",
    "# read csv file\n",
    "df=pd.read_csv(\"../Athal_healthy_selected_clusters.csv\", sep=',', header=0, usecols=[1])\n",
    "df\n",
    "#Create the lst of the modules in recursive mod\n",
    "df[\"mergedColors\"] = 'mod_merged_' + df['mergedColors'] + '.txt'\n",
    "lst_mods_ctrl = df[\"mergedColors\"].to_list()\n",
    "print(lst_mods_ctrl[0:4])\n",
    "i_mods_to_parse = len(lst_mods_ctrl)\n",
    "print(i_mods_to_parse)\n",
    "#os.chdir(\"../Athal_healthy_mods_merged_MatrixD\")"
   ]
  },
  {
   "cell_type": "code",
   "execution_count": 19,
   "metadata": {},
   "outputs": [],
   "source": [
    "# STEP 2\n",
    "# Build a dictionary to save the result's comparitions for further analysis \n",
    "# print(os.getcwd())"
   ]
  },
  {
   "cell_type": "code",
   "execution_count": 20,
   "metadata": {},
   "outputs": [
    {
     "name": "stdout",
     "output_type": "stream",
     "text": [
      "Infected Mod compare 1: mod_merged_chocolate.txt have 818 unique genes\n",
      "Infected Mod compare 2: mod_merged_chocolate2.txt have 573 unique genes\n",
      "Infected Mod compare 3: mod_merged_green3.txt have 472 unique genes\n",
      "Infected Mod compare 4: mod_merged_lavender.txt have 99 unique genes\n",
      "Infected Mod compare 5: mod_merged_dodgerblue1.txt have 72 unique genes\n",
      "Infected Mod compare 6: mod_merged_mediumpurple1.txt have 189 unique genes\n",
      "Infected Mod compare 7: mod_merged_dodgerblue4.txt have 592 unique genes\n",
      "Infected Mod compare 8: mod_merged_darkmagenta.txt have 133 unique genes\n",
      "Infected Mod compare 9: mod_merged_hotpink3.txt have 1098 unique genes\n",
      "Infected Mod compare 10: mod_merged_palevioletred1.txt have 368 unique genes\n",
      "Infected Mod compare 11: mod_merged_tomato2.txt have 218 unique genes\n",
      "Infected Mod compare 12: mod_merged_bisque4.txt have 115 unique genes\n",
      "Infected Mod compare 13: mod_merged_deepskyblue.txt have 39 unique genes\n",
      "Infected Mod compare 14: mod_merged_blue2.txt have 416 unique genes\n",
      "Infected Mod compare 15: mod_merged_brown2.txt have 261 unique genes\n",
      "Infected Mod compare 16: mod_merged_darkolivegreen4.txt have 597 unique genes\n",
      "Infected Mod compare 17: mod_merged_green.txt have 236 unique genes\n",
      "Infected Mod compare 18: mod_merged_tan3.txt have 189 unique genes\n",
      "Infected Mod compare 19: mod_merged_indianred.txt have 160 unique genes\n",
      "Infected Mod compare 20: mod_merged_lightsteelblue.txt have 540 unique genes\n",
      "Infected Mod compare 21: mod_merged_lightblue2.txt have 196 unique genes\n",
      "Infected Mod compare 22: mod_merged_antiquewhite.txt have 135 unique genes\n",
      "done\n"
     ]
    }
   ],
   "source": [
    "#### \n",
    "my_dict={}\n",
    "x = 1\n",
    "y = 1 # for assing unique keys to the dict\n",
    "\n",
    "# os.chdir(\"../Athal_infected_mods_merged_MatrixE\")\n",
    "# print(os.getcwd())\n",
    "for file in dirListing_inf:    # files is each infected module\n",
    "    #print(file)\n",
    "    # Prepare first set to be compared\n",
    "    df1 = pd.read_csv(file, header=None)    ## nrows=100, usecols=[0,1]\n",
    "    gene_list = df1[0].tolist()\n",
    "    # Get a unique set of genes from the specific infected module\n",
    "    uniqueGenes_inf = set(gene_list)\n",
    "    #print(uniqueGenes_inf)\n",
    "    mod_inf_name = str(os.path.basename(file))\n",
    "    mod_inf_name_lng = len(uniqueGenes_inf)\n",
    "    print(\"Infected Mod compare \" + str(x) + \": \" + mod_inf_name + ' have ' + str(mod_inf_name_lng) + ' unique genes')\n",
    "   \n",
    "    ##################################\n",
    "    # Compare the specific infected mod against all the healthy preselected mods to the percentual diference\n",
    "    # Go to the folder <<control>> because is the one to be parsed \n",
    "    os.chdir(\"../Athal_healthy_mods_merged_MatrixD\")\n",
    "    for i in range (i_mods_to_parse):  #i_mods_to_parse\n",
    "        mod_name = lst_mods_ctrl[i]\n",
    "        #print(\"Ctrl mod: \", mod_name)\n",
    "        #call the function that load the healthy mod to be compared\n",
    "        uniqueGenes_ctr = load_ctl_mod_to_compare(mod_name)\n",
    "        dif_AB = len(uniqueGenes_inf - uniqueGenes_ctr) \n",
    "        # Make the module logic comparition\n",
    "        if mod_inf_name_lng == dif_AB:\n",
    "            PercDif_AB = 100\n",
    "        else :\n",
    "            PercDif_AB = (100 * dif_AB) / mod_inf_name_lng\n",
    "        # mod_inf_name, mod_inf_name_lng, \n",
    "        mod_ctl_name_lng = len(uniqueGenes_ctr)\n",
    "        #print(mod_name, '\\t', mod_ctl_name_lng,'\\t',dif_AB,'\\t', PercDif_AB)\n",
    "        # Insert the result of the comparition into a dicitonary for further analysis\n",
    "        #print(y)\n",
    "        my_dict[y] = {}\n",
    "        my_dict[y]['Mod_Inf'] = mod_inf_name.rsplit( \".\", 1 )[ 0 ] \n",
    "        my_dict[y]['Mod_Lng_Inf'] = mod_inf_name_lng\n",
    "        my_dict[y]['Mod_Ctl'] = mod_name.rsplit(\".\",1)[0]\n",
    "        my_dict[y]['Mod_Lng_Ctl'] = mod_ctl_name_lng\n",
    "        my_dict[y]['Genes_diff'] = dif_AB\n",
    "        my_dict[y]['Perc_diff']= PercDif_AB\n",
    "        y = y+1\n",
    "    ################################## \n",
    "    \n",
    "    # Now change the directory bacause of another module of infected is going to be read\n",
    "    os.chdir(\"../Athal_infected_mods_merged_MatrixE\")\n",
    "    x = x + 1    # to escape in the first infected mod\n",
    "    #if x > 3: break\n",
    "#print(my_dict)              \n",
    "print(\"done\")"
   ]
  },
  {
   "cell_type": "code",
   "execution_count": 21,
   "metadata": {},
   "outputs": [
    {
     "data": {
      "text/plain": [
       "{'Mod_Inf': 'mod_merged_chocolate',\n",
       " 'Mod_Lng_Inf': 818,\n",
       " 'Mod_Ctl': 'mod_merged_coral3',\n",
       " 'Mod_Lng_Ctl': 2024,\n",
       " 'Genes_diff': 758,\n",
       " 'Perc_diff': 92.66503667481662}"
      ]
     },
     "execution_count": 21,
     "metadata": {},
     "output_type": "execute_result"
    }
   ],
   "source": [
    "my_dict[1]\n",
    "#my_dict[1]['Perc_diff']"
   ]
  },
  {
   "cell_type": "code",
   "execution_count": 22,
   "metadata": {},
   "outputs": [
    {
     "data": {
      "text/html": [
       "<div>\n",
       "<style scoped>\n",
       "    .dataframe tbody tr th:only-of-type {\n",
       "        vertical-align: middle;\n",
       "    }\n",
       "\n",
       "    .dataframe tbody tr th {\n",
       "        vertical-align: top;\n",
       "    }\n",
       "\n",
       "    .dataframe thead th {\n",
       "        text-align: right;\n",
       "    }\n",
       "</style>\n",
       "<table border=\"1\" class=\"dataframe\">\n",
       "  <thead>\n",
       "    <tr style=\"text-align: right;\">\n",
       "      <th></th>\n",
       "      <th>1</th>\n",
       "      <th>2</th>\n",
       "      <th>3</th>\n",
       "      <th>4</th>\n",
       "      <th>5</th>\n",
       "      <th>6</th>\n",
       "      <th>7</th>\n",
       "      <th>8</th>\n",
       "      <th>9</th>\n",
       "      <th>10</th>\n",
       "      <th>...</th>\n",
       "      <th>453</th>\n",
       "      <th>454</th>\n",
       "      <th>455</th>\n",
       "      <th>456</th>\n",
       "      <th>457</th>\n",
       "      <th>458</th>\n",
       "      <th>459</th>\n",
       "      <th>460</th>\n",
       "      <th>461</th>\n",
       "      <th>462</th>\n",
       "    </tr>\n",
       "  </thead>\n",
       "  <tbody>\n",
       "    <tr>\n",
       "      <th>Mod_Inf</th>\n",
       "      <td>mod_merged_chocolate</td>\n",
       "      <td>mod_merged_chocolate</td>\n",
       "      <td>mod_merged_chocolate</td>\n",
       "      <td>mod_merged_chocolate</td>\n",
       "      <td>mod_merged_chocolate</td>\n",
       "      <td>mod_merged_chocolate</td>\n",
       "      <td>mod_merged_chocolate</td>\n",
       "      <td>mod_merged_chocolate</td>\n",
       "      <td>mod_merged_chocolate</td>\n",
       "      <td>mod_merged_chocolate</td>\n",
       "      <td>...</td>\n",
       "      <td>mod_merged_antiquewhite</td>\n",
       "      <td>mod_merged_antiquewhite</td>\n",
       "      <td>mod_merged_antiquewhite</td>\n",
       "      <td>mod_merged_antiquewhite</td>\n",
       "      <td>mod_merged_antiquewhite</td>\n",
       "      <td>mod_merged_antiquewhite</td>\n",
       "      <td>mod_merged_antiquewhite</td>\n",
       "      <td>mod_merged_antiquewhite</td>\n",
       "      <td>mod_merged_antiquewhite</td>\n",
       "      <td>mod_merged_antiquewhite</td>\n",
       "    </tr>\n",
       "    <tr>\n",
       "      <th>Mod_Lng_Inf</th>\n",
       "      <td>818</td>\n",
       "      <td>818</td>\n",
       "      <td>818</td>\n",
       "      <td>818</td>\n",
       "      <td>818</td>\n",
       "      <td>818</td>\n",
       "      <td>818</td>\n",
       "      <td>818</td>\n",
       "      <td>818</td>\n",
       "      <td>818</td>\n",
       "      <td>...</td>\n",
       "      <td>135</td>\n",
       "      <td>135</td>\n",
       "      <td>135</td>\n",
       "      <td>135</td>\n",
       "      <td>135</td>\n",
       "      <td>135</td>\n",
       "      <td>135</td>\n",
       "      <td>135</td>\n",
       "      <td>135</td>\n",
       "      <td>135</td>\n",
       "    </tr>\n",
       "    <tr>\n",
       "      <th>Mod_Ctl</th>\n",
       "      <td>mod_merged_coral3</td>\n",
       "      <td>mod_merged_mistyrose3</td>\n",
       "      <td>mod_merged_tan1</td>\n",
       "      <td>mod_merged_orange1</td>\n",
       "      <td>mod_merged_deepskyblue</td>\n",
       "      <td>mod_merged_darkolivegreen4</td>\n",
       "      <td>mod_merged_thistle1</td>\n",
       "      <td>mod_merged_magenta2</td>\n",
       "      <td>mod_merged_lightblue1</td>\n",
       "      <td>mod_merged_darkolivegreen2</td>\n",
       "      <td>...</td>\n",
       "      <td>mod_merged_antiquewhite</td>\n",
       "      <td>mod_merged_navajowhite3</td>\n",
       "      <td>mod_merged_mediumpurple1</td>\n",
       "      <td>mod_merged_coral1</td>\n",
       "      <td>mod_merged_mediumpurple3</td>\n",
       "      <td>mod_merged_navajowhite1</td>\n",
       "      <td>mod_merged_blue3</td>\n",
       "      <td>mod_merged_brown3</td>\n",
       "      <td>mod_merged_antiquewhite3</td>\n",
       "      <td>mod_merged_firebrick2</td>\n",
       "    </tr>\n",
       "    <tr>\n",
       "      <th>Mod_Lng_Ctl</th>\n",
       "      <td>2024</td>\n",
       "      <td>33</td>\n",
       "      <td>33</td>\n",
       "      <td>95</td>\n",
       "      <td>834</td>\n",
       "      <td>1792</td>\n",
       "      <td>273</td>\n",
       "      <td>204</td>\n",
       "      <td>195</td>\n",
       "      <td>1175</td>\n",
       "      <td>...</td>\n",
       "      <td>577</td>\n",
       "      <td>492</td>\n",
       "      <td>273</td>\n",
       "      <td>141</td>\n",
       "      <td>109</td>\n",
       "      <td>87</td>\n",
       "      <td>79</td>\n",
       "      <td>39</td>\n",
       "      <td>764</td>\n",
       "      <td>210</td>\n",
       "    </tr>\n",
       "    <tr>\n",
       "      <th>Genes_diff</th>\n",
       "      <td>758</td>\n",
       "      <td>813</td>\n",
       "      <td>816</td>\n",
       "      <td>816</td>\n",
       "      <td>805</td>\n",
       "      <td>781</td>\n",
       "      <td>812</td>\n",
       "      <td>816</td>\n",
       "      <td>814</td>\n",
       "      <td>807</td>\n",
       "      <td>...</td>\n",
       "      <td>133</td>\n",
       "      <td>135</td>\n",
       "      <td>135</td>\n",
       "      <td>135</td>\n",
       "      <td>135</td>\n",
       "      <td>135</td>\n",
       "      <td>135</td>\n",
       "      <td>134</td>\n",
       "      <td>134</td>\n",
       "      <td>135</td>\n",
       "    </tr>\n",
       "    <tr>\n",
       "      <th>Perc_diff</th>\n",
       "      <td>93</td>\n",
       "      <td>99</td>\n",
       "      <td>1e+02</td>\n",
       "      <td>1e+02</td>\n",
       "      <td>98</td>\n",
       "      <td>95</td>\n",
       "      <td>99</td>\n",
       "      <td>1e+02</td>\n",
       "      <td>1e+02</td>\n",
       "      <td>99</td>\n",
       "      <td>...</td>\n",
       "      <td>99</td>\n",
       "      <td>100</td>\n",
       "      <td>100</td>\n",
       "      <td>100</td>\n",
       "      <td>100</td>\n",
       "      <td>100</td>\n",
       "      <td>100</td>\n",
       "      <td>99</td>\n",
       "      <td>99</td>\n",
       "      <td>100</td>\n",
       "    </tr>\n",
       "  </tbody>\n",
       "</table>\n",
       "<p>6 rows × 462 columns</p>\n",
       "</div>"
      ],
      "text/plain": [
       "                              1                      2    \\\n",
       "Mod_Inf      mod_merged_chocolate   mod_merged_chocolate   \n",
       "Mod_Lng_Inf                   818                    818   \n",
       "Mod_Ctl         mod_merged_coral3  mod_merged_mistyrose3   \n",
       "Mod_Lng_Ctl                  2024                     33   \n",
       "Genes_diff                    758                    813   \n",
       "Perc_diff                      93                     99   \n",
       "\n",
       "                              3                     4    \\\n",
       "Mod_Inf      mod_merged_chocolate  mod_merged_chocolate   \n",
       "Mod_Lng_Inf                   818                   818   \n",
       "Mod_Ctl           mod_merged_tan1    mod_merged_orange1   \n",
       "Mod_Lng_Ctl                    33                    95   \n",
       "Genes_diff                    816                   816   \n",
       "Perc_diff                   1e+02                 1e+02   \n",
       "\n",
       "                                5                           6    \\\n",
       "Mod_Inf        mod_merged_chocolate        mod_merged_chocolate   \n",
       "Mod_Lng_Inf                     818                         818   \n",
       "Mod_Ctl      mod_merged_deepskyblue  mod_merged_darkolivegreen4   \n",
       "Mod_Lng_Ctl                     834                        1792   \n",
       "Genes_diff                      805                         781   \n",
       "Perc_diff                        98                          95   \n",
       "\n",
       "                              7                     8    \\\n",
       "Mod_Inf      mod_merged_chocolate  mod_merged_chocolate   \n",
       "Mod_Lng_Inf                   818                   818   \n",
       "Mod_Ctl       mod_merged_thistle1   mod_merged_magenta2   \n",
       "Mod_Lng_Ctl                   273                   204   \n",
       "Genes_diff                    812                   816   \n",
       "Perc_diff                      99                 1e+02   \n",
       "\n",
       "                               9                           10   ...  \\\n",
       "Mod_Inf       mod_merged_chocolate        mod_merged_chocolate  ...   \n",
       "Mod_Lng_Inf                    818                         818  ...   \n",
       "Mod_Ctl      mod_merged_lightblue1  mod_merged_darkolivegreen2  ...   \n",
       "Mod_Lng_Ctl                    195                        1175  ...   \n",
       "Genes_diff                     814                         807  ...   \n",
       "Perc_diff                    1e+02                          99  ...   \n",
       "\n",
       "                                 453                      454  \\\n",
       "Mod_Inf      mod_merged_antiquewhite  mod_merged_antiquewhite   \n",
       "Mod_Lng_Inf                      135                      135   \n",
       "Mod_Ctl      mod_merged_antiquewhite  mod_merged_navajowhite3   \n",
       "Mod_Lng_Ctl                      577                      492   \n",
       "Genes_diff                       133                      135   \n",
       "Perc_diff                         99                      100   \n",
       "\n",
       "                                  455                      456  \\\n",
       "Mod_Inf       mod_merged_antiquewhite  mod_merged_antiquewhite   \n",
       "Mod_Lng_Inf                       135                      135   \n",
       "Mod_Ctl      mod_merged_mediumpurple1        mod_merged_coral1   \n",
       "Mod_Lng_Ctl                       273                      141   \n",
       "Genes_diff                        135                      135   \n",
       "Perc_diff                         100                      100   \n",
       "\n",
       "                                  457                      458  \\\n",
       "Mod_Inf       mod_merged_antiquewhite  mod_merged_antiquewhite   \n",
       "Mod_Lng_Inf                       135                      135   \n",
       "Mod_Ctl      mod_merged_mediumpurple3  mod_merged_navajowhite1   \n",
       "Mod_Lng_Ctl                       109                       87   \n",
       "Genes_diff                        135                      135   \n",
       "Perc_diff                         100                      100   \n",
       "\n",
       "                                 459                      460  \\\n",
       "Mod_Inf      mod_merged_antiquewhite  mod_merged_antiquewhite   \n",
       "Mod_Lng_Inf                      135                      135   \n",
       "Mod_Ctl             mod_merged_blue3        mod_merged_brown3   \n",
       "Mod_Lng_Ctl                       79                       39   \n",
       "Genes_diff                       135                      134   \n",
       "Perc_diff                        100                       99   \n",
       "\n",
       "                                  461                      462  \n",
       "Mod_Inf       mod_merged_antiquewhite  mod_merged_antiquewhite  \n",
       "Mod_Lng_Inf                       135                      135  \n",
       "Mod_Ctl      mod_merged_antiquewhite3    mod_merged_firebrick2  \n",
       "Mod_Lng_Ctl                       764                      210  \n",
       "Genes_diff                        134                      135  \n",
       "Perc_diff                          99                      100  \n",
       "\n",
       "[6 rows x 462 columns]"
      ]
     },
     "execution_count": 22,
     "metadata": {},
     "output_type": "execute_result"
    }
   ],
   "source": [
    "# Creates DataFrame with the dict \n",
    "# Lists of dictionaries and row index.\n",
    "df = pd.DataFrame(my_dict, index =['Mod_Inf','Mod_Lng_Inf','Mod_Ctl','Mod_Lng_Ctl','Genes_diff','Perc_diff'])\n",
    "# Print the data\n",
    "df"
   ]
  },
  {
   "cell_type": "code",
   "execution_count": 23,
   "metadata": {},
   "outputs": [
    {
     "data": {
      "text/plain": [
       "462"
      ]
     },
     "execution_count": 23,
     "metadata": {},
     "output_type": "execute_result"
    }
   ],
   "source": [
    "# number of comparitions done\n",
    "len(df.columns)"
   ]
  },
  {
   "cell_type": "code",
   "execution_count": 24,
   "metadata": {},
   "outputs": [
    {
     "data": {
      "text/html": [
       "<div>\n",
       "<style scoped>\n",
       "    .dataframe tbody tr th:only-of-type {\n",
       "        vertical-align: middle;\n",
       "    }\n",
       "\n",
       "    .dataframe tbody tr th {\n",
       "        vertical-align: top;\n",
       "    }\n",
       "\n",
       "    .dataframe thead th {\n",
       "        text-align: right;\n",
       "    }\n",
       "</style>\n",
       "<table border=\"1\" class=\"dataframe\">\n",
       "  <thead>\n",
       "    <tr style=\"text-align: right;\">\n",
       "      <th></th>\n",
       "      <th>Mod_Inf</th>\n",
       "      <th>Mod_Lng_Inf</th>\n",
       "      <th>Mod_Ctl</th>\n",
       "      <th>Mod_Lng_Ctl</th>\n",
       "      <th>Genes_diff</th>\n",
       "      <th>Perc_diff</th>\n",
       "    </tr>\n",
       "  </thead>\n",
       "  <tbody>\n",
       "    <tr>\n",
       "      <th>1</th>\n",
       "      <td>mod_merged_chocolate</td>\n",
       "      <td>818</td>\n",
       "      <td>mod_merged_coral3</td>\n",
       "      <td>2024</td>\n",
       "      <td>758</td>\n",
       "      <td>93</td>\n",
       "    </tr>\n",
       "    <tr>\n",
       "      <th>2</th>\n",
       "      <td>mod_merged_chocolate</td>\n",
       "      <td>818</td>\n",
       "      <td>mod_merged_mistyrose3</td>\n",
       "      <td>33</td>\n",
       "      <td>813</td>\n",
       "      <td>99</td>\n",
       "    </tr>\n",
       "    <tr>\n",
       "      <th>3</th>\n",
       "      <td>mod_merged_chocolate</td>\n",
       "      <td>818</td>\n",
       "      <td>mod_merged_tan1</td>\n",
       "      <td>33</td>\n",
       "      <td>816</td>\n",
       "      <td>1e+02</td>\n",
       "    </tr>\n",
       "  </tbody>\n",
       "</table>\n",
       "</div>"
      ],
      "text/plain": [
       "                Mod_Inf Mod_Lng_Inf                Mod_Ctl Mod_Lng_Ctl  \\\n",
       "1  mod_merged_chocolate         818      mod_merged_coral3        2024   \n",
       "2  mod_merged_chocolate         818  mod_merged_mistyrose3          33   \n",
       "3  mod_merged_chocolate         818        mod_merged_tan1          33   \n",
       "\n",
       "  Genes_diff Perc_diff  \n",
       "1        758        93  \n",
       "2        813        99  \n",
       "3        816     1e+02  "
      ]
     },
     "execution_count": 24,
     "metadata": {},
     "output_type": "execute_result"
    }
   ],
   "source": [
    "# transpose the df to re-organize data\n",
    "df_comp = df.T\n",
    "df_comp.head(3)"
   ]
  },
  {
   "cell_type": "code",
   "execution_count": 25,
   "metadata": {},
   "outputs": [],
   "source": [
    "# Save the file with the comparition results\n",
    "df_comp.to_csv(\"../modules_merged_comparition.csv\", sep=\",\", header=True)"
   ]
  },
  {
   "cell_type": "markdown",
   "metadata": {},
   "source": [
    "### Make profiles for each infected module based on the porcentualm difference against the MGC\n",
    "We set threshold difference at 80%, 90%, 95% and 100%\n",
    "Base on the number of infected mods differenced from the healthy mods in the % criteria of gene identity"
   ]
  },
  {
   "cell_type": "code",
   "execution_count": 26,
   "metadata": {},
   "outputs": [
    {
     "data": {
      "text/html": [
       "<div>\n",
       "<style scoped>\n",
       "    .dataframe tbody tr th:only-of-type {\n",
       "        vertical-align: middle;\n",
       "    }\n",
       "\n",
       "    .dataframe tbody tr th {\n",
       "        vertical-align: top;\n",
       "    }\n",
       "\n",
       "    .dataframe thead th {\n",
       "        text-align: right;\n",
       "    }\n",
       "</style>\n",
       "<table border=\"1\" class=\"dataframe\">\n",
       "  <thead>\n",
       "    <tr style=\"text-align: right;\">\n",
       "      <th></th>\n",
       "      <th>Mod_Inf</th>\n",
       "      <th>Mod_Lng_Inf</th>\n",
       "      <th>Mod_Ctl</th>\n",
       "      <th>Mod_Lng_Ctl</th>\n",
       "      <th>Genes_diff</th>\n",
       "      <th>Perc_diff</th>\n",
       "    </tr>\n",
       "  </thead>\n",
       "  <tbody>\n",
       "    <tr>\n",
       "      <th>1</th>\n",
       "      <td>mod_merged_chocolate</td>\n",
       "      <td>818</td>\n",
       "      <td>mod_merged_coral3</td>\n",
       "      <td>2024</td>\n",
       "      <td>758</td>\n",
       "      <td>93</td>\n",
       "    </tr>\n",
       "    <tr>\n",
       "      <th>2</th>\n",
       "      <td>mod_merged_chocolate</td>\n",
       "      <td>818</td>\n",
       "      <td>mod_merged_mistyrose3</td>\n",
       "      <td>33</td>\n",
       "      <td>813</td>\n",
       "      <td>99</td>\n",
       "    </tr>\n",
       "    <tr>\n",
       "      <th>3</th>\n",
       "      <td>mod_merged_chocolate</td>\n",
       "      <td>818</td>\n",
       "      <td>mod_merged_tan1</td>\n",
       "      <td>33</td>\n",
       "      <td>816</td>\n",
       "      <td>1e+02</td>\n",
       "    </tr>\n",
       "  </tbody>\n",
       "</table>\n",
       "</div>"
      ],
      "text/plain": [
       "                Mod_Inf Mod_Lng_Inf                Mod_Ctl Mod_Lng_Ctl  \\\n",
       "1  mod_merged_chocolate         818      mod_merged_coral3        2024   \n",
       "2  mod_merged_chocolate         818  mod_merged_mistyrose3          33   \n",
       "3  mod_merged_chocolate         818        mod_merged_tan1          33   \n",
       "\n",
       "  Genes_diff Perc_diff  \n",
       "1        758        93  \n",
       "2        813        99  \n",
       "3        816     1e+02  "
      ]
     },
     "execution_count": 26,
     "metadata": {},
     "output_type": "execute_result"
    }
   ],
   "source": [
    "df_comp.head(3)"
   ]
  },
  {
   "cell_type": "code",
   "execution_count": 27,
   "metadata": {},
   "outputs": [],
   "source": [
    "# # show a treemap plot over the Gene difference in the comparitions\n",
    "import matplotlib.pyplot as plt\n",
    "# import squarify \n",
    "\n",
    "# df_comp.sort_values('Genes_diff', ascending=False, inplace=True)\n",
    "# print(df_comp.head(5))\n",
    "# fig, ax = plt.subplots(1, figsize = (12,12))\n",
    "# squarify.plot(sizes=df_comp['Genes_diff'], \n",
    "#               label=df_comp['Mod_Inf'][:5], \n",
    "#               alpha=.8 )\n",
    "# plt.axis('off')\n",
    "# plt.show()"
   ]
  },
  {
   "cell_type": "markdown",
   "metadata": {},
   "source": [
    "### Set the percentual differenciation threshold"
   ]
  },
  {
   "cell_type": "markdown",
   "metadata": {},
   "source": [
    "**Get a dataset filtered by gene difference (% identity) & groupby mod name (infected) to cut off redundancy and count the number of ocurrences**"
   ]
  },
  {
   "cell_type": "code",
   "execution_count": 234,
   "metadata": {},
   "outputs": [
    {
     "name": "stdout",
     "output_type": "stream",
     "text": [
      "                  Mod_Inf Mod_Lng_Inf                   Mod_Ctl Mod_Lng_Ctl  \\\n",
      "23  mod_merged_chocolate2         573     mod_merged_mistyrose3          33   \n",
      "24  mod_merged_chocolate2         573           mod_merged_tan1          33   \n",
      "29  mod_merged_chocolate2         573       mod_merged_magenta2         204   \n",
      "35  mod_merged_chocolate2         573  mod_merged_mediumpurple1         273   \n",
      "37  mod_merged_chocolate2         573  mod_merged_mediumpurple3         109   \n",
      "39  mod_merged_chocolate2         573          mod_merged_blue3          79   \n",
      "44      mod_merged_green3         472     mod_merged_mistyrose3          33   \n",
      "45      mod_merged_green3         472           mod_merged_tan1          33   \n",
      "50      mod_merged_green3         472       mod_merged_magenta2         204   \n",
      "58      mod_merged_green3         472  mod_merged_mediumpurple3         109   \n",
      "\n",
      "   Genes_diff Perc_diff  \n",
      "23        573       100  \n",
      "24        573       100  \n",
      "29        573       100  \n",
      "35        573       100  \n",
      "37        573       100  \n",
      "39        573       100  \n",
      "44        472       100  \n",
      "45        472       100  \n",
      "50        472       100  \n",
      "58        472       100  \n",
      "153\n",
      "21\n"
     ]
    },
    {
     "data": {
      "text/html": [
       "<div>\n",
       "<style scoped>\n",
       "    .dataframe tbody tr th:only-of-type {\n",
       "        vertical-align: middle;\n",
       "    }\n",
       "\n",
       "    .dataframe tbody tr th {\n",
       "        vertical-align: top;\n",
       "    }\n",
       "\n",
       "    .dataframe thead th {\n",
       "        text-align: right;\n",
       "    }\n",
       "</style>\n",
       "<table border=\"1\" class=\"dataframe\">\n",
       "  <thead>\n",
       "    <tr style=\"text-align: right;\">\n",
       "      <th></th>\n",
       "      <th>Mod_Lng_Inf</th>\n",
       "      <th>Mod_Ctl</th>\n",
       "      <th>Mod_Lng_Ctl</th>\n",
       "      <th>Genes_diff</th>\n",
       "      <th>Perc_diff</th>\n",
       "    </tr>\n",
       "    <tr>\n",
       "      <th>Mod_Inf</th>\n",
       "      <th></th>\n",
       "      <th></th>\n",
       "      <th></th>\n",
       "      <th></th>\n",
       "      <th></th>\n",
       "    </tr>\n",
       "  </thead>\n",
       "  <tbody>\n",
       "    <tr>\n",
       "      <th>mod_merged_antiquewhite</th>\n",
       "      <td>13</td>\n",
       "      <td>13</td>\n",
       "      <td>13</td>\n",
       "      <td>13</td>\n",
       "      <td>13</td>\n",
       "    </tr>\n",
       "    <tr>\n",
       "      <th>mod_merged_bisque4</th>\n",
       "      <td>9</td>\n",
       "      <td>9</td>\n",
       "      <td>9</td>\n",
       "      <td>9</td>\n",
       "      <td>9</td>\n",
       "    </tr>\n",
       "    <tr>\n",
       "      <th>mod_merged_blue2</th>\n",
       "      <td>5</td>\n",
       "      <td>5</td>\n",
       "      <td>5</td>\n",
       "      <td>5</td>\n",
       "      <td>5</td>\n",
       "    </tr>\n",
       "    <tr>\n",
       "      <th>mod_merged_brown2</th>\n",
       "      <td>6</td>\n",
       "      <td>6</td>\n",
       "      <td>6</td>\n",
       "      <td>6</td>\n",
       "      <td>6</td>\n",
       "    </tr>\n",
       "    <tr>\n",
       "      <th>mod_merged_chocolate2</th>\n",
       "      <td>6</td>\n",
       "      <td>6</td>\n",
       "      <td>6</td>\n",
       "      <td>6</td>\n",
       "      <td>6</td>\n",
       "    </tr>\n",
       "    <tr>\n",
       "      <th>mod_merged_darkmagenta</th>\n",
       "      <td>6</td>\n",
       "      <td>6</td>\n",
       "      <td>6</td>\n",
       "      <td>6</td>\n",
       "      <td>6</td>\n",
       "    </tr>\n",
       "    <tr>\n",
       "      <th>mod_merged_darkolivegreen4</th>\n",
       "      <td>2</td>\n",
       "      <td>2</td>\n",
       "      <td>2</td>\n",
       "      <td>2</td>\n",
       "      <td>2</td>\n",
       "    </tr>\n",
       "    <tr>\n",
       "      <th>mod_merged_deepskyblue</th>\n",
       "      <td>11</td>\n",
       "      <td>11</td>\n",
       "      <td>11</td>\n",
       "      <td>11</td>\n",
       "      <td>11</td>\n",
       "    </tr>\n",
       "    <tr>\n",
       "      <th>mod_merged_dodgerblue1</th>\n",
       "      <td>13</td>\n",
       "      <td>13</td>\n",
       "      <td>13</td>\n",
       "      <td>13</td>\n",
       "      <td>13</td>\n",
       "    </tr>\n",
       "    <tr>\n",
       "      <th>mod_merged_dodgerblue4</th>\n",
       "      <td>2</td>\n",
       "      <td>2</td>\n",
       "      <td>2</td>\n",
       "      <td>2</td>\n",
       "      <td>2</td>\n",
       "    </tr>\n",
       "  </tbody>\n",
       "</table>\n",
       "</div>"
      ],
      "text/plain": [
       "                            Mod_Lng_Inf  Mod_Ctl  Mod_Lng_Ctl  Genes_diff  \\\n",
       "Mod_Inf                                                                     \n",
       "mod_merged_antiquewhite              13       13           13          13   \n",
       "mod_merged_bisque4                    9        9            9           9   \n",
       "mod_merged_blue2                      5        5            5           5   \n",
       "mod_merged_brown2                     6        6            6           6   \n",
       "mod_merged_chocolate2                 6        6            6           6   \n",
       "mod_merged_darkmagenta                6        6            6           6   \n",
       "mod_merged_darkolivegreen4            2        2            2           2   \n",
       "mod_merged_deepskyblue               11       11           11          11   \n",
       "mod_merged_dodgerblue1               13       13           13          13   \n",
       "mod_merged_dodgerblue4                2        2            2           2   \n",
       "\n",
       "                            Perc_diff  \n",
       "Mod_Inf                                \n",
       "mod_merged_antiquewhite            13  \n",
       "mod_merged_bisque4                  9  \n",
       "mod_merged_blue2                    5  \n",
       "mod_merged_brown2                   6  \n",
       "mod_merged_chocolate2               6  \n",
       "mod_merged_darkmagenta              6  \n",
       "mod_merged_darkolivegreen4          2  \n",
       "mod_merged_deepskyblue             11  \n",
       "mod_merged_dodgerblue1             13  \n",
       "mod_merged_dodgerblue4              2  "
      ]
     },
     "execution_count": 234,
     "metadata": {},
     "output_type": "execute_result"
    }
   ],
   "source": [
    "# selecting rows based on condition \n",
    "perc_dif_set = 100\n",
    "rslt_df = df_comp[(df_comp['Perc_diff'] >= perc_dif_set)] \n",
    "print(rslt_df.head(10))\n",
    "print(len(rslt_df))\n",
    "# Get the number of control modules differenced from the infected dataset\n",
    "df1_count = rslt_df.groupby(['Mod_Inf']).count()\n",
    "print(len(df1_count))\n",
    "df1_count.head(10)"
   ]
  },
  {
   "cell_type": "code",
   "execution_count": 235,
   "metadata": {},
   "outputs": [
    {
     "data": {
      "text/html": [
       "<div>\n",
       "<style scoped>\n",
       "    .dataframe tbody tr th:only-of-type {\n",
       "        vertical-align: middle;\n",
       "    }\n",
       "\n",
       "    .dataframe tbody tr th {\n",
       "        vertical-align: top;\n",
       "    }\n",
       "\n",
       "    .dataframe thead th {\n",
       "        text-align: right;\n",
       "    }\n",
       "</style>\n",
       "<table border=\"1\" class=\"dataframe\">\n",
       "  <thead>\n",
       "    <tr style=\"text-align: right;\">\n",
       "      <th></th>\n",
       "      <th>Mod_Inf</th>\n",
       "      <th>Mods_count</th>\n",
       "    </tr>\n",
       "  </thead>\n",
       "  <tbody>\n",
       "    <tr>\n",
       "      <th>0</th>\n",
       "      <td>mod_merged_antiquewhite</td>\n",
       "      <td>13</td>\n",
       "    </tr>\n",
       "    <tr>\n",
       "      <th>8</th>\n",
       "      <td>mod_merged_dodgerblue1</td>\n",
       "      <td>13</td>\n",
       "    </tr>\n",
       "    <tr>\n",
       "      <th>7</th>\n",
       "      <td>mod_merged_deepskyblue</td>\n",
       "      <td>11</td>\n",
       "    </tr>\n",
       "    <tr>\n",
       "      <th>14</th>\n",
       "      <td>mod_merged_lavender</td>\n",
       "      <td>11</td>\n",
       "    </tr>\n",
       "    <tr>\n",
       "      <th>13</th>\n",
       "      <td>mod_merged_indianred</td>\n",
       "      <td>10</td>\n",
       "    </tr>\n",
       "  </tbody>\n",
       "</table>\n",
       "</div>"
      ],
      "text/plain": [
       "                    Mod_Inf  Mods_count\n",
       "0   mod_merged_antiquewhite          13\n",
       "8    mod_merged_dodgerblue1          13\n",
       "7    mod_merged_deepskyblue          11\n",
       "14      mod_merged_lavender          11\n",
       "13     mod_merged_indianred          10"
      ]
     },
     "execution_count": 235,
     "metadata": {},
     "output_type": "execute_result"
    }
   ],
   "source": [
    "# The count-module infected dataset is sorted by counts to build a nice plot further\n",
    "df1_count.reset_index(inplace=True)\n",
    "df1_count.sort_values(by='Mod_Lng_Inf', axis=0, ascending=False, inplace=True, kind='quicksort', na_position='last')\n",
    "df1_count = df1_count[['Mod_Inf','Mod_Lng_Inf']]\n",
    "df1_count = df1_count.rename(columns = {'Mod_Lng_Inf':'Mods_count'})\n",
    "df1_count.to_csv(\"../Athal_infected_mods_comparition_profile\"+ str(perc_dif_set)  +\".csv\", index=False, header=True)  #wgcna folder\n",
    "df1_count.head(5)"
   ]
  },
  {
   "cell_type": "code",
   "execution_count": 236,
   "metadata": {},
   "outputs": [
    {
     "data": {
      "image/png": "[encoded data removed]",
      "text/plain": [
       "<Figure size 576x360 with 1 Axes>"
      ]
     },
     "metadata": {
      "needs_background": "light"
     },
     "output_type": "display_data"
    }
   ],
   "source": [
    "# build a histogram to show the number of ocurrences (module-count by infected module)\n",
    "ax = df1_count.hist(column='Mods_count', grid=False, color='green', edgecolor=\"yellow\", bins='auto', figsize=(8,5)) # bins=3\n",
    "plt.title('A.thaliana infected mods: profile at '+ str(perc_dif_set) +'% of gene-diff',fontsize=18);\n",
    "plt.xlabel('# control modules [max=21]',fontsize=17);\n",
    "plt.ylabel('# ocurrences',fontsize=17);\n",
    "plt.xticks(fontsize=14);\n",
    "plt.yticks(fontsize=14);"
   ]
  },
  {
   "cell_type": "code",
   "execution_count": 237,
   "metadata": {},
   "outputs": [
    {
     "name": "stdout",
     "output_type": "stream",
     "text": [
      "21\n",
      "                  Mod_Inf Mod_Lng_Inf                Mod_Ctl Mod_Lng_Ctl  \\\n",
      "23  mod_merged_chocolate2         573  mod_merged_mistyrose3          33   \n",
      "44      mod_merged_green3         472  mod_merged_mistyrose3          33   \n",
      "65    mod_merged_lavender          99  mod_merged_mistyrose3          33   \n",
      "\n",
      "   Genes_diff Perc_diff  \n",
      "23        573       100  \n",
      "44        472       100  \n",
      "65         99       100  \n"
     ]
    }
   ],
   "source": [
    "# from the rslt_df (filtered at x%) df get the unique mod-names (infected) --this have other fields need it for plotting\n",
    "df_unique_inf = rslt_df.drop_duplicates(subset=[\"Mod_Inf\"])\n",
    "print(len(df_unique_inf))\n",
    "print(df_unique_inf.head(3))"
   ]
  },
  {
   "cell_type": "code",
   "execution_count": 238,
   "metadata": {},
   "outputs": [
    {
     "name": "stdout",
     "output_type": "stream",
     "text": [
      "13\n"
     ]
    },
    {
     "data": {
      "text/html": [
       "<div>\n",
       "<style scoped>\n",
       "    .dataframe tbody tr th:only-of-type {\n",
       "        vertical-align: middle;\n",
       "    }\n",
       "\n",
       "    .dataframe tbody tr th {\n",
       "        vertical-align: top;\n",
       "    }\n",
       "\n",
       "    .dataframe thead th {\n",
       "        text-align: right;\n",
       "    }\n",
       "</style>\n",
       "<table border=\"1\" class=\"dataframe\">\n",
       "  <thead>\n",
       "    <tr style=\"text-align: right;\">\n",
       "      <th></th>\n",
       "      <th>Mod_Inf</th>\n",
       "      <th>Mod_Lng_Inf</th>\n",
       "      <th>Mod_Ctl</th>\n",
       "      <th>Mod_Lng_Ctl</th>\n",
       "      <th>Genes_diff</th>\n",
       "      <th>Perc_diff</th>\n",
       "    </tr>\n",
       "  </thead>\n",
       "  <tbody>\n",
       "    <tr>\n",
       "      <th>296</th>\n",
       "      <td>mod_merged_brown2</td>\n",
       "      <td>261</td>\n",
       "      <td>mod_merged_mistyrose3</td>\n",
       "      <td>33</td>\n",
       "      <td>261</td>\n",
       "      <td>100</td>\n",
       "    </tr>\n",
       "    <tr>\n",
       "      <th>338</th>\n",
       "      <td>mod_merged_green</td>\n",
       "      <td>236</td>\n",
       "      <td>mod_merged_mistyrose3</td>\n",
       "      <td>33</td>\n",
       "      <td>236</td>\n",
       "      <td>100</td>\n",
       "    </tr>\n",
       "    <tr>\n",
       "      <th>213</th>\n",
       "      <td>mod_merged_tomato2</td>\n",
       "      <td>218</td>\n",
       "      <td>mod_merged_tan1</td>\n",
       "      <td>33</td>\n",
       "      <td>218</td>\n",
       "      <td>100</td>\n",
       "    </tr>\n",
       "    <tr>\n",
       "      <th>422</th>\n",
       "      <td>mod_merged_lightblue2</td>\n",
       "      <td>196</td>\n",
       "      <td>mod_merged_mistyrose3</td>\n",
       "      <td>33</td>\n",
       "      <td>196</td>\n",
       "      <td>100</td>\n",
       "    </tr>\n",
       "    <tr>\n",
       "      <th>107</th>\n",
       "      <td>mod_merged_mediumpurple1</td>\n",
       "      <td>189</td>\n",
       "      <td>mod_merged_mistyrose3</td>\n",
       "      <td>33</td>\n",
       "      <td>189</td>\n",
       "      <td>100</td>\n",
       "    </tr>\n",
       "  </tbody>\n",
       "</table>\n",
       "</div>"
      ],
      "text/plain": [
       "                      Mod_Inf Mod_Lng_Inf                Mod_Ctl Mod_Lng_Ctl  \\\n",
       "296         mod_merged_brown2         261  mod_merged_mistyrose3          33   \n",
       "338          mod_merged_green         236  mod_merged_mistyrose3          33   \n",
       "213        mod_merged_tomato2         218        mod_merged_tan1          33   \n",
       "422     mod_merged_lightblue2         196  mod_merged_mistyrose3          33   \n",
       "107  mod_merged_mediumpurple1         189  mod_merged_mistyrose3          33   \n",
       "\n",
       "    Genes_diff Perc_diff  \n",
       "296        261       100  \n",
       "338        236       100  \n",
       "213        218       100  \n",
       "422        196       100  \n",
       "107        189       100  "
      ]
     },
     "execution_count": 238,
     "metadata": {},
     "output_type": "execute_result"
    }
   ],
   "source": [
    "# get the modules (infected) with gene-member-density less than 300 genes\n",
    "df_preselected_mods = df_unique_inf[df_unique_inf['Mod_Lng_Inf']<=300]\n",
    "mods_count = len(df_preselected_mods)\n",
    "print(mods_count)\n",
    "# sort by gene-size to plot\n",
    "df_preselected_mods = df_preselected_mods.sort_values(by=['Mod_Lng_Inf'], ascending=False)\n",
    "df_preselected_mods.head(5)"
   ]
  },
  {
   "cell_type": "markdown",
   "metadata": {},
   "source": [
    "### Plot a pie chart to show putative gene-mods (infected) that passed 2 criterias:\n",
    "1. Gene-identity surpass x% <br>\n",
    "2. Gene-size mod is less than x <br>\n",
    "\n",
    "**Result**: number of 'ocurrences' different against 'mods-control' is a clue to select mods to track in the biology context"
   ]
  },
  {
   "cell_type": "code",
   "execution_count": 239,
   "metadata": {},
   "outputs": [
    {
     "data": {
      "text/plain": [
       "[261, 236, 218, 196]"
      ]
     },
     "execution_count": 239,
     "metadata": {},
     "output_type": "execute_result"
    }
   ],
   "source": [
    "# get series for plotting a pie chart\n",
    "labels = df_preselected_mods[\"Mod_Inf\"].to_list()\n",
    "labels = ([s.replace('mod_merged_', '') for s in labels])\n",
    "#labels\n",
    "quantity = df_preselected_mods[\"Mod_Lng_Inf\"].to_list()\n",
    "quantity[0:4]"
   ]
  },
  {
   "cell_type": "code",
   "execution_count": 240,
   "metadata": {},
   "outputs": [],
   "source": [
    "# fig1, ax1 = plt.subplots(figsize=(10,8))\n",
    "\n",
    "# # Labels with percentual and float values\n",
    "# ax1.pie(quantity, labels=labels,autopct=make_autopct2(quantity), \n",
    "#          textprops={'fontsize': 14}, startangle=50)              \n",
    "# centre_circle = plt.Circle((0,0),0.70,fc='white')\n",
    "# ax1.text(0, -.2, '20 Athal infected \\npreselected mods \\n\\ncorr ~0.80 \\ngene-diff-ID>80 \\nmod-size<=300 genes', \n",
    "#          ha='center', fontsize=17)\n",
    "\n",
    "# fig = plt.gcf()\n",
    "# fig.gca().add_artist(centre_circle)# Equal aspect ratio ensures that pie is drawn as a circle\n",
    "# ax1.axis('equal')  \n",
    "# plt.tight_layout()\n",
    "# #plt.title(\"Preselected modules in Arabidopsis infected (corr ~0.80)\\ngene-diff-ID>80% & mod-size<=300 genes\", fontsize=20)\n",
    "# plt.show()"
   ]
  },
  {
   "cell_type": "code",
   "execution_count": 241,
   "metadata": {},
   "outputs": [
    {
     "data": {
      "image/png": "[encoded data removed]",
      "text/plain": [
       "<Figure size 720x576 with 1 Axes>"
      ]
     },
     "metadata": {},
     "output_type": "display_data"
    }
   ],
   "source": [
    "text = str(mods_count)+ ' MGI \\n\\ncorr ~0.75 \\nMin-GDiff at '+ str(perc_dif_set) +'% \\nMod-Size<=300 genes'\n",
    "make_pie_donut_chart(quantity, labels, text)"
   ]
  },
  {
   "cell_type": "markdown",
   "metadata": {},
   "source": [
    "### Plot the same dataset result now by mods ocurrence difference \n",
    "Merge by 'Mod_Inf' the count-ocurrences df with the preselected df"
   ]
  },
  {
   "cell_type": "code",
   "execution_count": 242,
   "metadata": {},
   "outputs": [
    {
     "name": "stdout",
     "output_type": "stream",
     "text": [
      "                   Mod_Inf  Mods_count\n",
      "0  mod_merged_antiquewhite          13\n",
      "8   mod_merged_dodgerblue1          13\n",
      "7   mod_merged_deepskyblue          11\n"
     ]
    },
    {
     "data": {
      "text/html": [
       "<div>\n",
       "<style scoped>\n",
       "    .dataframe tbody tr th:only-of-type {\n",
       "        vertical-align: middle;\n",
       "    }\n",
       "\n",
       "    .dataframe tbody tr th {\n",
       "        vertical-align: top;\n",
       "    }\n",
       "\n",
       "    .dataframe thead th {\n",
       "        text-align: right;\n",
       "    }\n",
       "</style>\n",
       "<table border=\"1\" class=\"dataframe\">\n",
       "  <thead>\n",
       "    <tr style=\"text-align: right;\">\n",
       "      <th></th>\n",
       "      <th>Mod_Inf</th>\n",
       "      <th>Mod_Lng_Inf</th>\n",
       "      <th>Mod_Ctl</th>\n",
       "      <th>Mod_Lng_Ctl</th>\n",
       "      <th>Genes_diff</th>\n",
       "      <th>Perc_diff</th>\n",
       "    </tr>\n",
       "  </thead>\n",
       "  <tbody>\n",
       "    <tr>\n",
       "      <th>296</th>\n",
       "      <td>mod_merged_brown2</td>\n",
       "      <td>261</td>\n",
       "      <td>mod_merged_mistyrose3</td>\n",
       "      <td>33</td>\n",
       "      <td>261</td>\n",
       "      <td>100</td>\n",
       "    </tr>\n",
       "    <tr>\n",
       "      <th>338</th>\n",
       "      <td>mod_merged_green</td>\n",
       "      <td>236</td>\n",
       "      <td>mod_merged_mistyrose3</td>\n",
       "      <td>33</td>\n",
       "      <td>236</td>\n",
       "      <td>100</td>\n",
       "    </tr>\n",
       "    <tr>\n",
       "      <th>213</th>\n",
       "      <td>mod_merged_tomato2</td>\n",
       "      <td>218</td>\n",
       "      <td>mod_merged_tan1</td>\n",
       "      <td>33</td>\n",
       "      <td>218</td>\n",
       "      <td>100</td>\n",
       "    </tr>\n",
       "    <tr>\n",
       "      <th>422</th>\n",
       "      <td>mod_merged_lightblue2</td>\n",
       "      <td>196</td>\n",
       "      <td>mod_merged_mistyrose3</td>\n",
       "      <td>33</td>\n",
       "      <td>196</td>\n",
       "      <td>100</td>\n",
       "    </tr>\n",
       "    <tr>\n",
       "      <th>107</th>\n",
       "      <td>mod_merged_mediumpurple1</td>\n",
       "      <td>189</td>\n",
       "      <td>mod_merged_mistyrose3</td>\n",
       "      <td>33</td>\n",
       "      <td>189</td>\n",
       "      <td>100</td>\n",
       "    </tr>\n",
       "    <tr>\n",
       "      <th>359</th>\n",
       "      <td>mod_merged_tan3</td>\n",
       "      <td>189</td>\n",
       "      <td>mod_merged_mistyrose3</td>\n",
       "      <td>33</td>\n",
       "      <td>189</td>\n",
       "      <td>100</td>\n",
       "    </tr>\n",
       "    <tr>\n",
       "      <th>380</th>\n",
       "      <td>mod_merged_indianred</td>\n",
       "      <td>160</td>\n",
       "      <td>mod_merged_mistyrose3</td>\n",
       "      <td>33</td>\n",
       "      <td>160</td>\n",
       "      <td>100</td>\n",
       "    </tr>\n",
       "    <tr>\n",
       "      <th>443</th>\n",
       "      <td>mod_merged_antiquewhite</td>\n",
       "      <td>135</td>\n",
       "      <td>mod_merged_mistyrose3</td>\n",
       "      <td>33</td>\n",
       "      <td>135</td>\n",
       "      <td>100</td>\n",
       "    </tr>\n",
       "    <tr>\n",
       "      <th>149</th>\n",
       "      <td>mod_merged_darkmagenta</td>\n",
       "      <td>133</td>\n",
       "      <td>mod_merged_mistyrose3</td>\n",
       "      <td>33</td>\n",
       "      <td>133</td>\n",
       "      <td>100</td>\n",
       "    </tr>\n",
       "    <tr>\n",
       "      <th>233</th>\n",
       "      <td>mod_merged_bisque4</td>\n",
       "      <td>115</td>\n",
       "      <td>mod_merged_mistyrose3</td>\n",
       "      <td>33</td>\n",
       "      <td>115</td>\n",
       "      <td>100</td>\n",
       "    </tr>\n",
       "    <tr>\n",
       "      <th>65</th>\n",
       "      <td>mod_merged_lavender</td>\n",
       "      <td>99</td>\n",
       "      <td>mod_merged_mistyrose3</td>\n",
       "      <td>33</td>\n",
       "      <td>99</td>\n",
       "      <td>100</td>\n",
       "    </tr>\n",
       "    <tr>\n",
       "      <th>85</th>\n",
       "      <td>mod_merged_dodgerblue1</td>\n",
       "      <td>72</td>\n",
       "      <td>mod_merged_coral3</td>\n",
       "      <td>2024</td>\n",
       "      <td>72</td>\n",
       "      <td>100</td>\n",
       "    </tr>\n",
       "    <tr>\n",
       "      <th>254</th>\n",
       "      <td>mod_merged_deepskyblue</td>\n",
       "      <td>39</td>\n",
       "      <td>mod_merged_mistyrose3</td>\n",
       "      <td>33</td>\n",
       "      <td>39</td>\n",
       "      <td>100</td>\n",
       "    </tr>\n",
       "  </tbody>\n",
       "</table>\n",
       "</div>"
      ],
      "text/plain": [
       "                      Mod_Inf Mod_Lng_Inf                Mod_Ctl Mod_Lng_Ctl  \\\n",
       "296         mod_merged_brown2         261  mod_merged_mistyrose3          33   \n",
       "338          mod_merged_green         236  mod_merged_mistyrose3          33   \n",
       "213        mod_merged_tomato2         218        mod_merged_tan1          33   \n",
       "422     mod_merged_lightblue2         196  mod_merged_mistyrose3          33   \n",
       "107  mod_merged_mediumpurple1         189  mod_merged_mistyrose3          33   \n",
       "359           mod_merged_tan3         189  mod_merged_mistyrose3          33   \n",
       "380      mod_merged_indianred         160  mod_merged_mistyrose3          33   \n",
       "443   mod_merged_antiquewhite         135  mod_merged_mistyrose3          33   \n",
       "149    mod_merged_darkmagenta         133  mod_merged_mistyrose3          33   \n",
       "233        mod_merged_bisque4         115  mod_merged_mistyrose3          33   \n",
       "65        mod_merged_lavender          99  mod_merged_mistyrose3          33   \n",
       "85     mod_merged_dodgerblue1          72      mod_merged_coral3        2024   \n",
       "254    mod_merged_deepskyblue          39  mod_merged_mistyrose3          33   \n",
       "\n",
       "    Genes_diff Perc_diff  \n",
       "296        261       100  \n",
       "338        236       100  \n",
       "213        218       100  \n",
       "422        196       100  \n",
       "107        189       100  \n",
       "359        189       100  \n",
       "380        160       100  \n",
       "443        135       100  \n",
       "149        133       100  \n",
       "233        115       100  \n",
       "65          99       100  \n",
       "85          72       100  \n",
       "254         39       100  "
      ]
     },
     "execution_count": 242,
     "metadata": {},
     "output_type": "execute_result"
    }
   ],
   "source": [
    "print(df1_count.head(3))\n",
    "df_preselected_mods.head(30)"
   ]
  },
  {
   "cell_type": "code",
   "execution_count": 243,
   "metadata": {},
   "outputs": [
    {
     "name": "stdout",
     "output_type": "stream",
     "text": [
      "13\n"
     ]
    },
    {
     "data": {
      "text/html": [
       "<div>\n",
       "<style scoped>\n",
       "    .dataframe tbody tr th:only-of-type {\n",
       "        vertical-align: middle;\n",
       "    }\n",
       "\n",
       "    .dataframe tbody tr th {\n",
       "        vertical-align: top;\n",
       "    }\n",
       "\n",
       "    .dataframe thead th {\n",
       "        text-align: right;\n",
       "    }\n",
       "</style>\n",
       "<table border=\"1\" class=\"dataframe\">\n",
       "  <thead>\n",
       "    <tr style=\"text-align: right;\">\n",
       "      <th></th>\n",
       "      <th>Mod_Inf</th>\n",
       "      <th>Mods_count</th>\n",
       "    </tr>\n",
       "  </thead>\n",
       "  <tbody>\n",
       "    <tr>\n",
       "      <th>0</th>\n",
       "      <td>mod_merged_brown2</td>\n",
       "      <td>6</td>\n",
       "    </tr>\n",
       "    <tr>\n",
       "      <th>1</th>\n",
       "      <td>mod_merged_green</td>\n",
       "      <td>6</td>\n",
       "    </tr>\n",
       "    <tr>\n",
       "      <th>2</th>\n",
       "      <td>mod_merged_tomato2</td>\n",
       "      <td>9</td>\n",
       "    </tr>\n",
       "  </tbody>\n",
       "</table>\n",
       "</div>"
      ],
      "text/plain": [
       "              Mod_Inf  Mods_count\n",
       "0   mod_merged_brown2           6\n",
       "1    mod_merged_green           6\n",
       "2  mod_merged_tomato2           9"
      ]
     },
     "execution_count": 243,
     "metadata": {},
     "output_type": "execute_result"
    }
   ],
   "source": [
    "df_preselected_counts = pd.merge(df_preselected_mods, df1_count, how=\"left\", on=\"Mod_Inf\")\n",
    "df_preselected_counts2 = df_preselected_counts[['Mod_Inf','Mods_count']] #.sort_values(by=['Mod_Lng_Inf_y'], ascending=False)\n",
    "print(len(df_preselected_counts2))\n",
    "df_preselected_counts2.head(3)"
   ]
  },
  {
   "cell_type": "code",
   "execution_count": 244,
   "metadata": {},
   "outputs": [
    {
     "data": {
      "text/plain": [
       "13"
      ]
     },
     "execution_count": 244,
     "metadata": {},
     "output_type": "execute_result"
    }
   ],
   "source": [
    "# get the maximum number of modules matching the criterias\n",
    "i_max_mods = max(df_preselected_counts2['Mods_count'].to_list())\n",
    "i_max_mods"
   ]
  },
  {
   "cell_type": "code",
   "execution_count": 245,
   "metadata": {},
   "outputs": [
    {
     "name": "stdout",
     "output_type": "stream",
     "text": [
      "2\n"
     ]
    }
   ],
   "source": [
    "# get modules (infected) differente in the MGC preselected\n",
    "df_preselected_counts3 = df_preselected_counts2[df_preselected_counts2['Mods_count']>=i_max_mods]\n",
    "print(len(df_preselected_counts3))"
   ]
  },
  {
   "cell_type": "code",
   "execution_count": 246,
   "metadata": {},
   "outputs": [
    {
     "name": "stdout",
     "output_type": "stream",
     "text": [
      "['antiquewhite', 'dodgerblue1']\n"
     ]
    },
    {
     "data": {
      "text/plain": [
       "[13, 13]"
      ]
     },
     "execution_count": 246,
     "metadata": {},
     "output_type": "execute_result"
    }
   ],
   "source": [
    "labels = df_preselected_counts3[\"Mod_Inf\"].to_list()\n",
    "labels = ([s.replace('mod_merged_', '') for s in labels])\n",
    "print(labels)\n",
    "quantity = df_preselected_counts3[\"Mods_count\"].to_list()\n",
    "quantity[0:4]"
   ]
  },
  {
   "cell_type": "code",
   "execution_count": 247,
   "metadata": {},
   "outputs": [
    {
     "data": {
      "image/png": "[encoded data removed]",
      "text/plain": [
       "<Figure size 720x576 with 1 Axes>"
      ]
     },
     "metadata": {},
     "output_type": "display_data"
    }
   ],
   "source": [
    "mods_count = len(df_preselected_counts3)\n",
    "text = str(mods_count) +' MGI \\nMin-GDiff at '+ str(perc_dif_set) +'% \\nin ' + str(i_max_mods) + ' MGC'\n",
    "make_pie_donut_chart2(quantity, labels, text)"
   ]
  },
  {
   "cell_type": "code",
   "execution_count": null,
   "metadata": {},
   "outputs": [],
   "source": []
  },
  {
   "cell_type": "code",
   "execution_count": null,
   "metadata": {},
   "outputs": [],
   "source": []
  }
 ],
 "metadata": {
  "kernelspec": {
   "display_name": "Python 3",
   "language": "python",
   "name": "python3"
  },
  "language_info": {
   "codemirror_mode": {
    "name": "ipython",
    "version": 3
   },
   "file_extension": ".py",
   "mimetype": "text/x-python",
   "name": "python",
   "nbconvert_exporter": "python",
   "pygments_lexer": "ipython3",
   "version": "3.7.6"
  }
 },
 "nbformat": 4,
 "nbformat_minor": 4
}
