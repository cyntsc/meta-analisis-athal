{
 "cells": [
  {
   "cell_type": "markdown",
   "metadata": {},
   "source": [
    "### PythonMeta (Q/Chi-square test)\n",
    "\n",
    "Enlace: https://pypi.org/project/PythonMeta/ <br>\n",
    "\n",
    "This is a Meta-Analysis package.<br>\n",
    "\n",
    "This module was designed to perform some Evidence-based medicine (EBM) tasks, such as: <br>\n",
    "\n",
    "  1.  Combining effect measures (OR, RR, RD for count data and MD, SMD for continuous data) <br>\n",
    "  2.  **Heterogeneity test(Q/Chi-square test)**<br>\n",
    "  3.  Subgroup analysis<br>\n",
    "  4.  Plots drawing: forest plot, funnel plot, etc.<br>\n"
   ]
  },
  {
   "cell_type": "code",
   "execution_count": null,
   "metadata": {},
   "outputs": [],
   "source": [
    "![image.png](attachment:image.png)![image.png](attachment:image.png)![image.png](attachment:image.png)![image.png](attachment:image.png)"
   ]
  },
  {
   "cell_type": "code",
   "execution_count": null,
   "metadata": {},
   "outputs": [],
   "source": []
  },
  {
   "cell_type": "code",
   "execution_count": null,
   "metadata": {},
   "outputs": [],
   "source": []
  }
 ],
 "metadata": {
  "kernelspec": {
   "display_name": "Python 3",
   "language": "python",
   "name": "python3"
  },
  "language_info": {
   "codemirror_mode": {
    "name": "ipython",
    "version": 3
   },
   "file_extension": ".py",
   "mimetype": "text/x-python",
   "name": "python",
   "nbconvert_exporter": "python",
   "pygments_lexer": "ipython3",
   "version": "3.6.9"
  }
 },
 "nbformat": 4,
 "nbformat_minor": 4
}
