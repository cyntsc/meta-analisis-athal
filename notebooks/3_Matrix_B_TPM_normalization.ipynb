{
 "cells": [
  {
   "cell_type": "markdown",
   "metadata": {},
   "source": [
    "# 3 Matrix type B: normalize the matrix A values(raw-counts) to TPM  values \n",
    "**Datatype are raw-count files integrated in an array**\n",
    "\n",
    "Made by: Cynthia Soto <br>\n",
    "Date: March 17th 2021 <br>\n",
    "Last md: May 18rd 2021 <br>\n",
    "\n",
    "**Assumptions:** <br>\n",
    "**Build Matrix type \"B\"** (Normalize raw-count to TPM values) <br>\n",
    "1. You have an expression array with raw-counts by sample (columns are samples / rows are genes).\n",
    "2. You must to have a text file with the gene's lenghts (if you don not have, and you do have a GFF file, please run first the script **Gene_length_extraction_from_GTF.ipynb** to create it) \n",
    "3. Normalize the raw-count array to TPM values.\n",
    "4. Get some stats and visualizations."
   ]
  },
  {
   "cell_type": "code",
   "execution_count": 1,
   "metadata": {},
   "outputs": [
    {
     "ename": "ModuleNotFoundError",
     "evalue": "No module named 'bioinfokit'",
     "output_type": "error",
     "traceback": [
      "\u001b[0;31m---------------------------------------------------------------------------\u001b[0m",
      "\u001b[0;31mModuleNotFoundError\u001b[0m                       Traceback (most recent call last)",
      "\u001b[0;32m<ipython-input-1-ca11d868cccb>\u001b[0m in \u001b[0;36m<module>\u001b[0;34m\u001b[0m\n\u001b[1;32m      5\u001b[0m \u001b[0;32mimport\u001b[0m \u001b[0mmatplotlib\u001b[0m\u001b[0;34m.\u001b[0m\u001b[0mpyplot\u001b[0m \u001b[0;32mas\u001b[0m \u001b[0mplt\u001b[0m\u001b[0;34m\u001b[0m\u001b[0;34m\u001b[0m\u001b[0m\n\u001b[1;32m      6\u001b[0m \u001b[0;32mimport\u001b[0m \u001b[0mseaborn\u001b[0m \u001b[0;32mas\u001b[0m \u001b[0msns\u001b[0m\u001b[0;34m\u001b[0m\u001b[0;34m\u001b[0m\u001b[0m\n\u001b[0;32m----> 7\u001b[0;31m \u001b[0;32mfrom\u001b[0m \u001b[0mbioinfokit\u001b[0m\u001b[0;34m.\u001b[0m\u001b[0manalys\u001b[0m \u001b[0;32mimport\u001b[0m \u001b[0mnorm\u001b[0m\u001b[0;34m,\u001b[0m \u001b[0mget_data\u001b[0m    \u001b[0;31m##https://github.com/reneshbedre/bioinfokit\u001b[0m\u001b[0;34m\u001b[0m\u001b[0;34m\u001b[0m\u001b[0m\n\u001b[0m\u001b[1;32m      8\u001b[0m \u001b[0;31m# load sugarcane RNA-seq expression dataset (Published in Bedre et al., 2019)\u001b[0m\u001b[0;34m\u001b[0m\u001b[0;34m\u001b[0m\u001b[0;34m\u001b[0m\u001b[0m\n\u001b[1;32m      9\u001b[0m \u001b[0;31m# Requires: scikit-learn, pandas, seaborn, matplotlib-venn, statsmodels, textwrap3, numpy, scipy, tabulate, matplotlib, adjustText\u001b[0m\u001b[0;34m\u001b[0m\u001b[0;34m\u001b[0m\u001b[0;34m\u001b[0m\u001b[0m\n",
      "\u001b[0;31mModuleNotFoundError\u001b[0m: No module named 'bioinfokit'"
     ]
    }
   ],
   "source": [
    "# Libraries required\n",
    "import os \n",
    "import pandas as pd\n",
    "import numpy as np\n",
    "import matplotlib.pyplot as plt\n",
    "import seaborn as sns\n",
    "from bioinfokit.analys import norm, get_data    ##https://github.com/reneshbedre/bioinfokit \n",
    "# load sugarcane RNA-seq expression dataset (Published in Bedre et al., 2019)\n",
    "# Requires: scikit-learn, pandas, seaborn, matplotlib-venn, statsmodels, textwrap3, numpy, scipy, tabulate, matplotlib, adjustText\n",
    "\n",
    "# Set some initial configuration \n",
    "pd.set_option(\"display.precision\", 3)"
   ]
  },
  {
   "cell_type": "code",
   "execution_count": 2,
   "metadata": {},
   "outputs": [],
   "source": [
    "# Set the directory to parse and the base_name of the dataset \n",
    "# notice all plots and files will use this base_name to label objects)\n",
    "\n",
    "#  @dir_to_parse        Set the folder to be parse (the raw count must to be there)\n",
    "#  @general_titles      This var is used to label the plots and save the main and temporary files. \n",
    "\n",
    "###   Choose what dataset you are going to process\n",
    "general_titles=\"healthy\"\n",
    "#general_titles=\"infected\""
   ]
  },
  {
   "cell_type": "code",
   "execution_count": 3,
   "metadata": {},
   "outputs": [
    {
     "name": "stdout",
     "output_type": "stream",
     "text": [
      "Directory changed: /home/cyntsc/Proyectos/tesis-code/meta-xtrome-analysis/results-data\n"
     ]
    }
   ],
   "source": [
    "try:\n",
    "    # Change the current working Directory      \n",
    "    os.chdir(\"/home/cyntsc/Proyectos/tesis-code/meta-xtrome-analysis/results-data/\")\n",
    "    print(\"Directory changed:\", os.getcwd() )\n",
    "except OSError:\n",
    "    print(\"Can't change the Current Working Directory\")    \n",
    "#print(os.listdir(os.getcwd())       "
   ]
  },
  {
   "cell_type": "markdown",
   "metadata": {},
   "source": [
    "Transform raw counts to transcript per million \"TPM\"Notes. Some Notes: \n",
    "   1. TPM considers the gene length for normalization\n",
    "   2. TPM is suitable for sequencing protocols where reads sequencing depends on gene length <br>\n",
    "More details about normalization: https://www.reneshbedre.com/blog/expression_units.html <br>\n",
    "If you want to better understand why normalize and filter data before any advance analysis, here a post of Jason W Hoskins about **Warnings against using unnormalized, unfiltered read counts for a few reasons** https://www.researchgate.net/post/What-is-a-valid-way-to-measure-variability-of-gene-expression-from-gtex-data "
   ]
  },
  {
   "cell_type": "markdown",
   "metadata": {},
   "source": [
    "Eg. If the TPM for gene A in sample 1 is 3.33 and the TPM in sample B is 3.33, then I know that the exact same proportion of total reads mapped to gene A in both samples. This is because the sum of the TPMs in both samples always add up to the same number."
   ]
  },
  {
   "cell_type": "markdown",
   "metadata": {},
   "source": [
    "### Declare functions"
   ]
  },
  {
   "cell_type": "code",
   "execution_count": 4,
   "metadata": {},
   "outputs": [],
   "source": [
    "# Set ID index as \"ID\" to a dataframe describe() function\n",
    "def df_with_label_ID(df_stat):\n",
    "    df_stat.reset_index(level=0, inplace=True)\n",
    "    df_stat.rename(columns={'index': 'ID'}, inplace=True)\n",
    "    \n",
    "    ## use this chunk if you want to give IDs to a describe() functions from a external meta-data\n",
    "    #     file='../meta-data/ID_samples.csv'\n",
    "    #     df_meta=pd.read_csv(file, sep='\\,', engine='python', usecols=[0,4]) \n",
    "    #     #print(df_meta.head(5))\n",
    "    #     ## merge by sample field\n",
    "    #     df = pd.merge(df, df_meta, on=\"sample\")    \n",
    "    df_stat = df_stat.sort_values(['ID'], ascending=[True])   \n",
    "    return df_stat "
   ]
  },
  {
   "cell_type": "code",
   "execution_count": 5,
   "metadata": {},
   "outputs": [],
   "source": [
    "# Plot a bar-chart as the result of the dataframe describe() function over an expression array (df)\n",
    "def plot_intercuartile_bar(df, title, y_label):\n",
    "    ## @df: a dataframe with the statistics generated with the describe()function \n",
    "    ## @title: text to be displayed as main-header in the plot\n",
    "    ## @y_label: text to be displayed in the y axis label.\n",
    "\n",
    "    ## call the fuction df_with_label_ID\n",
    "    df_plot = df_with_label_ID(df)\n",
    "    ax = df.plot(x=\"ID\", y=\"75%\", kind=\"bar\", figsize=(10,7))\n",
    "    df.plot(x=\"ID\", y=\"75%\", kind=\"bar\", ax=ax, color=\"C2\")\n",
    "    df.plot(x=\"ID\", y=\"50%\", kind=\"bar\", ax=ax, color=\"C3\")\n",
    "    df.plot(x=\"ID\", y=\"25%\", kind=\"bar\", ax=ax, color=\"C4\")\n",
    "    plt.title(title,fontsize=14);\n",
    "    plt.xlabel('Sample ID',fontsize=14);\n",
    "    plt.ylabel(y_label,fontsize=14);\n",
    "    plt.xticks(rotation=45,fontsize=12);\n",
    "    return\n",
    "\n",
    "# Set ID index as \"ID\" to trigger the describe() function over a dataframe\n",
    "def df_with_label_ID(df_stat):\n",
    "    try:\n",
    "        # Set ID index as \"ID\" to a describe() function in a df\n",
    "        df_stat.reset_index(level=0, inplace=True)\n",
    "        df_stat.rename(columns={'index': 'ID'}, inplace=True)\n",
    "        df_stat = df_stat.sort_values(['ID'], ascending=[True])   \n",
    "    except:\n",
    "        pass\n",
    "    return df_stat "
   ]
  },
  {
   "cell_type": "code",
   "execution_count": 6,
   "metadata": {},
   "outputs": [],
   "source": [
    "# Plot a line-chart with the mean and std.dev as the result of the dataframe describe() function over an expression array (df)\n",
    "def plot_mean_sdev_line(df, title, y_label):\n",
    "    ## @df: a dataframe with the statistics generated with the describe()function \n",
    "    ## @title: text to be displayed as main-header in the plot\n",
    "    ## @y_label: text to be displayed in the y axis label.\n",
    "  \n",
    "    ## gca stands for 'get current axis'\n",
    "    ax = plt.gca()\n",
    "    df.plot(kind='line',x='ID',y='mean',color='green', ax=ax, figsize=(10,7))\n",
    "    df.plot(kind='line',x='ID',y='std', color='red', ax=ax)\n",
    "    plt.title(title,fontsize=14);\n",
    "    plt.xlabel('Sample ID',fontsize=14);\n",
    "    plt.ylabel(y_label,fontsize=14);\n",
    "    return"
   ]
  },
  {
   "cell_type": "code",
   "execution_count": 7,
   "metadata": {},
   "outputs": [],
   "source": [
    "# Plot the distributions: values are TPM normalized\n",
    "def plot_KDE(df, samples, title, y_label):  \n",
    "    ## @df: the array(df) to be plotted (w/o column gene's names)\n",
    "    ## @samples: the names to be displayed in the leyend label\n",
    "    ## @title: text to be displayed as main-header in the plot\n",
    "    ## @y_label: text to be displayed in the \"y\" axis label.\n",
    "\n",
    "    plt.figure(figsize=(10,7), dpi= 80)\n",
    "    plt.style.use('seaborn-whitegrid')\n",
    "    kwargs=dict(hist_kws={\"alpha\":0.6, \"lw\": 2})\n",
    "    plt.rc('xtick',labelsize=14)\n",
    "    plt.rc('ytick',labelsize=14)\n",
    "\n",
    "    for file in samples:\n",
    "        sample_data = df[file].tolist()\n",
    "        #print(sample_data[1:10])\n",
    "        #sns.distplot(sample_data, label=ID_sample+' hpi', **kwargs)   #color=\"dodgerblue\", \n",
    "        sns.distplot(sample_data, label=file, **kwargs)   #color=\"dodgerblue\", \n",
    "    plt.title('Matrix B: Histogram with KDE for A.thaliana '+ general_titles,fontsize=18);\n",
    "    plt.xlabel(y_label,fontsize=16);\n",
    "    plt.ylabel('Probability Density',fontsize=16);\n",
    "    ## add arbitrary lines to canvas\n",
    "    #plt.plot([0, 15], [.15, .15], 'k-', lw=2, color='blue',marker = 'o')\n",
    "    #plt.plot([0, 15], [.74, .74], 'k-', lw=2, color='red',marker = '*')\n",
    "    plt.legend(loc='center right',fontsize=14);    \n",
    "    #plt.savefig(\"../plots/all_infected_KDE_17zeros_drop.png\");\n",
    "    return"
   ]
  },
  {
   "cell_type": "markdown",
   "metadata": {},
   "source": [
    "## Load your expression matrix"
   ]
  },
  {
   "cell_type": "code",
   "execution_count": 8,
   "metadata": {},
   "outputs": [
    {
     "name": "stdout",
     "output_type": "stream",
     "text": [
      "matrix_A_healthy.csv\n"
     ]
    }
   ],
   "source": [
    "file_name = \"matrix_A_\"+ general_titles.strip() +\".csv\"\n",
    "print(file_name)"
   ]
  },
  {
   "cell_type": "code",
   "execution_count": 9,
   "metadata": {},
   "outputs": [
    {
     "name": "stdout",
     "output_type": "stream",
     "text": [
      "22426\n"
     ]
    }
   ],
   "source": [
    "df_expr=pd.read_csv(file_name, header=0, sep='\\t')   ## ,nrows=100  usecols=[1,3]\n",
    "print(len(df_expr))"
   ]
  },
  {
   "cell_type": "code",
   "execution_count": 10,
   "metadata": {},
   "outputs": [
    {
     "name": "stdout",
     "output_type": "stream",
     "text": [
      "(22426, 9)\n"
     ]
    },
    {
     "data": {
      "text/html": [
       "<div>\n",
       "<style scoped>\n",
       "    .dataframe tbody tr th:only-of-type {\n",
       "        vertical-align: middle;\n",
       "    }\n",
       "\n",
       "    .dataframe tbody tr th {\n",
       "        vertical-align: top;\n",
       "    }\n",
       "\n",
       "    .dataframe thead th {\n",
       "        text-align: right;\n",
       "    }\n",
       "</style>\n",
       "<table border=\"1\" class=\"dataframe\">\n",
       "  <thead>\n",
       "    <tr style=\"text-align: right;\">\n",
       "      <th></th>\n",
       "      <th>Genes</th>\n",
       "      <th>healthy30.1</th>\n",
       "      <th>healthy30</th>\n",
       "      <th>healthy12</th>\n",
       "      <th>healthy18.1</th>\n",
       "      <th>healthy18</th>\n",
       "      <th>healthy24.1</th>\n",
       "      <th>healthy12.1</th>\n",
       "      <th>healthy24</th>\n",
       "    </tr>\n",
       "  </thead>\n",
       "  <tbody>\n",
       "    <tr>\n",
       "      <th>0</th>\n",
       "      <td>AT1G01020</td>\n",
       "      <td>175</td>\n",
       "      <td>163</td>\n",
       "      <td>108</td>\n",
       "      <td>117</td>\n",
       "      <td>224</td>\n",
       "      <td>92</td>\n",
       "      <td>267</td>\n",
       "      <td>145</td>\n",
       "    </tr>\n",
       "    <tr>\n",
       "      <th>1</th>\n",
       "      <td>AT1G01030</td>\n",
       "      <td>20</td>\n",
       "      <td>25</td>\n",
       "      <td>13</td>\n",
       "      <td>13</td>\n",
       "      <td>35</td>\n",
       "      <td>16</td>\n",
       "      <td>22</td>\n",
       "      <td>9</td>\n",
       "    </tr>\n",
       "    <tr>\n",
       "      <th>2</th>\n",
       "      <td>AT1G01040</td>\n",
       "      <td>2541</td>\n",
       "      <td>2492</td>\n",
       "      <td>1027</td>\n",
       "      <td>1324</td>\n",
       "      <td>2376</td>\n",
       "      <td>638</td>\n",
       "      <td>2296</td>\n",
       "      <td>1018</td>\n",
       "    </tr>\n",
       "    <tr>\n",
       "      <th>3</th>\n",
       "      <td>AT1G01050</td>\n",
       "      <td>1531</td>\n",
       "      <td>1804</td>\n",
       "      <td>850</td>\n",
       "      <td>1217</td>\n",
       "      <td>2664</td>\n",
       "      <td>406</td>\n",
       "      <td>1851</td>\n",
       "      <td>684</td>\n",
       "    </tr>\n",
       "    <tr>\n",
       "      <th>4</th>\n",
       "      <td>AT1G01060</td>\n",
       "      <td>11</td>\n",
       "      <td>4</td>\n",
       "      <td>288</td>\n",
       "      <td>18184</td>\n",
       "      <td>32522</td>\n",
       "      <td>219</td>\n",
       "      <td>835</td>\n",
       "      <td>386</td>\n",
       "    </tr>\n",
       "  </tbody>\n",
       "</table>\n",
       "</div>"
      ],
      "text/plain": [
       "       Genes  healthy30.1  healthy30  healthy12  healthy18.1  healthy18  \\\n",
       "0  AT1G01020          175        163        108          117        224   \n",
       "1  AT1G01030           20         25         13           13         35   \n",
       "2  AT1G01040         2541       2492       1027         1324       2376   \n",
       "3  AT1G01050         1531       1804        850         1217       2664   \n",
       "4  AT1G01060           11          4        288        18184      32522   \n",
       "\n",
       "   healthy24.1  healthy12.1  healthy24  \n",
       "0           92          267        145  \n",
       "1           16           22          9  \n",
       "2          638         2296       1018  \n",
       "3          406         1851        684  \n",
       "4          219          835        386  "
      ]
     },
     "execution_count": 10,
     "metadata": {},
     "output_type": "execute_result"
    }
   ],
   "source": [
    "# delete not useful columns\n",
    "df_expr.drop(['zero-counter'], axis='columns', inplace=True)   #, 'Unnamed: 0'\n",
    "print(df_expr.shape)\n",
    "df_expr.head(5)"
   ]
  },
  {
   "cell_type": "markdown",
   "metadata": {},
   "source": [
    "## Load the gene's lenghts file"
   ]
  },
  {
   "cell_type": "code",
   "execution_count": 11,
   "metadata": {},
   "outputs": [
    {
     "data": {
      "text/html": [
       "<div>\n",
       "<style scoped>\n",
       "    .dataframe tbody tr th:only-of-type {\n",
       "        vertical-align: middle;\n",
       "    }\n",
       "\n",
       "    .dataframe tbody tr th {\n",
       "        vertical-align: top;\n",
       "    }\n",
       "\n",
       "    .dataframe thead th {\n",
       "        text-align: right;\n",
       "    }\n",
       "</style>\n",
       "<table border=\"1\" class=\"dataframe\">\n",
       "  <thead>\n",
       "    <tr style=\"text-align: right;\">\n",
       "      <th></th>\n",
       "      <th>Genes</th>\n",
       "      <th>gen_len</th>\n",
       "    </tr>\n",
       "  </thead>\n",
       "  <tbody>\n",
       "    <tr>\n",
       "      <th>0</th>\n",
       "      <td>AT1G01010</td>\n",
       "      <td>1871</td>\n",
       "    </tr>\n",
       "    <tr>\n",
       "      <th>1</th>\n",
       "      <td>AT1G01020</td>\n",
       "      <td>1752</td>\n",
       "    </tr>\n",
       "    <tr>\n",
       "      <th>2</th>\n",
       "      <td>AT1G01030</td>\n",
       "      <td>1077</td>\n",
       "    </tr>\n",
       "    <tr>\n",
       "      <th>3</th>\n",
       "      <td>AT1G01040</td>\n",
       "      <td>7561</td>\n",
       "    </tr>\n",
       "    <tr>\n",
       "      <th>4</th>\n",
       "      <td>AT1G01050</td>\n",
       "      <td>1289</td>\n",
       "    </tr>\n",
       "  </tbody>\n",
       "</table>\n",
       "</div>"
      ],
      "text/plain": [
       "       Genes  gen_len\n",
       "0  AT1G01010     1871\n",
       "1  AT1G01020     1752\n",
       "2  AT1G01030     1077\n",
       "3  AT1G01040     7561\n",
       "4  AT1G01050     1289"
      ]
     },
     "execution_count": 11,
     "metadata": {},
     "output_type": "execute_result"
    }
   ],
   "source": [
    "df_gl=pd.read_csv(\"../meta-data/Araport11_GFF3_genes_lenghts.csv\",  usecols = ['Genes','gen_len'], header=0, sep='\\t')    \n",
    "df_gl.head(5)"
   ]
  },
  {
   "cell_type": "code",
   "execution_count": 12,
   "metadata": {},
   "outputs": [
    {
     "name": "stdout",
     "output_type": "stream",
     "text": [
      "         gen_len\n",
      "count  27655.000\n",
      "mean    1875.863\n",
      "std     1502.467\n",
      "min        3.000\n",
      "25%      909.000\n",
      "50%     1561.000\n",
      "75%     2402.500\n",
      "max    26941.000\n"
     ]
    },
    {
     "data": {
      "text/plain": [
       "array([[<AxesSubplot:title={'center':'gen_len'}>]], dtype=object)"
      ]
     },
     "execution_count": 12,
     "metadata": {},
     "output_type": "execute_result"
    },
    {
     "data": {
      "image/png": "[encoded data removed]",
      "text/plain": [
       "<Figure size 432x288 with 1 Axes>"
      ]
     },
     "metadata": {
      "needs_background": "light"
     },
     "output_type": "display_data"
    }
   ],
   "source": [
    "print(df_gl.describe())\n",
    "df_gl.hist()"
   ]
  },
  {
   "cell_type": "code",
   "execution_count": 13,
   "metadata": {},
   "outputs": [
    {
     "name": "stdout",
     "output_type": "stream",
     "text": [
      "1875.863496655216\n",
      "1561.0\n",
      "26941\n",
      "3\n"
     ]
    }
   ],
   "source": [
    "from numpy import mean, median\n",
    "lst_genelng = df_gl['gen_len'].to_list()\n",
    "lst_genelng.sort()\n",
    "print(mean(lst_genelng))\n",
    "print(median(lst_genelng))\n",
    "print(max(lst_genelng))\n",
    "print(min(lst_genelng))"
   ]
  },
  {
   "cell_type": "markdown",
   "metadata": {},
   "source": [
    "## Merge the gene length df with the expr matrix df"
   ]
  },
  {
   "cell_type": "code",
   "execution_count": 14,
   "metadata": {},
   "outputs": [
    {
     "name": "stdout",
     "output_type": "stream",
     "text": [
      "22426 27655\n"
     ]
    }
   ],
   "source": [
    "## compare number of genes \n",
    "print(len(df_expr), len(df_gl))"
   ]
  },
  {
   "cell_type": "markdown",
   "metadata": {},
   "source": [
    "With **merge** we can join data from 2 df<br>\n",
    "The **how** argument to merge specifies how to determine which keys are to be included in the resulting table. If a key combination does not appear in either the left or right tables, the values in the joined table will be NA. \n",
    "Only the keys appearing in left and right are present (the intersection), since **how='inner'** by default.<br>\n",
    "https://pandas.pydata.org/docs/user_guide/merging.html"
   ]
  },
  {
   "cell_type": "code",
   "execution_count": 15,
   "metadata": {},
   "outputs": [],
   "source": [
    "result = pd.merge(df_expr, df_gl, on=[\"Genes\", \"Genes\"])"
   ]
  },
  {
   "cell_type": "code",
   "execution_count": 16,
   "metadata": {},
   "outputs": [
    {
     "data": {
      "text/plain": [
       "22426"
      ]
     },
     "execution_count": 16,
     "metadata": {},
     "output_type": "execute_result"
    }
   ],
   "source": [
    "len(result)"
   ]
  },
  {
   "cell_type": "code",
   "execution_count": 17,
   "metadata": {},
   "outputs": [
    {
     "data": {
      "text/html": [
       "<div>\n",
       "<style scoped>\n",
       "    .dataframe tbody tr th:only-of-type {\n",
       "        vertical-align: middle;\n",
       "    }\n",
       "\n",
       "    .dataframe tbody tr th {\n",
       "        vertical-align: top;\n",
       "    }\n",
       "\n",
       "    .dataframe thead th {\n",
       "        text-align: right;\n",
       "    }\n",
       "</style>\n",
       "<table border=\"1\" class=\"dataframe\">\n",
       "  <thead>\n",
       "    <tr style=\"text-align: right;\">\n",
       "      <th></th>\n",
       "      <th>Genes</th>\n",
       "      <th>healthy30.1</th>\n",
       "      <th>healthy30</th>\n",
       "      <th>healthy12</th>\n",
       "      <th>healthy18.1</th>\n",
       "      <th>healthy18</th>\n",
       "      <th>healthy24.1</th>\n",
       "      <th>healthy12.1</th>\n",
       "      <th>healthy24</th>\n",
       "      <th>gen_len</th>\n",
       "    </tr>\n",
       "  </thead>\n",
       "  <tbody>\n",
       "    <tr>\n",
       "      <th>0</th>\n",
       "      <td>AT1G01020</td>\n",
       "      <td>175</td>\n",
       "      <td>163</td>\n",
       "      <td>108</td>\n",
       "      <td>117</td>\n",
       "      <td>224</td>\n",
       "      <td>92</td>\n",
       "      <td>267</td>\n",
       "      <td>145</td>\n",
       "      <td>1752</td>\n",
       "    </tr>\n",
       "    <tr>\n",
       "      <th>1</th>\n",
       "      <td>AT1G01030</td>\n",
       "      <td>20</td>\n",
       "      <td>25</td>\n",
       "      <td>13</td>\n",
       "      <td>13</td>\n",
       "      <td>35</td>\n",
       "      <td>16</td>\n",
       "      <td>22</td>\n",
       "      <td>9</td>\n",
       "      <td>1077</td>\n",
       "    </tr>\n",
       "    <tr>\n",
       "      <th>2</th>\n",
       "      <td>AT1G01040</td>\n",
       "      <td>2541</td>\n",
       "      <td>2492</td>\n",
       "      <td>1027</td>\n",
       "      <td>1324</td>\n",
       "      <td>2376</td>\n",
       "      <td>638</td>\n",
       "      <td>2296</td>\n",
       "      <td>1018</td>\n",
       "      <td>7561</td>\n",
       "    </tr>\n",
       "    <tr>\n",
       "      <th>3</th>\n",
       "      <td>AT1G01050</td>\n",
       "      <td>1531</td>\n",
       "      <td>1804</td>\n",
       "      <td>850</td>\n",
       "      <td>1217</td>\n",
       "      <td>2664</td>\n",
       "      <td>406</td>\n",
       "      <td>1851</td>\n",
       "      <td>684</td>\n",
       "      <td>1289</td>\n",
       "    </tr>\n",
       "    <tr>\n",
       "      <th>4</th>\n",
       "      <td>AT1G01060</td>\n",
       "      <td>11</td>\n",
       "      <td>4</td>\n",
       "      <td>288</td>\n",
       "      <td>18184</td>\n",
       "      <td>32522</td>\n",
       "      <td>219</td>\n",
       "      <td>835</td>\n",
       "      <td>386</td>\n",
       "      <td>3070</td>\n",
       "    </tr>\n",
       "  </tbody>\n",
       "</table>\n",
       "</div>"
      ],
      "text/plain": [
       "       Genes  healthy30.1  healthy30  healthy12  healthy18.1  healthy18  \\\n",
       "0  AT1G01020          175        163        108          117        224   \n",
       "1  AT1G01030           20         25         13           13         35   \n",
       "2  AT1G01040         2541       2492       1027         1324       2376   \n",
       "3  AT1G01050         1531       1804        850         1217       2664   \n",
       "4  AT1G01060           11          4        288        18184      32522   \n",
       "\n",
       "   healthy24.1  healthy12.1  healthy24  gen_len  \n",
       "0           92          267        145     1752  \n",
       "1           16           22          9     1077  \n",
       "2          638         2296       1018     7561  \n",
       "3          406         1851        684     1289  \n",
       "4          219          835        386     3070  "
      ]
     },
     "execution_count": 17,
     "metadata": {},
     "output_type": "execute_result"
    }
   ],
   "source": [
    "result.head(5)"
   ]
  },
  {
   "cell_type": "code",
   "execution_count": 18,
   "metadata": {},
   "outputs": [
    {
     "data": {
      "text/html": [
       "<div>\n",
       "<style scoped>\n",
       "    .dataframe tbody tr th:only-of-type {\n",
       "        vertical-align: middle;\n",
       "    }\n",
       "\n",
       "    .dataframe tbody tr th {\n",
       "        vertical-align: top;\n",
       "    }\n",
       "\n",
       "    .dataframe thead th {\n",
       "        text-align: right;\n",
       "    }\n",
       "</style>\n",
       "<table border=\"1\" class=\"dataframe\">\n",
       "  <thead>\n",
       "    <tr style=\"text-align: right;\">\n",
       "      <th></th>\n",
       "      <th>Genes</th>\n",
       "      <th>healthy30.1</th>\n",
       "      <th>healthy30</th>\n",
       "      <th>healthy12</th>\n",
       "      <th>gen_len</th>\n",
       "    </tr>\n",
       "  </thead>\n",
       "  <tbody>\n",
       "    <tr>\n",
       "      <th>1</th>\n",
       "      <td>AT1G01030</td>\n",
       "      <td>20</td>\n",
       "      <td>25</td>\n",
       "      <td>13</td>\n",
       "      <td>1077</td>\n",
       "    </tr>\n",
       "    <tr>\n",
       "      <th>2</th>\n",
       "      <td>AT1G01040</td>\n",
       "      <td>2541</td>\n",
       "      <td>2492</td>\n",
       "      <td>1027</td>\n",
       "      <td>7561</td>\n",
       "    </tr>\n",
       "    <tr>\n",
       "      <th>3</th>\n",
       "      <td>AT1G01050</td>\n",
       "      <td>1531</td>\n",
       "      <td>1804</td>\n",
       "      <td>850</td>\n",
       "      <td>1289</td>\n",
       "    </tr>\n",
       "    <tr>\n",
       "      <th>4</th>\n",
       "      <td>AT1G01060</td>\n",
       "      <td>11</td>\n",
       "      <td>4</td>\n",
       "      <td>288</td>\n",
       "      <td>3070</td>\n",
       "    </tr>\n",
       "    <tr>\n",
       "      <th>5</th>\n",
       "      <td>AT1G01070</td>\n",
       "      <td>39</td>\n",
       "      <td>106</td>\n",
       "      <td>42</td>\n",
       "      <td>1980</td>\n",
       "    </tr>\n",
       "    <tr>\n",
       "      <th>6</th>\n",
       "      <td>AT1G01080</td>\n",
       "      <td>1280</td>\n",
       "      <td>1131</td>\n",
       "      <td>975</td>\n",
       "      <td>1287</td>\n",
       "    </tr>\n",
       "    <tr>\n",
       "      <th>7</th>\n",
       "      <td>AT1G01090</td>\n",
       "      <td>5079</td>\n",
       "      <td>6032</td>\n",
       "      <td>1281</td>\n",
       "      <td>1462</td>\n",
       "    </tr>\n",
       "    <tr>\n",
       "      <th>8</th>\n",
       "      <td>AT1G01100</td>\n",
       "      <td>1458</td>\n",
       "      <td>1088</td>\n",
       "      <td>483</td>\n",
       "      <td>671</td>\n",
       "    </tr>\n",
       "    <tr>\n",
       "      <th>9</th>\n",
       "      <td>AT1G01110</td>\n",
       "      <td>8</td>\n",
       "      <td>31</td>\n",
       "      <td>10</td>\n",
       "      <td>2256</td>\n",
       "    </tr>\n",
       "  </tbody>\n",
       "</table>\n",
       "</div>"
      ],
      "text/plain": [
       "       Genes  healthy30.1  healthy30  healthy12  gen_len\n",
       "1  AT1G01030           20         25         13     1077\n",
       "2  AT1G01040         2541       2492       1027     7561\n",
       "3  AT1G01050         1531       1804        850     1289\n",
       "4  AT1G01060           11          4        288     3070\n",
       "5  AT1G01070           39        106         42     1980\n",
       "6  AT1G01080         1280       1131        975     1287\n",
       "7  AT1G01090         5079       6032       1281     1462\n",
       "8  AT1G01100         1458       1088        483      671\n",
       "9  AT1G01110            8         31         10     2256"
      ]
     },
     "execution_count": 18,
     "metadata": {},
     "output_type": "execute_result"
    }
   ],
   "source": [
    "result.iloc[1:10, list(range(4)) + [-1]]"
   ]
  },
  {
   "cell_type": "code",
   "execution_count": 19,
   "metadata": {},
   "outputs": [
    {
     "data": {
      "text/html": [
       "<div>\n",
       "<style scoped>\n",
       "    .dataframe tbody tr th:only-of-type {\n",
       "        vertical-align: middle;\n",
       "    }\n",
       "\n",
       "    .dataframe tbody tr th {\n",
       "        vertical-align: top;\n",
       "    }\n",
       "\n",
       "    .dataframe thead th {\n",
       "        text-align: right;\n",
       "    }\n",
       "</style>\n",
       "<table border=\"1\" class=\"dataframe\">\n",
       "  <thead>\n",
       "    <tr style=\"text-align: right;\">\n",
       "      <th></th>\n",
       "      <th>healthy30.1</th>\n",
       "      <th>healthy30</th>\n",
       "      <th>healthy12</th>\n",
       "      <th>healthy18.1</th>\n",
       "      <th>healthy18</th>\n",
       "      <th>healthy24.1</th>\n",
       "      <th>healthy12.1</th>\n",
       "      <th>healthy24</th>\n",
       "      <th>gen_len</th>\n",
       "    </tr>\n",
       "    <tr>\n",
       "      <th>Genes</th>\n",
       "      <th></th>\n",
       "      <th></th>\n",
       "      <th></th>\n",
       "      <th></th>\n",
       "      <th></th>\n",
       "      <th></th>\n",
       "      <th></th>\n",
       "      <th></th>\n",
       "      <th></th>\n",
       "    </tr>\n",
       "  </thead>\n",
       "  <tbody>\n",
       "    <tr>\n",
       "      <th>AT1G01020</th>\n",
       "      <td>175</td>\n",
       "      <td>163</td>\n",
       "      <td>108</td>\n",
       "      <td>117</td>\n",
       "      <td>224</td>\n",
       "      <td>92</td>\n",
       "      <td>267</td>\n",
       "      <td>145</td>\n",
       "      <td>1752</td>\n",
       "    </tr>\n",
       "    <tr>\n",
       "      <th>AT1G01030</th>\n",
       "      <td>20</td>\n",
       "      <td>25</td>\n",
       "      <td>13</td>\n",
       "      <td>13</td>\n",
       "      <td>35</td>\n",
       "      <td>16</td>\n",
       "      <td>22</td>\n",
       "      <td>9</td>\n",
       "      <td>1077</td>\n",
       "    </tr>\n",
       "    <tr>\n",
       "      <th>AT1G01040</th>\n",
       "      <td>2541</td>\n",
       "      <td>2492</td>\n",
       "      <td>1027</td>\n",
       "      <td>1324</td>\n",
       "      <td>2376</td>\n",
       "      <td>638</td>\n",
       "      <td>2296</td>\n",
       "      <td>1018</td>\n",
       "      <td>7561</td>\n",
       "    </tr>\n",
       "    <tr>\n",
       "      <th>AT1G01050</th>\n",
       "      <td>1531</td>\n",
       "      <td>1804</td>\n",
       "      <td>850</td>\n",
       "      <td>1217</td>\n",
       "      <td>2664</td>\n",
       "      <td>406</td>\n",
       "      <td>1851</td>\n",
       "      <td>684</td>\n",
       "      <td>1289</td>\n",
       "    </tr>\n",
       "    <tr>\n",
       "      <th>AT1G01060</th>\n",
       "      <td>11</td>\n",
       "      <td>4</td>\n",
       "      <td>288</td>\n",
       "      <td>18184</td>\n",
       "      <td>32522</td>\n",
       "      <td>219</td>\n",
       "      <td>835</td>\n",
       "      <td>386</td>\n",
       "      <td>3070</td>\n",
       "    </tr>\n",
       "  </tbody>\n",
       "</table>\n",
       "</div>"
      ],
      "text/plain": [
       "           healthy30.1  healthy30  healthy12  healthy18.1  healthy18  \\\n",
       "Genes                                                                  \n",
       "AT1G01020          175        163        108          117        224   \n",
       "AT1G01030           20         25         13           13         35   \n",
       "AT1G01040         2541       2492       1027         1324       2376   \n",
       "AT1G01050         1531       1804        850         1217       2664   \n",
       "AT1G01060           11          4        288        18184      32522   \n",
       "\n",
       "           healthy24.1  healthy12.1  healthy24  gen_len  \n",
       "Genes                                                    \n",
       "AT1G01020           92          267        145     1752  \n",
       "AT1G01030           16           22          9     1077  \n",
       "AT1G01040          638         2296       1018     7561  \n",
       "AT1G01050          406         1851        684     1289  \n",
       "AT1G01060          219          835        386     3070  "
      ]
     },
     "execution_count": 19,
     "metadata": {},
     "output_type": "execute_result"
    }
   ],
   "source": [
    "# make gene column as index column\n",
    "df = result.set_index('Genes')\n",
    "df.head(5)"
   ]
  },
  {
   "cell_type": "markdown",
   "metadata": {},
   "source": [
    "## Normalize the raw-counts to TPM values\n",
    "**We are using the bioinfokit.analys pkg**"
   ]
  },
  {
   "cell_type": "code",
   "execution_count": 20,
   "metadata": {},
   "outputs": [],
   "source": [
    "# gene length must be in bp\n",
    "nm = norm()\n",
    "nm.tpm(df=df, gl='gen_len')\n",
    "# get TPM normalized dataframe\n",
    "df_tmp = nm.tpm_norm"
   ]
  },
  {
   "cell_type": "code",
   "execution_count": 21,
   "metadata": {},
   "outputs": [
    {
     "data": {
      "text/html": [
       "<div>\n",
       "<style scoped>\n",
       "    .dataframe tbody tr th:only-of-type {\n",
       "        vertical-align: middle;\n",
       "    }\n",
       "\n",
       "    .dataframe tbody tr th {\n",
       "        vertical-align: top;\n",
       "    }\n",
       "\n",
       "    .dataframe thead th {\n",
       "        text-align: right;\n",
       "    }\n",
       "</style>\n",
       "<table border=\"1\" class=\"dataframe\">\n",
       "  <thead>\n",
       "    <tr style=\"text-align: right;\">\n",
       "      <th></th>\n",
       "      <th>healthy30.1</th>\n",
       "      <th>healthy30</th>\n",
       "      <th>healthy12</th>\n",
       "      <th>healthy18.1</th>\n",
       "      <th>healthy18</th>\n",
       "      <th>healthy24.1</th>\n",
       "      <th>healthy12.1</th>\n",
       "      <th>healthy24</th>\n",
       "    </tr>\n",
       "    <tr>\n",
       "      <th>Genes</th>\n",
       "      <th></th>\n",
       "      <th></th>\n",
       "      <th></th>\n",
       "      <th></th>\n",
       "      <th></th>\n",
       "      <th></th>\n",
       "      <th></th>\n",
       "      <th></th>\n",
       "    </tr>\n",
       "  </thead>\n",
       "  <tbody>\n",
       "    <tr>\n",
       "      <th>AT1G01020</th>\n",
       "      <td>8.482</td>\n",
       "      <td>7.118</td>\n",
       "      <td>9.930</td>\n",
       "      <td>8.065</td>\n",
       "      <td>7.243</td>\n",
       "      <td>8.547</td>\n",
       "      <td>11.852</td>\n",
       "      <td>9.254</td>\n",
       "    </tr>\n",
       "    <tr>\n",
       "      <th>AT1G01030</th>\n",
       "      <td>1.577</td>\n",
       "      <td>1.776</td>\n",
       "      <td>1.944</td>\n",
       "      <td>1.458</td>\n",
       "      <td>1.841</td>\n",
       "      <td>2.418</td>\n",
       "      <td>1.589</td>\n",
       "      <td>0.934</td>\n",
       "    </tr>\n",
       "    <tr>\n",
       "      <th>AT1G01040</th>\n",
       "      <td>28.536</td>\n",
       "      <td>25.216</td>\n",
       "      <td>21.880</td>\n",
       "      <td>21.147</td>\n",
       "      <td>17.802</td>\n",
       "      <td>13.734</td>\n",
       "      <td>23.615</td>\n",
       "      <td>15.054</td>\n",
       "    </tr>\n",
       "    <tr>\n",
       "      <th>AT1G01050</th>\n",
       "      <td>100.854</td>\n",
       "      <td>107.075</td>\n",
       "      <td>106.225</td>\n",
       "      <td>114.017</td>\n",
       "      <td>117.077</td>\n",
       "      <td>51.267</td>\n",
       "      <td>111.675</td>\n",
       "      <td>59.331</td>\n",
       "    </tr>\n",
       "    <tr>\n",
       "      <th>AT1G01060</th>\n",
       "      <td>0.304</td>\n",
       "      <td>0.100</td>\n",
       "      <td>15.112</td>\n",
       "      <td>715.292</td>\n",
       "      <td>600.107</td>\n",
       "      <td>11.611</td>\n",
       "      <td>21.152</td>\n",
       "      <td>14.058</td>\n",
       "    </tr>\n",
       "  </tbody>\n",
       "</table>\n",
       "</div>"
      ],
      "text/plain": [
       "           healthy30.1  healthy30  healthy12  healthy18.1  healthy18  \\\n",
       "Genes                                                                  \n",
       "AT1G01020        8.482      7.118      9.930        8.065      7.243   \n",
       "AT1G01030        1.577      1.776      1.944        1.458      1.841   \n",
       "AT1G01040       28.536     25.216     21.880       21.147     17.802   \n",
       "AT1G01050      100.854    107.075    106.225      114.017    117.077   \n",
       "AT1G01060        0.304      0.100     15.112      715.292    600.107   \n",
       "\n",
       "           healthy24.1  healthy12.1  healthy24  \n",
       "Genes                                           \n",
       "AT1G01020        8.547       11.852      9.254  \n",
       "AT1G01030        2.418        1.589      0.934  \n",
       "AT1G01040       13.734       23.615     15.054  \n",
       "AT1G01050       51.267      111.675     59.331  \n",
       "AT1G01060       11.611       21.152     14.058  "
      ]
     },
     "execution_count": 21,
     "metadata": {},
     "output_type": "execute_result"
    }
   ],
   "source": [
    "df_tmp.head(5)"
   ]
  },
  {
   "cell_type": "code",
   "execution_count": 22,
   "metadata": {},
   "outputs": [
    {
     "data": {
      "text/plain": [
       "healthy30.1    1.000e+06\n",
       "healthy30      1.000e+06\n",
       "healthy12      1.000e+06\n",
       "healthy18.1    1.000e+06\n",
       "healthy18      1.000e+06\n",
       "healthy24.1    1.000e+06\n",
       "healthy12.1    1.000e+06\n",
       "healthy24      1.000e+06\n",
       "dtype: float64"
      ]
     },
     "execution_count": 22,
     "metadata": {},
     "output_type": "execute_result"
    }
   ],
   "source": [
    "## chk the result with the total sum by column \n",
    "df_tmp.sum(axis = 0, skipna = True) "
   ]
  },
  {
   "cell_type": "code",
   "execution_count": 23,
   "metadata": {},
   "outputs": [],
   "source": [
    "df_tmp.to_csv(\"../results-data/matrices_de_expresion/matrix_B_\"+ general_titles.strip() +\".csv\", index=True, header=True)"
   ]
  },
  {
   "cell_type": "code",
   "execution_count": 24,
   "metadata": {},
   "outputs": [
    {
     "data": {
      "text/plain": [
       "[44.59109961651613,\n",
       " 44.591099616516516,\n",
       " 44.5910996165166,\n",
       " 44.59109961651672,\n",
       " 44.59109961651688,\n",
       " 44.591099616517035,\n",
       " 44.59109961651705,\n",
       " 44.59109961651736]"
      ]
     },
     "execution_count": 24,
     "metadata": {},
     "output_type": "execute_result"
    }
   ],
   "source": [
    "df=df_tmp.mean()\n",
    "lst_tpm = df.to_list()\n",
    "lst_tpm.sort()\n",
    "lst_tpm"
   ]
  },
  {
   "cell_type": "markdown",
   "metadata": {},
   "source": [
    "## Get some stats over the normalized array"
   ]
  },
  {
   "cell_type": "code",
   "execution_count": 25,
   "metadata": {},
   "outputs": [
    {
     "data": {
      "text/html": [
       "<div>\n",
       "<style scoped>\n",
       "    .dataframe tbody tr th:only-of-type {\n",
       "        vertical-align: middle;\n",
       "    }\n",
       "\n",
       "    .dataframe tbody tr th {\n",
       "        vertical-align: top;\n",
       "    }\n",
       "\n",
       "    .dataframe thead th {\n",
       "        text-align: right;\n",
       "    }\n",
       "</style>\n",
       "<table border=\"1\" class=\"dataframe\">\n",
       "  <thead>\n",
       "    <tr style=\"text-align: right;\">\n",
       "      <th></th>\n",
       "      <th>count</th>\n",
       "      <th>mean</th>\n",
       "      <th>std</th>\n",
       "      <th>min</th>\n",
       "      <th>25%</th>\n",
       "      <th>50%</th>\n",
       "      <th>75%</th>\n",
       "      <th>max</th>\n",
       "    </tr>\n",
       "  </thead>\n",
       "  <tbody>\n",
       "    <tr>\n",
       "      <th>healthy30.1</th>\n",
       "      <td>22426.0</td>\n",
       "      <td>44.591</td>\n",
       "      <td>287.304</td>\n",
       "      <td>0.0</td>\n",
       "      <td>0.797</td>\n",
       "      <td>8.525</td>\n",
       "      <td>27.881</td>\n",
       "      <td>14902.684</td>\n",
       "    </tr>\n",
       "    <tr>\n",
       "      <th>healthy30</th>\n",
       "      <td>22426.0</td>\n",
       "      <td>44.591</td>\n",
       "      <td>337.074</td>\n",
       "      <td>0.0</td>\n",
       "      <td>0.654</td>\n",
       "      <td>7.104</td>\n",
       "      <td>25.009</td>\n",
       "      <td>22193.965</td>\n",
       "    </tr>\n",
       "    <tr>\n",
       "      <th>healthy12</th>\n",
       "      <td>22426.0</td>\n",
       "      <td>44.591</td>\n",
       "      <td>285.706</td>\n",
       "      <td>0.0</td>\n",
       "      <td>1.482</td>\n",
       "      <td>10.199</td>\n",
       "      <td>29.627</td>\n",
       "      <td>24767.539</td>\n",
       "    </tr>\n",
       "    <tr>\n",
       "      <th>healthy18.1</th>\n",
       "      <td>22426.0</td>\n",
       "      <td>44.591</td>\n",
       "      <td>353.710</td>\n",
       "      <td>0.0</td>\n",
       "      <td>0.942</td>\n",
       "      <td>7.839</td>\n",
       "      <td>24.494</td>\n",
       "      <td>29718.510</td>\n",
       "    </tr>\n",
       "    <tr>\n",
       "      <th>healthy18</th>\n",
       "      <td>22426.0</td>\n",
       "      <td>44.591</td>\n",
       "      <td>391.117</td>\n",
       "      <td>0.0</td>\n",
       "      <td>0.997</td>\n",
       "      <td>7.393</td>\n",
       "      <td>23.217</td>\n",
       "      <td>36543.769</td>\n",
       "    </tr>\n",
       "    <tr>\n",
       "      <th>healthy24.1</th>\n",
       "      <td>22426.0</td>\n",
       "      <td>44.591</td>\n",
       "      <td>362.055</td>\n",
       "      <td>0.0</td>\n",
       "      <td>1.064</td>\n",
       "      <td>8.185</td>\n",
       "      <td>24.213</td>\n",
       "      <td>23032.323</td>\n",
       "    </tr>\n",
       "    <tr>\n",
       "      <th>healthy12.1</th>\n",
       "      <td>22426.0</td>\n",
       "      <td>44.591</td>\n",
       "      <td>274.744</td>\n",
       "      <td>0.0</td>\n",
       "      <td>1.248</td>\n",
       "      <td>10.185</td>\n",
       "      <td>30.402</td>\n",
       "      <td>23438.856</td>\n",
       "    </tr>\n",
       "  </tbody>\n",
       "</table>\n",
       "</div>"
      ],
      "text/plain": [
       "               count    mean      std  min    25%     50%     75%        max\n",
       "healthy30.1  22426.0  44.591  287.304  0.0  0.797   8.525  27.881  14902.684\n",
       "healthy30    22426.0  44.591  337.074  0.0  0.654   7.104  25.009  22193.965\n",
       "healthy12    22426.0  44.591  285.706  0.0  1.482  10.199  29.627  24767.539\n",
       "healthy18.1  22426.0  44.591  353.710  0.0  0.942   7.839  24.494  29718.510\n",
       "healthy18    22426.0  44.591  391.117  0.0  0.997   7.393  23.217  36543.769\n",
       "healthy24.1  22426.0  44.591  362.055  0.0  1.064   8.185  24.213  23032.323\n",
       "healthy12.1  22426.0  44.591  274.744  0.0  1.248  10.185  30.402  23438.856"
      ]
     },
     "execution_count": 25,
     "metadata": {},
     "output_type": "execute_result"
    }
   ],
   "source": [
    "## Gets some stats on the new filtered array of genes with common zeros\n",
    "df_plot = df_tmp.describe().T\n",
    "df_plot.drop(df_plot.tail(1).index,inplace=True) # drop last n rows / or first n rows (.head)\n",
    "df_plot "
   ]
  },
  {
   "cell_type": "code",
   "execution_count": 26,
   "metadata": {},
   "outputs": [
    {
     "data": {
      "image/png": "[encoded data removed]",
      "text/plain": [
       "<Figure size 720x504 with 1 Axes>"
      ]
     },
     "metadata": {
      "needs_background": "light"
     },
     "output_type": "display_data"
    }
   ],
   "source": [
    "# Plot and save stats for the matrix type A\n",
    "plot_intercuartile_bar(df_plot, 'Matrix B: interquartile for A.thaliana '+ general_titles,'TPM-values')\n",
    "df_plot.to_csv(\"../results-data/statistics/matrix_B_stats_\"+ general_titles.strip()+\".csv\", index=False, header=True)"
   ]
  },
  {
   "cell_type": "code",
   "execution_count": 27,
   "metadata": {},
   "outputs": [
    {
     "name": "stderr",
     "output_type": "stream",
     "text": [
      "/home/cyntsc/Proyectos/tesis-code/jn_tesis_env/lib/python3.6/site-packages/pandas/plotting/_matplotlib/core.py:1192: UserWarning: FixedFormatter should only be used together with FixedLocator\n",
      "  ax.set_xticklabels(xticklabels)\n"
     ]
    },
    {
     "data": {
      "image/png": "[encoded data removed]",
      "text/plain": [
       "<Figure size 720x504 with 1 Axes>"
      ]
     },
     "metadata": {
      "needs_background": "light"
     },
     "output_type": "display_data"
    }
   ],
   "source": [
    "plot_mean_sdev_line(df_plot,'Matrix B: mean and std.dev for A.thaliana '+ general_titles,'TPM-values')"
   ]
  },
  {
   "cell_type": "markdown",
   "metadata": {},
   "source": [
    "## Check the number of zeros by sample after normalization"
   ]
  },
  {
   "cell_type": "code",
   "execution_count": 28,
   "metadata": {},
   "outputs": [],
   "source": [
    "sr_ceros = df_tmp.isin([0]).sum()\n",
    "type(sr_ceros)\n",
    "## transform the pandas serie into a pandas df\n",
    "df_ceros = sr_ceros.to_frame()"
   ]
  },
  {
   "cell_type": "code",
   "execution_count": 29,
   "metadata": {},
   "outputs": [
    {
     "data": {
      "text/plain": [
       "healthy18      1660\n",
       "healthy12.1    1811\n",
       "healthy24      2132\n",
       "healthy12      2168\n",
       "healthy18.1    2399\n",
       "healthy30.1    2460\n",
       "healthy30      2472\n",
       "healthy24.1    2474\n",
       "dtype: int64"
      ]
     },
     "execution_count": 29,
     "metadata": {},
     "output_type": "execute_result"
    }
   ],
   "source": [
    "type(sr_ceros)\n",
    "sr_ceros.sort_values()"
   ]
  },
  {
   "cell_type": "markdown",
   "metadata": {},
   "source": [
    "## Check the number of zeros across all sample after normalization\n",
    "Zeros will be counted by gene across all samples & a new column with the zero-counter will be appended to the matrix."
   ]
  },
  {
   "cell_type": "code",
   "execution_count": 30,
   "metadata": {},
   "outputs": [
    {
     "data": {
      "text/html": [
       "<div>\n",
       "<style scoped>\n",
       "    .dataframe tbody tr th:only-of-type {\n",
       "        vertical-align: middle;\n",
       "    }\n",
       "\n",
       "    .dataframe tbody tr th {\n",
       "        vertical-align: top;\n",
       "    }\n",
       "\n",
       "    .dataframe thead th {\n",
       "        text-align: right;\n",
       "    }\n",
       "</style>\n",
       "<table border=\"1\" class=\"dataframe\">\n",
       "  <thead>\n",
       "    <tr style=\"text-align: right;\">\n",
       "      <th></th>\n",
       "      <th>healthy30.1</th>\n",
       "      <th>healthy30</th>\n",
       "      <th>healthy12</th>\n",
       "      <th>healthy18.1</th>\n",
       "      <th>healthy18</th>\n",
       "      <th>healthy24.1</th>\n",
       "      <th>healthy12.1</th>\n",
       "      <th>healthy24</th>\n",
       "      <th>zero-counter</th>\n",
       "    </tr>\n",
       "    <tr>\n",
       "      <th>Genes</th>\n",
       "      <th></th>\n",
       "      <th></th>\n",
       "      <th></th>\n",
       "      <th></th>\n",
       "      <th></th>\n",
       "      <th></th>\n",
       "      <th></th>\n",
       "      <th></th>\n",
       "      <th></th>\n",
       "    </tr>\n",
       "  </thead>\n",
       "  <tbody>\n",
       "    <tr>\n",
       "      <th>AT1G01020</th>\n",
       "      <td>8.482</td>\n",
       "      <td>7.118</td>\n",
       "      <td>9.930</td>\n",
       "      <td>8.065</td>\n",
       "      <td>7.243</td>\n",
       "      <td>8.547</td>\n",
       "      <td>11.852</td>\n",
       "      <td>9.254</td>\n",
       "      <td>0</td>\n",
       "    </tr>\n",
       "    <tr>\n",
       "      <th>AT1G01030</th>\n",
       "      <td>1.577</td>\n",
       "      <td>1.776</td>\n",
       "      <td>1.944</td>\n",
       "      <td>1.458</td>\n",
       "      <td>1.841</td>\n",
       "      <td>2.418</td>\n",
       "      <td>1.589</td>\n",
       "      <td>0.934</td>\n",
       "      <td>0</td>\n",
       "    </tr>\n",
       "    <tr>\n",
       "      <th>AT1G01040</th>\n",
       "      <td>28.536</td>\n",
       "      <td>25.216</td>\n",
       "      <td>21.880</td>\n",
       "      <td>21.147</td>\n",
       "      <td>17.802</td>\n",
       "      <td>13.734</td>\n",
       "      <td>23.615</td>\n",
       "      <td>15.054</td>\n",
       "      <td>0</td>\n",
       "    </tr>\n",
       "  </tbody>\n",
       "</table>\n",
       "</div>"
      ],
      "text/plain": [
       "           healthy30.1  healthy30  healthy12  healthy18.1  healthy18  \\\n",
       "Genes                                                                  \n",
       "AT1G01020        8.482      7.118      9.930        8.065      7.243   \n",
       "AT1G01030        1.577      1.776      1.944        1.458      1.841   \n",
       "AT1G01040       28.536     25.216     21.880       21.147     17.802   \n",
       "\n",
       "           healthy24.1  healthy12.1  healthy24  zero-counter  \n",
       "Genes                                                         \n",
       "AT1G01020        8.547       11.852      9.254             0  \n",
       "AT1G01030        2.418        1.589      0.934             0  \n",
       "AT1G01040       13.734       23.615     15.054             0  "
      ]
     },
     "execution_count": 30,
     "metadata": {},
     "output_type": "execute_result"
    }
   ],
   "source": [
    "s_zeros =(df_tmp == 0.000).astype(int).sum(axis=1)\n",
    "## Added a column to df1 with the counter of zeros\n",
    "df_tmp['zero-counter'] = s_zeros\n",
    "df_tmp.head(3)"
   ]
  },
  {
   "cell_type": "markdown",
   "metadata": {},
   "source": [
    "**If you want to check the remaining zeros**"
   ]
  },
  {
   "cell_type": "code",
   "execution_count": 31,
   "metadata": {},
   "outputs": [
    {
     "data": {
      "text/plain": [
       "8"
      ]
     },
     "execution_count": 31,
     "metadata": {},
     "output_type": "execute_result"
    }
   ],
   "source": [
    "(len(df_tmp.columns)-1)"
   ]
  },
  {
   "cell_type": "code",
   "execution_count": 32,
   "metadata": {},
   "outputs": [
    {
     "data": {
      "text/html": [
       "<div>\n",
       "<style scoped>\n",
       "    .dataframe tbody tr th:only-of-type {\n",
       "        vertical-align: middle;\n",
       "    }\n",
       "\n",
       "    .dataframe tbody tr th {\n",
       "        vertical-align: top;\n",
       "    }\n",
       "\n",
       "    .dataframe thead th {\n",
       "        text-align: right;\n",
       "    }\n",
       "</style>\n",
       "<table border=\"1\" class=\"dataframe\">\n",
       "  <thead>\n",
       "    <tr style=\"text-align: right;\">\n",
       "      <th></th>\n",
       "      <th>healthy30.1</th>\n",
       "      <th>healthy30</th>\n",
       "      <th>healthy12</th>\n",
       "      <th>healthy18.1</th>\n",
       "      <th>healthy18</th>\n",
       "      <th>healthy24.1</th>\n",
       "      <th>healthy12.1</th>\n",
       "      <th>healthy24</th>\n",
       "      <th>zero-counter</th>\n",
       "    </tr>\n",
       "    <tr>\n",
       "      <th>Genes</th>\n",
       "      <th></th>\n",
       "      <th></th>\n",
       "      <th></th>\n",
       "      <th></th>\n",
       "      <th></th>\n",
       "      <th></th>\n",
       "      <th></th>\n",
       "      <th></th>\n",
       "      <th></th>\n",
       "    </tr>\n",
       "  </thead>\n",
       "  <tbody>\n",
       "  </tbody>\n",
       "</table>\n",
       "</div>"
      ],
      "text/plain": [
       "Empty DataFrame\n",
       "Columns: [healthy30.1, healthy30, healthy12, healthy18.1, healthy18, healthy24.1, healthy12.1, healthy24, zero-counter]\n",
       "Index: []"
      ]
     },
     "execution_count": 32,
     "metadata": {},
     "output_type": "execute_result"
    }
   ],
   "source": [
    "## Filter is looking for genes with 8 zeros across all samples in the healthy df (we have 8 samples for control)\n",
    "##                   and genes with 17 zeros across all samples in the infected df (we have 17 samples infected)\n",
    "is_zero = (df_tmp['zero-counter']>=(len(df_tmp.columns)-1))     \n",
    "df_zero = df_tmp[is_zero]\n",
    "df_zero.head(7)"
   ]
  },
  {
   "cell_type": "code",
   "execution_count": 33,
   "metadata": {},
   "outputs": [
    {
     "data": {
      "text/plain": [
       "healthy30.1    0\n",
       "healthy30      0\n",
       "healthy12      0\n",
       "healthy18.1    0\n",
       "healthy18      0\n",
       "dtype: int64"
      ]
     },
     "execution_count": 33,
     "metadata": {},
     "output_type": "execute_result"
    }
   ],
   "source": [
    "## Here, we count how many genes are not expressed in all the samples\n",
    "df_zero.isin([0]).sum().head()"
   ]
  },
  {
   "cell_type": "markdown",
   "metadata": {},
   "source": [
    "## Now explore the distributions with the normalized data\n",
    "Plot all the sample in one plot (histogram and KDE)"
   ]
  },
  {
   "cell_type": "code",
   "execution_count": 34,
   "metadata": {},
   "outputs": [
    {
     "data": {
      "text/html": [
       "<div>\n",
       "<style scoped>\n",
       "    .dataframe tbody tr th:only-of-type {\n",
       "        vertical-align: middle;\n",
       "    }\n",
       "\n",
       "    .dataframe tbody tr th {\n",
       "        vertical-align: top;\n",
       "    }\n",
       "\n",
       "    .dataframe thead th {\n",
       "        text-align: right;\n",
       "    }\n",
       "</style>\n",
       "<table border=\"1\" class=\"dataframe\">\n",
       "  <thead>\n",
       "    <tr style=\"text-align: right;\">\n",
       "      <th></th>\n",
       "      <th>healthy30.1</th>\n",
       "      <th>healthy30</th>\n",
       "      <th>healthy12</th>\n",
       "      <th>healthy18.1</th>\n",
       "      <th>healthy18</th>\n",
       "      <th>healthy24.1</th>\n",
       "      <th>healthy12.1</th>\n",
       "      <th>healthy24</th>\n",
       "    </tr>\n",
       "  </thead>\n",
       "  <tbody>\n",
       "    <tr>\n",
       "      <th>0</th>\n",
       "      <td>8.482</td>\n",
       "      <td>7.118</td>\n",
       "      <td>9.930</td>\n",
       "      <td>8.065</td>\n",
       "      <td>7.243</td>\n",
       "      <td>8.547</td>\n",
       "      <td>11.852</td>\n",
       "      <td>9.254</td>\n",
       "    </tr>\n",
       "    <tr>\n",
       "      <th>1</th>\n",
       "      <td>1.577</td>\n",
       "      <td>1.776</td>\n",
       "      <td>1.944</td>\n",
       "      <td>1.458</td>\n",
       "      <td>1.841</td>\n",
       "      <td>2.418</td>\n",
       "      <td>1.589</td>\n",
       "      <td>0.934</td>\n",
       "    </tr>\n",
       "    <tr>\n",
       "      <th>2</th>\n",
       "      <td>28.536</td>\n",
       "      <td>25.216</td>\n",
       "      <td>21.880</td>\n",
       "      <td>21.147</td>\n",
       "      <td>17.802</td>\n",
       "      <td>13.734</td>\n",
       "      <td>23.615</td>\n",
       "      <td>15.054</td>\n",
       "    </tr>\n",
       "  </tbody>\n",
       "</table>\n",
       "</div>"
      ],
      "text/plain": [
       "   healthy30.1  healthy30  healthy12  healthy18.1  healthy18  healthy24.1  \\\n",
       "0        8.482      7.118      9.930        8.065      7.243        8.547   \n",
       "1        1.577      1.776      1.944        1.458      1.841        2.418   \n",
       "2       28.536     25.216     21.880       21.147     17.802       13.734   \n",
       "\n",
       "   healthy12.1  healthy24  \n",
       "0       11.852      9.254  \n",
       "1        1.589      0.934  \n",
       "2       23.615     15.054  "
      ]
     },
     "execution_count": 34,
     "metadata": {},
     "output_type": "execute_result"
    }
   ],
   "source": [
    "# Method one: \n",
    "# prepar array from the current df \n",
    "#                (Both methods are equivalent)\n",
    "\n",
    "df_tmp.reset_index(level=0, inplace=True)\n",
    "df_plot = df_tmp.drop(['Genes','zero-counter'], axis=1)\n",
    "df_plot.head(3)"
   ]
  },
  {
   "cell_type": "code",
   "execution_count": 231,
   "metadata": {},
   "outputs": [
    {
     "data": {
      "text/html": [
       "<div>\n",
       "<style scoped>\n",
       "    .dataframe tbody tr th:only-of-type {\n",
       "        vertical-align: middle;\n",
       "    }\n",
       "\n",
       "    .dataframe tbody tr th {\n",
       "        vertical-align: top;\n",
       "    }\n",
       "\n",
       "    .dataframe thead th {\n",
       "        text-align: right;\n",
       "    }\n",
       "</style>\n",
       "<table border=\"1\" class=\"dataframe\">\n",
       "  <thead>\n",
       "    <tr style=\"text-align: right;\">\n",
       "      <th></th>\n",
       "      <th>Ss30.1</th>\n",
       "      <th>Bc12</th>\n",
       "      <th>Ch40.2</th>\n",
       "      <th>Ch22.2</th>\n",
       "      <th>Ch22.1</th>\n",
       "      <th>Ch22</th>\n",
       "      <th>Ss30.2</th>\n",
       "      <th>Ch22.3</th>\n",
       "      <th>Bc12.1</th>\n",
       "      <th>Bc24.1</th>\n",
       "      <th>Bc18.1</th>\n",
       "      <th>Ch40.3</th>\n",
       "      <th>Ch40.1</th>\n",
       "      <th>Bc18</th>\n",
       "      <th>Bc24</th>\n",
       "      <th>Ss30</th>\n",
       "      <th>Ch40</th>\n",
       "    </tr>\n",
       "  </thead>\n",
       "  <tbody>\n",
       "    <tr>\n",
       "      <th>0</th>\n",
       "      <td>5.249</td>\n",
       "      <td>10.935</td>\n",
       "      <td>12.218</td>\n",
       "      <td>18.318</td>\n",
       "      <td>15.704</td>\n",
       "      <td>17.520</td>\n",
       "      <td>4.363</td>\n",
       "      <td>20.077</td>\n",
       "      <td>10.350</td>\n",
       "      <td>7.144</td>\n",
       "      <td>11.981</td>\n",
       "      <td>10.415</td>\n",
       "      <td>13.103</td>\n",
       "      <td>12.592</td>\n",
       "      <td>7.542</td>\n",
       "      <td>4.991</td>\n",
       "      <td>13.514</td>\n",
       "    </tr>\n",
       "    <tr>\n",
       "      <th>1</th>\n",
       "      <td>7.045</td>\n",
       "      <td>0.757</td>\n",
       "      <td>1.616</td>\n",
       "      <td>1.619</td>\n",
       "      <td>1.277</td>\n",
       "      <td>1.295</td>\n",
       "      <td>7.657</td>\n",
       "      <td>1.149</td>\n",
       "      <td>2.041</td>\n",
       "      <td>4.898</td>\n",
       "      <td>3.086</td>\n",
       "      <td>1.775</td>\n",
       "      <td>1.213</td>\n",
       "      <td>2.682</td>\n",
       "      <td>4.282</td>\n",
       "      <td>5.015</td>\n",
       "      <td>2.250</td>\n",
       "    </tr>\n",
       "    <tr>\n",
       "      <th>2</th>\n",
       "      <td>1.733</td>\n",
       "      <td>18.994</td>\n",
       "      <td>14.523</td>\n",
       "      <td>24.521</td>\n",
       "      <td>20.855</td>\n",
       "      <td>19.745</td>\n",
       "      <td>2.820</td>\n",
       "      <td>25.295</td>\n",
       "      <td>19.389</td>\n",
       "      <td>13.905</td>\n",
       "      <td>20.775</td>\n",
       "      <td>14.089</td>\n",
       "      <td>15.131</td>\n",
       "      <td>21.154</td>\n",
       "      <td>13.476</td>\n",
       "      <td>2.517</td>\n",
       "      <td>15.953</td>\n",
       "    </tr>\n",
       "  </tbody>\n",
       "</table>\n",
       "</div>"
      ],
      "text/plain": [
       "   Ss30.1    Bc12  Ch40.2  Ch22.2  Ch22.1    Ch22  Ss30.2  Ch22.3  Bc12.1  \\\n",
       "0   5.249  10.935  12.218  18.318  15.704  17.520   4.363  20.077  10.350   \n",
       "1   7.045   0.757   1.616   1.619   1.277   1.295   7.657   1.149   2.041   \n",
       "2   1.733  18.994  14.523  24.521  20.855  19.745   2.820  25.295  19.389   \n",
       "\n",
       "   Bc24.1  Bc18.1  Ch40.3  Ch40.1    Bc18    Bc24   Ss30    Ch40  \n",
       "0   7.144  11.981  10.415  13.103  12.592   7.542  4.991  13.514  \n",
       "1   4.898   3.086   1.775   1.213   2.682   4.282  5.015   2.250  \n",
       "2  13.905  20.775  14.089  15.131  21.154  13.476  2.517  15.953  "
      ]
     },
     "execution_count": 231,
     "metadata": {},
     "output_type": "execute_result"
    }
   ],
   "source": [
    "# Method two: \n",
    "# load the created one \n",
    "df_plot = pd.read_csv(\"matrices_de_expresion/matrix_B_\" + general_titles.strip() + \".csv\", sep=',')  \n",
    "df_plot.drop(['Genes'], axis=1, inplace = True)\n",
    "df_plot.head(3)"
   ]
  },
  {
   "cell_type": "code",
   "execution_count": 35,
   "metadata": {},
   "outputs": [
    {
     "data": {
      "text/plain": [
       "(22426, 8)"
      ]
     },
     "execution_count": 35,
     "metadata": {},
     "output_type": "execute_result"
    }
   ],
   "source": [
    "df_plot.shape"
   ]
  },
  {
   "cell_type": "code",
   "execution_count": 36,
   "metadata": {},
   "outputs": [
    {
     "name": "stdout",
     "output_type": "stream",
     "text": [
      "Index(['healthy30.1', 'healthy30', 'healthy12', 'healthy18.1', 'healthy18',\n",
      "       'healthy24.1', 'healthy12.1', 'healthy24'],\n",
      "      dtype='object')\n"
     ]
    }
   ],
   "source": [
    "## Get sample list names\n",
    "sample_lst=df_plot.columns\n",
    "print(sample_lst)"
   ]
  },
  {
   "cell_type": "code",
   "execution_count": 37,
   "metadata": {},
   "outputs": [
    {
     "data": {
      "image/png": "[encoded data removed]",
      "text/plain": [
       "<Figure size 800x560 with 1 Axes>"
      ]
     },
     "metadata": {
      "needs_background": "light"
     },
     "output_type": "display_data"
    }
   ],
   "source": [
    "plot_KDE(df_plot, sample_lst, general_titles.strip(), 'TPM values')"
   ]
  },
  {
   "cell_type": "code",
   "execution_count": null,
   "metadata": {},
   "outputs": [],
   "source": []
  }
 ],
 "metadata": {
  "kernelspec": {
   "display_name": "Python 3 (ipykernel)",
   "language": "python",
   "name": "python3"
  },
  "language_info": {
   "codemirror_mode": {
    "name": "ipython",
    "version": 3
   },
   "file_extension": ".py",
   "mimetype": "text/x-python",
   "name": "python",
   "nbconvert_exporter": "python",
   "pygments_lexer": "ipython3",
   "version": "3.8.10"
  }
 },
 "nbformat": 4,
 "nbformat_minor": 4
}
